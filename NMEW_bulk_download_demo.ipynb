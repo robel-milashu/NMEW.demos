{
 "cells": [
  {
   "cell_type": "code",
   "execution_count": 16,
   "metadata": {
    "slideshow": {
     "slide_type": "slide"
    }
   },
   "outputs": [],
   "source": [
    "import os\n",
    "import requests\n",
    "import time \n",
    "\n",
    "from tqdm import tqdm"
   ]
  },
  {
   "cell_type": "code",
   "execution_count": 69,
   "metadata": {
    "slideshow": {
     "slide_type": "slide"
    }
   },
   "outputs": [],
   "source": [
    "# setting download parameters\n",
    "sba = 'NW' # Other subareas (Table 3)\n",
    "var = 'CHL' # variable name \n",
    "comp = 'month' # monthly composite | here can be 'day', 'month' or 'year' \n",
    "init = 'A' # Initial character of the sensor name, MODIS-Aqua (A) and SGLI-GCOMC (GS) \n",
    "ys = 2002 # start year\n",
    "ms = 1 # start month\n",
    "ds = 1 # start day of month\n",
    "ye = 2025 # end year + 1, if end is 1997 then use yend = 1997 + 1 \n",
    "me = 13 # end month + 1, if end is 12 (Dec) then use 13, if 1 then use 2\n",
    "de = 30 # end day\n",
    "file_ext = ('nc', 'png') # file extension (type) to download, ('nc', 'png') or ('nc',) or ('png',) \n",
    "url = 'https://ocean.nowpap3.go.jp/image_search/{filetype}/{subarea}/{year}/{filename}'"
   ]
  },
  {
   "cell_type": "code",
   "execution_count": 70,
   "metadata": {
    "slideshow": {
     "slide_type": "slide"
    }
   },
   "outputs": [],
   "source": [
    "# Day month fetching file generator\n",
    "def daymonth_filegen(filetype:tuple=file_ext):\n",
    "    # Define the netCDF (PNG) file name\n",
    "    for month in range(ms, me):\n",
    "        if comp == 'day':\n",
    "            for day in range(ds, de):\n",
    "                files = [f'{init}{year}{month:02}{day:02}_{var}_{sba}_{comp}.{ext}' \n",
    "                         for ext in filetype]\n",
    "                \n",
    "                yield from [url.format(filetype='netcdf', subarea=sba, year=year, filename=f) \n",
    "                            if f.endswith('.nc') else \n",
    "                            url.format(filetype='images', subarea=sba, year=year, filename=f)\n",
    "                            for f in files]\n",
    "                            \n",
    "        if comp == 'month':\n",
    "            files = [f'{init}{year}{month:02}_{var}_{sba}_{comp}.{ext}'\n",
    "                     for ext in filetype]\n",
    "            \n",
    "            yield from [url.format(filetype='netcdf', subarea=sba, year=year, filename=f) \n",
    "                        if f.endswith('.nc') else \n",
    "                        url.format(filetype='images', subarea=sba, year=year, filename=f)\n",
    "                        for f in files]"
   ]
  },
  {
   "cell_type": "code",
   "execution_count": 71,
   "metadata": {
    "slideshow": {
     "slide_type": "slide"
    }
   },
   "outputs": [],
   "source": [
    "# Function to download the data\n",
    "def get_file(query_url:str):\n",
    "    getfile =  \"results/Modis/chla/\"+os.path.basename(query_url)\n",
    "    with requests.get(query) as r:\n",
    "        if r.status_code != 200:\n",
    "            print(f'{os.path.basename(query_url)}: FileNotFound')\n",
    "            return\n",
    "        total = int(r.headers.get('content-length'))                \n",
    "        print('File: {} '.format(getfile), end='')\n",
    "        with tqdm(total=total) as bar, open(getfile, \"wb\") as handle:\n",
    "            for chunk in r.iter_content(chunk_size=max(int(total / 1000), 1024 * 1024)):\n",
    "                # download progress check tqdm\n",
    "                if chunk: \n",
    "                    handle.write(chunk)\n",
    "                    time.sleep(0.1)\n",
    "                    bar.update(len(chunk))"
   ]
  },
  {
   "cell_type": "code",
   "execution_count": 72,
   "metadata": {
    "slideshow": {
     "slide_type": "slide"
    }
   },
   "outputs": [
    {
     "name": "stdout",
     "output_type": "stream",
     "text": [
      "2002...\n",
      "A200201_CHL_NW_month.nc: FileNotFound\n",
      "A200201_CHL_NW_month.png: FileNotFound\n",
      "A200202_CHL_NW_month.nc: FileNotFound\n",
      "A200202_CHL_NW_month.png: FileNotFound\n",
      "A200203_CHL_NW_month.nc: FileNotFound\n",
      "A200203_CHL_NW_month.png: FileNotFound\n",
      "A200204_CHL_NW_month.nc: FileNotFound\n",
      "A200204_CHL_NW_month.png: FileNotFound\n",
      "A200205_CHL_NW_month.nc: FileNotFound\n",
      "A200205_CHL_NW_month.png: FileNotFound\n",
      "A200206_CHL_NW_month.nc: FileNotFound\n",
      "A200206_CHL_NW_month.png: FileNotFound\n",
      "File: results/Modis/chla/A200207_CHL_NW_month.nc "
     ]
    },
    {
     "name": "stderr",
     "output_type": "stream",
     "text": [
      "100%|███████████████████████████████████████████████████| 6470126/6470126 [00:00<00:00, 8897128.83it/s]\n"
     ]
    },
    {
     "name": "stdout",
     "output_type": "stream",
     "text": [
      "File: results/Modis/chla/A200207_CHL_NW_month.png "
     ]
    },
    {
     "name": "stderr",
     "output_type": "stream",
     "text": [
      "100%|███████████████████████████████████████████████████| 2503548/2503548 [00:00<00:00, 8166119.36it/s]\n"
     ]
    },
    {
     "name": "stdout",
     "output_type": "stream",
     "text": [
      "File: results/Modis/chla/A200208_CHL_NW_month.nc "
     ]
    },
    {
     "name": "stderr",
     "output_type": "stream",
     "text": [
      "100%|███████████████████████████████████████████████████| 7846999/7846999 [00:00<00:00, 9454613.05it/s]\n"
     ]
    },
    {
     "name": "stdout",
     "output_type": "stream",
     "text": [
      "File: results/Modis/chla/A200208_CHL_NW_month.png "
     ]
    },
    {
     "name": "stderr",
     "output_type": "stream",
     "text": [
      "100%|███████████████████████████████████████████████████| 3062200/3062200 [00:00<00:00, 9825298.87it/s]\n"
     ]
    },
    {
     "name": "stdout",
     "output_type": "stream",
     "text": [
      "File: results/Modis/chla/A200209_CHL_NW_month.nc "
     ]
    },
    {
     "name": "stderr",
     "output_type": "stream",
     "text": [
      "100%|███████████████████████████████████████████████████| 8193582/8193582 [00:00<00:00, 9833635.72it/s]\n"
     ]
    },
    {
     "name": "stdout",
     "output_type": "stream",
     "text": [
      "File: results/Modis/chla/A200209_CHL_NW_month.png "
     ]
    },
    {
     "name": "stderr",
     "output_type": "stream",
     "text": [
      "100%|███████████████████████████████████████████████████| 2883455/2883455 [00:00<00:00, 9297479.41it/s]\n"
     ]
    },
    {
     "name": "stdout",
     "output_type": "stream",
     "text": [
      "File: results/Modis/chla/A200210_CHL_NW_month.nc "
     ]
    },
    {
     "name": "stderr",
     "output_type": "stream",
     "text": [
      "100%|██████████████████████████████████████████████████| 8221191/8221191 [00:00<00:00, 10022932.20it/s]\n"
     ]
    },
    {
     "name": "stdout",
     "output_type": "stream",
     "text": [
      "File: results/Modis/chla/A200210_CHL_NW_month.png "
     ]
    },
    {
     "name": "stderr",
     "output_type": "stream",
     "text": [
      "100%|███████████████████████████████████████████████████| 3433945/3433945 [00:00<00:00, 8462074.47it/s]\n"
     ]
    },
    {
     "name": "stdout",
     "output_type": "stream",
     "text": [
      "File: results/Modis/chla/A200211_CHL_NW_month.nc "
     ]
    },
    {
     "name": "stderr",
     "output_type": "stream",
     "text": [
      "100%|███████████████████████████████████████████████████| 7443439/7443439 [00:00<00:00, 9057574.40it/s]\n"
     ]
    },
    {
     "name": "stdout",
     "output_type": "stream",
     "text": [
      "File: results/Modis/chla/A200211_CHL_NW_month.png "
     ]
    },
    {
     "name": "stderr",
     "output_type": "stream",
     "text": [
      "100%|███████████████████████████████████████████████████| 3812081/3812081 [00:00<00:00, 9079154.48it/s]\n"
     ]
    },
    {
     "name": "stdout",
     "output_type": "stream",
     "text": [
      "File: results/Modis/chla/A200212_CHL_NW_month.nc "
     ]
    },
    {
     "name": "stderr",
     "output_type": "stream",
     "text": [
      "100%|███████████████████████████████████████████████████| 6792345/6792345 [00:00<00:00, 9363056.67it/s]\n"
     ]
    },
    {
     "name": "stdout",
     "output_type": "stream",
     "text": [
      "File: results/Modis/chla/A200212_CHL_NW_month.png "
     ]
    },
    {
     "name": "stderr",
     "output_type": "stream",
     "text": [
      "100%|███████████████████████████████████████████████████| 3513452/3513452 [00:00<00:00, 8489169.85it/s]\n"
     ]
    },
    {
     "name": "stdout",
     "output_type": "stream",
     "text": [
      "2003...\n",
      "File: results/Modis/chla/A200301_CHL_NW_month.nc "
     ]
    },
    {
     "name": "stderr",
     "output_type": "stream",
     "text": [
      "100%|███████████████████████████████████████████████████| 6875829/6875829 [00:00<00:00, 9592903.04it/s]\n"
     ]
    },
    {
     "name": "stdout",
     "output_type": "stream",
     "text": [
      "File: results/Modis/chla/A200301_CHL_NW_month.png "
     ]
    },
    {
     "name": "stderr",
     "output_type": "stream",
     "text": [
      "100%|███████████████████████████████████████████████████| 3409437/3409437 [00:00<00:00, 8278874.16it/s]\n"
     ]
    },
    {
     "name": "stdout",
     "output_type": "stream",
     "text": [
      "File: results/Modis/chla/A200302_CHL_NW_month.nc "
     ]
    },
    {
     "name": "stderr",
     "output_type": "stream",
     "text": [
      "100%|███████████████████████████████████████████████████| 7612495/7612495 [00:00<00:00, 9209514.08it/s]\n"
     ]
    },
    {
     "name": "stdout",
     "output_type": "stream",
     "text": [
      "File: results/Modis/chla/A200302_CHL_NW_month.png "
     ]
    },
    {
     "name": "stderr",
     "output_type": "stream",
     "text": [
      "100%|███████████████████████████████████████████████████| 3287874/3287874 [00:00<00:00, 7943164.91it/s]\n"
     ]
    },
    {
     "name": "stdout",
     "output_type": "stream",
     "text": [
      "File: results/Modis/chla/A200303_CHL_NW_month.nc "
     ]
    },
    {
     "name": "stderr",
     "output_type": "stream",
     "text": [
      "100%|███████████████████████████████████████████████████| 7518494/7518494 [00:00<00:00, 9167355.24it/s]\n"
     ]
    },
    {
     "name": "stdout",
     "output_type": "stream",
     "text": [
      "File: results/Modis/chla/A200303_CHL_NW_month.png "
     ]
    },
    {
     "name": "stderr",
     "output_type": "stream",
     "text": [
      "100%|███████████████████████████████████████████████████| 3394856/3394856 [00:00<00:00, 8208146.84it/s]\n"
     ]
    },
    {
     "name": "stdout",
     "output_type": "stream",
     "text": [
      "File: results/Modis/chla/A200304_CHL_NW_month.nc "
     ]
    },
    {
     "name": "stderr",
     "output_type": "stream",
     "text": [
      "100%|██████████████████████████████████████████████████| 7248239/7248239 [00:00<00:00, 10035601.02it/s]\n"
     ]
    },
    {
     "name": "stdout",
     "output_type": "stream",
     "text": [
      "File: results/Modis/chla/A200304_CHL_NW_month.png "
     ]
    },
    {
     "name": "stderr",
     "output_type": "stream",
     "text": [
      "100%|███████████████████████████████████████████████████| 3488006/3488006 [00:00<00:00, 8465844.13it/s]\n"
     ]
    },
    {
     "name": "stdout",
     "output_type": "stream",
     "text": [
      "File: results/Modis/chla/A200305_CHL_NW_month.nc "
     ]
    },
    {
     "name": "stderr",
     "output_type": "stream",
     "text": [
      "100%|██████████████████████████████████████████████████| 6250741/6250741 [00:00<00:00, 10242098.24it/s]\n"
     ]
    },
    {
     "name": "stdout",
     "output_type": "stream",
     "text": [
      "File: results/Modis/chla/A200305_CHL_NW_month.png "
     ]
    },
    {
     "name": "stderr",
     "output_type": "stream",
     "text": [
      "100%|███████████████████████████████████████████████████| 2883248/2883248 [00:00<00:00, 9443909.30it/s]\n"
     ]
    },
    {
     "name": "stdout",
     "output_type": "stream",
     "text": [
      "File: results/Modis/chla/A200306_CHL_NW_month.nc "
     ]
    },
    {
     "name": "stderr",
     "output_type": "stream",
     "text": [
      "100%|███████████████████████████████████████████████████| 6112399/6112399 [00:00<00:00, 9888670.97it/s]\n"
     ]
    },
    {
     "name": "stdout",
     "output_type": "stream",
     "text": [
      "File: results/Modis/chla/A200306_CHL_NW_month.png "
     ]
    },
    {
     "name": "stderr",
     "output_type": "stream",
     "text": [
      "100%|███████████████████████████████████████████████████| 2628318/2628318 [00:00<00:00, 8412145.07it/s]\n"
     ]
    },
    {
     "name": "stdout",
     "output_type": "stream",
     "text": [
      "File: results/Modis/chla/A200307_CHL_NW_month.nc "
     ]
    },
    {
     "name": "stderr",
     "output_type": "stream",
     "text": [
      "100%|███████████████████████████████████████████████████| 6524920/6524920 [00:00<00:00, 8964373.77it/s]\n"
     ]
    },
    {
     "name": "stdout",
     "output_type": "stream",
     "text": [
      "File: results/Modis/chla/A200307_CHL_NW_month.png "
     ]
    },
    {
     "name": "stderr",
     "output_type": "stream",
     "text": [
      "100%|███████████████████████████████████████████████████| 2865836/2865836 [00:00<00:00, 9118394.97it/s]\n"
     ]
    },
    {
     "name": "stdout",
     "output_type": "stream",
     "text": [
      "File: results/Modis/chla/A200308_CHL_NW_month.nc "
     ]
    },
    {
     "name": "stderr",
     "output_type": "stream",
     "text": [
      "100%|███████████████████████████████████████████████████| 8080338/8080338 [00:00<00:00, 9804580.10it/s]\n"
     ]
    },
    {
     "name": "stdout",
     "output_type": "stream",
     "text": [
      "File: results/Modis/chla/A200308_CHL_NW_month.png "
     ]
    },
    {
     "name": "stderr",
     "output_type": "stream",
     "text": [
      "100%|███████████████████████████████████████████████████| 3059486/3059486 [00:00<00:00, 9764861.31it/s]\n"
     ]
    },
    {
     "name": "stdout",
     "output_type": "stream",
     "text": [
      "File: results/Modis/chla/A200309_CHL_NW_month.nc "
     ]
    },
    {
     "name": "stderr",
     "output_type": "stream",
     "text": [
      "100%|██████████████████████████████████████████████████| 8344523/8344523 [00:00<00:00, 10103675.74it/s]\n"
     ]
    },
    {
     "name": "stdout",
     "output_type": "stream",
     "text": [
      "File: results/Modis/chla/A200309_CHL_NW_month.png "
     ]
    },
    {
     "name": "stderr",
     "output_type": "stream",
     "text": [
      "100%|███████████████████████████████████████████████████| 3080521/3080521 [00:00<00:00, 9792756.72it/s]\n"
     ]
    },
    {
     "name": "stdout",
     "output_type": "stream",
     "text": [
      "File: results/Modis/chla/A200310_CHL_NW_month.nc "
     ]
    },
    {
     "name": "stderr",
     "output_type": "stream",
     "text": [
      "100%|███████████████████████████████████████████████████| 8412249/8412249 [00:00<00:00, 9069810.15it/s]\n"
     ]
    },
    {
     "name": "stdout",
     "output_type": "stream",
     "text": [
      "File: results/Modis/chla/A200310_CHL_NW_month.png "
     ]
    },
    {
     "name": "stderr",
     "output_type": "stream",
     "text": [
      "100%|███████████████████████████████████████████████████| 3181279/3181279 [00:00<00:00, 7785605.64it/s]\n"
     ]
    },
    {
     "name": "stdout",
     "output_type": "stream",
     "text": [
      "File: results/Modis/chla/A200311_CHL_NW_month.nc "
     ]
    },
    {
     "name": "stderr",
     "output_type": "stream",
     "text": [
      "100%|███████████████████████████████████████████████████| 8030177/8030177 [00:00<00:00, 9755902.18it/s]\n"
     ]
    },
    {
     "name": "stdout",
     "output_type": "stream",
     "text": [
      "File: results/Modis/chla/A200311_CHL_NW_month.png "
     ]
    },
    {
     "name": "stderr",
     "output_type": "stream",
     "text": [
      "100%|███████████████████████████████████████████████████| 3827853/3827853 [00:00<00:00, 9372616.24it/s]\n"
     ]
    },
    {
     "name": "stdout",
     "output_type": "stream",
     "text": [
      "File: results/Modis/chla/A200312_CHL_NW_month.nc "
     ]
    },
    {
     "name": "stderr",
     "output_type": "stream",
     "text": [
      "100%|███████████████████████████████████████████████████| 7443402/7443402 [00:00<00:00, 9106086.80it/s]\n"
     ]
    },
    {
     "name": "stdout",
     "output_type": "stream",
     "text": [
      "File: results/Modis/chla/A200312_CHL_NW_month.png "
     ]
    },
    {
     "name": "stderr",
     "output_type": "stream",
     "text": [
      "100%|███████████████████████████████████████████████████| 3718990/3718990 [00:00<00:00, 9051640.63it/s]\n"
     ]
    },
    {
     "name": "stdout",
     "output_type": "stream",
     "text": [
      "2004...\n",
      "File: results/Modis/chla/A200401_CHL_NW_month.nc "
     ]
    },
    {
     "name": "stderr",
     "output_type": "stream",
     "text": [
      "100%|███████████████████████████████████████████████████| 7132493/7132493 [00:00<00:00, 9917152.40it/s]\n"
     ]
    },
    {
     "name": "stdout",
     "output_type": "stream",
     "text": [
      "File: results/Modis/chla/A200401_CHL_NW_month.png "
     ]
    },
    {
     "name": "stderr",
     "output_type": "stream",
     "text": [
      "100%|███████████████████████████████████████████████████| 3494158/3494158 [00:00<00:00, 8513408.83it/s]\n"
     ]
    },
    {
     "name": "stdout",
     "output_type": "stream",
     "text": [
      "File: results/Modis/chla/A200402_CHL_NW_month.nc "
     ]
    },
    {
     "name": "stderr",
     "output_type": "stream",
     "text": [
      "100%|███████████████████████████████████████████████████| 7745063/7745063 [00:00<00:00, 9361458.04it/s]\n"
     ]
    },
    {
     "name": "stdout",
     "output_type": "stream",
     "text": [
      "File: results/Modis/chla/A200402_CHL_NW_month.png "
     ]
    },
    {
     "name": "stderr",
     "output_type": "stream",
     "text": [
      "100%|███████████████████████████████████████████████████| 3223113/3223113 [00:00<00:00, 7936303.79it/s]\n"
     ]
    },
    {
     "name": "stdout",
     "output_type": "stream",
     "text": [
      "File: results/Modis/chla/A200403_CHL_NW_month.nc "
     ]
    },
    {
     "name": "stderr",
     "output_type": "stream",
     "text": [
      "100%|███████████████████████████████████████████████████| 7878533/7878533 [00:00<00:00, 9600941.61it/s]\n"
     ]
    },
    {
     "name": "stdout",
     "output_type": "stream",
     "text": [
      "File: results/Modis/chla/A200403_CHL_NW_month.png "
     ]
    },
    {
     "name": "stderr",
     "output_type": "stream",
     "text": [
      "100%|███████████████████████████████████████████████████| 3168028/3168028 [00:00<00:00, 7727484.60it/s]\n"
     ]
    },
    {
     "name": "stdout",
     "output_type": "stream",
     "text": [
      "File: results/Modis/chla/A200404_CHL_NW_month.nc "
     ]
    },
    {
     "name": "stderr",
     "output_type": "stream",
     "text": [
      "100%|███████████████████████████████████████████████████| 7982707/7982707 [00:00<00:00, 9672234.41it/s]\n"
     ]
    },
    {
     "name": "stdout",
     "output_type": "stream",
     "text": [
      "File: results/Modis/chla/A200404_CHL_NW_month.png "
     ]
    },
    {
     "name": "stderr",
     "output_type": "stream",
     "text": [
      "100%|███████████████████████████████████████████████████| 3202568/3202568 [00:00<00:00, 7836910.97it/s]\n"
     ]
    },
    {
     "name": "stdout",
     "output_type": "stream",
     "text": [
      "File: results/Modis/chla/A200405_CHL_NW_month.nc "
     ]
    },
    {
     "name": "stderr",
     "output_type": "stream",
     "text": [
      "100%|███████████████████████████████████████████████████| 7678445/7678445 [00:00<00:00, 9273857.38it/s]\n"
     ]
    },
    {
     "name": "stdout",
     "output_type": "stream",
     "text": [
      "File: results/Modis/chla/A200405_CHL_NW_month.png "
     ]
    },
    {
     "name": "stderr",
     "output_type": "stream",
     "text": [
      "100%|███████████████████████████████████████████████████| 3155039/3155039 [00:00<00:00, 7714078.26it/s]\n"
     ]
    },
    {
     "name": "stdout",
     "output_type": "stream",
     "text": [
      "File: results/Modis/chla/A200406_CHL_NW_month.nc "
     ]
    },
    {
     "name": "stderr",
     "output_type": "stream",
     "text": [
      "100%|███████████████████████████████████████████████████| 7468004/7468004 [00:00<00:00, 9129979.55it/s]\n"
     ]
    },
    {
     "name": "stdout",
     "output_type": "stream",
     "text": [
      "File: results/Modis/chla/A200406_CHL_NW_month.png "
     ]
    },
    {
     "name": "stderr",
     "output_type": "stream",
     "text": [
      "100%|███████████████████████████████████████████████████| 2860384/2860384 [00:00<00:00, 9302108.52it/s]\n"
     ]
    },
    {
     "name": "stdout",
     "output_type": "stream",
     "text": [
      "File: results/Modis/chla/A200407_CHL_NW_month.nc "
     ]
    },
    {
     "name": "stderr",
     "output_type": "stream",
     "text": [
      "100%|███████████████████████████████████████████████████| 7636020/7636020 [00:00<00:00, 9231269.86it/s]\n"
     ]
    },
    {
     "name": "stdout",
     "output_type": "stream",
     "text": [
      "File: results/Modis/chla/A200407_CHL_NW_month.png "
     ]
    },
    {
     "name": "stderr",
     "output_type": "stream",
     "text": [
      "100%|███████████████████████████████████████████████████| 2792981/2792981 [00:00<00:00, 9100063.14it/s]\n"
     ]
    },
    {
     "name": "stdout",
     "output_type": "stream",
     "text": [
      "File: results/Modis/chla/A200408_CHL_NW_month.nc "
     ]
    },
    {
     "name": "stderr",
     "output_type": "stream",
     "text": [
      "100%|███████████████████████████████████████████████████| 8191409/8191409 [00:00<00:00, 9892857.09it/s]\n"
     ]
    },
    {
     "name": "stdout",
     "output_type": "stream",
     "text": [
      "File: results/Modis/chla/A200408_CHL_NW_month.png "
     ]
    },
    {
     "name": "stderr",
     "output_type": "stream",
     "text": [
      "100%|███████████████████████████████████████████████████| 3024323/3024323 [00:00<00:00, 9698047.73it/s]\n"
     ]
    },
    {
     "name": "stdout",
     "output_type": "stream",
     "text": [
      "File: results/Modis/chla/A200409_CHL_NW_month.nc "
     ]
    },
    {
     "name": "stderr",
     "output_type": "stream",
     "text": [
      "100%|███████████████████████████████████████████████████| 8212504/8212504 [00:00<00:00, 9952383.98it/s]\n"
     ]
    },
    {
     "name": "stdout",
     "output_type": "stream",
     "text": [
      "File: results/Modis/chla/A200409_CHL_NW_month.png "
     ]
    },
    {
     "name": "stderr",
     "output_type": "stream",
     "text": [
      "100%|███████████████████████████████████████████████████| 3107867/3107867 [00:00<00:00, 9925047.47it/s]\n"
     ]
    },
    {
     "name": "stdout",
     "output_type": "stream",
     "text": [
      "File: results/Modis/chla/A200410_CHL_NW_month.nc "
     ]
    },
    {
     "name": "stderr",
     "output_type": "stream",
     "text": [
      "100%|██████████████████████████████████████████████████| 8367166/8367166 [00:00<00:00, 10136078.29it/s]\n"
     ]
    },
    {
     "name": "stdout",
     "output_type": "stream",
     "text": [
      "File: results/Modis/chla/A200410_CHL_NW_month.png "
     ]
    },
    {
     "name": "stderr",
     "output_type": "stream",
     "text": [
      "100%|███████████████████████████████████████████████████| 3354255/3354255 [00:00<00:00, 8079952.70it/s]\n"
     ]
    },
    {
     "name": "stdout",
     "output_type": "stream",
     "text": [
      "File: results/Modis/chla/A200411_CHL_NW_month.nc "
     ]
    },
    {
     "name": "stderr",
     "output_type": "stream",
     "text": [
      "100%|██████████████████████████████████████████████████| 8311771/8311771 [00:00<00:00, 10101821.86it/s]\n"
     ]
    },
    {
     "name": "stdout",
     "output_type": "stream",
     "text": [
      "File: results/Modis/chla/A200411_CHL_NW_month.png "
     ]
    },
    {
     "name": "stderr",
     "output_type": "stream",
     "text": [
      "100%|███████████████████████████████████████████████████| 3733345/3733345 [00:00<00:00, 9061607.44it/s]\n"
     ]
    },
    {
     "name": "stdout",
     "output_type": "stream",
     "text": [
      "File: results/Modis/chla/A200412_CHL_NW_month.nc "
     ]
    },
    {
     "name": "stderr",
     "output_type": "stream",
     "text": [
      "100%|███████████████████████████████████████████████████| 7687687/7687687 [00:00<00:00, 9390912.51it/s]\n"
     ]
    },
    {
     "name": "stdout",
     "output_type": "stream",
     "text": [
      "File: results/Modis/chla/A200412_CHL_NW_month.png "
     ]
    },
    {
     "name": "stderr",
     "output_type": "stream",
     "text": [
      "100%|███████████████████████████████████████████████████| 3694062/3694062 [00:00<00:00, 8993812.78it/s]\n"
     ]
    },
    {
     "name": "stdout",
     "output_type": "stream",
     "text": [
      "2005...\n",
      "File: results/Modis/chla/A200501_CHL_NW_month.nc "
     ]
    },
    {
     "name": "stderr",
     "output_type": "stream",
     "text": [
      "100%|███████████████████████████████████████████████████| 6328284/6328284 [00:00<00:00, 8813910.22it/s]\n"
     ]
    },
    {
     "name": "stdout",
     "output_type": "stream",
     "text": [
      "File: results/Modis/chla/A200501_CHL_NW_month.png "
     ]
    },
    {
     "name": "stderr",
     "output_type": "stream",
     "text": [
      "100%|███████████████████████████████████████████████████| 3307669/3307669 [00:00<00:00, 8158012.56it/s]\n"
     ]
    },
    {
     "name": "stdout",
     "output_type": "stream",
     "text": [
      "File: results/Modis/chla/A200502_CHL_NW_month.nc "
     ]
    },
    {
     "name": "stderr",
     "output_type": "stream",
     "text": [
      "100%|███████████████████████████████████████████████████| 5637616/5637616 [00:00<00:00, 9233452.77it/s]\n"
     ]
    },
    {
     "name": "stdout",
     "output_type": "stream",
     "text": [
      "File: results/Modis/chla/A200502_CHL_NW_month.png "
     ]
    },
    {
     "name": "stderr",
     "output_type": "stream",
     "text": [
      "100%|███████████████████████████████████████████████████| 2869846/2869846 [00:00<00:00, 9271102.82it/s]\n"
     ]
    },
    {
     "name": "stdout",
     "output_type": "stream",
     "text": [
      "File: results/Modis/chla/A200503_CHL_NW_month.nc "
     ]
    },
    {
     "name": "stderr",
     "output_type": "stream",
     "text": [
      "100%|███████████████████████████████████████████████████| 7878963/7878963 [00:00<00:00, 9562890.05it/s]\n"
     ]
    },
    {
     "name": "stdout",
     "output_type": "stream",
     "text": [
      "File: results/Modis/chla/A200503_CHL_NW_month.png "
     ]
    },
    {
     "name": "stderr",
     "output_type": "stream",
     "text": [
      "100%|███████████████████████████████████████████████████| 3008266/3008266 [00:00<00:00, 9840841.17it/s]\n"
     ]
    },
    {
     "name": "stdout",
     "output_type": "stream",
     "text": [
      "File: results/Modis/chla/A200504_CHL_NW_month.nc "
     ]
    },
    {
     "name": "stderr",
     "output_type": "stream",
     "text": [
      "100%|███████████████████████████████████████████████████| 7759684/7759684 [00:00<00:00, 9453890.41it/s]\n"
     ]
    },
    {
     "name": "stdout",
     "output_type": "stream",
     "text": [
      "File: results/Modis/chla/A200504_CHL_NW_month.png "
     ]
    },
    {
     "name": "stderr",
     "output_type": "stream",
     "text": [
      "100%|███████████████████████████████████████████████████| 3229410/3229410 [00:00<00:00, 7848375.83it/s]\n"
     ]
    },
    {
     "name": "stdout",
     "output_type": "stream",
     "text": [
      "File: results/Modis/chla/A200505_CHL_NW_month.nc "
     ]
    },
    {
     "name": "stderr",
     "output_type": "stream",
     "text": [
      "100%|███████████████████████████████████████████████████| 7705031/7705031 [00:00<00:00, 9456113.64it/s]\n"
     ]
    },
    {
     "name": "stdout",
     "output_type": "stream",
     "text": [
      "File: results/Modis/chla/A200505_CHL_NW_month.png "
     ]
    },
    {
     "name": "stderr",
     "output_type": "stream",
     "text": [
      "100%|███████████████████████████████████████████████████| 3153445/3153445 [00:00<00:00, 7536956.50it/s]\n"
     ]
    },
    {
     "name": "stdout",
     "output_type": "stream",
     "text": [
      "File: results/Modis/chla/A200506_CHL_NW_month.nc "
     ]
    },
    {
     "name": "stderr",
     "output_type": "stream",
     "text": [
      "100%|██████████████████████████████████████████████████| 6198218/6198218 [00:00<00:00, 10090705.99it/s]\n"
     ]
    },
    {
     "name": "stdout",
     "output_type": "stream",
     "text": [
      "File: results/Modis/chla/A200506_CHL_NW_month.png "
     ]
    },
    {
     "name": "stderr",
     "output_type": "stream",
     "text": [
      "100%|███████████████████████████████████████████████████| 2701104/2701104 [00:00<00:00, 8696198.84it/s]\n"
     ]
    },
    {
     "name": "stdout",
     "output_type": "stream",
     "text": [
      "File: results/Modis/chla/A200507_CHL_NW_month.nc "
     ]
    },
    {
     "name": "stderr",
     "output_type": "stream",
     "text": [
      "100%|███████████████████████████████████████████████████| 6953227/6953227 [00:00<00:00, 9650031.16it/s]\n"
     ]
    },
    {
     "name": "stdout",
     "output_type": "stream",
     "text": [
      "File: results/Modis/chla/A200507_CHL_NW_month.png "
     ]
    },
    {
     "name": "stderr",
     "output_type": "stream",
     "text": [
      "100%|███████████████████████████████████████████████████| 2871082/2871082 [00:00<00:00, 9389746.86it/s]\n"
     ]
    },
    {
     "name": "stdout",
     "output_type": "stream",
     "text": [
      "File: results/Modis/chla/A200508_CHL_NW_month.nc "
     ]
    },
    {
     "name": "stderr",
     "output_type": "stream",
     "text": [
      "100%|███████████████████████████████████████████████████| 7971548/7971548 [00:00<00:00, 9798516.49it/s]\n"
     ]
    },
    {
     "name": "stdout",
     "output_type": "stream",
     "text": [
      "File: results/Modis/chla/A200508_CHL_NW_month.png "
     ]
    },
    {
     "name": "stderr",
     "output_type": "stream",
     "text": [
      "100%|███████████████████████████████████████████████████| 2930665/2930665 [00:00<00:00, 9637461.23it/s]\n"
     ]
    },
    {
     "name": "stdout",
     "output_type": "stream",
     "text": [
      "File: results/Modis/chla/A200509_CHL_NW_month.nc "
     ]
    },
    {
     "name": "stderr",
     "output_type": "stream",
     "text": [
      "100%|██████████████████████████████████████████████████| 8238324/8238324 [00:00<00:00, 10105303.77it/s]\n"
     ]
    },
    {
     "name": "stdout",
     "output_type": "stream",
     "text": [
      "File: results/Modis/chla/A200509_CHL_NW_month.png "
     ]
    },
    {
     "name": "stderr",
     "output_type": "stream",
     "text": [
      "100%|███████████████████████████████████████████████████| 3006248/3006248 [00:00<00:00, 9614330.86it/s]\n"
     ]
    },
    {
     "name": "stdout",
     "output_type": "stream",
     "text": [
      "File: results/Modis/chla/A200510_CHL_NW_month.nc "
     ]
    },
    {
     "name": "stderr",
     "output_type": "stream",
     "text": [
      "100%|██████████████████████████████████████████████████| 8322456/8322456 [00:00<00:00, 10231862.77it/s]\n"
     ]
    },
    {
     "name": "stdout",
     "output_type": "stream",
     "text": [
      "File: results/Modis/chla/A200510_CHL_NW_month.png "
     ]
    },
    {
     "name": "stderr",
     "output_type": "stream",
     "text": [
      "100%|███████████████████████████████████████████████████| 3250580/3250580 [00:00<00:00, 7954274.44it/s]\n"
     ]
    },
    {
     "name": "stdout",
     "output_type": "stream",
     "text": [
      "File: results/Modis/chla/A200511_CHL_NW_month.nc "
     ]
    },
    {
     "name": "stderr",
     "output_type": "stream",
     "text": [
      "100%|███████████████████████████████████████████████████| 7915945/7915945 [00:00<00:00, 9557825.83it/s]\n"
     ]
    },
    {
     "name": "stdout",
     "output_type": "stream",
     "text": [
      "File: results/Modis/chla/A200511_CHL_NW_month.png "
     ]
    },
    {
     "name": "stderr",
     "output_type": "stream",
     "text": [
      "100%|███████████████████████████████████████████████████| 4056334/4056334 [00:00<00:00, 9848926.14it/s]\n"
     ]
    },
    {
     "name": "stdout",
     "output_type": "stream",
     "text": [
      "File: results/Modis/chla/A200512_CHL_NW_month.nc "
     ]
    },
    {
     "name": "stderr",
     "output_type": "stream",
     "text": [
      "100%|███████████████████████████████████████████████████| 5922397/5922397 [00:00<00:00, 9572751.72it/s]\n"
     ]
    },
    {
     "name": "stdout",
     "output_type": "stream",
     "text": [
      "File: results/Modis/chla/A200512_CHL_NW_month.png "
     ]
    },
    {
     "name": "stderr",
     "output_type": "stream",
     "text": [
      "100%|███████████████████████████████████████████████████| 3335175/3335175 [00:00<00:00, 8088374.09it/s]\n"
     ]
    },
    {
     "name": "stdout",
     "output_type": "stream",
     "text": [
      "2006...\n",
      "File: results/Modis/chla/A200601_CHL_NW_month.nc "
     ]
    },
    {
     "name": "stderr",
     "output_type": "stream",
     "text": [
      "100%|███████████████████████████████████████████████████| 6586266/6586266 [00:00<00:00, 9075799.93it/s]\n"
     ]
    },
    {
     "name": "stdout",
     "output_type": "stream",
     "text": [
      "File: results/Modis/chla/A200601_CHL_NW_month.png "
     ]
    },
    {
     "name": "stderr",
     "output_type": "stream",
     "text": [
      "100%|███████████████████████████████████████████████████| 3302149/3302149 [00:00<00:00, 8042706.84it/s]\n"
     ]
    },
    {
     "name": "stdout",
     "output_type": "stream",
     "text": [
      "File: results/Modis/chla/A200602_CHL_NW_month.nc "
     ]
    },
    {
     "name": "stderr",
     "output_type": "stream",
     "text": [
      "100%|██████████████████████████████████████████████████| 7330648/7330648 [00:00<00:00, 10170997.53it/s]\n"
     ]
    },
    {
     "name": "stdout",
     "output_type": "stream",
     "text": [
      "File: results/Modis/chla/A200602_CHL_NW_month.png "
     ]
    },
    {
     "name": "stderr",
     "output_type": "stream",
     "text": [
      "100%|███████████████████████████████████████████████████| 3304693/3304693 [00:00<00:00, 7977479.78it/s]\n"
     ]
    },
    {
     "name": "stdout",
     "output_type": "stream",
     "text": [
      "File: results/Modis/chla/A200603_CHL_NW_month.nc "
     ]
    },
    {
     "name": "stderr",
     "output_type": "stream",
     "text": [
      "100%|███████████████████████████████████████████████████| 7683159/7683159 [00:00<00:00, 9309300.99it/s]\n"
     ]
    },
    {
     "name": "stdout",
     "output_type": "stream",
     "text": [
      "File: results/Modis/chla/A200603_CHL_NW_month.png "
     ]
    },
    {
     "name": "stderr",
     "output_type": "stream",
     "text": [
      "100%|███████████████████████████████████████████████████| 3253466/3253466 [00:00<00:00, 7849761.54it/s]\n"
     ]
    },
    {
     "name": "stdout",
     "output_type": "stream",
     "text": [
      "File: results/Modis/chla/A200604_CHL_NW_month.nc "
     ]
    },
    {
     "name": "stderr",
     "output_type": "stream",
     "text": [
      "100%|███████████████████████████████████████████████████| 6889990/6889990 [00:00<00:00, 9504829.79it/s]\n"
     ]
    },
    {
     "name": "stdout",
     "output_type": "stream",
     "text": [
      "File: results/Modis/chla/A200604_CHL_NW_month.png "
     ]
    },
    {
     "name": "stderr",
     "output_type": "stream",
     "text": [
      "100%|███████████████████████████████████████████████████| 3266248/3266248 [00:00<00:00, 7869822.25it/s]\n"
     ]
    },
    {
     "name": "stdout",
     "output_type": "stream",
     "text": [
      "File: results/Modis/chla/A200605_CHL_NW_month.nc "
     ]
    },
    {
     "name": "stderr",
     "output_type": "stream",
     "text": [
      "100%|███████████████████████████████████████████████████| 6441508/6441508 [00:00<00:00, 9011428.96it/s]\n"
     ]
    },
    {
     "name": "stdout",
     "output_type": "stream",
     "text": [
      "File: results/Modis/chla/A200605_CHL_NW_month.png "
     ]
    },
    {
     "name": "stderr",
     "output_type": "stream",
     "text": [
      "100%|███████████████████████████████████████████████████| 3175638/3175638 [00:00<00:00, 7749850.85it/s]\n"
     ]
    },
    {
     "name": "stdout",
     "output_type": "stream",
     "text": [
      "File: results/Modis/chla/A200606_CHL_NW_month.nc "
     ]
    },
    {
     "name": "stderr",
     "output_type": "stream",
     "text": [
      "100%|███████████████████████████████████████████████████| 6073705/6073705 [00:00<00:00, 9768120.48it/s]\n"
     ]
    },
    {
     "name": "stdout",
     "output_type": "stream",
     "text": [
      "File: results/Modis/chla/A200606_CHL_NW_month.png "
     ]
    },
    {
     "name": "stderr",
     "output_type": "stream",
     "text": [
      "100%|███████████████████████████████████████████████████| 2728160/2728160 [00:00<00:00, 8867812.34it/s]\n"
     ]
    },
    {
     "name": "stdout",
     "output_type": "stream",
     "text": [
      "File: results/Modis/chla/A200607_CHL_NW_month.nc "
     ]
    },
    {
     "name": "stderr",
     "output_type": "stream",
     "text": [
      "100%|███████████████████████████████████████████████████| 7402663/7402663 [00:00<00:00, 8918490.19it/s]\n"
     ]
    },
    {
     "name": "stdout",
     "output_type": "stream",
     "text": [
      "File: results/Modis/chla/A200607_CHL_NW_month.png "
     ]
    },
    {
     "name": "stderr",
     "output_type": "stream",
     "text": [
      "100%|███████████████████████████████████████████████████| 2937655/2937655 [00:00<00:00, 9464479.73it/s]\n"
     ]
    },
    {
     "name": "stdout",
     "output_type": "stream",
     "text": [
      "File: results/Modis/chla/A200608_CHL_NW_month.nc "
     ]
    },
    {
     "name": "stderr",
     "output_type": "stream",
     "text": [
      "100%|██████████████████████████████████████████████████| 8219722/8219722 [00:00<00:00, 10061368.27it/s]\n"
     ]
    },
    {
     "name": "stdout",
     "output_type": "stream",
     "text": [
      "File: results/Modis/chla/A200608_CHL_NW_month.png "
     ]
    },
    {
     "name": "stderr",
     "output_type": "stream",
     "text": [
      "100%|███████████████████████████████████████████████████| 2955834/2955834 [00:00<00:00, 9504723.26it/s]\n"
     ]
    },
    {
     "name": "stdout",
     "output_type": "stream",
     "text": [
      "File: results/Modis/chla/A200609_CHL_NW_month.nc "
     ]
    },
    {
     "name": "stderr",
     "output_type": "stream",
     "text": [
      "100%|███████████████████████████████████████████████████| 8138613/8138613 [00:00<00:00, 9901367.82it/s]\n"
     ]
    },
    {
     "name": "stdout",
     "output_type": "stream",
     "text": [
      "File: results/Modis/chla/A200609_CHL_NW_month.png "
     ]
    },
    {
     "name": "stderr",
     "output_type": "stream",
     "text": [
      "100%|███████████████████████████████████████████████████| 3079934/3079934 [00:00<00:00, 9936197.47it/s]\n"
     ]
    },
    {
     "name": "stdout",
     "output_type": "stream",
     "text": [
      "File: results/Modis/chla/A200610_CHL_NW_month.nc "
     ]
    },
    {
     "name": "stderr",
     "output_type": "stream",
     "text": [
      "100%|██████████████████████████████████████████████████| 8277175/8277175 [00:00<00:00, 10001779.91it/s]\n"
     ]
    },
    {
     "name": "stdout",
     "output_type": "stream",
     "text": [
      "File: results/Modis/chla/A200610_CHL_NW_month.png "
     ]
    },
    {
     "name": "stderr",
     "output_type": "stream",
     "text": [
      "100%|███████████████████████████████████████████████████| 3260687/3260687 [00:00<00:00, 7928788.93it/s]\n"
     ]
    },
    {
     "name": "stdout",
     "output_type": "stream",
     "text": [
      "File: results/Modis/chla/A200611_CHL_NW_month.nc "
     ]
    },
    {
     "name": "stderr",
     "output_type": "stream",
     "text": [
      "100%|███████████████████████████████████████████████████| 8119543/8119543 [00:00<00:00, 9993201.59it/s]\n"
     ]
    },
    {
     "name": "stdout",
     "output_type": "stream",
     "text": [
      "File: results/Modis/chla/A200611_CHL_NW_month.png "
     ]
    },
    {
     "name": "stderr",
     "output_type": "stream",
     "text": [
      "100%|███████████████████████████████████████████████████| 3966338/3966338 [00:00<00:00, 9566224.16it/s]\n"
     ]
    },
    {
     "name": "stdout",
     "output_type": "stream",
     "text": [
      "File: results/Modis/chla/A200612_CHL_NW_month.nc "
     ]
    },
    {
     "name": "stderr",
     "output_type": "stream",
     "text": [
      "100%|███████████████████████████████████████████████████| 6827456/6827456 [00:00<00:00, 9520066.28it/s]\n"
     ]
    },
    {
     "name": "stdout",
     "output_type": "stream",
     "text": [
      "File: results/Modis/chla/A200612_CHL_NW_month.png "
     ]
    },
    {
     "name": "stderr",
     "output_type": "stream",
     "text": [
      "100%|███████████████████████████████████████████████████| 3823505/3823505 [00:00<00:00, 9380171.96it/s]\n"
     ]
    },
    {
     "name": "stdout",
     "output_type": "stream",
     "text": [
      "2007...\n",
      "File: results/Modis/chla/A200701_CHL_NW_month.nc "
     ]
    },
    {
     "name": "stderr",
     "output_type": "stream",
     "text": [
      "100%|███████████████████████████████████████████████████| 7012817/7012817 [00:00<00:00, 9848052.14it/s]\n"
     ]
    },
    {
     "name": "stdout",
     "output_type": "stream",
     "text": [
      "File: results/Modis/chla/A200701_CHL_NW_month.png "
     ]
    },
    {
     "name": "stderr",
     "output_type": "stream",
     "text": [
      "100%|███████████████████████████████████████████████████| 3632449/3632449 [00:00<00:00, 8888315.76it/s]\n"
     ]
    },
    {
     "name": "stdout",
     "output_type": "stream",
     "text": [
      "File: results/Modis/chla/A200702_CHL_NW_month.nc "
     ]
    },
    {
     "name": "stderr",
     "output_type": "stream",
     "text": [
      "100%|███████████████████████████████████████████████████| 7795163/7795163 [00:00<00:00, 9454455.15it/s]\n"
     ]
    },
    {
     "name": "stdout",
     "output_type": "stream",
     "text": [
      "File: results/Modis/chla/A200702_CHL_NW_month.png "
     ]
    },
    {
     "name": "stderr",
     "output_type": "stream",
     "text": [
      "100%|███████████████████████████████████████████████████| 3277142/3277142 [00:00<00:00, 7993585.40it/s]\n"
     ]
    },
    {
     "name": "stdout",
     "output_type": "stream",
     "text": [
      "File: results/Modis/chla/A200703_CHL_NW_month.nc "
     ]
    },
    {
     "name": "stderr",
     "output_type": "stream",
     "text": [
      "100%|███████████████████████████████████████████████████| 7638602/7638602 [00:00<00:00, 9287218.43it/s]\n"
     ]
    },
    {
     "name": "stdout",
     "output_type": "stream",
     "text": [
      "File: results/Modis/chla/A200703_CHL_NW_month.png "
     ]
    },
    {
     "name": "stderr",
     "output_type": "stream",
     "text": [
      "100%|██████████████████████████████████████████████████| 3144558/3144558 [00:00<00:00, 10026891.12it/s]\n"
     ]
    },
    {
     "name": "stdout",
     "output_type": "stream",
     "text": [
      "File: results/Modis/chla/A200704_CHL_NW_month.nc "
     ]
    },
    {
     "name": "stderr",
     "output_type": "stream",
     "text": [
      "100%|███████████████████████████████████████████████████| 7529973/7529973 [00:00<00:00, 9080463.41it/s]\n"
     ]
    },
    {
     "name": "stdout",
     "output_type": "stream",
     "text": [
      "File: results/Modis/chla/A200704_CHL_NW_month.png "
     ]
    },
    {
     "name": "stderr",
     "output_type": "stream",
     "text": [
      "100%|███████████████████████████████████████████████████| 3371124/3371124 [00:00<00:00, 7969845.95it/s]\n"
     ]
    },
    {
     "name": "stdout",
     "output_type": "stream",
     "text": [
      "File: results/Modis/chla/A200705_CHL_NW_month.nc "
     ]
    },
    {
     "name": "stderr",
     "output_type": "stream",
     "text": [
      "100%|███████████████████████████████████████████████████| 7626497/7626497 [00:00<00:00, 9249677.98it/s]\n"
     ]
    },
    {
     "name": "stdout",
     "output_type": "stream",
     "text": [
      "File: results/Modis/chla/A200705_CHL_NW_month.png "
     ]
    },
    {
     "name": "stderr",
     "output_type": "stream",
     "text": [
      "100%|███████████████████████████████████████████████████| 3114777/3114777 [00:00<00:00, 9711820.59it/s]\n"
     ]
    },
    {
     "name": "stdout",
     "output_type": "stream",
     "text": [
      "File: results/Modis/chla/A200706_CHL_NW_month.nc "
     ]
    },
    {
     "name": "stderr",
     "output_type": "stream",
     "text": [
      "100%|███████████████████████████████████████████████████| 7360887/7360887 [00:00<00:00, 8816357.00it/s]\n"
     ]
    },
    {
     "name": "stdout",
     "output_type": "stream",
     "text": [
      "File: results/Modis/chla/A200706_CHL_NW_month.png "
     ]
    },
    {
     "name": "stderr",
     "output_type": "stream",
     "text": [
      "100%|███████████████████████████████████████████████████| 2950234/2950234 [00:00<00:00, 9238080.79it/s]\n"
     ]
    },
    {
     "name": "stdout",
     "output_type": "stream",
     "text": [
      "File: results/Modis/chla/A200707_CHL_NW_month.nc "
     ]
    },
    {
     "name": "stderr",
     "output_type": "stream",
     "text": [
      "100%|███████████████████████████████████████████████████| 7066888/7066888 [00:00<00:00, 9585404.07it/s]\n"
     ]
    },
    {
     "name": "stdout",
     "output_type": "stream",
     "text": [
      "File: results/Modis/chla/A200707_CHL_NW_month.png "
     ]
    },
    {
     "name": "stderr",
     "output_type": "stream",
     "text": [
      "100%|███████████████████████████████████████████████████| 2798948/2798948 [00:00<00:00, 8617791.95it/s]\n"
     ]
    },
    {
     "name": "stdout",
     "output_type": "stream",
     "text": [
      "File: results/Modis/chla/A200708_CHL_NW_month.nc "
     ]
    },
    {
     "name": "stderr",
     "output_type": "stream",
     "text": [
      "100%|███████████████████████████████████████████████████| 8183444/8183444 [00:00<00:00, 9754455.70it/s]\n"
     ]
    },
    {
     "name": "stdout",
     "output_type": "stream",
     "text": [
      "File: results/Modis/chla/A200708_CHL_NW_month.png "
     ]
    },
    {
     "name": "stderr",
     "output_type": "stream",
     "text": [
      "100%|███████████████████████████████████████████████████| 2902738/2902738 [00:00<00:00, 9156367.59it/s]\n"
     ]
    },
    {
     "name": "stdout",
     "output_type": "stream",
     "text": [
      "File: results/Modis/chla/A200709_CHL_NW_month.nc "
     ]
    },
    {
     "name": "stderr",
     "output_type": "stream",
     "text": [
      "100%|███████████████████████████████████████████████████| 8276764/8276764 [00:00<00:00, 9871121.74it/s]\n"
     ]
    },
    {
     "name": "stdout",
     "output_type": "stream",
     "text": [
      "File: results/Modis/chla/A200709_CHL_NW_month.png "
     ]
    },
    {
     "name": "stderr",
     "output_type": "stream",
     "text": [
      "100%|███████████████████████████████████████████████████| 3046404/3046404 [00:00<00:00, 9771095.62it/s]\n"
     ]
    },
    {
     "name": "stdout",
     "output_type": "stream",
     "text": [
      "File: results/Modis/chla/A200710_CHL_NW_month.nc "
     ]
    },
    {
     "name": "stderr",
     "output_type": "stream",
     "text": [
      "100%|███████████████████████████████████████████████████| 8324011/8324011 [00:00<00:00, 9951411.51it/s]\n"
     ]
    },
    {
     "name": "stdout",
     "output_type": "stream",
     "text": [
      "File: results/Modis/chla/A200710_CHL_NW_month.png "
     ]
    },
    {
     "name": "stderr",
     "output_type": "stream",
     "text": [
      "100%|███████████████████████████████████████████████████| 3375454/3375454 [00:00<00:00, 7971473.78it/s]\n"
     ]
    },
    {
     "name": "stdout",
     "output_type": "stream",
     "text": [
      "File: results/Modis/chla/A200711_CHL_NW_month.nc "
     ]
    },
    {
     "name": "stderr",
     "output_type": "stream",
     "text": [
      "100%|███████████████████████████████████████████████████| 8074775/8074775 [00:00<00:00, 9723285.65it/s]\n"
     ]
    },
    {
     "name": "stdout",
     "output_type": "stream",
     "text": [
      "File: results/Modis/chla/A200711_CHL_NW_month.png "
     ]
    },
    {
     "name": "stderr",
     "output_type": "stream",
     "text": [
      "100%|███████████████████████████████████████████████████| 3920200/3920200 [00:00<00:00, 9450669.20it/s]\n"
     ]
    },
    {
     "name": "stdout",
     "output_type": "stream",
     "text": [
      "File: results/Modis/chla/A200712_CHL_NW_month.nc "
     ]
    },
    {
     "name": "stderr",
     "output_type": "stream",
     "text": [
      "100%|███████████████████████████████████████████████████| 6680273/6680273 [00:00<00:00, 9401425.21it/s]\n"
     ]
    },
    {
     "name": "stdout",
     "output_type": "stream",
     "text": [
      "File: results/Modis/chla/A200712_CHL_NW_month.png "
     ]
    },
    {
     "name": "stderr",
     "output_type": "stream",
     "text": [
      "100%|███████████████████████████████████████████████████| 3761279/3761279 [00:00<00:00, 8965511.74it/s]\n"
     ]
    },
    {
     "name": "stdout",
     "output_type": "stream",
     "text": [
      "2008...\n",
      "File: results/Modis/chla/A200801_CHL_NW_month.nc "
     ]
    },
    {
     "name": "stderr",
     "output_type": "stream",
     "text": [
      "100%|███████████████████████████████████████████████████| 5960650/5960650 [00:00<00:00, 9654938.65it/s]\n"
     ]
    },
    {
     "name": "stdout",
     "output_type": "stream",
     "text": [
      "File: results/Modis/chla/A200801_CHL_NW_month.png "
     ]
    },
    {
     "name": "stderr",
     "output_type": "stream",
     "text": [
      "100%|███████████████████████████████████████████████████| 3315440/3315440 [00:00<00:00, 7955693.35it/s]\n"
     ]
    },
    {
     "name": "stdout",
     "output_type": "stream",
     "text": [
      "File: results/Modis/chla/A200802_CHL_NW_month.nc "
     ]
    },
    {
     "name": "stderr",
     "output_type": "stream",
     "text": [
      "100%|███████████████████████████████████████████████████| 6472605/6472605 [00:00<00:00, 9068770.90it/s]\n"
     ]
    },
    {
     "name": "stdout",
     "output_type": "stream",
     "text": [
      "File: results/Modis/chla/A200802_CHL_NW_month.png "
     ]
    },
    {
     "name": "stderr",
     "output_type": "stream",
     "text": [
      "100%|███████████████████████████████████████████████████| 3242858/3242858 [00:00<00:00, 7800770.29it/s]\n"
     ]
    },
    {
     "name": "stdout",
     "output_type": "stream",
     "text": [
      "File: results/Modis/chla/A200803_CHL_NW_month.nc "
     ]
    },
    {
     "name": "stderr",
     "output_type": "stream",
     "text": [
      "100%|███████████████████████████████████████████████████| 7858353/7858353 [00:00<00:00, 9676714.41it/s]\n"
     ]
    },
    {
     "name": "stdout",
     "output_type": "stream",
     "text": [
      "File: results/Modis/chla/A200803_CHL_NW_month.png "
     ]
    },
    {
     "name": "stderr",
     "output_type": "stream",
     "text": [
      "100%|███████████████████████████████████████████████████| 3347999/3347999 [00:00<00:00, 8244465.25it/s]\n"
     ]
    },
    {
     "name": "stdout",
     "output_type": "stream",
     "text": [
      "File: results/Modis/chla/A200804_CHL_NW_month.nc "
     ]
    },
    {
     "name": "stderr",
     "output_type": "stream",
     "text": [
      "100%|███████████████████████████████████████████████████| 6673596/6673596 [00:00<00:00, 9398322.74it/s]\n"
     ]
    },
    {
     "name": "stdout",
     "output_type": "stream",
     "text": [
      "File: results/Modis/chla/A200804_CHL_NW_month.png "
     ]
    },
    {
     "name": "stderr",
     "output_type": "stream",
     "text": [
      "100%|███████████████████████████████████████████████████| 3385014/3385014 [00:00<00:00, 8094015.74it/s]\n"
     ]
    },
    {
     "name": "stdout",
     "output_type": "stream",
     "text": [
      "File: results/Modis/chla/A200805_CHL_NW_month.nc "
     ]
    },
    {
     "name": "stderr",
     "output_type": "stream",
     "text": [
      "100%|███████████████████████████████████████████████████| 6906942/6906942 [00:00<00:00, 9624225.72it/s]\n"
     ]
    },
    {
     "name": "stdout",
     "output_type": "stream",
     "text": [
      "File: results/Modis/chla/A200805_CHL_NW_month.png "
     ]
    },
    {
     "name": "stderr",
     "output_type": "stream",
     "text": [
      "100%|███████████████████████████████████████████████████| 2986525/2986525 [00:00<00:00, 9446225.29it/s]\n"
     ]
    },
    {
     "name": "stdout",
     "output_type": "stream",
     "text": [
      "File: results/Modis/chla/A200806_CHL_NW_month.nc "
     ]
    },
    {
     "name": "stderr",
     "output_type": "stream",
     "text": [
      "100%|███████████████████████████████████████████████████| 5144883/5144883 [00:00<00:00, 9906728.86it/s]\n"
     ]
    },
    {
     "name": "stdout",
     "output_type": "stream",
     "text": [
      "File: results/Modis/chla/A200806_CHL_NW_month.png "
     ]
    },
    {
     "name": "stderr",
     "output_type": "stream",
     "text": [
      "100%|███████████████████████████████████████████████████| 2431565/2431565 [00:00<00:00, 7960482.03it/s]\n"
     ]
    },
    {
     "name": "stdout",
     "output_type": "stream",
     "text": [
      "File: results/Modis/chla/A200807_CHL_NW_month.nc "
     ]
    },
    {
     "name": "stderr",
     "output_type": "stream",
     "text": [
      "100%|███████████████████████████████████████████████████| 7735283/7735283 [00:00<00:00, 9426448.17it/s]\n"
     ]
    },
    {
     "name": "stdout",
     "output_type": "stream",
     "text": [
      "File: results/Modis/chla/A200807_CHL_NW_month.png "
     ]
    },
    {
     "name": "stderr",
     "output_type": "stream",
     "text": [
      "100%|███████████████████████████████████████████████████| 2943543/2943543 [00:00<00:00, 9684411.72it/s]\n"
     ]
    },
    {
     "name": "stdout",
     "output_type": "stream",
     "text": [
      "File: results/Modis/chla/A200808_CHL_NW_month.nc "
     ]
    },
    {
     "name": "stderr",
     "output_type": "stream",
     "text": [
      "100%|███████████████████████████████████████████████████| 8109784/8109784 [00:00<00:00, 9990809.39it/s]\n"
     ]
    },
    {
     "name": "stdout",
     "output_type": "stream",
     "text": [
      "File: results/Modis/chla/A200808_CHL_NW_month.png "
     ]
    },
    {
     "name": "stderr",
     "output_type": "stream",
     "text": [
      "100%|███████████████████████████████████████████████████| 3000279/3000279 [00:00<00:00, 9860734.65it/s]\n"
     ]
    },
    {
     "name": "stdout",
     "output_type": "stream",
     "text": [
      "File: results/Modis/chla/A200809_CHL_NW_month.nc "
     ]
    },
    {
     "name": "stderr",
     "output_type": "stream",
     "text": [
      "100%|███████████████████████████████████████████████████| 8172589/8172589 [00:00<00:00, 9853751.09it/s]\n"
     ]
    },
    {
     "name": "stdout",
     "output_type": "stream",
     "text": [
      "File: results/Modis/chla/A200809_CHL_NW_month.png "
     ]
    },
    {
     "name": "stderr",
     "output_type": "stream",
     "text": [
      "100%|███████████████████████████████████████████████████| 3022267/3022267 [00:00<00:00, 9625707.95it/s]\n"
     ]
    },
    {
     "name": "stdout",
     "output_type": "stream",
     "text": [
      "File: results/Modis/chla/A200810_CHL_NW_month.nc "
     ]
    },
    {
     "name": "stderr",
     "output_type": "stream",
     "text": [
      "100%|███████████████████████████████████████████████████| 8221065/8221065 [00:00<00:00, 9878856.79it/s]\n"
     ]
    },
    {
     "name": "stdout",
     "output_type": "stream",
     "text": [
      "File: results/Modis/chla/A200810_CHL_NW_month.png "
     ]
    },
    {
     "name": "stderr",
     "output_type": "stream",
     "text": [
      "100%|███████████████████████████████████████████████████| 3274353/3274353 [00:00<00:00, 7710464.08it/s]\n"
     ]
    },
    {
     "name": "stdout",
     "output_type": "stream",
     "text": [
      "File: results/Modis/chla/A200811_CHL_NW_month.nc "
     ]
    },
    {
     "name": "stderr",
     "output_type": "stream",
     "text": [
      "100%|███████████████████████████████████████████████████| 8053048/8053048 [00:00<00:00, 9711333.69it/s]\n"
     ]
    },
    {
     "name": "stdout",
     "output_type": "stream",
     "text": [
      "File: results/Modis/chla/A200811_CHL_NW_month.png "
     ]
    },
    {
     "name": "stderr",
     "output_type": "stream",
     "text": [
      "100%|███████████████████████████████████████████████████| 4004031/4004031 [00:00<00:00, 9495860.92it/s]\n"
     ]
    },
    {
     "name": "stdout",
     "output_type": "stream",
     "text": [
      "File: results/Modis/chla/A200812_CHL_NW_month.nc "
     ]
    },
    {
     "name": "stderr",
     "output_type": "stream",
     "text": [
      "100%|███████████████████████████████████████████████████| 7570582/7570582 [00:00<00:00, 9060611.97it/s]\n"
     ]
    },
    {
     "name": "stdout",
     "output_type": "stream",
     "text": [
      "File: results/Modis/chla/A200812_CHL_NW_month.png "
     ]
    },
    {
     "name": "stderr",
     "output_type": "stream",
     "text": [
      "100%|███████████████████████████████████████████████████| 3804926/3804926 [00:00<00:00, 8795153.08it/s]\n"
     ]
    },
    {
     "name": "stdout",
     "output_type": "stream",
     "text": [
      "2009...\n",
      "File: results/Modis/chla/A200901_CHL_NW_month.nc "
     ]
    },
    {
     "name": "stderr",
     "output_type": "stream",
     "text": [
      "100%|███████████████████████████████████████████████████| 7011463/7011463 [00:00<00:00, 9602886.89it/s]\n"
     ]
    },
    {
     "name": "stdout",
     "output_type": "stream",
     "text": [
      "File: results/Modis/chla/A200901_CHL_NW_month.png "
     ]
    },
    {
     "name": "stderr",
     "output_type": "stream",
     "text": [
      "100%|███████████████████████████████████████████████████| 3572276/3572276 [00:00<00:00, 8610016.81it/s]\n"
     ]
    },
    {
     "name": "stdout",
     "output_type": "stream",
     "text": [
      "File: results/Modis/chla/A200902_CHL_NW_month.nc "
     ]
    },
    {
     "name": "stderr",
     "output_type": "stream",
     "text": [
      "100%|███████████████████████████████████████████████████| 6553352/6553352 [00:00<00:00, 8909447.56it/s]\n"
     ]
    },
    {
     "name": "stdout",
     "output_type": "stream",
     "text": [
      "File: results/Modis/chla/A200902_CHL_NW_month.png "
     ]
    },
    {
     "name": "stderr",
     "output_type": "stream",
     "text": [
      "100%|███████████████████████████████████████████████████| 3089438/3089438 [00:00<00:00, 9764341.03it/s]\n"
     ]
    },
    {
     "name": "stdout",
     "output_type": "stream",
     "text": [
      "File: results/Modis/chla/A200903_CHL_NW_month.nc "
     ]
    },
    {
     "name": "stderr",
     "output_type": "stream",
     "text": [
      "100%|███████████████████████████████████████████████████| 7604719/7604719 [00:00<00:00, 9235266.06it/s]\n"
     ]
    },
    {
     "name": "stdout",
     "output_type": "stream",
     "text": [
      "File: results/Modis/chla/A200903_CHL_NW_month.png "
     ]
    },
    {
     "name": "stderr",
     "output_type": "stream",
     "text": [
      "100%|███████████████████████████████████████████████████| 3423899/3423899 [00:00<00:00, 8422814.39it/s]\n"
     ]
    },
    {
     "name": "stdout",
     "output_type": "stream",
     "text": [
      "File: results/Modis/chla/A200904_CHL_NW_month.nc "
     ]
    },
    {
     "name": "stderr",
     "output_type": "stream",
     "text": [
      "100%|███████████████████████████████████████████████████| 7842336/7842336 [00:00<00:00, 9672757.73it/s]\n"
     ]
    },
    {
     "name": "stdout",
     "output_type": "stream",
     "text": [
      "File: results/Modis/chla/A200904_CHL_NW_month.png "
     ]
    },
    {
     "name": "stderr",
     "output_type": "stream",
     "text": [
      "100%|███████████████████████████████████████████████████| 3384296/3384296 [00:00<00:00, 8251864.33it/s]\n"
     ]
    },
    {
     "name": "stdout",
     "output_type": "stream",
     "text": [
      "File: results/Modis/chla/A200905_CHL_NW_month.nc "
     ]
    },
    {
     "name": "stderr",
     "output_type": "stream",
     "text": [
      "100%|███████████████████████████████████████████████████| 7582163/7582163 [00:00<00:00, 9194820.73it/s]\n"
     ]
    },
    {
     "name": "stdout",
     "output_type": "stream",
     "text": [
      "File: results/Modis/chla/A200905_CHL_NW_month.png "
     ]
    },
    {
     "name": "stderr",
     "output_type": "stream",
     "text": [
      "100%|███████████████████████████████████████████████████| 3225795/3225795 [00:00<00:00, 7728467.26it/s]\n"
     ]
    },
    {
     "name": "stdout",
     "output_type": "stream",
     "text": [
      "File: results/Modis/chla/A200906_CHL_NW_month.nc "
     ]
    },
    {
     "name": "stderr",
     "output_type": "stream",
     "text": [
      "100%|███████████████████████████████████████████████████| 6902871/6902871 [00:00<00:00, 9656710.39it/s]\n"
     ]
    },
    {
     "name": "stdout",
     "output_type": "stream",
     "text": [
      "File: results/Modis/chla/A200906_CHL_NW_month.png "
     ]
    },
    {
     "name": "stderr",
     "output_type": "stream",
     "text": [
      "100%|███████████████████████████████████████████████████| 2813669/2813669 [00:00<00:00, 9115493.78it/s]\n"
     ]
    },
    {
     "name": "stdout",
     "output_type": "stream",
     "text": [
      "File: results/Modis/chla/A200907_CHL_NW_month.nc "
     ]
    },
    {
     "name": "stderr",
     "output_type": "stream",
     "text": [
      "100%|███████████████████████████████████████████████████| 7028151/7028151 [00:00<00:00, 9851533.50it/s]\n"
     ]
    },
    {
     "name": "stdout",
     "output_type": "stream",
     "text": [
      "File: results/Modis/chla/A200907_CHL_NW_month.png "
     ]
    },
    {
     "name": "stderr",
     "output_type": "stream",
     "text": [
      "100%|███████████████████████████████████████████████████| 2992499/2992499 [00:00<00:00, 9646791.85it/s]\n"
     ]
    },
    {
     "name": "stdout",
     "output_type": "stream",
     "text": [
      "File: results/Modis/chla/A200908_CHL_NW_month.nc "
     ]
    },
    {
     "name": "stderr",
     "output_type": "stream",
     "text": [
      "100%|███████████████████████████████████████████████████| 8097891/8097891 [00:00<00:00, 9976181.31it/s]\n"
     ]
    },
    {
     "name": "stdout",
     "output_type": "stream",
     "text": [
      "File: results/Modis/chla/A200908_CHL_NW_month.png "
     ]
    },
    {
     "name": "stderr",
     "output_type": "stream",
     "text": [
      "100%|███████████████████████████████████████████████████| 3051227/3051227 [00:00<00:00, 9819273.69it/s]\n"
     ]
    },
    {
     "name": "stdout",
     "output_type": "stream",
     "text": [
      "File: results/Modis/chla/A200909_CHL_NW_month.nc "
     ]
    },
    {
     "name": "stderr",
     "output_type": "stream",
     "text": [
      "100%|███████████████████████████████████████████████████| 8131042/8131042 [00:00<00:00, 9971111.19it/s]\n"
     ]
    },
    {
     "name": "stdout",
     "output_type": "stream",
     "text": [
      "File: results/Modis/chla/A200909_CHL_NW_month.png "
     ]
    },
    {
     "name": "stderr",
     "output_type": "stream",
     "text": [
      "100%|███████████████████████████████████████████████████| 3048917/3048917 [00:00<00:00, 9837661.79it/s]\n"
     ]
    },
    {
     "name": "stdout",
     "output_type": "stream",
     "text": [
      "File: results/Modis/chla/A200910_CHL_NW_month.nc "
     ]
    },
    {
     "name": "stderr",
     "output_type": "stream",
     "text": [
      "100%|██████████████████████████████████████████████████| 8292738/8292738 [00:00<00:00, 10199730.50it/s]\n"
     ]
    },
    {
     "name": "stdout",
     "output_type": "stream",
     "text": [
      "File: results/Modis/chla/A200910_CHL_NW_month.png "
     ]
    },
    {
     "name": "stderr",
     "output_type": "stream",
     "text": [
      "100%|███████████████████████████████████████████████████| 3395267/3395267 [00:00<00:00, 8344113.66it/s]\n"
     ]
    },
    {
     "name": "stdout",
     "output_type": "stream",
     "text": [
      "File: results/Modis/chla/A200911_CHL_NW_month.nc "
     ]
    },
    {
     "name": "stderr",
     "output_type": "stream",
     "text": [
      "100%|███████████████████████████████████████████████████| 7594486/7594486 [00:00<00:00, 9310268.00it/s]\n"
     ]
    },
    {
     "name": "stdout",
     "output_type": "stream",
     "text": [
      "File: results/Modis/chla/A200911_CHL_NW_month.png "
     ]
    },
    {
     "name": "stderr",
     "output_type": "stream",
     "text": [
      "100%|███████████████████████████████████████████████████| 3698760/3698760 [00:00<00:00, 8909527.61it/s]\n"
     ]
    },
    {
     "name": "stdout",
     "output_type": "stream",
     "text": [
      "File: results/Modis/chla/A200912_CHL_NW_month.nc "
     ]
    },
    {
     "name": "stderr",
     "output_type": "stream",
     "text": [
      "100%|███████████████████████████████████████████████████| 6690090/6690090 [00:00<00:00, 9381333.22it/s]\n"
     ]
    },
    {
     "name": "stdout",
     "output_type": "stream",
     "text": [
      "File: results/Modis/chla/A200912_CHL_NW_month.png "
     ]
    },
    {
     "name": "stderr",
     "output_type": "stream",
     "text": [
      "100%|███████████████████████████████████████████████████| 3648397/3648397 [00:00<00:00, 8816822.61it/s]\n"
     ]
    },
    {
     "name": "stdout",
     "output_type": "stream",
     "text": [
      "2010...\n",
      "File: results/Modis/chla/A201001_CHL_NW_month.nc "
     ]
    },
    {
     "name": "stderr",
     "output_type": "stream",
     "text": [
      "100%|██████████████████████████████████████████████████| 7134171/7134171 [00:00<00:00, 10017590.01it/s]\n"
     ]
    },
    {
     "name": "stdout",
     "output_type": "stream",
     "text": [
      "File: results/Modis/chla/A201001_CHL_NW_month.png "
     ]
    },
    {
     "name": "stderr",
     "output_type": "stream",
     "text": [
      "100%|███████████████████████████████████████████████████| 3301211/3301211 [00:00<00:00, 8095702.57it/s]\n"
     ]
    },
    {
     "name": "stdout",
     "output_type": "stream",
     "text": [
      "File: results/Modis/chla/A201002_CHL_NW_month.nc "
     ]
    },
    {
     "name": "stderr",
     "output_type": "stream",
     "text": [
      "100%|███████████████████████████████████████████████████| 7010089/7010089 [00:00<00:00, 9804615.70it/s]\n"
     ]
    },
    {
     "name": "stdout",
     "output_type": "stream",
     "text": [
      "File: results/Modis/chla/A201002_CHL_NW_month.png "
     ]
    },
    {
     "name": "stderr",
     "output_type": "stream",
     "text": [
      "100%|███████████████████████████████████████████████████| 3205860/3205860 [00:00<00:00, 7665005.61it/s]\n"
     ]
    },
    {
     "name": "stdout",
     "output_type": "stream",
     "text": [
      "File: results/Modis/chla/A201003_CHL_NW_month.nc "
     ]
    },
    {
     "name": "stderr",
     "output_type": "stream",
     "text": [
      "100%|██████████████████████████████████████████████████| 7228975/7228975 [00:00<00:00, 10092770.26it/s]\n"
     ]
    },
    {
     "name": "stdout",
     "output_type": "stream",
     "text": [
      "File: results/Modis/chla/A201003_CHL_NW_month.png "
     ]
    },
    {
     "name": "stderr",
     "output_type": "stream",
     "text": [
      "100%|███████████████████████████████████████████████████| 3230722/3230722 [00:00<00:00, 7960222.01it/s]\n"
     ]
    },
    {
     "name": "stdout",
     "output_type": "stream",
     "text": [
      "File: results/Modis/chla/A201004_CHL_NW_month.nc "
     ]
    },
    {
     "name": "stderr",
     "output_type": "stream",
     "text": [
      "100%|███████████████████████████████████████████████████| 6855512/6855512 [00:00<00:00, 9634420.50it/s]\n"
     ]
    },
    {
     "name": "stdout",
     "output_type": "stream",
     "text": [
      "File: results/Modis/chla/A201004_CHL_NW_month.png "
     ]
    },
    {
     "name": "stderr",
     "output_type": "stream",
     "text": [
      "100%|███████████████████████████████████████████████████| 3433558/3433558 [00:00<00:00, 8466537.79it/s]\n"
     ]
    },
    {
     "name": "stdout",
     "output_type": "stream",
     "text": [
      "File: results/Modis/chla/A201005_CHL_NW_month.nc "
     ]
    },
    {
     "name": "stderr",
     "output_type": "stream",
     "text": [
      "100%|███████████████████████████████████████████████████| 6912590/6912590 [00:00<00:00, 9639047.78it/s]\n"
     ]
    },
    {
     "name": "stdout",
     "output_type": "stream",
     "text": [
      "File: results/Modis/chla/A201005_CHL_NW_month.png "
     ]
    },
    {
     "name": "stderr",
     "output_type": "stream",
     "text": [
      "100%|███████████████████████████████████████████████████| 3039785/3039785 [00:00<00:00, 9566156.08it/s]\n"
     ]
    },
    {
     "name": "stdout",
     "output_type": "stream",
     "text": [
      "File: results/Modis/chla/A201006_CHL_NW_month.nc "
     ]
    },
    {
     "name": "stderr",
     "output_type": "stream",
     "text": [
      "100%|███████████████████████████████████████████████████| 6476453/6476453 [00:00<00:00, 9117683.02it/s]\n"
     ]
    },
    {
     "name": "stdout",
     "output_type": "stream",
     "text": [
      "File: results/Modis/chla/A201006_CHL_NW_month.png "
     ]
    },
    {
     "name": "stderr",
     "output_type": "stream",
     "text": [
      "100%|███████████████████████████████████████████████████| 2705240/2705240 [00:00<00:00, 8547273.02it/s]\n"
     ]
    },
    {
     "name": "stdout",
     "output_type": "stream",
     "text": [
      "File: results/Modis/chla/A201007_CHL_NW_month.nc "
     ]
    },
    {
     "name": "stderr",
     "output_type": "stream",
     "text": [
      "100%|███████████████████████████████████████████████████| 6868058/6868058 [00:00<00:00, 9490387.34it/s]\n"
     ]
    },
    {
     "name": "stdout",
     "output_type": "stream",
     "text": [
      "File: results/Modis/chla/A201007_CHL_NW_month.png "
     ]
    },
    {
     "name": "stderr",
     "output_type": "stream",
     "text": [
      "100%|███████████████████████████████████████████████████| 2645315/2645315 [00:00<00:00, 8578827.74it/s]\n"
     ]
    },
    {
     "name": "stdout",
     "output_type": "stream",
     "text": [
      "File: results/Modis/chla/A201008_CHL_NW_month.nc "
     ]
    },
    {
     "name": "stderr",
     "output_type": "stream",
     "text": [
      "100%|███████████████████████████████████████████████████| 7731838/7731838 [00:00<00:00, 9534086.11it/s]\n"
     ]
    },
    {
     "name": "stdout",
     "output_type": "stream",
     "text": [
      "File: results/Modis/chla/A201008_CHL_NW_month.png "
     ]
    },
    {
     "name": "stderr",
     "output_type": "stream",
     "text": [
      "100%|███████████████████████████████████████████████████| 2697196/2697196 [00:00<00:00, 8795896.57it/s]\n"
     ]
    },
    {
     "name": "stdout",
     "output_type": "stream",
     "text": [
      "File: results/Modis/chla/A201009_CHL_NW_month.nc "
     ]
    },
    {
     "name": "stderr",
     "output_type": "stream",
     "text": [
      "100%|███████████████████████████████████████████████████| 7954978/7954978 [00:00<00:00, 9759672.12it/s]\n"
     ]
    },
    {
     "name": "stdout",
     "output_type": "stream",
     "text": [
      "File: results/Modis/chla/A201009_CHL_NW_month.png "
     ]
    },
    {
     "name": "stderr",
     "output_type": "stream",
     "text": [
      "100%|███████████████████████████████████████████████████| 2843621/2843621 [00:00<00:00, 8930585.25it/s]\n"
     ]
    },
    {
     "name": "stdout",
     "output_type": "stream",
     "text": [
      "File: results/Modis/chla/A201010_CHL_NW_month.nc "
     ]
    },
    {
     "name": "stderr",
     "output_type": "stream",
     "text": [
      "100%|███████████████████████████████████████████████████| 7548335/7548335 [00:00<00:00, 9256560.92it/s]\n"
     ]
    },
    {
     "name": "stdout",
     "output_type": "stream",
     "text": [
      "File: results/Modis/chla/A201010_CHL_NW_month.png "
     ]
    },
    {
     "name": "stderr",
     "output_type": "stream",
     "text": [
      "100%|███████████████████████████████████████████████████| 2944443/2944443 [00:00<00:00, 9265949.43it/s]\n"
     ]
    },
    {
     "name": "stdout",
     "output_type": "stream",
     "text": [
      "File: results/Modis/chla/A201011_CHL_NW_month.nc "
     ]
    },
    {
     "name": "stderr",
     "output_type": "stream",
     "text": [
      "100%|███████████████████████████████████████████████████| 7006653/7006653 [00:00<00:00, 9776070.98it/s]\n"
     ]
    },
    {
     "name": "stdout",
     "output_type": "stream",
     "text": [
      "File: results/Modis/chla/A201011_CHL_NW_month.png "
     ]
    },
    {
     "name": "stderr",
     "output_type": "stream",
     "text": [
      "100%|███████████████████████████████████████████████████| 3175268/3175268 [00:00<00:00, 7626882.46it/s]\n"
     ]
    },
    {
     "name": "stdout",
     "output_type": "stream",
     "text": [
      "File: results/Modis/chla/A201012_CHL_NW_month.nc "
     ]
    },
    {
     "name": "stderr",
     "output_type": "stream",
     "text": [
      "100%|███████████████████████████████████████████████████| 5870753/5870753 [00:00<00:00, 9497364.82it/s]\n"
     ]
    },
    {
     "name": "stdout",
     "output_type": "stream",
     "text": [
      "File: results/Modis/chla/A201012_CHL_NW_month.png "
     ]
    },
    {
     "name": "stderr",
     "output_type": "stream",
     "text": [
      "100%|███████████████████████████████████████████████████| 2987393/2987393 [00:00<00:00, 9608678.93it/s]\n"
     ]
    },
    {
     "name": "stdout",
     "output_type": "stream",
     "text": [
      "2011...\n",
      "File: results/Modis/chla/A201101_CHL_NW_month.nc "
     ]
    },
    {
     "name": "stderr",
     "output_type": "stream",
     "text": [
      "100%|███████████████████████████████████████████████████| 3525532/3525532 [00:00<00:00, 8556974.13it/s]\n"
     ]
    },
    {
     "name": "stdout",
     "output_type": "stream",
     "text": [
      "File: results/Modis/chla/A201101_CHL_NW_month.png "
     ]
    },
    {
     "name": "stderr",
     "output_type": "stream",
     "text": [
      "100%|███████████████████████████████████████████████████| 2133199/2133199 [00:00<00:00, 6698353.20it/s]\n"
     ]
    },
    {
     "name": "stdout",
     "output_type": "stream",
     "text": [
      "File: results/Modis/chla/A201102_CHL_NW_month.nc "
     ]
    },
    {
     "name": "stderr",
     "output_type": "stream",
     "text": [
      "100%|███████████████████████████████████████████████████| 6760662/6760662 [00:00<00:00, 9523427.38it/s]\n"
     ]
    },
    {
     "name": "stdout",
     "output_type": "stream",
     "text": [
      "File: results/Modis/chla/A201102_CHL_NW_month.png "
     ]
    },
    {
     "name": "stderr",
     "output_type": "stream",
     "text": [
      "100%|███████████████████████████████████████████████████| 2985926/2985926 [00:00<00:00, 9812523.99it/s]\n"
     ]
    },
    {
     "name": "stdout",
     "output_type": "stream",
     "text": [
      "File: results/Modis/chla/A201103_CHL_NW_month.nc "
     ]
    },
    {
     "name": "stderr",
     "output_type": "stream",
     "text": [
      "100%|███████████████████████████████████████████████████| 7011657/7011657 [00:00<00:00, 9818880.86it/s]\n"
     ]
    },
    {
     "name": "stdout",
     "output_type": "stream",
     "text": [
      "File: results/Modis/chla/A201103_CHL_NW_month.png "
     ]
    },
    {
     "name": "stderr",
     "output_type": "stream",
     "text": [
      "100%|███████████████████████████████████████████████████| 3148235/3148235 [00:00<00:00, 7537544.38it/s]\n"
     ]
    },
    {
     "name": "stdout",
     "output_type": "stream",
     "text": [
      "File: results/Modis/chla/A201104_CHL_NW_month.nc "
     ]
    },
    {
     "name": "stderr",
     "output_type": "stream",
     "text": [
      "100%|███████████████████████████████████████████████████| 7618523/7618523 [00:00<00:00, 9405421.28it/s]\n"
     ]
    },
    {
     "name": "stdout",
     "output_type": "stream",
     "text": [
      "File: results/Modis/chla/A201104_CHL_NW_month.png "
     ]
    },
    {
     "name": "stderr",
     "output_type": "stream",
     "text": [
      "100%|███████████████████████████████████████████████████| 3453427/3453427 [00:00<00:00, 8511107.95it/s]\n"
     ]
    },
    {
     "name": "stdout",
     "output_type": "stream",
     "text": [
      "File: results/Modis/chla/A201105_CHL_NW_month.nc "
     ]
    },
    {
     "name": "stderr",
     "output_type": "stream",
     "text": [
      "100%|███████████████████████████████████████████████████| 6049459/6049459 [00:00<00:00, 9499027.41it/s]\n"
     ]
    },
    {
     "name": "stdout",
     "output_type": "stream",
     "text": [
      "File: results/Modis/chla/A201105_CHL_NW_month.png "
     ]
    },
    {
     "name": "stderr",
     "output_type": "stream",
     "text": [
      "100%|███████████████████████████████████████████████████| 2807560/2807560 [00:00<00:00, 9071297.83it/s]\n"
     ]
    },
    {
     "name": "stdout",
     "output_type": "stream",
     "text": [
      "File: results/Modis/chla/A201106_CHL_NW_month.nc "
     ]
    },
    {
     "name": "stderr",
     "output_type": "stream",
     "text": [
      "100%|███████████████████████████████████████████████████| 6377997/6377997 [00:00<00:00, 8613081.65it/s]\n"
     ]
    },
    {
     "name": "stdout",
     "output_type": "stream",
     "text": [
      "File: results/Modis/chla/A201106_CHL_NW_month.png "
     ]
    },
    {
     "name": "stderr",
     "output_type": "stream",
     "text": [
      "100%|███████████████████████████████████████████████████| 2535510/2535510 [00:00<00:00, 8084199.47it/s]\n"
     ]
    },
    {
     "name": "stdout",
     "output_type": "stream",
     "text": [
      "File: results/Modis/chla/A201107_CHL_NW_month.nc "
     ]
    },
    {
     "name": "stderr",
     "output_type": "stream",
     "text": [
      "100%|███████████████████████████████████████████████████| 6961115/6961115 [00:00<00:00, 9576672.16it/s]\n"
     ]
    },
    {
     "name": "stdout",
     "output_type": "stream",
     "text": [
      "File: results/Modis/chla/A201107_CHL_NW_month.png "
     ]
    },
    {
     "name": "stderr",
     "output_type": "stream",
     "text": [
      "100%|███████████████████████████████████████████████████| 2688368/2688368 [00:00<00:00, 8243152.22it/s]\n"
     ]
    },
    {
     "name": "stdout",
     "output_type": "stream",
     "text": [
      "File: results/Modis/chla/A201108_CHL_NW_month.nc "
     ]
    },
    {
     "name": "stderr",
     "output_type": "stream",
     "text": [
      "100%|███████████████████████████████████████████████████| 7343014/7343014 [00:00<00:00, 8800961.57it/s]\n"
     ]
    },
    {
     "name": "stdout",
     "output_type": "stream",
     "text": [
      "File: results/Modis/chla/A201108_CHL_NW_month.png "
     ]
    },
    {
     "name": "stderr",
     "output_type": "stream",
     "text": [
      "100%|███████████████████████████████████████████████████| 2710120/2710120 [00:00<00:00, 8663044.95it/s]\n"
     ]
    },
    {
     "name": "stdout",
     "output_type": "stream",
     "text": [
      "File: results/Modis/chla/A201109_CHL_NW_month.nc "
     ]
    },
    {
     "name": "stderr",
     "output_type": "stream",
     "text": [
      "100%|███████████████████████████████████████████████████| 7728312/7728312 [00:00<00:00, 9227463.79it/s]\n"
     ]
    },
    {
     "name": "stdout",
     "output_type": "stream",
     "text": [
      "File: results/Modis/chla/A201109_CHL_NW_month.png "
     ]
    },
    {
     "name": "stderr",
     "output_type": "stream",
     "text": [
      "100%|███████████████████████████████████████████████████| 2941167/2941167 [00:00<00:00, 9578714.42it/s]\n"
     ]
    },
    {
     "name": "stdout",
     "output_type": "stream",
     "text": [
      "File: results/Modis/chla/A201110_CHL_NW_month.nc "
     ]
    },
    {
     "name": "stderr",
     "output_type": "stream",
     "text": [
      "100%|██████████████████████████████████████████████████| 8249262/8249262 [00:00<00:00, 10086832.28it/s]\n"
     ]
    },
    {
     "name": "stdout",
     "output_type": "stream",
     "text": [
      "File: results/Modis/chla/A201110_CHL_NW_month.png "
     ]
    },
    {
     "name": "stderr",
     "output_type": "stream",
     "text": [
      "100%|███████████████████████████████████████████████████| 3281428/3281428 [00:00<00:00, 8024615.30it/s]\n"
     ]
    },
    {
     "name": "stdout",
     "output_type": "stream",
     "text": [
      "File: results/Modis/chla/A201111_CHL_NW_month.nc "
     ]
    },
    {
     "name": "stderr",
     "output_type": "stream",
     "text": [
      "100%|███████████████████████████████████████████████████| 7843330/7843330 [00:00<00:00, 9674251.15it/s]\n"
     ]
    },
    {
     "name": "stdout",
     "output_type": "stream",
     "text": [
      "File: results/Modis/chla/A201111_CHL_NW_month.png "
     ]
    },
    {
     "name": "stderr",
     "output_type": "stream",
     "text": [
      "100%|███████████████████████████████████████████████████| 3892514/3892514 [00:00<00:00, 9394486.60it/s]\n"
     ]
    },
    {
     "name": "stdout",
     "output_type": "stream",
     "text": [
      "File: results/Modis/chla/A201112_CHL_NW_month.nc "
     ]
    },
    {
     "name": "stderr",
     "output_type": "stream",
     "text": [
      "100%|███████████████████████████████████████████████████| 6037644/6037644 [00:00<00:00, 9831329.07it/s]\n"
     ]
    },
    {
     "name": "stdout",
     "output_type": "stream",
     "text": [
      "File: results/Modis/chla/A201112_CHL_NW_month.png "
     ]
    },
    {
     "name": "stderr",
     "output_type": "stream",
     "text": [
      "100%|███████████████████████████████████████████████████| 3253893/3253893 [00:00<00:00, 8001093.03it/s]\n"
     ]
    },
    {
     "name": "stdout",
     "output_type": "stream",
     "text": [
      "2012...\n",
      "File: results/Modis/chla/A201201_CHL_NW_month.nc "
     ]
    },
    {
     "name": "stderr",
     "output_type": "stream",
     "text": [
      "100%|███████████████████████████████████████████████████| 5446475/5446475 [00:00<00:00, 8871471.38it/s]\n"
     ]
    },
    {
     "name": "stdout",
     "output_type": "stream",
     "text": [
      "File: results/Modis/chla/A201201_CHL_NW_month.png "
     ]
    },
    {
     "name": "stderr",
     "output_type": "stream",
     "text": [
      "100%|███████████████████████████████████████████████████| 2973819/2973819 [00:00<00:00, 9782103.07it/s]\n"
     ]
    },
    {
     "name": "stdout",
     "output_type": "stream",
     "text": [
      "File: results/Modis/chla/A201202_CHL_NW_month.nc "
     ]
    },
    {
     "name": "stderr",
     "output_type": "stream",
     "text": [
      "100%|███████████████████████████████████████████████████| 6321254/6321254 [00:00<00:00, 8896736.04it/s]\n"
     ]
    },
    {
     "name": "stdout",
     "output_type": "stream",
     "text": [
      "File: results/Modis/chla/A201202_CHL_NW_month.png "
     ]
    },
    {
     "name": "stderr",
     "output_type": "stream",
     "text": [
      "100%|███████████████████████████████████████████████████| 2961010/2961010 [00:00<00:00, 9685672.51it/s]\n"
     ]
    },
    {
     "name": "stdout",
     "output_type": "stream",
     "text": [
      "File: results/Modis/chla/A201203_CHL_NW_month.nc "
     ]
    },
    {
     "name": "stderr",
     "output_type": "stream",
     "text": [
      "100%|███████████████████████████████████████████████████| 7422128/7422128 [00:00<00:00, 9146913.76it/s]\n"
     ]
    },
    {
     "name": "stdout",
     "output_type": "stream",
     "text": [
      "File: results/Modis/chla/A201203_CHL_NW_month.png "
     ]
    },
    {
     "name": "stderr",
     "output_type": "stream",
     "text": [
      "100%|███████████████████████████████████████████████████| 3338989/3338989 [00:00<00:00, 8237895.22it/s]\n"
     ]
    },
    {
     "name": "stdout",
     "output_type": "stream",
     "text": [
      "File: results/Modis/chla/A201204_CHL_NW_month.nc "
     ]
    },
    {
     "name": "stderr",
     "output_type": "stream",
     "text": [
      "100%|███████████████████████████████████████████████████| 7475528/7475528 [00:00<00:00, 9148537.73it/s]\n"
     ]
    },
    {
     "name": "stdout",
     "output_type": "stream",
     "text": [
      "File: results/Modis/chla/A201204_CHL_NW_month.png "
     ]
    },
    {
     "name": "stderr",
     "output_type": "stream",
     "text": [
      "100%|███████████████████████████████████████████████████| 3397230/3397230 [00:00<00:00, 8323149.40it/s]\n"
     ]
    },
    {
     "name": "stdout",
     "output_type": "stream",
     "text": [
      "File: results/Modis/chla/A201205_CHL_NW_month.nc "
     ]
    },
    {
     "name": "stderr",
     "output_type": "stream",
     "text": [
      "100%|███████████████████████████████████████████████████| 7576793/7576793 [00:00<00:00, 9338497.29it/s]\n"
     ]
    },
    {
     "name": "stdout",
     "output_type": "stream",
     "text": [
      "File: results/Modis/chla/A201205_CHL_NW_month.png "
     ]
    },
    {
     "name": "stderr",
     "output_type": "stream",
     "text": [
      "100%|███████████████████████████████████████████████████| 3171102/3171102 [00:00<00:00, 7673820.98it/s]\n"
     ]
    },
    {
     "name": "stdout",
     "output_type": "stream",
     "text": [
      "File: results/Modis/chla/A201206_CHL_NW_month.nc "
     ]
    },
    {
     "name": "stderr",
     "output_type": "stream",
     "text": [
      "100%|██████████████████████████████████████████████████| 6100443/6100443 [00:00<00:00, 10014921.32it/s]\n"
     ]
    },
    {
     "name": "stdout",
     "output_type": "stream",
     "text": [
      "File: results/Modis/chla/A201206_CHL_NW_month.png "
     ]
    },
    {
     "name": "stderr",
     "output_type": "stream",
     "text": [
      "100%|███████████████████████████████████████████████████| 2656338/2656338 [00:00<00:00, 8286549.17it/s]\n"
     ]
    },
    {
     "name": "stdout",
     "output_type": "stream",
     "text": [
      "File: results/Modis/chla/A201207_CHL_NW_month.nc "
     ]
    },
    {
     "name": "stderr",
     "output_type": "stream",
     "text": [
      "100%|███████████████████████████████████████████████████| 7710450/7710450 [00:00<00:00, 9420233.15it/s]\n"
     ]
    },
    {
     "name": "stdout",
     "output_type": "stream",
     "text": [
      "File: results/Modis/chla/A201207_CHL_NW_month.png "
     ]
    },
    {
     "name": "stderr",
     "output_type": "stream",
     "text": [
      "100%|███████████████████████████████████████████████████| 2985681/2985681 [00:00<00:00, 9681229.08it/s]\n"
     ]
    },
    {
     "name": "stdout",
     "output_type": "stream",
     "text": [
      "File: results/Modis/chla/A201208_CHL_NW_month.nc "
     ]
    },
    {
     "name": "stderr",
     "output_type": "stream",
     "text": [
      "100%|███████████████████████████████████████████████████| 8151612/8151612 [00:00<00:00, 9881141.03it/s]\n"
     ]
    },
    {
     "name": "stdout",
     "output_type": "stream",
     "text": [
      "File: results/Modis/chla/A201208_CHL_NW_month.png "
     ]
    },
    {
     "name": "stderr",
     "output_type": "stream",
     "text": [
      "100%|███████████████████████████████████████████████████| 2888802/2888802 [00:00<00:00, 9182780.65it/s]\n"
     ]
    },
    {
     "name": "stdout",
     "output_type": "stream",
     "text": [
      "File: results/Modis/chla/A201209_CHL_NW_month.nc "
     ]
    },
    {
     "name": "stderr",
     "output_type": "stream",
     "text": [
      "100%|██████████████████████████████████████████████████| 8249100/8249100 [00:00<00:00, 10092589.35it/s]\n"
     ]
    },
    {
     "name": "stdout",
     "output_type": "stream",
     "text": [
      "File: results/Modis/chla/A201209_CHL_NW_month.png "
     ]
    },
    {
     "name": "stderr",
     "output_type": "stream",
     "text": [
      "100%|███████████████████████████████████████████████████| 3032403/3032403 [00:00<00:00, 9949068.90it/s]\n"
     ]
    },
    {
     "name": "stdout",
     "output_type": "stream",
     "text": [
      "File: results/Modis/chla/A201210_CHL_NW_month.nc "
     ]
    },
    {
     "name": "stderr",
     "output_type": "stream",
     "text": [
      "100%|███████████████████████████████████████████████████| 8433720/8433720 [00:00<00:00, 9203262.35it/s]\n"
     ]
    },
    {
     "name": "stdout",
     "output_type": "stream",
     "text": [
      "File: results/Modis/chla/A201210_CHL_NW_month.png "
     ]
    },
    {
     "name": "stderr",
     "output_type": "stream",
     "text": [
      "100%|███████████████████████████████████████████████████| 3262924/3262924 [00:00<00:00, 7869276.70it/s]\n"
     ]
    },
    {
     "name": "stdout",
     "output_type": "stream",
     "text": [
      "File: results/Modis/chla/A201211_CHL_NW_month.nc "
     ]
    },
    {
     "name": "stderr",
     "output_type": "stream",
     "text": [
      "100%|███████████████████████████████████████████████████| 7406278/7406278 [00:00<00:00, 8973939.92it/s]\n"
     ]
    },
    {
     "name": "stdout",
     "output_type": "stream",
     "text": [
      "File: results/Modis/chla/A201211_CHL_NW_month.png "
     ]
    },
    {
     "name": "stderr",
     "output_type": "stream",
     "text": [
      "100%|███████████████████████████████████████████████████| 3900852/3900852 [00:00<00:00, 9430031.43it/s]\n"
     ]
    },
    {
     "name": "stdout",
     "output_type": "stream",
     "text": [
      "File: results/Modis/chla/A201212_CHL_NW_month.nc "
     ]
    },
    {
     "name": "stderr",
     "output_type": "stream",
     "text": [
      "100%|███████████████████████████████████████████████████| 5903805/5903805 [00:00<00:00, 9603115.26it/s]\n"
     ]
    },
    {
     "name": "stdout",
     "output_type": "stream",
     "text": [
      "File: results/Modis/chla/A201212_CHL_NW_month.png "
     ]
    },
    {
     "name": "stderr",
     "output_type": "stream",
     "text": [
      "100%|███████████████████████████████████████████████████| 3234903/3234903 [00:00<00:00, 7873696.61it/s]\n"
     ]
    },
    {
     "name": "stdout",
     "output_type": "stream",
     "text": [
      "2013...\n",
      "File: results/Modis/chla/A201301_CHL_NW_month.nc "
     ]
    },
    {
     "name": "stderr",
     "output_type": "stream",
     "text": [
      "100%|███████████████████████████████████████████████████| 6855212/6855212 [00:00<00:00, 9550554.84it/s]\n"
     ]
    },
    {
     "name": "stdout",
     "output_type": "stream",
     "text": [
      "File: results/Modis/chla/A201301_CHL_NW_month.png "
     ]
    },
    {
     "name": "stderr",
     "output_type": "stream",
     "text": [
      "100%|███████████████████████████████████████████████████| 3300153/3300153 [00:00<00:00, 7845120.85it/s]\n"
     ]
    },
    {
     "name": "stdout",
     "output_type": "stream",
     "text": [
      "File: results/Modis/chla/A201302_CHL_NW_month.nc "
     ]
    },
    {
     "name": "stderr",
     "output_type": "stream",
     "text": [
      "100%|███████████████████████████████████████████████████| 6852736/6852736 [00:00<00:00, 9658515.66it/s]\n"
     ]
    },
    {
     "name": "stdout",
     "output_type": "stream",
     "text": [
      "File: results/Modis/chla/A201302_CHL_NW_month.png "
     ]
    },
    {
     "name": "stderr",
     "output_type": "stream",
     "text": [
      "100%|███████████████████████████████████████████████████| 2996490/2996490 [00:00<00:00, 9465737.68it/s]\n"
     ]
    },
    {
     "name": "stdout",
     "output_type": "stream",
     "text": [
      "File: results/Modis/chla/A201303_CHL_NW_month.nc "
     ]
    },
    {
     "name": "stderr",
     "output_type": "stream",
     "text": [
      "100%|███████████████████████████████████████████████████| 7569251/7569251 [00:00<00:00, 9287510.83it/s]\n"
     ]
    },
    {
     "name": "stdout",
     "output_type": "stream",
     "text": [
      "File: results/Modis/chla/A201303_CHL_NW_month.png "
     ]
    },
    {
     "name": "stderr",
     "output_type": "stream",
     "text": [
      "100%|███████████████████████████████████████████████████| 3059562/3059562 [00:00<00:00, 9716798.71it/s]\n"
     ]
    },
    {
     "name": "stdout",
     "output_type": "stream",
     "text": [
      "File: results/Modis/chla/A201304_CHL_NW_month.nc "
     ]
    },
    {
     "name": "stderr",
     "output_type": "stream",
     "text": [
      "100%|██████████████████████████████████████████████████| 7182534/7182534 [00:00<00:00, 10073025.94it/s]\n"
     ]
    },
    {
     "name": "stdout",
     "output_type": "stream",
     "text": [
      "File: results/Modis/chla/A201304_CHL_NW_month.png "
     ]
    },
    {
     "name": "stderr",
     "output_type": "stream",
     "text": [
      "100%|███████████████████████████████████████████████████| 3212396/3212396 [00:00<00:00, 7913831.70it/s]\n"
     ]
    },
    {
     "name": "stdout",
     "output_type": "stream",
     "text": [
      "File: results/Modis/chla/A201305_CHL_NW_month.nc "
     ]
    },
    {
     "name": "stderr",
     "output_type": "stream",
     "text": [
      "100%|███████████████████████████████████████████████████| 7736499/7736499 [00:00<00:00, 9389475.35it/s]\n"
     ]
    },
    {
     "name": "stdout",
     "output_type": "stream",
     "text": [
      "File: results/Modis/chla/A201305_CHL_NW_month.png "
     ]
    },
    {
     "name": "stderr",
     "output_type": "stream",
     "text": [
      "100%|███████████████████████████████████████████████████| 3279262/3279262 [00:00<00:00, 8004300.47it/s]\n"
     ]
    },
    {
     "name": "stdout",
     "output_type": "stream",
     "text": [
      "File: results/Modis/chla/A201306_CHL_NW_month.nc "
     ]
    },
    {
     "name": "stderr",
     "output_type": "stream",
     "text": [
      "100%|███████████████████████████████████████████████████| 6594427/6594427 [00:00<00:00, 9248359.43it/s]\n"
     ]
    },
    {
     "name": "stdout",
     "output_type": "stream",
     "text": [
      "File: results/Modis/chla/A201306_CHL_NW_month.png "
     ]
    },
    {
     "name": "stderr",
     "output_type": "stream",
     "text": [
      "100%|███████████████████████████████████████████████████| 2798797/2798797 [00:00<00:00, 8945558.13it/s]\n"
     ]
    },
    {
     "name": "stdout",
     "output_type": "stream",
     "text": [
      "File: results/Modis/chla/A201307_CHL_NW_month.nc "
     ]
    },
    {
     "name": "stderr",
     "output_type": "stream",
     "text": [
      "100%|███████████████████████████████████████████████████| 7564140/7564140 [00:00<00:00, 9248019.71it/s]\n"
     ]
    },
    {
     "name": "stdout",
     "output_type": "stream",
     "text": [
      "File: results/Modis/chla/A201307_CHL_NW_month.png "
     ]
    },
    {
     "name": "stderr",
     "output_type": "stream",
     "text": [
      "100%|███████████████████████████████████████████████████| 2897211/2897211 [00:00<00:00, 9275505.18it/s]\n"
     ]
    },
    {
     "name": "stdout",
     "output_type": "stream",
     "text": [
      "File: results/Modis/chla/A201308_CHL_NW_month.nc "
     ]
    },
    {
     "name": "stderr",
     "output_type": "stream",
     "text": [
      "100%|██████████████████████████████████████████████████| 8237263/8237263 [00:00<00:00, 10039622.89it/s]\n"
     ]
    },
    {
     "name": "stdout",
     "output_type": "stream",
     "text": [
      "File: results/Modis/chla/A201308_CHL_NW_month.png "
     ]
    },
    {
     "name": "stderr",
     "output_type": "stream",
     "text": [
      "100%|███████████████████████████████████████████████████| 3034030/3034030 [00:00<00:00, 9865085.15it/s]\n"
     ]
    },
    {
     "name": "stdout",
     "output_type": "stream",
     "text": [
      "File: results/Modis/chla/A201309_CHL_NW_month.nc "
     ]
    },
    {
     "name": "stderr",
     "output_type": "stream",
     "text": [
      "100%|██████████████████████████████████████████████████| 8318731/8318731 [00:00<00:00, 10099888.44it/s]\n"
     ]
    },
    {
     "name": "stdout",
     "output_type": "stream",
     "text": [
      "File: results/Modis/chla/A201309_CHL_NW_month.png "
     ]
    },
    {
     "name": "stderr",
     "output_type": "stream",
     "text": [
      "100%|███████████████████████████████████████████████████| 3037860/3037860 [00:00<00:00, 9613583.02it/s]\n"
     ]
    },
    {
     "name": "stdout",
     "output_type": "stream",
     "text": [
      "File: results/Modis/chla/A201310_CHL_NW_month.nc "
     ]
    },
    {
     "name": "stderr",
     "output_type": "stream",
     "text": [
      "100%|██████████████████████████████████████████████████| 8350515/8350515 [00:00<00:00, 10132737.77it/s]\n"
     ]
    },
    {
     "name": "stdout",
     "output_type": "stream",
     "text": [
      "File: results/Modis/chla/A201310_CHL_NW_month.png "
     ]
    },
    {
     "name": "stderr",
     "output_type": "stream",
     "text": [
      "100%|███████████████████████████████████████████████████| 3366244/3366244 [00:00<00:00, 8040947.05it/s]\n"
     ]
    },
    {
     "name": "stdout",
     "output_type": "stream",
     "text": [
      "File: results/Modis/chla/A201311_CHL_NW_month.nc "
     ]
    },
    {
     "name": "stderr",
     "output_type": "stream",
     "text": [
      "100%|███████████████████████████████████████████████████| 7928013/7928013 [00:00<00:00, 9659411.94it/s]\n"
     ]
    },
    {
     "name": "stdout",
     "output_type": "stream",
     "text": [
      "File: results/Modis/chla/A201311_CHL_NW_month.png "
     ]
    },
    {
     "name": "stderr",
     "output_type": "stream",
     "text": [
      "100%|███████████████████████████████████████████████████| 3819856/3819856 [00:00<00:00, 9040714.21it/s]\n"
     ]
    },
    {
     "name": "stdout",
     "output_type": "stream",
     "text": [
      "File: results/Modis/chla/A201312_CHL_NW_month.nc "
     ]
    },
    {
     "name": "stderr",
     "output_type": "stream",
     "text": [
      "100%|██████████████████████████████████████████████████| 7290719/7290719 [00:00<00:00, 10282947.80it/s]\n"
     ]
    },
    {
     "name": "stdout",
     "output_type": "stream",
     "text": [
      "File: results/Modis/chla/A201312_CHL_NW_month.png "
     ]
    },
    {
     "name": "stderr",
     "output_type": "stream",
     "text": [
      "100%|███████████████████████████████████████████████████| 3788849/3788849 [00:00<00:00, 9143735.97it/s]\n"
     ]
    },
    {
     "name": "stdout",
     "output_type": "stream",
     "text": [
      "2014...\n",
      "File: results/Modis/chla/A201401_CHL_NW_month.nc "
     ]
    },
    {
     "name": "stderr",
     "output_type": "stream",
     "text": [
      "100%|███████████████████████████████████████████████████| 7415384/7415384 [00:00<00:00, 8983808.07it/s]\n"
     ]
    },
    {
     "name": "stdout",
     "output_type": "stream",
     "text": [
      "File: results/Modis/chla/A201401_CHL_NW_month.png "
     ]
    },
    {
     "name": "stderr",
     "output_type": "stream",
     "text": [
      "100%|███████████████████████████████████████████████████| 3446376/3446376 [00:00<00:00, 8352858.95it/s]\n"
     ]
    },
    {
     "name": "stdout",
     "output_type": "stream",
     "text": [
      "File: results/Modis/chla/A201402_CHL_NW_month.nc "
     ]
    },
    {
     "name": "stderr",
     "output_type": "stream",
     "text": [
      "100%|███████████████████████████████████████████████████| 6348389/6348389 [00:00<00:00, 8826805.34it/s]\n"
     ]
    },
    {
     "name": "stdout",
     "output_type": "stream",
     "text": [
      "File: results/Modis/chla/A201402_CHL_NW_month.png "
     ]
    },
    {
     "name": "stderr",
     "output_type": "stream",
     "text": [
      "100%|██████████████████████████████████████████████████| 3135351/3135351 [00:00<00:00, 10263318.07it/s]\n"
     ]
    },
    {
     "name": "stdout",
     "output_type": "stream",
     "text": [
      "File: results/Modis/chla/A201403_CHL_NW_month.nc "
     ]
    },
    {
     "name": "stderr",
     "output_type": "stream",
     "text": [
      "100%|███████████████████████████████████████████████████| 7944726/7944726 [00:00<00:00, 9704432.77it/s]\n"
     ]
    },
    {
     "name": "stdout",
     "output_type": "stream",
     "text": [
      "File: results/Modis/chla/A201403_CHL_NW_month.png "
     ]
    },
    {
     "name": "stderr",
     "output_type": "stream",
     "text": [
      "100%|███████████████████████████████████████████████████| 3362748/3362748 [00:00<00:00, 8160811.35it/s]\n"
     ]
    },
    {
     "name": "stdout",
     "output_type": "stream",
     "text": [
      "File: results/Modis/chla/A201404_CHL_NW_month.nc "
     ]
    },
    {
     "name": "stderr",
     "output_type": "stream",
     "text": [
      "100%|███████████████████████████████████████████████████| 7632085/7632085 [00:00<00:00, 9376353.86it/s]\n"
     ]
    },
    {
     "name": "stdout",
     "output_type": "stream",
     "text": [
      "File: results/Modis/chla/A201404_CHL_NW_month.png "
     ]
    },
    {
     "name": "stderr",
     "output_type": "stream",
     "text": [
      "100%|███████████████████████████████████████████████████| 3430509/3430509 [00:00<00:00, 8327852.83it/s]\n"
     ]
    },
    {
     "name": "stdout",
     "output_type": "stream",
     "text": [
      "File: results/Modis/chla/A201405_CHL_NW_month.nc "
     ]
    },
    {
     "name": "stderr",
     "output_type": "stream",
     "text": [
      "100%|███████████████████████████████████████████████████| 7472671/7472671 [00:00<00:00, 9211234.72it/s]\n"
     ]
    },
    {
     "name": "stdout",
     "output_type": "stream",
     "text": [
      "File: results/Modis/chla/A201405_CHL_NW_month.png "
     ]
    },
    {
     "name": "stderr",
     "output_type": "stream",
     "text": [
      "100%|███████████████████████████████████████████████████| 3022546/3022546 [00:00<00:00, 9759570.23it/s]\n"
     ]
    },
    {
     "name": "stdout",
     "output_type": "stream",
     "text": [
      "File: results/Modis/chla/A201406_CHL_NW_month.nc "
     ]
    },
    {
     "name": "stderr",
     "output_type": "stream",
     "text": [
      "100%|██████████████████████████████████████████████████| 6252600/6252600 [00:00<00:00, 10102750.30it/s]\n"
     ]
    },
    {
     "name": "stdout",
     "output_type": "stream",
     "text": [
      "File: results/Modis/chla/A201406_CHL_NW_month.png "
     ]
    },
    {
     "name": "stderr",
     "output_type": "stream",
     "text": [
      "100%|███████████████████████████████████████████████████| 2805903/2805903 [00:00<00:00, 8842526.39it/s]\n"
     ]
    },
    {
     "name": "stdout",
     "output_type": "stream",
     "text": [
      "File: results/Modis/chla/A201407_CHL_NW_month.nc "
     ]
    },
    {
     "name": "stderr",
     "output_type": "stream",
     "text": [
      "100%|███████████████████████████████████████████████████| 7621690/7621690 [00:00<00:00, 9403200.57it/s]\n"
     ]
    },
    {
     "name": "stdout",
     "output_type": "stream",
     "text": [
      "File: results/Modis/chla/A201407_CHL_NW_month.png "
     ]
    },
    {
     "name": "stderr",
     "output_type": "stream",
     "text": [
      "100%|███████████████████████████████████████████████████| 2926846/2926846 [00:00<00:00, 9066536.89it/s]\n"
     ]
    },
    {
     "name": "stdout",
     "output_type": "stream",
     "text": [
      "File: results/Modis/chla/A201408_CHL_NW_month.nc "
     ]
    },
    {
     "name": "stderr",
     "output_type": "stream",
     "text": [
      "100%|███████████████████████████████████████████████████| 7572155/7572155 [00:00<00:00, 9259522.09it/s]\n"
     ]
    },
    {
     "name": "stdout",
     "output_type": "stream",
     "text": [
      "File: results/Modis/chla/A201408_CHL_NW_month.png "
     ]
    },
    {
     "name": "stderr",
     "output_type": "stream",
     "text": [
      "100%|███████████████████████████████████████████████████| 2908060/2908060 [00:00<00:00, 9303371.61it/s]\n"
     ]
    },
    {
     "name": "stdout",
     "output_type": "stream",
     "text": [
      "File: results/Modis/chla/A201409_CHL_NW_month.nc "
     ]
    },
    {
     "name": "stderr",
     "output_type": "stream",
     "text": [
      "100%|███████████████████████████████████████████████████| 8199581/8199581 [00:00<00:00, 9967697.11it/s]\n"
     ]
    },
    {
     "name": "stdout",
     "output_type": "stream",
     "text": [
      "File: results/Modis/chla/A201409_CHL_NW_month.png "
     ]
    },
    {
     "name": "stderr",
     "output_type": "stream",
     "text": [
      "100%|███████████████████████████████████████████████████| 2950928/2950928 [00:00<00:00, 9352203.17it/s]\n"
     ]
    },
    {
     "name": "stdout",
     "output_type": "stream",
     "text": [
      "File: results/Modis/chla/A201410_CHL_NW_month.nc "
     ]
    },
    {
     "name": "stderr",
     "output_type": "stream",
     "text": [
      "100%|██████████████████████████████████████████████████| 8345743/8345743 [00:00<00:00, 10283965.77it/s]\n"
     ]
    },
    {
     "name": "stdout",
     "output_type": "stream",
     "text": [
      "File: results/Modis/chla/A201410_CHL_NW_month.png "
     ]
    },
    {
     "name": "stderr",
     "output_type": "stream",
     "text": [
      "100%|███████████████████████████████████████████████████| 3283453/3283453 [00:00<00:00, 7905885.79it/s]\n"
     ]
    },
    {
     "name": "stdout",
     "output_type": "stream",
     "text": [
      "File: results/Modis/chla/A201411_CHL_NW_month.nc "
     ]
    },
    {
     "name": "stderr",
     "output_type": "stream",
     "text": [
      "100%|██████████████████████████████████████████████████| 8251428/8251428 [00:00<00:00, 10010730.53it/s]\n"
     ]
    },
    {
     "name": "stdout",
     "output_type": "stream",
     "text": [
      "File: results/Modis/chla/A201411_CHL_NW_month.png "
     ]
    },
    {
     "name": "stderr",
     "output_type": "stream",
     "text": [
      "100%|███████████████████████████████████████████████████| 3906918/3906918 [00:00<00:00, 9646694.76it/s]\n"
     ]
    },
    {
     "name": "stdout",
     "output_type": "stream",
     "text": [
      "File: results/Modis/chla/A201412_CHL_NW_month.nc "
     ]
    },
    {
     "name": "stderr",
     "output_type": "stream",
     "text": [
      "100%|███████████████████████████████████████████████████| 5784234/5784234 [00:00<00:00, 9482104.14it/s]\n"
     ]
    },
    {
     "name": "stdout",
     "output_type": "stream",
     "text": [
      "File: results/Modis/chla/A201412_CHL_NW_month.png "
     ]
    },
    {
     "name": "stderr",
     "output_type": "stream",
     "text": [
      "100%|███████████████████████████████████████████████████| 3292711/3292711 [00:00<00:00, 8036604.11it/s]\n"
     ]
    },
    {
     "name": "stdout",
     "output_type": "stream",
     "text": [
      "2015...\n",
      "File: results/Modis/chla/A201501_CHL_NW_month.nc "
     ]
    },
    {
     "name": "stderr",
     "output_type": "stream",
     "text": [
      "100%|███████████████████████████████████████████████████| 6975689/6975689 [00:00<00:00, 9821539.62it/s]\n"
     ]
    },
    {
     "name": "stdout",
     "output_type": "stream",
     "text": [
      "File: results/Modis/chla/A201501_CHL_NW_month.png "
     ]
    },
    {
     "name": "stderr",
     "output_type": "stream",
     "text": [
      "100%|███████████████████████████████████████████████████| 3384492/3384492 [00:00<00:00, 8258237.58it/s]\n"
     ]
    },
    {
     "name": "stdout",
     "output_type": "stream",
     "text": [
      "File: results/Modis/chla/A201502_CHL_NW_month.nc "
     ]
    },
    {
     "name": "stderr",
     "output_type": "stream",
     "text": [
      "100%|███████████████████████████████████████████████████| 7156160/7156160 [00:00<00:00, 9945213.07it/s]\n"
     ]
    },
    {
     "name": "stdout",
     "output_type": "stream",
     "text": [
      "File: results/Modis/chla/A201502_CHL_NW_month.png "
     ]
    },
    {
     "name": "stderr",
     "output_type": "stream",
     "text": [
      "100%|███████████████████████████████████████████████████| 3340162/3340162 [00:00<00:00, 8110259.90it/s]\n"
     ]
    },
    {
     "name": "stdout",
     "output_type": "stream",
     "text": [
      "File: results/Modis/chla/A201503_CHL_NW_month.nc "
     ]
    },
    {
     "name": "stderr",
     "output_type": "stream",
     "text": [
      "100%|███████████████████████████████████████████████████| 7922675/7922675 [00:00<00:00, 9680765.18it/s]\n"
     ]
    },
    {
     "name": "stdout",
     "output_type": "stream",
     "text": [
      "File: results/Modis/chla/A201503_CHL_NW_month.png "
     ]
    },
    {
     "name": "stderr",
     "output_type": "stream",
     "text": [
      "100%|███████████████████████████████████████████████████| 3364510/3364510 [00:00<00:00, 8003131.52it/s]\n"
     ]
    },
    {
     "name": "stdout",
     "output_type": "stream",
     "text": [
      "File: results/Modis/chla/A201504_CHL_NW_month.nc "
     ]
    },
    {
     "name": "stderr",
     "output_type": "stream",
     "text": [
      "100%|███████████████████████████████████████████████████| 7504743/7504743 [00:00<00:00, 9114342.16it/s]\n"
     ]
    },
    {
     "name": "stdout",
     "output_type": "stream",
     "text": [
      "File: results/Modis/chla/A201504_CHL_NW_month.png "
     ]
    },
    {
     "name": "stderr",
     "output_type": "stream",
     "text": [
      "100%|███████████████████████████████████████████████████| 3442999/3442999 [00:00<00:00, 8405323.44it/s]\n"
     ]
    },
    {
     "name": "stdout",
     "output_type": "stream",
     "text": [
      "File: results/Modis/chla/A201505_CHL_NW_month.nc "
     ]
    },
    {
     "name": "stderr",
     "output_type": "stream",
     "text": [
      "100%|███████████████████████████████████████████████████| 7973644/7973644 [00:00<00:00, 9739565.89it/s]\n"
     ]
    },
    {
     "name": "stdout",
     "output_type": "stream",
     "text": [
      "File: results/Modis/chla/A201505_CHL_NW_month.png "
     ]
    },
    {
     "name": "stderr",
     "output_type": "stream",
     "text": [
      "100%|██████████████████████████████████████████████████| 3083022/3083022 [00:00<00:00, 10035062.61it/s]\n"
     ]
    },
    {
     "name": "stdout",
     "output_type": "stream",
     "text": [
      "File: results/Modis/chla/A201506_CHL_NW_month.nc "
     ]
    },
    {
     "name": "stderr",
     "output_type": "stream",
     "text": [
      "100%|███████████████████████████████████████████████████| 6156968/6156968 [00:00<00:00, 9987919.56it/s]\n"
     ]
    },
    {
     "name": "stdout",
     "output_type": "stream",
     "text": [
      "File: results/Modis/chla/A201506_CHL_NW_month.png "
     ]
    },
    {
     "name": "stderr",
     "output_type": "stream",
     "text": [
      "100%|███████████████████████████████████████████████████| 2752459/2752459 [00:00<00:00, 8836115.35it/s]\n"
     ]
    },
    {
     "name": "stdout",
     "output_type": "stream",
     "text": [
      "File: results/Modis/chla/A201507_CHL_NW_month.nc "
     ]
    },
    {
     "name": "stderr",
     "output_type": "stream",
     "text": [
      "100%|███████████████████████████████████████████████████| 7866152/7866152 [00:00<00:00, 9594453.58it/s]\n"
     ]
    },
    {
     "name": "stdout",
     "output_type": "stream",
     "text": [
      "File: results/Modis/chla/A201507_CHL_NW_month.png "
     ]
    },
    {
     "name": "stderr",
     "output_type": "stream",
     "text": [
      "100%|███████████████████████████████████████████████████| 2909037/2909037 [00:00<00:00, 9168224.98it/s]\n"
     ]
    },
    {
     "name": "stdout",
     "output_type": "stream",
     "text": [
      "File: results/Modis/chla/A201508_CHL_NW_month.nc "
     ]
    },
    {
     "name": "stderr",
     "output_type": "stream",
     "text": [
      "100%|███████████████████████████████████████████████████| 8139553/8139553 [00:00<00:00, 9947004.21it/s]\n"
     ]
    },
    {
     "name": "stdout",
     "output_type": "stream",
     "text": [
      "File: results/Modis/chla/A201508_CHL_NW_month.png "
     ]
    },
    {
     "name": "stderr",
     "output_type": "stream",
     "text": [
      "100%|███████████████████████████████████████████████████| 3080447/3080447 [00:00<00:00, 9827454.38it/s]\n"
     ]
    },
    {
     "name": "stdout",
     "output_type": "stream",
     "text": [
      "File: results/Modis/chla/A201509_CHL_NW_month.nc "
     ]
    },
    {
     "name": "stderr",
     "output_type": "stream",
     "text": [
      "100%|██████████████████████████████████████████████████| 8239785/8239785 [00:00<00:00, 10159796.49it/s]\n"
     ]
    },
    {
     "name": "stdout",
     "output_type": "stream",
     "text": [
      "File: results/Modis/chla/A201509_CHL_NW_month.png "
     ]
    },
    {
     "name": "stderr",
     "output_type": "stream",
     "text": [
      "100%|███████████████████████████████████████████████████| 2976065/2976065 [00:00<00:00, 9364625.47it/s]\n"
     ]
    },
    {
     "name": "stdout",
     "output_type": "stream",
     "text": [
      "File: results/Modis/chla/A201510_CHL_NW_month.nc "
     ]
    },
    {
     "name": "stderr",
     "output_type": "stream",
     "text": [
      "100%|██████████████████████████████████████████████████| 8375960/8375960 [00:00<00:00, 10211842.71it/s]\n"
     ]
    },
    {
     "name": "stdout",
     "output_type": "stream",
     "text": [
      "File: results/Modis/chla/A201510_CHL_NW_month.png "
     ]
    },
    {
     "name": "stderr",
     "output_type": "stream",
     "text": [
      "100%|███████████████████████████████████████████████████| 3150187/3150187 [00:00<00:00, 7595333.37it/s]\n"
     ]
    },
    {
     "name": "stdout",
     "output_type": "stream",
     "text": [
      "File: results/Modis/chla/A201511_CHL_NW_month.nc "
     ]
    },
    {
     "name": "stderr",
     "output_type": "stream",
     "text": [
      "100%|███████████████████████████████████████████████████| 7534499/7534499 [00:00<00:00, 9241590.55it/s]\n"
     ]
    },
    {
     "name": "stdout",
     "output_type": "stream",
     "text": [
      "File: results/Modis/chla/A201511_CHL_NW_month.png "
     ]
    },
    {
     "name": "stderr",
     "output_type": "stream",
     "text": [
      "100%|███████████████████████████████████████████████████| 3748079/3748079 [00:00<00:00, 9152687.45it/s]\n"
     ]
    },
    {
     "name": "stdout",
     "output_type": "stream",
     "text": [
      "File: results/Modis/chla/A201512_CHL_NW_month.nc "
     ]
    },
    {
     "name": "stderr",
     "output_type": "stream",
     "text": [
      "100%|██████████████████████████████████████████████████| 7281521/7281521 [00:00<00:00, 10162797.11it/s]\n"
     ]
    },
    {
     "name": "stdout",
     "output_type": "stream",
     "text": [
      "File: results/Modis/chla/A201512_CHL_NW_month.png "
     ]
    },
    {
     "name": "stderr",
     "output_type": "stream",
     "text": [
      "100%|███████████████████████████████████████████████████| 3769188/3769188 [00:00<00:00, 9080169.73it/s]\n"
     ]
    },
    {
     "name": "stdout",
     "output_type": "stream",
     "text": [
      "2016...\n",
      "File: results/Modis/chla/A201601_CHL_NW_month.nc "
     ]
    },
    {
     "name": "stderr",
     "output_type": "stream",
     "text": [
      "100%|███████████████████████████████████████████████████| 6362894/6362894 [00:00<00:00, 8867877.15it/s]\n"
     ]
    },
    {
     "name": "stdout",
     "output_type": "stream",
     "text": [
      "File: results/Modis/chla/A201601_CHL_NW_month.png "
     ]
    },
    {
     "name": "stderr",
     "output_type": "stream",
     "text": [
      "100%|███████████████████████████████████████████████████| 3299245/3299245 [00:00<00:00, 8122777.29it/s]\n"
     ]
    },
    {
     "name": "stdout",
     "output_type": "stream",
     "text": [
      "File: results/Modis/chla/A201602_CHL_NW_month.nc "
     ]
    },
    {
     "name": "stderr",
     "output_type": "stream",
     "text": [
      "100%|██████████████████████████████████████████████████| 7276153/7276153 [00:00<00:00, 10217894.18it/s]\n"
     ]
    },
    {
     "name": "stdout",
     "output_type": "stream",
     "text": [
      "File: results/Modis/chla/A201602_CHL_NW_month.png "
     ]
    },
    {
     "name": "stderr",
     "output_type": "stream",
     "text": [
      "100%|███████████████████████████████████████████████████| 3291352/3291352 [00:00<00:00, 8121923.51it/s]\n"
     ]
    },
    {
     "name": "stdout",
     "output_type": "stream",
     "text": [
      "File: results/Modis/chla/A201603_CHL_NW_month.nc "
     ]
    },
    {
     "name": "stderr",
     "output_type": "stream",
     "text": [
      "100%|███████████████████████████████████████████████████| 7958424/7958424 [00:00<00:00, 9640461.46it/s]\n"
     ]
    },
    {
     "name": "stdout",
     "output_type": "stream",
     "text": [
      "File: results/Modis/chla/A201603_CHL_NW_month.png "
     ]
    },
    {
     "name": "stderr",
     "output_type": "stream",
     "text": [
      "100%|███████████████████████████████████████████████████| 3160490/3160490 [00:00<00:00, 7773180.67it/s]\n"
     ]
    },
    {
     "name": "stdout",
     "output_type": "stream",
     "text": [
      "File: results/Modis/chla/A201604_CHL_NW_month.nc "
     ]
    },
    {
     "name": "stderr",
     "output_type": "stream",
     "text": [
      "100%|███████████████████████████████████████████████████| 7389953/7389953 [00:00<00:00, 9102503.81it/s]\n"
     ]
    },
    {
     "name": "stdout",
     "output_type": "stream",
     "text": [
      "File: results/Modis/chla/A201604_CHL_NW_month.png "
     ]
    },
    {
     "name": "stderr",
     "output_type": "stream",
     "text": [
      "100%|███████████████████████████████████████████████████| 3286607/3286607 [00:00<00:00, 7919840.52it/s]\n"
     ]
    },
    {
     "name": "stdout",
     "output_type": "stream",
     "text": [
      "File: results/Modis/chla/A201605_CHL_NW_month.nc "
     ]
    },
    {
     "name": "stderr",
     "output_type": "stream",
     "text": [
      "100%|███████████████████████████████████████████████████| 7814070/7814070 [00:00<00:00, 9540214.09it/s]\n"
     ]
    },
    {
     "name": "stdout",
     "output_type": "stream",
     "text": [
      "File: results/Modis/chla/A201605_CHL_NW_month.png "
     ]
    },
    {
     "name": "stderr",
     "output_type": "stream",
     "text": [
      "100%|███████████████████████████████████████████████████| 3167933/3167933 [00:00<00:00, 7602202.55it/s]\n"
     ]
    },
    {
     "name": "stdout",
     "output_type": "stream",
     "text": [
      "File: results/Modis/chla/A201606_CHL_NW_month.nc "
     ]
    },
    {
     "name": "stderr",
     "output_type": "stream",
     "text": [
      "100%|███████████████████████████████████████████████████| 7423103/7423103 [00:00<00:00, 9090732.75it/s]\n"
     ]
    },
    {
     "name": "stdout",
     "output_type": "stream",
     "text": [
      "File: results/Modis/chla/A201606_CHL_NW_month.png "
     ]
    },
    {
     "name": "stderr",
     "output_type": "stream",
     "text": [
      "100%|███████████████████████████████████████████████████| 2914722/2914722 [00:00<00:00, 9535235.36it/s]\n"
     ]
    },
    {
     "name": "stdout",
     "output_type": "stream",
     "text": [
      "File: results/Modis/chla/A201607_CHL_NW_month.nc "
     ]
    },
    {
     "name": "stderr",
     "output_type": "stream",
     "text": [
      "100%|███████████████████████████████████████████████████| 7579635/7579635 [00:00<00:00, 9299248.22it/s]\n"
     ]
    },
    {
     "name": "stdout",
     "output_type": "stream",
     "text": [
      "File: results/Modis/chla/A201607_CHL_NW_month.png "
     ]
    },
    {
     "name": "stderr",
     "output_type": "stream",
     "text": [
      "100%|███████████████████████████████████████████████████| 3012968/3012968 [00:00<00:00, 9747568.75it/s]\n"
     ]
    },
    {
     "name": "stdout",
     "output_type": "stream",
     "text": [
      "File: results/Modis/chla/A201608_CHL_NW_month.nc "
     ]
    },
    {
     "name": "stderr",
     "output_type": "stream",
     "text": [
      "100%|██████████████████████████████████████████████████| 8321017/8321017 [00:00<00:00, 10090936.11it/s]\n"
     ]
    },
    {
     "name": "stdout",
     "output_type": "stream",
     "text": [
      "File: results/Modis/chla/A201608_CHL_NW_month.png "
     ]
    },
    {
     "name": "stderr",
     "output_type": "stream",
     "text": [
      "100%|███████████████████████████████████████████████████| 2924427/2924427 [00:00<00:00, 9605304.84it/s]\n"
     ]
    },
    {
     "name": "stdout",
     "output_type": "stream",
     "text": [
      "File: results/Modis/chla/A201609_CHL_NW_month.nc "
     ]
    },
    {
     "name": "stderr",
     "output_type": "stream",
     "text": [
      "100%|██████████████████████████████████████████████████| 8128587/8128587 [00:00<00:00, 10033420.92it/s]\n"
     ]
    },
    {
     "name": "stdout",
     "output_type": "stream",
     "text": [
      "File: results/Modis/chla/A201609_CHL_NW_month.png "
     ]
    },
    {
     "name": "stderr",
     "output_type": "stream",
     "text": [
      "100%|███████████████████████████████████████████████████| 3203136/3203136 [00:00<00:00, 7790603.06it/s]\n"
     ]
    },
    {
     "name": "stdout",
     "output_type": "stream",
     "text": [
      "File: results/Modis/chla/A201610_CHL_NW_month.nc "
     ]
    },
    {
     "name": "stderr",
     "output_type": "stream",
     "text": [
      "100%|██████████████████████████████████████████████████| 8213400/8213400 [00:00<00:00, 10027619.72it/s]\n"
     ]
    },
    {
     "name": "stdout",
     "output_type": "stream",
     "text": [
      "File: results/Modis/chla/A201610_CHL_NW_month.png "
     ]
    },
    {
     "name": "stderr",
     "output_type": "stream",
     "text": [
      "100%|███████████████████████████████████████████████████| 3474618/3474618 [00:00<00:00, 8284283.69it/s]\n"
     ]
    },
    {
     "name": "stdout",
     "output_type": "stream",
     "text": [
      "File: results/Modis/chla/A201611_CHL_NW_month.nc "
     ]
    },
    {
     "name": "stderr",
     "output_type": "stream",
     "text": [
      "100%|███████████████████████████████████████████████████| 7620579/7620579 [00:00<00:00, 9217052.87it/s]\n"
     ]
    },
    {
     "name": "stdout",
     "output_type": "stream",
     "text": [
      "File: results/Modis/chla/A201611_CHL_NW_month.png "
     ]
    },
    {
     "name": "stderr",
     "output_type": "stream",
     "text": [
      "100%|███████████████████████████████████████████████████| 3838284/3838284 [00:00<00:00, 9344717.58it/s]\n"
     ]
    },
    {
     "name": "stdout",
     "output_type": "stream",
     "text": [
      "File: results/Modis/chla/A201612_CHL_NW_month.nc "
     ]
    },
    {
     "name": "stderr",
     "output_type": "stream",
     "text": [
      "100%|███████████████████████████████████████████████████| 7868996/7868996 [00:00<00:00, 9583433.43it/s]\n"
     ]
    },
    {
     "name": "stdout",
     "output_type": "stream",
     "text": [
      "File: results/Modis/chla/A201612_CHL_NW_month.png "
     ]
    },
    {
     "name": "stderr",
     "output_type": "stream",
     "text": [
      "100%|███████████████████████████████████████████████████| 3862014/3862014 [00:00<00:00, 9411723.46it/s]\n"
     ]
    },
    {
     "name": "stdout",
     "output_type": "stream",
     "text": [
      "2017...\n",
      "File: results/Modis/chla/A201701_CHL_NW_month.nc "
     ]
    },
    {
     "name": "stderr",
     "output_type": "stream",
     "text": [
      "100%|███████████████████████████████████████████████████| 7434083/7434083 [00:00<00:00, 9015996.20it/s]\n"
     ]
    },
    {
     "name": "stdout",
     "output_type": "stream",
     "text": [
      "File: results/Modis/chla/A201701_CHL_NW_month.png "
     ]
    },
    {
     "name": "stderr",
     "output_type": "stream",
     "text": [
      "100%|███████████████████████████████████████████████████| 3621500/3621500 [00:00<00:00, 8724126.11it/s]\n"
     ]
    },
    {
     "name": "stdout",
     "output_type": "stream",
     "text": [
      "File: results/Modis/chla/A201702_CHL_NW_month.nc "
     ]
    },
    {
     "name": "stderr",
     "output_type": "stream",
     "text": [
      "100%|███████████████████████████████████████████████████| 7727444/7727444 [00:00<00:00, 9457811.73it/s]\n"
     ]
    },
    {
     "name": "stdout",
     "output_type": "stream",
     "text": [
      "File: results/Modis/chla/A201702_CHL_NW_month.png "
     ]
    },
    {
     "name": "stderr",
     "output_type": "stream",
     "text": [
      "100%|███████████████████████████████████████████████████| 3254526/3254526 [00:00<00:00, 7955793.79it/s]\n"
     ]
    },
    {
     "name": "stdout",
     "output_type": "stream",
     "text": [
      "File: results/Modis/chla/A201703_CHL_NW_month.nc "
     ]
    },
    {
     "name": "stderr",
     "output_type": "stream",
     "text": [
      "100%|███████████████████████████████████████████████████| 7902049/7902049 [00:00<00:00, 9726506.38it/s]\n"
     ]
    },
    {
     "name": "stdout",
     "output_type": "stream",
     "text": [
      "File: results/Modis/chla/A201703_CHL_NW_month.png "
     ]
    },
    {
     "name": "stderr",
     "output_type": "stream",
     "text": [
      "100%|███████████████████████████████████████████████████| 3273418/3273418 [00:00<00:00, 7811668.37it/s]\n"
     ]
    },
    {
     "name": "stdout",
     "output_type": "stream",
     "text": [
      "File: results/Modis/chla/A201704_CHL_NW_month.nc "
     ]
    },
    {
     "name": "stderr",
     "output_type": "stream",
     "text": [
      "100%|███████████████████████████████████████████████████| 8027432/8027432 [00:00<00:00, 9764964.49it/s]\n"
     ]
    },
    {
     "name": "stdout",
     "output_type": "stream",
     "text": [
      "File: results/Modis/chla/A201704_CHL_NW_month.png "
     ]
    },
    {
     "name": "stderr",
     "output_type": "stream",
     "text": [
      "100%|███████████████████████████████████████████████████| 3416847/3416847 [00:00<00:00, 8180448.52it/s]\n"
     ]
    },
    {
     "name": "stdout",
     "output_type": "stream",
     "text": [
      "File: results/Modis/chla/A201705_CHL_NW_month.nc "
     ]
    },
    {
     "name": "stderr",
     "output_type": "stream",
     "text": [
      "100%|███████████████████████████████████████████████████| 8046417/8046417 [00:00<00:00, 9924133.24it/s]\n"
     ]
    },
    {
     "name": "stdout",
     "output_type": "stream",
     "text": [
      "File: results/Modis/chla/A201705_CHL_NW_month.png "
     ]
    },
    {
     "name": "stderr",
     "output_type": "stream",
     "text": [
      "100%|███████████████████████████████████████████████████| 3174713/3174713 [00:00<00:00, 7620452.19it/s]\n"
     ]
    },
    {
     "name": "stdout",
     "output_type": "stream",
     "text": [
      "File: results/Modis/chla/A201706_CHL_NW_month.nc "
     ]
    },
    {
     "name": "stderr",
     "output_type": "stream",
     "text": [
      "100%|███████████████████████████████████████████████████| 7456369/7456369 [00:00<00:00, 9076183.75it/s]\n"
     ]
    },
    {
     "name": "stdout",
     "output_type": "stream",
     "text": [
      "File: results/Modis/chla/A201706_CHL_NW_month.png "
     ]
    },
    {
     "name": "stderr",
     "output_type": "stream",
     "text": [
      "100%|███████████████████████████████████████████████████| 2965071/2965071 [00:00<00:00, 9446648.74it/s]\n"
     ]
    },
    {
     "name": "stdout",
     "output_type": "stream",
     "text": [
      "File: results/Modis/chla/A201707_CHL_NW_month.nc "
     ]
    },
    {
     "name": "stderr",
     "output_type": "stream",
     "text": [
      "100%|███████████████████████████████████████████████████| 7769616/7769616 [00:00<00:00, 9562691.30it/s]\n"
     ]
    },
    {
     "name": "stdout",
     "output_type": "stream",
     "text": [
      "File: results/Modis/chla/A201707_CHL_NW_month.png "
     ]
    },
    {
     "name": "stderr",
     "output_type": "stream",
     "text": [
      "100%|███████████████████████████████████████████████████| 2997095/2997095 [00:00<00:00, 9624459.22it/s]\n"
     ]
    },
    {
     "name": "stdout",
     "output_type": "stream",
     "text": [
      "File: results/Modis/chla/A201708_CHL_NW_month.nc "
     ]
    },
    {
     "name": "stderr",
     "output_type": "stream",
     "text": [
      "100%|███████████████████████████████████████████████████| 8205216/8205216 [00:00<00:00, 9996334.44it/s]\n"
     ]
    },
    {
     "name": "stdout",
     "output_type": "stream",
     "text": [
      "File: results/Modis/chla/A201708_CHL_NW_month.png "
     ]
    },
    {
     "name": "stderr",
     "output_type": "stream",
     "text": [
      "100%|███████████████████████████████████████████████████| 2960849/2960849 [00:00<00:00, 9585104.34it/s]\n"
     ]
    },
    {
     "name": "stdout",
     "output_type": "stream",
     "text": [
      "File: results/Modis/chla/A201709_CHL_NW_month.nc "
     ]
    },
    {
     "name": "stderr",
     "output_type": "stream",
     "text": [
      "100%|███████████████████████████████████████████████████| 8181296/8181296 [00:00<00:00, 9975735.01it/s]\n"
     ]
    },
    {
     "name": "stdout",
     "output_type": "stream",
     "text": [
      "File: results/Modis/chla/A201709_CHL_NW_month.png "
     ]
    },
    {
     "name": "stderr",
     "output_type": "stream",
     "text": [
      "100%|███████████████████████████████████████████████████| 2954311/2954311 [00:00<00:00, 9715746.47it/s]\n"
     ]
    },
    {
     "name": "stdout",
     "output_type": "stream",
     "text": [
      "File: results/Modis/chla/A201710_CHL_NW_month.nc "
     ]
    },
    {
     "name": "stderr",
     "output_type": "stream",
     "text": [
      "100%|██████████████████████████████████████████████████| 8302178/8302178 [00:00<00:00, 10070981.42it/s]\n"
     ]
    },
    {
     "name": "stdout",
     "output_type": "stream",
     "text": [
      "File: results/Modis/chla/A201710_CHL_NW_month.png "
     ]
    },
    {
     "name": "stderr",
     "output_type": "stream",
     "text": [
      "100%|███████████████████████████████████████████████████| 3509706/3509706 [00:00<00:00, 8414361.46it/s]\n"
     ]
    },
    {
     "name": "stdout",
     "output_type": "stream",
     "text": [
      "File: results/Modis/chla/A201711_CHL_NW_month.nc "
     ]
    },
    {
     "name": "stderr",
     "output_type": "stream",
     "text": [
      "100%|███████████████████████████████████████████████████| 7912653/7912653 [00:00<00:00, 9690465.83it/s]\n"
     ]
    },
    {
     "name": "stdout",
     "output_type": "stream",
     "text": [
      "File: results/Modis/chla/A201711_CHL_NW_month.png "
     ]
    },
    {
     "name": "stderr",
     "output_type": "stream",
     "text": [
      "100%|███████████████████████████████████████████████████| 3833200/3833200 [00:00<00:00, 9301053.69it/s]\n"
     ]
    },
    {
     "name": "stdout",
     "output_type": "stream",
     "text": [
      "File: results/Modis/chla/A201712_CHL_NW_month.nc "
     ]
    },
    {
     "name": "stderr",
     "output_type": "stream",
     "text": [
      "100%|███████████████████████████████████████████████████| 6423628/6423628 [00:00<00:00, 8997167.75it/s]\n"
     ]
    },
    {
     "name": "stdout",
     "output_type": "stream",
     "text": [
      "File: results/Modis/chla/A201712_CHL_NW_month.png "
     ]
    },
    {
     "name": "stderr",
     "output_type": "stream",
     "text": [
      "100%|███████████████████████████████████████████████████| 3495720/3495720 [00:00<00:00, 8528148.07it/s]\n"
     ]
    },
    {
     "name": "stdout",
     "output_type": "stream",
     "text": [
      "2018...\n",
      "File: results/Modis/chla/A201801_CHL_NW_month.nc "
     ]
    },
    {
     "name": "stderr",
     "output_type": "stream",
     "text": [
      "100%|███████████████████████████████████████████████████| 5049898/5049898 [00:00<00:00, 9887778.17it/s]\n"
     ]
    },
    {
     "name": "stdout",
     "output_type": "stream",
     "text": [
      "File: results/Modis/chla/A201801_CHL_NW_month.png "
     ]
    },
    {
     "name": "stderr",
     "output_type": "stream",
     "text": [
      "100%|███████████████████████████████████████████████████| 2697176/2697176 [00:00<00:00, 8822377.67it/s]\n"
     ]
    },
    {
     "name": "stdout",
     "output_type": "stream",
     "text": [
      "File: results/Modis/chla/A201802_CHL_NW_month.nc "
     ]
    },
    {
     "name": "stderr",
     "output_type": "stream",
     "text": [
      "100%|███████████████████████████████████████████████████| 6103331/6103331 [00:00<00:00, 9888597.57it/s]\n"
     ]
    },
    {
     "name": "stdout",
     "output_type": "stream",
     "text": [
      "File: results/Modis/chla/A201802_CHL_NW_month.png "
     ]
    },
    {
     "name": "stderr",
     "output_type": "stream",
     "text": [
      "100%|███████████████████████████████████████████████████| 2915026/2915026 [00:00<00:00, 9233265.28it/s]\n"
     ]
    },
    {
     "name": "stdout",
     "output_type": "stream",
     "text": [
      "File: results/Modis/chla/A201803_CHL_NW_month.nc "
     ]
    },
    {
     "name": "stderr",
     "output_type": "stream",
     "text": [
      "100%|███████████████████████████████████████████████████| 7598119/7598119 [00:00<00:00, 9200117.59it/s]\n"
     ]
    },
    {
     "name": "stdout",
     "output_type": "stream",
     "text": [
      "File: results/Modis/chla/A201803_CHL_NW_month.png "
     ]
    },
    {
     "name": "stderr",
     "output_type": "stream",
     "text": [
      "100%|███████████████████████████████████████████████████| 3258638/3258638 [00:00<00:00, 7803605.44it/s]\n"
     ]
    },
    {
     "name": "stdout",
     "output_type": "stream",
     "text": [
      "File: results/Modis/chla/A201804_CHL_NW_month.nc "
     ]
    },
    {
     "name": "stderr",
     "output_type": "stream",
     "text": [
      "100%|███████████████████████████████████████████████████| 7490271/7490271 [00:00<00:00, 9236941.69it/s]\n"
     ]
    },
    {
     "name": "stdout",
     "output_type": "stream",
     "text": [
      "File: results/Modis/chla/A201804_CHL_NW_month.png "
     ]
    },
    {
     "name": "stderr",
     "output_type": "stream",
     "text": [
      "100%|███████████████████████████████████████████████████| 3555434/3555434 [00:00<00:00, 8686356.06it/s]\n"
     ]
    },
    {
     "name": "stdout",
     "output_type": "stream",
     "text": [
      "File: results/Modis/chla/A201805_CHL_NW_month.nc "
     ]
    },
    {
     "name": "stderr",
     "output_type": "stream",
     "text": [
      "100%|███████████████████████████████████████████████████| 7417073/7417073 [00:00<00:00, 9148441.69it/s]\n"
     ]
    },
    {
     "name": "stdout",
     "output_type": "stream",
     "text": [
      "File: results/Modis/chla/A201805_CHL_NW_month.png "
     ]
    },
    {
     "name": "stderr",
     "output_type": "stream",
     "text": [
      "100%|███████████████████████████████████████████████████| 3062403/3062403 [00:00<00:00, 9784148.07it/s]\n"
     ]
    },
    {
     "name": "stdout",
     "output_type": "stream",
     "text": [
      "File: results/Modis/chla/A201806_CHL_NW_month.nc "
     ]
    },
    {
     "name": "stderr",
     "output_type": "stream",
     "text": [
      "100%|███████████████████████████████████████████████████| 6655423/6655423 [00:00<00:00, 9360431.93it/s]\n"
     ]
    },
    {
     "name": "stdout",
     "output_type": "stream",
     "text": [
      "File: results/Modis/chla/A201806_CHL_NW_month.png "
     ]
    },
    {
     "name": "stderr",
     "output_type": "stream",
     "text": [
      "100%|███████████████████████████████████████████████████| 2688800/2688800 [00:00<00:00, 8551716.54it/s]\n"
     ]
    },
    {
     "name": "stdout",
     "output_type": "stream",
     "text": [
      "File: results/Modis/chla/A201807_CHL_NW_month.nc "
     ]
    },
    {
     "name": "stderr",
     "output_type": "stream",
     "text": [
      "100%|███████████████████████████████████████████████████| 7678828/7678828 [00:00<00:00, 9431517.16it/s]\n"
     ]
    },
    {
     "name": "stdout",
     "output_type": "stream",
     "text": [
      "File: results/Modis/chla/A201807_CHL_NW_month.png "
     ]
    },
    {
     "name": "stderr",
     "output_type": "stream",
     "text": [
      "100%|███████████████████████████████████████████████████| 2761479/2761479 [00:00<00:00, 8708345.30it/s]\n"
     ]
    },
    {
     "name": "stdout",
     "output_type": "stream",
     "text": [
      "File: results/Modis/chla/A201808_CHL_NW_month.nc "
     ]
    },
    {
     "name": "stderr",
     "output_type": "stream",
     "text": [
      "100%|███████████████████████████████████████████████████| 7792538/7792538 [00:00<00:00, 9466080.15it/s]\n"
     ]
    },
    {
     "name": "stdout",
     "output_type": "stream",
     "text": [
      "File: results/Modis/chla/A201808_CHL_NW_month.png "
     ]
    },
    {
     "name": "stderr",
     "output_type": "stream",
     "text": [
      "100%|███████████████████████████████████████████████████| 2710357/2710357 [00:00<00:00, 8509282.62it/s]\n"
     ]
    },
    {
     "name": "stdout",
     "output_type": "stream",
     "text": [
      "File: results/Modis/chla/A201809_CHL_NW_month.nc "
     ]
    },
    {
     "name": "stderr",
     "output_type": "stream",
     "text": [
      "100%|███████████████████████████████████████████████████| 7725285/7725285 [00:00<00:00, 9381036.47it/s]\n"
     ]
    },
    {
     "name": "stdout",
     "output_type": "stream",
     "text": [
      "File: results/Modis/chla/A201809_CHL_NW_month.png "
     ]
    },
    {
     "name": "stderr",
     "output_type": "stream",
     "text": [
      "100%|███████████████████████████████████████████████████| 2821414/2821414 [00:00<00:00, 8856220.66it/s]\n"
     ]
    },
    {
     "name": "stdout",
     "output_type": "stream",
     "text": [
      "File: results/Modis/chla/A201810_CHL_NW_month.nc "
     ]
    },
    {
     "name": "stderr",
     "output_type": "stream",
     "text": [
      "100%|███████████████████████████████████████████████████| 7895266/7895266 [00:00<00:00, 9645961.64it/s]\n"
     ]
    },
    {
     "name": "stdout",
     "output_type": "stream",
     "text": [
      "File: results/Modis/chla/A201810_CHL_NW_month.png "
     ]
    },
    {
     "name": "stderr",
     "output_type": "stream",
     "text": [
      "100%|███████████████████████████████████████████████████| 2925945/2925945 [00:00<00:00, 9284910.67it/s]\n"
     ]
    },
    {
     "name": "stdout",
     "output_type": "stream",
     "text": [
      "File: results/Modis/chla/A201811_CHL_NW_month.nc "
     ]
    },
    {
     "name": "stderr",
     "output_type": "stream",
     "text": [
      "100%|███████████████████████████████████████████████████| 7646294/7646294 [00:00<00:00, 9431974.16it/s]\n"
     ]
    },
    {
     "name": "stdout",
     "output_type": "stream",
     "text": [
      "File: results/Modis/chla/A201811_CHL_NW_month.png "
     ]
    },
    {
     "name": "stderr",
     "output_type": "stream",
     "text": [
      "100%|███████████████████████████████████████████████████| 3182438/3182438 [00:00<00:00, 7755836.40it/s]\n"
     ]
    },
    {
     "name": "stdout",
     "output_type": "stream",
     "text": [
      "File: results/Modis/chla/A201812_CHL_NW_month.nc "
     ]
    },
    {
     "name": "stderr",
     "output_type": "stream",
     "text": [
      "100%|███████████████████████████████████████████████████| 5350918/5350918 [00:00<00:00, 8619543.13it/s]\n"
     ]
    },
    {
     "name": "stdout",
     "output_type": "stream",
     "text": [
      "File: results/Modis/chla/A201812_CHL_NW_month.png "
     ]
    },
    {
     "name": "stderr",
     "output_type": "stream",
     "text": [
      "100%|███████████████████████████████████████████████████| 2850092/2850092 [00:00<00:00, 9021470.64it/s]\n"
     ]
    },
    {
     "name": "stdout",
     "output_type": "stream",
     "text": [
      "2019...\n",
      "File: results/Modis/chla/A201901_CHL_NW_month.nc "
     ]
    },
    {
     "name": "stderr",
     "output_type": "stream",
     "text": [
      "100%|██████████████████████████████████████████████████| 6145912/6145912 [00:00<00:00, 10094090.22it/s]\n"
     ]
    },
    {
     "name": "stdout",
     "output_type": "stream",
     "text": [
      "File: results/Modis/chla/A201901_CHL_NW_month.png "
     ]
    },
    {
     "name": "stderr",
     "output_type": "stream",
     "text": [
      "100%|███████████████████████████████████████████████████| 2801770/2801770 [00:00<00:00, 8882619.85it/s]\n"
     ]
    },
    {
     "name": "stdout",
     "output_type": "stream",
     "text": [
      "File: results/Modis/chla/A201902_CHL_NW_month.nc "
     ]
    },
    {
     "name": "stderr",
     "output_type": "stream",
     "text": [
      "100%|██████████████████████████████████████████████████| 7255180/7255180 [00:00<00:00, 10212928.15it/s]\n"
     ]
    },
    {
     "name": "stdout",
     "output_type": "stream",
     "text": [
      "File: results/Modis/chla/A201902_CHL_NW_month.png "
     ]
    },
    {
     "name": "stderr",
     "output_type": "stream",
     "text": [
      "100%|███████████████████████████████████████████████████| 3205386/3205386 [00:00<00:00, 7768295.26it/s]\n"
     ]
    },
    {
     "name": "stdout",
     "output_type": "stream",
     "text": [
      "File: results/Modis/chla/A201903_CHL_NW_month.nc "
     ]
    },
    {
     "name": "stderr",
     "output_type": "stream",
     "text": [
      "100%|███████████████████████████████████████████████████| 7967054/7967054 [00:00<00:00, 9769518.27it/s]\n"
     ]
    },
    {
     "name": "stdout",
     "output_type": "stream",
     "text": [
      "File: results/Modis/chla/A201903_CHL_NW_month.png "
     ]
    },
    {
     "name": "stderr",
     "output_type": "stream",
     "text": [
      "100%|███████████████████████████████████████████████████| 3345339/3345339 [00:00<00:00, 8131977.14it/s]\n"
     ]
    },
    {
     "name": "stdout",
     "output_type": "stream",
     "text": [
      "File: results/Modis/chla/A201904_CHL_NW_month.nc "
     ]
    },
    {
     "name": "stderr",
     "output_type": "stream",
     "text": [
      "100%|███████████████████████████████████████████████████| 8051178/8051178 [00:00<00:00, 9793395.85it/s]\n"
     ]
    },
    {
     "name": "stdout",
     "output_type": "stream",
     "text": [
      "File: results/Modis/chla/A201904_CHL_NW_month.png "
     ]
    },
    {
     "name": "stderr",
     "output_type": "stream",
     "text": [
      "100%|███████████████████████████████████████████████████| 3433482/3433482 [00:00<00:00, 8304778.52it/s]\n"
     ]
    },
    {
     "name": "stdout",
     "output_type": "stream",
     "text": [
      "File: results/Modis/chla/A201905_CHL_NW_month.nc "
     ]
    },
    {
     "name": "stderr",
     "output_type": "stream",
     "text": [
      "100%|███████████████████████████████████████████████████| 8013916/8013916 [00:00<00:00, 9792181.80it/s]\n"
     ]
    },
    {
     "name": "stdout",
     "output_type": "stream",
     "text": [
      "File: results/Modis/chla/A201905_CHL_NW_month.png "
     ]
    },
    {
     "name": "stderr",
     "output_type": "stream",
     "text": [
      "100%|███████████████████████████████████████████████████| 2884251/2884251 [00:00<00:00, 9203615.51it/s]\n"
     ]
    },
    {
     "name": "stdout",
     "output_type": "stream",
     "text": [
      "File: results/Modis/chla/A201906_CHL_NW_month.nc "
     ]
    },
    {
     "name": "stderr",
     "output_type": "stream",
     "text": [
      "100%|██████████████████████████████████████████████████| 7207360/7207360 [00:00<00:00, 10018694.87it/s]\n"
     ]
    },
    {
     "name": "stdout",
     "output_type": "stream",
     "text": [
      "File: results/Modis/chla/A201906_CHL_NW_month.png "
     ]
    },
    {
     "name": "stderr",
     "output_type": "stream",
     "text": [
      "100%|███████████████████████████████████████████████████| 3062690/3062690 [00:00<00:00, 9910271.84it/s]\n"
     ]
    },
    {
     "name": "stdout",
     "output_type": "stream",
     "text": [
      "File: results/Modis/chla/A201907_CHL_NW_month.nc "
     ]
    },
    {
     "name": "stderr",
     "output_type": "stream",
     "text": [
      "100%|███████████████████████████████████████████████████| 6973932/6973932 [00:00<00:00, 9539942.87it/s]\n"
     ]
    },
    {
     "name": "stdout",
     "output_type": "stream",
     "text": [
      "File: results/Modis/chla/A201907_CHL_NW_month.png "
     ]
    },
    {
     "name": "stderr",
     "output_type": "stream",
     "text": [
      "100%|███████████████████████████████████████████████████| 2764176/2764176 [00:00<00:00, 9060256.74it/s]\n"
     ]
    },
    {
     "name": "stdout",
     "output_type": "stream",
     "text": [
      "File: results/Modis/chla/A201908_CHL_NW_month.nc "
     ]
    },
    {
     "name": "stderr",
     "output_type": "stream",
     "text": [
      "100%|███████████████████████████████████████████████████| 7697955/7697955 [00:00<00:00, 9416891.32it/s]\n"
     ]
    },
    {
     "name": "stdout",
     "output_type": "stream",
     "text": [
      "File: results/Modis/chla/A201908_CHL_NW_month.png "
     ]
    },
    {
     "name": "stderr",
     "output_type": "stream",
     "text": [
      "100%|███████████████████████████████████████████████████| 2804680/2804680 [00:00<00:00, 8988059.82it/s]\n"
     ]
    },
    {
     "name": "stdout",
     "output_type": "stream",
     "text": [
      "File: results/Modis/chla/A201909_CHL_NW_month.nc "
     ]
    },
    {
     "name": "stderr",
     "output_type": "stream",
     "text": [
      "100%|███████████████████████████████████████████████████| 7837363/7837363 [00:00<00:00, 9636690.34it/s]\n"
     ]
    },
    {
     "name": "stdout",
     "output_type": "stream",
     "text": [
      "File: results/Modis/chla/A201909_CHL_NW_month.png "
     ]
    },
    {
     "name": "stderr",
     "output_type": "stream",
     "text": [
      "100%|███████████████████████████████████████████████████| 2834575/2834575 [00:00<00:00, 9094070.39it/s]\n"
     ]
    },
    {
     "name": "stdout",
     "output_type": "stream",
     "text": [
      "File: results/Modis/chla/A201910_CHL_NW_month.nc "
     ]
    },
    {
     "name": "stderr",
     "output_type": "stream",
     "text": [
      "100%|███████████████████████████████████████████████████| 7884599/7884599 [00:00<00:00, 9666509.54it/s]\n"
     ]
    },
    {
     "name": "stdout",
     "output_type": "stream",
     "text": [
      "File: results/Modis/chla/A201910_CHL_NW_month.png "
     ]
    },
    {
     "name": "stderr",
     "output_type": "stream",
     "text": [
      "100%|███████████████████████████████████████████████████| 2976683/2976683 [00:00<00:00, 9645341.59it/s]\n"
     ]
    },
    {
     "name": "stdout",
     "output_type": "stream",
     "text": [
      "File: results/Modis/chla/A201911_CHL_NW_month.nc "
     ]
    },
    {
     "name": "stderr",
     "output_type": "stream",
     "text": [
      "100%|███████████████████████████████████████████████████| 7735231/7735231 [00:00<00:00, 9525997.88it/s]\n"
     ]
    },
    {
     "name": "stdout",
     "output_type": "stream",
     "text": [
      "File: results/Modis/chla/A201911_CHL_NW_month.png "
     ]
    },
    {
     "name": "stderr",
     "output_type": "stream",
     "text": [
      "100%|██████████████████████████████████████████████████| 3104626/3104626 [00:00<00:00, 10197465.42it/s]\n"
     ]
    },
    {
     "name": "stdout",
     "output_type": "stream",
     "text": [
      "File: results/Modis/chla/A201912_CHL_NW_month.nc "
     ]
    },
    {
     "name": "stderr",
     "output_type": "stream",
     "text": [
      "100%|██████████████████████████████████████████████████| 6269903/6269903 [00:00<00:00, 10299617.41it/s]\n"
     ]
    },
    {
     "name": "stdout",
     "output_type": "stream",
     "text": [
      "File: results/Modis/chla/A201912_CHL_NW_month.png "
     ]
    },
    {
     "name": "stderr",
     "output_type": "stream",
     "text": [
      "100%|███████████████████████████████████████████████████| 2980777/2980777 [00:00<00:00, 9776476.23it/s]\n"
     ]
    },
    {
     "name": "stdout",
     "output_type": "stream",
     "text": [
      "2020...\n",
      "File: results/Modis/chla/A202001_CHL_NW_month.nc "
     ]
    },
    {
     "name": "stderr",
     "output_type": "stream",
     "text": [
      "100%|███████████████████████████████████████████████████| 5553822/5553822 [00:00<00:00, 8977363.46it/s]\n"
     ]
    },
    {
     "name": "stdout",
     "output_type": "stream",
     "text": [
      "File: results/Modis/chla/A202001_CHL_NW_month.png "
     ]
    },
    {
     "name": "stderr",
     "output_type": "stream",
     "text": [
      "100%|███████████████████████████████████████████████████| 2674940/2674940 [00:00<00:00, 8792210.75it/s]\n"
     ]
    },
    {
     "name": "stdout",
     "output_type": "stream",
     "text": [
      "File: results/Modis/chla/A202002_CHL_NW_month.nc "
     ]
    },
    {
     "name": "stderr",
     "output_type": "stream",
     "text": [
      "100%|███████████████████████████████████████████████████| 7029056/7029056 [00:00<00:00, 9760030.65it/s]\n"
     ]
    },
    {
     "name": "stdout",
     "output_type": "stream",
     "text": [
      "File: results/Modis/chla/A202002_CHL_NW_month.png "
     ]
    },
    {
     "name": "stderr",
     "output_type": "stream",
     "text": [
      "100%|███████████████████████████████████████████████████| 2917170/2917170 [00:00<00:00, 9276393.28it/s]\n"
     ]
    },
    {
     "name": "stdout",
     "output_type": "stream",
     "text": [
      "File: results/Modis/chla/A202003_CHL_NW_month.nc "
     ]
    },
    {
     "name": "stderr",
     "output_type": "stream",
     "text": [
      "100%|███████████████████████████████████████████████████| 8134121/8134121 [00:00<00:00, 9928965.01it/s]\n"
     ]
    },
    {
     "name": "stdout",
     "output_type": "stream",
     "text": [
      "File: results/Modis/chla/A202003_CHL_NW_month.png "
     ]
    },
    {
     "name": "stderr",
     "output_type": "stream",
     "text": [
      "100%|███████████████████████████████████████████████████| 3072324/3072324 [00:00<00:00, 9697704.19it/s]\n"
     ]
    },
    {
     "name": "stdout",
     "output_type": "stream",
     "text": [
      "File: results/Modis/chla/A202004_CHL_NW_month.nc "
     ]
    },
    {
     "name": "stderr",
     "output_type": "stream",
     "text": [
      "100%|███████████████████████████████████████████████████| 6588812/6588812 [00:00<00:00, 9186801.99it/s]\n"
     ]
    },
    {
     "name": "stdout",
     "output_type": "stream",
     "text": [
      "File: results/Modis/chla/A202004_CHL_NW_month.png "
     ]
    },
    {
     "name": "stderr",
     "output_type": "stream",
     "text": [
      "100%|███████████████████████████████████████████████████| 3449787/3449787 [00:00<00:00, 8321044.19it/s]\n"
     ]
    },
    {
     "name": "stdout",
     "output_type": "stream",
     "text": [
      "File: results/Modis/chla/A202005_CHL_NW_month.nc "
     ]
    },
    {
     "name": "stderr",
     "output_type": "stream",
     "text": [
      "100%|███████████████████████████████████████████████████| 7474121/7474121 [00:00<00:00, 9208413.34it/s]\n"
     ]
    },
    {
     "name": "stdout",
     "output_type": "stream",
     "text": [
      "File: results/Modis/chla/A202005_CHL_NW_month.png "
     ]
    },
    {
     "name": "stderr",
     "output_type": "stream",
     "text": [
      "100%|███████████████████████████████████████████████████| 2987054/2987054 [00:00<00:00, 9711854.30it/s]\n"
     ]
    },
    {
     "name": "stdout",
     "output_type": "stream",
     "text": [
      "File: results/Modis/chla/A202006_CHL_NW_month.nc "
     ]
    },
    {
     "name": "stderr",
     "output_type": "stream",
     "text": [
      "100%|██████████████████████████████████████████████████| 6205352/6205352 [00:00<00:00, 10005521.41it/s]\n"
     ]
    },
    {
     "name": "stdout",
     "output_type": "stream",
     "text": [
      "File: results/Modis/chla/A202006_CHL_NW_month.png "
     ]
    },
    {
     "name": "stderr",
     "output_type": "stream",
     "text": [
      "100%|███████████████████████████████████████████████████| 2481495/2481495 [00:00<00:00, 8154929.29it/s]\n"
     ]
    },
    {
     "name": "stdout",
     "output_type": "stream",
     "text": [
      "File: results/Modis/chla/A202007_CHL_NW_month.nc "
     ]
    },
    {
     "name": "stderr",
     "output_type": "stream",
     "text": [
      "100%|███████████████████████████████████████████████████| 7472333/7472333 [00:00<00:00, 9202601.70it/s]\n"
     ]
    },
    {
     "name": "stdout",
     "output_type": "stream",
     "text": [
      "File: results/Modis/chla/A202007_CHL_NW_month.png "
     ]
    },
    {
     "name": "stderr",
     "output_type": "stream",
     "text": [
      "100%|███████████████████████████████████████████████████| 2955309/2955309 [00:00<00:00, 9344524.00it/s]\n"
     ]
    },
    {
     "name": "stdout",
     "output_type": "stream",
     "text": [
      "File: results/Modis/chla/A202008_CHL_NW_month.nc "
     ]
    },
    {
     "name": "stderr",
     "output_type": "stream",
     "text": [
      "100%|███████████████████████████████████████████████████| 7544425/7544425 [00:00<00:00, 9239450.51it/s]\n"
     ]
    },
    {
     "name": "stdout",
     "output_type": "stream",
     "text": [
      "File: results/Modis/chla/A202008_CHL_NW_month.png "
     ]
    },
    {
     "name": "stderr",
     "output_type": "stream",
     "text": [
      "100%|███████████████████████████████████████████████████| 2950745/2950745 [00:00<00:00, 9576809.46it/s]\n"
     ]
    },
    {
     "name": "stdout",
     "output_type": "stream",
     "text": [
      "File: results/Modis/chla/A202009_CHL_NW_month.nc "
     ]
    },
    {
     "name": "stderr",
     "output_type": "stream",
     "text": [
      "100%|███████████████████████████████████████████████████| 8143903/8143903 [00:00<00:00, 9971841.60it/s]\n"
     ]
    },
    {
     "name": "stdout",
     "output_type": "stream",
     "text": [
      "File: results/Modis/chla/A202009_CHL_NW_month.png "
     ]
    },
    {
     "name": "stderr",
     "output_type": "stream",
     "text": [
      "100%|███████████████████████████████████████████████████| 3320686/3320686 [00:00<00:00, 7929413.12it/s]\n"
     ]
    },
    {
     "name": "stdout",
     "output_type": "stream",
     "text": [
      "File: results/Modis/chla/A202010_CHL_NW_month.nc "
     ]
    },
    {
     "name": "stderr",
     "output_type": "stream",
     "text": [
      "100%|███████████████████████████████████████████████████| 8523252/8523252 [00:00<00:00, 9289087.75it/s]\n"
     ]
    },
    {
     "name": "stdout",
     "output_type": "stream",
     "text": [
      "File: results/Modis/chla/A202010_CHL_NW_month.png "
     ]
    },
    {
     "name": "stderr",
     "output_type": "stream",
     "text": [
      "100%|███████████████████████████████████████████████████| 3483672/3483672 [00:00<00:00, 8477090.49it/s]\n"
     ]
    },
    {
     "name": "stdout",
     "output_type": "stream",
     "text": [
      "File: results/Modis/chla/A202011_CHL_NW_month.nc "
     ]
    },
    {
     "name": "stderr",
     "output_type": "stream",
     "text": [
      "100%|██████████████████████████████████████████████████| 8260611/8260611 [00:00<00:00, 10091915.48it/s]\n"
     ]
    },
    {
     "name": "stdout",
     "output_type": "stream",
     "text": [
      "File: results/Modis/chla/A202011_CHL_NW_month.png "
     ]
    },
    {
     "name": "stderr",
     "output_type": "stream",
     "text": [
      "100%|███████████████████████████████████████████████████| 3799377/3799377 [00:00<00:00, 9332447.56it/s]\n"
     ]
    },
    {
     "name": "stdout",
     "output_type": "stream",
     "text": [
      "File: results/Modis/chla/A202012_CHL_NW_month.nc "
     ]
    },
    {
     "name": "stderr",
     "output_type": "stream",
     "text": [
      "100%|██████████████████████████████████████████████████| 7299531/7299531 [00:00<00:00, 10262650.41it/s]\n"
     ]
    },
    {
     "name": "stdout",
     "output_type": "stream",
     "text": [
      "File: results/Modis/chla/A202012_CHL_NW_month.png "
     ]
    },
    {
     "name": "stderr",
     "output_type": "stream",
     "text": [
      "100%|███████████████████████████████████████████████████| 3761683/3761683 [00:00<00:00, 9067146.60it/s]\n"
     ]
    },
    {
     "name": "stdout",
     "output_type": "stream",
     "text": [
      "2021...\n",
      "File: results/Modis/chla/A202101_CHL_NW_month.nc "
     ]
    },
    {
     "name": "stderr",
     "output_type": "stream",
     "text": [
      "100%|██████████████████████████████████████████████████| 7209923/7209923 [00:00<00:00, 10038316.41it/s]\n"
     ]
    },
    {
     "name": "stdout",
     "output_type": "stream",
     "text": [
      "File: results/Modis/chla/A202101_CHL_NW_month.png "
     ]
    },
    {
     "name": "stderr",
     "output_type": "stream",
     "text": [
      "100%|███████████████████████████████████████████████████| 3430791/3430791 [00:00<00:00, 8406399.49it/s]\n"
     ]
    },
    {
     "name": "stdout",
     "output_type": "stream",
     "text": [
      "File: results/Modis/chla/A202102_CHL_NW_month.nc "
     ]
    },
    {
     "name": "stderr",
     "output_type": "stream",
     "text": [
      "100%|███████████████████████████████████████████████████| 7727397/7727397 [00:00<00:00, 9503288.85it/s]\n"
     ]
    },
    {
     "name": "stdout",
     "output_type": "stream",
     "text": [
      "File: results/Modis/chla/A202102_CHL_NW_month.png "
     ]
    },
    {
     "name": "stderr",
     "output_type": "stream",
     "text": [
      "100%|███████████████████████████████████████████████████| 3178321/3178321 [00:00<00:00, 7833770.33it/s]\n"
     ]
    },
    {
     "name": "stdout",
     "output_type": "stream",
     "text": [
      "File: results/Modis/chla/A202103_CHL_NW_month.nc "
     ]
    },
    {
     "name": "stderr",
     "output_type": "stream",
     "text": [
      "100%|███████████████████████████████████████████████████| 7972650/7972650 [00:00<00:00, 9700243.64it/s]\n"
     ]
    },
    {
     "name": "stdout",
     "output_type": "stream",
     "text": [
      "File: results/Modis/chla/A202103_CHL_NW_month.png "
     ]
    },
    {
     "name": "stderr",
     "output_type": "stream",
     "text": [
      "100%|███████████████████████████████████████████████████| 3396799/3396799 [00:00<00:00, 8094659.39it/s]\n"
     ]
    },
    {
     "name": "stdout",
     "output_type": "stream",
     "text": [
      "File: results/Modis/chla/A202104_CHL_NW_month.nc "
     ]
    },
    {
     "name": "stderr",
     "output_type": "stream",
     "text": [
      "100%|███████████████████████████████████████████████████| 8027145/8027145 [00:00<00:00, 9895711.00it/s]\n"
     ]
    },
    {
     "name": "stdout",
     "output_type": "stream",
     "text": [
      "File: results/Modis/chla/A202104_CHL_NW_month.png "
     ]
    },
    {
     "name": "stderr",
     "output_type": "stream",
     "text": [
      "100%|███████████████████████████████████████████████████| 3204418/3204418 [00:00<00:00, 7763634.57it/s]\n"
     ]
    },
    {
     "name": "stdout",
     "output_type": "stream",
     "text": [
      "File: results/Modis/chla/A202105_CHL_NW_month.nc "
     ]
    },
    {
     "name": "stderr",
     "output_type": "stream",
     "text": [
      "100%|███████████████████████████████████████████████████| 7624236/7624236 [00:00<00:00, 9402367.40it/s]\n"
     ]
    },
    {
     "name": "stdout",
     "output_type": "stream",
     "text": [
      "File: results/Modis/chla/A202105_CHL_NW_month.png "
     ]
    },
    {
     "name": "stderr",
     "output_type": "stream",
     "text": [
      "100%|███████████████████████████████████████████████████| 3149732/3149732 [00:00<00:00, 7776796.13it/s]\n"
     ]
    },
    {
     "name": "stdout",
     "output_type": "stream",
     "text": [
      "File: results/Modis/chla/A202106_CHL_NW_month.nc "
     ]
    },
    {
     "name": "stderr",
     "output_type": "stream",
     "text": [
      "100%|███████████████████████████████████████████████████| 7541779/7541779 [00:00<00:00, 9216908.76it/s]\n"
     ]
    },
    {
     "name": "stdout",
     "output_type": "stream",
     "text": [
      "File: results/Modis/chla/A202106_CHL_NW_month.png "
     ]
    },
    {
     "name": "stderr",
     "output_type": "stream",
     "text": [
      "100%|███████████████████████████████████████████████████| 3009740/3009740 [00:00<00:00, 9713883.34it/s]\n"
     ]
    },
    {
     "name": "stdout",
     "output_type": "stream",
     "text": [
      "File: results/Modis/chla/A202107_CHL_NW_month.nc "
     ]
    },
    {
     "name": "stderr",
     "output_type": "stream",
     "text": [
      "100%|███████████████████████████████████████████████████| 8121430/8121430 [00:00<00:00, 9818248.73it/s]\n"
     ]
    },
    {
     "name": "stdout",
     "output_type": "stream",
     "text": [
      "File: results/Modis/chla/A202107_CHL_NW_month.png "
     ]
    },
    {
     "name": "stderr",
     "output_type": "stream",
     "text": [
      "100%|███████████████████████████████████████████████████| 2915912/2915912 [00:00<00:00, 9312956.40it/s]\n"
     ]
    },
    {
     "name": "stdout",
     "output_type": "stream",
     "text": [
      "File: results/Modis/chla/A202108_CHL_NW_month.nc "
     ]
    },
    {
     "name": "stderr",
     "output_type": "stream",
     "text": [
      "100%|██████████████████████████████████████████████████| 8209483/8209483 [00:00<00:00, 10003197.77it/s]\n"
     ]
    },
    {
     "name": "stdout",
     "output_type": "stream",
     "text": [
      "File: results/Modis/chla/A202108_CHL_NW_month.png "
     ]
    },
    {
     "name": "stderr",
     "output_type": "stream",
     "text": [
      "100%|███████████████████████████████████████████████████| 3043839/3043839 [00:00<00:00, 9800694.20it/s]\n"
     ]
    },
    {
     "name": "stdout",
     "output_type": "stream",
     "text": [
      "File: results/Modis/chla/A202109_CHL_NW_month.nc "
     ]
    },
    {
     "name": "stderr",
     "output_type": "stream",
     "text": [
      "100%|██████████████████████████████████████████████████| 8317473/8317473 [00:00<00:00, 10146668.05it/s]\n"
     ]
    },
    {
     "name": "stdout",
     "output_type": "stream",
     "text": [
      "File: results/Modis/chla/A202109_CHL_NW_month.png "
     ]
    },
    {
     "name": "stderr",
     "output_type": "stream",
     "text": [
      "100%|███████████████████████████████████████████████████| 2948527/2948527 [00:00<00:00, 9616834.68it/s]\n"
     ]
    },
    {
     "name": "stdout",
     "output_type": "stream",
     "text": [
      "File: results/Modis/chla/A202110_CHL_NW_month.nc "
     ]
    },
    {
     "name": "stderr",
     "output_type": "stream",
     "text": [
      "100%|███████████████████████████████████████████████████| 8514006/8514006 [00:00<00:00, 9215411.92it/s]\n"
     ]
    },
    {
     "name": "stdout",
     "output_type": "stream",
     "text": [
      "File: results/Modis/chla/A202110_CHL_NW_month.png "
     ]
    },
    {
     "name": "stderr",
     "output_type": "stream",
     "text": [
      "100%|███████████████████████████████████████████████████| 3368473/3368473 [00:00<00:00, 8093614.59it/s]\n"
     ]
    },
    {
     "name": "stdout",
     "output_type": "stream",
     "text": [
      "File: results/Modis/chla/A202111_CHL_NW_month.nc "
     ]
    },
    {
     "name": "stderr",
     "output_type": "stream",
     "text": [
      "100%|██████████████████████████████████████████████████| 8378442/8378442 [00:00<00:00, 10344651.48it/s]\n"
     ]
    },
    {
     "name": "stdout",
     "output_type": "stream",
     "text": [
      "File: results/Modis/chla/A202111_CHL_NW_month.png "
     ]
    },
    {
     "name": "stderr",
     "output_type": "stream",
     "text": [
      "100%|██████████████████████████████████████████████████| 4058894/4058894 [00:00<00:00, 10007421.60it/s]\n"
     ]
    },
    {
     "name": "stdout",
     "output_type": "stream",
     "text": [
      "File: results/Modis/chla/A202112_CHL_NW_month.nc "
     ]
    },
    {
     "name": "stderr",
     "output_type": "stream",
     "text": [
      "100%|███████████████████████████████████████████████████| 8115564/8115564 [00:00<00:00, 9822368.37it/s]\n"
     ]
    },
    {
     "name": "stdout",
     "output_type": "stream",
     "text": [
      "File: results/Modis/chla/A202112_CHL_NW_month.png "
     ]
    },
    {
     "name": "stderr",
     "output_type": "stream",
     "text": [
      "100%|███████████████████████████████████████████████████| 3918598/3918598 [00:00<00:00, 9652260.09it/s]\n"
     ]
    },
    {
     "name": "stdout",
     "output_type": "stream",
     "text": [
      "2022...\n",
      "File: results/Modis/chla/A202201_CHL_NW_month.nc "
     ]
    },
    {
     "name": "stderr",
     "output_type": "stream",
     "text": [
      "100%|███████████████████████████████████████████████████| 6824394/6824394 [00:00<00:00, 9497017.39it/s]\n"
     ]
    },
    {
     "name": "stdout",
     "output_type": "stream",
     "text": [
      "File: results/Modis/chla/A202201_CHL_NW_month.png "
     ]
    },
    {
     "name": "stderr",
     "output_type": "stream",
     "text": [
      "100%|███████████████████████████████████████████████████| 3504391/3504391 [00:00<00:00, 8649401.30it/s]\n"
     ]
    },
    {
     "name": "stdout",
     "output_type": "stream",
     "text": [
      "File: results/Modis/chla/A202202_CHL_NW_month.nc "
     ]
    },
    {
     "name": "stderr",
     "output_type": "stream",
     "text": [
      "100%|███████████████████████████████████████████████████| 7628691/7628691 [00:00<00:00, 9370098.31it/s]\n"
     ]
    },
    {
     "name": "stdout",
     "output_type": "stream",
     "text": [
      "File: results/Modis/chla/A202202_CHL_NW_month.png "
     ]
    },
    {
     "name": "stderr",
     "output_type": "stream",
     "text": [
      "100%|███████████████████████████████████████████████████| 3250434/3250434 [00:00<00:00, 7790225.97it/s]\n"
     ]
    },
    {
     "name": "stdout",
     "output_type": "stream",
     "text": [
      "File: results/Modis/chla/A202203_CHL_NW_month.nc "
     ]
    },
    {
     "name": "stderr",
     "output_type": "stream",
     "text": [
      "100%|███████████████████████████████████████████████████| 7990287/7990287 [00:00<00:00, 9717674.16it/s]\n"
     ]
    },
    {
     "name": "stdout",
     "output_type": "stream",
     "text": [
      "File: results/Modis/chla/A202203_CHL_NW_month.png "
     ]
    },
    {
     "name": "stderr",
     "output_type": "stream",
     "text": [
      "100%|███████████████████████████████████████████████████| 3330679/3330679 [00:00<00:00, 8013372.32it/s]\n"
     ]
    },
    {
     "name": "stdout",
     "output_type": "stream",
     "text": [
      "File: results/Modis/chla/A202204_CHL_NW_month.nc "
     ]
    },
    {
     "name": "stderr",
     "output_type": "stream",
     "text": [
      "100%|██████████████████████████████████████████████████| 6234484/6234484 [00:00<00:00, 10012801.09it/s]\n"
     ]
    },
    {
     "name": "stdout",
     "output_type": "stream",
     "text": [
      "File: results/Modis/chla/A202204_CHL_NW_month.png "
     ]
    },
    {
     "name": "stderr",
     "output_type": "stream",
     "text": [
      "100%|███████████████████████████████████████████████████| 3097594/3097594 [00:00<00:00, 9830713.20it/s]\n"
     ]
    },
    {
     "name": "stdout",
     "output_type": "stream",
     "text": [
      "File: results/Modis/chla/A202205_CHL_NW_month.nc "
     ]
    },
    {
     "name": "stderr",
     "output_type": "stream",
     "text": [
      "100%|███████████████████████████████████████████████████| 7355386/7355386 [00:00<00:00, 9038336.27it/s]\n"
     ]
    },
    {
     "name": "stdout",
     "output_type": "stream",
     "text": [
      "File: results/Modis/chla/A202205_CHL_NW_month.png "
     ]
    },
    {
     "name": "stderr",
     "output_type": "stream",
     "text": [
      "100%|███████████████████████████████████████████████████| 3008355/3008355 [00:00<00:00, 9719277.95it/s]\n"
     ]
    },
    {
     "name": "stdout",
     "output_type": "stream",
     "text": [
      "File: results/Modis/chla/A202206_CHL_NW_month.nc "
     ]
    },
    {
     "name": "stderr",
     "output_type": "stream",
     "text": [
      "100%|███████████████████████████████████████████████████| 7733548/7733548 [00:00<00:00, 9370858.34it/s]\n"
     ]
    },
    {
     "name": "stdout",
     "output_type": "stream",
     "text": [
      "File: results/Modis/chla/A202206_CHL_NW_month.png "
     ]
    },
    {
     "name": "stderr",
     "output_type": "stream",
     "text": [
      "100%|███████████████████████████████████████████████████| 3010161/3010161 [00:00<00:00, 9828665.59it/s]\n"
     ]
    },
    {
     "name": "stdout",
     "output_type": "stream",
     "text": [
      "File: results/Modis/chla/A202207_CHL_NW_month.nc "
     ]
    },
    {
     "name": "stderr",
     "output_type": "stream",
     "text": [
      "100%|███████████████████████████████████████████████████| 7965494/7965494 [00:00<00:00, 9767993.72it/s]\n"
     ]
    },
    {
     "name": "stdout",
     "output_type": "stream",
     "text": [
      "File: results/Modis/chla/A202207_CHL_NW_month.png "
     ]
    },
    {
     "name": "stderr",
     "output_type": "stream",
     "text": [
      "100%|███████████████████████████████████████████████████| 3112876/3112876 [00:00<00:00, 9916655.72it/s]\n"
     ]
    },
    {
     "name": "stdout",
     "output_type": "stream",
     "text": [
      "File: results/Modis/chla/A202208_CHL_NW_month.nc "
     ]
    },
    {
     "name": "stderr",
     "output_type": "stream",
     "text": [
      "100%|██████████████████████████████████████████████████| 8298012/8298012 [00:00<00:00, 10221636.16it/s]\n"
     ]
    },
    {
     "name": "stdout",
     "output_type": "stream",
     "text": [
      "File: results/Modis/chla/A202208_CHL_NW_month.png "
     ]
    },
    {
     "name": "stderr",
     "output_type": "stream",
     "text": [
      "100%|███████████████████████████████████████████████████| 3045638/3045638 [00:00<00:00, 9790778.06it/s]\n"
     ]
    },
    {
     "name": "stdout",
     "output_type": "stream",
     "text": [
      "File: results/Modis/chla/A202209_CHL_NW_month.nc "
     ]
    },
    {
     "name": "stderr",
     "output_type": "stream",
     "text": [
      "100%|██████████████████████████████████████████████████| 8301693/8301693 [00:00<00:00, 10158740.36it/s]\n"
     ]
    },
    {
     "name": "stdout",
     "output_type": "stream",
     "text": [
      "File: results/Modis/chla/A202209_CHL_NW_month.png "
     ]
    },
    {
     "name": "stderr",
     "output_type": "stream",
     "text": [
      "100%|███████████████████████████████████████████████████| 3026520/3026520 [00:00<00:00, 9955629.91it/s]\n"
     ]
    },
    {
     "name": "stdout",
     "output_type": "stream",
     "text": [
      "File: results/Modis/chla/A202210_CHL_NW_month.nc "
     ]
    },
    {
     "name": "stderr",
     "output_type": "stream",
     "text": [
      "100%|███████████████████████████████████████████████████| 8481397/8481397 [00:00<00:00, 9161814.47it/s]\n"
     ]
    },
    {
     "name": "stdout",
     "output_type": "stream",
     "text": [
      "File: results/Modis/chla/A202210_CHL_NW_month.png "
     ]
    },
    {
     "name": "stderr",
     "output_type": "stream",
     "text": [
      "100%|███████████████████████████████████████████████████| 3485588/3485588 [00:00<00:00, 8468325.60it/s]\n"
     ]
    },
    {
     "name": "stdout",
     "output_type": "stream",
     "text": [
      "File: results/Modis/chla/A202211_CHL_NW_month.nc "
     ]
    },
    {
     "name": "stderr",
     "output_type": "stream",
     "text": [
      "100%|██████████████████████████████████████████████████| 8360093/8360093 [00:00<00:00, 10224020.65it/s]\n"
     ]
    },
    {
     "name": "stdout",
     "output_type": "stream",
     "text": [
      "File: results/Modis/chla/A202211_CHL_NW_month.png "
     ]
    },
    {
     "name": "stderr",
     "output_type": "stream",
     "text": [
      "100%|██████████████████████████████████████████████████| 4071432/4071432 [00:00<00:00, 10018429.32it/s]\n"
     ]
    },
    {
     "name": "stdout",
     "output_type": "stream",
     "text": [
      "File: results/Modis/chla/A202212_CHL_NW_month.nc "
     ]
    },
    {
     "name": "stderr",
     "output_type": "stream",
     "text": [
      "100%|███████████████████████████████████████████████████| 6705995/6705995 [00:00<00:00, 9237210.17it/s]\n"
     ]
    },
    {
     "name": "stdout",
     "output_type": "stream",
     "text": [
      "File: results/Modis/chla/A202212_CHL_NW_month.png "
     ]
    },
    {
     "name": "stderr",
     "output_type": "stream",
     "text": [
      "100%|███████████████████████████████████████████████████| 3611246/3611246 [00:00<00:00, 8872958.43it/s]\n"
     ]
    },
    {
     "name": "stdout",
     "output_type": "stream",
     "text": [
      "2023...\n",
      "File: results/Modis/chla/A202301_CHL_NW_month.nc "
     ]
    },
    {
     "name": "stderr",
     "output_type": "stream",
     "text": [
      "100%|███████████████████████████████████████████████████| 7638519/7638519 [00:00<00:00, 9426819.28it/s]\n"
     ]
    },
    {
     "name": "stdout",
     "output_type": "stream",
     "text": [
      "File: results/Modis/chla/A202301_CHL_NW_month.png "
     ]
    },
    {
     "name": "stderr",
     "output_type": "stream",
     "text": [
      "100%|███████████████████████████████████████████████████| 3610957/3610957 [00:00<00:00, 8843537.63it/s]\n"
     ]
    },
    {
     "name": "stdout",
     "output_type": "stream",
     "text": [
      "File: results/Modis/chla/A202302_CHL_NW_month.nc "
     ]
    },
    {
     "name": "stderr",
     "output_type": "stream",
     "text": [
      "100%|███████████████████████████████████████████████████| 7793736/7793736 [00:00<00:00, 9544002.94it/s]\n"
     ]
    },
    {
     "name": "stdout",
     "output_type": "stream",
     "text": [
      "File: results/Modis/chla/A202302_CHL_NW_month.png "
     ]
    },
    {
     "name": "stderr",
     "output_type": "stream",
     "text": [
      "100%|███████████████████████████████████████████████████| 3545715/3545715 [00:00<00:00, 8580370.25it/s]\n"
     ]
    },
    {
     "name": "stdout",
     "output_type": "stream",
     "text": [
      "File: results/Modis/chla/A202303_CHL_NW_month.nc "
     ]
    },
    {
     "name": "stderr",
     "output_type": "stream",
     "text": [
      "100%|███████████████████████████████████████████████████| 2636775/2636775 [00:00<00:00, 8546929.31it/s]\n"
     ]
    },
    {
     "name": "stdout",
     "output_type": "stream",
     "text": [
      "File: results/Modis/chla/A202303_CHL_NW_month.png "
     ]
    },
    {
     "name": "stderr",
     "output_type": "stream",
     "text": [
      "100%|███████████████████████████████████████████████████| 1945541/1945541 [00:00<00:00, 9343615.34it/s]\n"
     ]
    },
    {
     "name": "stdout",
     "output_type": "stream",
     "text": [
      "File: results/Modis/chla/A202304_CHL_NW_month.nc "
     ]
    },
    {
     "name": "stderr",
     "output_type": "stream",
     "text": [
      "100%|███████████████████████████████████████████████████| 1944624/1944624 [00:00<00:00, 9494034.73it/s]\n"
     ]
    },
    {
     "name": "stdout",
     "output_type": "stream",
     "text": [
      "File: results/Modis/chla/A202304_CHL_NW_month.png "
     ]
    },
    {
     "name": "stderr",
     "output_type": "stream",
     "text": [
      "100%|███████████████████████████████████████████████████| 1765448/1765448 [00:00<00:00, 8698154.15it/s]\n"
     ]
    },
    {
     "name": "stdout",
     "output_type": "stream",
     "text": [
      "A202305_CHL_NW_month.nc: FileNotFound\n",
      "A202305_CHL_NW_month.png: FileNotFound\n",
      "A202306_CHL_NW_month.nc: FileNotFound\n",
      "A202306_CHL_NW_month.png: FileNotFound\n",
      "A202307_CHL_NW_month.nc: FileNotFound\n",
      "A202307_CHL_NW_month.png: FileNotFound\n",
      "A202308_CHL_NW_month.nc: FileNotFound\n",
      "A202308_CHL_NW_month.png: FileNotFound\n",
      "A202309_CHL_NW_month.nc: FileNotFound\n",
      "A202309_CHL_NW_month.png: FileNotFound\n",
      "A202310_CHL_NW_month.nc: FileNotFound\n",
      "A202310_CHL_NW_month.png: FileNotFound\n",
      "A202311_CHL_NW_month.nc: FileNotFound\n",
      "A202311_CHL_NW_month.png: FileNotFound\n",
      "A202312_CHL_NW_month.nc: FileNotFound\n",
      "A202312_CHL_NW_month.png: FileNotFound\n",
      "2024...\n",
      "A202401_CHL_NW_month.nc: FileNotFound\n",
      "A202401_CHL_NW_month.png: FileNotFound\n",
      "A202402_CHL_NW_month.nc: FileNotFound\n",
      "A202402_CHL_NW_month.png: FileNotFound\n",
      "A202403_CHL_NW_month.nc: FileNotFound\n",
      "A202403_CHL_NW_month.png: FileNotFound\n",
      "A202404_CHL_NW_month.nc: FileNotFound\n",
      "A202404_CHL_NW_month.png: FileNotFound\n",
      "A202405_CHL_NW_month.nc: FileNotFound\n",
      "A202405_CHL_NW_month.png: FileNotFound\n",
      "A202406_CHL_NW_month.nc: FileNotFound\n",
      "A202406_CHL_NW_month.png: FileNotFound\n",
      "A202407_CHL_NW_month.nc: FileNotFound\n",
      "A202407_CHL_NW_month.png: FileNotFound\n",
      "A202408_CHL_NW_month.nc: FileNotFound\n",
      "A202408_CHL_NW_month.png: FileNotFound\n",
      "A202409_CHL_NW_month.nc: FileNotFound\n",
      "A202409_CHL_NW_month.png: FileNotFound\n",
      "A202410_CHL_NW_month.nc: FileNotFound\n",
      "A202410_CHL_NW_month.png: FileNotFound\n",
      "A202411_CHL_NW_month.nc: FileNotFound\n",
      "A202411_CHL_NW_month.png: FileNotFound\n",
      "A202412_CHL_NW_month.nc: FileNotFound\n",
      "A202412_CHL_NW_month.png: FileNotFound\n",
      "done!\n"
     ]
    }
   ],
   "source": [
    "# Now retrieve the data from NMEW\n",
    "for year in range(ys, ye):\n",
    "    print(f'{year}...')\n",
    "    if comp in ('day', 'month'):\n",
    "        for query in daymonth_filegen():\n",
    "            # ----------------------\n",
    "            get_file(query_url=query)\n",
    "            # ----------------------\n",
    "            \n",
    "    if comp == 'year':\n",
    "        ncfile = f'{init}{year}_{var}_{sba}_{comp}.nc'\n",
    "        query = url.format(filetype='netcdf', subarea=sba, year=year, filename=ncfile)\n",
    "        # ----------------------\n",
    "        get_file(query_url=query)\n",
    "        # ----------------------\n",
    "\n",
    "        pngfile = f'{init}{year}_{var}_{sba}_{comp}.png'\n",
    "        query = url.format(filetype='images', subarea=sba, year=year, filename=pngfile)\n",
    "        # ----------------------\n",
    "        get_file(query_url=query)\n",
    "        # ----------------------\n",
    "\n",
    "print('done!')"
   ]
  },
  {
   "cell_type": "code",
   "execution_count": null,
   "metadata": {},
   "outputs": [],
   "source": []
  }
 ],
 "metadata": {
  "celltoolbar": "Slideshow",
  "kernelspec": {
   "display_name": "Python 3 (ipykernel)",
   "language": "python",
   "name": "python3"
  },
  "language_info": {
   "codemirror_mode": {
    "name": "ipython",
    "version": 3
   },
   "file_extension": ".py",
   "mimetype": "text/x-python",
   "name": "python",
   "nbconvert_exporter": "python",
   "pygments_lexer": "ipython3",
   "version": "3.11.4"
  }
 },
 "nbformat": 4,
 "nbformat_minor": 4
}
