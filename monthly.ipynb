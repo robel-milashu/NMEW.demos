{
 "cells": [
  {
   "cell_type": "code",
   "execution_count": 2,
   "id": "655b0f70-f00d-4d5f-83b4-9b9e2d2e6830",
   "metadata": {},
   "outputs": [],
   "source": [
    "import numpy as np\n",
    "\n",
    "from matplotlib import pyplot as plot, colors\n",
    "%matplotlib inline\n",
    "\n",
    "from mpl_toolkits import basemap\n",
    "from netCDF4 import Dataset, num2date"
   ]
  },
  {
   "cell_type": "code",
   "execution_count": 32,
   "id": "804500be-37a9-4b67-a213-35a8484fe24a",
   "metadata": {},
   "outputs": [],
   "source": [
    "# Input file and data visualization settings\n",
    "file = './results/modis/chla/A201401_CHL_NW_month.nc'\n",
    "varname = 'chlor_a'\n",
    "font_size = 20\n",
    "cmin, cmax = -2, 2\n",
    "# for CHL we use lognorm\n",
    "norm = colors.LogNorm(cmin, cmax)\n",
    "# update the size of figure labels\n",
    "plot.rcParams.update({'font.size': font_size})"
   ]
  },
  {
   "cell_type": "code",
   "execution_count": 23,
   "id": "9e7bc599-1273-4b54-8fee-c50f0fc3ed75",
   "metadata": {},
   "outputs": [],
   "source": [
    "# Assuming these are the coordinates you want to crop to\n",
    "lat_min_crop, lat_max_crop = 35.124, 35.34  # Update these values as needed\n",
    "lon_min_crop, lon_max_crop = 139.115, 139.62  # Update these values as needed"
   ]
  },
  {
   "cell_type": "code",
   "execution_count": 33,
   "id": "37c6481b-e533-4862-89c3-852bdd1737c8",
   "metadata": {},
   "outputs": [
    {
     "name": "stdout",
     "output_type": "stream",
     "text": [
      "Shape of 'sds' before cropping: (2219, 2250)\n",
      "[[-- -- -- ... -- -- --]\n",
      " [-- -- -- ... -- -- --]\n",
      " [-- -- -- ... -- -- --]\n",
      " ...\n",
      " [-- -- -- ... 0.19856072962284088 0.19579686224460602\n",
      "  0.18666794896125793]\n",
      " [-- -- -- ... 0.1958054155111313 0.19545036554336548 0.18931502103805542]\n",
      " [-- -- -- ... 0.2002500742673874 0.20224280655384064 0.1880737692117691]]\n",
      "0.37368511480126676\n"
     ]
    }
   ],
   "source": [
    "# Read the dataset and geo-ref data\n",
    "with Dataset(file, 'r') as nc:\n",
    "    sds = nc[varname][:] # the output is a numpy masked array\n",
    "    sds = np.ma.squeeze(sds)  # Remove singleton dimensions if present\n",
    "    print(\"Shape of 'sds' before cropping:\", sds.shape)  # Add this line to check the shape\n",
    "\n",
    "    sds = np.ma.squeeze(sds) # remove singleton dimensions\n",
    "    label = nc[varname].units.replace('^-3', '$^{-3}$')\n",
    "    lat = nc['lat'][:]\n",
    "    lon = nc['lon'][:]\n",
    "    \n",
    "    # Find indices for cropping\n",
    "    lat_inds = np.where((lat >= lat_min_crop) & (lat <= lat_max_crop))[0]\n",
    "    lon_inds = np.where((lon >= lon_min_crop) & (lon <= lon_max_crop))[0]\n",
    "    print(sds)\n",
    "    # Crop data\n",
    "        # Now add a check to ensure the indices are within the bounds of the array\n",
    "    if lat_inds.size > 0 and lon_inds.size > 0:\n",
    "        # Adjust the slicing based on the actual dimensions of sds\n",
    "        sds_cropped = sds[lat_inds, :][:, lon_inds]  # This is the updated line for a 2D array\n",
    "        lat_cropped = lat[lat_inds]\n",
    "        lon_cropped = lon[lon_inds]\n",
    "    else:\n",
    "        print(\"No data within specified crop bounds.\")\n",
    "        \n",
    "    # sds_cropped = sds[:, lat_inds, :][:, :, lon_inds]  # Assuming sds has a shape of [time, lat, lon]\n",
    "    lat_cropped = lat[lat_inds]\n",
    "    lon_cropped = lon[lon_inds]\n",
    "\n",
    "    print(np.ma.mean(sds_cropped))\n",
    "    \n",
    "    time = num2date(nc['time'][:], \n",
    "                    units=nc['time'].units,\n",
    "                    calendar=nc['time'].calendar)\n",
    "    label = nc[varname].long_name.split(',')[0] + f' [{label}]'"
   ]
  },
  {
   "cell_type": "code",
   "execution_count": 27,
   "id": "60389ab8-0846-465c-878a-890bfa1c2f6d",
   "metadata": {},
   "outputs": [],
   "source": [
    "\n",
    "from matplotlib.colors import LinearSegmentedColormap\n",
    "\n",
    "# Define your color list in hex\n",
    "hex_colors = [\n",
    "    '#3500a8', '#0800ba', '#003fd6',\n",
    "    '#00aca9', '#77f800', '#ff8800',\n",
    "    '#b30000', '#920000', '#880000'\n",
    "]\n",
    "\n",
    "# Convert hex color list to RGB\n",
    "rgb_colors = [colors.hex2color(color) for color in hex_colors]"
   ]
  },
  {
   "cell_type": "code",
   "execution_count": 34,
   "id": "64a99af5-cff7-46de-bbad-ae18f807ed65",
   "metadata": {},
   "outputs": [
    {
     "name": "stdout",
     "output_type": "stream",
     "text": [
      "runnign\n",
      "1.0713296 -2.6166573\n"
     ]
    },
    {
     "data": {
      "text/plain": [
       "[<matplotlib.lines.Line2D at 0x16a9fbd0150>]"
      ]
     },
     "execution_count": 34,
     "metadata": {},
     "output_type": "execute_result"
    },
    {
     "data": {
      "image/png": "[encoded data removed]",
      "text/plain": [
       "<Figure size 800x600 with 2 Axes>"
      ]
     },
     "metadata": {},
     "output_type": "display_data"
    }
   ],
   "source": [
    "# Visualisation with basemap\n",
    "print(\"runnign\")\n",
    "if len(lon_cropped.shape) == 1:\n",
    "    lon_cropped, lat_cropped = np.meshgrid(lon_cropped, lat_cropped)\n",
    "lon_0, lat_0 = (lon_cropped.min() + lon_cropped.max()), (lat_cropped.min() + lat_cropped.max()) / 2\n",
    "m = basemap.Basemap(llcrnrlon=lon_cropped.min(), llcrnrlat=lat_cropped.min(), \n",
    "                    urcrnrlon=lon_cropped.max(), urcrnrlat=lat_cropped.max(), resolution='i', \n",
    "                    lon_0=lon_0, lat_0=lat_0, projection='merc')\n",
    "\n",
    "# print(sds_cropped)\n",
    "sds_cropped_log = np.ma.masked_less_equal(sds_cropped, 0)  # Mask non-positive values\n",
    "sds_cropped_log = np.ma.log10(sds_cropped_log)  # Apply log10 to the data\n",
    "# print(sds_cropped_log)\n",
    "\n",
    "# Visualisation without basemap\n",
    "# Adjust figsize to change the aspect ratio\n",
    "fig, ax = plot.subplots(figsize=(8, 6))  # Adjust the width and height to better suit your data aspect ratio\n",
    "\n",
    "# figure bounds\n",
    "extent = [lon_cropped.min(), lon_cropped.max(), lat_cropped.min(), lat_cropped.max()]\n",
    "\n",
    "# Land mask\n",
    "mask = np.where(~sds_cropped_log.mask, np.nan, 0)\n",
    "ax.imshow(mask, cmap='gray', vmin=-2, vmax=0, extent=extent)\n",
    "\n",
    "# Create a colormap object\n",
    "custom_colormap = LinearSegmentedColormap.from_list('custom', rgb_colors)\n",
    "\n",
    "print(sds_cropped_log.max(), sds_cropped_log.min())\n",
    "# Data \n",
    "# We no longer use LogNorm here since we've manually applied log10\n",
    "# ims = ax.imshow(sds_cropped_log, cmap='jet', extent=extent)\n",
    "ims = ax.imshow(sds_cropped_log,vmin=cmin, vmax=cmax,  cmap=custom_colormap, extent=extent)\n",
    "\n",
    "# # Figure labels\n",
    "ax.set_xlabel('Longitude [$^\\mathregular{o}$E]', fontsize=\"12\")\n",
    "ax.set_ylabel('Latitude [$^\\mathregular{o}$N]', fontsize=\"12\")\n",
    "ax.set_yticks(range(int(np.ceil(lat_cropped.min())), int(np.ceil(lat_cropped.max())) + 1, 1))\n",
    "# ax.set_title(time[0].strftime('%b %Y'))\n",
    "\n",
    "# # Colourbar\n",
    "cbar = fig.colorbar(ims, ax=ax, orientation='vertical', fraction=0.02, pad=0.025, aspect=15)\n",
    "cbar.set_label('log10(Chl-a) Conc. mg/m^3', fontsize=\"12\")\n",
    "\n",
    "# Small Sagami Bay\n",
    "lat_min, lat_max = 35.124, 35.34\n",
    "lon_min, lon_max = 139.115, 139.68\n",
    "\n",
    "# # Draw a rectangle around the region of interest\n",
    "plot.plot([lon_min, lon_max], [lat_min, lat_min], color='r', lw=2)\n",
    "\n",
    "\n",
    "# # colourbar with axes set to match figure size\n",
    "# cax = plot.axes([0.8, 0.1, 0.03, 0.7]) # setup colorbar axes\n",
    "# cb = plot.colorbar(pm, label=label, cax=cax, format='%g') # draw colorbar\n",
    "# cb.ax.tick_params(width=2, length=4)\n",
    "# save\n",
    "\n",
    "\n"
   ]
  },
  {
   "cell_type": "code",
   "execution_count": null,
   "id": "4153c138-20ff-4b39-80a0-aeb45391d7fc",
   "metadata": {},
   "outputs": [],
   "source": []
  }
 ],
 "metadata": {
  "kernelspec": {
   "display_name": "Python 3 (ipykernel)",
   "language": "python",
   "name": "python3"
  },
  "language_info": {
   "codemirror_mode": {
    "name": "ipython",
    "version": 3
   },
   "file_extension": ".py",
   "mimetype": "text/x-python",
   "name": "python",
   "nbconvert_exporter": "python",
   "pygments_lexer": "ipython3",
   "version": "3.11.4"
  }
 },
 "nbformat": 4,
 "nbformat_minor": 5
}
