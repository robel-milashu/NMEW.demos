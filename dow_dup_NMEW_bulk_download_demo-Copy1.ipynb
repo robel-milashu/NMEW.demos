{
 "cells": [
  {
   "cell_type": "code",
   "execution_count": null,
   "metadata": {
    "slideshow": {
     "slide_type": "slide"
    }
   },
   "outputs": [],
   "source": [
    "import os\n",
    "import requests\n",
    "import time \n",
    "\n",
    "from tqdm import tqdm"
   ]
  },
  {
   "cell_type": "code",
   "execution_count": null,
   "metadata": {
    "slideshow": {
     "slide_type": "slide"
    }
   },
   "outputs": [],
   "source": [
    "# setting download parameters\n",
    "sba = 'NW' # Other subareas (Table 3)\n",
    "var = 'chlor_a' # variable name \n",
    "comp = 'day' # monthly composite | here can be 'day', 'month' or 'year' \n",
    "init = 'A' # Initial character of the sensor name, MODIS-Aqua (A) and SGLI-GCOMC (GS) \n",
    "ys = 2002 # start year\n",
    "ms = 1 # start month\n",
    "ds = 1 # start day of month\n",
    "ye = 2025 # end year + 1, if end is 1997 then use yend = 1997 + 1 \n",
    "me = 13 # end month + 1, if end is 12 (Dec) then use 13, if 1 then use 2\n",
    "de = 30 # end day\n",
    "file_ext = (\"nc\",'png', ) # file extension (type) to download, ('nc', 'png') or ('nc',) or ('png',) \n",
    "url = 'https://ocean.nowpap3.go.jp/image_search/{filetype}/{subarea}/{year}/{filename}'"
   ]
  },
  {
   "cell_type": "code",
   "execution_count": null,
   "metadata": {
    "slideshow": {
     "slide_type": "slide"
    }
   },
   "outputs": [],
   "source": [
    "# Day month fetching file generator\n",
    "def daymonth_filegen(filetype:tuple=file_ext):\n",
    "    # Define the netCDF (PNG) file name\n",
    "    for month in range(ms, me):\n",
    "        if comp == 'day':\n",
    "            for day in range(ds, de):\n",
    "                files = [f'{init}{year}{month:02}{day:02}_{var}_{sba}_{comp}.{ext}' \n",
    "                         for ext in filetype]\n",
    "                \n",
    "                yield from [url.format(filetype='netcdf', subarea=sba, year=year, filename=f) \n",
    "                            if f.endswith('.nc') else \n",
    "                            url.format(filetype='images', subarea=sba, year=year, filename=f)\n",
    "                            for f in files]\n",
    "                            \n",
    "        if comp == 'month':\n",
    "            files = [f'{init}{year}{month:02}_{var}_{sba}_{comp}.{ext}'\n",
    "                     for ext in filetype]\n",
    "            \n",
    "            yield from [url.format(filetype='netcdf', subarea=sba, year=year, filename=f) \n",
    "                        if f.endswith('.nc') else \n",
    "                        url.format(filetype='images', subarea=sba, year=year, filename=f)\n",
    "                        for f in files]"
   ]
  },
  {
   "cell_type": "code",
   "execution_count": null,
   "metadata": {
    "slideshow": {
     "slide_type": "slide"
    }
   },
   "outputs": [],
   "source": [
    "# Function to download the data\n",
    "def get_file(query_url:str):\n",
    "    getfile =  \"results/daily/Modis/chla2/\"+os.path.basename(query_url)\n",
    "    with requests.get(query) as r:\n",
    "        if r.status_code != 200:\n",
    "            print(f'{os.path.basename(query_url)}: FileNotFound')\n",
    "            return\n",
    "        total = int(r.headers.get('content-length'))                \n",
    "        print('File: {} '.format(getfile), end='')\n",
    "        with tqdm(total=total) as bar, open(getfile, \"wb\") as handle:\n",
    "            for chunk in r.iter_content(chunk_size=max(int(total / 1000), 1024 * 1024)):\n",
    "                # download progress check tqdm\n",
    "                if chunk: \n",
    "                    handle.write(chunk)\n",
    "                    time.sleep(0.1)\n",
    "                    bar.update(len(chunk))"
   ]
  },
  {
   "cell_type": "code",
   "execution_count": null,
   "metadata": {
    "slideshow": {
     "slide_type": "slide"
    }
   },
   "outputs": [],
   "source": [
    "# Now retrieve the data from NMEW\n",
    "for year in range(ys, ye):\n",
    "    print(f'{year}...')\n",
    "    if comp in ('day', 'month'):\n",
    "        for query in daymonth_filegen():\n",
    "            # ----------------------\n",
    "            get_file(query_url=query)\n",
    "            # ----------------------\n",
    "            \n",
    "    if comp == 'year':\n",
    "        ncfile = f'{init}{year}_{var}_{sba}_{comp}.nc'\n",
    "        query = url.format(filetype='netcdf', subarea=sba, year=year, filename=ncfile)\n",
    "        # ----------------------\n",
    "        get_file(query_url=query)\n",
    "        # ----------------------\n",
    "\n",
    "        pngfile = f'{init}{year}_{var}_{sba}_{comp}.png'\n",
    "        query = url.format(filetype='images', subarea=sba, year=year, filename=pngfile)\n",
    "        # ----------------------\n",
    "        get_file(query_url=query)\n",
    "        # ----------------------\n",
    "\n",
    "print('done!')"
   ]
  },
  {
   "cell_type": "code",
   "execution_count": null,
   "metadata": {},
   "outputs": [],
   "source": []
  }
 ],
 "metadata": {
  "celltoolbar": "Slideshow",
  "kernelspec": {
   "display_name": "Python 3 (ipykernel)",
   "language": "python",
   "name": "python3"
  },
  "language_info": {
   "codemirror_mode": {
    "name": "ipython",
    "version": 3
   },
   "file_extension": ".py",
   "mimetype": "text/x-python",
   "name": "python",
   "nbconvert_exporter": "python",
   "pygments_lexer": "ipython3",
   "version": "3.11.4"
  }
 },
 "nbformat": 4,
 "nbformat_minor": 4
}
