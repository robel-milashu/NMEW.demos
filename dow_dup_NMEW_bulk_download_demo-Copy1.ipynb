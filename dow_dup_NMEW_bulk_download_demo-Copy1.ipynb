{
 "cells": [
  {
   "cell_type": "code",
   "execution_count": 1,
   "metadata": {
    "slideshow": {
     "slide_type": "slide"
    }
   },
   "outputs": [],
   "source": [
    "import os\n",
    "import requests\n",
    "import time \n",
    "\n",
    "from tqdm import tqdm"
   ]
  },
  {
   "cell_type": "code",
   "execution_count": 10,
   "metadata": {
    "slideshow": {
     "slide_type": "slide"
    }
   },
   "outputs": [],
   "source": [
    "# setting download parameters\n",
    "sba = 'NW' # Other subareas (Table 3)\n",
    "var = 'SST' # variable name \n",
    "comp = 'day' # monthly composite | here can be 'day', 'month' or 'year' \n",
    "init = 'A' # Initial character of the sensor name, MODIS-Aqua (A) and SGLI-GCOMC (GS) \n",
    "ys = 2013 # start year\n",
    "ms = 1 # start month\n",
    "ds = 1 # start day of month\n",
    "ye = 2018 # end year + 1, if end is 1997 then use yend = 1997 + 1 \n",
    "me = 13 # end month + 1, if end is 12 (Dec) then use 13, if 1 then use 2\n",
    "de = 30 # end day\n",
    "file_ext = ('nc', ) # file extension (type) to download, ('nc', 'png') or ('nc',) or ('png',) \n",
    "url = 'https://ocean.nowpap3.go.jp/image_search/{filetype}/{subarea}/{year}/{filename}'"
   ]
  },
  {
   "cell_type": "code",
   "execution_count": 11,
   "metadata": {
    "slideshow": {
     "slide_type": "slide"
    }
   },
   "outputs": [],
   "source": [
    "# Day month fetching file generator\n",
    "def daymonth_filegen(filetype:tuple=file_ext):\n",
    "    # Define the netCDF (PNG) file name\n",
    "    for month in range(ms, me):\n",
    "        if comp == 'day':\n",
    "            for day in range(ds, de):\n",
    "                files = [f'{init}{year}{month:02}{day:02}_{var}_{sba}_{comp}.{ext}' \n",
    "                         for ext in filetype]\n",
    "                \n",
    "                yield from [url.format(filetype='netcdf', subarea=sba, year=year, filename=f) \n",
    "                            if f.endswith('.nc') else \n",
    "                            url.format(filetype='images', subarea=sba, year=year, filename=f)\n",
    "                            for f in files]\n",
    "                            \n",
    "        if comp == 'month':\n",
    "            files = [f'{init}{year}{month:02}_{var}_{sba}_{comp}.{ext}'\n",
    "                     for ext in filetype]\n",
    "            \n",
    "            yield from [url.format(filetype='netcdf', subarea=sba, year=year, filename=f) \n",
    "                        if f.endswith('.nc') else \n",
    "                        url.format(filetype='images', subarea=sba, year=year, filename=f)\n",
    "                        for f in files]"
   ]
  },
  {
   "cell_type": "code",
   "execution_count": 12,
   "metadata": {
    "slideshow": {
     "slide_type": "slide"
    }
   },
   "outputs": [],
   "source": [
    "# Function to download the data\n",
    "def get_file(query_url:str):\n",
    "    getfile =  \"results/daily/Modis/sst/\"+os.path.basename(query_url)\n",
    "    with requests.get(query) as r:\n",
    "        if r.status_code != 200:\n",
    "            print(f'{os.path.basename(query_url)}: FileNotFound')\n",
    "            return\n",
    "        total = int(r.headers.get('content-length'))                \n",
    "        print('File: {} '.format(getfile), end='')\n",
    "        with tqdm(total=total) as bar, open(getfile, \"wb\") as handle:\n",
    "            for chunk in r.iter_content(chunk_size=max(int(total / 1000), 1024 * 1024)):\n",
    "                # download progress check tqdm\n",
    "                if chunk: \n",
    "                    handle.write(chunk)\n",
    "                    time.sleep(0.1)\n",
    "                    bar.update(len(chunk))"
   ]
  },
  {
   "cell_type": "code",
   "execution_count": 13,
   "metadata": {
    "slideshow": {
     "slide_type": "slide"
    }
   },
   "outputs": [
    {
     "name": "stdout",
     "output_type": "stream",
     "text": [
      "2013...\n",
      "File: results/daily/Modis/sst/A20130101_SST_NW_day.nc "
     ]
    },
    {
     "name": "stderr",
     "output_type": "stream",
     "text": [
      "100%|█████| 686378/686378 [00:00<00:00, 6149044.26it/s]\n"
     ]
    },
    {
     "name": "stdout",
     "output_type": "stream",
     "text": [
      "File: results/daily/Modis/sst/A20130102_SST_NW_day.nc "
     ]
    },
    {
     "name": "stderr",
     "output_type": "stream",
     "text": [
      "100%|█████| 341442/341442 [00:00<00:00, 3363627.61it/s]\n"
     ]
    },
    {
     "name": "stdout",
     "output_type": "stream",
     "text": [
      "File: results/daily/Modis/sst/A20130103_SST_NW_day.nc "
     ]
    },
    {
     "name": "stderr",
     "output_type": "stream",
     "text": [
      "100%|█████| 238089/238089 [00:00<00:00, 2360519.19it/s]\n"
     ]
    },
    {
     "name": "stdout",
     "output_type": "stream",
     "text": [
      "File: results/daily/Modis/sst/A20130104_SST_NW_day.nc "
     ]
    },
    {
     "name": "stderr",
     "output_type": "stream",
     "text": [
      "100%|█████| 305952/305952 [00:00<00:00, 2799081.48it/s]\n"
     ]
    },
    {
     "name": "stdout",
     "output_type": "stream",
     "text": [
      "File: results/daily/Modis/sst/A20130105_SST_NW_day.nc "
     ]
    },
    {
     "name": "stderr",
     "output_type": "stream",
     "text": [
      "100%|█████| 289469/289469 [00:00<00:00, 2592846.22it/s]\n"
     ]
    },
    {
     "name": "stdout",
     "output_type": "stream",
     "text": [
      "File: results/daily/Modis/sst/A20130106_SST_NW_day.nc "
     ]
    },
    {
     "name": "stderr",
     "output_type": "stream",
     "text": [
      "100%|█████| 393146/393146 [00:00<00:00, 3843224.35it/s]\n"
     ]
    },
    {
     "name": "stdout",
     "output_type": "stream",
     "text": [
      "File: results/daily/Modis/sst/A20130107_SST_NW_day.nc "
     ]
    },
    {
     "name": "stderr",
     "output_type": "stream",
     "text": [
      "100%|█████| 348277/348277 [00:00<00:00, 3064827.66it/s]\n"
     ]
    },
    {
     "name": "stdout",
     "output_type": "stream",
     "text": [
      "File: results/daily/Modis/sst/A20130108_SST_NW_day.nc "
     ]
    },
    {
     "name": "stderr",
     "output_type": "stream",
     "text": [
      "100%|█████| 232432/232432 [00:00<00:00, 2143054.44it/s]\n"
     ]
    },
    {
     "name": "stdout",
     "output_type": "stream",
     "text": [
      "File: results/daily/Modis/sst/A20130109_SST_NW_day.nc "
     ]
    },
    {
     "name": "stderr",
     "output_type": "stream",
     "text": [
      "100%|█████| 466883/466883 [00:00<00:00, 4238212.72it/s]\n"
     ]
    },
    {
     "name": "stdout",
     "output_type": "stream",
     "text": [
      "File: results/daily/Modis/sst/A20130110_SST_NW_day.nc "
     ]
    },
    {
     "name": "stderr",
     "output_type": "stream",
     "text": [
      "100%|█████| 601308/601308 [00:00<00:00, 5415836.81it/s]\n"
     ]
    },
    {
     "name": "stdout",
     "output_type": "stream",
     "text": [
      "File: results/daily/Modis/sst/A20130111_SST_NW_day.nc "
     ]
    },
    {
     "name": "stderr",
     "output_type": "stream",
     "text": [
      "100%|█████| 572237/572237 [00:00<00:00, 5633989.67it/s]\n"
     ]
    },
    {
     "name": "stdout",
     "output_type": "stream",
     "text": [
      "File: results/daily/Modis/sst/A20130112_SST_NW_day.nc "
     ]
    },
    {
     "name": "stderr",
     "output_type": "stream",
     "text": [
      "100%|█████| 627384/627384 [00:00<00:00, 5629698.32it/s]\n"
     ]
    },
    {
     "name": "stdout",
     "output_type": "stream",
     "text": [
      "File: results/daily/Modis/sst/A20130113_SST_NW_day.nc "
     ]
    },
    {
     "name": "stderr",
     "output_type": "stream",
     "text": [
      "100%|█████| 485268/485268 [00:00<00:00, 4784369.09it/s]\n"
     ]
    },
    {
     "name": "stdout",
     "output_type": "stream",
     "text": [
      "File: results/daily/Modis/sst/A20130114_SST_NW_day.nc "
     ]
    },
    {
     "name": "stderr",
     "output_type": "stream",
     "text": [
      "100%|█████| 495411/495411 [00:00<00:00, 4486722.40it/s]\n"
     ]
    },
    {
     "name": "stdout",
     "output_type": "stream",
     "text": [
      "File: results/daily/Modis/sst/A20130115_SST_NW_day.nc "
     ]
    },
    {
     "name": "stderr",
     "output_type": "stream",
     "text": [
      "100%|█████| 255201/255201 [00:00<00:00, 2389504.69it/s]\n"
     ]
    },
    {
     "name": "stdout",
     "output_type": "stream",
     "text": [
      "File: results/daily/Modis/sst/A20130116_SST_NW_day.nc "
     ]
    },
    {
     "name": "stderr",
     "output_type": "stream",
     "text": [
      "100%|█████| 351456/351456 [00:00<00:00, 3046078.85it/s]\n"
     ]
    },
    {
     "name": "stdout",
     "output_type": "stream",
     "text": [
      "File: results/daily/Modis/sst/A20130117_SST_NW_day.nc "
     ]
    },
    {
     "name": "stderr",
     "output_type": "stream",
     "text": [
      "100%|█████| 387154/387154 [00:00<00:00, 3423262.26it/s]\n"
     ]
    },
    {
     "name": "stdout",
     "output_type": "stream",
     "text": [
      "File: results/daily/Modis/sst/A20130118_SST_NW_day.nc "
     ]
    },
    {
     "name": "stderr",
     "output_type": "stream",
     "text": [
      "100%|█████| 562622/562622 [00:00<00:00, 5408321.94it/s]\n"
     ]
    },
    {
     "name": "stdout",
     "output_type": "stream",
     "text": [
      "File: results/daily/Modis/sst/A20130119_SST_NW_day.nc "
     ]
    },
    {
     "name": "stderr",
     "output_type": "stream",
     "text": [
      "100%|█████| 634887/634887 [00:00<00:00, 5622720.29it/s]\n"
     ]
    },
    {
     "name": "stdout",
     "output_type": "stream",
     "text": [
      "File: results/daily/Modis/sst/A20130120_SST_NW_day.nc "
     ]
    },
    {
     "name": "stderr",
     "output_type": "stream",
     "text": [
      "100%|█████| 241235/241235 [00:00<00:00, 2076109.91it/s]\n"
     ]
    },
    {
     "name": "stdout",
     "output_type": "stream",
     "text": [
      "File: results/daily/Modis/sst/A20130121_SST_NW_day.nc "
     ]
    },
    {
     "name": "stderr",
     "output_type": "stream",
     "text": [
      "100%|█████| 192469/192469 [00:00<00:00, 1745527.92it/s]\n"
     ]
    },
    {
     "name": "stdout",
     "output_type": "stream",
     "text": [
      "File: results/daily/Modis/sst/A20130122_SST_NW_day.nc "
     ]
    },
    {
     "name": "stderr",
     "output_type": "stream",
     "text": [
      "100%|█████| 359996/359996 [00:00<00:00, 3468390.67it/s]\n"
     ]
    },
    {
     "name": "stdout",
     "output_type": "stream",
     "text": [
      "File: results/daily/Modis/sst/A20130123_SST_NW_day.nc "
     ]
    },
    {
     "name": "stderr",
     "output_type": "stream",
     "text": [
      "100%|█████| 408978/408978 [00:00<00:00, 4000900.44it/s]\n"
     ]
    },
    {
     "name": "stdout",
     "output_type": "stream",
     "text": [
      "File: results/daily/Modis/sst/A20130124_SST_NW_day.nc "
     ]
    },
    {
     "name": "stderr",
     "output_type": "stream",
     "text": [
      "100%|█████| 447932/447932 [00:00<00:00, 4160411.93it/s]\n"
     ]
    },
    {
     "name": "stdout",
     "output_type": "stream",
     "text": [
      "File: results/daily/Modis/sst/A20130125_SST_NW_day.nc "
     ]
    },
    {
     "name": "stderr",
     "output_type": "stream",
     "text": [
      "100%|█████| 515727/515727 [00:00<00:00, 5105686.10it/s]\n"
     ]
    },
    {
     "name": "stdout",
     "output_type": "stream",
     "text": [
      "File: results/daily/Modis/sst/A20130126_SST_NW_day.nc "
     ]
    },
    {
     "name": "stderr",
     "output_type": "stream",
     "text": [
      "100%|█████| 387882/387882 [00:00<00:00, 3859152.08it/s]\n"
     ]
    },
    {
     "name": "stdout",
     "output_type": "stream",
     "text": [
      "File: results/daily/Modis/sst/A20130127_SST_NW_day.nc "
     ]
    },
    {
     "name": "stderr",
     "output_type": "stream",
     "text": [
      "100%|█████| 605433/605433 [00:00<00:00, 5934202.93it/s]\n"
     ]
    },
    {
     "name": "stdout",
     "output_type": "stream",
     "text": [
      "File: results/daily/Modis/sst/A20130128_SST_NW_day.nc "
     ]
    },
    {
     "name": "stderr",
     "output_type": "stream",
     "text": [
      "100%|█████| 570683/570683 [00:00<00:00, 5663598.57it/s]\n"
     ]
    },
    {
     "name": "stdout",
     "output_type": "stream",
     "text": [
      "File: results/daily/Modis/sst/A20130129_SST_NW_day.nc "
     ]
    },
    {
     "name": "stderr",
     "output_type": "stream",
     "text": [
      "100%|█████| 590853/590853 [00:00<00:00, 5346850.53it/s]\n"
     ]
    },
    {
     "name": "stdout",
     "output_type": "stream",
     "text": [
      "File: results/daily/Modis/sst/A20130201_SST_NW_day.nc "
     ]
    },
    {
     "name": "stderr",
     "output_type": "stream",
     "text": [
      "100%|█████| 302052/302052 [00:00<00:00, 2973680.48it/s]\n"
     ]
    },
    {
     "name": "stdout",
     "output_type": "stream",
     "text": [
      "File: results/daily/Modis/sst/A20130202_SST_NW_day.nc "
     ]
    },
    {
     "name": "stderr",
     "output_type": "stream",
     "text": [
      "100%|█████| 999062/999062 [00:00<00:00, 9905913.34it/s]\n"
     ]
    },
    {
     "name": "stdout",
     "output_type": "stream",
     "text": [
      "File: results/daily/Modis/sst/A20130203_SST_NW_day.nc "
     ]
    },
    {
     "name": "stderr",
     "output_type": "stream",
     "text": [
      "100%|█████| 143450/143450 [00:00<00:00, 1417355.10it/s]\n"
     ]
    },
    {
     "name": "stdout",
     "output_type": "stream",
     "text": [
      "File: results/daily/Modis/sst/A20130204_SST_NW_day.nc "
     ]
    },
    {
     "name": "stderr",
     "output_type": "stream",
     "text": [
      "100%|█████| 577155/577155 [00:00<00:00, 5343778.06it/s]\n"
     ]
    },
    {
     "name": "stdout",
     "output_type": "stream",
     "text": [
      "File: results/daily/Modis/sst/A20130205_SST_NW_day.nc "
     ]
    },
    {
     "name": "stderr",
     "output_type": "stream",
     "text": [
      "100%|████████| 68990/68990 [00:00<00:00, 685453.86it/s]\n"
     ]
    },
    {
     "name": "stdout",
     "output_type": "stream",
     "text": [
      "File: results/daily/Modis/sst/A20130206_SST_NW_day.nc "
     ]
    },
    {
     "name": "stderr",
     "output_type": "stream",
     "text": [
      "100%|█████| 362067/362067 [00:00<00:00, 3205880.26it/s]\n"
     ]
    },
    {
     "name": "stdout",
     "output_type": "stream",
     "text": [
      "File: results/daily/Modis/sst/A20130207_SST_NW_day.nc "
     ]
    },
    {
     "name": "stderr",
     "output_type": "stream",
     "text": [
      "100%|██████| 100026/100026 [00:00<00:00, 965423.93it/s]\n"
     ]
    },
    {
     "name": "stdout",
     "output_type": "stream",
     "text": [
      "File: results/daily/Modis/sst/A20130208_SST_NW_day.nc "
     ]
    },
    {
     "name": "stderr",
     "output_type": "stream",
     "text": [
      "100%|█████| 147677/147677 [00:00<00:00, 1461792.07it/s]\n"
     ]
    },
    {
     "name": "stdout",
     "output_type": "stream",
     "text": [
      "File: results/daily/Modis/sst/A20130209_SST_NW_day.nc "
     ]
    },
    {
     "name": "stderr",
     "output_type": "stream",
     "text": [
      "100%|█████| 434579/434579 [00:00<00:00, 4279162.74it/s]\n"
     ]
    },
    {
     "name": "stdout",
     "output_type": "stream",
     "text": [
      "File: results/daily/Modis/sst/A20130210_SST_NW_day.nc "
     ]
    },
    {
     "name": "stderr",
     "output_type": "stream",
     "text": [
      "100%|█████| 549139/549139 [00:00<00:00, 5454075.08it/s]\n"
     ]
    },
    {
     "name": "stdout",
     "output_type": "stream",
     "text": [
      "File: results/daily/Modis/sst/A20130211_SST_NW_day.nc "
     ]
    },
    {
     "name": "stderr",
     "output_type": "stream",
     "text": [
      "100%|█████| 384063/384063 [00:00<00:00, 3443251.43it/s]\n"
     ]
    },
    {
     "name": "stdout",
     "output_type": "stream",
     "text": [
      "File: results/daily/Modis/sst/A20130212_SST_NW_day.nc "
     ]
    },
    {
     "name": "stderr",
     "output_type": "stream",
     "text": [
      "100%|█████| 351511/351511 [00:00<00:00, 3047317.46it/s]\n"
     ]
    },
    {
     "name": "stdout",
     "output_type": "stream",
     "text": [
      "File: results/daily/Modis/sst/A20130213_SST_NW_day.nc "
     ]
    },
    {
     "name": "stderr",
     "output_type": "stream",
     "text": [
      "100%|█████| 460625/460625 [00:00<00:00, 4516205.92it/s]\n"
     ]
    },
    {
     "name": "stdout",
     "output_type": "stream",
     "text": [
      "File: results/daily/Modis/sst/A20130214_SST_NW_day.nc "
     ]
    },
    {
     "name": "stderr",
     "output_type": "stream",
     "text": [
      "100%|█████| 215382/215382 [00:00<00:00, 2135427.33it/s]\n"
     ]
    },
    {
     "name": "stdout",
     "output_type": "stream",
     "text": [
      "File: results/daily/Modis/sst/A20130215_SST_NW_day.nc "
     ]
    },
    {
     "name": "stderr",
     "output_type": "stream",
     "text": [
      "100%|█████| 462964/462964 [00:00<00:00, 4588196.08it/s]\n"
     ]
    },
    {
     "name": "stdout",
     "output_type": "stream",
     "text": [
      "File: results/daily/Modis/sst/A20130216_SST_NW_day.nc "
     ]
    },
    {
     "name": "stderr",
     "output_type": "stream",
     "text": [
      "100%|█████| 443710/443710 [00:00<00:00, 4361454.93it/s]\n"
     ]
    },
    {
     "name": "stdout",
     "output_type": "stream",
     "text": [
      "File: results/daily/Modis/sst/A20130217_SST_NW_day.nc "
     ]
    },
    {
     "name": "stderr",
     "output_type": "stream",
     "text": [
      "100%|█████| 121818/121818 [00:00<00:00, 1203685.74it/s]\n"
     ]
    },
    {
     "name": "stdout",
     "output_type": "stream",
     "text": [
      "File: results/daily/Modis/sst/A20130218_SST_NW_day.nc "
     ]
    },
    {
     "name": "stderr",
     "output_type": "stream",
     "text": [
      "100%|█████| 165158/165158 [00:00<00:00, 1629414.73it/s]\n"
     ]
    },
    {
     "name": "stdout",
     "output_type": "stream",
     "text": [
      "File: results/daily/Modis/sst/A20130219_SST_NW_day.nc "
     ]
    },
    {
     "name": "stderr",
     "output_type": "stream",
     "text": [
      "100%|█████| 501855/501855 [00:00<00:00, 4696476.16it/s]\n"
     ]
    },
    {
     "name": "stdout",
     "output_type": "stream",
     "text": [
      "File: results/daily/Modis/sst/A20130220_SST_NW_day.nc "
     ]
    },
    {
     "name": "stderr",
     "output_type": "stream",
     "text": [
      "100%|█████| 477354/477354 [00:00<00:00, 4738073.67it/s]\n"
     ]
    },
    {
     "name": "stdout",
     "output_type": "stream",
     "text": [
      "File: results/daily/Modis/sst/A20130221_SST_NW_day.nc "
     ]
    },
    {
     "name": "stderr",
     "output_type": "stream",
     "text": [
      "100%|█████| 338782/338782 [00:00<00:00, 3356659.91it/s]\n"
     ]
    },
    {
     "name": "stdout",
     "output_type": "stream",
     "text": [
      "File: results/daily/Modis/sst/A20130222_SST_NW_day.nc "
     ]
    },
    {
     "name": "stderr",
     "output_type": "stream",
     "text": [
      "100%|█████| 702444/702444 [00:00<00:00, 6904280.64it/s]\n"
     ]
    },
    {
     "name": "stdout",
     "output_type": "stream",
     "text": [
      "File: results/daily/Modis/sst/A20130223_SST_NW_day.nc "
     ]
    },
    {
     "name": "stderr",
     "output_type": "stream",
     "text": [
      "100%|█████| 918239/918239 [00:00<00:00, 7895831.69it/s]\n"
     ]
    },
    {
     "name": "stdout",
     "output_type": "stream",
     "text": [
      "File: results/daily/Modis/sst/A20130224_SST_NW_day.nc "
     ]
    },
    {
     "name": "stderr",
     "output_type": "stream",
     "text": [
      "100%|█████| 391460/391460 [00:00<00:00, 3856194.93it/s]\n"
     ]
    },
    {
     "name": "stdout",
     "output_type": "stream",
     "text": [
      "File: results/daily/Modis/sst/A20130225_SST_NW_day.nc "
     ]
    },
    {
     "name": "stderr",
     "output_type": "stream",
     "text": [
      "100%|█████| 340200/340200 [00:00<00:00, 3352258.46it/s]\n"
     ]
    },
    {
     "name": "stdout",
     "output_type": "stream",
     "text": [
      "File: results/daily/Modis/sst/A20130226_SST_NW_day.nc "
     ]
    },
    {
     "name": "stderr",
     "output_type": "stream",
     "text": [
      "100%|█████| 357552/357552 [00:00<00:00, 3514736.39it/s]\n"
     ]
    },
    {
     "name": "stdout",
     "output_type": "stream",
     "text": [
      "File: results/daily/Modis/sst/A20130227_SST_NW_day.nc "
     ]
    },
    {
     "name": "stderr",
     "output_type": "stream",
     "text": [
      "100%|█████| 974707/974707 [00:00<00:00, 9602277.06it/s]\n"
     ]
    },
    {
     "name": "stdout",
     "output_type": "stream",
     "text": [
      "File: results/daily/Modis/sst/A20130228_SST_NW_day.nc "
     ]
    },
    {
     "name": "stderr",
     "output_type": "stream",
     "text": [
      "100%|█████| 336733/336733 [00:00<00:00, 2954333.66it/s]\n"
     ]
    },
    {
     "name": "stdout",
     "output_type": "stream",
     "text": [
      "A20130229_SST_NW_day.nc: FileNotFound\n",
      "File: results/daily/Modis/sst/A20130301_SST_NW_day.nc "
     ]
    },
    {
     "name": "stderr",
     "output_type": "stream",
     "text": [
      "100%|█████| 218481/218481 [00:00<00:00, 2095909.69it/s]\n"
     ]
    },
    {
     "name": "stdout",
     "output_type": "stream",
     "text": [
      "File: results/daily/Modis/sst/A20130302_SST_NW_day.nc "
     ]
    },
    {
     "name": "stderr",
     "output_type": "stream",
     "text": [
      "100%|█████| 451236/451236 [00:00<00:00, 4012884.85it/s]\n"
     ]
    },
    {
     "name": "stdout",
     "output_type": "stream",
     "text": [
      "File: results/daily/Modis/sst/A20130303_SST_NW_day.nc "
     ]
    },
    {
     "name": "stderr",
     "output_type": "stream",
     "text": [
      "100%|███| 1022019/1022019 [00:00<00:00, 9507800.43it/s]\n"
     ]
    },
    {
     "name": "stdout",
     "output_type": "stream",
     "text": [
      "File: results/daily/Modis/sst/A20130304_SST_NW_day.nc "
     ]
    },
    {
     "name": "stderr",
     "output_type": "stream",
     "text": [
      "100%|███| 1273834/1273834 [00:00<00:00, 6298128.24it/s]\n"
     ]
    },
    {
     "name": "stdout",
     "output_type": "stream",
     "text": [
      "File: results/daily/Modis/sst/A20130305_SST_NW_day.nc "
     ]
    },
    {
     "name": "stderr",
     "output_type": "stream",
     "text": [
      "100%|█| 1196132/1196132 [00:00<00:00, 58\n"
     ]
    },
    {
     "name": "stdout",
     "output_type": "stream",
     "text": [
      "File: results/daily/Modis/sst/A20130306_SST_NW_day.nc "
     ]
    },
    {
     "name": "stderr",
     "output_type": "stream",
     "text": [
      "100%|█| 1121690/1121690 [00:00<00:00, 55\n"
     ]
    },
    {
     "name": "stdout",
     "output_type": "stream",
     "text": [
      "File: results/daily/Modis/sst/A20130307_SST_NW_day.nc "
     ]
    },
    {
     "name": "stderr",
     "output_type": "stream",
     "text": [
      "100%|█| 650788/650788 [00:00<00:00, 6178\n"
     ]
    },
    {
     "name": "stdout",
     "output_type": "stream",
     "text": [
      "File: results/daily/Modis/sst/A20130308_SST_NW_day.nc "
     ]
    },
    {
     "name": "stderr",
     "output_type": "stream",
     "text": [
      "100%|█| 1296101/1296101 [00:00<00:00, 62\n"
     ]
    },
    {
     "name": "stdout",
     "output_type": "stream",
     "text": [
      "File: results/daily/Modis/sst/A20130309_SST_NW_day.nc "
     ]
    },
    {
     "name": "stderr",
     "output_type": "stream",
     "text": [
      "100%|█| 549236/549236 [00:00<00:00, 5117\n"
     ]
    },
    {
     "name": "stdout",
     "output_type": "stream",
     "text": [
      "File: results/daily/Modis/sst/A20130310_SST_NW_day.nc "
     ]
    },
    {
     "name": "stderr",
     "output_type": "stream",
     "text": [
      "100%|█| 841847/841847 [00:00<00:00, 8220\n"
     ]
    },
    {
     "name": "stdout",
     "output_type": "stream",
     "text": [
      "File: results/daily/Modis/sst/A20130311_SST_NW_day.nc "
     ]
    },
    {
     "name": "stderr",
     "output_type": "stream",
     "text": [
      "100%|█| 1430340/1430340 [00:00<00:00, 65\n"
     ]
    },
    {
     "name": "stdout",
     "output_type": "stream",
     "text": [
      "File: results/daily/Modis/sst/A20130312_SST_NW_day.nc "
     ]
    },
    {
     "name": "stderr",
     "output_type": "stream",
     "text": [
      "100%|█| 468650/468650 [00:00<00:00, 4580\n"
     ]
    },
    {
     "name": "stdout",
     "output_type": "stream",
     "text": [
      "File: results/daily/Modis/sst/A20130313_SST_NW_day.nc "
     ]
    },
    {
     "name": "stderr",
     "output_type": "stream",
     "text": [
      "100%|█| 470944/470944 [00:00<00:00, 4671\n"
     ]
    },
    {
     "name": "stdout",
     "output_type": "stream",
     "text": [
      "File: results/daily/Modis/sst/A20130314_SST_NW_day.nc "
     ]
    },
    {
     "name": "stderr",
     "output_type": "stream",
     "text": [
      "100%|█| 999669/999669 [00:00<00:00, 8714\n"
     ]
    },
    {
     "name": "stdout",
     "output_type": "stream",
     "text": [
      "File: results/daily/Modis/sst/A20130315_SST_NW_day.nc "
     ]
    },
    {
     "name": "stderr",
     "output_type": "stream",
     "text": [
      "100%|█| 1044625/1044625 [00:00<00:00, 90\n"
     ]
    },
    {
     "name": "stdout",
     "output_type": "stream",
     "text": [
      "File: results/daily/Modis/sst/A20130316_SST_NW_day.nc "
     ]
    },
    {
     "name": "stderr",
     "output_type": "stream",
     "text": [
      "100%|█| 1024064/1024064 [00:00<00:00, 96\n"
     ]
    },
    {
     "name": "stdout",
     "output_type": "stream",
     "text": [
      "File: results/daily/Modis/sst/A20130317_SST_NW_day.nc "
     ]
    },
    {
     "name": "stderr",
     "output_type": "stream",
     "text": [
      "100%|█| 274552/274552 [00:00<00:00, 2461\n"
     ]
    },
    {
     "name": "stdout",
     "output_type": "stream",
     "text": [
      "File: results/daily/Modis/sst/A20130318_SST_NW_day.nc "
     ]
    },
    {
     "name": "stderr",
     "output_type": "stream",
     "text": [
      "100%|█| 606322/606322 [00:00<00:00, 5646\n"
     ]
    },
    {
     "name": "stdout",
     "output_type": "stream",
     "text": [
      "File: results/daily/Modis/sst/A20130319_SST_NW_day.nc "
     ]
    },
    {
     "name": "stderr",
     "output_type": "stream",
     "text": [
      "100%|█| 190985/190985 [00:00<00:00, 1791\n"
     ]
    },
    {
     "name": "stdout",
     "output_type": "stream",
     "text": [
      "File: results/daily/Modis/sst/A20130320_SST_NW_day.nc "
     ]
    },
    {
     "name": "stderr",
     "output_type": "stream",
     "text": [
      "100%|█| 737881/737881 [00:00<00:00, 6875\n"
     ]
    },
    {
     "name": "stdout",
     "output_type": "stream",
     "text": [
      "File: results/daily/Modis/sst/A20130321_SST_NW_day.nc "
     ]
    },
    {
     "name": "stderr",
     "output_type": "stream",
     "text": [
      "100%|█| 810164/810164 [00:00<00:00, 7932\n"
     ]
    },
    {
     "name": "stdout",
     "output_type": "stream",
     "text": [
      "File: results/daily/Modis/sst/A20130322_SST_NW_day.nc "
     ]
    },
    {
     "name": "stderr",
     "output_type": "stream",
     "text": [
      "100%|█| 695309/695309 [00:00<00:00, 6111\n"
     ]
    },
    {
     "name": "stdout",
     "output_type": "stream",
     "text": [
      "File: results/daily/Modis/sst/A20130323_SST_NW_day.nc "
     ]
    },
    {
     "name": "stderr",
     "output_type": "stream",
     "text": [
      "100%|█| 248500/248500 [00:00<00:00, 2330\n"
     ]
    },
    {
     "name": "stdout",
     "output_type": "stream",
     "text": [
      "File: results/daily/Modis/sst/A20130324_SST_NW_day.nc "
     ]
    },
    {
     "name": "stderr",
     "output_type": "stream",
     "text": [
      "100%|█| 386503/386503 [00:00<00:00, 3802\n"
     ]
    },
    {
     "name": "stdout",
     "output_type": "stream",
     "text": [
      "File: results/daily/Modis/sst/A20130325_SST_NW_day.nc "
     ]
    },
    {
     "name": "stderr",
     "output_type": "stream",
     "text": [
      "100%|█| 771015/771015 [00:00<00:00, 7059\n"
     ]
    },
    {
     "name": "stdout",
     "output_type": "stream",
     "text": [
      "File: results/daily/Modis/sst/A20130326_SST_NW_day.nc "
     ]
    },
    {
     "name": "stderr",
     "output_type": "stream",
     "text": [
      "100%|█| 799310/799310 [00:00<00:00, 6870\n"
     ]
    },
    {
     "name": "stdout",
     "output_type": "stream",
     "text": [
      "File: results/daily/Modis/sst/A20130327_SST_NW_day.nc "
     ]
    },
    {
     "name": "stderr",
     "output_type": "stream",
     "text": [
      "100%|█| 640918/640918 [00:00<00:00, 5806\n"
     ]
    },
    {
     "name": "stdout",
     "output_type": "stream",
     "text": [
      "File: results/daily/Modis/sst/A20130328_SST_NW_day.nc "
     ]
    },
    {
     "name": "stderr",
     "output_type": "stream",
     "text": [
      "100%|█| 645947/645947 [00:00<00:00, 6418\n"
     ]
    },
    {
     "name": "stdout",
     "output_type": "stream",
     "text": [
      "File: results/daily/Modis/sst/A20130329_SST_NW_day.nc "
     ]
    },
    {
     "name": "stderr",
     "output_type": "stream",
     "text": [
      "100%|█| 826581/826581 [00:00<00:00, 8119\n"
     ]
    },
    {
     "name": "stdout",
     "output_type": "stream",
     "text": [
      "File: results/daily/Modis/sst/A20130401_SST_NW_day.nc "
     ]
    },
    {
     "name": "stderr",
     "output_type": "stream",
     "text": [
      "100%|█| 273187/273187 [00:00<00:00, 2398\n"
     ]
    },
    {
     "name": "stdout",
     "output_type": "stream",
     "text": [
      "File: results/daily/Modis/sst/A20130402_SST_NW_day.nc "
     ]
    },
    {
     "name": "stderr",
     "output_type": "stream",
     "text": [
      "100%|█| 611377/611377 [00:00<00:00, 5697\n"
     ]
    },
    {
     "name": "stdout",
     "output_type": "stream",
     "text": [
      "File: results/daily/Modis/sst/A20130403_SST_NW_day.nc "
     ]
    },
    {
     "name": "stderr",
     "output_type": "stream",
     "text": [
      "100%|█| 903032/903032 [00:00<00:00, 8344\n"
     ]
    },
    {
     "name": "stdout",
     "output_type": "stream",
     "text": [
      "File: results/daily/Modis/sst/A20130404_SST_NW_day.nc "
     ]
    },
    {
     "name": "stderr",
     "output_type": "stream",
     "text": [
      "100%|█| 765830/765830 [00:00<00:00, 7419\n"
     ]
    },
    {
     "name": "stdout",
     "output_type": "stream",
     "text": [
      "File: results/daily/Modis/sst/A20130405_SST_NW_day.nc "
     ]
    },
    {
     "name": "stderr",
     "output_type": "stream",
     "text": [
      "100%|█| 104954/104954 [00:00<00:00, 9970\n"
     ]
    },
    {
     "name": "stdout",
     "output_type": "stream",
     "text": [
      "File: results/daily/Modis/sst/A20130406_SST_NW_day.nc "
     ]
    },
    {
     "name": "stderr",
     "output_type": "stream",
     "text": [
      "100%|█| 507731/507731 [00:00<00:00, 4619\n"
     ]
    },
    {
     "name": "stdout",
     "output_type": "stream",
     "text": [
      "File: results/daily/Modis/sst/A20130407_SST_NW_day.nc "
     ]
    },
    {
     "name": "stderr",
     "output_type": "stream",
     "text": [
      "100%|█| 1033605/1033605 [00:00<00:00, 97\n"
     ]
    },
    {
     "name": "stdout",
     "output_type": "stream",
     "text": [
      "File: results/daily/Modis/sst/A20130408_SST_NW_day.nc "
     ]
    },
    {
     "name": "stderr",
     "output_type": "stream",
     "text": [
      "100%|█| 910159/910159 [00:00<00:00, 8808\n"
     ]
    },
    {
     "name": "stdout",
     "output_type": "stream",
     "text": [
      "File: results/daily/Modis/sst/A20130409_SST_NW_day.nc "
     ]
    },
    {
     "name": "stderr",
     "output_type": "stream",
     "text": [
      "100%|█| 847096/847096 [00:00<00:00, 7466\n"
     ]
    },
    {
     "name": "stdout",
     "output_type": "stream",
     "text": [
      "File: results/daily/Modis/sst/A20130410_SST_NW_day.nc "
     ]
    },
    {
     "name": "stderr",
     "output_type": "stream",
     "text": [
      "100%|█| 1065408/1065408 [00:00<00:00, 49\n"
     ]
    },
    {
     "name": "stdout",
     "output_type": "stream",
     "text": [
      "File: results/daily/Modis/sst/A20130411_SST_NW_day.nc "
     ]
    },
    {
     "name": "stderr",
     "output_type": "stream",
     "text": [
      "100%|█| 1146628/1146628 [00:00<00:00, 53\n"
     ]
    },
    {
     "name": "stdout",
     "output_type": "stream",
     "text": [
      "File: results/daily/Modis/sst/A20130412_SST_NW_day.nc "
     ]
    },
    {
     "name": "stderr",
     "output_type": "stream",
     "text": [
      "100%|█| 1563171/1563171 [00:00<00:00, 73\n"
     ]
    },
    {
     "name": "stdout",
     "output_type": "stream",
     "text": [
      "File: results/daily/Modis/sst/A20130413_SST_NW_day.nc "
     ]
    },
    {
     "name": "stderr",
     "output_type": "stream",
     "text": [
      "100%|█| 616344/616344 [00:00<00:00, 6110\n"
     ]
    },
    {
     "name": "stdout",
     "output_type": "stream",
     "text": [
      "File: results/daily/Modis/sst/A20130414_SST_NW_day.nc "
     ]
    },
    {
     "name": "stderr",
     "output_type": "stream",
     "text": [
      "100%|█| 1386886/1386886 [00:00<00:00, 67\n"
     ]
    },
    {
     "name": "stdout",
     "output_type": "stream",
     "text": [
      "File: results/daily/Modis/sst/A20130415_SST_NW_day.nc "
     ]
    },
    {
     "name": "stderr",
     "output_type": "stream",
     "text": [
      "100%|█| 1218058/1218058 [00:00<00:00, 60\n"
     ]
    },
    {
     "name": "stdout",
     "output_type": "stream",
     "text": [
      "File: results/daily/Modis/sst/A20130416_SST_NW_day.nc "
     ]
    },
    {
     "name": "stderr",
     "output_type": "stream",
     "text": [
      "100%|█| 132996/132996 [00:00<00:00, 1310\n"
     ]
    },
    {
     "name": "stdout",
     "output_type": "stream",
     "text": [
      "File: results/daily/Modis/sst/A20130417_SST_NW_day.nc "
     ]
    },
    {
     "name": "stderr",
     "output_type": "stream",
     "text": [
      "100%|█| 141899/141899 [00:00<00:00, 1397\n"
     ]
    },
    {
     "name": "stdout",
     "output_type": "stream",
     "text": [
      "File: results/daily/Modis/sst/A20130418_SST_NW_day.nc "
     ]
    },
    {
     "name": "stderr",
     "output_type": "stream",
     "text": [
      "100%|█| 729436/729436 [00:00<00:00, 7190\n"
     ]
    },
    {
     "name": "stdout",
     "output_type": "stream",
     "text": [
      "File: results/daily/Modis/sst/A20130419_SST_NW_day.nc "
     ]
    },
    {
     "name": "stderr",
     "output_type": "stream",
     "text": [
      "100%|█| 662451/662451 [00:00<00:00, 6323\n"
     ]
    },
    {
     "name": "stdout",
     "output_type": "stream",
     "text": [
      "File: results/daily/Modis/sst/A20130420_SST_NW_day.nc "
     ]
    },
    {
     "name": "stderr",
     "output_type": "stream",
     "text": [
      "100%|█| 815930/815930 [00:00<00:00, 7750\n"
     ]
    },
    {
     "name": "stdout",
     "output_type": "stream",
     "text": [
      "File: results/daily/Modis/sst/A20130421_SST_NW_day.nc "
     ]
    },
    {
     "name": "stderr",
     "output_type": "stream",
     "text": [
      "100%|█| 1696993/1696993 [00:00<00:00, 83\n"
     ]
    },
    {
     "name": "stdout",
     "output_type": "stream",
     "text": [
      "File: results/daily/Modis/sst/A20130422_SST_NW_day.nc "
     ]
    },
    {
     "name": "stderr",
     "output_type": "stream",
     "text": [
      "100%|█| 874975/874975 [00:00<00:00, 8654\n"
     ]
    },
    {
     "name": "stdout",
     "output_type": "stream",
     "text": [
      "File: results/daily/Modis/sst/A20130423_SST_NW_day.nc "
     ]
    },
    {
     "name": "stderr",
     "output_type": "stream",
     "text": [
      "100%|█| 168755/168755 [00:00<00:00, 1606\n"
     ]
    },
    {
     "name": "stdout",
     "output_type": "stream",
     "text": [
      "File: results/daily/Modis/sst/A20130424_SST_NW_day.nc "
     ]
    },
    {
     "name": "stderr",
     "output_type": "stream",
     "text": [
      "100%|█| 624163/624163 [00:00<00:00, 6186\n"
     ]
    },
    {
     "name": "stdout",
     "output_type": "stream",
     "text": [
      "File: results/daily/Modis/sst/A20130425_SST_NW_day.nc "
     ]
    },
    {
     "name": "stderr",
     "output_type": "stream",
     "text": [
      "100%|█| 973204/973204 [00:00<00:00, 9609\n"
     ]
    },
    {
     "name": "stdout",
     "output_type": "stream",
     "text": [
      "File: results/daily/Modis/sst/A20130426_SST_NW_day.nc "
     ]
    },
    {
     "name": "stderr",
     "output_type": "stream",
     "text": [
      "100%|█| 1170407/1170407 [00:00<00:00, 57\n"
     ]
    },
    {
     "name": "stdout",
     "output_type": "stream",
     "text": [
      "File: results/daily/Modis/sst/A20130427_SST_NW_day.nc "
     ]
    },
    {
     "name": "stderr",
     "output_type": "stream",
     "text": [
      "100%|█| 1283356/1283356 [00:00<00:00, 63\n"
     ]
    },
    {
     "name": "stdout",
     "output_type": "stream",
     "text": [
      "File: results/daily/Modis/sst/A20130428_SST_NW_day.nc "
     ]
    },
    {
     "name": "stderr",
     "output_type": "stream",
     "text": [
      "100%|█| 689221/689221 [00:00<00:00, 6791\n"
     ]
    },
    {
     "name": "stdout",
     "output_type": "stream",
     "text": [
      "File: results/daily/Modis/sst/A20130429_SST_NW_day.nc "
     ]
    },
    {
     "name": "stderr",
     "output_type": "stream",
     "text": [
      "100%|█| 320784/320784 [00:00<00:00, 3191\n"
     ]
    },
    {
     "name": "stdout",
     "output_type": "stream",
     "text": [
      "File: results/daily/Modis/sst/A20130501_SST_NW_day.nc "
     ]
    },
    {
     "name": "stderr",
     "output_type": "stream",
     "text": [
      "100%|█| 782182/782182 [00:00<00:00, 7347\n"
     ]
    },
    {
     "name": "stdout",
     "output_type": "stream",
     "text": [
      "File: results/daily/Modis/sst/A20130502_SST_NW_day.nc "
     ]
    },
    {
     "name": "stderr",
     "output_type": "stream",
     "text": [
      "100%|█| 1041114/1041114 [00:00<00:00, 95\n"
     ]
    },
    {
     "name": "stdout",
     "output_type": "stream",
     "text": [
      "File: results/daily/Modis/sst/A20130503_SST_NW_day.nc "
     ]
    },
    {
     "name": "stderr",
     "output_type": "stream",
     "text": [
      "100%|█| 1040449/1040449 [00:00<00:00, 94\n"
     ]
    },
    {
     "name": "stdout",
     "output_type": "stream",
     "text": [
      "File: results/daily/Modis/sst/A20130504_SST_NW_day.nc "
     ]
    },
    {
     "name": "stderr",
     "output_type": "stream",
     "text": [
      "100%|█| 1187179/1187179 [00:00<00:00, 58\n"
     ]
    },
    {
     "name": "stdout",
     "output_type": "stream",
     "text": [
      "File: results/daily/Modis/sst/A20130505_SST_NW_day.nc "
     ]
    },
    {
     "name": "stderr",
     "output_type": "stream",
     "text": [
      "100%|█| 1322457/1322457 [00:00<00:00, 65\n"
     ]
    },
    {
     "name": "stdout",
     "output_type": "stream",
     "text": [
      "File: results/daily/Modis/sst/A20130506_SST_NW_day.nc "
     ]
    },
    {
     "name": "stderr",
     "output_type": "stream",
     "text": [
      "100%|█| 1120845/1120845 [00:00<00:00, 54\n"
     ]
    },
    {
     "name": "stdout",
     "output_type": "stream",
     "text": [
      "File: results/daily/Modis/sst/A20130507_SST_NW_day.nc "
     ]
    },
    {
     "name": "stderr",
     "output_type": "stream",
     "text": [
      "100%|█| 1136800/1136800 [00:00<00:00, 56\n"
     ]
    },
    {
     "name": "stdout",
     "output_type": "stream",
     "text": [
      "File: results/daily/Modis/sst/A20130508_SST_NW_day.nc "
     ]
    },
    {
     "name": "stderr",
     "output_type": "stream",
     "text": [
      "100%|█| 882844/882844 [00:00<00:00, 7955\n"
     ]
    },
    {
     "name": "stdout",
     "output_type": "stream",
     "text": [
      "File: results/daily/Modis/sst/A20130509_SST_NW_day.nc "
     ]
    },
    {
     "name": "stderr",
     "output_type": "stream",
     "text": [
      "100%|█| 356681/356681 [00:00<00:00, 3247\n"
     ]
    },
    {
     "name": "stdout",
     "output_type": "stream",
     "text": [
      "File: results/daily/Modis/sst/A20130510_SST_NW_day.nc "
     ]
    },
    {
     "name": "stderr",
     "output_type": "stream",
     "text": [
      "100%|█| 235048/235048 [00:00<00:00, 2315\n"
     ]
    },
    {
     "name": "stdout",
     "output_type": "stream",
     "text": [
      "File: results/daily/Modis/sst/A20130511_SST_NW_day.nc "
     ]
    },
    {
     "name": "stderr",
     "output_type": "stream",
     "text": [
      "100%|█| 553861/553861 [00:00<00:00, 5389058.41\n"
     ]
    },
    {
     "name": "stdout",
     "output_type": "stream",
     "text": [
      "File: results/daily/Modis/sst/A20130512_SST_NW_day.nc "
     ]
    },
    {
     "name": "stderr",
     "output_type": "stream",
     "text": [
      "100%|█| 517235/517235 [00:00<00:00, 4519809.64\n"
     ]
    },
    {
     "name": "stdout",
     "output_type": "stream",
     "text": [
      "File: results/daily/Modis/sst/A20130513_SST_NW_day.nc "
     ]
    },
    {
     "name": "stderr",
     "output_type": "stream",
     "text": [
      "100%|█| 498968/498968 [00:00<00:00, 4585271.73\n"
     ]
    },
    {
     "name": "stdout",
     "output_type": "stream",
     "text": [
      "File: results/daily/Modis/sst/A20130514_SST_NW_day.nc "
     ]
    },
    {
     "name": "stderr",
     "output_type": "stream",
     "text": [
      "100%|█| 429435/429435 [00:00<00:00, 4205841.21\n"
     ]
    },
    {
     "name": "stdout",
     "output_type": "stream",
     "text": [
      "File: results/daily/Modis/sst/A20130515_SST_NW_day.nc "
     ]
    },
    {
     "name": "stderr",
     "output_type": "stream",
     "text": [
      "100%|█| 204134/204134 [00:00<00:00, 2024510.84\n"
     ]
    },
    {
     "name": "stdout",
     "output_type": "stream",
     "text": [
      "File: results/daily/Modis/sst/A20130516_SST_NW_day.nc "
     ]
    },
    {
     "name": "stderr",
     "output_type": "stream",
     "text": [
      "100%|█| 243837/243837 [00:00<00:00, 2239373.82\n"
     ]
    },
    {
     "name": "stdout",
     "output_type": "stream",
     "text": [
      "File: results/daily/Modis/sst/A20130517_SST_NW_day.nc "
     ]
    },
    {
     "name": "stderr",
     "output_type": "stream",
     "text": [
      "100%|█| 472307/472307 [00:00<00:00, 4437712.15\n"
     ]
    },
    {
     "name": "stdout",
     "output_type": "stream",
     "text": [
      "File: results/daily/Modis/sst/A20130518_SST_NW_day.nc "
     ]
    },
    {
     "name": "stderr",
     "output_type": "stream",
     "text": [
      "100%|█| 101961/101961 [00:00<00:00, 890258.86i\n"
     ]
    },
    {
     "name": "stdout",
     "output_type": "stream",
     "text": [
      "File: results/daily/Modis/sst/A20130519_SST_NW_day.nc "
     ]
    },
    {
     "name": "stderr",
     "output_type": "stream",
     "text": [
      "100%|█| 315595/315595 [00:00<00:00, 2735050.16\n"
     ]
    },
    {
     "name": "stdout",
     "output_type": "stream",
     "text": [
      "File: results/daily/Modis/sst/A20130520_SST_NW_day.nc "
     ]
    },
    {
     "name": "stderr",
     "output_type": "stream",
     "text": [
      "100%|█| 657500/657500 [00:00<00:00, 5935455.08\n"
     ]
    },
    {
     "name": "stdout",
     "output_type": "stream",
     "text": [
      "File: results/daily/Modis/sst/A20130521_SST_NW_day.nc "
     ]
    },
    {
     "name": "stderr",
     "output_type": "stream",
     "text": [
      "100%|█| 530859/530859 [00:00<00:00, 5071552.61\n"
     ]
    },
    {
     "name": "stdout",
     "output_type": "stream",
     "text": [
      "File: results/daily/Modis/sst/A20130522_SST_NW_day.nc "
     ]
    },
    {
     "name": "stderr",
     "output_type": "stream",
     "text": [
      "100%|█| 583799/583799 [00:00<00:00, 5674049.72\n"
     ]
    },
    {
     "name": "stdout",
     "output_type": "stream",
     "text": [
      "File: results/daily/Modis/sst/A20130523_SST_NW_day.nc "
     ]
    },
    {
     "name": "stderr",
     "output_type": "stream",
     "text": [
      "100%|█| 1036431/1036431 [00:00<00:00, 9518433.\n"
     ]
    },
    {
     "name": "stdout",
     "output_type": "stream",
     "text": [
      "File: results/daily/Modis/sst/A20130524_SST_NW_day.nc "
     ]
    },
    {
     "name": "stderr",
     "output_type": "stream",
     "text": [
      "100%|█| 805650/805650 [00:00<00:00, 7932311.77\n"
     ]
    },
    {
     "name": "stdout",
     "output_type": "stream",
     "text": [
      "File: results/daily/Modis/sst/A20130525_SST_NW_day.nc "
     ]
    },
    {
     "name": "stderr",
     "output_type": "stream",
     "text": [
      "100%|█| 592094/592094 [00:00<00:00, 5620344.39\n"
     ]
    },
    {
     "name": "stdout",
     "output_type": "stream",
     "text": [
      "File: results/daily/Modis/sst/A20130526_SST_NW_day.nc "
     ]
    },
    {
     "name": "stderr",
     "output_type": "stream",
     "text": [
      "100%|█| 209616/209616 [00:00<00:00, 2005532.20\n"
     ]
    },
    {
     "name": "stdout",
     "output_type": "stream",
     "text": [
      "File: results/daily/Modis/sst/A20130527_SST_NW_day.nc "
     ]
    },
    {
     "name": "stderr",
     "output_type": "stream",
     "text": [
      "100%|█| 85710/85710 [00:00<00:00, 765079.01it/\n"
     ]
    },
    {
     "name": "stdout",
     "output_type": "stream",
     "text": [
      "File: results/daily/Modis/sst/A20130528_SST_NW_day.nc "
     ]
    },
    {
     "name": "stderr",
     "output_type": "stream",
     "text": [
      "100%|█| 243068/243068 [00:00<00:00, 2394251.65\n"
     ]
    },
    {
     "name": "stdout",
     "output_type": "stream",
     "text": [
      "File: results/daily/Modis/sst/A20130529_SST_NW_day.nc "
     ]
    },
    {
     "name": "stderr",
     "output_type": "stream",
     "text": [
      "100%|█| 276489/276489 [00:00<00:00, 2503143.65\n"
     ]
    },
    {
     "name": "stdout",
     "output_type": "stream",
     "text": [
      "File: results/daily/Modis/sst/A20130601_SST_NW_day.nc "
     ]
    },
    {
     "name": "stderr",
     "output_type": "stream",
     "text": [
      "100%|█| 380695/380695 [00:00<00:00, 3560662.39\n"
     ]
    },
    {
     "name": "stdout",
     "output_type": "stream",
     "text": [
      "File: results/daily/Modis/sst/A20130602_SST_NW_day.nc "
     ]
    },
    {
     "name": "stderr",
     "output_type": "stream",
     "text": [
      "100%|█| 658769/658769 [00:00<00:00, 6501098.67\n"
     ]
    },
    {
     "name": "stdout",
     "output_type": "stream",
     "text": [
      "File: results/daily/Modis/sst/A20130603_SST_NW_day.nc "
     ]
    },
    {
     "name": "stderr",
     "output_type": "stream",
     "text": [
      "100%|█| 1088171/1088171 [00:00<00:00, 5239815.\n"
     ]
    },
    {
     "name": "stdout",
     "output_type": "stream",
     "text": [
      "File: results/daily/Modis/sst/A20130604_SST_NW_day.nc "
     ]
    },
    {
     "name": "stderr",
     "output_type": "stream",
     "text": [
      "100%|█| 639302/639302 [00:00<00:00, 6076791.84\n"
     ]
    },
    {
     "name": "stdout",
     "output_type": "stream",
     "text": [
      "File: results/daily/Modis/sst/A20130605_SST_NW_day.nc "
     ]
    },
    {
     "name": "stderr",
     "output_type": "stream",
     "text": [
      "100%|█| 450158/450158 [00:00<00:00, 4336949.18\n"
     ]
    },
    {
     "name": "stdout",
     "output_type": "stream",
     "text": [
      "File: results/daily/Modis/sst/A20130606_SST_NW_day.nc "
     ]
    },
    {
     "name": "stderr",
     "output_type": "stream",
     "text": [
      "100%|█| 502903/502903 [00:00<00:00, 4965788.86\n"
     ]
    },
    {
     "name": "stdout",
     "output_type": "stream",
     "text": [
      "File: results/daily/Modis/sst/A20130607_SST_NW_day.nc "
     ]
    },
    {
     "name": "stderr",
     "output_type": "stream",
     "text": [
      "100%|█| 316596/316596 [00:00<00:00, 3139614.30\n"
     ]
    },
    {
     "name": "stdout",
     "output_type": "stream",
     "text": [
      "File: results/daily/Modis/sst/A20130608_SST_NW_day.nc "
     ]
    },
    {
     "name": "stderr",
     "output_type": "stream",
     "text": [
      "100%|█| 254733/254733 [00:00<00:00, 2429647.21\n"
     ]
    },
    {
     "name": "stdout",
     "output_type": "stream",
     "text": [
      "File: results/daily/Modis/sst/A20130609_SST_NW_day.nc "
     ]
    },
    {
     "name": "stderr",
     "output_type": "stream",
     "text": [
      "100%|█| 404896/404896 [00:00<00:00, 3993117.53\n"
     ]
    },
    {
     "name": "stdout",
     "output_type": "stream",
     "text": [
      "File: results/daily/Modis/sst/A20130610_SST_NW_day.nc "
     ]
    },
    {
     "name": "stderr",
     "output_type": "stream",
     "text": [
      "100%|█| 487130/487130 [00:00<00:00, 4822155.29\n"
     ]
    },
    {
     "name": "stdout",
     "output_type": "stream",
     "text": [
      "File: results/daily/Modis/sst/A20130611_SST_NW_day.nc "
     ]
    },
    {
     "name": "stderr",
     "output_type": "stream",
     "text": [
      "100%|█| 307788/307788 [00:00<00:00, 3055416.96\n"
     ]
    },
    {
     "name": "stdout",
     "output_type": "stream",
     "text": [
      "File: results/daily/Modis/sst/A20130612_SST_NW_day.nc "
     ]
    },
    {
     "name": "stderr",
     "output_type": "stream",
     "text": [
      "100%|█| 735245/735245 [00:00<00:00, 7083639.13\n"
     ]
    },
    {
     "name": "stdout",
     "output_type": "stream",
     "text": [
      "File: results/daily/Modis/sst/A20130613_SST_NW_day.nc "
     ]
    },
    {
     "name": "stderr",
     "output_type": "stream",
     "text": [
      "100%|█| 569699/569699 [00:00<00:00, 5000755.08\n"
     ]
    },
    {
     "name": "stdout",
     "output_type": "stream",
     "text": [
      "File: results/daily/Modis/sst/A20130614_SST_NW_day.nc "
     ]
    },
    {
     "name": "stderr",
     "output_type": "stream",
     "text": [
      "100%|█| 369629/369629 [00:00<00:00, 3557204.40\n"
     ]
    },
    {
     "name": "stdout",
     "output_type": "stream",
     "text": [
      "File: results/daily/Modis/sst/A20130615_SST_NW_day.nc "
     ]
    },
    {
     "name": "stderr",
     "output_type": "stream",
     "text": [
      "100%|█| 365547/365547 [00:00<00:00, 3172696.80\n"
     ]
    },
    {
     "name": "stdout",
     "output_type": "stream",
     "text": [
      "File: results/daily/Modis/sst/A20130616_SST_NW_day.nc "
     ]
    },
    {
     "name": "stderr",
     "output_type": "stream",
     "text": [
      "100%|█| 333690/333690 [00:00<00:00, 3300135.35\n"
     ]
    },
    {
     "name": "stdout",
     "output_type": "stream",
     "text": [
      "File: results/daily/Modis/sst/A20130617_SST_NW_day.nc "
     ]
    },
    {
     "name": "stderr",
     "output_type": "stream",
     "text": [
      "100%|█| 460813/460813 [00:00<00:00, 4553440.56\n"
     ]
    },
    {
     "name": "stdout",
     "output_type": "stream",
     "text": [
      "File: results/daily/Modis/sst/A20130618_SST_NW_day.nc "
     ]
    },
    {
     "name": "stderr",
     "output_type": "stream",
     "text": [
      "100%|█| 313748/313748 [00:00<00:00, 2754362.43\n"
     ]
    },
    {
     "name": "stdout",
     "output_type": "stream",
     "text": [
      "File: results/daily/Modis/sst/A20130619_SST_NW_day.nc "
     ]
    },
    {
     "name": "stderr",
     "output_type": "stream",
     "text": [
      "100%|█| 327600/327600 [00:00<00:00, 2966392.97\n"
     ]
    },
    {
     "name": "stdout",
     "output_type": "stream",
     "text": [
      "File: results/daily/Modis/sst/A20130620_SST_NW_day.nc "
     ]
    },
    {
     "name": "stderr",
     "output_type": "stream",
     "text": [
      "100%|█| 264191/264191 [00:00<00:00, 2413314.24\n"
     ]
    },
    {
     "name": "stdout",
     "output_type": "stream",
     "text": [
      "File: results/daily/Modis/sst/A20130621_SST_NW_day.nc "
     ]
    },
    {
     "name": "stderr",
     "output_type": "stream",
     "text": [
      "100%|█| 172727/172727 [00:00<00:00, 1509707.85\n"
     ]
    },
    {
     "name": "stdout",
     "output_type": "stream",
     "text": [
      "File: results/daily/Modis/sst/A20130622_SST_NW_day.nc "
     ]
    },
    {
     "name": "stderr",
     "output_type": "stream",
     "text": [
      "100%|█| 263924/263924 [00:00<00:00, 2584596.45\n"
     ]
    },
    {
     "name": "stdout",
     "output_type": "stream",
     "text": [
      "File: results/daily/Modis/sst/A20130623_SST_NW_day.nc "
     ]
    },
    {
     "name": "stderr",
     "output_type": "stream",
     "text": [
      "100%|█| 522551/522551 [00:00<00:00, 4923250.88\n"
     ]
    },
    {
     "name": "stdout",
     "output_type": "stream",
     "text": [
      "File: results/daily/Modis/sst/A20130624_SST_NW_day.nc "
     ]
    },
    {
     "name": "stderr",
     "output_type": "stream",
     "text": [
      "100%|█| 488908/488908 [00:00<00:00, 4581192.44\n"
     ]
    },
    {
     "name": "stdout",
     "output_type": "stream",
     "text": [
      "File: results/daily/Modis/sst/A20130625_SST_NW_day.nc "
     ]
    },
    {
     "name": "stderr",
     "output_type": "stream",
     "text": [
      "100%|█| 283783/283783 [00:00<00:00, 2489291.53\n"
     ]
    },
    {
     "name": "stdout",
     "output_type": "stream",
     "text": [
      "File: results/daily/Modis/sst/A20130626_SST_NW_day.nc "
     ]
    },
    {
     "name": "stderr",
     "output_type": "stream",
     "text": [
      "100%|█| 361044/361044 [00:00<00:00, 3458673.46\n"
     ]
    },
    {
     "name": "stdout",
     "output_type": "stream",
     "text": [
      "File: results/daily/Modis/sst/A20130627_SST_NW_day.nc "
     ]
    },
    {
     "name": "stderr",
     "output_type": "stream",
     "text": [
      "100%|█| 292358/292358 [00:00<00:00, 2669205.46\n"
     ]
    },
    {
     "name": "stdout",
     "output_type": "stream",
     "text": [
      "File: results/daily/Modis/sst/A20130628_SST_NW_day.nc "
     ]
    },
    {
     "name": "stderr",
     "output_type": "stream",
     "text": [
      "100%|█| 753258/753258 [00:00<00:00, 6670987.54\n"
     ]
    },
    {
     "name": "stdout",
     "output_type": "stream",
     "text": [
      "File: results/daily/Modis/sst/A20130629_SST_NW_day.nc "
     ]
    },
    {
     "name": "stderr",
     "output_type": "stream",
     "text": [
      "100%|█| 955708/955708 [00:00<00:00, 8996449.22\n"
     ]
    },
    {
     "name": "stdout",
     "output_type": "stream",
     "text": [
      "File: results/daily/Modis/sst/A20130701_SST_NW_day.nc "
     ]
    },
    {
     "name": "stderr",
     "output_type": "stream",
     "text": [
      "100%|█| 541239/541239 [00:00<00:00, 5336049.57\n"
     ]
    },
    {
     "name": "stdout",
     "output_type": "stream",
     "text": [
      "File: results/daily/Modis/sst/A20130702_SST_NW_day.nc "
     ]
    },
    {
     "name": "stderr",
     "output_type": "stream",
     "text": [
      "100%|█| 249625/249625 [00:00<00:00, 2335475.78\n"
     ]
    },
    {
     "name": "stdout",
     "output_type": "stream",
     "text": [
      "File: results/daily/Modis/sst/A20130703_SST_NW_day.nc "
     ]
    },
    {
     "name": "stderr",
     "output_type": "stream",
     "text": [
      "100%|█| 301661/301661 [00:00<00:00, 2849680.04\n"
     ]
    },
    {
     "name": "stdout",
     "output_type": "stream",
     "text": [
      "File: results/daily/Modis/sst/A20130704_SST_NW_day.nc "
     ]
    },
    {
     "name": "stderr",
     "output_type": "stream",
     "text": [
      "100%|█| 186826/186826 [00:00<00:00, 1839746.44\n"
     ]
    },
    {
     "name": "stdout",
     "output_type": "stream",
     "text": [
      "File: results/daily/Modis/sst/A20130705_SST_NW_day.nc "
     ]
    },
    {
     "name": "stderr",
     "output_type": "stream",
     "text": [
      "100%|█| 662853/662853 [00:00<00:00, 6151050.11\n"
     ]
    },
    {
     "name": "stdout",
     "output_type": "stream",
     "text": [
      "File: results/daily/Modis/sst/A20130706_SST_NW_day.nc "
     ]
    },
    {
     "name": "stderr",
     "output_type": "stream",
     "text": [
      "100%|█| 804162/804162 [00:00<00:00, 7484605.16\n"
     ]
    },
    {
     "name": "stdout",
     "output_type": "stream",
     "text": [
      "File: results/daily/Modis/sst/A20130707_SST_NW_day.nc "
     ]
    },
    {
     "name": "stderr",
     "output_type": "stream",
     "text": [
      "100%|█| 1070949/1070949 [00:00<00:00, 5014406.\n"
     ]
    },
    {
     "name": "stdout",
     "output_type": "stream",
     "text": [
      "File: results/daily/Modis/sst/A20130708_SST_NW_day.nc "
     ]
    },
    {
     "name": "stderr",
     "output_type": "stream",
     "text": [
      "100%|█| 977791/977791 [00:00<00:00, 9373827.64\n"
     ]
    },
    {
     "name": "stdout",
     "output_type": "stream",
     "text": [
      "File: results/daily/Modis/sst/A20130709_SST_NW_day.nc "
     ]
    },
    {
     "name": "stderr",
     "output_type": "stream",
     "text": [
      "100%|█| 1154528/1154528 [00:00<00:00, 5432003.\n"
     ]
    },
    {
     "name": "stdout",
     "output_type": "stream",
     "text": [
      "File: results/daily/Modis/sst/A20130710_SST_NW_day.nc "
     ]
    },
    {
     "name": "stderr",
     "output_type": "stream",
     "text": [
      "100%|█| 1024611/1024611 [00:00<00:00, 8943424.\n"
     ]
    },
    {
     "name": "stdout",
     "output_type": "stream",
     "text": [
      "File: results/daily/Modis/sst/A20130711_SST_NW_day.nc "
     ]
    },
    {
     "name": "stderr",
     "output_type": "stream",
     "text": [
      "100%|█| 942225/942225 [00:00<00:00, 8899448.48\n"
     ]
    },
    {
     "name": "stdout",
     "output_type": "stream",
     "text": [
      "File: results/daily/Modis/sst/A20130712_SST_NW_day.nc "
     ]
    },
    {
     "name": "stderr",
     "output_type": "stream",
     "text": [
      "100%|█| 926824/926824 [00:00<00:00, 9181193.53\n"
     ]
    },
    {
     "name": "stdout",
     "output_type": "stream",
     "text": [
      "File: results/daily/Modis/sst/A20130713_SST_NW_day.nc "
     ]
    },
    {
     "name": "stderr",
     "output_type": "stream",
     "text": [
      "100%|█| 648810/648810 [00:00<00:00, 6329561.56\n"
     ]
    },
    {
     "name": "stdout",
     "output_type": "stream",
     "text": [
      "File: results/daily/Modis/sst/A20130714_SST_NW_day.nc "
     ]
    },
    {
     "name": "stderr",
     "output_type": "stream",
     "text": [
      "100%|█| 767266/767266 [00:00<00:00, 6705841.72\n"
     ]
    },
    {
     "name": "stdout",
     "output_type": "stream",
     "text": [
      "File: results/daily/Modis/sst/A20130715_SST_NW_day.nc "
     ]
    },
    {
     "name": "stderr",
     "output_type": "stream",
     "text": [
      "100%|█| 995318/995318 [00:00<00:00, 8950617.09\n"
     ]
    },
    {
     "name": "stdout",
     "output_type": "stream",
     "text": [
      "File: results/daily/Modis/sst/A20130716_SST_NW_day.nc "
     ]
    },
    {
     "name": "stderr",
     "output_type": "stream",
     "text": [
      "100%|█| 756395/756395 [00:00<00:00, 6816869.41\n"
     ]
    },
    {
     "name": "stdout",
     "output_type": "stream",
     "text": [
      "File: results/daily/Modis/sst/A20130717_SST_NW_day.nc "
     ]
    },
    {
     "name": "stderr",
     "output_type": "stream",
     "text": [
      "100%|█| 807846/807846 [00:00<00:00, 7580120.38\n"
     ]
    },
    {
     "name": "stdout",
     "output_type": "stream",
     "text": [
      "File: results/daily/Modis/sst/A20130718_SST_NW_day.nc "
     ]
    },
    {
     "name": "stderr",
     "output_type": "stream",
     "text": [
      "100%|█| 952300/952300 [00:00<00:00, 8842556.22\n"
     ]
    },
    {
     "name": "stdout",
     "output_type": "stream",
     "text": [
      "File: results/daily/Modis/sst/A20130719_SST_NW_day.nc "
     ]
    },
    {
     "name": "stderr",
     "output_type": "stream",
     "text": [
      "100%|█| 797993/797993 [00:00<00:00, 7026694.17\n"
     ]
    },
    {
     "name": "stdout",
     "output_type": "stream",
     "text": [
      "File: results/daily/Modis/sst/A20130720_SST_NW_day.nc "
     ]
    },
    {
     "name": "stderr",
     "output_type": "stream",
     "text": [
      "100%|█| 646286/646286 [00:00<00:00, 6387001.20\n"
     ]
    },
    {
     "name": "stdout",
     "output_type": "stream",
     "text": [
      "File: results/daily/Modis/sst/A20130721_SST_NW_day.nc "
     ]
    },
    {
     "name": "stderr",
     "output_type": "stream",
     "text": [
      "100%|█| 814898/814898 [00:00<00:00, 7502123.47\n"
     ]
    },
    {
     "name": "stdout",
     "output_type": "stream",
     "text": [
      "File: results/daily/Modis/sst/A20130722_SST_NW_day.nc "
     ]
    },
    {
     "name": "stderr",
     "output_type": "stream",
     "text": [
      "100%|█| 543436/543436 [00:00<00:00, 5114517.32\n"
     ]
    },
    {
     "name": "stdout",
     "output_type": "stream",
     "text": [
      "File: results/daily/Modis/sst/A20130723_SST_NW_day.nc "
     ]
    },
    {
     "name": "stderr",
     "output_type": "stream",
     "text": [
      "100%|█| 426275/426275 [00:00<00:00, 4069852.58\n"
     ]
    },
    {
     "name": "stdout",
     "output_type": "stream",
     "text": [
      "File: results/daily/Modis/sst/A20130724_SST_NW_day.nc "
     ]
    },
    {
     "name": "stderr",
     "output_type": "stream",
     "text": [
      "100%|█| 919964/919964 [00:00<00:00, 9038184.13\n"
     ]
    },
    {
     "name": "stdout",
     "output_type": "stream",
     "text": [
      "File: results/daily/Modis/sst/A20130725_SST_NW_day.nc "
     ]
    },
    {
     "name": "stderr",
     "output_type": "stream",
     "text": [
      "100%|█| 763545/763545 [00:00<00:00, 6844013.67\n"
     ]
    },
    {
     "name": "stdout",
     "output_type": "stream",
     "text": [
      "File: results/daily/Modis/sst/A20130726_SST_NW_day.nc "
     ]
    },
    {
     "name": "stderr",
     "output_type": "stream",
     "text": [
      "100%|█| 586261/586261 [00:00<00:00, 5612467.83\n"
     ]
    },
    {
     "name": "stdout",
     "output_type": "stream",
     "text": [
      "File: results/daily/Modis/sst/A20130727_SST_NW_day.nc "
     ]
    },
    {
     "name": "stderr",
     "output_type": "stream",
     "text": [
      "100%|█| 547362/547362 [00:00<00:00, 5077131.32\n"
     ]
    },
    {
     "name": "stdout",
     "output_type": "stream",
     "text": [
      "File: results/daily/Modis/sst/A20130728_SST_NW_day.nc "
     ]
    },
    {
     "name": "stderr",
     "output_type": "stream",
     "text": [
      "100%|█| 356055/356055 [00:00<00:00, 3360227.95\n"
     ]
    },
    {
     "name": "stdout",
     "output_type": "stream",
     "text": [
      "File: results/daily/Modis/sst/A20130729_SST_NW_day.nc "
     ]
    },
    {
     "name": "stderr",
     "output_type": "stream",
     "text": [
      "100%|█| 272473/272473 [00:00<00:00, 2623400.52\n"
     ]
    },
    {
     "name": "stdout",
     "output_type": "stream",
     "text": [
      "File: results/daily/Modis/sst/A20130801_SST_NW_day.nc "
     ]
    },
    {
     "name": "stderr",
     "output_type": "stream",
     "text": [
      "100%|█| 840986/840986 [00:00<00:00, 8260678.31\n"
     ]
    },
    {
     "name": "stdout",
     "output_type": "stream",
     "text": [
      "File: results/daily/Modis/sst/A20130802_SST_NW_day.nc "
     ]
    },
    {
     "name": "stderr",
     "output_type": "stream",
     "text": [
      "100%|█| 1060756/1060756 [00:00<00:00, 4931202.\n"
     ]
    },
    {
     "name": "stdout",
     "output_type": "stream",
     "text": [
      "File: results/daily/Modis/sst/A20130803_SST_NW_day.nc "
     ]
    },
    {
     "name": "stderr",
     "output_type": "stream",
     "text": [
      "100%|█| 883754/883754 [00:00<00:00, 8459944.03\n"
     ]
    },
    {
     "name": "stdout",
     "output_type": "stream",
     "text": [
      "File: results/daily/Modis/sst/A20130804_SST_NW_day.nc "
     ]
    },
    {
     "name": "stderr",
     "output_type": "stream",
     "text": [
      "100%|█| 578133/578133 [00:00<00:00, 5324565.18\n"
     ]
    },
    {
     "name": "stdout",
     "output_type": "stream",
     "text": [
      "File: results/daily/Modis/sst/A20130805_SST_NW_day.nc "
     ]
    },
    {
     "name": "stderr",
     "output_type": "stream",
     "text": [
      "100%|█| 998863/998863 [00:00<00:00, 9823750.97\n"
     ]
    },
    {
     "name": "stdout",
     "output_type": "stream",
     "text": [
      "File: results/daily/Modis/sst/A20130806_SST_NW_day.nc "
     ]
    },
    {
     "name": "stderr",
     "output_type": "stream",
     "text": [
      "100%|█| 1304351/1304351 [00:00<00:00, 6372658.\n"
     ]
    },
    {
     "name": "stdout",
     "output_type": "stream",
     "text": [
      "File: results/daily/Modis/sst/A20130807_SST_NW_day.nc "
     ]
    },
    {
     "name": "stderr",
     "output_type": "stream",
     "text": [
      "100%|█| 971028/971028 [00:00<00:00, 8965682.12\n"
     ]
    },
    {
     "name": "stdout",
     "output_type": "stream",
     "text": [
      "File: results/daily/Modis/sst/A20130808_SST_NW_day.nc "
     ]
    },
    {
     "name": "stderr",
     "output_type": "stream",
     "text": [
      "100%|█| 966935/966935 [00:00<00:00, 9450860.32\n"
     ]
    },
    {
     "name": "stdout",
     "output_type": "stream",
     "text": [
      "File: results/daily/Modis/sst/A20130809_SST_NW_day.nc "
     ]
    },
    {
     "name": "stderr",
     "output_type": "stream",
     "text": [
      "100%|█| 1166866/1166866 [00:00<00:00, 5384171.\n"
     ]
    },
    {
     "name": "stdout",
     "output_type": "stream",
     "text": [
      "File: results/daily/Modis/sst/A20130810_SST_NW_day.nc "
     ]
    },
    {
     "name": "stderr",
     "output_type": "stream",
     "text": [
      "100%|█| 1456460/1456460 [00:00<00:00, 7173784.\n"
     ]
    },
    {
     "name": "stdout",
     "output_type": "stream",
     "text": [
      "File: results/daily/Modis/sst/A20130811_SST_NW_day.nc "
     ]
    },
    {
     "name": "stderr",
     "output_type": "stream",
     "text": [
      "100%|█| 1865203/1865203 [00:00<00:00, 9126459.\n"
     ]
    },
    {
     "name": "stdout",
     "output_type": "stream",
     "text": [
      "File: results/daily/Modis/sst/A20130812_SST_NW_day.nc "
     ]
    },
    {
     "name": "stderr",
     "output_type": "stream",
     "text": [
      "100%|█| 1570016/1570016 [00:00<00:00, 7613274.\n"
     ]
    },
    {
     "name": "stdout",
     "output_type": "stream",
     "text": [
      "File: results/daily/Modis/sst/A20130813_SST_NW_day.nc "
     ]
    },
    {
     "name": "stderr",
     "output_type": "stream",
     "text": [
      "100%|█| 1857762/1857762 [00:00<00:00, 8550499.\n"
     ]
    },
    {
     "name": "stdout",
     "output_type": "stream",
     "text": [
      "File: results/daily/Modis/sst/A20130814_SST_NW_day.nc "
     ]
    },
    {
     "name": "stderr",
     "output_type": "stream",
     "text": [
      "100%|█| 1742531/1742531 [00:00<00:00, 8350906.\n"
     ]
    },
    {
     "name": "stdout",
     "output_type": "stream",
     "text": [
      "File: results/daily/Modis/sst/A20130815_SST_NW_day.nc "
     ]
    },
    {
     "name": "stderr",
     "output_type": "stream",
     "text": [
      "100%|█| 1380990/1380990 [00:00<00:00, 6735136.\n"
     ]
    },
    {
     "name": "stdout",
     "output_type": "stream",
     "text": [
      "File: results/daily/Modis/sst/A20130816_SST_NW_day.nc "
     ]
    },
    {
     "name": "stderr",
     "output_type": "stream",
     "text": [
      "100%|█| 670818/670818 [00:00<00:00, 6254784.26\n"
     ]
    },
    {
     "name": "stdout",
     "output_type": "stream",
     "text": [
      "File: results/daily/Modis/sst/A20130817_SST_NW_day.nc "
     ]
    },
    {
     "name": "stderr",
     "output_type": "stream",
     "text": [
      "100%|█| 1093366/1093366 [00:00<00:00, 5128138.\n"
     ]
    },
    {
     "name": "stdout",
     "output_type": "stream",
     "text": [
      "File: results/daily/Modis/sst/A20130818_SST_NW_day.nc "
     ]
    },
    {
     "name": "stderr",
     "output_type": "stream",
     "text": [
      "100%|█| 1477307/1477307 [00:00<00:00, 7260334.\n"
     ]
    },
    {
     "name": "stdout",
     "output_type": "stream",
     "text": [
      "File: results/daily/Modis/sst/A20130819_SST_NW_day.nc "
     ]
    },
    {
     "name": "stderr",
     "output_type": "stream",
     "text": [
      "100%|█| 1165863/1165863 [00:00<00:00, 5595881.\n"
     ]
    },
    {
     "name": "stdout",
     "output_type": "stream",
     "text": [
      "File: results/daily/Modis/sst/A20130820_SST_NW_day.nc "
     ]
    },
    {
     "name": "stderr",
     "output_type": "stream",
     "text": [
      "100%|█| 1455241/1455241 [00:00<00:00, 7005884.\n"
     ]
    },
    {
     "name": "stdout",
     "output_type": "stream",
     "text": [
      "File: results/daily/Modis/sst/A20130821_SST_NW_day.nc "
     ]
    },
    {
     "name": "stderr",
     "output_type": "stream",
     "text": [
      "100%|█| 796405/796405 [00:00<00:00, 7125032.11\n"
     ]
    },
    {
     "name": "stdout",
     "output_type": "stream",
     "text": [
      "File: results/daily/Modis/sst/A20130822_SST_NW_day.nc "
     ]
    },
    {
     "name": "stderr",
     "output_type": "stream",
     "text": [
      "100%|█| 542407/542407 [00:00<00:00, 5220965.03\n"
     ]
    },
    {
     "name": "stdout",
     "output_type": "stream",
     "text": [
      "File: results/daily/Modis/sst/A20130823_SST_NW_day.nc "
     ]
    },
    {
     "name": "stderr",
     "output_type": "stream",
     "text": [
      "100%|█| 862999/862999 [00:00<00:00, 8465741.49\n"
     ]
    },
    {
     "name": "stdout",
     "output_type": "stream",
     "text": [
      "File: results/daily/Modis/sst/A20130824_SST_NW_day.nc "
     ]
    },
    {
     "name": "stderr",
     "output_type": "stream",
     "text": [
      "100%|█| 880868/880868 [00:00<00:00, 7763879.04\n"
     ]
    },
    {
     "name": "stdout",
     "output_type": "stream",
     "text": [
      "File: results/daily/Modis/sst/A20130825_SST_NW_day.nc "
     ]
    },
    {
     "name": "stderr",
     "output_type": "stream",
     "text": [
      "100%|█| 839394/839394 [00:00<00:00, 7497941.89\n"
     ]
    },
    {
     "name": "stdout",
     "output_type": "stream",
     "text": [
      "File: results/daily/Modis/sst/A20130826_SST_NW_day.nc "
     ]
    },
    {
     "name": "stderr",
     "output_type": "stream",
     "text": [
      "100%|█| 1061331/1061331 [00:00<00:00, 5037296.\n"
     ]
    },
    {
     "name": "stdout",
     "output_type": "stream",
     "text": [
      "File: results/daily/Modis/sst/A20130827_SST_NW_day.nc "
     ]
    },
    {
     "name": "stderr",
     "output_type": "stream",
     "text": [
      "100%|█| 1134021/1134021 [00:00<00:00, 5407638.\n"
     ]
    },
    {
     "name": "stdout",
     "output_type": "stream",
     "text": [
      "File: results/daily/Modis/sst/A20130828_SST_NW_day.nc "
     ]
    },
    {
     "name": "stderr",
     "output_type": "stream",
     "text": [
      "100%|█| 988697/988697 [00:00<00:00, 9805066.00\n"
     ]
    },
    {
     "name": "stdout",
     "output_type": "stream",
     "text": [
      "File: results/daily/Modis/sst/A20130829_SST_NW_day.nc "
     ]
    },
    {
     "name": "stderr",
     "output_type": "stream",
     "text": [
      "100%|█| 715173/715173 [00:00<00:00, 6790063.12\n"
     ]
    },
    {
     "name": "stdout",
     "output_type": "stream",
     "text": [
      "File: results/daily/Modis/sst/A20130901_SST_NW_day.nc "
     ]
    },
    {
     "name": "stderr",
     "output_type": "stream",
     "text": [
      "100%|█| 915120/915120 [00:00<00:00, 8742185.42\n"
     ]
    },
    {
     "name": "stdout",
     "output_type": "stream",
     "text": [
      "File: results/daily/Modis/sst/A20130902_SST_NW_day.nc "
     ]
    },
    {
     "name": "stderr",
     "output_type": "stream",
     "text": [
      "100%|█| 981600/981600 [00:00<00:00, 9690075.12\n"
     ]
    },
    {
     "name": "stdout",
     "output_type": "stream",
     "text": [
      "File: results/daily/Modis/sst/A20130903_SST_NW_day.nc "
     ]
    },
    {
     "name": "stderr",
     "output_type": "stream",
     "text": [
      "100%|█| 735423/735423 [00:00<00:00, 7117775.43\n"
     ]
    },
    {
     "name": "stdout",
     "output_type": "stream",
     "text": [
      "File: results/daily/Modis/sst/A20130904_SST_NW_day.nc "
     ]
    },
    {
     "name": "stderr",
     "output_type": "stream",
     "text": [
      "100%|█| 712456/712456 [00:00<00:00, 6693284.56\n"
     ]
    },
    {
     "name": "stdout",
     "output_type": "stream",
     "text": [
      "File: results/daily/Modis/sst/A20130905_SST_NW_day.nc "
     ]
    },
    {
     "name": "stderr",
     "output_type": "stream",
     "text": [
      "100%|█| 689463/689463 [00:00<00:00, 5936780.01\n"
     ]
    },
    {
     "name": "stdout",
     "output_type": "stream",
     "text": [
      "File: results/daily/Modis/sst/A20130906_SST_NW_day.nc "
     ]
    },
    {
     "name": "stderr",
     "output_type": "stream",
     "text": [
      "100%|█| 708441/708441 [00:00<00:00, 6960696.49\n"
     ]
    },
    {
     "name": "stdout",
     "output_type": "stream",
     "text": [
      "File: results/daily/Modis/sst/A20130907_SST_NW_day.nc "
     ]
    },
    {
     "name": "stderr",
     "output_type": "stream",
     "text": [
      "100%|█| 1125431/1125431 [00:00<00:00, 5546012.\n"
     ]
    },
    {
     "name": "stdout",
     "output_type": "stream",
     "text": [
      "File: results/daily/Modis/sst/A20130908_SST_NW_day.nc "
     ]
    },
    {
     "name": "stderr",
     "output_type": "stream",
     "text": [
      "100%|█| 1054382/1054382 [00:00<00:00, 5069285.\n"
     ]
    },
    {
     "name": "stdout",
     "output_type": "stream",
     "text": [
      "File: results/daily/Modis/sst/A20130909_SST_NW_day.nc "
     ]
    },
    {
     "name": "stderr",
     "output_type": "stream",
     "text": [
      "100%|█| 976038/976038 [00:00<00:00, 8640245.35\n"
     ]
    },
    {
     "name": "stdout",
     "output_type": "stream",
     "text": [
      "File: results/daily/Modis/sst/A20130910_SST_NW_day.nc "
     ]
    },
    {
     "name": "stderr",
     "output_type": "stream",
     "text": [
      "100%|█| 1017894/1017894 [00:00<00:00, 8896847.\n"
     ]
    },
    {
     "name": "stdout",
     "output_type": "stream",
     "text": [
      "File: results/daily/Modis/sst/A20130911_SST_NW_day.nc "
     ]
    },
    {
     "name": "stderr",
     "output_type": "stream",
     "text": [
      "100%|█| 845095/845095 [00:00<00:00, 8374071.45\n"
     ]
    },
    {
     "name": "stdout",
     "output_type": "stream",
     "text": [
      "File: results/daily/Modis/sst/A20130912_SST_NW_day.nc "
     ]
    },
    {
     "name": "stderr",
     "output_type": "stream",
     "text": [
      "100%|█| 1178704/1178704 [00:00<00:00, 5467298.\n"
     ]
    },
    {
     "name": "stdout",
     "output_type": "stream",
     "text": [
      "File: results/daily/Modis/sst/A20130913_SST_NW_day.nc "
     ]
    },
    {
     "name": "stderr",
     "output_type": "stream",
     "text": [
      "100%|█| 652305/652305 [00:00<00:00, 6288751.75\n"
     ]
    },
    {
     "name": "stdout",
     "output_type": "stream",
     "text": [
      "File: results/daily/Modis/sst/A20130914_SST_NW_day.nc "
     ]
    },
    {
     "name": "stderr",
     "output_type": "stream",
     "text": [
      "100%|█| 819588/819588 [00:00<00:00, 7856476.35\n"
     ]
    },
    {
     "name": "stdout",
     "output_type": "stream",
     "text": [
      "File: results/daily/Modis/sst/A20130915_SST_NW_day.nc "
     ]
    },
    {
     "name": "stderr",
     "output_type": "stream",
     "text": [
      "100%|█| 1353817/1353817 [00:00<00:00, 6416797.\n"
     ]
    },
    {
     "name": "stdout",
     "output_type": "stream",
     "text": [
      "File: results/daily/Modis/sst/A20130916_SST_NW_day.nc "
     ]
    },
    {
     "name": "stderr",
     "output_type": "stream",
     "text": [
      "100%|█| 2179250/2179250 [00:00<00:00, 7015972.\n"
     ]
    },
    {
     "name": "stdout",
     "output_type": "stream",
     "text": [
      "File: results/daily/Modis/sst/A20130917_SST_NW_day.nc "
     ]
    },
    {
     "name": "stderr",
     "output_type": "stream",
     "text": [
      "100%|█| 1763181/1763181 [00:00<00:00, 8676385.\n"
     ]
    },
    {
     "name": "stdout",
     "output_type": "stream",
     "text": [
      "File: results/daily/Modis/sst/A20130918_SST_NW_day.nc "
     ]
    },
    {
     "name": "stderr",
     "output_type": "stream",
     "text": [
      "100%|█| 1746458/1746458 [00:00<00:00, 8369840.\n"
     ]
    },
    {
     "name": "stdout",
     "output_type": "stream",
     "text": [
      "File: results/daily/Modis/sst/A20130919_SST_NW_day.nc "
     ]
    },
    {
     "name": "stderr",
     "output_type": "stream",
     "text": [
      "100%|█| 1400492/1400492 [00:00<00:00, 6623207.\n"
     ]
    },
    {
     "name": "stdout",
     "output_type": "stream",
     "text": [
      "File: results/daily/Modis/sst/A20130920_SST_NW_day.nc "
     ]
    },
    {
     "name": "stderr",
     "output_type": "stream",
     "text": [
      "100%|█| 1299165/1299165 [00:00<00:00, 6420948.\n"
     ]
    },
    {
     "name": "stdout",
     "output_type": "stream",
     "text": [
      "File: results/daily/Modis/sst/A20130921_SST_NW_day.nc "
     ]
    },
    {
     "name": "stderr",
     "output_type": "stream",
     "text": [
      "100%|█| 1280540/1280540 [00:00<00:00, 5957858.\n"
     ]
    },
    {
     "name": "stdout",
     "output_type": "stream",
     "text": [
      "File: results/daily/Modis/sst/A20130922_SST_NW_day.nc "
     ]
    },
    {
     "name": "stderr",
     "output_type": "stream",
     "text": [
      "100%|█| 1187383/1187383 [00:00<00:00, 5522052.\n"
     ]
    },
    {
     "name": "stdout",
     "output_type": "stream",
     "text": [
      "File: results/daily/Modis/sst/A20130923_SST_NW_day.nc "
     ]
    },
    {
     "name": "stderr",
     "output_type": "stream",
     "text": [
      "100%|█| 1002559/1002559 [00:00<00:00, 9134772.\n"
     ]
    },
    {
     "name": "stdout",
     "output_type": "stream",
     "text": [
      "File: results/daily/Modis/sst/A20130924_SST_NW_day.nc "
     ]
    },
    {
     "name": "stderr",
     "output_type": "stream",
     "text": [
      "100%|█| 591409/591409 [00:00<00:00, 5208906.80\n"
     ]
    },
    {
     "name": "stdout",
     "output_type": "stream",
     "text": [
      "File: results/daily/Modis/sst/A20130925_SST_NW_day.nc "
     ]
    },
    {
     "name": "stderr",
     "output_type": "stream",
     "text": [
      "100%|█| 1193634/1193634 [00:00<00:00, 5882192.\n"
     ]
    },
    {
     "name": "stdout",
     "output_type": "stream",
     "text": [
      "File: results/daily/Modis/sst/A20130926_SST_NW_day.nc "
     ]
    },
    {
     "name": "stderr",
     "output_type": "stream",
     "text": [
      "100%|█| 1442749/1442749 [00:00<00:00, 7070365.\n"
     ]
    },
    {
     "name": "stdout",
     "output_type": "stream",
     "text": [
      "File: results/daily/Modis/sst/A20130927_SST_NW_day.nc "
     ]
    },
    {
     "name": "stderr",
     "output_type": "stream",
     "text": [
      "100%|█| 909311/909311 [00:00<00:00, 8960220.38\n"
     ]
    },
    {
     "name": "stdout",
     "output_type": "stream",
     "text": [
      "File: results/daily/Modis/sst/A20130928_SST_NW_day.nc "
     ]
    },
    {
     "name": "stderr",
     "output_type": "stream",
     "text": [
      "100%|█| 353304/353304 [00:00<00:00, 3471880.07\n"
     ]
    },
    {
     "name": "stdout",
     "output_type": "stream",
     "text": [
      "File: results/daily/Modis/sst/A20130929_SST_NW_day.nc "
     ]
    },
    {
     "name": "stderr",
     "output_type": "stream",
     "text": [
      "100%|█| 594849/594849 [00:00<00:00, 5629220.63\n"
     ]
    },
    {
     "name": "stdout",
     "output_type": "stream",
     "text": [
      "File: results/daily/Modis/sst/A20131001_SST_NW_day.nc "
     ]
    },
    {
     "name": "stderr",
     "output_type": "stream",
     "text": [
      "100%|█| 614888/614888 [00:00<00:00, 6085869.55\n"
     ]
    },
    {
     "name": "stdout",
     "output_type": "stream",
     "text": [
      "File: results/daily/Modis/sst/A20131002_SST_NW_day.nc "
     ]
    },
    {
     "name": "stderr",
     "output_type": "stream",
     "text": [
      "100%|█| 1304473/1304473 [00:00<00:00, 6331415.\n"
     ]
    },
    {
     "name": "stdout",
     "output_type": "stream",
     "text": [
      "File: results/daily/Modis/sst/A20131003_SST_NW_day.nc "
     ]
    },
    {
     "name": "stderr",
     "output_type": "stream",
     "text": [
      "100%|█| 1235076/1235076 [00:00<00:00, 6046104.\n"
     ]
    },
    {
     "name": "stdout",
     "output_type": "stream",
     "text": [
      "File: results/daily/Modis/sst/A20131004_SST_NW_day.nc "
     ]
    },
    {
     "name": "stderr",
     "output_type": "stream",
     "text": [
      "100%|█| 1227064/1227064 [00:00<00:00, 5947030.\n"
     ]
    },
    {
     "name": "stdout",
     "output_type": "stream",
     "text": [
      "File: results/daily/Modis/sst/A20131005_SST_NW_day.nc "
     ]
    },
    {
     "name": "stderr",
     "output_type": "stream",
     "text": [
      "100%|█| 644427/644427 [00:00<00:00, 6128715.19\n"
     ]
    },
    {
     "name": "stdout",
     "output_type": "stream",
     "text": [
      "File: results/daily/Modis/sst/A20131006_SST_NW_day.nc "
     ]
    },
    {
     "name": "stderr",
     "output_type": "stream",
     "text": [
      "100%|█| 798163/798163 [00:00<00:00, 7780190.72\n"
     ]
    },
    {
     "name": "stdout",
     "output_type": "stream",
     "text": [
      "File: results/daily/Modis/sst/A20131007_SST_NW_day.nc "
     ]
    },
    {
     "name": "stderr",
     "output_type": "stream",
     "text": [
      "100%|█| 336818/336818 [00:00<00:00, 2929945.32\n"
     ]
    },
    {
     "name": "stdout",
     "output_type": "stream",
     "text": [
      "File: results/daily/Modis/sst/A20131008_SST_NW_day.nc "
     ]
    },
    {
     "name": "stderr",
     "output_type": "stream",
     "text": [
      "100%|█| 652367/652367 [00:00<00:00, 6287355.13\n"
     ]
    },
    {
     "name": "stdout",
     "output_type": "stream",
     "text": [
      "File: results/daily/Modis/sst/A20131009_SST_NW_day.nc "
     ]
    },
    {
     "name": "stderr",
     "output_type": "stream",
     "text": [
      "100%|█| 1661657/1661657 [00:00<00:00, 8051345.\n"
     ]
    },
    {
     "name": "stdout",
     "output_type": "stream",
     "text": [
      "File: results/daily/Modis/sst/A20131010_SST_NW_day.nc "
     ]
    },
    {
     "name": "stderr",
     "output_type": "stream",
     "text": [
      "100%|█| 1157486/1157486 [00:00<00:00, 5424993.\n"
     ]
    },
    {
     "name": "stdout",
     "output_type": "stream",
     "text": [
      "File: results/daily/Modis/sst/A20131011_SST_NW_day.nc "
     ]
    },
    {
     "name": "stderr",
     "output_type": "stream",
     "text": [
      "100%|█| 1634524/1634524 [00:00<00:00, 7369198.\n"
     ]
    },
    {
     "name": "stdout",
     "output_type": "stream",
     "text": [
      "File: results/daily/Modis/sst/A20131012_SST_NW_day.nc "
     ]
    },
    {
     "name": "stderr",
     "output_type": "stream",
     "text": [
      "100%|█| 1691073/1691073 [00:00<00:00, 7728850.\n"
     ]
    },
    {
     "name": "stdout",
     "output_type": "stream",
     "text": [
      "File: results/daily/Modis/sst/A20131013_SST_NW_day.nc "
     ]
    },
    {
     "name": "stderr",
     "output_type": "stream",
     "text": [
      "100%|█| 1512394/1512394 [00:00<00:00, 7177201.\n"
     ]
    },
    {
     "name": "stdout",
     "output_type": "stream",
     "text": [
      "File: results/daily/Modis/sst/A20131014_SST_NW_day.nc "
     ]
    },
    {
     "name": "stderr",
     "output_type": "stream",
     "text": [
      "100%|█| 835451/835451 [00:00<00:00, 7969142.31\n"
     ]
    },
    {
     "name": "stdout",
     "output_type": "stream",
     "text": [
      "File: results/daily/Modis/sst/A20131015_SST_NW_day.nc "
     ]
    },
    {
     "name": "stderr",
     "output_type": "stream",
     "text": [
      "100%|█| 468237/468237 [00:00<00:00, 4038021.96\n"
     ]
    },
    {
     "name": "stdout",
     "output_type": "stream",
     "text": [
      "File: results/daily/Modis/sst/A20131016_SST_NW_day.nc "
     ]
    },
    {
     "name": "stderr",
     "output_type": "stream",
     "text": [
      "100%|█| 1065077/1065077 [00:00<00:00, 5076947.\n"
     ]
    },
    {
     "name": "stdout",
     "output_type": "stream",
     "text": [
      "File: results/daily/Modis/sst/A20131017_SST_NW_day.nc "
     ]
    },
    {
     "name": "stderr",
     "output_type": "stream",
     "text": [
      "100%|█| 936268/936268 [00:00<00:00, 8110939.81\n"
     ]
    },
    {
     "name": "stdout",
     "output_type": "stream",
     "text": [
      "File: results/daily/Modis/sst/A20131018_SST_NW_day.nc "
     ]
    },
    {
     "name": "stderr",
     "output_type": "stream",
     "text": [
      "100%|█| 798983/798983 [00:00<00:00, 7269192.26\n"
     ]
    },
    {
     "name": "stdout",
     "output_type": "stream",
     "text": [
      "File: results/daily/Modis/sst/A20131019_SST_NW_day.nc "
     ]
    },
    {
     "name": "stderr",
     "output_type": "stream",
     "text": [
      "100%|█| 512079/512079 [00:00<00:00, 4984705.75\n"
     ]
    },
    {
     "name": "stdout",
     "output_type": "stream",
     "text": [
      "File: results/daily/Modis/sst/A20131020_SST_NW_day.nc "
     ]
    },
    {
     "name": "stderr",
     "output_type": "stream",
     "text": [
      "100%|█| 639902/639902 [00:00<00:00, 5521892.62\n"
     ]
    },
    {
     "name": "stdout",
     "output_type": "stream",
     "text": [
      "File: results/daily/Modis/sst/A20131021_SST_NW_day.nc "
     ]
    },
    {
     "name": "stderr",
     "output_type": "stream",
     "text": [
      "100%|█| 799061/799061 [00:00<00:00, 7237764.49\n"
     ]
    },
    {
     "name": "stdout",
     "output_type": "stream",
     "text": [
      "File: results/daily/Modis/sst/A20131022_SST_NW_day.nc "
     ]
    },
    {
     "name": "stderr",
     "output_type": "stream",
     "text": [
      "100%|█| 811489/811489 [00:00<00:00, 7804274.84\n"
     ]
    },
    {
     "name": "stdout",
     "output_type": "stream",
     "text": [
      "File: results/daily/Modis/sst/A20131023_SST_NW_day.nc "
     ]
    },
    {
     "name": "stderr",
     "output_type": "stream",
     "text": [
      "100%|█| 592998/592998 [00:00<00:00, 5708232.47\n"
     ]
    },
    {
     "name": "stdout",
     "output_type": "stream",
     "text": [
      "File: results/daily/Modis/sst/A20131024_SST_NW_day.nc "
     ]
    },
    {
     "name": "stderr",
     "output_type": "stream",
     "text": [
      "100%|█| 393642/393642 [00:00<00:00, 3456496.29\n"
     ]
    },
    {
     "name": "stdout",
     "output_type": "stream",
     "text": [
      "File: results/daily/Modis/sst/A20131025_SST_NW_day.nc "
     ]
    },
    {
     "name": "stderr",
     "output_type": "stream",
     "text": [
      "100%|█| 528425/528425 [00:00<00:00, 5177031.26\n"
     ]
    },
    {
     "name": "stdout",
     "output_type": "stream",
     "text": [
      "File: results/daily/Modis/sst/A20131026_SST_NW_day.nc "
     ]
    },
    {
     "name": "stderr",
     "output_type": "stream",
     "text": [
      "100%|█| 1052150/1052150 [00:00<00:00, 4916046.\n"
     ]
    },
    {
     "name": "stdout",
     "output_type": "stream",
     "text": [
      "File: results/daily/Modis/sst/A20131027_SST_NW_day.nc "
     ]
    },
    {
     "name": "stderr",
     "output_type": "stream",
     "text": [
      "100%|█| 1287049/1287049 [00:00<00:00, 6285834.\n"
     ]
    },
    {
     "name": "stdout",
     "output_type": "stream",
     "text": [
      "File: results/daily/Modis/sst/A20131028_SST_NW_day.nc "
     ]
    },
    {
     "name": "stderr",
     "output_type": "stream",
     "text": [
      "100%|█| 878160/878160 [00:00<00:00, 7910667.34\n"
     ]
    },
    {
     "name": "stdout",
     "output_type": "stream",
     "text": [
      "File: results/daily/Modis/sst/A20131029_SST_NW_day.nc "
     ]
    },
    {
     "name": "stderr",
     "output_type": "stream",
     "text": [
      "100%|█| 947795/947795 [00:00<00:00, 8624121.09\n"
     ]
    },
    {
     "name": "stdout",
     "output_type": "stream",
     "text": [
      "File: results/daily/Modis/sst/A20131101_SST_NW_day.nc "
     ]
    },
    {
     "name": "stderr",
     "output_type": "stream",
     "text": [
      "100%|█| 936547/936547 [00:00<00:00, 8187271.55\n"
     ]
    },
    {
     "name": "stdout",
     "output_type": "stream",
     "text": [
      "File: results/daily/Modis/sst/A20131102_SST_NW_day.nc "
     ]
    },
    {
     "name": "stderr",
     "output_type": "stream",
     "text": [
      "100%|█| 394412/394412 [00:00<00:00, 3816946.80\n"
     ]
    },
    {
     "name": "stdout",
     "output_type": "stream",
     "text": [
      "File: results/daily/Modis/sst/A20131103_SST_NW_day.nc "
     ]
    },
    {
     "name": "stderr",
     "output_type": "stream",
     "text": [
      "100%|█| 747393/747393 [00:00<00:00, 6369240.03\n"
     ]
    },
    {
     "name": "stdout",
     "output_type": "stream",
     "text": [
      "File: results/daily/Modis/sst/A20131104_SST_NW_day.nc "
     ]
    },
    {
     "name": "stderr",
     "output_type": "stream",
     "text": [
      "100%|█| 1482722/1482722 [00:00<00:00, 6998760.\n"
     ]
    },
    {
     "name": "stdout",
     "output_type": "stream",
     "text": [
      "File: results/daily/Modis/sst/A20131105_SST_NW_day.nc "
     ]
    },
    {
     "name": "stderr",
     "output_type": "stream",
     "text": [
      "100%|█| 979807/979807 [00:00<00:00, 8385894.89\n"
     ]
    },
    {
     "name": "stdout",
     "output_type": "stream",
     "text": [
      "File: results/daily/Modis/sst/A20131106_SST_NW_day.nc "
     ]
    },
    {
     "name": "stderr",
     "output_type": "stream",
     "text": [
      "100%|█| 1130106/1130106 [00:00<00:00, 5534160.\n"
     ]
    },
    {
     "name": "stdout",
     "output_type": "stream",
     "text": [
      "File: results/daily/Modis/sst/A20131107_SST_NW_day.nc "
     ]
    },
    {
     "name": "stderr",
     "output_type": "stream",
     "text": [
      "100%|█| 1385726/1385726 [00:00<00:00, 6585132.\n"
     ]
    },
    {
     "name": "stdout",
     "output_type": "stream",
     "text": [
      "File: results/daily/Modis/sst/A20131108_SST_NW_day.nc "
     ]
    },
    {
     "name": "stderr",
     "output_type": "stream",
     "text": [
      "100%|█| 941291/941291 [00:00<00:00, 8614746.10\n"
     ]
    },
    {
     "name": "stdout",
     "output_type": "stream",
     "text": [
      "File: results/daily/Modis/sst/A20131109_SST_NW_day.nc "
     ]
    },
    {
     "name": "stderr",
     "output_type": "stream",
     "text": [
      "100%|█| 363612/363612 [00:00<00:00, 3190610.94\n"
     ]
    },
    {
     "name": "stdout",
     "output_type": "stream",
     "text": [
      "File: results/daily/Modis/sst/A20131110_SST_NW_day.nc "
     ]
    },
    {
     "name": "stderr",
     "output_type": "stream",
     "text": [
      "100%|█| 598019/598019 [00:00<00:00, 5701826.71\n"
     ]
    },
    {
     "name": "stdout",
     "output_type": "stream",
     "text": [
      "File: results/daily/Modis/sst/A20131111_SST_NW_day.nc "
     ]
    },
    {
     "name": "stderr",
     "output_type": "stream",
     "text": [
      "100%|█| 509631/509631 [00:00<00:00, 4413538.56\n"
     ]
    },
    {
     "name": "stdout",
     "output_type": "stream",
     "text": [
      "File: results/daily/Modis/sst/A20131112_SST_NW_day.nc "
     ]
    },
    {
     "name": "stderr",
     "output_type": "stream",
     "text": [
      "100%|█| 575251/575251 [00:00<00:00, 5343039.17\n"
     ]
    },
    {
     "name": "stdout",
     "output_type": "stream",
     "text": [
      "File: results/daily/Modis/sst/A20131113_SST_NW_day.nc "
     ]
    },
    {
     "name": "stderr",
     "output_type": "stream",
     "text": [
      "100%|█| 772502/772502 [00:00<00:00, 6803919.74\n"
     ]
    },
    {
     "name": "stdout",
     "output_type": "stream",
     "text": [
      "File: results/daily/Modis/sst/A20131114_SST_NW_day.nc "
     ]
    },
    {
     "name": "stderr",
     "output_type": "stream",
     "text": [
      "100%|█| 617415/617415 [00:00<00:00, 5578397.94\n"
     ]
    },
    {
     "name": "stdout",
     "output_type": "stream",
     "text": [
      "File: results/daily/Modis/sst/A20131115_SST_NW_day.nc "
     ]
    },
    {
     "name": "stderr",
     "output_type": "stream",
     "text": [
      "100%|█| 1343033/1343033 [00:00<00:00, 6086200.\n"
     ]
    },
    {
     "name": "stdout",
     "output_type": "stream",
     "text": [
      "File: results/daily/Modis/sst/A20131116_SST_NW_day.nc "
     ]
    },
    {
     "name": "stderr",
     "output_type": "stream",
     "text": [
      "100%|█| 1001112/1001112 [00:00<00:00, 9906474.\n"
     ]
    },
    {
     "name": "stdout",
     "output_type": "stream",
     "text": [
      "File: results/daily/Modis/sst/A20131117_SST_NW_day.nc "
     ]
    },
    {
     "name": "stderr",
     "output_type": "stream",
     "text": [
      "100%|█| 508090/508090 [00:00<00:00, 4773430.93\n"
     ]
    },
    {
     "name": "stdout",
     "output_type": "stream",
     "text": [
      "File: results/daily/Modis/sst/A20131118_SST_NW_day.nc "
     ]
    },
    {
     "name": "stderr",
     "output_type": "stream",
     "text": [
      "100%|█| 461218/461218 [00:00<00:00, 4195231.79\n"
     ]
    },
    {
     "name": "stdout",
     "output_type": "stream",
     "text": [
      "File: results/daily/Modis/sst/A20131119_SST_NW_day.nc "
     ]
    },
    {
     "name": "stderr",
     "output_type": "stream",
     "text": [
      "100%|█| 732679/732679 [00:00<00:00, 6215559.86\n"
     ]
    },
    {
     "name": "stdout",
     "output_type": "stream",
     "text": [
      "File: results/daily/Modis/sst/A20131120_SST_NW_day.nc "
     ]
    },
    {
     "name": "stderr",
     "output_type": "stream",
     "text": [
      "100%|█| 806156/806156 [00:00<00:00, 7170894.79\n"
     ]
    },
    {
     "name": "stdout",
     "output_type": "stream",
     "text": [
      "File: results/daily/Modis/sst/A20131121_SST_NW_day.nc "
     ]
    },
    {
     "name": "stderr",
     "output_type": "stream",
     "text": [
      "100%|█| 943142/943142 [00:00<00:00, 8546628.86\n"
     ]
    },
    {
     "name": "stdout",
     "output_type": "stream",
     "text": [
      "File: results/daily/Modis/sst/A20131122_SST_NW_day.nc "
     ]
    },
    {
     "name": "stderr",
     "output_type": "stream",
     "text": [
      "100%|█| 1194823/1194823 [00:00<00:00, 5601138.\n"
     ]
    },
    {
     "name": "stdout",
     "output_type": "stream",
     "text": [
      "File: results/daily/Modis/sst/A20131123_SST_NW_day.nc "
     ]
    },
    {
     "name": "stderr",
     "output_type": "stream",
     "text": [
      "100%|█| 1043750/1043750 [00:00<00:00, 9739298.\n"
     ]
    },
    {
     "name": "stdout",
     "output_type": "stream",
     "text": [
      "File: results/daily/Modis/sst/A20131124_SST_NW_day.nc "
     ]
    },
    {
     "name": "stderr",
     "output_type": "stream",
     "text": [
      "100%|█| 322526/322526 [00:00<00:00, 2953715.35\n"
     ]
    },
    {
     "name": "stdout",
     "output_type": "stream",
     "text": [
      "File: results/daily/Modis/sst/A20131125_SST_NW_day.nc "
     ]
    },
    {
     "name": "stderr",
     "output_type": "stream",
     "text": [
      "100%|█| 513491/513491 [00:00<00:00, 4564530.83\n"
     ]
    },
    {
     "name": "stdout",
     "output_type": "stream",
     "text": [
      "File: results/daily/Modis/sst/A20131126_SST_NW_day.nc "
     ]
    },
    {
     "name": "stderr",
     "output_type": "stream",
     "text": [
      "100%|█| 543228/543228 [00:00<00:00, 4683868.96\n"
     ]
    },
    {
     "name": "stdout",
     "output_type": "stream",
     "text": [
      "File: results/daily/Modis/sst/A20131127_SST_NW_day.nc "
     ]
    },
    {
     "name": "stderr",
     "output_type": "stream",
     "text": [
      "100%|█| 352703/352703 [00:00<00:00, 3197951.55\n"
     ]
    },
    {
     "name": "stdout",
     "output_type": "stream",
     "text": [
      "File: results/daily/Modis/sst/A20131128_SST_NW_day.nc "
     ]
    },
    {
     "name": "stderr",
     "output_type": "stream",
     "text": [
      "100%|█| 512391/512391 [00:00<00:00, 4599781.31\n"
     ]
    },
    {
     "name": "stdout",
     "output_type": "stream",
     "text": [
      "File: results/daily/Modis/sst/A20131129_SST_NW_day.nc "
     ]
    },
    {
     "name": "stderr",
     "output_type": "stream",
     "text": [
      "100%|█| 1043815/1043815 [00:00<00:00, 8951238.\n"
     ]
    },
    {
     "name": "stdout",
     "output_type": "stream",
     "text": [
      "File: results/daily/Modis/sst/A20131201_SST_NW_day.nc "
     ]
    },
    {
     "name": "stderr",
     "output_type": "stream",
     "text": [
      "100%|█| 1148211/1148211 [00:00<00:00, 5480194.\n"
     ]
    },
    {
     "name": "stdout",
     "output_type": "stream",
     "text": [
      "File: results/daily/Modis/sst/A20131202_SST_NW_day.nc "
     ]
    },
    {
     "name": "stderr",
     "output_type": "stream",
     "text": [
      "100%|█| 1377711/1377711 [00:00<00:00, 6361094.\n"
     ]
    },
    {
     "name": "stdout",
     "output_type": "stream",
     "text": [
      "File: results/daily/Modis/sst/A20131203_SST_NW_day.nc "
     ]
    },
    {
     "name": "stderr",
     "output_type": "stream",
     "text": [
      "100%|█| 1332804/1332804 [00:00<00:00, 6383982.\n"
     ]
    },
    {
     "name": "stdout",
     "output_type": "stream",
     "text": [
      "File: results/daily/Modis/sst/A20131204_SST_NW_day.nc "
     ]
    },
    {
     "name": "stderr",
     "output_type": "stream",
     "text": [
      "100%|█| 971095/971095 [00:00<00:00, 8891180.66\n"
     ]
    },
    {
     "name": "stdout",
     "output_type": "stream",
     "text": [
      "File: results/daily/Modis/sst/A20131205_SST_NW_day.nc "
     ]
    },
    {
     "name": "stderr",
     "output_type": "stream",
     "text": [
      "100%|█| 708135/708135 [00:00<00:00, 6968431.05\n"
     ]
    },
    {
     "name": "stdout",
     "output_type": "stream",
     "text": [
      "File: results/daily/Modis/sst/A20131206_SST_NW_day.nc "
     ]
    },
    {
     "name": "stderr",
     "output_type": "stream",
     "text": [
      "100%|█| 1035132/1035132 [00:00<00:00, 9251112.\n"
     ]
    },
    {
     "name": "stdout",
     "output_type": "stream",
     "text": [
      "File: results/daily/Modis/sst/A20131207_SST_NW_day.nc "
     ]
    },
    {
     "name": "stderr",
     "output_type": "stream",
     "text": [
      "100%|█| 927861/927861 [00:00<00:00, 8097213.02\n"
     ]
    },
    {
     "name": "stdout",
     "output_type": "stream",
     "text": [
      "File: results/daily/Modis/sst/A20131208_SST_NW_day.nc "
     ]
    },
    {
     "name": "stderr",
     "output_type": "stream",
     "text": [
      "100%|█| 377378/377378 [00:00<00:00, 3286746.71\n"
     ]
    },
    {
     "name": "stdout",
     "output_type": "stream",
     "text": [
      "File: results/daily/Modis/sst/A20131209_SST_NW_day.nc "
     ]
    },
    {
     "name": "stderr",
     "output_type": "stream",
     "text": [
      "100%|█| 249110/249110 [00:00<00:00, 2206759.12\n"
     ]
    },
    {
     "name": "stdout",
     "output_type": "stream",
     "text": [
      "File: results/daily/Modis/sst/A20131210_SST_NW_day.nc "
     ]
    },
    {
     "name": "stderr",
     "output_type": "stream",
     "text": [
      "100%|█| 466853/466853 [00:00<00:00, 4257243.50\n"
     ]
    },
    {
     "name": "stdout",
     "output_type": "stream",
     "text": [
      "File: results/daily/Modis/sst/A20131211_SST_NW_day.nc "
     ]
    },
    {
     "name": "stderr",
     "output_type": "stream",
     "text": [
      "100%|█| 573553/573553 [00:00<00:00, 5120453.55\n"
     ]
    },
    {
     "name": "stdout",
     "output_type": "stream",
     "text": [
      "File: results/daily/Modis/sst/A20131212_SST_NW_day.nc "
     ]
    },
    {
     "name": "stderr",
     "output_type": "stream",
     "text": [
      "100%|█| 520635/520635 [00:00<00:00, 4734825.38\n"
     ]
    },
    {
     "name": "stdout",
     "output_type": "stream",
     "text": [
      "File: results/daily/Modis/sst/A20131213_SST_NW_day.nc "
     ]
    },
    {
     "name": "stderr",
     "output_type": "stream",
     "text": [
      "100%|█| 622086/622086 [00:00<00:00, 6146248.72\n"
     ]
    },
    {
     "name": "stdout",
     "output_type": "stream",
     "text": [
      "File: results/daily/Modis/sst/A20131214_SST_NW_day.nc "
     ]
    },
    {
     "name": "stderr",
     "output_type": "stream",
     "text": [
      "100%|█| 493130/493130 [00:00<00:00, 4792754.41\n"
     ]
    },
    {
     "name": "stdout",
     "output_type": "stream",
     "text": [
      "File: results/daily/Modis/sst/A20131215_SST_NW_day.nc "
     ]
    },
    {
     "name": "stderr",
     "output_type": "stream",
     "text": [
      "100%|█| 402333/402333 [00:00<00:00, 3858931.56\n"
     ]
    },
    {
     "name": "stdout",
     "output_type": "stream",
     "text": [
      "File: results/daily/Modis/sst/A20131216_SST_NW_day.nc "
     ]
    },
    {
     "name": "stderr",
     "output_type": "stream",
     "text": [
      "100%|█| 188071/188071 [00:00<00:00, 1816677.83\n"
     ]
    },
    {
     "name": "stdout",
     "output_type": "stream",
     "text": [
      "File: results/daily/Modis/sst/A20131217_SST_NW_day.nc "
     ]
    },
    {
     "name": "stderr",
     "output_type": "stream",
     "text": [
      "100%|█| 285395/285395 [00:00<00:00, 2825284.27\n"
     ]
    },
    {
     "name": "stdout",
     "output_type": "stream",
     "text": [
      "File: results/daily/Modis/sst/A20131218_SST_NW_day.nc "
     ]
    },
    {
     "name": "stderr",
     "output_type": "stream",
     "text": [
      "100%|█| 244208/244208 [00:00<00:00, 2116255.74\n"
     ]
    },
    {
     "name": "stdout",
     "output_type": "stream",
     "text": [
      "File: results/daily/Modis/sst/A20131219_SST_NW_day.nc "
     ]
    },
    {
     "name": "stderr",
     "output_type": "stream",
     "text": [
      "100%|█| 181124/181124 [00:00<00:00, 1586768.28\n"
     ]
    },
    {
     "name": "stdout",
     "output_type": "stream",
     "text": [
      "File: results/daily/Modis/sst/A20131220_SST_NW_day.nc "
     ]
    },
    {
     "name": "stderr",
     "output_type": "stream",
     "text": [
      "100%|█| 282382/282382 [00:00<00:00, 2507772.67\n"
     ]
    },
    {
     "name": "stdout",
     "output_type": "stream",
     "text": [
      "File: results/daily/Modis/sst/A20131221_SST_NW_day.nc "
     ]
    },
    {
     "name": "stderr",
     "output_type": "stream",
     "text": [
      "100%|█| 555278/555278 [00:00<00:00, 5271602.97\n"
     ]
    },
    {
     "name": "stdout",
     "output_type": "stream",
     "text": [
      "File: results/daily/Modis/sst/A20131222_SST_NW_day.nc "
     ]
    },
    {
     "name": "stderr",
     "output_type": "stream",
     "text": [
      "100%|█| 503283/503283 [00:00<00:00, 4398725.34\n"
     ]
    },
    {
     "name": "stdout",
     "output_type": "stream",
     "text": [
      "File: results/daily/Modis/sst/A20131223_SST_NW_day.nc "
     ]
    },
    {
     "name": "stderr",
     "output_type": "stream",
     "text": [
      "100%|█| 512636/512636 [00:00<00:00, 4453272.36\n"
     ]
    },
    {
     "name": "stdout",
     "output_type": "stream",
     "text": [
      "File: results/daily/Modis/sst/A20131224_SST_NW_day.nc "
     ]
    },
    {
     "name": "stderr",
     "output_type": "stream",
     "text": [
      "100%|█| 618881/618881 [00:00<00:00, 5592064.99\n"
     ]
    },
    {
     "name": "stdout",
     "output_type": "stream",
     "text": [
      "File: results/daily/Modis/sst/A20131225_SST_NW_day.nc "
     ]
    },
    {
     "name": "stderr",
     "output_type": "stream",
     "text": [
      "100%|█| 295884/295884 [00:00<00:00, 2909733.31\n"
     ]
    },
    {
     "name": "stdout",
     "output_type": "stream",
     "text": [
      "File: results/daily/Modis/sst/A20131226_SST_NW_day.nc "
     ]
    },
    {
     "name": "stderr",
     "output_type": "stream",
     "text": [
      "100%|█| 184720/184720 [00:00<00:00, 1714324.55\n"
     ]
    },
    {
     "name": "stdout",
     "output_type": "stream",
     "text": [
      "File: results/daily/Modis/sst/A20131227_SST_NW_day.nc "
     ]
    },
    {
     "name": "stderr",
     "output_type": "stream",
     "text": [
      "100%|█| 441960/441960 [00:00<00:00, 4320177.21\n"
     ]
    },
    {
     "name": "stdout",
     "output_type": "stream",
     "text": [
      "File: results/daily/Modis/sst/A20131228_SST_NW_day.nc "
     ]
    },
    {
     "name": "stderr",
     "output_type": "stream",
     "text": [
      "100%|█| 589449/589449 [00:00<00:00, 5450759.63\n"
     ]
    },
    {
     "name": "stdout",
     "output_type": "stream",
     "text": [
      "File: results/daily/Modis/sst/A20131229_SST_NW_day.nc "
     ]
    },
    {
     "name": "stderr",
     "output_type": "stream",
     "text": [
      "100%|█| 762723/762723 [00:00<00:00, 7479722.17"
     ]
    },
    {
     "name": "stdout",
     "output_type": "stream",
     "text": [
      "2014...\n"
     ]
    },
    {
     "name": "stderr",
     "output_type": "stream",
     "text": [
      "\n"
     ]
    },
    {
     "name": "stdout",
     "output_type": "stream",
     "text": [
      "File: results/daily/Modis/sst/A20140101_SST_NW_day.nc "
     ]
    },
    {
     "name": "stderr",
     "output_type": "stream",
     "text": [
      "100%|█| 1129140/1129140 [00:00<00:00, 5563172.\n"
     ]
    },
    {
     "name": "stdout",
     "output_type": "stream",
     "text": [
      "File: results/daily/Modis/sst/A20140102_SST_NW_day.nc "
     ]
    },
    {
     "name": "stderr",
     "output_type": "stream",
     "text": [
      "100%|█| 787503/787503 [00:00<00:00, 7441127.00\n"
     ]
    },
    {
     "name": "stdout",
     "output_type": "stream",
     "text": [
      "File: results/daily/Modis/sst/A20140103_SST_NW_day.nc "
     ]
    },
    {
     "name": "stderr",
     "output_type": "stream",
     "text": [
      "100%|█| 568836/568836 [00:00<00:00, 5076904.81\n"
     ]
    },
    {
     "name": "stdout",
     "output_type": "stream",
     "text": [
      "File: results/daily/Modis/sst/A20140104_SST_NW_day.nc "
     ]
    },
    {
     "name": "stderr",
     "output_type": "stream",
     "text": [
      "100%|█| 812419/812419 [00:00<00:00, 7664765.05\n"
     ]
    },
    {
     "name": "stdout",
     "output_type": "stream",
     "text": [
      "File: results/daily/Modis/sst/A20140105_SST_NW_day.nc "
     ]
    },
    {
     "name": "stderr",
     "output_type": "stream",
     "text": [
      "100%|█| 529932/529932 [00:00<00:00, 4948958.21\n"
     ]
    },
    {
     "name": "stdout",
     "output_type": "stream",
     "text": [
      "File: results/daily/Modis/sst/A20140106_SST_NW_day.nc "
     ]
    },
    {
     "name": "stderr",
     "output_type": "stream",
     "text": [
      "100%|█| 888137/888137 [00:00<00:00, 8053801.11\n"
     ]
    },
    {
     "name": "stdout",
     "output_type": "stream",
     "text": [
      "File: results/daily/Modis/sst/A20140107_SST_NW_day.nc "
     ]
    },
    {
     "name": "stderr",
     "output_type": "stream",
     "text": [
      "100%|█| 189313/189313 [00:00<00:00, 1733620.38\n"
     ]
    },
    {
     "name": "stdout",
     "output_type": "stream",
     "text": [
      "File: results/daily/Modis/sst/A20140108_SST_NW_day.nc "
     ]
    },
    {
     "name": "stderr",
     "output_type": "stream",
     "text": [
      "100%|█| 245333/245333 [00:00<00:00, 2182857.45\n"
     ]
    },
    {
     "name": "stdout",
     "output_type": "stream",
     "text": [
      "File: results/daily/Modis/sst/A20140109_SST_NW_day.nc "
     ]
    },
    {
     "name": "stderr",
     "output_type": "stream",
     "text": [
      "100%|█| 432792/432792 [00:00<00:00, 3924184.89\n"
     ]
    },
    {
     "name": "stdout",
     "output_type": "stream",
     "text": [
      "File: results/daily/Modis/sst/A20140110_SST_NW_day.nc "
     ]
    },
    {
     "name": "stderr",
     "output_type": "stream",
     "text": [
      "100%|█| 477706/477706 [00:00<00:00, 4147713.36\n"
     ]
    },
    {
     "name": "stdout",
     "output_type": "stream",
     "text": [
      "File: results/daily/Modis/sst/A20140111_SST_NW_day.nc "
     ]
    },
    {
     "name": "stderr",
     "output_type": "stream",
     "text": [
      "100%|█| 456969/456969 [00:00<00:00, 4529093.09\n"
     ]
    },
    {
     "name": "stdout",
     "output_type": "stream",
     "text": [
      "File: results/daily/Modis/sst/A20140112_SST_NW_day.nc "
     ]
    },
    {
     "name": "stderr",
     "output_type": "stream",
     "text": [
      "100%|█| 449869/449869 [00:00<00:00, 3989730.84\n"
     ]
    },
    {
     "name": "stdout",
     "output_type": "stream",
     "text": [
      "File: results/daily/Modis/sst/A20140113_SST_NW_day.nc "
     ]
    },
    {
     "name": "stderr",
     "output_type": "stream",
     "text": [
      "100%|█| 306225/306225 [00:00<00:00, 3017582.37\n"
     ]
    },
    {
     "name": "stdout",
     "output_type": "stream",
     "text": [
      "File: results/daily/Modis/sst/A20140114_SST_NW_day.nc "
     ]
    },
    {
     "name": "stderr",
     "output_type": "stream",
     "text": [
      "100%|█| 429055/429055 [00:00<00:00, 3980665.24\n"
     ]
    },
    {
     "name": "stdout",
     "output_type": "stream",
     "text": [
      "File: results/daily/Modis/sst/A20140115_SST_NW_day.nc "
     ]
    },
    {
     "name": "stderr",
     "output_type": "stream",
     "text": [
      "100%|█| 600544/600544 [00:00<00:00, 5351667.74\n"
     ]
    },
    {
     "name": "stdout",
     "output_type": "stream",
     "text": [
      "File: results/daily/Modis/sst/A20140116_SST_NW_day.nc "
     ]
    },
    {
     "name": "stderr",
     "output_type": "stream",
     "text": [
      "100%|█| 442347/442347 [00:00<00:00, 4137546.23\n"
     ]
    },
    {
     "name": "stdout",
     "output_type": "stream",
     "text": [
      "File: results/daily/Modis/sst/A20140117_SST_NW_day.nc "
     ]
    },
    {
     "name": "stderr",
     "output_type": "stream",
     "text": [
      "100%|█| 367841/367841 [00:00<00:00, 3350802.88\n"
     ]
    },
    {
     "name": "stdout",
     "output_type": "stream",
     "text": [
      "File: results/daily/Modis/sst/A20140118_SST_NW_day.nc "
     ]
    },
    {
     "name": "stderr",
     "output_type": "stream",
     "text": [
      "100%|█| 517053/517053 [00:00<00:00, 5076040.68\n"
     ]
    },
    {
     "name": "stdout",
     "output_type": "stream",
     "text": [
      "File: results/daily/Modis/sst/A20140119_SST_NW_day.nc "
     ]
    },
    {
     "name": "stderr",
     "output_type": "stream",
     "text": [
      "100%|█| 462897/462897 [00:00<00:00, 4122259.72\n"
     ]
    },
    {
     "name": "stdout",
     "output_type": "stream",
     "text": [
      "File: results/daily/Modis/sst/A20140120_SST_NW_day.nc "
     ]
    },
    {
     "name": "stderr",
     "output_type": "stream",
     "text": [
      "100%|█| 316988/316988 [00:00<00:00, 2947677.49\n"
     ]
    },
    {
     "name": "stdout",
     "output_type": "stream",
     "text": [
      "File: results/daily/Modis/sst/A20140121_SST_NW_day.nc "
     ]
    },
    {
     "name": "stderr",
     "output_type": "stream",
     "text": [
      "100%|█| 452503/452503 [00:00<00:00, 4108102.51\n"
     ]
    },
    {
     "name": "stdout",
     "output_type": "stream",
     "text": [
      "File: results/daily/Modis/sst/A20140122_SST_NW_day.nc "
     ]
    },
    {
     "name": "stderr",
     "output_type": "stream",
     "text": [
      "100%|█| 981810/981810 [00:00<00:00, 9694840.68\n"
     ]
    },
    {
     "name": "stdout",
     "output_type": "stream",
     "text": [
      "File: results/daily/Modis/sst/A20140123_SST_NW_day.nc "
     ]
    },
    {
     "name": "stderr",
     "output_type": "stream",
     "text": [
      "100%|█| 791684/791684 [00:00<00:00, 7812465.28\n"
     ]
    },
    {
     "name": "stdout",
     "output_type": "stream",
     "text": [
      "File: results/daily/Modis/sst/A20140124_SST_NW_day.nc "
     ]
    },
    {
     "name": "stderr",
     "output_type": "stream",
     "text": [
      "100%|█| 467600/467600 [00:00<00:00, 4350015.19\n"
     ]
    },
    {
     "name": "stdout",
     "output_type": "stream",
     "text": [
      "File: results/daily/Modis/sst/A20140125_SST_NW_day.nc "
     ]
    },
    {
     "name": "stderr",
     "output_type": "stream",
     "text": [
      "100%|█| 503145/503145 [00:00<00:00, 4890102.02\n"
     ]
    },
    {
     "name": "stdout",
     "output_type": "stream",
     "text": [
      "File: results/daily/Modis/sst/A20140126_SST_NW_day.nc "
     ]
    },
    {
     "name": "stderr",
     "output_type": "stream",
     "text": [
      "100%|█| 746054/746054 [00:00<00:00, 7292368.68\n"
     ]
    },
    {
     "name": "stdout",
     "output_type": "stream",
     "text": [
      "File: results/daily/Modis/sst/A20140127_SST_NW_day.nc "
     ]
    },
    {
     "name": "stderr",
     "output_type": "stream",
     "text": [
      "100%|█| 867279/867279 [00:00<00:00, 7560239.21\n"
     ]
    },
    {
     "name": "stdout",
     "output_type": "stream",
     "text": [
      "File: results/daily/Modis/sst/A20140128_SST_NW_day.nc "
     ]
    },
    {
     "name": "stderr",
     "output_type": "stream",
     "text": [
      "100%|█| 926165/926165 [00:00<00:00, 8027429.37\n"
     ]
    },
    {
     "name": "stdout",
     "output_type": "stream",
     "text": [
      "File: results/daily/Modis/sst/A20140129_SST_NW_day.nc "
     ]
    },
    {
     "name": "stderr",
     "output_type": "stream",
     "text": [
      "100%|█| 533872/533872 [00:00<00:00, 5071229.03\n"
     ]
    },
    {
     "name": "stdout",
     "output_type": "stream",
     "text": [
      "File: results/daily/Modis/sst/A20140201_SST_NW_day.nc "
     ]
    },
    {
     "name": "stderr",
     "output_type": "stream",
     "text": [
      "100%|█| 236292/236292 [00:00<00:00, 2151463.96\n"
     ]
    },
    {
     "name": "stdout",
     "output_type": "stream",
     "text": [
      "File: results/daily/Modis/sst/A20140202_SST_NW_day.nc "
     ]
    },
    {
     "name": "stderr",
     "output_type": "stream",
     "text": [
      "100%|█| 729547/729547 [00:00<00:00, 6427490.65\n"
     ]
    },
    {
     "name": "stdout",
     "output_type": "stream",
     "text": [
      "File: results/daily/Modis/sst/A20140203_SST_NW_day.nc "
     ]
    },
    {
     "name": "stderr",
     "output_type": "stream",
     "text": [
      "100%|█| 431738/431738 [00:00<00:00, 4149867.70\n"
     ]
    },
    {
     "name": "stdout",
     "output_type": "stream",
     "text": [
      "File: results/daily/Modis/sst/A20140204_SST_NW_day.nc "
     ]
    },
    {
     "name": "stderr",
     "output_type": "stream",
     "text": [
      "100%|█| 166262/166262 [00:00<00:00, 1532254.13\n"
     ]
    },
    {
     "name": "stdout",
     "output_type": "stream",
     "text": [
      "File: results/daily/Modis/sst/A20140205_SST_NW_day.nc "
     ]
    },
    {
     "name": "stderr",
     "output_type": "stream",
     "text": [
      "100%|█| 53989/53989 [00:00<00:00, 470171.35it/\n"
     ]
    },
    {
     "name": "stdout",
     "output_type": "stream",
     "text": [
      "File: results/daily/Modis/sst/A20140206_SST_NW_day.nc "
     ]
    },
    {
     "name": "stderr",
     "output_type": "stream",
     "text": [
      "100%|█| 95261/95261 [00:00<00:00, 861978.15it/\n"
     ]
    },
    {
     "name": "stdout",
     "output_type": "stream",
     "text": [
      "File: results/daily/Modis/sst/A20140207_SST_NW_day.nc "
     ]
    },
    {
     "name": "stderr",
     "output_type": "stream",
     "text": [
      "100%|█| 126467/126467 [00:00<00:00, 1150010.18\n"
     ]
    },
    {
     "name": "stdout",
     "output_type": "stream",
     "text": [
      "File: results/daily/Modis/sst/A20140208_SST_NW_day.nc "
     ]
    },
    {
     "name": "stderr",
     "output_type": "stream",
     "text": [
      "100%|█| 161887/161887 [00:00<00:00, 1453143.92\n"
     ]
    },
    {
     "name": "stdout",
     "output_type": "stream",
     "text": [
      "File: results/daily/Modis/sst/A20140209_SST_NW_day.nc "
     ]
    },
    {
     "name": "stderr",
     "output_type": "stream",
     "text": [
      "100%|█| 151174/151174 [00:00<00:00, 1311497.53\n"
     ]
    },
    {
     "name": "stdout",
     "output_type": "stream",
     "text": [
      "File: results/daily/Modis/sst/A20140210_SST_NW_day.nc "
     ]
    },
    {
     "name": "stderr",
     "output_type": "stream",
     "text": [
      "100%|█| 181530/181530 [00:00<00:00, 1556574.12\n"
     ]
    },
    {
     "name": "stdout",
     "output_type": "stream",
     "text": [
      "File: results/daily/Modis/sst/A20140211_SST_NW_day.nc "
     ]
    },
    {
     "name": "stderr",
     "output_type": "stream",
     "text": [
      "100%|█| 325721/325721 [00:00<00:00, 3197064.72\n"
     ]
    },
    {
     "name": "stdout",
     "output_type": "stream",
     "text": [
      "File: results/daily/Modis/sst/A20140212_SST_NW_day.nc "
     ]
    },
    {
     "name": "stderr",
     "output_type": "stream",
     "text": [
      "100%|█| 358933/358933 [00:00<00:00, 3189800.34\n"
     ]
    },
    {
     "name": "stdout",
     "output_type": "stream",
     "text": [
      "File: results/daily/Modis/sst/A20140213_SST_NW_day.nc "
     ]
    },
    {
     "name": "stderr",
     "output_type": "stream",
     "text": [
      "100%|█| 201826/201826 [00:00<00:00, 1951648.20\n"
     ]
    },
    {
     "name": "stdout",
     "output_type": "stream",
     "text": [
      "File: results/daily/Modis/sst/A20140214_SST_NW_day.nc "
     ]
    },
    {
     "name": "stderr",
     "output_type": "stream",
     "text": [
      "100%|█| 590865/590865 [00:00<00:00, 5399804.85\n"
     ]
    },
    {
     "name": "stdout",
     "output_type": "stream",
     "text": [
      "File: results/daily/Modis/sst/A20140215_SST_NW_day.nc "
     ]
    },
    {
     "name": "stderr",
     "output_type": "stream",
     "text": [
      "100%|█| 393573/393573 [00:00<00:00, 3517549.36\n"
     ]
    },
    {
     "name": "stdout",
     "output_type": "stream",
     "text": [
      "File: results/daily/Modis/sst/A20140216_SST_NW_day.nc "
     ]
    },
    {
     "name": "stderr",
     "output_type": "stream",
     "text": [
      "100%|█| 547448/547448 [00:00<00:00, 4870676.07\n"
     ]
    },
    {
     "name": "stdout",
     "output_type": "stream",
     "text": [
      "File: results/daily/Modis/sst/A20140217_SST_NW_day.nc "
     ]
    },
    {
     "name": "stderr",
     "output_type": "stream",
     "text": [
      "100%|█| 174538/174538 [00:00<00:00, 1588890.55\n"
     ]
    },
    {
     "name": "stdout",
     "output_type": "stream",
     "text": [
      "File: results/daily/Modis/sst/A20140218_SST_NW_day.nc "
     ]
    },
    {
     "name": "stderr",
     "output_type": "stream",
     "text": [
      "100%|█| 153850/153850 [00:00<00:00, 1354310.35\n"
     ]
    },
    {
     "name": "stdout",
     "output_type": "stream",
     "text": [
      "File: results/daily/Modis/sst/A20140219_SST_NW_day.nc "
     ]
    },
    {
     "name": "stderr",
     "output_type": "stream",
     "text": [
      "100%|█| 461446/461446 [00:00<00:00, 4550989.47\n"
     ]
    },
    {
     "name": "stdout",
     "output_type": "stream",
     "text": [
      "File: results/daily/Modis/sst/A20140220_SST_NW_day.nc "
     ]
    },
    {
     "name": "stderr",
     "output_type": "stream",
     "text": [
      "100%|█| 624383/624383 [00:00<00:00, 5358418.68\n"
     ]
    },
    {
     "name": "stdout",
     "output_type": "stream",
     "text": [
      "File: results/daily/Modis/sst/A20140221_SST_NW_day.nc "
     ]
    },
    {
     "name": "stderr",
     "output_type": "stream",
     "text": [
      "100%|█| 865236/865236 [00:00<00:00, 8046470.54\n"
     ]
    },
    {
     "name": "stdout",
     "output_type": "stream",
     "text": [
      "File: results/daily/Modis/sst/A20140222_SST_NW_day.nc "
     ]
    },
    {
     "name": "stderr",
     "output_type": "stream",
     "text": [
      "100%|█| 619784/619784 [00:00<00:00, 5644326.95\n"
     ]
    },
    {
     "name": "stdout",
     "output_type": "stream",
     "text": [
      "File: results/daily/Modis/sst/A20140223_SST_NW_day.nc "
     ]
    },
    {
     "name": "stderr",
     "output_type": "stream",
     "text": [
      "100%|█| 1162988/1162988 [00:00<00:00, 5389823.\n"
     ]
    },
    {
     "name": "stdout",
     "output_type": "stream",
     "text": [
      "File: results/daily/Modis/sst/A20140224_SST_NW_day.nc "
     ]
    },
    {
     "name": "stderr",
     "output_type": "stream",
     "text": [
      "100%|█| 866216/866216 [00:00<00:00, 8293060.53\n"
     ]
    },
    {
     "name": "stdout",
     "output_type": "stream",
     "text": [
      "File: results/daily/Modis/sst/A20140225_SST_NW_day.nc "
     ]
    },
    {
     "name": "stderr",
     "output_type": "stream",
     "text": [
      "100%|█| 1346423/1346423 [00:00<00:00, 6447779.\n"
     ]
    },
    {
     "name": "stdout",
     "output_type": "stream",
     "text": [
      "File: results/daily/Modis/sst/A20140226_SST_NW_day.nc "
     ]
    },
    {
     "name": "stderr",
     "output_type": "stream",
     "text": [
      "100%|█| 628580/628580 [00:00<00:00, 5716562.17\n"
     ]
    },
    {
     "name": "stdout",
     "output_type": "stream",
     "text": [
      "File: results/daily/Modis/sst/A20140227_SST_NW_day.nc "
     ]
    },
    {
     "name": "stderr",
     "output_type": "stream",
     "text": [
      "100%|█| 298888/298888 [00:00<00:00, 2594233.74\n"
     ]
    },
    {
     "name": "stdout",
     "output_type": "stream",
     "text": [
      "File: results/daily/Modis/sst/A20140228_SST_NW_day.nc "
     ]
    },
    {
     "name": "stderr",
     "output_type": "stream",
     "text": [
      "100%|█| 305600/305600 [00:00<00:00, 2854303.69\n"
     ]
    },
    {
     "name": "stdout",
     "output_type": "stream",
     "text": [
      "A20140229_SST_NW_day.nc: FileNotFound\n",
      "File: results/daily/Modis/sst/A20140301_SST_NW_day.nc "
     ]
    },
    {
     "name": "stderr",
     "output_type": "stream",
     "text": [
      "100%|█| 427365/427365 [00:00<00:00, 3640833.28\n"
     ]
    },
    {
     "name": "stdout",
     "output_type": "stream",
     "text": [
      "File: results/daily/Modis/sst/A20140302_SST_NW_day.nc "
     ]
    },
    {
     "name": "stderr",
     "output_type": "stream",
     "text": [
      "100%|█| 557892/557892 [00:00<00:00, 5325178.53\n"
     ]
    },
    {
     "name": "stdout",
     "output_type": "stream",
     "text": [
      "File: results/daily/Modis/sst/A20140303_SST_NW_day.nc "
     ]
    },
    {
     "name": "stderr",
     "output_type": "stream",
     "text": [
      "100%|█| 573535/573535 [00:00<00:00, 5038001.34\n"
     ]
    },
    {
     "name": "stdout",
     "output_type": "stream",
     "text": [
      "File: results/daily/Modis/sst/A20140304_SST_NW_day.nc "
     ]
    },
    {
     "name": "stderr",
     "output_type": "stream",
     "text": [
      "100%|█| 497485/497485 [00:00<00:00, 4161454.70\n"
     ]
    },
    {
     "name": "stdout",
     "output_type": "stream",
     "text": [
      "File: results/daily/Modis/sst/A20140305_SST_NW_day.nc "
     ]
    },
    {
     "name": "stderr",
     "output_type": "stream",
     "text": [
      "100%|█| 484456/484456 [00:00<00:00, 4763520.16\n"
     ]
    },
    {
     "name": "stdout",
     "output_type": "stream",
     "text": [
      "File: results/daily/Modis/sst/A20140306_SST_NW_day.nc "
     ]
    },
    {
     "name": "stderr",
     "output_type": "stream",
     "text": [
      "100%|█| 559020/559020 [00:00<00:00, 5507752.53\n"
     ]
    },
    {
     "name": "stdout",
     "output_type": "stream",
     "text": [
      "File: results/daily/Modis/sst/A20140307_SST_NW_day.nc "
     ]
    },
    {
     "name": "stderr",
     "output_type": "stream",
     "text": [
      "100%|█| 69304/69304 [00:00<00:00, 624557.22it/\n"
     ]
    },
    {
     "name": "stdout",
     "output_type": "stream",
     "text": [
      "File: results/daily/Modis/sst/A20140308_SST_NW_day.nc "
     ]
    },
    {
     "name": "stderr",
     "output_type": "stream",
     "text": [
      "100%|█| 536319/536319 [00:00<00:00, 5027759.42\n"
     ]
    },
    {
     "name": "stdout",
     "output_type": "stream",
     "text": [
      "File: results/daily/Modis/sst/A20140309_SST_NW_day.nc "
     ]
    },
    {
     "name": "stderr",
     "output_type": "stream",
     "text": [
      "100%|█| 759072/759072 [00:00<00:00, 6634544.80\n"
     ]
    },
    {
     "name": "stdout",
     "output_type": "stream",
     "text": [
      "File: results/daily/Modis/sst/A20140310_SST_NW_day.nc "
     ]
    },
    {
     "name": "stderr",
     "output_type": "stream",
     "text": [
      "100%|█| 1142689/1142689 [00:00<00:00, 5379300.\n"
     ]
    },
    {
     "name": "stdout",
     "output_type": "stream",
     "text": [
      "File: results/daily/Modis/sst/A20140311_SST_NW_day.nc "
     ]
    },
    {
     "name": "stderr",
     "output_type": "stream",
     "text": [
      "100%|█| 555278/555278 [00:00<00:00, 4893648.43\n"
     ]
    },
    {
     "name": "stdout",
     "output_type": "stream",
     "text": [
      "File: results/daily/Modis/sst/A20140312_SST_NW_day.nc "
     ]
    },
    {
     "name": "stderr",
     "output_type": "stream",
     "text": [
      "100%|█| 138138/138138 [00:00<00:00, 1240141.28\n"
     ]
    },
    {
     "name": "stdout",
     "output_type": "stream",
     "text": [
      "File: results/daily/Modis/sst/A20140313_SST_NW_day.nc "
     ]
    },
    {
     "name": "stderr",
     "output_type": "stream",
     "text": [
      "100%|█| 430853/430853 [00:00<00:00, 3863490.71\n"
     ]
    },
    {
     "name": "stdout",
     "output_type": "stream",
     "text": [
      "File: results/daily/Modis/sst/A20140314_SST_NW_day.nc "
     ]
    },
    {
     "name": "stderr",
     "output_type": "stream",
     "text": [
      "100%|█| 1211536/1211536 [00:00<00:00, 5742682.\n"
     ]
    },
    {
     "name": "stdout",
     "output_type": "stream",
     "text": [
      "File: results/daily/Modis/sst/A20140315_SST_NW_day.nc "
     ]
    },
    {
     "name": "stderr",
     "output_type": "stream",
     "text": [
      "100%|█| 1080042/1080042 [00:00<00:00, 5288445.\n"
     ]
    },
    {
     "name": "stdout",
     "output_type": "stream",
     "text": [
      "File: results/daily/Modis/sst/A20140316_SST_NW_day.nc "
     ]
    },
    {
     "name": "stderr",
     "output_type": "stream",
     "text": [
      "100%|█| 1400890/1400890 [00:00<00:00, 6903593.\n"
     ]
    },
    {
     "name": "stdout",
     "output_type": "stream",
     "text": [
      "File: results/daily/Modis/sst/A20140317_SST_NW_day.nc "
     ]
    },
    {
     "name": "stderr",
     "output_type": "stream",
     "text": [
      "100%|█| 326188/326188 [00:00<00:00, 3055536.25\n"
     ]
    },
    {
     "name": "stdout",
     "output_type": "stream",
     "text": [
      "File: results/daily/Modis/sst/A20140318_SST_NW_day.nc "
     ]
    },
    {
     "name": "stderr",
     "output_type": "stream",
     "text": [
      "100%|█| 833091/833091 [00:00<00:00, 8037698.98\n"
     ]
    },
    {
     "name": "stdout",
     "output_type": "stream",
     "text": [
      "File: results/daily/Modis/sst/A20140319_SST_NW_day.nc "
     ]
    },
    {
     "name": "stderr",
     "output_type": "stream",
     "text": [
      "100%|█| 249959/249959 [00:00<00:00, 2226596.37\n"
     ]
    },
    {
     "name": "stdout",
     "output_type": "stream",
     "text": [
      "File: results/daily/Modis/sst/A20140320_SST_NW_day.nc "
     ]
    },
    {
     "name": "stderr",
     "output_type": "stream",
     "text": [
      "100%|█| 591226/591226 [00:00<00:00, 5181713.58\n"
     ]
    },
    {
     "name": "stdout",
     "output_type": "stream",
     "text": [
      "File: results/daily/Modis/sst/A20140321_SST_NW_day.nc "
     ]
    },
    {
     "name": "stderr",
     "output_type": "stream",
     "text": [
      "100%|█| 1376135/1376135 [00:00<00:00, 6423510.\n"
     ]
    },
    {
     "name": "stdout",
     "output_type": "stream",
     "text": [
      "File: results/daily/Modis/sst/A20140322_SST_NW_day.nc "
     ]
    },
    {
     "name": "stderr",
     "output_type": "stream",
     "text": [
      "100%|█| 1475173/1475173 [00:00<00:00, 7265724.\n"
     ]
    },
    {
     "name": "stdout",
     "output_type": "stream",
     "text": [
      "File: results/daily/Modis/sst/A20140323_SST_NW_day.nc "
     ]
    },
    {
     "name": "stderr",
     "output_type": "stream",
     "text": [
      "100%|█| 1986483/1986483 [00:00<00:00, 9515824.\n"
     ]
    },
    {
     "name": "stdout",
     "output_type": "stream",
     "text": [
      "File: results/daily/Modis/sst/A20140324_SST_NW_day.nc "
     ]
    },
    {
     "name": "stderr",
     "output_type": "stream",
     "text": [
      "100%|█| 689793/689793 [00:00<00:00, 6582189.83\n"
     ]
    },
    {
     "name": "stdout",
     "output_type": "stream",
     "text": [
      "File: results/daily/Modis/sst/A20140325_SST_NW_day.nc "
     ]
    },
    {
     "name": "stderr",
     "output_type": "stream",
     "text": [
      "100%|█| 451637/451637 [00:00<00:00, 4254221.82\n"
     ]
    },
    {
     "name": "stdout",
     "output_type": "stream",
     "text": [
      "File: results/daily/Modis/sst/A20140326_SST_NW_day.nc "
     ]
    },
    {
     "name": "stderr",
     "output_type": "stream",
     "text": [
      "100%|█| 391720/391720 [00:00<00:00, 3791577.18\n"
     ]
    },
    {
     "name": "stdout",
     "output_type": "stream",
     "text": [
      "File: results/daily/Modis/sst/A20140327_SST_NW_day.nc "
     ]
    },
    {
     "name": "stderr",
     "output_type": "stream",
     "text": [
      "100%|█| 869710/869710 [00:00<00:00, 8246978.19\n"
     ]
    },
    {
     "name": "stdout",
     "output_type": "stream",
     "text": [
      "File: results/daily/Modis/sst/A20140328_SST_NW_day.nc "
     ]
    },
    {
     "name": "stderr",
     "output_type": "stream",
     "text": [
      "100%|█| 316118/316118 [00:00<00:00, 2991215.13\n"
     ]
    },
    {
     "name": "stdout",
     "output_type": "stream",
     "text": [
      "File: results/daily/Modis/sst/A20140329_SST_NW_day.nc "
     ]
    },
    {
     "name": "stderr",
     "output_type": "stream",
     "text": [
      "100%|█| 337226/337226 [00:00<00:00, 3319186.93\n"
     ]
    },
    {
     "name": "stdout",
     "output_type": "stream",
     "text": [
      "File: results/daily/Modis/sst/A20140401_SST_NW_day.nc "
     ]
    },
    {
     "name": "stderr",
     "output_type": "stream",
     "text": [
      "100%|█| 994778/994778 [00:00<00:00, 9702897.90\n"
     ]
    },
    {
     "name": "stdout",
     "output_type": "stream",
     "text": [
      "File: results/daily/Modis/sst/A20140402_SST_NW_day.nc "
     ]
    },
    {
     "name": "stderr",
     "output_type": "stream",
     "text": [
      "100%|█| 380014/380014 [00:00<00:00, 3306587.56\n"
     ]
    },
    {
     "name": "stdout",
     "output_type": "stream",
     "text": [
      "File: results/daily/Modis/sst/A20140403_SST_NW_day.nc "
     ]
    },
    {
     "name": "stderr",
     "output_type": "stream",
     "text": [
      "100%|█| 769216/769216 [00:00<00:00, 7520976.06\n"
     ]
    },
    {
     "name": "stdout",
     "output_type": "stream",
     "text": [
      "File: results/daily/Modis/sst/A20140404_SST_NW_day.nc "
     ]
    },
    {
     "name": "stderr",
     "output_type": "stream",
     "text": [
      "100%|█| 1051730/1051730 [00:00<00:00, 5189296.\n"
     ]
    },
    {
     "name": "stdout",
     "output_type": "stream",
     "text": [
      "File: results/daily/Modis/sst/A20140405_SST_NW_day.nc "
     ]
    },
    {
     "name": "stderr",
     "output_type": "stream",
     "text": [
      "100%|█| 1085405/1085405 [00:00<00:00, 5325729.\n"
     ]
    },
    {
     "name": "stdout",
     "output_type": "stream",
     "text": [
      "File: results/daily/Modis/sst/A20140406_SST_NW_day.nc "
     ]
    },
    {
     "name": "stderr",
     "output_type": "stream",
     "text": [
      "100%|█| 1006077/1006077 [00:00<00:00, 9677957.\n"
     ]
    },
    {
     "name": "stdout",
     "output_type": "stream",
     "text": [
      "File: results/daily/Modis/sst/A20140407_SST_NW_day.nc "
     ]
    },
    {
     "name": "stderr",
     "output_type": "stream",
     "text": [
      "100%|█| 1398791/1398791 [00:00<00:00, 6706785.\n"
     ]
    },
    {
     "name": "stdout",
     "output_type": "stream",
     "text": [
      "File: results/daily/Modis/sst/A20140408_SST_NW_day.nc "
     ]
    },
    {
     "name": "stderr",
     "output_type": "stream",
     "text": [
      "100%|█| 1171835/1171835 [00:00<00:00, 5699552.\n"
     ]
    },
    {
     "name": "stdout",
     "output_type": "stream",
     "text": [
      "File: results/daily/Modis/sst/A20140409_SST_NW_day.nc "
     ]
    },
    {
     "name": "stderr",
     "output_type": "stream",
     "text": [
      "100%|█| 1021081/1021081 [00:00<00:00, 10065227\n"
     ]
    },
    {
     "name": "stdout",
     "output_type": "stream",
     "text": [
      "File: results/daily/Modis/sst/A20140410_SST_NW_day.nc "
     ]
    },
    {
     "name": "stderr",
     "output_type": "stream",
     "text": [
      "100%|█| 1451688/1451688 [00:00<00:00, 6885181.\n"
     ]
    },
    {
     "name": "stdout",
     "output_type": "stream",
     "text": [
      "File: results/daily/Modis/sst/A20140411_SST_NW_day.nc "
     ]
    },
    {
     "name": "stderr",
     "output_type": "stream",
     "text": [
      "100%|█| 1118147/1118147 [00:00<00:00, 5419465.\n"
     ]
    },
    {
     "name": "stdout",
     "output_type": "stream",
     "text": [
      "File: results/daily/Modis/sst/A20140412_SST_NW_day.nc "
     ]
    },
    {
     "name": "stderr",
     "output_type": "stream",
     "text": [
      "100%|█| 892028/892028 [00:00<00:00, 8509879.52\n"
     ]
    },
    {
     "name": "stdout",
     "output_type": "stream",
     "text": [
      "File: results/daily/Modis/sst/A20140413_SST_NW_day.nc "
     ]
    },
    {
     "name": "stderr",
     "output_type": "stream",
     "text": [
      "100%|█| 1047082/1047082 [00:00<00:00, 10276295\n"
     ]
    },
    {
     "name": "stdout",
     "output_type": "stream",
     "text": [
      "File: results/daily/Modis/sst/A20140414_SST_NW_day.nc "
     ]
    },
    {
     "name": "stderr",
     "output_type": "stream",
     "text": [
      "100%|█| 1475880/1475880 [00:00<00:00, 7155816.\n"
     ]
    },
    {
     "name": "stdout",
     "output_type": "stream",
     "text": [
      "File: results/daily/Modis/sst/A20140415_SST_NW_day.nc "
     ]
    },
    {
     "name": "stderr",
     "output_type": "stream",
     "text": [
      "100%|█| 969939/969939 [00:00<00:00, 9457521.39\n"
     ]
    },
    {
     "name": "stdout",
     "output_type": "stream",
     "text": [
      "File: results/daily/Modis/sst/A20140416_SST_NW_day.nc "
     ]
    },
    {
     "name": "stderr",
     "output_type": "stream",
     "text": [
      "100%|█| 878824/878824 [00:00<00:00, 8589279.68\n"
     ]
    },
    {
     "name": "stdout",
     "output_type": "stream",
     "text": [
      "File: results/daily/Modis/sst/A20140417_SST_NW_day.nc "
     ]
    },
    {
     "name": "stderr",
     "output_type": "stream",
     "text": [
      "100%|█| 371918/371918 [00:00<00:00, 3643308.43\n"
     ]
    },
    {
     "name": "stdout",
     "output_type": "stream",
     "text": [
      "File: results/daily/Modis/sst/A20140418_SST_NW_day.nc "
     ]
    },
    {
     "name": "stderr",
     "output_type": "stream",
     "text": [
      "100%|█| 544451/544451 [00:00<00:00, 5185176.03\n"
     ]
    },
    {
     "name": "stdout",
     "output_type": "stream",
     "text": [
      "File: results/daily/Modis/sst/A20140419_SST_NW_day.nc "
     ]
    },
    {
     "name": "stderr",
     "output_type": "stream",
     "text": [
      "100%|█| 626238/626238 [00:00<00:00, 6056069.82\n"
     ]
    },
    {
     "name": "stdout",
     "output_type": "stream",
     "text": [
      "File: results/daily/Modis/sst/A20140420_SST_NW_day.nc "
     ]
    },
    {
     "name": "stderr",
     "output_type": "stream",
     "text": [
      "100%|█| 429189/429189 [00:00<00:00, 4169453.73\n"
     ]
    },
    {
     "name": "stdout",
     "output_type": "stream",
     "text": [
      "File: results/daily/Modis/sst/A20140421_SST_NW_day.nc "
     ]
    },
    {
     "name": "stderr",
     "output_type": "stream",
     "text": [
      "100%|█| 498951/498951 [00:00<00:00, 4851161.30\n"
     ]
    },
    {
     "name": "stdout",
     "output_type": "stream",
     "text": [
      "File: results/daily/Modis/sst/A20140422_SST_NW_day.nc "
     ]
    },
    {
     "name": "stderr",
     "output_type": "stream",
     "text": [
      "100%|█| 1351587/1351587 [00:00<00:00, 6608512.\n"
     ]
    },
    {
     "name": "stdout",
     "output_type": "stream",
     "text": [
      "File: results/daily/Modis/sst/A20140423_SST_NW_day.nc "
     ]
    },
    {
     "name": "stderr",
     "output_type": "stream",
     "text": [
      "100%|█| 1033824/1033824 [00:00<00:00, 8882504.\n"
     ]
    },
    {
     "name": "stdout",
     "output_type": "stream",
     "text": [
      "File: results/daily/Modis/sst/A20140424_SST_NW_day.nc "
     ]
    },
    {
     "name": "stderr",
     "output_type": "stream",
     "text": [
      "100%|█| 1169929/1169929 [00:00<00:00, 5401234.\n"
     ]
    },
    {
     "name": "stdout",
     "output_type": "stream",
     "text": [
      "File: results/daily/Modis/sst/A20140425_SST_NW_day.nc "
     ]
    },
    {
     "name": "stderr",
     "output_type": "stream",
     "text": [
      "100%|█| 902503/902503 [00:00<00:00, 8192098.15\n"
     ]
    },
    {
     "name": "stdout",
     "output_type": "stream",
     "text": [
      "File: results/daily/Modis/sst/A20140426_SST_NW_day.nc "
     ]
    },
    {
     "name": "stderr",
     "output_type": "stream",
     "text": [
      "100%|█| 407511/407511 [00:00<00:00, 3852920.80\n"
     ]
    },
    {
     "name": "stdout",
     "output_type": "stream",
     "text": [
      "File: results/daily/Modis/sst/A20140427_SST_NW_day.nc "
     ]
    },
    {
     "name": "stderr",
     "output_type": "stream",
     "text": [
      "100%|█| 495228/495228 [00:00<00:00, 4772953.32\n"
     ]
    },
    {
     "name": "stdout",
     "output_type": "stream",
     "text": [
      "File: results/daily/Modis/sst/A20140428_SST_NW_day.nc "
     ]
    },
    {
     "name": "stderr",
     "output_type": "stream",
     "text": [
      "100%|█| 736996/736996 [00:00<00:00, 6557081.52\n"
     ]
    },
    {
     "name": "stdout",
     "output_type": "stream",
     "text": [
      "File: results/daily/Modis/sst/A20140429_SST_NW_day.nc "
     ]
    },
    {
     "name": "stderr",
     "output_type": "stream",
     "text": [
      "100%|█| 519756/519756 [00:00<00:00, 4687125.05\n"
     ]
    },
    {
     "name": "stdout",
     "output_type": "stream",
     "text": [
      "File: results/daily/Modis/sst/A20140501_SST_NW_day.nc "
     ]
    },
    {
     "name": "stderr",
     "output_type": "stream",
     "text": [
      "100%|█| 798982/798982 [00:00<00:00, 7103736.31\n"
     ]
    },
    {
     "name": "stdout",
     "output_type": "stream",
     "text": [
      "File: results/daily/Modis/sst/A20140502_SST_NW_day.nc "
     ]
    },
    {
     "name": "stderr",
     "output_type": "stream",
     "text": [
      "100%|█| 1109593/1109593 [00:00<00:00, 5398636.\n"
     ]
    },
    {
     "name": "stdout",
     "output_type": "stream",
     "text": [
      "File: results/daily/Modis/sst/A20140503_SST_NW_day.nc "
     ]
    },
    {
     "name": "stderr",
     "output_type": "stream",
     "text": [
      "100%|█| 873686/873686 [00:00<00:00, 8431611.16\n"
     ]
    },
    {
     "name": "stdout",
     "output_type": "stream",
     "text": [
      "File: results/daily/Modis/sst/A20140504_SST_NW_day.nc "
     ]
    },
    {
     "name": "stderr",
     "output_type": "stream",
     "text": [
      "100%|█| 788955/788955 [00:00<00:00, 7676536.96\n"
     ]
    },
    {
     "name": "stdout",
     "output_type": "stream",
     "text": [
      "File: results/daily/Modis/sst/A20140505_SST_NW_day.nc "
     ]
    },
    {
     "name": "stderr",
     "output_type": "stream",
     "text": [
      "100%|█| 1197636/1197636 [00:00<00:00, 5713302.\n"
     ]
    },
    {
     "name": "stdout",
     "output_type": "stream",
     "text": [
      "File: results/daily/Modis/sst/A20140506_SST_NW_day.nc "
     ]
    },
    {
     "name": "stderr",
     "output_type": "stream",
     "text": [
      "100%|█| 1285028/1285028 [00:00<00:00, 6086577.\n"
     ]
    },
    {
     "name": "stdout",
     "output_type": "stream",
     "text": [
      "File: results/daily/Modis/sst/A20140507_SST_NW_day.nc "
     ]
    },
    {
     "name": "stderr",
     "output_type": "stream",
     "text": [
      "100%|█| 601719/601719 [00:00<00:00, 5848339.46\n"
     ]
    },
    {
     "name": "stdout",
     "output_type": "stream",
     "text": [
      "File: results/daily/Modis/sst/A20140508_SST_NW_day.nc "
     ]
    },
    {
     "name": "stderr",
     "output_type": "stream",
     "text": [
      "100%|█| 679264/679264 [00:00<00:00, 5861268.87\n"
     ]
    },
    {
     "name": "stdout",
     "output_type": "stream",
     "text": [
      "File: results/daily/Modis/sst/A20140509_SST_NW_day.nc "
     ]
    },
    {
     "name": "stderr",
     "output_type": "stream",
     "text": [
      "100%|█| 1012883/1012883 [00:00<00:00, 9134386.\n"
     ]
    },
    {
     "name": "stdout",
     "output_type": "stream",
     "text": [
      "File: results/daily/Modis/sst/A20140510_SST_NW_day.nc "
     ]
    },
    {
     "name": "stderr",
     "output_type": "stream",
     "text": [
      "100%|█| 999102/999102 [00:00<00:00, 9103669.71\n"
     ]
    },
    {
     "name": "stdout",
     "output_type": "stream",
     "text": [
      "File: results/daily/Modis/sst/A20140511_SST_NW_day.nc "
     ]
    },
    {
     "name": "stderr",
     "output_type": "stream",
     "text": [
      "100%|█| 554258/554258 [00:00<00:00, 5398306.12\n"
     ]
    },
    {
     "name": "stdout",
     "output_type": "stream",
     "text": [
      "File: results/daily/Modis/sst/A20140512_SST_NW_day.nc "
     ]
    },
    {
     "name": "stderr",
     "output_type": "stream",
     "text": [
      "100%|█| 469833/469833 [00:00<00:00, 4146007.90\n"
     ]
    },
    {
     "name": "stdout",
     "output_type": "stream",
     "text": [
      "File: results/daily/Modis/sst/A20140513_SST_NW_day.nc "
     ]
    },
    {
     "name": "stderr",
     "output_type": "stream",
     "text": [
      "100%|█| 594960/594960 [00:00<00:00, 5416480.78\n"
     ]
    },
    {
     "name": "stdout",
     "output_type": "stream",
     "text": [
      "File: results/daily/Modis/sst/A20140514_SST_NW_day.nc "
     ]
    },
    {
     "name": "stderr",
     "output_type": "stream",
     "text": [
      "100%|█| 374804/374804 [00:00<00:00, 3334928.45\n"
     ]
    },
    {
     "name": "stdout",
     "output_type": "stream",
     "text": [
      "File: results/daily/Modis/sst/A20140515_SST_NW_day.nc "
     ]
    },
    {
     "name": "stderr",
     "output_type": "stream",
     "text": [
      "100%|█| 1041889/1041889 [00:00<00:00, 10151197\n"
     ]
    },
    {
     "name": "stdout",
     "output_type": "stream",
     "text": [
      "File: results/daily/Modis/sst/A20140516_SST_NW_day.nc "
     ]
    },
    {
     "name": "stderr",
     "output_type": "stream",
     "text": [
      "100%|█| 910660/910660 [00:00<00:00, 8928644.62\n"
     ]
    },
    {
     "name": "stdout",
     "output_type": "stream",
     "text": [
      "File: results/daily/Modis/sst/A20140517_SST_NW_day.nc "
     ]
    },
    {
     "name": "stderr",
     "output_type": "stream",
     "text": [
      "100%|█| 787188/787188 [00:00<00:00, 6776107.43\n"
     ]
    },
    {
     "name": "stdout",
     "output_type": "stream",
     "text": [
      "File: results/daily/Modis/sst/A20140518_SST_NW_day.nc "
     ]
    },
    {
     "name": "stderr",
     "output_type": "stream",
     "text": [
      "100%|█| 906131/906131 [00:00<00:00, 8877370.83\n"
     ]
    },
    {
     "name": "stdout",
     "output_type": "stream",
     "text": [
      "File: results/daily/Modis/sst/A20140519_SST_NW_day.nc "
     ]
    },
    {
     "name": "stderr",
     "output_type": "stream",
     "text": [
      "100%|█| 299519/299519 [00:00<00:00, 2958541.73\n"
     ]
    },
    {
     "name": "stdout",
     "output_type": "stream",
     "text": [
      "File: results/daily/Modis/sst/A20140520_SST_NW_day.nc "
     ]
    },
    {
     "name": "stderr",
     "output_type": "stream",
     "text": [
      "100%|█| 369709/369709 [00:00<00:00, 3545251.96\n"
     ]
    },
    {
     "name": "stdout",
     "output_type": "stream",
     "text": [
      "File: results/daily/Modis/sst/A20140521_SST_NW_day.nc "
     ]
    },
    {
     "name": "stderr",
     "output_type": "stream",
     "text": [
      "100%|█| 488903/488903 [00:00<00:00, 4808238.19\n"
     ]
    },
    {
     "name": "stdout",
     "output_type": "stream",
     "text": [
      "File: results/daily/Modis/sst/A20140522_SST_NW_day.nc "
     ]
    },
    {
     "name": "stderr",
     "output_type": "stream",
     "text": [
      "100%|█| 706500/706500 [00:00<00:00, 6177377.80\n"
     ]
    },
    {
     "name": "stdout",
     "output_type": "stream",
     "text": [
      "File: results/daily/Modis/sst/A20140523_SST_NW_day.nc "
     ]
    },
    {
     "name": "stderr",
     "output_type": "stream",
     "text": [
      "100%|█| 927772/927772 [00:00<00:00, 8031814.31\n"
     ]
    },
    {
     "name": "stdout",
     "output_type": "stream",
     "text": [
      "File: results/daily/Modis/sst/A20140524_SST_NW_day.nc "
     ]
    },
    {
     "name": "stderr",
     "output_type": "stream",
     "text": [
      "100%|█| 212335/212335 [00:00<00:00, 1879171.31\n"
     ]
    },
    {
     "name": "stdout",
     "output_type": "stream",
     "text": [
      "File: results/daily/Modis/sst/A20140525_SST_NW_day.nc "
     ]
    },
    {
     "name": "stderr",
     "output_type": "stream",
     "text": [
      "100%|█| 547637/547637 [00:00<00:00, 4939095.64\n"
     ]
    },
    {
     "name": "stdout",
     "output_type": "stream",
     "text": [
      "File: results/daily/Modis/sst/A20140526_SST_NW_day.nc "
     ]
    },
    {
     "name": "stderr",
     "output_type": "stream",
     "text": [
      "100%|█| 476089/476089 [00:00<00:00, 4631639.73\n"
     ]
    },
    {
     "name": "stdout",
     "output_type": "stream",
     "text": [
      "File: results/daily/Modis/sst/A20140527_SST_NW_day.nc "
     ]
    },
    {
     "name": "stderr",
     "output_type": "stream",
     "text": [
      "100%|█| 548378/548378 [00:00<00:00, 5361804.59\n"
     ]
    },
    {
     "name": "stdout",
     "output_type": "stream",
     "text": [
      "File: results/daily/Modis/sst/A20140528_SST_NW_day.nc "
     ]
    },
    {
     "name": "stderr",
     "output_type": "stream",
     "text": [
      "100%|█| 669197/669197 [00:00<00:00, 6592127.10\n"
     ]
    },
    {
     "name": "stdout",
     "output_type": "stream",
     "text": [
      "File: results/daily/Modis/sst/A20140529_SST_NW_day.nc "
     ]
    },
    {
     "name": "stderr",
     "output_type": "stream",
     "text": [
      "100%|█| 223734/223734 [00:00<00:00, 2197816.75\n"
     ]
    },
    {
     "name": "stdout",
     "output_type": "stream",
     "text": [
      "File: results/daily/Modis/sst/A20140601_SST_NW_day.nc "
     ]
    },
    {
     "name": "stderr",
     "output_type": "stream",
     "text": [
      "100%|█| 433754/433754 [00:00<00:00, 3732892.61\n"
     ]
    },
    {
     "name": "stdout",
     "output_type": "stream",
     "text": [
      "File: results/daily/Modis/sst/A20140602_SST_NW_day.nc "
     ]
    },
    {
     "name": "stderr",
     "output_type": "stream",
     "text": [
      "100%|█| 146722/146722 [00:00<00:00, 1455523.22\n"
     ]
    },
    {
     "name": "stdout",
     "output_type": "stream",
     "text": [
      "File: results/daily/Modis/sst/A20140603_SST_NW_day.nc "
     ]
    },
    {
     "name": "stderr",
     "output_type": "stream",
     "text": [
      "100%|█| 319345/319345 [00:00<00:00, 3097664.22\n"
     ]
    },
    {
     "name": "stdout",
     "output_type": "stream",
     "text": [
      "File: results/daily/Modis/sst/A20140604_SST_NW_day.nc "
     ]
    },
    {
     "name": "stderr",
     "output_type": "stream",
     "text": [
      "100%|█| 253057/253057 [00:00<00:00, 2491111.84\n"
     ]
    },
    {
     "name": "stdout",
     "output_type": "stream",
     "text": [
      "File: results/daily/Modis/sst/A20140605_SST_NW_day.nc "
     ]
    },
    {
     "name": "stderr",
     "output_type": "stream",
     "text": [
      "100%|█| 525001/525001 [00:00<00:00, 4633106.93\n"
     ]
    },
    {
     "name": "stdout",
     "output_type": "stream",
     "text": [
      "File: results/daily/Modis/sst/A20140606_SST_NW_day.nc "
     ]
    },
    {
     "name": "stderr",
     "output_type": "stream",
     "text": [
      "100%|█| 53989/53989 [00:00<00:00, 481926.71it/\n"
     ]
    },
    {
     "name": "stdout",
     "output_type": "stream",
     "text": [
      "File: results/daily/Modis/sst/A20140607_SST_NW_day.nc "
     ]
    },
    {
     "name": "stderr",
     "output_type": "stream",
     "text": [
      "100%|█| 611548/611548 [00:00<00:00, 5305368.26\n"
     ]
    },
    {
     "name": "stdout",
     "output_type": "stream",
     "text": [
      "File: results/daily/Modis/sst/A20140608_SST_NW_day.nc "
     ]
    },
    {
     "name": "stderr",
     "output_type": "stream",
     "text": [
      "100%|█| 552289/552289 [00:00<00:00, 5462646.35\n"
     ]
    },
    {
     "name": "stdout",
     "output_type": "stream",
     "text": [
      "File: results/daily/Modis/sst/A20140609_SST_NW_day.nc "
     ]
    },
    {
     "name": "stderr",
     "output_type": "stream",
     "text": [
      "100%|█| 357011/357011 [00:00<00:00, 3488699.60\n"
     ]
    },
    {
     "name": "stdout",
     "output_type": "stream",
     "text": [
      "File: results/daily/Modis/sst/A20140610_SST_NW_day.nc "
     ]
    },
    {
     "name": "stderr",
     "output_type": "stream",
     "text": [
      "100%|█| 149539/149539 [00:00<00:00, 1448135.32\n"
     ]
    },
    {
     "name": "stdout",
     "output_type": "stream",
     "text": [
      "File: results/daily/Modis/sst/A20140611_SST_NW_day.nc "
     ]
    },
    {
     "name": "stderr",
     "output_type": "stream",
     "text": [
      "100%|█| 471040/471040 [00:00<00:00, 4227565.20\n"
     ]
    },
    {
     "name": "stdout",
     "output_type": "stream",
     "text": [
      "File: results/daily/Modis/sst/A20140612_SST_NW_day.nc "
     ]
    },
    {
     "name": "stderr",
     "output_type": "stream",
     "text": [
      "100%|█| 740382/740382 [00:00<00:00, 7293767.56\n"
     ]
    },
    {
     "name": "stdout",
     "output_type": "stream",
     "text": [
      "File: results/daily/Modis/sst/A20140613_SST_NW_day.nc "
     ]
    },
    {
     "name": "stderr",
     "output_type": "stream",
     "text": [
      "100%|█| 623582/623582 [00:00<00:00, 6160347.26\n"
     ]
    },
    {
     "name": "stdout",
     "output_type": "stream",
     "text": [
      "File: results/daily/Modis/sst/A20140614_SST_NW_day.nc "
     ]
    },
    {
     "name": "stderr",
     "output_type": "stream",
     "text": [
      "100%|█| 571840/571840 [00:00<00:00, 5532817.38\n"
     ]
    },
    {
     "name": "stdout",
     "output_type": "stream",
     "text": [
      "File: results/daily/Modis/sst/A20140615_SST_NW_day.nc "
     ]
    },
    {
     "name": "stderr",
     "output_type": "stream",
     "text": [
      "100%|█| 517871/517871 [00:00<00:00, 4718517.97\n"
     ]
    },
    {
     "name": "stdout",
     "output_type": "stream",
     "text": [
      "File: results/daily/Modis/sst/A20140616_SST_NW_day.nc "
     ]
    },
    {
     "name": "stderr",
     "output_type": "stream",
     "text": [
      "100%|█| 113128/113128 [00:00<00:00, 997155.02i\n"
     ]
    },
    {
     "name": "stdout",
     "output_type": "stream",
     "text": [
      "File: results/daily/Modis/sst/A20140617_SST_NW_day.nc "
     ]
    },
    {
     "name": "stderr",
     "output_type": "stream",
     "text": [
      "100%|█| 242503/242503 [00:00<00:00, 2269404.70\n"
     ]
    },
    {
     "name": "stdout",
     "output_type": "stream",
     "text": [
      "File: results/daily/Modis/sst/A20140618_SST_NW_day.nc "
     ]
    },
    {
     "name": "stderr",
     "output_type": "stream",
     "text": [
      "100%|█| 471287/471287 [00:00<00:00, 4074260.00\n"
     ]
    },
    {
     "name": "stdout",
     "output_type": "stream",
     "text": [
      "File: results/daily/Modis/sst/A20140619_SST_NW_day.nc "
     ]
    },
    {
     "name": "stderr",
     "output_type": "stream",
     "text": [
      "100%|█| 398539/398539 [00:00<00:00, 3862955.88\n"
     ]
    },
    {
     "name": "stdout",
     "output_type": "stream",
     "text": [
      "File: results/daily/Modis/sst/A20140620_SST_NW_day.nc "
     ]
    },
    {
     "name": "stderr",
     "output_type": "stream",
     "text": [
      "100%|█| 115329/115329 [00:00<00:00, 1021044.39\n"
     ]
    },
    {
     "name": "stdout",
     "output_type": "stream",
     "text": [
      "File: results/daily/Modis/sst/A20140621_SST_NW_day.nc "
     ]
    },
    {
     "name": "stderr",
     "output_type": "stream",
     "text": [
      "100%|█| 167677/167677 [00:00<00:00, 1566089.06\n"
     ]
    },
    {
     "name": "stdout",
     "output_type": "stream",
     "text": [
      "File: results/daily/Modis/sst/A20140622_SST_NW_day.nc "
     ]
    },
    {
     "name": "stderr",
     "output_type": "stream",
     "text": [
      "100%|█| 258382/258382 [00:00<00:00, 2451889.38\n"
     ]
    },
    {
     "name": "stdout",
     "output_type": "stream",
     "text": [
      "File: results/daily/Modis/sst/A20140623_SST_NW_day.nc "
     ]
    },
    {
     "name": "stderr",
     "output_type": "stream",
     "text": [
      "100%|█| 461764/461764 [00:00<00:00, 4570806.25\n"
     ]
    },
    {
     "name": "stdout",
     "output_type": "stream",
     "text": [
      "File: results/daily/Modis/sst/A20140624_SST_NW_day.nc "
     ]
    },
    {
     "name": "stderr",
     "output_type": "stream",
     "text": [
      "100%|█| 690163/690163 [00:00<00:00, 6775664.12\n"
     ]
    },
    {
     "name": "stdout",
     "output_type": "stream",
     "text": [
      "File: results/daily/Modis/sst/A20140625_SST_NW_day.nc "
     ]
    },
    {
     "name": "stderr",
     "output_type": "stream",
     "text": [
      "100%|█| 463517/463517 [00:00<00:00, 4521540.31\n"
     ]
    },
    {
     "name": "stdout",
     "output_type": "stream",
     "text": [
      "File: results/daily/Modis/sst/A20140626_SST_NW_day.nc "
     ]
    },
    {
     "name": "stderr",
     "output_type": "stream",
     "text": [
      "100%|█| 363493/363493 [00:00<00:00, 3533764.17\n"
     ]
    },
    {
     "name": "stdout",
     "output_type": "stream",
     "text": [
      "File: results/daily/Modis/sst/A20140627_SST_NW_day.nc "
     ]
    },
    {
     "name": "stderr",
     "output_type": "stream",
     "text": [
      "100%|█| 525955/525955 [00:00<00:00, 4586643.85\n"
     ]
    },
    {
     "name": "stdout",
     "output_type": "stream",
     "text": [
      "File: results/daily/Modis/sst/A20140628_SST_NW_day.nc "
     ]
    },
    {
     "name": "stderr",
     "output_type": "stream",
     "text": [
      "100%|█| 681667/681667 [00:00<00:00, 6261360.15\n"
     ]
    },
    {
     "name": "stdout",
     "output_type": "stream",
     "text": [
      "File: results/daily/Modis/sst/A20140629_SST_NW_day.nc "
     ]
    },
    {
     "name": "stderr",
     "output_type": "stream",
     "text": [
      "100%|█| 431467/431467 [00:00<00:00, 4180226.75\n"
     ]
    },
    {
     "name": "stdout",
     "output_type": "stream",
     "text": [
      "File: results/daily/Modis/sst/A20140701_SST_NW_day.nc "
     ]
    },
    {
     "name": "stderr",
     "output_type": "stream",
     "text": [
      "100%|█| 527718/527718 [00:00<00:00, 5126030.50\n"
     ]
    },
    {
     "name": "stdout",
     "output_type": "stream",
     "text": [
      "File: results/daily/Modis/sst/A20140702_SST_NW_day.nc "
     ]
    },
    {
     "name": "stderr",
     "output_type": "stream",
     "text": [
      "100%|█| 302541/302541 [00:00<00:00, 2980439.47\n"
     ]
    },
    {
     "name": "stdout",
     "output_type": "stream",
     "text": [
      "File: results/daily/Modis/sst/A20140703_SST_NW_day.nc "
     ]
    },
    {
     "name": "stderr",
     "output_type": "stream",
     "text": [
      "100%|█| 458518/458518 [00:00<00:00, 4167789.36\n"
     ]
    },
    {
     "name": "stdout",
     "output_type": "stream",
     "text": [
      "File: results/daily/Modis/sst/A20140704_SST_NW_day.nc "
     ]
    },
    {
     "name": "stderr",
     "output_type": "stream",
     "text": [
      "100%|█| 331351/331351 [00:00<00:00, 3147661.14\n"
     ]
    },
    {
     "name": "stdout",
     "output_type": "stream",
     "text": [
      "File: results/daily/Modis/sst/A20140705_SST_NW_day.nc "
     ]
    },
    {
     "name": "stderr",
     "output_type": "stream",
     "text": [
      "100%|█| 398573/398573 [00:00<00:00, 3790346.99\n"
     ]
    },
    {
     "name": "stdout",
     "output_type": "stream",
     "text": [
      "File: results/daily/Modis/sst/A20140706_SST_NW_day.nc "
     ]
    },
    {
     "name": "stderr",
     "output_type": "stream",
     "text": [
      "100%|█| 405099/405099 [00:00<00:00, 3599836.35\n"
     ]
    },
    {
     "name": "stdout",
     "output_type": "stream",
     "text": [
      "File: results/daily/Modis/sst/A20140707_SST_NW_day.nc "
     ]
    },
    {
     "name": "stderr",
     "output_type": "stream",
     "text": [
      "100%|█| 512865/512865 [00:00<00:00, 4516855.38\n"
     ]
    },
    {
     "name": "stdout",
     "output_type": "stream",
     "text": [
      "File: results/daily/Modis/sst/A20140708_SST_NW_day.nc "
     ]
    },
    {
     "name": "stderr",
     "output_type": "stream",
     "text": [
      "100%|█| 317076/317076 [00:00<00:00, 2885113.22\n"
     ]
    },
    {
     "name": "stdout",
     "output_type": "stream",
     "text": [
      "File: results/daily/Modis/sst/A20140709_SST_NW_day.nc "
     ]
    },
    {
     "name": "stderr",
     "output_type": "stream",
     "text": [
      "100%|█| 381567/381567 [00:00<00:00, 3458419.85\n"
     ]
    },
    {
     "name": "stdout",
     "output_type": "stream",
     "text": [
      "File: results/daily/Modis/sst/A20140710_SST_NW_day.nc "
     ]
    },
    {
     "name": "stderr",
     "output_type": "stream",
     "text": [
      "100%|█| 443286/443286 [00:00<00:00, 4110505.64\n"
     ]
    },
    {
     "name": "stdout",
     "output_type": "stream",
     "text": [
      "File: results/daily/Modis/sst/A20140711_SST_NW_day.nc "
     ]
    },
    {
     "name": "stderr",
     "output_type": "stream",
     "text": [
      "100%|█| 771434/771434 [00:00<00:00, 6799253.41\n"
     ]
    },
    {
     "name": "stdout",
     "output_type": "stream",
     "text": [
      "File: results/daily/Modis/sst/A20140712_SST_NW_day.nc "
     ]
    },
    {
     "name": "stderr",
     "output_type": "stream",
     "text": [
      "100%|█| 357045/357045 [00:00<00:00, 3438987.54\n"
     ]
    },
    {
     "name": "stdout",
     "output_type": "stream",
     "text": [
      "File: results/daily/Modis/sst/A20140713_SST_NW_day.nc "
     ]
    },
    {
     "name": "stderr",
     "output_type": "stream",
     "text": [
      "100%|█| 696921/696921 [00:00<00:00, 6320623.04\n"
     ]
    },
    {
     "name": "stdout",
     "output_type": "stream",
     "text": [
      "File: results/daily/Modis/sst/A20140714_SST_NW_day.nc "
     ]
    },
    {
     "name": "stderr",
     "output_type": "stream",
     "text": [
      "100%|█| 1162337/1162337 [00:00<00:00, 5358446.\n"
     ]
    },
    {
     "name": "stdout",
     "output_type": "stream",
     "text": [
      "File: results/daily/Modis/sst/A20140715_SST_NW_day.nc "
     ]
    },
    {
     "name": "stderr",
     "output_type": "stream",
     "text": [
      "100%|█| 879893/879893 [00:00<00:00, 8209278.76\n"
     ]
    },
    {
     "name": "stdout",
     "output_type": "stream",
     "text": [
      "File: results/daily/Modis/sst/A20140716_SST_NW_day.nc "
     ]
    },
    {
     "name": "stderr",
     "output_type": "stream",
     "text": [
      "100%|█| 806648/806648 [00:00<00:00, 7368899.27\n"
     ]
    },
    {
     "name": "stdout",
     "output_type": "stream",
     "text": [
      "File: results/daily/Modis/sst/A20140717_SST_NW_day.nc "
     ]
    },
    {
     "name": "stderr",
     "output_type": "stream",
     "text": [
      "100%|█| 657294/657294 [00:00<00:00, 6172871.55\n"
     ]
    },
    {
     "name": "stdout",
     "output_type": "stream",
     "text": [
      "File: results/daily/Modis/sst/A20140718_SST_NW_day.nc "
     ]
    },
    {
     "name": "stderr",
     "output_type": "stream",
     "text": [
      "100%|█| 641491/641491 [00:00<00:00, 6075335.80\n"
     ]
    },
    {
     "name": "stdout",
     "output_type": "stream",
     "text": [
      "File: results/daily/Modis/sst/A20140719_SST_NW_day.nc "
     ]
    },
    {
     "name": "stderr",
     "output_type": "stream",
     "text": [
      "100%|█| 922705/922705 [00:00<00:00, 8837592.02\n"
     ]
    },
    {
     "name": "stdout",
     "output_type": "stream",
     "text": [
      "File: results/daily/Modis/sst/A20140720_SST_NW_day.nc "
     ]
    },
    {
     "name": "stderr",
     "output_type": "stream",
     "text": [
      "100%|█| 1483410/1483410 [00:00<00:00, 6909399.\n"
     ]
    },
    {
     "name": "stdout",
     "output_type": "stream",
     "text": [
      "File: results/daily/Modis/sst/A20140721_SST_NW_day.nc "
     ]
    },
    {
     "name": "stderr",
     "output_type": "stream",
     "text": [
      "100%|█| 1016361/1016361 [00:00<00:00, 10053859\n"
     ]
    },
    {
     "name": "stdout",
     "output_type": "stream",
     "text": [
      "File: results/daily/Modis/sst/A20140722_SST_NW_day.nc "
     ]
    },
    {
     "name": "stderr",
     "output_type": "stream",
     "text": [
      "100%|█| 497212/497212 [00:00<00:00, 4891526.46\n"
     ]
    },
    {
     "name": "stdout",
     "output_type": "stream",
     "text": [
      "File: results/daily/Modis/sst/A20140723_SST_NW_day.nc "
     ]
    },
    {
     "name": "stderr",
     "output_type": "stream",
     "text": [
      "100%|█| 735096/735096 [00:00<00:00, 6605358.24\n"
     ]
    },
    {
     "name": "stdout",
     "output_type": "stream",
     "text": [
      "File: results/daily/Modis/sst/A20140724_SST_NW_day.nc "
     ]
    },
    {
     "name": "stderr",
     "output_type": "stream",
     "text": [
      "100%|█| 1402318/1402318 [00:00<00:00, 6800486.\n"
     ]
    },
    {
     "name": "stdout",
     "output_type": "stream",
     "text": [
      "File: results/daily/Modis/sst/A20140725_SST_NW_day.nc "
     ]
    },
    {
     "name": "stderr",
     "output_type": "stream",
     "text": [
      "100%|█| 1228984/1228984 [00:00<00:00, 6018389.\n"
     ]
    },
    {
     "name": "stdout",
     "output_type": "stream",
     "text": [
      "File: results/daily/Modis/sst/A20140726_SST_NW_day.nc "
     ]
    },
    {
     "name": "stderr",
     "output_type": "stream",
     "text": [
      "100%|█| 1385506/1385506 [00:00<00:00, 6713702.\n"
     ]
    },
    {
     "name": "stdout",
     "output_type": "stream",
     "text": [
      "File: results/daily/Modis/sst/A20140727_SST_NW_day.nc "
     ]
    },
    {
     "name": "stderr",
     "output_type": "stream",
     "text": [
      "100%|█| 1420619/1420619 [00:00<00:00, 6725026.\n"
     ]
    },
    {
     "name": "stdout",
     "output_type": "stream",
     "text": [
      "File: results/daily/Modis/sst/A20140728_SST_NW_day.nc "
     ]
    },
    {
     "name": "stderr",
     "output_type": "stream",
     "text": [
      "100%|█| 1498529/1498529 [00:00<00:00, 7358518.\n"
     ]
    },
    {
     "name": "stdout",
     "output_type": "stream",
     "text": [
      "File: results/daily/Modis/sst/A20140729_SST_NW_day.nc "
     ]
    },
    {
     "name": "stderr",
     "output_type": "stream",
     "text": [
      "100%|█| 1272203/1272203 [00:00<00:00, 5894074.\n"
     ]
    },
    {
     "name": "stdout",
     "output_type": "stream",
     "text": [
      "File: results/daily/Modis/sst/A20140801_SST_NW_day.nc "
     ]
    },
    {
     "name": "stderr",
     "output_type": "stream",
     "text": [
      "100%|█| 789228/789228 [00:00<00:00, 7530202.95\n"
     ]
    },
    {
     "name": "stdout",
     "output_type": "stream",
     "text": [
      "File: results/daily/Modis/sst/A20140802_SST_NW_day.nc "
     ]
    },
    {
     "name": "stderr",
     "output_type": "stream",
     "text": [
      "100%|█| 683340/683340 [00:00<00:00, 6583369.38\n"
     ]
    },
    {
     "name": "stdout",
     "output_type": "stream",
     "text": [
      "File: results/daily/Modis/sst/A20140803_SST_NW_day.nc "
     ]
    },
    {
     "name": "stderr",
     "output_type": "stream",
     "text": [
      "100%|█| 674347/674347 [00:00<00:00, 5940728.16\n"
     ]
    },
    {
     "name": "stdout",
     "output_type": "stream",
     "text": [
      "File: results/daily/Modis/sst/A20140804_SST_NW_day.nc "
     ]
    },
    {
     "name": "stderr",
     "output_type": "stream",
     "text": [
      "100%|█| 769842/769842 [00:00<00:00, 7318151.46\n"
     ]
    },
    {
     "name": "stdout",
     "output_type": "stream",
     "text": [
      "File: results/daily/Modis/sst/A20140805_SST_NW_day.nc "
     ]
    },
    {
     "name": "stderr",
     "output_type": "stream",
     "text": [
      "100%|█| 861484/861484 [00:00<00:00, 8539294.91\n"
     ]
    },
    {
     "name": "stdout",
     "output_type": "stream",
     "text": [
      "File: results/daily/Modis/sst/A20140806_SST_NW_day.nc "
     ]
    },
    {
     "name": "stderr",
     "output_type": "stream",
     "text": [
      "100%|█| 838266/838266 [00:00<00:00, 7847122.42\n"
     ]
    },
    {
     "name": "stdout",
     "output_type": "stream",
     "text": [
      "File: results/daily/Modis/sst/A20140807_SST_NW_day.nc "
     ]
    },
    {
     "name": "stderr",
     "output_type": "stream",
     "text": [
      "100%|█| 787561/787561 [00:00<00:00, 6943027.38\n"
     ]
    },
    {
     "name": "stdout",
     "output_type": "stream",
     "text": [
      "File: results/daily/Modis/sst/A20140808_SST_NW_day.nc "
     ]
    },
    {
     "name": "stderr",
     "output_type": "stream",
     "text": [
      "100%|█| 733375/733375 [00:00<00:00, 7223636.28\n"
     ]
    },
    {
     "name": "stdout",
     "output_type": "stream",
     "text": [
      "File: results/daily/Modis/sst/A20140809_SST_NW_day.nc "
     ]
    },
    {
     "name": "stderr",
     "output_type": "stream",
     "text": [
      "100%|█| 387555/387555 [00:00<00:00, 3384638.66\n"
     ]
    },
    {
     "name": "stdout",
     "output_type": "stream",
     "text": [
      "File: results/daily/Modis/sst/A20140810_SST_NW_day.nc "
     ]
    },
    {
     "name": "stderr",
     "output_type": "stream",
     "text": [
      "100%|█| 463268/463268 [00:00<00:00, 4189014.25\n"
     ]
    },
    {
     "name": "stdout",
     "output_type": "stream",
     "text": [
      "File: results/daily/Modis/sst/A20140811_SST_NW_day.nc "
     ]
    },
    {
     "name": "stderr",
     "output_type": "stream",
     "text": [
      "100%|█| 831180/831180 [00:00<00:00, 7623472.50\n"
     ]
    },
    {
     "name": "stdout",
     "output_type": "stream",
     "text": [
      "File: results/daily/Modis/sst/A20140812_SST_NW_day.nc "
     ]
    },
    {
     "name": "stderr",
     "output_type": "stream",
     "text": [
      "100%|█| 670831/670831 [00:00<00:00, 6252181.29\n"
     ]
    },
    {
     "name": "stdout",
     "output_type": "stream",
     "text": [
      "File: results/daily/Modis/sst/A20140813_SST_NW_day.nc "
     ]
    },
    {
     "name": "stderr",
     "output_type": "stream",
     "text": [
      "100%|█| 296941/296941 [00:00<00:00, 2820879.98\n"
     ]
    },
    {
     "name": "stdout",
     "output_type": "stream",
     "text": [
      "File: results/daily/Modis/sst/A20140814_SST_NW_day.nc "
     ]
    },
    {
     "name": "stderr",
     "output_type": "stream",
     "text": [
      "100%|█| 496980/496980 [00:00<00:00, 4814075.82\n"
     ]
    },
    {
     "name": "stdout",
     "output_type": "stream",
     "text": [
      "File: results/daily/Modis/sst/A20140815_SST_NW_day.nc "
     ]
    },
    {
     "name": "stderr",
     "output_type": "stream",
     "text": [
      "100%|█| 1372545/1372545 [00:00<00:00, 6310262.\n"
     ]
    },
    {
     "name": "stdout",
     "output_type": "stream",
     "text": [
      "File: results/daily/Modis/sst/A20140816_SST_NW_day.nc "
     ]
    },
    {
     "name": "stderr",
     "output_type": "stream",
     "text": [
      "100%|█| 974436/974436 [00:00<00:00, 9476190.15\n"
     ]
    },
    {
     "name": "stdout",
     "output_type": "stream",
     "text": [
      "File: results/daily/Modis/sst/A20140817_SST_NW_day.nc "
     ]
    },
    {
     "name": "stderr",
     "output_type": "stream",
     "text": [
      "100%|█| 491389/491389 [00:00<00:00, 4857963.76\n"
     ]
    },
    {
     "name": "stdout",
     "output_type": "stream",
     "text": [
      "File: results/daily/Modis/sst/A20140818_SST_NW_day.nc "
     ]
    },
    {
     "name": "stderr",
     "output_type": "stream",
     "text": [
      "100%|█| 735318/735318 [00:00<00:00, 6830633.68\n"
     ]
    },
    {
     "name": "stdout",
     "output_type": "stream",
     "text": [
      "File: results/daily/Modis/sst/A20140819_SST_NW_day.nc "
     ]
    },
    {
     "name": "stderr",
     "output_type": "stream",
     "text": [
      "100%|█| 570116/570116 [00:00<00:00, 5265447.55\n"
     ]
    },
    {
     "name": "stdout",
     "output_type": "stream",
     "text": [
      "File: results/daily/Modis/sst/A20140820_SST_NW_day.nc "
     ]
    },
    {
     "name": "stderr",
     "output_type": "stream",
     "text": [
      "100%|█| 616013/616013 [00:00<00:00, 6059356.08\n"
     ]
    },
    {
     "name": "stdout",
     "output_type": "stream",
     "text": [
      "File: results/daily/Modis/sst/A20140821_SST_NW_day.nc "
     ]
    },
    {
     "name": "stderr",
     "output_type": "stream",
     "text": [
      "100%|█| 944283/944283 [00:00<00:00, 9302141.43\n"
     ]
    },
    {
     "name": "stdout",
     "output_type": "stream",
     "text": [
      "File: results/daily/Modis/sst/A20140822_SST_NW_day.nc "
     ]
    },
    {
     "name": "stderr",
     "output_type": "stream",
     "text": [
      "100%|█| 703467/703467 [00:00<00:00, 6976180.12\n"
     ]
    },
    {
     "name": "stdout",
     "output_type": "stream",
     "text": [
      "File: results/daily/Modis/sst/A20140823_SST_NW_day.nc "
     ]
    },
    {
     "name": "stderr",
     "output_type": "stream",
     "text": [
      "100%|█| 574877/574877 [00:00<00:00, 5680944.92\n"
     ]
    },
    {
     "name": "stdout",
     "output_type": "stream",
     "text": [
      "File: results/daily/Modis/sst/A20140824_SST_NW_day.nc "
     ]
    },
    {
     "name": "stderr",
     "output_type": "stream",
     "text": [
      "100%|█| 399975/399975 [00:00<00:00, 3888565.84\n"
     ]
    },
    {
     "name": "stdout",
     "output_type": "stream",
     "text": [
      "File: results/daily/Modis/sst/A20140825_SST_NW_day.nc "
     ]
    },
    {
     "name": "stderr",
     "output_type": "stream",
     "text": [
      "100%|█| 803848/803848 [00:00<00:00, 7975377.55\n"
     ]
    },
    {
     "name": "stdout",
     "output_type": "stream",
     "text": [
      "File: results/daily/Modis/sst/A20140826_SST_NW_day.nc "
     ]
    },
    {
     "name": "stderr",
     "output_type": "stream",
     "text": [
      "100%|█| 783036/783036 [00:00<00:00, 7744124.69\n"
     ]
    },
    {
     "name": "stdout",
     "output_type": "stream",
     "text": [
      "File: results/daily/Modis/sst/A20140827_SST_NW_day.nc "
     ]
    },
    {
     "name": "stderr",
     "output_type": "stream",
     "text": [
      "100%|█| 1112718/1112718 [00:00<00:00, 5150486.\n"
     ]
    },
    {
     "name": "stdout",
     "output_type": "stream",
     "text": [
      "File: results/daily/Modis/sst/A20140828_SST_NW_day.nc "
     ]
    },
    {
     "name": "stderr",
     "output_type": "stream",
     "text": [
      "100%|█| 775845/775845 [00:00<00:00, 7638120.98\n"
     ]
    },
    {
     "name": "stdout",
     "output_type": "stream",
     "text": [
      "File: results/daily/Modis/sst/A20140829_SST_NW_day.nc "
     ]
    },
    {
     "name": "stderr",
     "output_type": "stream",
     "text": [
      "100%|█| 958513/958513 [00:00<00:00, 9442276.95\n"
     ]
    },
    {
     "name": "stdout",
     "output_type": "stream",
     "text": [
      "File: results/daily/Modis/sst/A20140901_SST_NW_day.nc "
     ]
    },
    {
     "name": "stderr",
     "output_type": "stream",
     "text": [
      "100%|█| 722002/722002 [00:00<00:00, 6636997.15\n"
     ]
    },
    {
     "name": "stdout",
     "output_type": "stream",
     "text": [
      "File: results/daily/Modis/sst/A20140902_SST_NW_day.nc "
     ]
    },
    {
     "name": "stderr",
     "output_type": "stream",
     "text": [
      "100%|█| 597206/597206 [00:00<00:00, 5883331.10\n"
     ]
    },
    {
     "name": "stdout",
     "output_type": "stream",
     "text": [
      "File: results/daily/Modis/sst/A20140903_SST_NW_day.nc "
     ]
    },
    {
     "name": "stderr",
     "output_type": "stream",
     "text": [
      "100%|█| 601584/601584 [00:00<00:00, 5543919.32\n"
     ]
    },
    {
     "name": "stdout",
     "output_type": "stream",
     "text": [
      "File: results/daily/Modis/sst/A20140904_SST_NW_day.nc "
     ]
    },
    {
     "name": "stderr",
     "output_type": "stream",
     "text": [
      "100%|█| 1468593/1468593 [00:00<00:00, 7250045.\n"
     ]
    },
    {
     "name": "stdout",
     "output_type": "stream",
     "text": [
      "File: results/daily/Modis/sst/A20140905_SST_NW_day.nc "
     ]
    },
    {
     "name": "stderr",
     "output_type": "stream",
     "text": [
      "100%|█| 1020812/1020812 [00:00<00:00, 10046355\n"
     ]
    },
    {
     "name": "stdout",
     "output_type": "stream",
     "text": [
      "File: results/daily/Modis/sst/A20140906_SST_NW_day.nc "
     ]
    },
    {
     "name": "stderr",
     "output_type": "stream",
     "text": [
      "100%|█| 1180252/1180252 [00:00<00:00, 5526871.\n"
     ]
    },
    {
     "name": "stdout",
     "output_type": "stream",
     "text": [
      "File: results/daily/Modis/sst/A20140907_SST_NW_day.nc "
     ]
    },
    {
     "name": "stderr",
     "output_type": "stream",
     "text": [
      "100%|█| 961853/961853 [00:00<00:00, 8631871.94\n"
     ]
    },
    {
     "name": "stdout",
     "output_type": "stream",
     "text": [
      "File: results/daily/Modis/sst/A20140908_SST_NW_day.nc "
     ]
    },
    {
     "name": "stderr",
     "output_type": "stream",
     "text": [
      "100%|█| 1192756/1192756 [00:00<00:00, 5864519.\n"
     ]
    },
    {
     "name": "stdout",
     "output_type": "stream",
     "text": [
      "File: results/daily/Modis/sst/A20140909_SST_NW_day.nc "
     ]
    },
    {
     "name": "stderr",
     "output_type": "stream",
     "text": [
      "100%|█| 1100541/1100541 [00:00<00:00, 5445371.\n"
     ]
    },
    {
     "name": "stdout",
     "output_type": "stream",
     "text": [
      "File: results/daily/Modis/sst/A20140910_SST_NW_day.nc "
     ]
    },
    {
     "name": "stderr",
     "output_type": "stream",
     "text": [
      "100%|█| 1182825/1182825 [00:00<00:00, 5627515.\n"
     ]
    },
    {
     "name": "stdout",
     "output_type": "stream",
     "text": [
      "File: results/daily/Modis/sst/A20140911_SST_NW_day.nc "
     ]
    },
    {
     "name": "stderr",
     "output_type": "stream",
     "text": [
      "100%|█| 672708/672708 [00:00<00:00, 6639781.28\n"
     ]
    },
    {
     "name": "stdout",
     "output_type": "stream",
     "text": [
      "File: results/daily/Modis/sst/A20140912_SST_NW_day.nc "
     ]
    },
    {
     "name": "stderr",
     "output_type": "stream",
     "text": [
      "100%|█| 657554/657554 [00:00<00:00, 5722997.92\n"
     ]
    },
    {
     "name": "stdout",
     "output_type": "stream",
     "text": [
      "File: results/daily/Modis/sst/A20140913_SST_NW_day.nc "
     ]
    },
    {
     "name": "stderr",
     "output_type": "stream",
     "text": [
      "100%|█| 982139/982139 [00:00<00:00, 9723774.46\n"
     ]
    },
    {
     "name": "stdout",
     "output_type": "stream",
     "text": [
      "File: results/daily/Modis/sst/A20140914_SST_NW_day.nc "
     ]
    },
    {
     "name": "stderr",
     "output_type": "stream",
     "text": [
      "100%|█| 851981/851981 [00:00<00:00, 8366640.17\n"
     ]
    },
    {
     "name": "stdout",
     "output_type": "stream",
     "text": [
      "File: results/daily/Modis/sst/A20140915_SST_NW_day.nc "
     ]
    },
    {
     "name": "stderr",
     "output_type": "stream",
     "text": [
      "100%|█| 777471/777471 [00:00<00:00, 7619842.57\n"
     ]
    },
    {
     "name": "stdout",
     "output_type": "stream",
     "text": [
      "File: results/daily/Modis/sst/A20140916_SST_NW_day.nc "
     ]
    },
    {
     "name": "stderr",
     "output_type": "stream",
     "text": [
      "100%|█| 711267/711267 [00:00<00:00, 6997478.56\n"
     ]
    },
    {
     "name": "stdout",
     "output_type": "stream",
     "text": [
      "File: results/daily/Modis/sst/A20140917_SST_NW_day.nc "
     ]
    },
    {
     "name": "stderr",
     "output_type": "stream",
     "text": [
      "100%|█| 936662/936662 [00:00<00:00, 9139104.60\n"
     ]
    },
    {
     "name": "stdout",
     "output_type": "stream",
     "text": [
      "File: results/daily/Modis/sst/A20140918_SST_NW_day.nc "
     ]
    },
    {
     "name": "stderr",
     "output_type": "stream",
     "text": [
      "100%|█| 1048208/1048208 [00:00<00:00, 9791875.\n"
     ]
    },
    {
     "name": "stdout",
     "output_type": "stream",
     "text": [
      "File: results/daily/Modis/sst/A20140919_SST_NW_day.nc "
     ]
    },
    {
     "name": "stderr",
     "output_type": "stream",
     "text": [
      "100%|█| 1040018/1040018 [00:00<00:00, 10198185\n"
     ]
    },
    {
     "name": "stdout",
     "output_type": "stream",
     "text": [
      "File: results/daily/Modis/sst/A20140920_SST_NW_day.nc "
     ]
    },
    {
     "name": "stderr",
     "output_type": "stream",
     "text": [
      "100%|█| 1310734/1310734 [00:00<00:00, 6491137.\n"
     ]
    },
    {
     "name": "stdout",
     "output_type": "stream",
     "text": [
      "File: results/daily/Modis/sst/A20140921_SST_NW_day.nc "
     ]
    },
    {
     "name": "stderr",
     "output_type": "stream",
     "text": [
      "100%|█| 1123303/1123303 [00:00<00:00, 5362308.\n"
     ]
    },
    {
     "name": "stdout",
     "output_type": "stream",
     "text": [
      "File: results/daily/Modis/sst/A20140922_SST_NW_day.nc "
     ]
    },
    {
     "name": "stderr",
     "output_type": "stream",
     "text": [
      "100%|█| 943084/943084 [00:00<00:00, 9267540.71\n"
     ]
    },
    {
     "name": "stdout",
     "output_type": "stream",
     "text": [
      "File: results/daily/Modis/sst/A20140923_SST_NW_day.nc "
     ]
    },
    {
     "name": "stderr",
     "output_type": "stream",
     "text": [
      "100%|█| 219015/219015 [00:00<00:00, 2050847.23\n"
     ]
    },
    {
     "name": "stdout",
     "output_type": "stream",
     "text": [
      "File: results/daily/Modis/sst/A20140924_SST_NW_day.nc "
     ]
    },
    {
     "name": "stderr",
     "output_type": "stream",
     "text": [
      "100%|█| 512571/512571 [00:00<00:00, 5049970.75\n"
     ]
    },
    {
     "name": "stdout",
     "output_type": "stream",
     "text": [
      "File: results/daily/Modis/sst/A20140925_SST_NW_day.nc "
     ]
    },
    {
     "name": "stderr",
     "output_type": "stream",
     "text": [
      "100%|█| 1155332/1155332 [00:00<00:00, 5692953.\n"
     ]
    },
    {
     "name": "stdout",
     "output_type": "stream",
     "text": [
      "File: results/daily/Modis/sst/A20140926_SST_NW_day.nc "
     ]
    },
    {
     "name": "stderr",
     "output_type": "stream",
     "text": [
      "100%|█| 906285/906285 [00:00<00:00, 7844762.95\n"
     ]
    },
    {
     "name": "stdout",
     "output_type": "stream",
     "text": [
      "File: results/daily/Modis/sst/A20140927_SST_NW_day.nc "
     ]
    },
    {
     "name": "stderr",
     "output_type": "stream",
     "text": [
      "100%|█| 980491/980491 [00:00<00:00, 9679059.04\n"
     ]
    },
    {
     "name": "stdout",
     "output_type": "stream",
     "text": [
      "File: results/daily/Modis/sst/A20140928_SST_NW_day.nc "
     ]
    },
    {
     "name": "stderr",
     "output_type": "stream",
     "text": [
      "100%|█| 1414703/1414703 [00:00<00:00, 6621392.\n"
     ]
    },
    {
     "name": "stdout",
     "output_type": "stream",
     "text": [
      "File: results/daily/Modis/sst/A20140929_SST_NW_day.nc "
     ]
    },
    {
     "name": "stderr",
     "output_type": "stream",
     "text": [
      "100%|█| 1045219/1045219 [00:00<00:00, 10235665\n"
     ]
    },
    {
     "name": "stdout",
     "output_type": "stream",
     "text": [
      "File: results/daily/Modis/sst/A20141001_SST_NW_day.nc "
     ]
    },
    {
     "name": "stderr",
     "output_type": "stream",
     "text": [
      "100%|█| 763224/763224 [00:00<00:00, 7557024.77\n"
     ]
    },
    {
     "name": "stdout",
     "output_type": "stream",
     "text": [
      "File: results/daily/Modis/sst/A20141002_SST_NW_day.nc "
     ]
    },
    {
     "name": "stderr",
     "output_type": "stream",
     "text": [
      "100%|█| 796412/796412 [00:00<00:00, 7879402.83\n"
     ]
    },
    {
     "name": "stdout",
     "output_type": "stream",
     "text": [
      "File: results/daily/Modis/sst/A20141003_SST_NW_day.nc "
     ]
    },
    {
     "name": "stderr",
     "output_type": "stream",
     "text": [
      "100%|█| 873171/873171 [00:00<00:00, 8029221.29\n"
     ]
    },
    {
     "name": "stdout",
     "output_type": "stream",
     "text": [
      "File: results/daily/Modis/sst/A20141004_SST_NW_day.nc "
     ]
    },
    {
     "name": "stderr",
     "output_type": "stream",
     "text": [
      "100%|█| 975545/975545 [00:00<00:00, 9334693.70\n"
     ]
    },
    {
     "name": "stdout",
     "output_type": "stream",
     "text": [
      "File: results/daily/Modis/sst/A20141005_SST_NW_day.nc "
     ]
    },
    {
     "name": "stderr",
     "output_type": "stream",
     "text": [
      "100%|█| 814251/814251 [00:00<00:00, 7866678.55\n"
     ]
    },
    {
     "name": "stdout",
     "output_type": "stream",
     "text": [
      "File: results/daily/Modis/sst/A20141006_SST_NW_day.nc "
     ]
    },
    {
     "name": "stderr",
     "output_type": "stream",
     "text": [
      "100%|█| 1560542/1560542 [00:00<00:00, 7309125.\n"
     ]
    },
    {
     "name": "stdout",
     "output_type": "stream",
     "text": [
      "File: results/daily/Modis/sst/A20141007_SST_NW_day.nc "
     ]
    },
    {
     "name": "stderr",
     "output_type": "stream",
     "text": [
      "100%|█| 1459975/1459975 [00:00<00:00, 6790034.\n"
     ]
    },
    {
     "name": "stdout",
     "output_type": "stream",
     "text": [
      "File: results/daily/Modis/sst/A20141008_SST_NW_day.nc "
     ]
    },
    {
     "name": "stderr",
     "output_type": "stream",
     "text": [
      "100%|█| 1425792/1425792 [00:00<00:00, 7050765.\n"
     ]
    },
    {
     "name": "stdout",
     "output_type": "stream",
     "text": [
      "File: results/daily/Modis/sst/A20141009_SST_NW_day.nc "
     ]
    },
    {
     "name": "stderr",
     "output_type": "stream",
     "text": [
      "100%|█| 1083305/1083305 [00:00<00:00, 5261902.\n"
     ]
    },
    {
     "name": "stdout",
     "output_type": "stream",
     "text": [
      "File: results/daily/Modis/sst/A20141010_SST_NW_day.nc "
     ]
    },
    {
     "name": "stderr",
     "output_type": "stream",
     "text": [
      "100%|█| 1251442/1251442 [00:00<00:00, 6180648.\n"
     ]
    },
    {
     "name": "stdout",
     "output_type": "stream",
     "text": [
      "File: results/daily/Modis/sst/A20141011_SST_NW_day.nc "
     ]
    },
    {
     "name": "stderr",
     "output_type": "stream",
     "text": [
      "100%|█| 1155202/1155202 [00:00<00:00, 5634288.\n"
     ]
    },
    {
     "name": "stdout",
     "output_type": "stream",
     "text": [
      "File: results/daily/Modis/sst/A20141012_SST_NW_day.nc "
     ]
    },
    {
     "name": "stderr",
     "output_type": "stream",
     "text": [
      "100%|█| 336582/336582 [00:00<00:00, 3192862.23\n"
     ]
    },
    {
     "name": "stdout",
     "output_type": "stream",
     "text": [
      "File: results/daily/Modis/sst/A20141013_SST_NW_day.nc "
     ]
    },
    {
     "name": "stderr",
     "output_type": "stream",
     "text": [
      "100%|█| 740873/740873 [00:00<00:00, 6767839.17\n"
     ]
    },
    {
     "name": "stdout",
     "output_type": "stream",
     "text": [
      "File: results/daily/Modis/sst/A20141014_SST_NW_day.nc "
     ]
    },
    {
     "name": "stderr",
     "output_type": "stream",
     "text": [
      "100%|█| 1565151/1565151 [00:00<00:00, 7195860.\n"
     ]
    },
    {
     "name": "stdout",
     "output_type": "stream",
     "text": [
      "File: results/daily/Modis/sst/A20141015_SST_NW_day.nc "
     ]
    },
    {
     "name": "stderr",
     "output_type": "stream",
     "text": [
      "100%|█| 1011683/1011683 [00:00<00:00, 9916931.\n"
     ]
    },
    {
     "name": "stdout",
     "output_type": "stream",
     "text": [
      "File: results/daily/Modis/sst/A20141016_SST_NW_day.nc "
     ]
    },
    {
     "name": "stderr",
     "output_type": "stream",
     "text": [
      "100%|█| 1080024/1080024 [00:00<00:00, 5319663.\n"
     ]
    },
    {
     "name": "stdout",
     "output_type": "stream",
     "text": [
      "File: results/daily/Modis/sst/A20141017_SST_NW_day.nc "
     ]
    },
    {
     "name": "stderr",
     "output_type": "stream",
     "text": [
      "100%|█| 1432985/1432985 [00:00<00:00, 7064704.\n"
     ]
    },
    {
     "name": "stdout",
     "output_type": "stream",
     "text": [
      "File: results/daily/Modis/sst/A20141018_SST_NW_day.nc "
     ]
    },
    {
     "name": "stderr",
     "output_type": "stream",
     "text": [
      "100%|█| 1688569/1688569 [00:00<00:00, 8308810.\n"
     ]
    },
    {
     "name": "stdout",
     "output_type": "stream",
     "text": [
      "File: results/daily/Modis/sst/A20141019_SST_NW_day.nc "
     ]
    },
    {
     "name": "stderr",
     "output_type": "stream",
     "text": [
      "100%|█| 525352/525352 [00:00<00:00, 5167310.77\n"
     ]
    },
    {
     "name": "stdout",
     "output_type": "stream",
     "text": [
      "File: results/daily/Modis/sst/A20141020_SST_NW_day.nc "
     ]
    },
    {
     "name": "stderr",
     "output_type": "stream",
     "text": [
      "100%|█| 430217/430217 [00:00<00:00, 3964959.25\n"
     ]
    },
    {
     "name": "stdout",
     "output_type": "stream",
     "text": [
      "File: results/daily/Modis/sst/A20141021_SST_NW_day.nc "
     ]
    },
    {
     "name": "stderr",
     "output_type": "stream",
     "text": [
      "100%|█| 785803/785803 [00:00<00:00, 7522662.65\n"
     ]
    },
    {
     "name": "stdout",
     "output_type": "stream",
     "text": [
      "File: results/daily/Modis/sst/A20141022_SST_NW_day.nc "
     ]
    },
    {
     "name": "stderr",
     "output_type": "stream",
     "text": [
      "100%|█| 1236934/1236934 [00:00<00:00, 6049466.\n"
     ]
    },
    {
     "name": "stdout",
     "output_type": "stream",
     "text": [
      "File: results/daily/Modis/sst/A20141023_SST_NW_day.nc "
     ]
    },
    {
     "name": "stderr",
     "output_type": "stream",
     "text": [
      "100%|█| 1317258/1317258 [00:00<00:00, 6495185.\n"
     ]
    },
    {
     "name": "stdout",
     "output_type": "stream",
     "text": [
      "File: results/daily/Modis/sst/A20141024_SST_NW_day.nc "
     ]
    },
    {
     "name": "stderr",
     "output_type": "stream",
     "text": [
      "100%|█| 1556388/1556388 [00:00<00:00, 7543831.\n"
     ]
    },
    {
     "name": "stdout",
     "output_type": "stream",
     "text": [
      "File: results/daily/Modis/sst/A20141025_SST_NW_day.nc "
     ]
    },
    {
     "name": "stderr",
     "output_type": "stream",
     "text": [
      "100%|█| 1454120/1454120 [00:00<00:00, 7175352.\n"
     ]
    },
    {
     "name": "stdout",
     "output_type": "stream",
     "text": [
      "File: results/daily/Modis/sst/A20141026_SST_NW_day.nc "
     ]
    },
    {
     "name": "stderr",
     "output_type": "stream",
     "text": [
      "100%|█| 1077053/1077053 [00:00<00:00, 5308658.\n"
     ]
    },
    {
     "name": "stdout",
     "output_type": "stream",
     "text": [
      "File: results/daily/Modis/sst/A20141027_SST_NW_day.nc "
     ]
    },
    {
     "name": "stderr",
     "output_type": "stream",
     "text": [
      "100%|█| 1205809/1205809 [00:00<00:00, 5910828.\n"
     ]
    },
    {
     "name": "stdout",
     "output_type": "stream",
     "text": [
      "File: results/daily/Modis/sst/A20141028_SST_NW_day.nc "
     ]
    },
    {
     "name": "stderr",
     "output_type": "stream",
     "text": [
      "100%|█| 1194620/1194620 [00:00<00:00, 5727263.\n"
     ]
    },
    {
     "name": "stdout",
     "output_type": "stream",
     "text": [
      "File: results/daily/Modis/sst/A20141029_SST_NW_day.nc "
     ]
    },
    {
     "name": "stderr",
     "output_type": "stream",
     "text": [
      "100%|█| 1070520/1070520 [00:00<00:00, 5267204.\n"
     ]
    },
    {
     "name": "stdout",
     "output_type": "stream",
     "text": [
      "File: results/daily/Modis/sst/A20141101_SST_NW_day.nc "
     ]
    },
    {
     "name": "stderr",
     "output_type": "stream",
     "text": [
      "100%|█| 389991/389991 [00:00<00:00, 3852899.58\n"
     ]
    },
    {
     "name": "stdout",
     "output_type": "stream",
     "text": [
      "File: results/daily/Modis/sst/A20141102_SST_NW_day.nc "
     ]
    },
    {
     "name": "stderr",
     "output_type": "stream",
     "text": [
      "100%|█| 636240/636240 [00:00<00:00, 6279198.42\n"
     ]
    },
    {
     "name": "stdout",
     "output_type": "stream",
     "text": [
      "File: results/daily/Modis/sst/A20141103_SST_NW_day.nc "
     ]
    },
    {
     "name": "stderr",
     "output_type": "stream",
     "text": [
      "100%|█| 957718/957718 [00:00<00:00, 9478971.06\n"
     ]
    },
    {
     "name": "stdout",
     "output_type": "stream",
     "text": [
      "File: results/daily/Modis/sst/A20141104_SST_NW_day.nc "
     ]
    },
    {
     "name": "stderr",
     "output_type": "stream",
     "text": [
      "100%|█| 1591864/1591864 [00:00<00:00, 7498322.\n"
     ]
    },
    {
     "name": "stdout",
     "output_type": "stream",
     "text": [
      "File: results/daily/Modis/sst/A20141105_SST_NW_day.nc "
     ]
    },
    {
     "name": "stderr",
     "output_type": "stream",
     "text": [
      "100%|█| 659361/659361 [00:00<00:00, 6508380.29\n"
     ]
    },
    {
     "name": "stdout",
     "output_type": "stream",
     "text": [
      "File: results/daily/Modis/sst/A20141106_SST_NW_day.nc "
     ]
    },
    {
     "name": "stderr",
     "output_type": "stream",
     "text": [
      "100%|█| 1128754/1128754 [00:00<00:00, 5581266.\n"
     ]
    },
    {
     "name": "stdout",
     "output_type": "stream",
     "text": [
      "File: results/daily/Modis/sst/A20141107_SST_NW_day.nc "
     ]
    },
    {
     "name": "stderr",
     "output_type": "stream",
     "text": [
      "100%|█| 893337/893337 [00:00<00:00, 8542262.92\n"
     ]
    },
    {
     "name": "stdout",
     "output_type": "stream",
     "text": [
      "File: results/daily/Modis/sst/A20141108_SST_NW_day.nc "
     ]
    },
    {
     "name": "stderr",
     "output_type": "stream",
     "text": [
      "100%|█| 637658/637658 [00:00<00:00, 6301867.56\n"
     ]
    },
    {
     "name": "stdout",
     "output_type": "stream",
     "text": [
      "File: results/daily/Modis/sst/A20141109_SST_NW_day.nc "
     ]
    },
    {
     "name": "stderr",
     "output_type": "stream",
     "text": [
      "100%|█| 894712/894712 [00:00<00:00, 8804862.71\n"
     ]
    },
    {
     "name": "stdout",
     "output_type": "stream",
     "text": [
      "File: results/daily/Modis/sst/A20141110_SST_NW_day.nc "
     ]
    },
    {
     "name": "stderr",
     "output_type": "stream",
     "text": [
      "100%|█| 1135535/1135535 [00:00<00:00, 5597559.\n"
     ]
    },
    {
     "name": "stdout",
     "output_type": "stream",
     "text": [
      "File: results/daily/Modis/sst/A20141111_SST_NW_day.nc "
     ]
    },
    {
     "name": "stderr",
     "output_type": "stream",
     "text": [
      "100%|█| 493522/493522 [00:00<00:00, 4512151.96\n"
     ]
    },
    {
     "name": "stdout",
     "output_type": "stream",
     "text": [
      "File: results/daily/Modis/sst/A20141112_SST_NW_day.nc "
     ]
    },
    {
     "name": "stderr",
     "output_type": "stream",
     "text": [
      "100%|█| 651438/651438 [00:00<00:00, 6259559.48\n"
     ]
    },
    {
     "name": "stdout",
     "output_type": "stream",
     "text": [
      "File: results/daily/Modis/sst/A20141113_SST_NW_day.nc "
     ]
    },
    {
     "name": "stderr",
     "output_type": "stream",
     "text": [
      "100%|█| 647682/647682 [00:00<00:00, 6420751.95\n"
     ]
    },
    {
     "name": "stdout",
     "output_type": "stream",
     "text": [
      "File: results/daily/Modis/sst/A20141114_SST_NW_day.nc "
     ]
    },
    {
     "name": "stderr",
     "output_type": "stream",
     "text": [
      "100%|█| 749145/749145 [00:00<00:00, 7377253.33\n"
     ]
    },
    {
     "name": "stdout",
     "output_type": "stream",
     "text": [
      "File: results/daily/Modis/sst/A20141115_SST_NW_day.nc "
     ]
    },
    {
     "name": "stderr",
     "output_type": "stream",
     "text": [
      "100%|█| 742998/742998 [00:00<00:00, 7032020.62\n"
     ]
    },
    {
     "name": "stdout",
     "output_type": "stream",
     "text": [
      "File: results/daily/Modis/sst/A20141116_SST_NW_day.nc "
     ]
    },
    {
     "name": "stderr",
     "output_type": "stream",
     "text": [
      "100%|█| 448009/448009 [00:00<00:00, 4370272.21\n"
     ]
    },
    {
     "name": "stdout",
     "output_type": "stream",
     "text": [
      "File: results/daily/Modis/sst/A20141117_SST_NW_day.nc "
     ]
    },
    {
     "name": "stderr",
     "output_type": "stream",
     "text": [
      "100%|█| 589422/589422 [00:00<00:00, 5834741.67\n"
     ]
    },
    {
     "name": "stdout",
     "output_type": "stream",
     "text": [
      "File: results/daily/Modis/sst/A20141118_SST_NW_day.nc "
     ]
    },
    {
     "name": "stderr",
     "output_type": "stream",
     "text": [
      "100%|█| 1025291/1025291 [00:00<00:00, 10001772\n"
     ]
    },
    {
     "name": "stdout",
     "output_type": "stream",
     "text": [
      "File: results/daily/Modis/sst/A20141119_SST_NW_day.nc "
     ]
    },
    {
     "name": "stderr",
     "output_type": "stream",
     "text": [
      "100%|█| 834127/834127 [00:00<00:00, 8217456.75\n"
     ]
    },
    {
     "name": "stdout",
     "output_type": "stream",
     "text": [
      "File: results/daily/Modis/sst/A20141120_SST_NW_day.nc "
     ]
    },
    {
     "name": "stderr",
     "output_type": "stream",
     "text": [
      "100%|█| 948930/948930 [00:00<00:00, 9336297.32\n"
     ]
    },
    {
     "name": "stdout",
     "output_type": "stream",
     "text": [
      "File: results/daily/Modis/sst/A20141121_SST_NW_day.nc "
     ]
    },
    {
     "name": "stderr",
     "output_type": "stream",
     "text": [
      "100%|█| 876805/876805 [00:00<00:00, 8596107.52\n"
     ]
    },
    {
     "name": "stdout",
     "output_type": "stream",
     "text": [
      "File: results/daily/Modis/sst/A20141122_SST_NW_day.nc "
     ]
    },
    {
     "name": "stderr",
     "output_type": "stream",
     "text": [
      "100%|█| 1184942/1184942 [00:00<00:00, 5850983.\n"
     ]
    },
    {
     "name": "stdout",
     "output_type": "stream",
     "text": [
      "File: results/daily/Modis/sst/A20141123_SST_NW_day.nc "
     ]
    },
    {
     "name": "stderr",
     "output_type": "stream",
     "text": [
      "100%|█| 630212/630212 [00:00<00:00, 6208560.20\n"
     ]
    },
    {
     "name": "stdout",
     "output_type": "stream",
     "text": [
      "File: results/daily/Modis/sst/A20141124_SST_NW_day.nc "
     ]
    },
    {
     "name": "stderr",
     "output_type": "stream",
     "text": [
      "100%|█| 741380/741380 [00:00<00:00, 7328989.78\n"
     ]
    },
    {
     "name": "stdout",
     "output_type": "stream",
     "text": [
      "File: results/daily/Modis/sst/A20141125_SST_NW_day.nc "
     ]
    },
    {
     "name": "stderr",
     "output_type": "stream",
     "text": [
      "100%|█| 546231/546231 [00:00<00:00, 5381141.99\n"
     ]
    },
    {
     "name": "stdout",
     "output_type": "stream",
     "text": [
      "File: results/daily/Modis/sst/A20141126_SST_NW_day.nc "
     ]
    },
    {
     "name": "stderr",
     "output_type": "stream",
     "text": [
      "100%|█| 882810/882810 [00:00<00:00, 8612122.63\n"
     ]
    },
    {
     "name": "stdout",
     "output_type": "stream",
     "text": [
      "File: results/daily/Modis/sst/A20141127_SST_NW_day.nc "
     ]
    },
    {
     "name": "stderr",
     "output_type": "stream",
     "text": [
      "100%|█| 719893/719893 [00:00<00:00, 7123864.79\n"
     ]
    },
    {
     "name": "stdout",
     "output_type": "stream",
     "text": [
      "File: results/daily/Modis/sst/A20141128_SST_NW_day.nc "
     ]
    },
    {
     "name": "stderr",
     "output_type": "stream",
     "text": [
      "100%|█| 330398/330398 [00:00<00:00, 3230376.80\n"
     ]
    },
    {
     "name": "stdout",
     "output_type": "stream",
     "text": [
      "File: results/daily/Modis/sst/A20141129_SST_NW_day.nc "
     ]
    },
    {
     "name": "stderr",
     "output_type": "stream",
     "text": [
      "100%|█| 758989/758989 [00:00<00:00, 7477159.58\n"
     ]
    },
    {
     "name": "stdout",
     "output_type": "stream",
     "text": [
      "File: results/daily/Modis/sst/A20141201_SST_NW_day.nc "
     ]
    },
    {
     "name": "stderr",
     "output_type": "stream",
     "text": [
      "100%|█| 420881/420881 [00:00<00:00, 4146473.08\n"
     ]
    },
    {
     "name": "stdout",
     "output_type": "stream",
     "text": [
      "File: results/daily/Modis/sst/A20141202_SST_NW_day.nc "
     ]
    },
    {
     "name": "stderr",
     "output_type": "stream",
     "text": [
      "100%|█| 349266/349266 [00:00<00:00, 3438862.19\n"
     ]
    },
    {
     "name": "stdout",
     "output_type": "stream",
     "text": [
      "File: results/daily/Modis/sst/A20141203_SST_NW_day.nc "
     ]
    },
    {
     "name": "stderr",
     "output_type": "stream",
     "text": [
      "100%|█| 386823/386823 [00:00<00:00, 3791451.88\n"
     ]
    },
    {
     "name": "stdout",
     "output_type": "stream",
     "text": [
      "File: results/daily/Modis/sst/A20141204_SST_NW_day.nc "
     ]
    },
    {
     "name": "stderr",
     "output_type": "stream",
     "text": [
      "100%|█| 277184/277184 [00:00<00:00, 2727493.16\n"
     ]
    },
    {
     "name": "stdout",
     "output_type": "stream",
     "text": [
      "File: results/daily/Modis/sst/A20141205_SST_NW_day.nc "
     ]
    },
    {
     "name": "stderr",
     "output_type": "stream",
     "text": [
      "100%|█| 435818/435818 [00:00<00:00, 4293479.48\n"
     ]
    },
    {
     "name": "stdout",
     "output_type": "stream",
     "text": [
      "File: results/daily/Modis/sst/A20141206_SST_NW_day.nc "
     ]
    },
    {
     "name": "stderr",
     "output_type": "stream",
     "text": [
      "100%|█| 406112/406112 [00:00<00:00, 4036047.13\n"
     ]
    },
    {
     "name": "stdout",
     "output_type": "stream",
     "text": [
      "File: results/daily/Modis/sst/A20141207_SST_NW_day.nc "
     ]
    },
    {
     "name": "stderr",
     "output_type": "stream",
     "text": [
      "100%|█| 467546/467546 [00:00<00:00, 4560969.90\n"
     ]
    },
    {
     "name": "stdout",
     "output_type": "stream",
     "text": [
      "File: results/daily/Modis/sst/A20141208_SST_NW_day.nc "
     ]
    },
    {
     "name": "stderr",
     "output_type": "stream",
     "text": [
      "100%|█| 516717/516717 [00:00<00:00, 5065249.21\n"
     ]
    },
    {
     "name": "stdout",
     "output_type": "stream",
     "text": [
      "File: results/daily/Modis/sst/A20141209_SST_NW_day.nc "
     ]
    },
    {
     "name": "stderr",
     "output_type": "stream",
     "text": [
      "100%|█| 345582/345582 [00:00<00:00, 3415482.12\n"
     ]
    },
    {
     "name": "stdout",
     "output_type": "stream",
     "text": [
      "File: results/daily/Modis/sst/A20141210_SST_NW_day.nc "
     ]
    },
    {
     "name": "stderr",
     "output_type": "stream",
     "text": [
      "100%|█| 134455/134455 [00:00<00:00, 1314643.25\n"
     ]
    },
    {
     "name": "stdout",
     "output_type": "stream",
     "text": [
      "File: results/daily/Modis/sst/A20141211_SST_NW_day.nc "
     ]
    },
    {
     "name": "stderr",
     "output_type": "stream",
     "text": [
      "100%|█| 356290/356290 [00:00<00:00, 3509964.80\n"
     ]
    },
    {
     "name": "stdout",
     "output_type": "stream",
     "text": [
      "File: results/daily/Modis/sst/A20141212_SST_NW_day.nc "
     ]
    },
    {
     "name": "stderr",
     "output_type": "stream",
     "text": [
      "100%|█| 414204/414204 [00:00<00:00, 4100871.95\n"
     ]
    },
    {
     "name": "stdout",
     "output_type": "stream",
     "text": [
      "File: results/daily/Modis/sst/A20141213_SST_NW_day.nc "
     ]
    },
    {
     "name": "stderr",
     "output_type": "stream",
     "text": [
      "100%|█| 492685/492685 [00:00<00:00, 4806282.25\n"
     ]
    },
    {
     "name": "stdout",
     "output_type": "stream",
     "text": [
      "File: results/daily/Modis/sst/A20141214_SST_NW_day.nc "
     ]
    },
    {
     "name": "stderr",
     "output_type": "stream",
     "text": [
      "100%|█| 323930/323930 [00:00<00:00, 3207172.49\n"
     ]
    },
    {
     "name": "stdout",
     "output_type": "stream",
     "text": [
      "File: results/daily/Modis/sst/A20141215_SST_NW_day.nc "
     ]
    },
    {
     "name": "stderr",
     "output_type": "stream",
     "text": [
      "100%|█| 125142/125142 [00:00<00:00, 1237807.47\n"
     ]
    },
    {
     "name": "stdout",
     "output_type": "stream",
     "text": [
      "File: results/daily/Modis/sst/A20141216_SST_NW_day.nc "
     ]
    },
    {
     "name": "stderr",
     "output_type": "stream",
     "text": [
      "100%|█| 277896/277896 [00:00<00:00, 2751073.46\n"
     ]
    },
    {
     "name": "stdout",
     "output_type": "stream",
     "text": [
      "File: results/daily/Modis/sst/A20141217_SST_NW_day.nc "
     ]
    },
    {
     "name": "stderr",
     "output_type": "stream",
     "text": [
      "100%|█| 425541/425541 [00:00<00:00, 4077742.59\n"
     ]
    },
    {
     "name": "stdout",
     "output_type": "stream",
     "text": [
      "File: results/daily/Modis/sst/A20141218_SST_NW_day.nc "
     ]
    },
    {
     "name": "stderr",
     "output_type": "stream",
     "text": [
      "100%|█| 448751/448751 [00:00<00:00, 4419840.96\n"
     ]
    },
    {
     "name": "stdout",
     "output_type": "stream",
     "text": [
      "File: results/daily/Modis/sst/A20141219_SST_NW_day.nc "
     ]
    },
    {
     "name": "stderr",
     "output_type": "stream",
     "text": [
      "100%|█| 328731/328731 [00:00<00:00, 3238591.04\n"
     ]
    },
    {
     "name": "stdout",
     "output_type": "stream",
     "text": [
      "File: results/daily/Modis/sst/A20141220_SST_NW_day.nc "
     ]
    },
    {
     "name": "stderr",
     "output_type": "stream",
     "text": [
      "100%|█| 380096/380096 [00:00<00:00, 3763235.27\n"
     ]
    },
    {
     "name": "stdout",
     "output_type": "stream",
     "text": [
      "File: results/daily/Modis/sst/A20141221_SST_NW_day.nc "
     ]
    },
    {
     "name": "stderr",
     "output_type": "stream",
     "text": [
      "100%|█| 350132/350132 [00:00<00:00, 3442088.20\n"
     ]
    },
    {
     "name": "stdout",
     "output_type": "stream",
     "text": [
      "File: results/daily/Modis/sst/A20141222_SST_NW_day.nc "
     ]
    },
    {
     "name": "stderr",
     "output_type": "stream",
     "text": [
      "100%|█| 632749/632749 [00:00<00:00, 6172660.75\n"
     ]
    },
    {
     "name": "stdout",
     "output_type": "stream",
     "text": [
      "File: results/daily/Modis/sst/A20141223_SST_NW_day.nc "
     ]
    },
    {
     "name": "stderr",
     "output_type": "stream",
     "text": [
      "100%|█| 538777/538777 [00:00<00:00, 5275567.29\n"
     ]
    },
    {
     "name": "stdout",
     "output_type": "stream",
     "text": [
      "File: results/daily/Modis/sst/A20141224_SST_NW_day.nc "
     ]
    },
    {
     "name": "stderr",
     "output_type": "stream",
     "text": [
      "100%|█| 604402/604402 [00:00<00:00, 5982804.12\n"
     ]
    },
    {
     "name": "stdout",
     "output_type": "stream",
     "text": [
      "File: results/daily/Modis/sst/A20141225_SST_NW_day.nc "
     ]
    },
    {
     "name": "stderr",
     "output_type": "stream",
     "text": [
      "100%|█| 500608/500608 [00:00<00:00, 4950376.37\n"
     ]
    },
    {
     "name": "stdout",
     "output_type": "stream",
     "text": [
      "File: results/daily/Modis/sst/A20141226_SST_NW_day.nc "
     ]
    },
    {
     "name": "stderr",
     "output_type": "stream",
     "text": [
      "100%|█| 711224/711224 [00:00<00:00, 7006241.94\n"
     ]
    },
    {
     "name": "stdout",
     "output_type": "stream",
     "text": [
      "File: results/daily/Modis/sst/A20141227_SST_NW_day.nc "
     ]
    },
    {
     "name": "stderr",
     "output_type": "stream",
     "text": [
      "100%|█| 746779/746779 [00:00<00:00, 7319908.55\n"
     ]
    },
    {
     "name": "stdout",
     "output_type": "stream",
     "text": [
      "File: results/daily/Modis/sst/A20141228_SST_NW_day.nc "
     ]
    },
    {
     "name": "stderr",
     "output_type": "stream",
     "text": [
      "100%|█| 630931/630931 [00:00<00:00, 6215497.47\n"
     ]
    },
    {
     "name": "stdout",
     "output_type": "stream",
     "text": [
      "File: results/daily/Modis/sst/A20141229_SST_NW_day.nc "
     ]
    },
    {
     "name": "stderr",
     "output_type": "stream",
     "text": [
      "100%|█| 1012894/1012894 [00:00<00:00, 9978310."
     ]
    },
    {
     "name": "stdout",
     "output_type": "stream",
     "text": [
      "2015...\n"
     ]
    },
    {
     "name": "stderr",
     "output_type": "stream",
     "text": [
      "\n"
     ]
    },
    {
     "name": "stdout",
     "output_type": "stream",
     "text": [
      "File: results/daily/Modis/sst/A20150101_SST_NW_day.nc "
     ]
    },
    {
     "name": "stderr",
     "output_type": "stream",
     "text": [
      "100%|█| 431609/431609 [00:00<00:00, 4250117.63\n"
     ]
    },
    {
     "name": "stdout",
     "output_type": "stream",
     "text": [
      "File: results/daily/Modis/sst/A20150102_SST_NW_day.nc "
     ]
    },
    {
     "name": "stderr",
     "output_type": "stream",
     "text": [
      "100%|█| 554936/554936 [00:00<00:00, 5479511.10\n"
     ]
    },
    {
     "name": "stdout",
     "output_type": "stream",
     "text": [
      "File: results/daily/Modis/sst/A20150103_SST_NW_day.nc "
     ]
    },
    {
     "name": "stderr",
     "output_type": "stream",
     "text": [
      "100%|█| 702225/702225 [00:00<00:00, 6918064.31\n"
     ]
    },
    {
     "name": "stdout",
     "output_type": "stream",
     "text": [
      "File: results/daily/Modis/sst/A20150104_SST_NW_day.nc "
     ]
    },
    {
     "name": "stderr",
     "output_type": "stream",
     "text": [
      "100%|█| 1006795/1006795 [00:00<00:00, 9956767.\n"
     ]
    },
    {
     "name": "stdout",
     "output_type": "stream",
     "text": [
      "File: results/daily/Modis/sst/A20150105_SST_NW_day.nc "
     ]
    },
    {
     "name": "stderr",
     "output_type": "stream",
     "text": [
      "100%|█| 304402/304402 [00:00<00:00, 2998836.23\n"
     ]
    },
    {
     "name": "stdout",
     "output_type": "stream",
     "text": [
      "File: results/daily/Modis/sst/A20150106_SST_NW_day.nc "
     ]
    },
    {
     "name": "stderr",
     "output_type": "stream",
     "text": [
      "100%|█| 412850/412850 [00:00<00:00, 4067037.31\n"
     ]
    },
    {
     "name": "stdout",
     "output_type": "stream",
     "text": [
      "File: results/daily/Modis/sst/A20150107_SST_NW_day.nc "
     ]
    },
    {
     "name": "stderr",
     "output_type": "stream",
     "text": [
      "100%|█| 581291/581291 [00:00<00:00, 5724192.81\n"
     ]
    },
    {
     "name": "stdout",
     "output_type": "stream",
     "text": [
      "File: results/daily/Modis/sst/A20150108_SST_NW_day.nc "
     ]
    },
    {
     "name": "stderr",
     "output_type": "stream",
     "text": [
      "100%|█| 679757/679757 [00:00<00:00, 6677473.35\n"
     ]
    },
    {
     "name": "stdout",
     "output_type": "stream",
     "text": [
      "File: results/daily/Modis/sst/A20150109_SST_NW_day.nc "
     ]
    },
    {
     "name": "stderr",
     "output_type": "stream",
     "text": [
      "100%|█| 900473/900473 [00:00<00:00, 8862929.18\n"
     ]
    },
    {
     "name": "stdout",
     "output_type": "stream",
     "text": [
      "File: results/daily/Modis/sst/A20150110_SST_NW_day.nc "
     ]
    },
    {
     "name": "stderr",
     "output_type": "stream",
     "text": [
      "100%|█| 946255/946255 [00:00<00:00, 9322136.88\n"
     ]
    },
    {
     "name": "stdout",
     "output_type": "stream",
     "text": [
      "File: results/daily/Modis/sst/A20150111_SST_NW_day.nc "
     ]
    },
    {
     "name": "stderr",
     "output_type": "stream",
     "text": [
      "100%|█| 749996/749996 [00:00<00:00, 7300768.26\n"
     ]
    },
    {
     "name": "stdout",
     "output_type": "stream",
     "text": [
      "File: results/daily/Modis/sst/A20150112_SST_NW_day.nc "
     ]
    },
    {
     "name": "stderr",
     "output_type": "stream",
     "text": [
      "100%|█| 657415/657415 [00:00<00:00, 6420751.99\n"
     ]
    },
    {
     "name": "stdout",
     "output_type": "stream",
     "text": [
      "File: results/daily/Modis/sst/A20150113_SST_NW_day.nc "
     ]
    },
    {
     "name": "stderr",
     "output_type": "stream",
     "text": [
      "100%|█| 744938/744938 [00:00<00:00, 6449814.28\n"
     ]
    },
    {
     "name": "stdout",
     "output_type": "stream",
     "text": [
      "File: results/daily/Modis/sst/A20150114_SST_NW_day.nc "
     ]
    },
    {
     "name": "stderr",
     "output_type": "stream",
     "text": [
      "100%|█| 507927/507927 [00:00<00:00, 4400789.61\n"
     ]
    },
    {
     "name": "stdout",
     "output_type": "stream",
     "text": [
      "File: results/daily/Modis/sst/A20150115_SST_NW_day.nc "
     ]
    },
    {
     "name": "stderr",
     "output_type": "stream",
     "text": [
      "100%|█| 392543/392543 [00:00<00:00, 3887433.42\n"
     ]
    },
    {
     "name": "stdout",
     "output_type": "stream",
     "text": [
      "File: results/daily/Modis/sst/A20150116_SST_NW_day.nc "
     ]
    },
    {
     "name": "stderr",
     "output_type": "stream",
     "text": [
      "100%|█| 237090/237090 [00:00<00:00, 2333181.30\n"
     ]
    },
    {
     "name": "stdout",
     "output_type": "stream",
     "text": [
      "File: results/daily/Modis/sst/A20150117_SST_NW_day.nc "
     ]
    },
    {
     "name": "stderr",
     "output_type": "stream",
     "text": [
      "100%|█| 641211/641211 [00:00<00:00, 5913000.92\n"
     ]
    },
    {
     "name": "stdout",
     "output_type": "stream",
     "text": [
      "File: results/daily/Modis/sst/A20150118_SST_NW_day.nc "
     ]
    },
    {
     "name": "stderr",
     "output_type": "stream",
     "text": [
      "100%|█| 487437/487437 [00:00<00:00, 4767761.31\n"
     ]
    },
    {
     "name": "stdout",
     "output_type": "stream",
     "text": [
      "File: results/daily/Modis/sst/A20150119_SST_NW_day.nc "
     ]
    },
    {
     "name": "stderr",
     "output_type": "stream",
     "text": [
      "100%|█| 637506/637506 [00:00<00:00, 6252251.08\n"
     ]
    },
    {
     "name": "stdout",
     "output_type": "stream",
     "text": [
      "File: results/daily/Modis/sst/A20150120_SST_NW_day.nc "
     ]
    },
    {
     "name": "stderr",
     "output_type": "stream",
     "text": [
      "100%|█| 410032/410032 [00:00<00:00, 3825609.35\n"
     ]
    },
    {
     "name": "stdout",
     "output_type": "stream",
     "text": [
      "File: results/daily/Modis/sst/A20150121_SST_NW_day.nc "
     ]
    },
    {
     "name": "stderr",
     "output_type": "stream",
     "text": [
      "100%|█| 281830/281830 [00:00<00:00, 2692317.16\n"
     ]
    },
    {
     "name": "stdout",
     "output_type": "stream",
     "text": [
      "File: results/daily/Modis/sst/A20150122_SST_NW_day.nc "
     ]
    },
    {
     "name": "stderr",
     "output_type": "stream",
     "text": [
      "100%|█| 489379/489379 [00:00<00:00, 4302368.95\n"
     ]
    },
    {
     "name": "stdout",
     "output_type": "stream",
     "text": [
      "File: results/daily/Modis/sst/A20150123_SST_NW_day.nc "
     ]
    },
    {
     "name": "stderr",
     "output_type": "stream",
     "text": [
      "100%|█| 862071/862071 [00:00<00:00, 8499656.43\n"
     ]
    },
    {
     "name": "stdout",
     "output_type": "stream",
     "text": [
      "File: results/daily/Modis/sst/A20150124_SST_NW_day.nc "
     ]
    },
    {
     "name": "stderr",
     "output_type": "stream",
     "text": [
      "100%|█| 454659/454659 [00:00<00:00, 4468648.94\n"
     ]
    },
    {
     "name": "stdout",
     "output_type": "stream",
     "text": [
      "File: results/daily/Modis/sst/A20150125_SST_NW_day.nc "
     ]
    },
    {
     "name": "stderr",
     "output_type": "stream",
     "text": [
      "100%|█| 211858/211858 [00:00<00:00, 2072819.19\n"
     ]
    },
    {
     "name": "stdout",
     "output_type": "stream",
     "text": [
      "File: results/daily/Modis/sst/A20150126_SST_NW_day.nc "
     ]
    },
    {
     "name": "stderr",
     "output_type": "stream",
     "text": [
      "100%|█| 256809/256809 [00:00<00:00, 2364424.84\n"
     ]
    },
    {
     "name": "stdout",
     "output_type": "stream",
     "text": [
      "File: results/daily/Modis/sst/A20150127_SST_NW_day.nc "
     ]
    },
    {
     "name": "stderr",
     "output_type": "stream",
     "text": [
      "100%|█| 114061/114061 [00:00<00:00, 1044457.64\n"
     ]
    },
    {
     "name": "stdout",
     "output_type": "stream",
     "text": [
      "File: results/daily/Modis/sst/A20150128_SST_NW_day.nc "
     ]
    },
    {
     "name": "stderr",
     "output_type": "stream",
     "text": [
      "100%|█| 247002/247002 [00:00<00:00, 2181120.03\n"
     ]
    },
    {
     "name": "stdout",
     "output_type": "stream",
     "text": [
      "File: results/daily/Modis/sst/A20150129_SST_NW_day.nc "
     ]
    },
    {
     "name": "stderr",
     "output_type": "stream",
     "text": [
      "100%|█| 239988/239988 [00:00<00:00, 2361378.91\n"
     ]
    },
    {
     "name": "stdout",
     "output_type": "stream",
     "text": [
      "File: results/daily/Modis/sst/A20150201_SST_NW_day.nc "
     ]
    },
    {
     "name": "stderr",
     "output_type": "stream",
     "text": [
      "100%|█| 625885/625885 [00:00<00:00, 6181395.10\n"
     ]
    },
    {
     "name": "stdout",
     "output_type": "stream",
     "text": [
      "File: results/daily/Modis/sst/A20150202_SST_NW_day.nc "
     ]
    },
    {
     "name": "stderr",
     "output_type": "stream",
     "text": [
      "100%|█| 496311/496311 [00:00<00:00, 4890646.46\n"
     ]
    },
    {
     "name": "stdout",
     "output_type": "stream",
     "text": [
      "File: results/daily/Modis/sst/A20150203_SST_NW_day.nc "
     ]
    },
    {
     "name": "stderr",
     "output_type": "stream",
     "text": [
      "100%|█| 553513/553513 [00:00<00:00, 5091968.99\n"
     ]
    },
    {
     "name": "stdout",
     "output_type": "stream",
     "text": [
      "File: results/daily/Modis/sst/A20150204_SST_NW_day.nc "
     ]
    },
    {
     "name": "stderr",
     "output_type": "stream",
     "text": [
      "100%|█| 398647/398647 [00:00<00:00, 3890145.33\n"
     ]
    },
    {
     "name": "stdout",
     "output_type": "stream",
     "text": [
      "File: results/daily/Modis/sst/A20150205_SST_NW_day.nc "
     ]
    },
    {
     "name": "stderr",
     "output_type": "stream",
     "text": [
      "100%|█| 563668/563668 [00:00<00:00, 5553038.29\n"
     ]
    },
    {
     "name": "stdout",
     "output_type": "stream",
     "text": [
      "File: results/daily/Modis/sst/A20150206_SST_NW_day.nc "
     ]
    },
    {
     "name": "stderr",
     "output_type": "stream",
     "text": [
      "100%|█| 496020/496020 [00:00<00:00, 4876322.63\n"
     ]
    },
    {
     "name": "stdout",
     "output_type": "stream",
     "text": [
      "File: results/daily/Modis/sst/A20150207_SST_NW_day.nc "
     ]
    },
    {
     "name": "stderr",
     "output_type": "stream",
     "text": [
      "100%|█| 347247/347247 [00:00<00:00, 3236030.10\n"
     ]
    },
    {
     "name": "stdout",
     "output_type": "stream",
     "text": [
      "File: results/daily/Modis/sst/A20150208_SST_NW_day.nc "
     ]
    },
    {
     "name": "stderr",
     "output_type": "stream",
     "text": [
      "100%|█| 255794/255794 [00:00<00:00, 2523361.50\n"
     ]
    },
    {
     "name": "stdout",
     "output_type": "stream",
     "text": [
      "File: results/daily/Modis/sst/A20150209_SST_NW_day.nc "
     ]
    },
    {
     "name": "stderr",
     "output_type": "stream",
     "text": [
      "100%|█| 744234/744234 [00:00<00:00, 6724971.87\n"
     ]
    },
    {
     "name": "stdout",
     "output_type": "stream",
     "text": [
      "File: results/daily/Modis/sst/A20150210_SST_NW_day.nc "
     ]
    },
    {
     "name": "stderr",
     "output_type": "stream",
     "text": [
      "100%|█| 731164/731164 [00:00<00:00, 6308898.65\n"
     ]
    },
    {
     "name": "stdout",
     "output_type": "stream",
     "text": [
      "File: results/daily/Modis/sst/A20150211_SST_NW_day.nc "
     ]
    },
    {
     "name": "stderr",
     "output_type": "stream",
     "text": [
      "100%|█| 702247/702247 [00:00<00:00, 6919272.42\n"
     ]
    },
    {
     "name": "stdout",
     "output_type": "stream",
     "text": [
      "File: results/daily/Modis/sst/A20150212_SST_NW_day.nc "
     ]
    },
    {
     "name": "stderr",
     "output_type": "stream",
     "text": [
      "100%|█| 773203/773203 [00:00<00:00, 7597434.38\n"
     ]
    },
    {
     "name": "stdout",
     "output_type": "stream",
     "text": [
      "File: results/daily/Modis/sst/A20150213_SST_NW_day.nc "
     ]
    },
    {
     "name": "stderr",
     "output_type": "stream",
     "text": [
      "100%|█| 1080853/1080853 [00:00<00:00, 5315108.\n"
     ]
    },
    {
     "name": "stdout",
     "output_type": "stream",
     "text": [
      "File: results/daily/Modis/sst/A20150214_SST_NW_day.nc "
     ]
    },
    {
     "name": "stderr",
     "output_type": "stream",
     "text": [
      "100%|█| 580341/580341 [00:00<00:00, 5327633.70\n"
     ]
    },
    {
     "name": "stdout",
     "output_type": "stream",
     "text": [
      "File: results/daily/Modis/sst/A20150215_SST_NW_day.nc "
     ]
    },
    {
     "name": "stderr",
     "output_type": "stream",
     "text": [
      "100%|█| 563671/563671 [00:00<00:00, 5415923.18\n"
     ]
    },
    {
     "name": "stdout",
     "output_type": "stream",
     "text": [
      "File: results/daily/Modis/sst/A20150216_SST_NW_day.nc "
     ]
    },
    {
     "name": "stderr",
     "output_type": "stream",
     "text": [
      "100%|█| 476018/476018 [00:00<00:00, 4431550.56\n"
     ]
    },
    {
     "name": "stdout",
     "output_type": "stream",
     "text": [
      "File: results/daily/Modis/sst/A20150217_SST_NW_day.nc "
     ]
    },
    {
     "name": "stderr",
     "output_type": "stream",
     "text": [
      "100%|█| 453869/453869 [00:00<00:00, 4482754.75\n"
     ]
    },
    {
     "name": "stdout",
     "output_type": "stream",
     "text": [
      "File: results/daily/Modis/sst/A20150218_SST_NW_day.nc "
     ]
    },
    {
     "name": "stderr",
     "output_type": "stream",
     "text": [
      "100%|█| 536441/536441 [00:00<00:00, 5272399.84\n"
     ]
    },
    {
     "name": "stdout",
     "output_type": "stream",
     "text": [
      "File: results/daily/Modis/sst/A20150219_SST_NW_day.nc "
     ]
    },
    {
     "name": "stderr",
     "output_type": "stream",
     "text": [
      "100%|█| 685431/685431 [00:00<00:00, 6784182.74\n"
     ]
    },
    {
     "name": "stdout",
     "output_type": "stream",
     "text": [
      "File: results/daily/Modis/sst/A20150220_SST_NW_day.nc "
     ]
    },
    {
     "name": "stderr",
     "output_type": "stream",
     "text": [
      "100%|█| 444470/444470 [00:00<00:00, 3935782.25\n"
     ]
    },
    {
     "name": "stdout",
     "output_type": "stream",
     "text": [
      "File: results/daily/Modis/sst/A20150221_SST_NW_day.nc "
     ]
    },
    {
     "name": "stderr",
     "output_type": "stream",
     "text": [
      "100%|█| 213211/213211 [00:00<00:00, 1925326.39\n"
     ]
    },
    {
     "name": "stdout",
     "output_type": "stream",
     "text": [
      "File: results/daily/Modis/sst/A20150222_SST_NW_day.nc "
     ]
    },
    {
     "name": "stderr",
     "output_type": "stream",
     "text": [
      "100%|█| 464797/464797 [00:00<00:00, 4041721.09\n"
     ]
    },
    {
     "name": "stdout",
     "output_type": "stream",
     "text": [
      "File: results/daily/Modis/sst/A20150223_SST_NW_day.nc "
     ]
    },
    {
     "name": "stderr",
     "output_type": "stream",
     "text": [
      "100%|█| 575045/575045 [00:00<00:00, 5054377.46\n"
     ]
    },
    {
     "name": "stdout",
     "output_type": "stream",
     "text": [
      "File: results/daily/Modis/sst/A20150224_SST_NW_day.nc "
     ]
    },
    {
     "name": "stderr",
     "output_type": "stream",
     "text": [
      "100%|█| 634245/634245 [00:00<00:00, 6271595.38\n"
     ]
    },
    {
     "name": "stdout",
     "output_type": "stream",
     "text": [
      "File: results/daily/Modis/sst/A20150225_SST_NW_day.nc "
     ]
    },
    {
     "name": "stderr",
     "output_type": "stream",
     "text": [
      "100%|█| 522230/522230 [00:00<00:00, 5153389.17\n"
     ]
    },
    {
     "name": "stdout",
     "output_type": "stream",
     "text": [
      "File: results/daily/Modis/sst/A20150226_SST_NW_day.nc "
     ]
    },
    {
     "name": "stderr",
     "output_type": "stream",
     "text": [
      "100%|█| 453615/453615 [00:00<00:00, 4487833.85\n"
     ]
    },
    {
     "name": "stdout",
     "output_type": "stream",
     "text": [
      "File: results/daily/Modis/sst/A20150227_SST_NW_day.nc "
     ]
    },
    {
     "name": "stderr",
     "output_type": "stream",
     "text": [
      "100%|█| 202428/202428 [00:00<00:00, 2008812.21\n"
     ]
    },
    {
     "name": "stdout",
     "output_type": "stream",
     "text": [
      "File: results/daily/Modis/sst/A20150228_SST_NW_day.nc "
     ]
    },
    {
     "name": "stderr",
     "output_type": "stream",
     "text": [
      "100%|█| 129192/129192 [00:00<00:00, 1256456.00\n"
     ]
    },
    {
     "name": "stdout",
     "output_type": "stream",
     "text": [
      "A20150229_SST_NW_day.nc: FileNotFound\n",
      "File: results/daily/Modis/sst/A20150301_SST_NW_day.nc "
     ]
    },
    {
     "name": "stderr",
     "output_type": "stream",
     "text": [
      "100%|█| 826847/826847 [00:00<00:00, 7809159.38\n"
     ]
    },
    {
     "name": "stdout",
     "output_type": "stream",
     "text": [
      "File: results/daily/Modis/sst/A20150302_SST_NW_day.nc "
     ]
    },
    {
     "name": "stderr",
     "output_type": "stream",
     "text": [
      "100%|█| 636429/636429 [00:00<00:00, 6269571.62\n"
     ]
    },
    {
     "name": "stdout",
     "output_type": "stream",
     "text": [
      "File: results/daily/Modis/sst/A20150303_SST_NW_day.nc "
     ]
    },
    {
     "name": "stderr",
     "output_type": "stream",
     "text": [
      "100%|█| 255787/255787 [00:00<00:00, 2533930.50\n"
     ]
    },
    {
     "name": "stdout",
     "output_type": "stream",
     "text": [
      "File: results/daily/Modis/sst/A20150304_SST_NW_day.nc "
     ]
    },
    {
     "name": "stderr",
     "output_type": "stream",
     "text": [
      "100%|█| 380080/380080 [00:00<00:00, 3654092.80\n"
     ]
    },
    {
     "name": "stdout",
     "output_type": "stream",
     "text": [
      "File: results/daily/Modis/sst/A20150305_SST_NW_day.nc "
     ]
    },
    {
     "name": "stderr",
     "output_type": "stream",
     "text": [
      "100%|█| 571396/571396 [00:00<00:00, 5147133.99\n"
     ]
    },
    {
     "name": "stdout",
     "output_type": "stream",
     "text": [
      "File: results/daily/Modis/sst/A20150306_SST_NW_day.nc "
     ]
    },
    {
     "name": "stderr",
     "output_type": "stream",
     "text": [
      "100%|█| 634446/634446 [00:00<00:00, 6273020.94\n"
     ]
    },
    {
     "name": "stdout",
     "output_type": "stream",
     "text": [
      "File: results/daily/Modis/sst/A20150307_SST_NW_day.nc "
     ]
    },
    {
     "name": "stderr",
     "output_type": "stream",
     "text": [
      "100%|█| 960409/960409 [00:00<00:00, 8911420.67\n"
     ]
    },
    {
     "name": "stdout",
     "output_type": "stream",
     "text": [
      "File: results/daily/Modis/sst/A20150308_SST_NW_day.nc "
     ]
    },
    {
     "name": "stderr",
     "output_type": "stream",
     "text": [
      "100%|█| 179309/179309 [00:00<00:00, 1700541.67\n"
     ]
    },
    {
     "name": "stdout",
     "output_type": "stream",
     "text": [
      "File: results/daily/Modis/sst/A20150309_SST_NW_day.nc "
     ]
    },
    {
     "name": "stderr",
     "output_type": "stream",
     "text": [
      "100%|█| 508753/508753 [00:00<00:00, 5059800.83\n"
     ]
    },
    {
     "name": "stdout",
     "output_type": "stream",
     "text": [
      "File: results/daily/Modis/sst/A20150310_SST_NW_day.nc "
     ]
    },
    {
     "name": "stderr",
     "output_type": "stream",
     "text": [
      "100%|█| 581046/581046 [00:00<00:00, 5754121.98\n"
     ]
    },
    {
     "name": "stdout",
     "output_type": "stream",
     "text": [
      "File: results/daily/Modis/sst/A20150311_SST_NW_day.nc "
     ]
    },
    {
     "name": "stderr",
     "output_type": "stream",
     "text": [
      "100%|█| 655562/655562 [00:00<00:00, 6496152.15\n"
     ]
    },
    {
     "name": "stdout",
     "output_type": "stream",
     "text": [
      "File: results/daily/Modis/sst/A20150312_SST_NW_day.nc "
     ]
    },
    {
     "name": "stderr",
     "output_type": "stream",
     "text": [
      "100%|█| 1256267/1256267 [00:00<00:00, 6182892.\n"
     ]
    },
    {
     "name": "stdout",
     "output_type": "stream",
     "text": [
      "File: results/daily/Modis/sst/A20150313_SST_NW_day.nc "
     ]
    },
    {
     "name": "stderr",
     "output_type": "stream",
     "text": [
      "100%|█| 1115845/1115845 [00:00<00:00, 5495893.\n"
     ]
    },
    {
     "name": "stdout",
     "output_type": "stream",
     "text": [
      "File: results/daily/Modis/sst/A20150314_SST_NW_day.nc "
     ]
    },
    {
     "name": "stderr",
     "output_type": "stream",
     "text": [
      "100%|█| 1085031/1085031 [00:00<00:00, 5354159.\n"
     ]
    },
    {
     "name": "stdout",
     "output_type": "stream",
     "text": [
      "File: results/daily/Modis/sst/A20150315_SST_NW_day.nc "
     ]
    },
    {
     "name": "stderr",
     "output_type": "stream",
     "text": [
      "100%|█| 567260/567260 [00:00<00:00, 5540896.34\n"
     ]
    },
    {
     "name": "stdout",
     "output_type": "stream",
     "text": [
      "File: results/daily/Modis/sst/A20150316_SST_NW_day.nc "
     ]
    },
    {
     "name": "stderr",
     "output_type": "stream",
     "text": [
      "100%|█| 655385/655385 [00:00<00:00, 6403326.25\n"
     ]
    },
    {
     "name": "stdout",
     "output_type": "stream",
     "text": [
      "File: results/daily/Modis/sst/A20150317_SST_NW_day.nc "
     ]
    },
    {
     "name": "stderr",
     "output_type": "stream",
     "text": [
      "100%|█| 652919/652919 [00:00<00:00, 6460437.69\n"
     ]
    },
    {
     "name": "stdout",
     "output_type": "stream",
     "text": [
      "File: results/daily/Modis/sst/A20150318_SST_NW_day.nc "
     ]
    },
    {
     "name": "stderr",
     "output_type": "stream",
     "text": [
      "100%|█| 124139/124139 [00:00<00:00, 1175910.49\n"
     ]
    },
    {
     "name": "stdout",
     "output_type": "stream",
     "text": [
      "File: results/daily/Modis/sst/A20150319_SST_NW_day.nc "
     ]
    },
    {
     "name": "stderr",
     "output_type": "stream",
     "text": [
      "100%|█| 271879/271879 [00:00<00:00, 2653942.08\n"
     ]
    },
    {
     "name": "stdout",
     "output_type": "stream",
     "text": [
      "File: results/daily/Modis/sst/A20150320_SST_NW_day.nc "
     ]
    },
    {
     "name": "stderr",
     "output_type": "stream",
     "text": [
      "100%|█| 767472/767472 [00:00<00:00, 7140457.08\n"
     ]
    },
    {
     "name": "stdout",
     "output_type": "stream",
     "text": [
      "File: results/daily/Modis/sst/A20150321_SST_NW_day.nc "
     ]
    },
    {
     "name": "stderr",
     "output_type": "stream",
     "text": [
      "100%|█| 1463955/1463955 [00:00<00:00, 6978621.\n"
     ]
    },
    {
     "name": "stdout",
     "output_type": "stream",
     "text": [
      "File: results/daily/Modis/sst/A20150322_SST_NW_day.nc "
     ]
    },
    {
     "name": "stderr",
     "output_type": "stream",
     "text": [
      "100%|█| 1053060/1053060 [00:00<00:00, 4960544.\n"
     ]
    },
    {
     "name": "stdout",
     "output_type": "stream",
     "text": [
      "File: results/daily/Modis/sst/A20150323_SST_NW_day.nc "
     ]
    },
    {
     "name": "stderr",
     "output_type": "stream",
     "text": [
      "100%|█| 925877/925877 [00:00<00:00, 8668963.57\n"
     ]
    },
    {
     "name": "stdout",
     "output_type": "stream",
     "text": [
      "File: results/daily/Modis/sst/A20150324_SST_NW_day.nc "
     ]
    },
    {
     "name": "stderr",
     "output_type": "stream",
     "text": [
      "100%|█| 1268862/1268862 [00:00<00:00, 5985053.\n"
     ]
    },
    {
     "name": "stdout",
     "output_type": "stream",
     "text": [
      "File: results/daily/Modis/sst/A20150325_SST_NW_day.nc "
     ]
    },
    {
     "name": "stderr",
     "output_type": "stream",
     "text": [
      "100%|█| 623151/623151 [00:00<00:00, 6103588.41\n"
     ]
    },
    {
     "name": "stdout",
     "output_type": "stream",
     "text": [
      "File: results/daily/Modis/sst/A20150326_SST_NW_day.nc "
     ]
    },
    {
     "name": "stderr",
     "output_type": "stream",
     "text": [
      "100%|█| 1233756/1233756 [00:00<00:00, 6061432.\n"
     ]
    },
    {
     "name": "stdout",
     "output_type": "stream",
     "text": [
      "File: results/daily/Modis/sst/A20150327_SST_NW_day.nc "
     ]
    },
    {
     "name": "stderr",
     "output_type": "stream",
     "text": [
      "100%|█| 899037/899037 [00:00<00:00, 8811863.90\n"
     ]
    },
    {
     "name": "stdout",
     "output_type": "stream",
     "text": [
      "File: results/daily/Modis/sst/A20150328_SST_NW_day.nc "
     ]
    },
    {
     "name": "stderr",
     "output_type": "stream",
     "text": [
      "100%|█| 617168/617168 [00:00<00:00, 6084372.54\n"
     ]
    },
    {
     "name": "stdout",
     "output_type": "stream",
     "text": [
      "File: results/daily/Modis/sst/A20150329_SST_NW_day.nc "
     ]
    },
    {
     "name": "stderr",
     "output_type": "stream",
     "text": [
      "100%|█| 606957/606957 [00:00<00:00, 5448382.50\n"
     ]
    },
    {
     "name": "stdout",
     "output_type": "stream",
     "text": [
      "File: results/daily/Modis/sst/A20150401_SST_NW_day.nc "
     ]
    },
    {
     "name": "stderr",
     "output_type": "stream",
     "text": [
      "100%|█| 841062/841062 [00:00<00:00, 7225144.77\n"
     ]
    },
    {
     "name": "stdout",
     "output_type": "stream",
     "text": [
      "File: results/daily/Modis/sst/A20150402_SST_NW_day.nc "
     ]
    },
    {
     "name": "stderr",
     "output_type": "stream",
     "text": [
      "100%|█| 128194/128194 [00:00<00:00, 1271536.83\n"
     ]
    },
    {
     "name": "stdout",
     "output_type": "stream",
     "text": [
      "File: results/daily/Modis/sst/A20150403_SST_NW_day.nc "
     ]
    },
    {
     "name": "stderr",
     "output_type": "stream",
     "text": [
      "100%|█| 532545/532545 [00:00<00:00, 4766728.53\n"
     ]
    },
    {
     "name": "stdout",
     "output_type": "stream",
     "text": [
      "File: results/daily/Modis/sst/A20150404_SST_NW_day.nc "
     ]
    },
    {
     "name": "stderr",
     "output_type": "stream",
     "text": [
      "100%|█| 327173/327173 [00:00<00:00, 3203834.11\n"
     ]
    },
    {
     "name": "stdout",
     "output_type": "stream",
     "text": [
      "File: results/daily/Modis/sst/A20150405_SST_NW_day.nc "
     ]
    },
    {
     "name": "stderr",
     "output_type": "stream",
     "text": [
      "100%|█| 199434/199434 [00:00<00:00, 1743563.56\n"
     ]
    },
    {
     "name": "stdout",
     "output_type": "stream",
     "text": [
      "File: results/daily/Modis/sst/A20150406_SST_NW_day.nc "
     ]
    },
    {
     "name": "stderr",
     "output_type": "stream",
     "text": [
      "100%|█| 429972/429972 [00:00<00:00, 4242633.70\n"
     ]
    },
    {
     "name": "stdout",
     "output_type": "stream",
     "text": [
      "File: results/daily/Modis/sst/A20150407_SST_NW_day.nc "
     ]
    },
    {
     "name": "stderr",
     "output_type": "stream",
     "text": [
      "100%|█| 441632/441632 [00:00<00:00, 4297181.74\n"
     ]
    },
    {
     "name": "stdout",
     "output_type": "stream",
     "text": [
      "File: results/daily/Modis/sst/A20150408_SST_NW_day.nc "
     ]
    },
    {
     "name": "stderr",
     "output_type": "stream",
     "text": [
      "100%|█| 788666/788666 [00:00<00:00, 7757841.81\n"
     ]
    },
    {
     "name": "stdout",
     "output_type": "stream",
     "text": [
      "File: results/daily/Modis/sst/A20150409_SST_NW_day.nc "
     ]
    },
    {
     "name": "stderr",
     "output_type": "stream",
     "text": [
      "100%|█| 997632/997632 [00:00<00:00, 9489426.01\n"
     ]
    },
    {
     "name": "stdout",
     "output_type": "stream",
     "text": [
      "File: results/daily/Modis/sst/A20150410_SST_NW_day.nc "
     ]
    },
    {
     "name": "stderr",
     "output_type": "stream",
     "text": [
      "100%|█| 985090/985090 [00:00<00:00, 9657022.95\n"
     ]
    },
    {
     "name": "stdout",
     "output_type": "stream",
     "text": [
      "File: results/daily/Modis/sst/A20150411_SST_NW_day.nc "
     ]
    },
    {
     "name": "stderr",
     "output_type": "stream",
     "text": [
      "100%|█| 444714/444714 [00:00<00:00, 3888359.95\n"
     ]
    },
    {
     "name": "stdout",
     "output_type": "stream",
     "text": [
      "File: results/daily/Modis/sst/A20150412_SST_NW_day.nc "
     ]
    },
    {
     "name": "stderr",
     "output_type": "stream",
     "text": [
      "100%|█| 315617/315617 [00:00<00:00, 2686765.71\n"
     ]
    },
    {
     "name": "stdout",
     "output_type": "stream",
     "text": [
      "File: results/daily/Modis/sst/A20150413_SST_NW_day.nc "
     ]
    },
    {
     "name": "stderr",
     "output_type": "stream",
     "text": [
      "100%|█| 466170/466170 [00:00<00:00, 4512284.70\n"
     ]
    },
    {
     "name": "stdout",
     "output_type": "stream",
     "text": [
      "File: results/daily/Modis/sst/A20150414_SST_NW_day.nc "
     ]
    },
    {
     "name": "stderr",
     "output_type": "stream",
     "text": [
      "100%|█| 715028/715028 [00:00<00:00, 6694147.01\n"
     ]
    },
    {
     "name": "stdout",
     "output_type": "stream",
     "text": [
      "File: results/daily/Modis/sst/A20150415_SST_NW_day.nc "
     ]
    },
    {
     "name": "stderr",
     "output_type": "stream",
     "text": [
      "100%|█| 531295/531295 [00:00<00:00, 5072656.08\n"
     ]
    },
    {
     "name": "stdout",
     "output_type": "stream",
     "text": [
      "File: results/daily/Modis/sst/A20150416_SST_NW_day.nc "
     ]
    },
    {
     "name": "stderr",
     "output_type": "stream",
     "text": [
      "100%|█| 801261/801261 [00:00<00:00, 7816492.50\n"
     ]
    },
    {
     "name": "stdout",
     "output_type": "stream",
     "text": [
      "File: results/daily/Modis/sst/A20150417_SST_NW_day.nc "
     ]
    },
    {
     "name": "stderr",
     "output_type": "stream",
     "text": [
      "100%|█| 1031128/1031128 [00:00<00:00, 9806459.\n"
     ]
    },
    {
     "name": "stdout",
     "output_type": "stream",
     "text": [
      "File: results/daily/Modis/sst/A20150418_SST_NW_day.nc "
     ]
    },
    {
     "name": "stderr",
     "output_type": "stream",
     "text": [
      "100%|█| 332565/332565 [00:00<00:00, 3211638.22\n"
     ]
    },
    {
     "name": "stdout",
     "output_type": "stream",
     "text": [
      "File: results/daily/Modis/sst/A20150419_SST_NW_day.nc "
     ]
    },
    {
     "name": "stderr",
     "output_type": "stream",
     "text": [
      "100%|█| 216474/216474 [00:00<00:00, 1958041.96\n"
     ]
    },
    {
     "name": "stdout",
     "output_type": "stream",
     "text": [
      "File: results/daily/Modis/sst/A20150420_SST_NW_day.nc "
     ]
    },
    {
     "name": "stderr",
     "output_type": "stream",
     "text": [
      "100%|█| 544261/544261 [00:00<00:00, 5322815.98\n"
     ]
    },
    {
     "name": "stdout",
     "output_type": "stream",
     "text": [
      "File: results/daily/Modis/sst/A20150421_SST_NW_day.nc "
     ]
    },
    {
     "name": "stderr",
     "output_type": "stream",
     "text": [
      "100%|█| 902505/902505 [00:00<00:00, 7954234.30\n"
     ]
    },
    {
     "name": "stdout",
     "output_type": "stream",
     "text": [
      "File: results/daily/Modis/sst/A20150422_SST_NW_day.nc "
     ]
    },
    {
     "name": "stderr",
     "output_type": "stream",
     "text": [
      "100%|█| 1280688/1280688 [00:00<00:00, 5937458.\n"
     ]
    },
    {
     "name": "stdout",
     "output_type": "stream",
     "text": [
      "File: results/daily/Modis/sst/A20150423_SST_NW_day.nc "
     ]
    },
    {
     "name": "stderr",
     "output_type": "stream",
     "text": [
      "100%|█| 491127/491127 [00:00<00:00, 4707682.54\n"
     ]
    },
    {
     "name": "stdout",
     "output_type": "stream",
     "text": [
      "File: results/daily/Modis/sst/A20150424_SST_NW_day.nc "
     ]
    },
    {
     "name": "stderr",
     "output_type": "stream",
     "text": [
      "100%|█| 1219752/1219752 [00:00<00:00, 6005228.\n"
     ]
    },
    {
     "name": "stdout",
     "output_type": "stream",
     "text": [
      "File: results/daily/Modis/sst/A20150425_SST_NW_day.nc "
     ]
    },
    {
     "name": "stderr",
     "output_type": "stream",
     "text": [
      "100%|█| 1226333/1226333 [00:00<00:00, 5724597.\n"
     ]
    },
    {
     "name": "stdout",
     "output_type": "stream",
     "text": [
      "File: results/daily/Modis/sst/A20150426_SST_NW_day.nc "
     ]
    },
    {
     "name": "stderr",
     "output_type": "stream",
     "text": [
      "100%|█| 1176547/1176547 [00:00<00:00, 5788548.\n"
     ]
    },
    {
     "name": "stdout",
     "output_type": "stream",
     "text": [
      "File: results/daily/Modis/sst/A20150427_SST_NW_day.nc "
     ]
    },
    {
     "name": "stderr",
     "output_type": "stream",
     "text": [
      "100%|█| 444628/444628 [00:00<00:00, 4403262.59\n"
     ]
    },
    {
     "name": "stdout",
     "output_type": "stream",
     "text": [
      "File: results/daily/Modis/sst/A20150428_SST_NW_day.nc "
     ]
    },
    {
     "name": "stderr",
     "output_type": "stream",
     "text": [
      "100%|█| 253745/253745 [00:00<00:00, 2308976.94\n"
     ]
    },
    {
     "name": "stdout",
     "output_type": "stream",
     "text": [
      "File: results/daily/Modis/sst/A20150429_SST_NW_day.nc "
     ]
    },
    {
     "name": "stderr",
     "output_type": "stream",
     "text": [
      "100%|█| 493871/493871 [00:00<00:00, 4886532.51\n"
     ]
    },
    {
     "name": "stdout",
     "output_type": "stream",
     "text": [
      "File: results/daily/Modis/sst/A20150501_SST_NW_day.nc "
     ]
    },
    {
     "name": "stderr",
     "output_type": "stream",
     "text": [
      "100%|█| 1049014/1049014 [00:00<00:00, 4937115.\n"
     ]
    },
    {
     "name": "stdout",
     "output_type": "stream",
     "text": [
      "File: results/daily/Modis/sst/A20150502_SST_NW_day.nc "
     ]
    },
    {
     "name": "stderr",
     "output_type": "stream",
     "text": [
      "100%|█| 321944/321944 [00:00<00:00, 3184870.64\n"
     ]
    },
    {
     "name": "stdout",
     "output_type": "stream",
     "text": [
      "File: results/daily/Modis/sst/A20150503_SST_NW_day.nc "
     ]
    },
    {
     "name": "stderr",
     "output_type": "stream",
     "text": [
      "100%|█| 380834/380834 [00:00<00:00, 3735238.30\n"
     ]
    },
    {
     "name": "stdout",
     "output_type": "stream",
     "text": [
      "File: results/daily/Modis/sst/A20150504_SST_NW_day.nc "
     ]
    },
    {
     "name": "stderr",
     "output_type": "stream",
     "text": [
      "100%|█| 1031163/1031163 [00:00<00:00, 10155731\n"
     ]
    },
    {
     "name": "stdout",
     "output_type": "stream",
     "text": [
      "File: results/daily/Modis/sst/A20150505_SST_NW_day.nc "
     ]
    },
    {
     "name": "stderr",
     "output_type": "stream",
     "text": [
      "100%|█| 1017124/1017124 [00:00<00:00, 9858248.\n"
     ]
    },
    {
     "name": "stdout",
     "output_type": "stream",
     "text": [
      "File: results/daily/Modis/sst/A20150506_SST_NW_day.nc "
     ]
    },
    {
     "name": "stderr",
     "output_type": "stream",
     "text": [
      "100%|█| 691125/691125 [00:00<00:00, 6859008.23\n"
     ]
    },
    {
     "name": "stdout",
     "output_type": "stream",
     "text": [
      "File: results/daily/Modis/sst/A20150507_SST_NW_day.nc "
     ]
    },
    {
     "name": "stderr",
     "output_type": "stream",
     "text": [
      "100%|█| 636030/636030 [00:00<00:00, 6248192.26\n"
     ]
    },
    {
     "name": "stdout",
     "output_type": "stream",
     "text": [
      "File: results/daily/Modis/sst/A20150508_SST_NW_day.nc "
     ]
    },
    {
     "name": "stderr",
     "output_type": "stream",
     "text": [
      "100%|█| 265011/265011 [00:00<00:00, 2448005.98\n"
     ]
    },
    {
     "name": "stdout",
     "output_type": "stream",
     "text": [
      "File: results/daily/Modis/sst/A20150509_SST_NW_day.nc "
     ]
    },
    {
     "name": "stderr",
     "output_type": "stream",
     "text": [
      "100%|█| 906838/906838 [00:00<00:00, 8967305.23\n"
     ]
    },
    {
     "name": "stdout",
     "output_type": "stream",
     "text": [
      "File: results/daily/Modis/sst/A20150510_SST_NW_day.nc "
     ]
    },
    {
     "name": "stderr",
     "output_type": "stream",
     "text": [
      "100%|█| 1100956/1100956 [00:00<00:00, 5327875.\n"
     ]
    },
    {
     "name": "stdout",
     "output_type": "stream",
     "text": [
      "File: results/daily/Modis/sst/A20150511_SST_NW_day.nc "
     ]
    },
    {
     "name": "stderr",
     "output_type": "stream",
     "text": [
      "100%|█| 397204/397204 [00:00<00:00, 3819511.04\n"
     ]
    },
    {
     "name": "stdout",
     "output_type": "stream",
     "text": [
      "File: results/daily/Modis/sst/A20150512_SST_NW_day.nc "
     ]
    },
    {
     "name": "stderr",
     "output_type": "stream",
     "text": [
      "100%|█| 966362/966362 [00:00<00:00, 9553725.95\n"
     ]
    },
    {
     "name": "stdout",
     "output_type": "stream",
     "text": [
      "File: results/daily/Modis/sst/A20150513_SST_NW_day.nc "
     ]
    },
    {
     "name": "stderr",
     "output_type": "stream",
     "text": [
      "100%|█| 927360/927360 [00:00<00:00, 9152328.44\n"
     ]
    },
    {
     "name": "stdout",
     "output_type": "stream",
     "text": [
      "File: results/daily/Modis/sst/A20150514_SST_NW_day.nc "
     ]
    },
    {
     "name": "stderr",
     "output_type": "stream",
     "text": [
      "100%|█| 253283/253283 [00:00<00:00, 2228696.13\n"
     ]
    },
    {
     "name": "stdout",
     "output_type": "stream",
     "text": [
      "File: results/daily/Modis/sst/A20150515_SST_NW_day.nc "
     ]
    },
    {
     "name": "stderr",
     "output_type": "stream",
     "text": [
      "100%|█| 433983/433983 [00:00<00:00, 3976191.29\n"
     ]
    },
    {
     "name": "stdout",
     "output_type": "stream",
     "text": [
      "File: results/daily/Modis/sst/A20150516_SST_NW_day.nc "
     ]
    },
    {
     "name": "stderr",
     "output_type": "stream",
     "text": [
      "100%|█| 888715/888715 [00:00<00:00, 8082878.97\n"
     ]
    },
    {
     "name": "stdout",
     "output_type": "stream",
     "text": [
      "File: results/daily/Modis/sst/A20150517_SST_NW_day.nc "
     ]
    },
    {
     "name": "stderr",
     "output_type": "stream",
     "text": [
      "100%|█| 552243/552243 [00:00<00:00, 5367562.60\n"
     ]
    },
    {
     "name": "stdout",
     "output_type": "stream",
     "text": [
      "File: results/daily/Modis/sst/A20150518_SST_NW_day.nc "
     ]
    },
    {
     "name": "stderr",
     "output_type": "stream",
     "text": [
      "100%|█| 256401/256401 [00:00<00:00, 2422867.68\n"
     ]
    },
    {
     "name": "stdout",
     "output_type": "stream",
     "text": [
      "File: results/daily/Modis/sst/A20150519_SST_NW_day.nc "
     ]
    },
    {
     "name": "stderr",
     "output_type": "stream",
     "text": [
      "100%|█| 744355/744355 [00:00<00:00, 7296046.26\n"
     ]
    },
    {
     "name": "stdout",
     "output_type": "stream",
     "text": [
      "File: results/daily/Modis/sst/A20150520_SST_NW_day.nc "
     ]
    },
    {
     "name": "stderr",
     "output_type": "stream",
     "text": [
      "100%|█| 1492177/1492177 [00:00<00:00, 7361378.\n"
     ]
    },
    {
     "name": "stdout",
     "output_type": "stream",
     "text": [
      "File: results/daily/Modis/sst/A20150521_SST_NW_day.nc "
     ]
    },
    {
     "name": "stderr",
     "output_type": "stream",
     "text": [
      "100%|█| 791216/791216 [00:00<00:00, 7328870.33\n"
     ]
    },
    {
     "name": "stdout",
     "output_type": "stream",
     "text": [
      "File: results/daily/Modis/sst/A20150522_SST_NW_day.nc "
     ]
    },
    {
     "name": "stderr",
     "output_type": "stream",
     "text": [
      "100%|█| 512137/512137 [00:00<00:00, 4813273.94\n"
     ]
    },
    {
     "name": "stdout",
     "output_type": "stream",
     "text": [
      "File: results/daily/Modis/sst/A20150523_SST_NW_day.nc "
     ]
    },
    {
     "name": "stderr",
     "output_type": "stream",
     "text": [
      "100%|█| 631151/631151 [00:00<00:00, 5926093.19\n"
     ]
    },
    {
     "name": "stdout",
     "output_type": "stream",
     "text": [
      "File: results/daily/Modis/sst/A20150524_SST_NW_day.nc "
     ]
    },
    {
     "name": "stderr",
     "output_type": "stream",
     "text": [
      "100%|█| 993371/993371 [00:00<00:00, 9813781.83\n"
     ]
    },
    {
     "name": "stdout",
     "output_type": "stream",
     "text": [
      "File: results/daily/Modis/sst/A20150525_SST_NW_day.nc "
     ]
    },
    {
     "name": "stderr",
     "output_type": "stream",
     "text": [
      "100%|█| 943171/943171 [00:00<00:00, 9250472.11\n"
     ]
    },
    {
     "name": "stdout",
     "output_type": "stream",
     "text": [
      "File: results/daily/Modis/sst/A20150526_SST_NW_day.nc "
     ]
    },
    {
     "name": "stderr",
     "output_type": "stream",
     "text": [
      "100%|█| 1160706/1160706 [00:00<00:00, 5699934.\n"
     ]
    },
    {
     "name": "stdout",
     "output_type": "stream",
     "text": [
      "File: results/daily/Modis/sst/A20150527_SST_NW_day.nc "
     ]
    },
    {
     "name": "stderr",
     "output_type": "stream",
     "text": [
      "100%|█| 602259/602259 [00:00<00:00, 5555559.46\n"
     ]
    },
    {
     "name": "stdout",
     "output_type": "stream",
     "text": [
      "File: results/daily/Modis/sst/A20150528_SST_NW_day.nc "
     ]
    },
    {
     "name": "stderr",
     "output_type": "stream",
     "text": [
      "100%|█| 493183/493183 [00:00<00:00, 4737556.81\n"
     ]
    },
    {
     "name": "stdout",
     "output_type": "stream",
     "text": [
      "File: results/daily/Modis/sst/A20150529_SST_NW_day.nc "
     ]
    },
    {
     "name": "stderr",
     "output_type": "stream",
     "text": [
      "100%|█| 336446/336446 [00:00<00:00, 3252982.46\n"
     ]
    },
    {
     "name": "stdout",
     "output_type": "stream",
     "text": [
      "File: results/daily/Modis/sst/A20150601_SST_NW_day.nc "
     ]
    },
    {
     "name": "stderr",
     "output_type": "stream",
     "text": [
      "100%|█| 232711/232711 [00:00<00:00, 2296235.16\n"
     ]
    },
    {
     "name": "stdout",
     "output_type": "stream",
     "text": [
      "File: results/daily/Modis/sst/A20150602_SST_NW_day.nc "
     ]
    },
    {
     "name": "stderr",
     "output_type": "stream",
     "text": [
      "100%|█| 123358/123358 [00:00<00:00, 1219638.05\n"
     ]
    },
    {
     "name": "stdout",
     "output_type": "stream",
     "text": [
      "File: results/daily/Modis/sst/A20150603_SST_NW_day.nc "
     ]
    },
    {
     "name": "stderr",
     "output_type": "stream",
     "text": [
      "100%|█| 842474/842474 [00:00<00:00, 7718839.44\n"
     ]
    },
    {
     "name": "stdout",
     "output_type": "stream",
     "text": [
      "File: results/daily/Modis/sst/A20150604_SST_NW_day.nc "
     ]
    },
    {
     "name": "stderr",
     "output_type": "stream",
     "text": [
      "100%|█| 649734/649734 [00:00<00:00, 6380649.81\n"
     ]
    },
    {
     "name": "stdout",
     "output_type": "stream",
     "text": [
      "File: results/daily/Modis/sst/A20150605_SST_NW_day.nc "
     ]
    },
    {
     "name": "stderr",
     "output_type": "stream",
     "text": [
      "100%|█| 445445/445445 [00:00<00:00, 4173644.02\n"
     ]
    },
    {
     "name": "stdout",
     "output_type": "stream",
     "text": [
      "File: results/daily/Modis/sst/A20150606_SST_NW_day.nc "
     ]
    },
    {
     "name": "stderr",
     "output_type": "stream",
     "text": [
      "100%|█| 922441/922441 [00:00<00:00, 8841746.54\n"
     ]
    },
    {
     "name": "stdout",
     "output_type": "stream",
     "text": [
      "File: results/daily/Modis/sst/A20150607_SST_NW_day.nc "
     ]
    },
    {
     "name": "stderr",
     "output_type": "stream",
     "text": [
      "100%|█| 313709/313709 [00:00<00:00, 2777471.28\n"
     ]
    },
    {
     "name": "stdout",
     "output_type": "stream",
     "text": [
      "File: results/daily/Modis/sst/A20150608_SST_NW_day.nc "
     ]
    },
    {
     "name": "stderr",
     "output_type": "stream",
     "text": [
      "100%|█| 145225/145225 [00:00<00:00, 1351028.15\n"
     ]
    },
    {
     "name": "stdout",
     "output_type": "stream",
     "text": [
      "File: results/daily/Modis/sst/A20150609_SST_NW_day.nc "
     ]
    },
    {
     "name": "stderr",
     "output_type": "stream",
     "text": [
      "100%|█| 538829/538829 [00:00<00:00, 5315250.52\n"
     ]
    },
    {
     "name": "stdout",
     "output_type": "stream",
     "text": [
      "File: results/daily/Modis/sst/A20150610_SST_NW_day.nc "
     ]
    },
    {
     "name": "stderr",
     "output_type": "stream",
     "text": [
      "100%|█| 330138/330138 [00:00<00:00, 3164570.89\n"
     ]
    },
    {
     "name": "stdout",
     "output_type": "stream",
     "text": [
      "File: results/daily/Modis/sst/A20150611_SST_NW_day.nc "
     ]
    },
    {
     "name": "stderr",
     "output_type": "stream",
     "text": [
      "100%|█| 503955/503955 [00:00<00:00, 4653274.14\n"
     ]
    },
    {
     "name": "stdout",
     "output_type": "stream",
     "text": [
      "File: results/daily/Modis/sst/A20150612_SST_NW_day.nc "
     ]
    },
    {
     "name": "stderr",
     "output_type": "stream",
     "text": [
      "100%|█| 362508/362508 [00:00<00:00, 3483925.62\n"
     ]
    },
    {
     "name": "stdout",
     "output_type": "stream",
     "text": [
      "File: results/daily/Modis/sst/A20150613_SST_NW_day.nc "
     ]
    },
    {
     "name": "stderr",
     "output_type": "stream",
     "text": [
      "100%|█| 408654/408654 [00:00<00:00, 3800131.93\n"
     ]
    },
    {
     "name": "stdout",
     "output_type": "stream",
     "text": [
      "File: results/daily/Modis/sst/A20150614_SST_NW_day.nc "
     ]
    },
    {
     "name": "stderr",
     "output_type": "stream",
     "text": [
      "100%|█| 421104/421104 [00:00<00:00, 4082570.03\n"
     ]
    },
    {
     "name": "stdout",
     "output_type": "stream",
     "text": [
      "File: results/daily/Modis/sst/A20150615_SST_NW_day.nc "
     ]
    },
    {
     "name": "stderr",
     "output_type": "stream",
     "text": [
      "100%|█| 323005/323005 [00:00<00:00, 3097046.16\n"
     ]
    },
    {
     "name": "stdout",
     "output_type": "stream",
     "text": [
      "File: results/daily/Modis/sst/A20150616_SST_NW_day.nc "
     ]
    },
    {
     "name": "stderr",
     "output_type": "stream",
     "text": [
      "100%|█| 302052/302052 [00:00<00:00, 2907629.79\n"
     ]
    },
    {
     "name": "stdout",
     "output_type": "stream",
     "text": [
      "File: results/daily/Modis/sst/A20150617_SST_NW_day.nc "
     ]
    },
    {
     "name": "stderr",
     "output_type": "stream",
     "text": [
      "100%|█| 335233/335233 [00:00<00:00, 3302593.12\n"
     ]
    },
    {
     "name": "stdout",
     "output_type": "stream",
     "text": [
      "File: results/daily/Modis/sst/A20150618_SST_NW_day.nc "
     ]
    },
    {
     "name": "stderr",
     "output_type": "stream",
     "text": [
      "100%|█| 319163/319163 [00:00<00:00, 2861095.75\n"
     ]
    },
    {
     "name": "stdout",
     "output_type": "stream",
     "text": [
      "File: results/daily/Modis/sst/A20150619_SST_NW_day.nc "
     ]
    },
    {
     "name": "stderr",
     "output_type": "stream",
     "text": [
      "100%|█| 331716/331716 [00:00<00:00, 3264103.87\n"
     ]
    },
    {
     "name": "stdout",
     "output_type": "stream",
     "text": [
      "File: results/daily/Modis/sst/A20150620_SST_NW_day.nc "
     ]
    },
    {
     "name": "stderr",
     "output_type": "stream",
     "text": [
      "100%|█| 486509/486509 [00:00<00:00, 4631977.29\n"
     ]
    },
    {
     "name": "stdout",
     "output_type": "stream",
     "text": [
      "File: results/daily/Modis/sst/A20150621_SST_NW_day.nc "
     ]
    },
    {
     "name": "stderr",
     "output_type": "stream",
     "text": [
      "100%|█| 518189/518189 [00:00<00:00, 4598116.27\n"
     ]
    },
    {
     "name": "stdout",
     "output_type": "stream",
     "text": [
      "File: results/daily/Modis/sst/A20150622_SST_NW_day.nc "
     ]
    },
    {
     "name": "stderr",
     "output_type": "stream",
     "text": [
      "100%|█| 329328/329328 [00:00<00:00, 3142185.83\n"
     ]
    },
    {
     "name": "stdout",
     "output_type": "stream",
     "text": [
      "File: results/daily/Modis/sst/A20150623_SST_NW_day.nc "
     ]
    },
    {
     "name": "stderr",
     "output_type": "stream",
     "text": [
      "100%|█| 424954/424954 [00:00<00:00, 3927587.33\n"
     ]
    },
    {
     "name": "stdout",
     "output_type": "stream",
     "text": [
      "File: results/daily/Modis/sst/A20150624_SST_NW_day.nc "
     ]
    },
    {
     "name": "stderr",
     "output_type": "stream",
     "text": [
      "100%|█| 343597/343597 [00:00<00:00, 3266818.10\n"
     ]
    },
    {
     "name": "stdout",
     "output_type": "stream",
     "text": [
      "File: results/daily/Modis/sst/A20150625_SST_NW_day.nc "
     ]
    },
    {
     "name": "stderr",
     "output_type": "stream",
     "text": [
      "100%|█| 197701/197701 [00:00<00:00, 1947385.33\n"
     ]
    },
    {
     "name": "stdout",
     "output_type": "stream",
     "text": [
      "File: results/daily/Modis/sst/A20150626_SST_NW_day.nc "
     ]
    },
    {
     "name": "stderr",
     "output_type": "stream",
     "text": [
      "100%|█| 265817/265817 [00:00<00:00, 2614513.16\n"
     ]
    },
    {
     "name": "stdout",
     "output_type": "stream",
     "text": [
      "File: results/daily/Modis/sst/A20150627_SST_NW_day.nc "
     ]
    },
    {
     "name": "stderr",
     "output_type": "stream",
     "text": [
      "100%|█| 438110/438110 [00:00<00:00, 4308964.49\n"
     ]
    },
    {
     "name": "stdout",
     "output_type": "stream",
     "text": [
      "File: results/daily/Modis/sst/A20150628_SST_NW_day.nc "
     ]
    },
    {
     "name": "stderr",
     "output_type": "stream",
     "text": [
      "100%|█| 524442/524442 [00:00<00:00, 5166441.22\n"
     ]
    },
    {
     "name": "stdout",
     "output_type": "stream",
     "text": [
      "File: results/daily/Modis/sst/A20150629_SST_NW_day.nc "
     ]
    },
    {
     "name": "stderr",
     "output_type": "stream",
     "text": [
      "100%|█| 261754/261754 [00:00<00:00, 2578626.10\n"
     ]
    },
    {
     "name": "stdout",
     "output_type": "stream",
     "text": [
      "File: results/daily/Modis/sst/A20150701_SST_NW_day.nc "
     ]
    },
    {
     "name": "stderr",
     "output_type": "stream",
     "text": [
      "100%|█| 856900/856900 [00:00<00:00, 8441826.28\n"
     ]
    },
    {
     "name": "stdout",
     "output_type": "stream",
     "text": [
      "File: results/daily/Modis/sst/A20150702_SST_NW_day.nc "
     ]
    },
    {
     "name": "stderr",
     "output_type": "stream",
     "text": [
      "100%|█| 776258/776258 [00:00<00:00, 7601116.02\n"
     ]
    },
    {
     "name": "stdout",
     "output_type": "stream",
     "text": [
      "File: results/daily/Modis/sst/A20150703_SST_NW_day.nc "
     ]
    },
    {
     "name": "stderr",
     "output_type": "stream",
     "text": [
      "100%|█| 606324/606324 [00:00<00:00, 6001801.12\n"
     ]
    },
    {
     "name": "stdout",
     "output_type": "stream",
     "text": [
      "File: results/daily/Modis/sst/A20150704_SST_NW_day.nc "
     ]
    },
    {
     "name": "stderr",
     "output_type": "stream",
     "text": [
      "100%|█| 646331/646331 [00:00<00:00, 5742307.04\n"
     ]
    },
    {
     "name": "stdout",
     "output_type": "stream",
     "text": [
      "File: results/daily/Modis/sst/A20150705_SST_NW_day.nc "
     ]
    },
    {
     "name": "stderr",
     "output_type": "stream",
     "text": [
      "100%|█| 620692/620692 [00:00<00:00, 6114471.92\n"
     ]
    },
    {
     "name": "stdout",
     "output_type": "stream",
     "text": [
      "File: results/daily/Modis/sst/A20150706_SST_NW_day.nc "
     ]
    },
    {
     "name": "stderr",
     "output_type": "stream",
     "text": [
      "100%|█| 677167/677167 [00:00<00:00, 6673537.60\n"
     ]
    },
    {
     "name": "stdout",
     "output_type": "stream",
     "text": [
      "File: results/daily/Modis/sst/A20150707_SST_NW_day.nc "
     ]
    },
    {
     "name": "stderr",
     "output_type": "stream",
     "text": [
      "100%|█| 592730/592730 [00:00<00:00, 5874975.33\n"
     ]
    },
    {
     "name": "stdout",
     "output_type": "stream",
     "text": [
      "File: results/daily/Modis/sst/A20150708_SST_NW_day.nc "
     ]
    },
    {
     "name": "stderr",
     "output_type": "stream",
     "text": [
      "100%|█| 943145/943145 [00:00<00:00, 9328153.86\n"
     ]
    },
    {
     "name": "stdout",
     "output_type": "stream",
     "text": [
      "File: results/daily/Modis/sst/A20150709_SST_NW_day.nc "
     ]
    },
    {
     "name": "stderr",
     "output_type": "stream",
     "text": [
      "100%|█| 962117/962117 [00:00<00:00, 9477935.64\n"
     ]
    },
    {
     "name": "stdout",
     "output_type": "stream",
     "text": [
      "File: results/daily/Modis/sst/A20150710_SST_NW_day.nc "
     ]
    },
    {
     "name": "stderr",
     "output_type": "stream",
     "text": [
      "100%|█| 584757/584757 [00:00<00:00, 5760595.98\n"
     ]
    },
    {
     "name": "stdout",
     "output_type": "stream",
     "text": [
      "File: results/daily/Modis/sst/A20150711_SST_NW_day.nc "
     ]
    },
    {
     "name": "stderr",
     "output_type": "stream",
     "text": [
      "100%|█| 389332/389332 [00:00<00:00, 3835502.66\n"
     ]
    },
    {
     "name": "stdout",
     "output_type": "stream",
     "text": [
      "File: results/daily/Modis/sst/A20150712_SST_NW_day.nc "
     ]
    },
    {
     "name": "stderr",
     "output_type": "stream",
     "text": [
      "100%|█| 592634/592634 [00:00<00:00, 5676134.53\n"
     ]
    },
    {
     "name": "stdout",
     "output_type": "stream",
     "text": [
      "File: results/daily/Modis/sst/A20150713_SST_NW_day.nc "
     ]
    },
    {
     "name": "stderr",
     "output_type": "stream",
     "text": [
      "100%|█| 1204888/1204888 [00:00<00:00, 5927477.\n"
     ]
    },
    {
     "name": "stdout",
     "output_type": "stream",
     "text": [
      "File: results/daily/Modis/sst/A20150714_SST_NW_day.nc "
     ]
    },
    {
     "name": "stderr",
     "output_type": "stream",
     "text": [
      "100%|█| 1057407/1057407 [00:00<00:00, 4986750.\n"
     ]
    },
    {
     "name": "stdout",
     "output_type": "stream",
     "text": [
      "File: results/daily/Modis/sst/A20150715_SST_NW_day.nc "
     ]
    },
    {
     "name": "stderr",
     "output_type": "stream",
     "text": [
      "100%|█| 258871/258871 [00:00<00:00, 2543676.72\n"
     ]
    },
    {
     "name": "stdout",
     "output_type": "stream",
     "text": [
      "File: results/daily/Modis/sst/A20150716_SST_NW_day.nc "
     ]
    },
    {
     "name": "stderr",
     "output_type": "stream",
     "text": [
      "100%|█| 687957/687957 [00:00<00:00, 6145796.87\n"
     ]
    },
    {
     "name": "stdout",
     "output_type": "stream",
     "text": [
      "File: results/daily/Modis/sst/A20150717_SST_NW_day.nc "
     ]
    },
    {
     "name": "stderr",
     "output_type": "stream",
     "text": [
      "100%|█| 366277/366277 [00:00<00:00, 3437961.33\n"
     ]
    },
    {
     "name": "stdout",
     "output_type": "stream",
     "text": [
      "File: results/daily/Modis/sst/A20150718_SST_NW_day.nc "
     ]
    },
    {
     "name": "stderr",
     "output_type": "stream",
     "text": [
      "100%|█| 522857/522857 [00:00<00:00, 5103313.06\n"
     ]
    },
    {
     "name": "stdout",
     "output_type": "stream",
     "text": [
      "File: results/daily/Modis/sst/A20150719_SST_NW_day.nc "
     ]
    },
    {
     "name": "stderr",
     "output_type": "stream",
     "text": [
      "100%|█| 530772/530772 [00:00<00:00, 5222899.49\n"
     ]
    },
    {
     "name": "stdout",
     "output_type": "stream",
     "text": [
      "File: results/daily/Modis/sst/A20150720_SST_NW_day.nc "
     ]
    },
    {
     "name": "stderr",
     "output_type": "stream",
     "text": [
      "100%|█| 812892/812892 [00:00<00:00, 7569788.85\n"
     ]
    },
    {
     "name": "stdout",
     "output_type": "stream",
     "text": [
      "File: results/daily/Modis/sst/A20150721_SST_NW_day.nc "
     ]
    },
    {
     "name": "stderr",
     "output_type": "stream",
     "text": [
      "100%|█| 598387/598387 [00:00<00:00, 5643690.72\n"
     ]
    },
    {
     "name": "stdout",
     "output_type": "stream",
     "text": [
      "File: results/daily/Modis/sst/A20150722_SST_NW_day.nc "
     ]
    },
    {
     "name": "stderr",
     "output_type": "stream",
     "text": [
      "100%|█| 343513/343513 [00:00<00:00, 3384077.22\n"
     ]
    },
    {
     "name": "stdout",
     "output_type": "stream",
     "text": [
      "File: results/daily/Modis/sst/A20150723_SST_NW_day.nc "
     ]
    },
    {
     "name": "stderr",
     "output_type": "stream",
     "text": [
      "100%|█| 358803/358803 [00:00<00:00, 3250709.27\n"
     ]
    },
    {
     "name": "stdout",
     "output_type": "stream",
     "text": [
      "File: results/daily/Modis/sst/A20150724_SST_NW_day.nc "
     ]
    },
    {
     "name": "stderr",
     "output_type": "stream",
     "text": [
      "100%|█| 714769/714769 [00:00<00:00, 6368026.19\n"
     ]
    },
    {
     "name": "stdout",
     "output_type": "stream",
     "text": [
      "File: results/daily/Modis/sst/A20150725_SST_NW_day.nc "
     ]
    },
    {
     "name": "stderr",
     "output_type": "stream",
     "text": [
      "100%|█| 1167592/1167592 [00:00<00:00, 5753399.\n"
     ]
    },
    {
     "name": "stdout",
     "output_type": "stream",
     "text": [
      "File: results/daily/Modis/sst/A20150726_SST_NW_day.nc "
     ]
    },
    {
     "name": "stderr",
     "output_type": "stream",
     "text": [
      "100%|█| 1129352/1129352 [00:00<00:00, 5581407.\n"
     ]
    },
    {
     "name": "stdout",
     "output_type": "stream",
     "text": [
      "File: results/daily/Modis/sst/A20150727_SST_NW_day.nc "
     ]
    },
    {
     "name": "stderr",
     "output_type": "stream",
     "text": [
      "100%|█| 1182618/1182618 [00:00<00:00, 5497204.\n"
     ]
    },
    {
     "name": "stdout",
     "output_type": "stream",
     "text": [
      "File: results/daily/Modis/sst/A20150728_SST_NW_day.nc "
     ]
    },
    {
     "name": "stderr",
     "output_type": "stream",
     "text": [
      "100%|█| 1020703/1020703 [00:00<00:00, 10034028\n"
     ]
    },
    {
     "name": "stdout",
     "output_type": "stream",
     "text": [
      "File: results/daily/Modis/sst/A20150729_SST_NW_day.nc "
     ]
    },
    {
     "name": "stderr",
     "output_type": "stream",
     "text": [
      "100%|█| 1343726/1343726 [00:00<00:00, 6528916.\n"
     ]
    },
    {
     "name": "stdout",
     "output_type": "stream",
     "text": [
      "File: results/daily/Modis/sst/A20150801_SST_NW_day.nc "
     ]
    },
    {
     "name": "stderr",
     "output_type": "stream",
     "text": [
      "100%|█| 1476296/1476296 [00:00<00:00, 7205041.\n"
     ]
    },
    {
     "name": "stdout",
     "output_type": "stream",
     "text": [
      "File: results/daily/Modis/sst/A20150802_SST_NW_day.nc "
     ]
    },
    {
     "name": "stderr",
     "output_type": "stream",
     "text": [
      "100%|█| 1563844/1563844 [00:00<00:00, 7358189.\n"
     ]
    },
    {
     "name": "stdout",
     "output_type": "stream",
     "text": [
      "File: results/daily/Modis/sst/A20150803_SST_NW_day.nc "
     ]
    },
    {
     "name": "stderr",
     "output_type": "stream",
     "text": [
      "100%|█| 1707082/1707082 [00:00<00:00, 7782250.\n"
     ]
    },
    {
     "name": "stdout",
     "output_type": "stream",
     "text": [
      "File: results/daily/Modis/sst/A20150804_SST_NW_day.nc "
     ]
    },
    {
     "name": "stderr",
     "output_type": "stream",
     "text": [
      "100%|█| 1679362/1679362 [00:00<00:00, 8110822.\n"
     ]
    },
    {
     "name": "stdout",
     "output_type": "stream",
     "text": [
      "File: results/daily/Modis/sst/A20150805_SST_NW_day.nc "
     ]
    },
    {
     "name": "stderr",
     "output_type": "stream",
     "text": [
      "100%|█| 1429186/1429186 [00:00<00:00, 6869466.\n"
     ]
    },
    {
     "name": "stdout",
     "output_type": "stream",
     "text": [
      "File: results/daily/Modis/sst/A20150806_SST_NW_day.nc "
     ]
    },
    {
     "name": "stderr",
     "output_type": "stream",
     "text": [
      "100%|█| 1305051/1305051 [00:00<00:00, 5955380.\n"
     ]
    },
    {
     "name": "stdout",
     "output_type": "stream",
     "text": [
      "File: results/daily/Modis/sst/A20150807_SST_NW_day.nc "
     ]
    },
    {
     "name": "stderr",
     "output_type": "stream",
     "text": [
      "100%|█| 1292337/1292337 [00:00<00:00, 6382313.\n"
     ]
    },
    {
     "name": "stdout",
     "output_type": "stream",
     "text": [
      "File: results/daily/Modis/sst/A20150808_SST_NW_day.nc "
     ]
    },
    {
     "name": "stderr",
     "output_type": "stream",
     "text": [
      "100%|█| 720459/720459 [00:00<00:00, 7111780.70\n"
     ]
    },
    {
     "name": "stdout",
     "output_type": "stream",
     "text": [
      "File: results/daily/Modis/sst/A20150809_SST_NW_day.nc "
     ]
    },
    {
     "name": "stderr",
     "output_type": "stream",
     "text": [
      "100%|█| 620887/620887 [00:00<00:00, 5875002.43\n"
     ]
    },
    {
     "name": "stdout",
     "output_type": "stream",
     "text": [
      "File: results/daily/Modis/sst/A20150810_SST_NW_day.nc "
     ]
    },
    {
     "name": "stderr",
     "output_type": "stream",
     "text": [
      "100%|█| 741269/741269 [00:00<00:00, 6688410.31\n"
     ]
    },
    {
     "name": "stdout",
     "output_type": "stream",
     "text": [
      "File: results/daily/Modis/sst/A20150811_SST_NW_day.nc "
     ]
    },
    {
     "name": "stderr",
     "output_type": "stream",
     "text": [
      "100%|█| 747002/747002 [00:00<00:00, 6789109.09\n"
     ]
    },
    {
     "name": "stdout",
     "output_type": "stream",
     "text": [
      "File: results/daily/Modis/sst/A20150812_SST_NW_day.nc "
     ]
    },
    {
     "name": "stderr",
     "output_type": "stream",
     "text": [
      "100%|█| 943660/943660 [00:00<00:00, 8117402.82\n"
     ]
    },
    {
     "name": "stdout",
     "output_type": "stream",
     "text": [
      "File: results/daily/Modis/sst/A20150813_SST_NW_day.nc "
     ]
    },
    {
     "name": "stderr",
     "output_type": "stream",
     "text": [
      "100%|█| 976275/976275 [00:00<00:00, 9340613.38\n"
     ]
    },
    {
     "name": "stdout",
     "output_type": "stream",
     "text": [
      "File: results/daily/Modis/sst/A20150814_SST_NW_day.nc "
     ]
    },
    {
     "name": "stderr",
     "output_type": "stream",
     "text": [
      "100%|█| 1166918/1166918 [00:00<00:00, 5388015.\n"
     ]
    },
    {
     "name": "stdout",
     "output_type": "stream",
     "text": [
      "File: results/daily/Modis/sst/A20150815_SST_NW_day.nc "
     ]
    },
    {
     "name": "stderr",
     "output_type": "stream",
     "text": [
      "100%|█| 863084/863084 [00:00<00:00, 7387860.10\n"
     ]
    },
    {
     "name": "stdout",
     "output_type": "stream",
     "text": [
      "File: results/daily/Modis/sst/A20150816_SST_NW_day.nc "
     ]
    },
    {
     "name": "stderr",
     "output_type": "stream",
     "text": [
      "100%|█| 850088/850088 [00:00<00:00, 7581357.30\n"
     ]
    },
    {
     "name": "stdout",
     "output_type": "stream",
     "text": [
      "File: results/daily/Modis/sst/A20150817_SST_NW_day.nc "
     ]
    },
    {
     "name": "stderr",
     "output_type": "stream",
     "text": [
      "100%|█| 697048/697048 [00:00<00:00, 6793959.99\n"
     ]
    },
    {
     "name": "stdout",
     "output_type": "stream",
     "text": [
      "File: results/daily/Modis/sst/A20150818_SST_NW_day.nc "
     ]
    },
    {
     "name": "stderr",
     "output_type": "stream",
     "text": [
      "100%|█| 616372/616372 [00:00<00:00, 5668391.97\n"
     ]
    },
    {
     "name": "stdout",
     "output_type": "stream",
     "text": [
      "File: results/daily/Modis/sst/A20150819_SST_NW_day.nc "
     ]
    },
    {
     "name": "stderr",
     "output_type": "stream",
     "text": [
      "100%|█| 663826/663826 [00:00<00:00, 6019223.30\n"
     ]
    },
    {
     "name": "stdout",
     "output_type": "stream",
     "text": [
      "File: results/daily/Modis/sst/A20150820_SST_NW_day.nc "
     ]
    },
    {
     "name": "stderr",
     "output_type": "stream",
     "text": [
      "100%|█| 594750/594750 [00:00<00:00, 5129667.23\n"
     ]
    },
    {
     "name": "stdout",
     "output_type": "stream",
     "text": [
      "File: results/daily/Modis/sst/A20150821_SST_NW_day.nc "
     ]
    },
    {
     "name": "stderr",
     "output_type": "stream",
     "text": [
      "100%|█| 1029879/1029879 [00:00<00:00, 10097136\n"
     ]
    },
    {
     "name": "stdout",
     "output_type": "stream",
     "text": [
      "File: results/daily/Modis/sst/A20150822_SST_NW_day.nc "
     ]
    },
    {
     "name": "stderr",
     "output_type": "stream",
     "text": [
      "100%|█| 823933/823933 [00:00<00:00, 8110000.91\n"
     ]
    },
    {
     "name": "stdout",
     "output_type": "stream",
     "text": [
      "File: results/daily/Modis/sst/A20150823_SST_NW_day.nc "
     ]
    },
    {
     "name": "stderr",
     "output_type": "stream",
     "text": [
      "100%|█| 697025/697025 [00:00<00:00, 6698149.80\n"
     ]
    },
    {
     "name": "stdout",
     "output_type": "stream",
     "text": [
      "File: results/daily/Modis/sst/A20150824_SST_NW_day.nc "
     ]
    },
    {
     "name": "stderr",
     "output_type": "stream",
     "text": [
      "100%|█| 278700/278700 [00:00<00:00, 2686018.41\n"
     ]
    },
    {
     "name": "stdout",
     "output_type": "stream",
     "text": [
      "File: results/daily/Modis/sst/A20150825_SST_NW_day.nc "
     ]
    },
    {
     "name": "stderr",
     "output_type": "stream",
     "text": [
      "100%|█| 664991/664991 [00:00<00:00, 6440663.50\n"
     ]
    },
    {
     "name": "stdout",
     "output_type": "stream",
     "text": [
      "File: results/daily/Modis/sst/A20150826_SST_NW_day.nc "
     ]
    },
    {
     "name": "stderr",
     "output_type": "stream",
     "text": [
      "100%|█| 1154677/1154677 [00:00<00:00, 5517277.\n"
     ]
    },
    {
     "name": "stdout",
     "output_type": "stream",
     "text": [
      "File: results/daily/Modis/sst/A20150827_SST_NW_day.nc "
     ]
    },
    {
     "name": "stderr",
     "output_type": "stream",
     "text": [
      "100%|█| 1183366/1183366 [00:00<00:00, 5588567.\n"
     ]
    },
    {
     "name": "stdout",
     "output_type": "stream",
     "text": [
      "File: results/daily/Modis/sst/A20150828_SST_NW_day.nc "
     ]
    },
    {
     "name": "stderr",
     "output_type": "stream",
     "text": [
      "100%|█| 916717/916717 [00:00<00:00, 8808379.51\n"
     ]
    },
    {
     "name": "stdout",
     "output_type": "stream",
     "text": [
      "File: results/daily/Modis/sst/A20150829_SST_NW_day.nc "
     ]
    },
    {
     "name": "stderr",
     "output_type": "stream",
     "text": [
      "100%|█| 848632/848632 [00:00<00:00, 8053097.08\n"
     ]
    },
    {
     "name": "stdout",
     "output_type": "stream",
     "text": [
      "File: results/daily/Modis/sst/A20150901_SST_NW_day.nc "
     ]
    },
    {
     "name": "stderr",
     "output_type": "stream",
     "text": [
      "100%|█| 779879/779879 [00:00<00:00, 7686423.15\n"
     ]
    },
    {
     "name": "stdout",
     "output_type": "stream",
     "text": [
      "File: results/daily/Modis/sst/A20150902_SST_NW_day.nc "
     ]
    },
    {
     "name": "stderr",
     "output_type": "stream",
     "text": [
      "100%|█| 705262/705262 [00:00<00:00, 6918570.45\n"
     ]
    },
    {
     "name": "stdout",
     "output_type": "stream",
     "text": [
      "File: results/daily/Modis/sst/A20150903_SST_NW_day.nc "
     ]
    },
    {
     "name": "stderr",
     "output_type": "stream",
     "text": [
      "100%|█| 1123564/1123564 [00:00<00:00, 5114940.\n"
     ]
    },
    {
     "name": "stdout",
     "output_type": "stream",
     "text": [
      "File: results/daily/Modis/sst/A20150904_SST_NW_day.nc "
     ]
    },
    {
     "name": "stderr",
     "output_type": "stream",
     "text": [
      "100%|█| 1022173/1022173 [00:00<00:00, 9984755.\n"
     ]
    },
    {
     "name": "stdout",
     "output_type": "stream",
     "text": [
      "File: results/daily/Modis/sst/A20150905_SST_NW_day.nc "
     ]
    },
    {
     "name": "stderr",
     "output_type": "stream",
     "text": [
      "100%|█| 601542/601542 [00:00<00:00, 5540367.28\n"
     ]
    },
    {
     "name": "stdout",
     "output_type": "stream",
     "text": [
      "File: results/daily/Modis/sst/A20150906_SST_NW_day.nc "
     ]
    },
    {
     "name": "stderr",
     "output_type": "stream",
     "text": [
      "100%|█| 1155303/1155303 [00:00<00:00, 5279446.\n"
     ]
    },
    {
     "name": "stdout",
     "output_type": "stream",
     "text": [
      "File: results/daily/Modis/sst/A20150907_SST_NW_day.nc "
     ]
    },
    {
     "name": "stderr",
     "output_type": "stream",
     "text": [
      "100%|█| 1243199/1243199 [00:00<00:00, 6102878.\n"
     ]
    },
    {
     "name": "stdout",
     "output_type": "stream",
     "text": [
      "File: results/daily/Modis/sst/A20150908_SST_NW_day.nc "
     ]
    },
    {
     "name": "stderr",
     "output_type": "stream",
     "text": [
      "100%|█| 626601/626601 [00:00<00:00, 6026883.36\n"
     ]
    },
    {
     "name": "stdout",
     "output_type": "stream",
     "text": [
      "File: results/daily/Modis/sst/A20150909_SST_NW_day.nc "
     ]
    },
    {
     "name": "stderr",
     "output_type": "stream",
     "text": [
      "100%|█| 844296/844296 [00:00<00:00, 8085840.07\n"
     ]
    },
    {
     "name": "stdout",
     "output_type": "stream",
     "text": [
      "File: results/daily/Modis/sst/A20150910_SST_NW_day.nc "
     ]
    },
    {
     "name": "stderr",
     "output_type": "stream",
     "text": [
      "100%|█| 1076037/1076037 [00:00<00:00, 4999458.\n"
     ]
    },
    {
     "name": "stdout",
     "output_type": "stream",
     "text": [
      "File: results/daily/Modis/sst/A20150911_SST_NW_day.nc "
     ]
    },
    {
     "name": "stderr",
     "output_type": "stream",
     "text": [
      "100%|█| 902382/902382 [00:00<00:00, 8780569.38\n"
     ]
    },
    {
     "name": "stdout",
     "output_type": "stream",
     "text": [
      "File: results/daily/Modis/sst/A20150912_SST_NW_day.nc "
     ]
    },
    {
     "name": "stderr",
     "output_type": "stream",
     "text": [
      "100%|█| 1069309/1069309 [00:00<00:00, 5237854.\n"
     ]
    },
    {
     "name": "stdout",
     "output_type": "stream",
     "text": [
      "File: results/daily/Modis/sst/A20150913_SST_NW_day.nc "
     ]
    },
    {
     "name": "stderr",
     "output_type": "stream",
     "text": [
      "100%|█| 100670/100670 [00:00<00:00, 986559.56i\n"
     ]
    },
    {
     "name": "stdout",
     "output_type": "stream",
     "text": [
      "File: results/daily/Modis/sst/A20150914_SST_NW_day.nc "
     ]
    },
    {
     "name": "stderr",
     "output_type": "stream",
     "text": [
      "100%|█| 1067152/1067152 [00:00<00:00, 5239833.\n"
     ]
    },
    {
     "name": "stdout",
     "output_type": "stream",
     "text": [
      "File: results/daily/Modis/sst/A20150915_SST_NW_day.nc "
     ]
    },
    {
     "name": "stderr",
     "output_type": "stream",
     "text": [
      "100%|█| 997753/997753 [00:00<00:00, 9876544.12\n"
     ]
    },
    {
     "name": "stdout",
     "output_type": "stream",
     "text": [
      "File: results/daily/Modis/sst/A20150916_SST_NW_day.nc "
     ]
    },
    {
     "name": "stderr",
     "output_type": "stream",
     "text": [
      "100%|█| 1003347/1003347 [00:00<00:00, 9884422.\n"
     ]
    },
    {
     "name": "stdout",
     "output_type": "stream",
     "text": [
      "File: results/daily/Modis/sst/A20150917_SST_NW_day.nc "
     ]
    },
    {
     "name": "stderr",
     "output_type": "stream",
     "text": [
      "100%|█| 776897/776897 [00:00<00:00, 7689339.59\n"
     ]
    },
    {
     "name": "stdout",
     "output_type": "stream",
     "text": [
      "File: results/daily/Modis/sst/A20150918_SST_NW_day.nc "
     ]
    },
    {
     "name": "stderr",
     "output_type": "stream",
     "text": [
      "100%|█| 944802/944802 [00:00<00:00, 9215290.36\n"
     ]
    },
    {
     "name": "stdout",
     "output_type": "stream",
     "text": [
      "File: results/daily/Modis/sst/A20150919_SST_NW_day.nc "
     ]
    },
    {
     "name": "stderr",
     "output_type": "stream",
     "text": [
      "100%|█| 1148286/1148286 [00:00<00:00, 5651428.\n"
     ]
    },
    {
     "name": "stdout",
     "output_type": "stream",
     "text": [
      "File: results/daily/Modis/sst/A20150920_SST_NW_day.nc "
     ]
    },
    {
     "name": "stderr",
     "output_type": "stream",
     "text": [
      "100%|█| 1309211/1309211 [00:00<00:00, 6480404.\n"
     ]
    },
    {
     "name": "stdout",
     "output_type": "stream",
     "text": [
      "File: results/daily/Modis/sst/A20150921_SST_NW_day.nc "
     ]
    },
    {
     "name": "stderr",
     "output_type": "stream",
     "text": [
      "100%|█| 1348708/1348708 [00:00<00:00, 6654211.\n"
     ]
    },
    {
     "name": "stdout",
     "output_type": "stream",
     "text": [
      "File: results/daily/Modis/sst/A20150922_SST_NW_day.nc "
     ]
    },
    {
     "name": "stderr",
     "output_type": "stream",
     "text": [
      "100%|█| 1017817/1017817 [00:00<00:00, 10026831\n"
     ]
    },
    {
     "name": "stdout",
     "output_type": "stream",
     "text": [
      "File: results/daily/Modis/sst/A20150923_SST_NW_day.nc "
     ]
    },
    {
     "name": "stderr",
     "output_type": "stream",
     "text": [
      "100%|█| 616261/616261 [00:00<00:00, 6061482.78\n"
     ]
    },
    {
     "name": "stdout",
     "output_type": "stream",
     "text": [
      "File: results/daily/Modis/sst/A20150924_SST_NW_day.nc "
     ]
    },
    {
     "name": "stderr",
     "output_type": "stream",
     "text": [
      "100%|█| 359083/359083 [00:00<00:00, 3536989.69\n"
     ]
    },
    {
     "name": "stdout",
     "output_type": "stream",
     "text": [
      "File: results/daily/Modis/sst/A20150925_SST_NW_day.nc "
     ]
    },
    {
     "name": "stderr",
     "output_type": "stream",
     "text": [
      "100%|█| 981128/981128 [00:00<00:00, 9641935.38\n"
     ]
    },
    {
     "name": "stdout",
     "output_type": "stream",
     "text": [
      "File: results/daily/Modis/sst/A20150926_SST_NW_day.nc "
     ]
    },
    {
     "name": "stderr",
     "output_type": "stream",
     "text": [
      "100%|█| 1289347/1289347 [00:00<00:00, 6379641.\n"
     ]
    },
    {
     "name": "stdout",
     "output_type": "stream",
     "text": [
      "File: results/daily/Modis/sst/A20150927_SST_NW_day.nc "
     ]
    },
    {
     "name": "stderr",
     "output_type": "stream",
     "text": [
      "100%|█| 1385839/1385839 [00:00<00:00, 6825243.\n"
     ]
    },
    {
     "name": "stdout",
     "output_type": "stream",
     "text": [
      "File: results/daily/Modis/sst/A20150928_SST_NW_day.nc "
     ]
    },
    {
     "name": "stderr",
     "output_type": "stream",
     "text": [
      "100%|█| 785988/785988 [00:00<00:00, 7780125.58\n"
     ]
    },
    {
     "name": "stdout",
     "output_type": "stream",
     "text": [
      "File: results/daily/Modis/sst/A20150929_SST_NW_day.nc "
     ]
    },
    {
     "name": "stderr",
     "output_type": "stream",
     "text": [
      "100%|█| 740738/740738 [00:00<00:00, 7285809.26\n"
     ]
    },
    {
     "name": "stdout",
     "output_type": "stream",
     "text": [
      "File: results/daily/Modis/sst/A20151001_SST_NW_day.nc "
     ]
    },
    {
     "name": "stderr",
     "output_type": "stream",
     "text": [
      "100%|█| 835089/835089 [00:00<00:00, 8269783.38\n"
     ]
    },
    {
     "name": "stdout",
     "output_type": "stream",
     "text": [
      "File: results/daily/Modis/sst/A20151002_SST_NW_day.nc "
     ]
    },
    {
     "name": "stderr",
     "output_type": "stream",
     "text": [
      "100%|█| 1419379/1419379 [00:00<00:00, 6990395.\n"
     ]
    },
    {
     "name": "stdout",
     "output_type": "stream",
     "text": [
      "File: results/daily/Modis/sst/A20151003_SST_NW_day.nc "
     ]
    },
    {
     "name": "stderr",
     "output_type": "stream",
     "text": [
      "100%|█| 1330796/1330796 [00:00<00:00, 6562487.\n"
     ]
    },
    {
     "name": "stdout",
     "output_type": "stream",
     "text": [
      "File: results/daily/Modis/sst/A20151004_SST_NW_day.nc "
     ]
    },
    {
     "name": "stderr",
     "output_type": "stream",
     "text": [
      "100%|█| 1096757/1096757 [00:00<00:00, 5373804.\n"
     ]
    },
    {
     "name": "stdout",
     "output_type": "stream",
     "text": [
      "File: results/daily/Modis/sst/A20151005_SST_NW_day.nc "
     ]
    },
    {
     "name": "stderr",
     "output_type": "stream",
     "text": [
      "100%|█| 1472516/1472516 [00:00<00:00, 7217642.\n"
     ]
    },
    {
     "name": "stdout",
     "output_type": "stream",
     "text": [
      "File: results/daily/Modis/sst/A20151006_SST_NW_day.nc "
     ]
    },
    {
     "name": "stderr",
     "output_type": "stream",
     "text": [
      "100%|█| 1403149/1403149 [00:00<00:00, 6923331.\n"
     ]
    },
    {
     "name": "stdout",
     "output_type": "stream",
     "text": [
      "File: results/daily/Modis/sst/A20151007_SST_NW_day.nc "
     ]
    },
    {
     "name": "stderr",
     "output_type": "stream",
     "text": [
      "100%|█| 766010/766010 [00:00<00:00, 7526897.57\n"
     ]
    },
    {
     "name": "stdout",
     "output_type": "stream",
     "text": [
      "File: results/daily/Modis/sst/A20151008_SST_NW_day.nc "
     ]
    },
    {
     "name": "stderr",
     "output_type": "stream",
     "text": [
      "100%|█| 990165/990165 [00:00<00:00, 9803028.49\n"
     ]
    },
    {
     "name": "stdout",
     "output_type": "stream",
     "text": [
      "File: results/daily/Modis/sst/A20151009_SST_NW_day.nc "
     ]
    },
    {
     "name": "stderr",
     "output_type": "stream",
     "text": [
      "100%|█| 1099793/1099793 [00:00<00:00, 5416743.\n"
     ]
    },
    {
     "name": "stdout",
     "output_type": "stream",
     "text": [
      "File: results/daily/Modis/sst/A20151010_SST_NW_day.nc "
     ]
    },
    {
     "name": "stderr",
     "output_type": "stream",
     "text": [
      "100%|█| 471901/471901 [00:00<00:00, 4648832.57\n"
     ]
    },
    {
     "name": "stdout",
     "output_type": "stream",
     "text": [
      "File: results/daily/Modis/sst/A20151011_SST_NW_day.nc "
     ]
    },
    {
     "name": "stderr",
     "output_type": "stream",
     "text": [
      "100%|█| 992841/992841 [00:00<00:00, 9781428.68\n"
     ]
    },
    {
     "name": "stdout",
     "output_type": "stream",
     "text": [
      "File: results/daily/Modis/sst/A20151012_SST_NW_day.nc "
     ]
    },
    {
     "name": "stderr",
     "output_type": "stream",
     "text": [
      "100%|█| 1226117/1226117 [00:00<00:00, 6038068.\n"
     ]
    },
    {
     "name": "stdout",
     "output_type": "stream",
     "text": [
      "File: results/daily/Modis/sst/A20151013_SST_NW_day.nc "
     ]
    },
    {
     "name": "stderr",
     "output_type": "stream",
     "text": [
      "100%|█| 1593067/1593067 [00:00<00:00, 7866400.\n"
     ]
    },
    {
     "name": "stdout",
     "output_type": "stream",
     "text": [
      "File: results/daily/Modis/sst/A20151014_SST_NW_day.nc "
     ]
    },
    {
     "name": "stderr",
     "output_type": "stream",
     "text": [
      "100%|█| 1303940/1303940 [00:00<00:00, 6432640.\n"
     ]
    },
    {
     "name": "stdout",
     "output_type": "stream",
     "text": [
      "File: results/daily/Modis/sst/A20151015_SST_NW_day.nc "
     ]
    },
    {
     "name": "stderr",
     "output_type": "stream",
     "text": [
      "100%|█| 1597539/1597539 [00:00<00:00, 7864262.\n"
     ]
    },
    {
     "name": "stdout",
     "output_type": "stream",
     "text": [
      "File: results/daily/Modis/sst/A20151016_SST_NW_day.nc "
     ]
    },
    {
     "name": "stderr",
     "output_type": "stream",
     "text": [
      "100%|█| 1525887/1525887 [00:00<00:00, 7546230.\n"
     ]
    },
    {
     "name": "stdout",
     "output_type": "stream",
     "text": [
      "File: results/daily/Modis/sst/A20151017_SST_NW_day.nc "
     ]
    },
    {
     "name": "stderr",
     "output_type": "stream",
     "text": [
      "100%|█| 1157439/1157439 [00:00<00:00, 5700148.\n"
     ]
    },
    {
     "name": "stdout",
     "output_type": "stream",
     "text": [
      "File: results/daily/Modis/sst/A20151018_SST_NW_day.nc "
     ]
    },
    {
     "name": "stderr",
     "output_type": "stream",
     "text": [
      "100%|█| 1418416/1418416 [00:00<00:00, 6992787.\n"
     ]
    },
    {
     "name": "stdout",
     "output_type": "stream",
     "text": [
      "File: results/daily/Modis/sst/A20151019_SST_NW_day.nc "
     ]
    },
    {
     "name": "stderr",
     "output_type": "stream",
     "text": [
      "100%|█| 1081383/1081383 [00:00<00:00, 5325850.\n"
     ]
    },
    {
     "name": "stdout",
     "output_type": "stream",
     "text": [
      "File: results/daily/Modis/sst/A20151020_SST_NW_day.nc "
     ]
    },
    {
     "name": "stderr",
     "output_type": "stream",
     "text": [
      "100%|█| 1263470/1263470 [00:00<00:00, 6249339.\n"
     ]
    },
    {
     "name": "stdout",
     "output_type": "stream",
     "text": [
      "File: results/daily/Modis/sst/A20151021_SST_NW_day.nc "
     ]
    },
    {
     "name": "stderr",
     "output_type": "stream",
     "text": [
      "100%|█| 1133876/1133876 [00:00<00:00, 5592576.\n"
     ]
    },
    {
     "name": "stdout",
     "output_type": "stream",
     "text": [
      "File: results/daily/Modis/sst/A20151022_SST_NW_day.nc "
     ]
    },
    {
     "name": "stderr",
     "output_type": "stream",
     "text": [
      "100%|█| 1284488/1284488 [00:00<00:00, 6326960.\n"
     ]
    },
    {
     "name": "stdout",
     "output_type": "stream",
     "text": [
      "File: results/daily/Modis/sst/A20151023_SST_NW_day.nc "
     ]
    },
    {
     "name": "stderr",
     "output_type": "stream",
     "text": [
      "100%|█| 972621/972621 [00:00<00:00, 9567793.96\n"
     ]
    },
    {
     "name": "stdout",
     "output_type": "stream",
     "text": [
      "File: results/daily/Modis/sst/A20151024_SST_NW_day.nc "
     ]
    },
    {
     "name": "stderr",
     "output_type": "stream",
     "text": [
      "100%|█| 1531034/1531034 [00:00<00:00, 7540256.\n"
     ]
    },
    {
     "name": "stdout",
     "output_type": "stream",
     "text": [
      "File: results/daily/Modis/sst/A20151025_SST_NW_day.nc "
     ]
    },
    {
     "name": "stderr",
     "output_type": "stream",
     "text": [
      "100%|█| 1222951/1222951 [00:00<00:00, 6036716.\n"
     ]
    },
    {
     "name": "stdout",
     "output_type": "stream",
     "text": [
      "File: results/daily/Modis/sst/A20151026_SST_NW_day.nc "
     ]
    },
    {
     "name": "stderr",
     "output_type": "stream",
     "text": [
      "100%|█| 751342/751342 [00:00<00:00, 7389970.28\n"
     ]
    },
    {
     "name": "stdout",
     "output_type": "stream",
     "text": [
      "File: results/daily/Modis/sst/A20151027_SST_NW_day.nc "
     ]
    },
    {
     "name": "stderr",
     "output_type": "stream",
     "text": [
      "100%|█| 843375/843375 [00:00<00:00, 8307842.03\n"
     ]
    },
    {
     "name": "stdout",
     "output_type": "stream",
     "text": [
      "File: results/daily/Modis/sst/A20151028_SST_NW_day.nc "
     ]
    },
    {
     "name": "stderr",
     "output_type": "stream",
     "text": [
      "100%|█| 916929/916929 [00:00<00:00, 9078241.45\n"
     ]
    },
    {
     "name": "stdout",
     "output_type": "stream",
     "text": [
      "File: results/daily/Modis/sst/A20151029_SST_NW_day.nc "
     ]
    },
    {
     "name": "stderr",
     "output_type": "stream",
     "text": [
      "100%|█| 706408/706408 [00:00<00:00, 6725113.32\n"
     ]
    },
    {
     "name": "stdout",
     "output_type": "stream",
     "text": [
      "File: results/daily/Modis/sst/A20151101_SST_NW_day.nc "
     ]
    },
    {
     "name": "stderr",
     "output_type": "stream",
     "text": [
      "100%|█| 547301/547301 [00:00<00:00, 5391695.65\n"
     ]
    },
    {
     "name": "stdout",
     "output_type": "stream",
     "text": [
      "File: results/daily/Modis/sst/A20151102_SST_NW_day.nc "
     ]
    },
    {
     "name": "stderr",
     "output_type": "stream",
     "text": [
      "100%|█| 1314866/1314866 [00:00<00:00, 6459932.\n"
     ]
    },
    {
     "name": "stdout",
     "output_type": "stream",
     "text": [
      "File: results/daily/Modis/sst/A20151103_SST_NW_day.nc "
     ]
    },
    {
     "name": "stderr",
     "output_type": "stream",
     "text": [
      "100%|█| 1511967/1511967 [00:00<00:00, 7476367.\n"
     ]
    },
    {
     "name": "stdout",
     "output_type": "stream",
     "text": [
      "File: results/daily/Modis/sst/A20151104_SST_NW_day.nc "
     ]
    },
    {
     "name": "stderr",
     "output_type": "stream",
     "text": [
      "100%|█| 967448/967448 [00:00<00:00, 9527968.01\n"
     ]
    },
    {
     "name": "stdout",
     "output_type": "stream",
     "text": [
      "File: results/daily/Modis/sst/A20151105_SST_NW_day.nc "
     ]
    },
    {
     "name": "stderr",
     "output_type": "stream",
     "text": [
      "100%|█| 1057799/1057799 [00:00<00:00, 5218547.\n"
     ]
    },
    {
     "name": "stdout",
     "output_type": "stream",
     "text": [
      "File: results/daily/Modis/sst/A20151106_SST_NW_day.nc "
     ]
    },
    {
     "name": "stderr",
     "output_type": "stream",
     "text": [
      "100%|█| 567815/567815 [00:00<00:00, 5620666.30\n"
     ]
    },
    {
     "name": "stdout",
     "output_type": "stream",
     "text": [
      "File: results/daily/Modis/sst/A20151107_SST_NW_day.nc "
     ]
    },
    {
     "name": "stderr",
     "output_type": "stream",
     "text": [
      "100%|█| 231756/231756 [00:00<00:00, 2289251.53\n"
     ]
    },
    {
     "name": "stdout",
     "output_type": "stream",
     "text": [
      "File: results/daily/Modis/sst/A20151108_SST_NW_day.nc "
     ]
    },
    {
     "name": "stderr",
     "output_type": "stream",
     "text": [
      "100%|█| 210052/210052 [00:00<00:00, 2079191.24\n"
     ]
    },
    {
     "name": "stdout",
     "output_type": "stream",
     "text": [
      "File: results/daily/Modis/sst/A20151109_SST_NW_day.nc "
     ]
    },
    {
     "name": "stderr",
     "output_type": "stream",
     "text": [
      "100%|█| 180031/180031 [00:00<00:00, 1764593.25\n"
     ]
    },
    {
     "name": "stdout",
     "output_type": "stream",
     "text": [
      "File: results/daily/Modis/sst/A20151110_SST_NW_day.nc "
     ]
    },
    {
     "name": "stderr",
     "output_type": "stream",
     "text": [
      "100%|█| 418581/418581 [00:00<00:00, 4123465.05\n"
     ]
    },
    {
     "name": "stdout",
     "output_type": "stream",
     "text": [
      "File: results/daily/Modis/sst/A20151111_SST_NW_day.nc "
     ]
    },
    {
     "name": "stderr",
     "output_type": "stream",
     "text": [
      "100%|█| 547885/547885 [00:00<00:00, 5397385.50\n"
     ]
    },
    {
     "name": "stdout",
     "output_type": "stream",
     "text": [
      "File: results/daily/Modis/sst/A20151112_SST_NW_day.nc "
     ]
    },
    {
     "name": "stderr",
     "output_type": "stream",
     "text": [
      "100%|█| 461257/461257 [00:00<00:00, 4544050.17\n"
     ]
    },
    {
     "name": "stdout",
     "output_type": "stream",
     "text": [
      "File: results/daily/Modis/sst/A20151113_SST_NW_day.nc "
     ]
    },
    {
     "name": "stderr",
     "output_type": "stream",
     "text": [
      "100%|█| 157813/157813 [00:00<00:00, 1566623.58\n"
     ]
    },
    {
     "name": "stdout",
     "output_type": "stream",
     "text": [
      "File: results/daily/Modis/sst/A20151114_SST_NW_day.nc "
     ]
    },
    {
     "name": "stderr",
     "output_type": "stream",
     "text": [
      "100%|█| 378724/378724 [00:00<00:00, 3730945.41\n"
     ]
    },
    {
     "name": "stdout",
     "output_type": "stream",
     "text": [
      "File: results/daily/Modis/sst/A20151115_SST_NW_day.nc "
     ]
    },
    {
     "name": "stderr",
     "output_type": "stream",
     "text": [
      "100%|█| 1028050/1028050 [00:00<00:00, 10127711\n"
     ]
    },
    {
     "name": "stdout",
     "output_type": "stream",
     "text": [
      "File: results/daily/Modis/sst/A20151116_SST_NW_day.nc "
     ]
    },
    {
     "name": "stderr",
     "output_type": "stream",
     "text": [
      "100%|█| 396711/396711 [00:00<00:00, 3908123.42\n"
     ]
    },
    {
     "name": "stdout",
     "output_type": "stream",
     "text": [
      "File: results/daily/Modis/sst/A20151117_SST_NW_day.nc "
     ]
    },
    {
     "name": "stderr",
     "output_type": "stream",
     "text": [
      "100%|█| 314276/314276 [00:00<00:00, 3095979.70\n"
     ]
    },
    {
     "name": "stdout",
     "output_type": "stream",
     "text": [
      "File: results/daily/Modis/sst/A20151118_SST_NW_day.nc "
     ]
    },
    {
     "name": "stderr",
     "output_type": "stream",
     "text": [
      "100%|█| 459275/459275 [00:00<00:00, 4524513.97\n"
     ]
    },
    {
     "name": "stdout",
     "output_type": "stream",
     "text": [
      "File: results/daily/Modis/sst/A20151119_SST_NW_day.nc "
     ]
    },
    {
     "name": "stderr",
     "output_type": "stream",
     "text": [
      "100%|█| 367544/367544 [00:00<00:00, 3634217.07\n"
     ]
    },
    {
     "name": "stdout",
     "output_type": "stream",
     "text": [
      "File: results/daily/Modis/sst/A20151120_SST_NW_day.nc "
     ]
    },
    {
     "name": "stderr",
     "output_type": "stream",
     "text": [
      "100%|█| 543189/543189 [00:00<00:00, 5351174.02\n"
     ]
    },
    {
     "name": "stdout",
     "output_type": "stream",
     "text": [
      "File: results/daily/Modis/sst/A20151121_SST_NW_day.nc "
     ]
    },
    {
     "name": "stderr",
     "output_type": "stream",
     "text": [
      "100%|█| 227463/227463 [00:00<00:00, 2251007.41\n"
     ]
    },
    {
     "name": "stdout",
     "output_type": "stream",
     "text": [
      "File: results/daily/Modis/sst/A20151122_SST_NW_day.nc "
     ]
    },
    {
     "name": "stderr",
     "output_type": "stream",
     "text": [
      "100%|█| 185288/185288 [00:00<00:00, 1823509.45\n"
     ]
    },
    {
     "name": "stdout",
     "output_type": "stream",
     "text": [
      "File: results/daily/Modis/sst/A20151123_SST_NW_day.nc "
     ]
    },
    {
     "name": "stderr",
     "output_type": "stream",
     "text": [
      "100%|█| 208656/208656 [00:00<00:00, 2065421.74\n"
     ]
    },
    {
     "name": "stdout",
     "output_type": "stream",
     "text": [
      "File: results/daily/Modis/sst/A20151124_SST_NW_day.nc "
     ]
    },
    {
     "name": "stderr",
     "output_type": "stream",
     "text": [
      "100%|█| 260704/260704 [00:00<00:00, 2561813.89\n"
     ]
    },
    {
     "name": "stdout",
     "output_type": "stream",
     "text": [
      "File: results/daily/Modis/sst/A20151125_SST_NW_day.nc "
     ]
    },
    {
     "name": "stderr",
     "output_type": "stream",
     "text": [
      "100%|█| 344131/344131 [00:00<00:00, 3386403.22\n"
     ]
    },
    {
     "name": "stdout",
     "output_type": "stream",
     "text": [
      "File: results/daily/Modis/sst/A20151126_SST_NW_day.nc "
     ]
    },
    {
     "name": "stderr",
     "output_type": "stream",
     "text": [
      "100%|█| 277002/277002 [00:00<00:00, 2755471.06\n"
     ]
    },
    {
     "name": "stdout",
     "output_type": "stream",
     "text": [
      "File: results/daily/Modis/sst/A20151127_SST_NW_day.nc "
     ]
    },
    {
     "name": "stderr",
     "output_type": "stream",
     "text": [
      "100%|█| 410262/410262 [00:00<00:00, 4053471.60\n"
     ]
    },
    {
     "name": "stdout",
     "output_type": "stream",
     "text": [
      "File: results/daily/Modis/sst/A20151128_SST_NW_day.nc "
     ]
    },
    {
     "name": "stderr",
     "output_type": "stream",
     "text": [
      "100%|█| 319654/319654 [00:00<00:00, 3151972.21\n"
     ]
    },
    {
     "name": "stdout",
     "output_type": "stream",
     "text": [
      "File: results/daily/Modis/sst/A20151129_SST_NW_day.nc "
     ]
    },
    {
     "name": "stderr",
     "output_type": "stream",
     "text": [
      "100%|█| 478916/478916 [00:00<00:00, 4717019.79\n"
     ]
    },
    {
     "name": "stdout",
     "output_type": "stream",
     "text": [
      "File: results/daily/Modis/sst/A20151201_SST_NW_day.nc "
     ]
    },
    {
     "name": "stderr",
     "output_type": "stream",
     "text": [
      "100%|█| 653755/653755 [00:00<00:00, 6440358.91\n"
     ]
    },
    {
     "name": "stdout",
     "output_type": "stream",
     "text": [
      "File: results/daily/Modis/sst/A20151202_SST_NW_day.nc "
     ]
    },
    {
     "name": "stderr",
     "output_type": "stream",
     "text": [
      "100%|█| 332991/332991 [00:00<00:00, 3292616.79\n"
     ]
    },
    {
     "name": "stdout",
     "output_type": "stream",
     "text": [
      "File: results/daily/Modis/sst/A20151203_SST_NW_day.nc "
     ]
    },
    {
     "name": "stderr",
     "output_type": "stream",
     "text": [
      "100%|█| 420168/420168 [00:00<00:00, 4141880.87\n"
     ]
    },
    {
     "name": "stdout",
     "output_type": "stream",
     "text": [
      "File: results/daily/Modis/sst/A20151204_SST_NW_day.nc "
     ]
    },
    {
     "name": "stderr",
     "output_type": "stream",
     "text": [
      "100%|█| 630433/630433 [00:00<00:00, 6241538.19\n"
     ]
    },
    {
     "name": "stdout",
     "output_type": "stream",
     "text": [
      "File: results/daily/Modis/sst/A20151205_SST_NW_day.nc "
     ]
    },
    {
     "name": "stderr",
     "output_type": "stream",
     "text": [
      "100%|█| 417301/417301 [00:00<00:00, 4110942.60\n"
     ]
    },
    {
     "name": "stdout",
     "output_type": "stream",
     "text": [
      "File: results/daily/Modis/sst/A20151206_SST_NW_day.nc "
     ]
    },
    {
     "name": "stderr",
     "output_type": "stream",
     "text": [
      "100%|█| 536665/536665 [00:00<00:00, 5313410.80\n"
     ]
    },
    {
     "name": "stdout",
     "output_type": "stream",
     "text": [
      "File: results/daily/Modis/sst/A20151207_SST_NW_day.nc "
     ]
    },
    {
     "name": "stderr",
     "output_type": "stream",
     "text": [
      "100%|█| 905754/905754 [00:00<00:00, 8922759.51\n"
     ]
    },
    {
     "name": "stdout",
     "output_type": "stream",
     "text": [
      "File: results/daily/Modis/sst/A20151208_SST_NW_day.nc "
     ]
    },
    {
     "name": "stderr",
     "output_type": "stream",
     "text": [
      "100%|█| 906188/906188 [00:00<00:00, 8906576.20\n"
     ]
    },
    {
     "name": "stdout",
     "output_type": "stream",
     "text": [
      "File: results/daily/Modis/sst/A20151209_SST_NW_day.nc "
     ]
    },
    {
     "name": "stderr",
     "output_type": "stream",
     "text": [
      "100%|█| 393022/393022 [00:00<00:00, 3890009.45\n"
     ]
    },
    {
     "name": "stdout",
     "output_type": "stream",
     "text": [
      "File: results/daily/Modis/sst/A20151210_SST_NW_day.nc "
     ]
    },
    {
     "name": "stderr",
     "output_type": "stream",
     "text": [
      "100%|█| 256435/256435 [00:00<00:00, 2550463.93\n"
     ]
    },
    {
     "name": "stdout",
     "output_type": "stream",
     "text": [
      "File: results/daily/Modis/sst/A20151211_SST_NW_day.nc "
     ]
    },
    {
     "name": "stderr",
     "output_type": "stream",
     "text": [
      "100%|█| 776944/776944 [00:00<00:00, 7645656.42\n"
     ]
    },
    {
     "name": "stdout",
     "output_type": "stream",
     "text": [
      "File: results/daily/Modis/sst/A20151212_SST_NW_day.nc "
     ]
    },
    {
     "name": "stderr",
     "output_type": "stream",
     "text": [
      "100%|█| 599181/599181 [00:00<00:00, 5931528.88\n"
     ]
    },
    {
     "name": "stdout",
     "output_type": "stream",
     "text": [
      "File: results/daily/Modis/sst/A20151213_SST_NW_day.nc "
     ]
    },
    {
     "name": "stderr",
     "output_type": "stream",
     "text": [
      "100%|█| 762285/762285 [00:00<00:00, 7492735.24\n"
     ]
    },
    {
     "name": "stdout",
     "output_type": "stream",
     "text": [
      "File: results/daily/Modis/sst/A20151214_SST_NW_day.nc "
     ]
    },
    {
     "name": "stderr",
     "output_type": "stream",
     "text": [
      "100%|█| 203031/203031 [00:00<00:00, 1999506.30\n"
     ]
    },
    {
     "name": "stdout",
     "output_type": "stream",
     "text": [
      "File: results/daily/Modis/sst/A20151215_SST_NW_day.nc "
     ]
    },
    {
     "name": "stderr",
     "output_type": "stream",
     "text": [
      "100%|█| 334224/334224 [00:00<00:00, 3308482.36\n"
     ]
    },
    {
     "name": "stdout",
     "output_type": "stream",
     "text": [
      "File: results/daily/Modis/sst/A20151216_SST_NW_day.nc "
     ]
    },
    {
     "name": "stderr",
     "output_type": "stream",
     "text": [
      "100%|█| 261867/261867 [00:00<00:00, 2566723.62\n"
     ]
    },
    {
     "name": "stdout",
     "output_type": "stream",
     "text": [
      "File: results/daily/Modis/sst/A20151217_SST_NW_day.nc "
     ]
    },
    {
     "name": "stderr",
     "output_type": "stream",
     "text": [
      "100%|█| 619080/619080 [00:00<00:00, 6126319.10\n"
     ]
    },
    {
     "name": "stdout",
     "output_type": "stream",
     "text": [
      "File: results/daily/Modis/sst/A20151218_SST_NW_day.nc "
     ]
    },
    {
     "name": "stderr",
     "output_type": "stream",
     "text": [
      "100%|█| 835768/835768 [00:00<00:00, 8191965.85\n"
     ]
    },
    {
     "name": "stdout",
     "output_type": "stream",
     "text": [
      "File: results/daily/Modis/sst/A20151219_SST_NW_day.nc "
     ]
    },
    {
     "name": "stderr",
     "output_type": "stream",
     "text": [
      "100%|█| 643986/643986 [00:00<00:00, 6280279.98\n"
     ]
    },
    {
     "name": "stdout",
     "output_type": "stream",
     "text": [
      "File: results/daily/Modis/sst/A20151220_SST_NW_day.nc "
     ]
    },
    {
     "name": "stderr",
     "output_type": "stream",
     "text": [
      "100%|█| 394781/394781 [00:00<00:00, 3888936.84\n"
     ]
    },
    {
     "name": "stdout",
     "output_type": "stream",
     "text": [
      "File: results/daily/Modis/sst/A20151221_SST_NW_day.nc "
     ]
    },
    {
     "name": "stderr",
     "output_type": "stream",
     "text": [
      "100%|█| 945053/945053 [00:00<00:00, 9310185.90\n"
     ]
    },
    {
     "name": "stdout",
     "output_type": "stream",
     "text": [
      "File: results/daily/Modis/sst/A20151222_SST_NW_day.nc "
     ]
    },
    {
     "name": "stderr",
     "output_type": "stream",
     "text": [
      "100%|█| 605587/605587 [00:00<00:00, 5988767.54\n"
     ]
    },
    {
     "name": "stdout",
     "output_type": "stream",
     "text": [
      "File: results/daily/Modis/sst/A20151223_SST_NW_day.nc "
     ]
    },
    {
     "name": "stderr",
     "output_type": "stream",
     "text": [
      "100%|█| 429916/429916 [00:00<00:00, 4255496.13\n"
     ]
    },
    {
     "name": "stdout",
     "output_type": "stream",
     "text": [
      "File: results/daily/Modis/sst/A20151224_SST_NW_day.nc "
     ]
    },
    {
     "name": "stderr",
     "output_type": "stream",
     "text": [
      "100%|█| 344003/344003 [00:00<00:00, 3388554.21\n"
     ]
    },
    {
     "name": "stdout",
     "output_type": "stream",
     "text": [
      "File: results/daily/Modis/sst/A20151225_SST_NW_day.nc "
     ]
    },
    {
     "name": "stderr",
     "output_type": "stream",
     "text": [
      "100%|█| 780173/780173 [00:00<00:00, 7679972.62\n"
     ]
    },
    {
     "name": "stdout",
     "output_type": "stream",
     "text": [
      "File: results/daily/Modis/sst/A20151226_SST_NW_day.nc "
     ]
    },
    {
     "name": "stderr",
     "output_type": "stream",
     "text": [
      "100%|█| 411866/411866 [00:00<00:00, 4052822.35\n"
     ]
    },
    {
     "name": "stdout",
     "output_type": "stream",
     "text": [
      "File: results/daily/Modis/sst/A20151227_SST_NW_day.nc "
     ]
    },
    {
     "name": "stderr",
     "output_type": "stream",
     "text": [
      "100%|█| 540267/540267 [00:00<00:00, 5349010.33\n"
     ]
    },
    {
     "name": "stdout",
     "output_type": "stream",
     "text": [
      "File: results/daily/Modis/sst/A20151228_SST_NW_day.nc "
     ]
    },
    {
     "name": "stderr",
     "output_type": "stream",
     "text": [
      "100%|█| 602890/602890 [00:00<00:00, 5967949.93\n"
     ]
    },
    {
     "name": "stdout",
     "output_type": "stream",
     "text": [
      "File: results/daily/Modis/sst/A20151229_SST_NW_day.nc "
     ]
    },
    {
     "name": "stderr",
     "output_type": "stream",
     "text": [
      "100%|█| 670463/670463 [00:00<00:00, 6638117.53"
     ]
    },
    {
     "name": "stdout",
     "output_type": "stream",
     "text": [
      "2016...\n"
     ]
    },
    {
     "name": "stderr",
     "output_type": "stream",
     "text": [
      "\n"
     ]
    },
    {
     "name": "stdout",
     "output_type": "stream",
     "text": [
      "File: results/daily/Modis/sst/A20160101_SST_NW_day.nc "
     ]
    },
    {
     "name": "stderr",
     "output_type": "stream",
     "text": [
      "100%|█| 679665/679665 [00:00<00:00, 6708464.24\n"
     ]
    },
    {
     "name": "stdout",
     "output_type": "stream",
     "text": [
      "File: results/daily/Modis/sst/A20160102_SST_NW_day.nc "
     ]
    },
    {
     "name": "stderr",
     "output_type": "stream",
     "text": [
      "100%|█| 777830/777830 [00:00<00:00, 7701154.49\n"
     ]
    },
    {
     "name": "stdout",
     "output_type": "stream",
     "text": [
      "File: results/daily/Modis/sst/A20160103_SST_NW_day.nc "
     ]
    },
    {
     "name": "stderr",
     "output_type": "stream",
     "text": [
      "100%|█| 1005516/1005516 [00:00<00:00, 9904580.\n"
     ]
    },
    {
     "name": "stdout",
     "output_type": "stream",
     "text": [
      "File: results/daily/Modis/sst/A20160104_SST_NW_day.nc "
     ]
    },
    {
     "name": "stderr",
     "output_type": "stream",
     "text": [
      "100%|█| 429182/429182 [00:00<00:00, 4230807.58\n"
     ]
    },
    {
     "name": "stdout",
     "output_type": "stream",
     "text": [
      "File: results/daily/Modis/sst/A20160105_SST_NW_day.nc "
     ]
    },
    {
     "name": "stderr",
     "output_type": "stream",
     "text": [
      "100%|█| 401001/401001 [00:00<00:00, 3981724.15\n"
     ]
    },
    {
     "name": "stdout",
     "output_type": "stream",
     "text": [
      "File: results/daily/Modis/sst/A20160106_SST_NW_day.nc "
     ]
    },
    {
     "name": "stderr",
     "output_type": "stream",
     "text": [
      "100%|█| 454940/454940 [00:00<00:00, 4458684.99\n"
     ]
    },
    {
     "name": "stdout",
     "output_type": "stream",
     "text": [
      "File: results/daily/Modis/sst/A20160107_SST_NW_day.nc "
     ]
    },
    {
     "name": "stderr",
     "output_type": "stream",
     "text": [
      "100%|█| 353016/353016 [00:00<00:00, 3494256.90\n"
     ]
    },
    {
     "name": "stdout",
     "output_type": "stream",
     "text": [
      "File: results/daily/Modis/sst/A20160108_SST_NW_day.nc "
     ]
    },
    {
     "name": "stderr",
     "output_type": "stream",
     "text": [
      "100%|█| 472518/472518 [00:00<00:00, 4671963.13\n"
     ]
    },
    {
     "name": "stdout",
     "output_type": "stream",
     "text": [
      "File: results/daily/Modis/sst/A20160109_SST_NW_day.nc "
     ]
    },
    {
     "name": "stderr",
     "output_type": "stream",
     "text": [
      "100%|█| 418917/418917 [00:00<00:00, 4126784.70\n"
     ]
    },
    {
     "name": "stdout",
     "output_type": "stream",
     "text": [
      "File: results/daily/Modis/sst/A20160110_SST_NW_day.nc "
     ]
    },
    {
     "name": "stderr",
     "output_type": "stream",
     "text": [
      "100%|█| 248766/248766 [00:00<00:00, 2459695.16\n"
     ]
    },
    {
     "name": "stdout",
     "output_type": "stream",
     "text": [
      "File: results/daily/Modis/sst/A20160111_SST_NW_day.nc "
     ]
    },
    {
     "name": "stderr",
     "output_type": "stream",
     "text": [
      "100%|█| 231952/231952 [00:00<00:00, 2285063.48\n"
     ]
    },
    {
     "name": "stdout",
     "output_type": "stream",
     "text": [
      "File: results/daily/Modis/sst/A20160112_SST_NW_day.nc "
     ]
    },
    {
     "name": "stderr",
     "output_type": "stream",
     "text": [
      "100%|█| 450651/450651 [00:00<00:00, 4435377.79\n"
     ]
    },
    {
     "name": "stdout",
     "output_type": "stream",
     "text": [
      "File: results/daily/Modis/sst/A20160113_SST_NW_day.nc "
     ]
    },
    {
     "name": "stderr",
     "output_type": "stream",
     "text": [
      "100%|█| 411784/411784 [00:00<00:00, 4056802.79\n"
     ]
    },
    {
     "name": "stdout",
     "output_type": "stream",
     "text": [
      "File: results/daily/Modis/sst/A20160114_SST_NW_day.nc "
     ]
    },
    {
     "name": "stderr",
     "output_type": "stream",
     "text": [
      "100%|█| 414937/414937 [00:00<00:00, 4108167.89\n"
     ]
    },
    {
     "name": "stdout",
     "output_type": "stream",
     "text": [
      "File: results/daily/Modis/sst/A20160115_SST_NW_day.nc "
     ]
    },
    {
     "name": "stderr",
     "output_type": "stream",
     "text": [
      "100%|█| 797106/797106 [00:00<00:00, 7852760.39\n"
     ]
    },
    {
     "name": "stdout",
     "output_type": "stream",
     "text": [
      "File: results/daily/Modis/sst/A20160116_SST_NW_day.nc "
     ]
    },
    {
     "name": "stderr",
     "output_type": "stream",
     "text": [
      "100%|█| 268822/268822 [00:00<00:00, 2622447.24\n"
     ]
    },
    {
     "name": "stdout",
     "output_type": "stream",
     "text": [
      "File: results/daily/Modis/sst/A20160117_SST_NW_day.nc "
     ]
    },
    {
     "name": "stderr",
     "output_type": "stream",
     "text": [
      "100%|█| 147292/147292 [00:00<00:00, 1465510.52\n"
     ]
    },
    {
     "name": "stdout",
     "output_type": "stream",
     "text": [
      "File: results/daily/Modis/sst/A20160118_SST_NW_day.nc "
     ]
    },
    {
     "name": "stderr",
     "output_type": "stream",
     "text": [
      "100%|█| 283477/283477 [00:00<00:00, 2790588.22\n"
     ]
    },
    {
     "name": "stdout",
     "output_type": "stream",
     "text": [
      "File: results/daily/Modis/sst/A20160119_SST_NW_day.nc "
     ]
    },
    {
     "name": "stderr",
     "output_type": "stream",
     "text": [
      "100%|█| 67448/67448 [00:00<00:00, 670109.43it/\n"
     ]
    },
    {
     "name": "stdout",
     "output_type": "stream",
     "text": [
      "File: results/daily/Modis/sst/A20160120_SST_NW_day.nc "
     ]
    },
    {
     "name": "stderr",
     "output_type": "stream",
     "text": [
      "100%|█| 179973/179973 [00:00<00:00, 1772258.19\n"
     ]
    },
    {
     "name": "stdout",
     "output_type": "stream",
     "text": [
      "File: results/daily/Modis/sst/A20160121_SST_NW_day.nc "
     ]
    },
    {
     "name": "stderr",
     "output_type": "stream",
     "text": [
      "100%|█| 130161/130161 [00:00<00:00, 1278709.53\n"
     ]
    },
    {
     "name": "stdout",
     "output_type": "stream",
     "text": [
      "File: results/daily/Modis/sst/A20160122_SST_NW_day.nc "
     ]
    },
    {
     "name": "stderr",
     "output_type": "stream",
     "text": [
      "100%|█| 99713/99713 [00:00<00:00, 992431.79it/\n"
     ]
    },
    {
     "name": "stdout",
     "output_type": "stream",
     "text": [
      "File: results/daily/Modis/sst/A20160123_SST_NW_day.nc "
     ]
    },
    {
     "name": "stderr",
     "output_type": "stream",
     "text": [
      "100%|█| 106842/106842 [00:00<00:00, 1050072.35\n"
     ]
    },
    {
     "name": "stdout",
     "output_type": "stream",
     "text": [
      "File: results/daily/Modis/sst/A20160124_SST_NW_day.nc "
     ]
    },
    {
     "name": "stderr",
     "output_type": "stream",
     "text": [
      "100%|█| 327987/327987 [00:00<00:00, 3230904.62\n"
     ]
    },
    {
     "name": "stdout",
     "output_type": "stream",
     "text": [
      "File: results/daily/Modis/sst/A20160125_SST_NW_day.nc "
     ]
    },
    {
     "name": "stderr",
     "output_type": "stream",
     "text": [
      "100%|█| 634706/634706 [00:00<00:00, 6282937.93\n"
     ]
    },
    {
     "name": "stdout",
     "output_type": "stream",
     "text": [
      "File: results/daily/Modis/sst/A20160126_SST_NW_day.nc "
     ]
    },
    {
     "name": "stderr",
     "output_type": "stream",
     "text": [
      "100%|█| 605814/605814 [00:00<00:00, 5937645.95\n"
     ]
    },
    {
     "name": "stdout",
     "output_type": "stream",
     "text": [
      "File: results/daily/Modis/sst/A20160127_SST_NW_day.nc "
     ]
    },
    {
     "name": "stderr",
     "output_type": "stream",
     "text": [
      "100%|█| 642078/642078 [00:00<00:00, 6355643.17\n"
     ]
    },
    {
     "name": "stdout",
     "output_type": "stream",
     "text": [
      "File: results/daily/Modis/sst/A20160128_SST_NW_day.nc "
     ]
    },
    {
     "name": "stderr",
     "output_type": "stream",
     "text": [
      "100%|█| 207636/207636 [00:00<00:00, 2035114.32\n"
     ]
    },
    {
     "name": "stdout",
     "output_type": "stream",
     "text": [
      "File: results/daily/Modis/sst/A20160129_SST_NW_day.nc "
     ]
    },
    {
     "name": "stderr",
     "output_type": "stream",
     "text": [
      "100%|█| 351584/351584 [00:00<00:00, 3480370.02\n"
     ]
    },
    {
     "name": "stdout",
     "output_type": "stream",
     "text": [
      "File: results/daily/Modis/sst/A20160201_SST_NW_day.nc "
     ]
    },
    {
     "name": "stderr",
     "output_type": "stream",
     "text": [
      "100%|█| 245327/245327 [00:00<00:00, 2402577.79\n"
     ]
    },
    {
     "name": "stdout",
     "output_type": "stream",
     "text": [
      "File: results/daily/Modis/sst/A20160202_SST_NW_day.nc "
     ]
    },
    {
     "name": "stderr",
     "output_type": "stream",
     "text": [
      "100%|█| 725444/725444 [00:00<00:00, 7146658.35\n"
     ]
    },
    {
     "name": "stdout",
     "output_type": "stream",
     "text": [
      "File: results/daily/Modis/sst/A20160203_SST_NW_day.nc "
     ]
    },
    {
     "name": "stderr",
     "output_type": "stream",
     "text": [
      "100%|█| 679190/679190 [00:00<00:00, 6690739.02\n"
     ]
    },
    {
     "name": "stdout",
     "output_type": "stream",
     "text": [
      "File: results/daily/Modis/sst/A20160204_SST_NW_day.nc "
     ]
    },
    {
     "name": "stderr",
     "output_type": "stream",
     "text": [
      "100%|█| 734365/734365 [00:00<00:00, 7163939.36\n"
     ]
    },
    {
     "name": "stdout",
     "output_type": "stream",
     "text": [
      "File: results/daily/Modis/sst/A20160205_SST_NW_day.nc "
     ]
    },
    {
     "name": "stderr",
     "output_type": "stream",
     "text": [
      "100%|█| 424330/424330 [00:00<00:00, 3956369.84\n"
     ]
    },
    {
     "name": "stdout",
     "output_type": "stream",
     "text": [
      "File: results/daily/Modis/sst/A20160206_SST_NW_day.nc "
     ]
    },
    {
     "name": "stderr",
     "output_type": "stream",
     "text": [
      "100%|█| 461454/461454 [00:00<00:00, 4512530.21\n"
     ]
    },
    {
     "name": "stdout",
     "output_type": "stream",
     "text": [
      "File: results/daily/Modis/sst/A20160207_SST_NW_day.nc "
     ]
    },
    {
     "name": "stderr",
     "output_type": "stream",
     "text": [
      "100%|█| 967721/967721 [00:00<00:00, 9566958.45\n"
     ]
    },
    {
     "name": "stdout",
     "output_type": "stream",
     "text": [
      "File: results/daily/Modis/sst/A20160208_SST_NW_day.nc "
     ]
    },
    {
     "name": "stderr",
     "output_type": "stream",
     "text": [
      "100%|█| 865024/865024 [00:00<00:00, 8563557.11\n"
     ]
    },
    {
     "name": "stdout",
     "output_type": "stream",
     "text": [
      "File: results/daily/Modis/sst/A20160209_SST_NW_day.nc "
     ]
    },
    {
     "name": "stderr",
     "output_type": "stream",
     "text": [
      "100%|█| 1311701/1311701 [00:00<00:00, 6476007.\n"
     ]
    },
    {
     "name": "stdout",
     "output_type": "stream",
     "text": [
      "File: results/daily/Modis/sst/A20160210_SST_NW_day.nc "
     ]
    },
    {
     "name": "stderr",
     "output_type": "stream",
     "text": [
      "100%|█| 783873/783873 [00:00<00:00, 7722430.60\n"
     ]
    },
    {
     "name": "stdout",
     "output_type": "stream",
     "text": [
      "File: results/daily/Modis/sst/A20160211_SST_NW_day.nc "
     ]
    },
    {
     "name": "stderr",
     "output_type": "stream",
     "text": [
      "100%|█| 500459/500459 [00:00<00:00, 4929528.85\n"
     ]
    },
    {
     "name": "stdout",
     "output_type": "stream",
     "text": [
      "File: results/daily/Modis/sst/A20160212_SST_NW_day.nc "
     ]
    },
    {
     "name": "stderr",
     "output_type": "stream",
     "text": [
      "100%|█| 98235/98235 [00:00<00:00, 954845.88it/\n"
     ]
    },
    {
     "name": "stdout",
     "output_type": "stream",
     "text": [
      "File: results/daily/Modis/sst/A20160213_SST_NW_day.nc "
     ]
    },
    {
     "name": "stderr",
     "output_type": "stream",
     "text": [
      "100%|█| 77317/77317 [00:00<00:00, 763893.21it/\n"
     ]
    },
    {
     "name": "stdout",
     "output_type": "stream",
     "text": [
      "File: results/daily/Modis/sst/A20160214_SST_NW_day.nc "
     ]
    },
    {
     "name": "stderr",
     "output_type": "stream",
     "text": [
      "100%|█| 215459/215459 [00:00<00:00, 2133371.76\n"
     ]
    },
    {
     "name": "stdout",
     "output_type": "stream",
     "text": [
      "File: results/daily/Modis/sst/A20160215_SST_NW_day.nc "
     ]
    },
    {
     "name": "stderr",
     "output_type": "stream",
     "text": [
      "100%|█| 425340/425340 [00:00<00:00, 4196020.53\n"
     ]
    },
    {
     "name": "stdout",
     "output_type": "stream",
     "text": [
      "File: results/daily/Modis/sst/A20160216_SST_NW_day.nc "
     ]
    },
    {
     "name": "stderr",
     "output_type": "stream",
     "text": [
      "100%|█| 622802/622802 [00:00<00:00, 6155584.85\n"
     ]
    },
    {
     "name": "stdout",
     "output_type": "stream",
     "text": [
      "File: results/daily/Modis/sst/A20160217_SST_NW_day.nc "
     ]
    },
    {
     "name": "stderr",
     "output_type": "stream",
     "text": [
      "100%|█| 641575/641575 [00:00<00:00, 6320429.05\n"
     ]
    },
    {
     "name": "stdout",
     "output_type": "stream",
     "text": [
      "File: results/daily/Modis/sst/A20160218_SST_NW_day.nc "
     ]
    },
    {
     "name": "stderr",
     "output_type": "stream",
     "text": [
      "100%|█| 766996/766996 [00:00<00:00, 7448085.64\n"
     ]
    },
    {
     "name": "stdout",
     "output_type": "stream",
     "text": [
      "File: results/daily/Modis/sst/A20160219_SST_NW_day.nc "
     ]
    },
    {
     "name": "stderr",
     "output_type": "stream",
     "text": [
      "100%|█| 351460/351460 [00:00<00:00, 3416664.35\n"
     ]
    },
    {
     "name": "stdout",
     "output_type": "stream",
     "text": [
      "File: results/daily/Modis/sst/A20160220_SST_NW_day.nc "
     ]
    },
    {
     "name": "stderr",
     "output_type": "stream",
     "text": [
      "100%|█| 467746/467746 [00:00<00:00, 4498770.71\n"
     ]
    },
    {
     "name": "stdout",
     "output_type": "stream",
     "text": [
      "File: results/daily/Modis/sst/A20160221_SST_NW_day.nc "
     ]
    },
    {
     "name": "stderr",
     "output_type": "stream",
     "text": [
      "100%|█| 127896/127896 [00:00<00:00, 1262588.48\n"
     ]
    },
    {
     "name": "stdout",
     "output_type": "stream",
     "text": [
      "File: results/daily/Modis/sst/A20160222_SST_NW_day.nc "
     ]
    },
    {
     "name": "stderr",
     "output_type": "stream",
     "text": [
      "100%|█| 221171/221171 [00:00<00:00, 2166849.04\n"
     ]
    },
    {
     "name": "stdout",
     "output_type": "stream",
     "text": [
      "File: results/daily/Modis/sst/A20160223_SST_NW_day.nc "
     ]
    },
    {
     "name": "stderr",
     "output_type": "stream",
     "text": [
      "100%|█| 219962/219962 [00:00<00:00, 1937195.66\n"
     ]
    },
    {
     "name": "stdout",
     "output_type": "stream",
     "text": [
      "File: results/daily/Modis/sst/A20160224_SST_NW_day.nc "
     ]
    },
    {
     "name": "stderr",
     "output_type": "stream",
     "text": [
      "100%|█| 571907/571907 [00:00<00:00, 5649532.18\n"
     ]
    },
    {
     "name": "stdout",
     "output_type": "stream",
     "text": [
      "File: results/daily/Modis/sst/A20160225_SST_NW_day.nc "
     ]
    },
    {
     "name": "stderr",
     "output_type": "stream",
     "text": [
      "100%|█| 600329/600329 [00:00<00:00, 5973118.96\n"
     ]
    },
    {
     "name": "stdout",
     "output_type": "stream",
     "text": [
      "File: results/daily/Modis/sst/A20160226_SST_NW_day.nc "
     ]
    },
    {
     "name": "stderr",
     "output_type": "stream",
     "text": [
      "100%|█| 593240/593240 [00:00<00:00, 5695203.94\n"
     ]
    },
    {
     "name": "stdout",
     "output_type": "stream",
     "text": [
      "File: results/daily/Modis/sst/A20160227_SST_NW_day.nc "
     ]
    },
    {
     "name": "stderr",
     "output_type": "stream",
     "text": [
      "100%|█| 769788/769788 [00:00<00:00, 6709261.79\n"
     ]
    },
    {
     "name": "stdout",
     "output_type": "stream",
     "text": [
      "File: results/daily/Modis/sst/A20160228_SST_NW_day.nc "
     ]
    },
    {
     "name": "stderr",
     "output_type": "stream",
     "text": [
      "100%|█| 323056/323056 [00:00<00:00, 3191009.26\n"
     ]
    },
    {
     "name": "stdout",
     "output_type": "stream",
     "text": [
      "File: results/daily/Modis/sst/A20160229_SST_NW_day.nc "
     ]
    },
    {
     "name": "stderr",
     "output_type": "stream",
     "text": [
      "100%|█| 415764/415764 [00:00<00:00, 4074822.37\n"
     ]
    },
    {
     "name": "stdout",
     "output_type": "stream",
     "text": [
      "File: results/daily/Modis/sst/A20160301_SST_NW_day.nc "
     ]
    },
    {
     "name": "stderr",
     "output_type": "stream",
     "text": [
      "100%|█| 1006231/1006231 [00:00<00:00, 9815818.\n"
     ]
    },
    {
     "name": "stdout",
     "output_type": "stream",
     "text": [
      "File: results/daily/Modis/sst/A20160302_SST_NW_day.nc "
     ]
    },
    {
     "name": "stderr",
     "output_type": "stream",
     "text": [
      "100%|█| 1113860/1113860 [00:00<00:00, 5499141.\n"
     ]
    },
    {
     "name": "stdout",
     "output_type": "stream",
     "text": [
      "File: results/daily/Modis/sst/A20160303_SST_NW_day.nc "
     ]
    },
    {
     "name": "stderr",
     "output_type": "stream",
     "text": [
      "100%|█| 752237/752237 [00:00<00:00, 7410538.00\n"
     ]
    },
    {
     "name": "stdout",
     "output_type": "stream",
     "text": [
      "File: results/daily/Modis/sst/A20160304_SST_NW_day.nc "
     ]
    },
    {
     "name": "stderr",
     "output_type": "stream",
     "text": [
      "100%|█| 707120/707120 [00:00<00:00, 6956419.11\n"
     ]
    },
    {
     "name": "stdout",
     "output_type": "stream",
     "text": [
      "File: results/daily/Modis/sst/A20160305_SST_NW_day.nc "
     ]
    },
    {
     "name": "stderr",
     "output_type": "stream",
     "text": [
      "100%|█| 227816/227816 [00:00<00:00, 2244338.97\n"
     ]
    },
    {
     "name": "stdout",
     "output_type": "stream",
     "text": [
      "File: results/daily/Modis/sst/A20160306_SST_NW_day.nc "
     ]
    },
    {
     "name": "stderr",
     "output_type": "stream",
     "text": [
      "100%|█| 335583/335583 [00:00<00:00, 3306025.66\n"
     ]
    },
    {
     "name": "stdout",
     "output_type": "stream",
     "text": [
      "File: results/daily/Modis/sst/A20160307_SST_NW_day.nc "
     ]
    },
    {
     "name": "stderr",
     "output_type": "stream",
     "text": [
      "100%|█| 672882/672882 [00:00<00:00, 6628832.09\n"
     ]
    },
    {
     "name": "stdout",
     "output_type": "stream",
     "text": [
      "File: results/daily/Modis/sst/A20160308_SST_NW_day.nc "
     ]
    },
    {
     "name": "stderr",
     "output_type": "stream",
     "text": [
      "100%|█| 309987/309987 [00:00<00:00, 3038413.59\n"
     ]
    },
    {
     "name": "stdout",
     "output_type": "stream",
     "text": [
      "File: results/daily/Modis/sst/A20160309_SST_NW_day.nc "
     ]
    },
    {
     "name": "stderr",
     "output_type": "stream",
     "text": [
      "100%|█| 361699/361699 [00:00<00:00, 3559798.02\n"
     ]
    },
    {
     "name": "stdout",
     "output_type": "stream",
     "text": [
      "File: results/daily/Modis/sst/A20160310_SST_NW_day.nc "
     ]
    },
    {
     "name": "stderr",
     "output_type": "stream",
     "text": [
      "100%|█| 543640/543640 [00:00<00:00, 5355440.90\n"
     ]
    },
    {
     "name": "stdout",
     "output_type": "stream",
     "text": [
      "File: results/daily/Modis/sst/A20160311_SST_NW_day.nc "
     ]
    },
    {
     "name": "stderr",
     "output_type": "stream",
     "text": [
      "100%|█| 871435/871435 [00:00<00:00, 8583466.74\n"
     ]
    },
    {
     "name": "stdout",
     "output_type": "stream",
     "text": [
      "File: results/daily/Modis/sst/A20160312_SST_NW_day.nc "
     ]
    },
    {
     "name": "stderr",
     "output_type": "stream",
     "text": [
      "100%|█| 447239/447239 [00:00<00:00, 4400433.34\n"
     ]
    },
    {
     "name": "stdout",
     "output_type": "stream",
     "text": [
      "File: results/daily/Modis/sst/A20160313_SST_NW_day.nc "
     ]
    },
    {
     "name": "stderr",
     "output_type": "stream",
     "text": [
      "100%|█| 658341/658341 [00:00<00:00, 6477245.84\n"
     ]
    },
    {
     "name": "stdout",
     "output_type": "stream",
     "text": [
      "File: results/daily/Modis/sst/A20160314_SST_NW_day.nc "
     ]
    },
    {
     "name": "stderr",
     "output_type": "stream",
     "text": [
      "100%|█| 1297038/1297038 [00:00<00:00, 6384743.\n"
     ]
    },
    {
     "name": "stdout",
     "output_type": "stream",
     "text": [
      "File: results/daily/Modis/sst/A20160315_SST_NW_day.nc "
     ]
    },
    {
     "name": "stderr",
     "output_type": "stream",
     "text": [
      "100%|█| 591262/591262 [00:00<00:00, 5831279.96\n"
     ]
    },
    {
     "name": "stdout",
     "output_type": "stream",
     "text": [
      "File: results/daily/Modis/sst/A20160316_SST_NW_day.nc "
     ]
    },
    {
     "name": "stderr",
     "output_type": "stream",
     "text": [
      "100%|█| 1393005/1393005 [00:00<00:00, 6851397.\n"
     ]
    },
    {
     "name": "stdout",
     "output_type": "stream",
     "text": [
      "File: results/daily/Modis/sst/A20160317_SST_NW_day.nc "
     ]
    },
    {
     "name": "stderr",
     "output_type": "stream",
     "text": [
      "100%|█| 249693/249693 [00:00<00:00, 2469565.38\n"
     ]
    },
    {
     "name": "stdout",
     "output_type": "stream",
     "text": [
      "File: results/daily/Modis/sst/A20160318_SST_NW_day.nc "
     ]
    },
    {
     "name": "stderr",
     "output_type": "stream",
     "text": [
      "100%|█| 259905/259905 [00:00<00:00, 2560314.77\n"
     ]
    },
    {
     "name": "stdout",
     "output_type": "stream",
     "text": [
      "File: results/daily/Modis/sst/A20160319_SST_NW_day.nc "
     ]
    },
    {
     "name": "stderr",
     "output_type": "stream",
     "text": [
      "100%|█| 1309533/1309533 [00:00<00:00, 6463797.\n"
     ]
    },
    {
     "name": "stdout",
     "output_type": "stream",
     "text": [
      "File: results/daily/Modis/sst/A20160320_SST_NW_day.nc "
     ]
    },
    {
     "name": "stderr",
     "output_type": "stream",
     "text": [
      "100%|█| 1144652/1144652 [00:00<00:00, 5649034.\n"
     ]
    },
    {
     "name": "stdout",
     "output_type": "stream",
     "text": [
      "File: results/daily/Modis/sst/A20160321_SST_NW_day.nc "
     ]
    },
    {
     "name": "stderr",
     "output_type": "stream",
     "text": [
      "100%|█| 1307827/1307827 [00:00<00:00, 6457960.\n"
     ]
    },
    {
     "name": "stdout",
     "output_type": "stream",
     "text": [
      "File: results/daily/Modis/sst/A20160322_SST_NW_day.nc "
     ]
    },
    {
     "name": "stderr",
     "output_type": "stream",
     "text": [
      "100%|█| 694168/694168 [00:00<00:00, 6872734.79\n"
     ]
    },
    {
     "name": "stdout",
     "output_type": "stream",
     "text": [
      "File: results/daily/Modis/sst/A20160323_SST_NW_day.nc "
     ]
    },
    {
     "name": "stderr",
     "output_type": "stream",
     "text": [
      "100%|█| 856714/856714 [00:00<00:00, 8424243.53\n"
     ]
    },
    {
     "name": "stdout",
     "output_type": "stream",
     "text": [
      "File: results/daily/Modis/sst/A20160324_SST_NW_day.nc "
     ]
    },
    {
     "name": "stderr",
     "output_type": "stream",
     "text": [
      "100%|█| 734076/734076 [00:00<00:00, 7229709.10\n"
     ]
    },
    {
     "name": "stdout",
     "output_type": "stream",
     "text": [
      "File: results/daily/Modis/sst/A20160325_SST_NW_day.nc "
     ]
    },
    {
     "name": "stderr",
     "output_type": "stream",
     "text": [
      "100%|█| 1275266/1275266 [00:00<00:00, 6312545.\n"
     ]
    },
    {
     "name": "stdout",
     "output_type": "stream",
     "text": [
      "File: results/daily/Modis/sst/A20160326_SST_NW_day.nc "
     ]
    },
    {
     "name": "stderr",
     "output_type": "stream",
     "text": [
      "100%|█| 1456959/1456959 [00:00<00:00, 7195253.\n"
     ]
    },
    {
     "name": "stdout",
     "output_type": "stream",
     "text": [
      "File: results/daily/Modis/sst/A20160327_SST_NW_day.nc "
     ]
    },
    {
     "name": "stderr",
     "output_type": "stream",
     "text": [
      "100%|█| 1484286/1484286 [00:00<00:00, 7326999.\n"
     ]
    },
    {
     "name": "stdout",
     "output_type": "stream",
     "text": [
      "File: results/daily/Modis/sst/A20160328_SST_NW_day.nc "
     ]
    },
    {
     "name": "stderr",
     "output_type": "stream",
     "text": [
      "100%|█| 1123552/1123552 [00:00<00:00, 5547703.\n"
     ]
    },
    {
     "name": "stdout",
     "output_type": "stream",
     "text": [
      "File: results/daily/Modis/sst/A20160329_SST_NW_day.nc "
     ]
    },
    {
     "name": "stderr",
     "output_type": "stream",
     "text": [
      "100%|█| 590149/590149 [00:00<00:00, 5807494.06\n"
     ]
    },
    {
     "name": "stdout",
     "output_type": "stream",
     "text": [
      "File: results/daily/Modis/sst/A20160401_SST_NW_day.nc "
     ]
    },
    {
     "name": "stderr",
     "output_type": "stream",
     "text": [
      "100%|█| 739974/739974 [00:00<00:00, 7289679.72\n"
     ]
    },
    {
     "name": "stdout",
     "output_type": "stream",
     "text": [
      "File: results/daily/Modis/sst/A20160402_SST_NW_day.nc "
     ]
    },
    {
     "name": "stderr",
     "output_type": "stream",
     "text": [
      "100%|█| 194065/194065 [00:00<00:00, 1911799.15\n"
     ]
    },
    {
     "name": "stdout",
     "output_type": "stream",
     "text": [
      "File: results/daily/Modis/sst/A20160403_SST_NW_day.nc "
     ]
    },
    {
     "name": "stderr",
     "output_type": "stream",
     "text": [
      "100%|█| 656745/656745 [00:00<00:00, 6469890.38\n"
     ]
    },
    {
     "name": "stdout",
     "output_type": "stream",
     "text": [
      "File: results/daily/Modis/sst/A20160404_SST_NW_day.nc "
     ]
    },
    {
     "name": "stderr",
     "output_type": "stream",
     "text": [
      "100%|█| 904455/904455 [00:00<00:00, 8953324.08\n"
     ]
    },
    {
     "name": "stdout",
     "output_type": "stream",
     "text": [
      "File: results/daily/Modis/sst/A20160405_SST_NW_day.nc "
     ]
    },
    {
     "name": "stderr",
     "output_type": "stream",
     "text": [
      "100%|█| 982304/982304 [00:00<00:00, 9677277.63\n"
     ]
    },
    {
     "name": "stdout",
     "output_type": "stream",
     "text": [
      "File: results/daily/Modis/sst/A20160406_SST_NW_day.nc "
     ]
    },
    {
     "name": "stderr",
     "output_type": "stream",
     "text": [
      "100%|█| 243001/243001 [00:00<00:00, 2398994.63\n"
     ]
    },
    {
     "name": "stdout",
     "output_type": "stream",
     "text": [
      "File: results/daily/Modis/sst/A20160407_SST_NW_day.nc "
     ]
    },
    {
     "name": "stderr",
     "output_type": "stream",
     "text": [
      "100%|█| 376581/376581 [00:00<00:00, 3709851.38\n"
     ]
    },
    {
     "name": "stdout",
     "output_type": "stream",
     "text": [
      "File: results/daily/Modis/sst/A20160408_SST_NW_day.nc "
     ]
    },
    {
     "name": "stderr",
     "output_type": "stream",
     "text": [
      "100%|█| 675898/675898 [00:00<00:00, 6642054.11\n"
     ]
    },
    {
     "name": "stdout",
     "output_type": "stream",
     "text": [
      "File: results/daily/Modis/sst/A20160409_SST_NW_day.nc "
     ]
    },
    {
     "name": "stderr",
     "output_type": "stream",
     "text": [
      "100%|█| 544260/544260 [00:00<00:00, 5361687.09\n"
     ]
    },
    {
     "name": "stdout",
     "output_type": "stream",
     "text": [
      "File: results/daily/Modis/sst/A20160410_SST_NW_day.nc "
     ]
    },
    {
     "name": "stderr",
     "output_type": "stream",
     "text": [
      "100%|█| 732663/732663 [00:00<00:00, 7217606.27\n"
     ]
    },
    {
     "name": "stdout",
     "output_type": "stream",
     "text": [
      "File: results/daily/Modis/sst/A20160411_SST_NW_day.nc "
     ]
    },
    {
     "name": "stderr",
     "output_type": "stream",
     "text": [
      "100%|█| 830358/830358 [00:00<00:00, 8221030.68\n"
     ]
    },
    {
     "name": "stdout",
     "output_type": "stream",
     "text": [
      "File: results/daily/Modis/sst/A20160412_SST_NW_day.nc "
     ]
    },
    {
     "name": "stderr",
     "output_type": "stream",
     "text": [
      "100%|█| 189911/189911 [00:00<00:00, 1870863.52\n"
     ]
    },
    {
     "name": "stdout",
     "output_type": "stream",
     "text": [
      "File: results/daily/Modis/sst/A20160413_SST_NW_day.nc "
     ]
    },
    {
     "name": "stderr",
     "output_type": "stream",
     "text": [
      "100%|█| 185036/185036 [00:00<00:00, 1822470.49\n"
     ]
    },
    {
     "name": "stdout",
     "output_type": "stream",
     "text": [
      "File: results/daily/Modis/sst/A20160414_SST_NW_day.nc "
     ]
    },
    {
     "name": "stderr",
     "output_type": "stream",
     "text": [
      "100%|█| 868430/868430 [00:00<00:00, 8552140.87\n"
     ]
    },
    {
     "name": "stdout",
     "output_type": "stream",
     "text": [
      "File: results/daily/Modis/sst/A20160415_SST_NW_day.nc "
     ]
    },
    {
     "name": "stderr",
     "output_type": "stream",
     "text": [
      "100%|█| 1098523/1098523 [00:00<00:00, 5414958.\n"
     ]
    },
    {
     "name": "stdout",
     "output_type": "stream",
     "text": [
      "File: results/daily/Modis/sst/A20160416_SST_NW_day.nc "
     ]
    },
    {
     "name": "stderr",
     "output_type": "stream",
     "text": [
      "100%|█| 478854/478854 [00:00<00:00, 4693111.37\n"
     ]
    },
    {
     "name": "stdout",
     "output_type": "stream",
     "text": [
      "File: results/daily/Modis/sst/A20160417_SST_NW_day.nc "
     ]
    },
    {
     "name": "stderr",
     "output_type": "stream",
     "text": [
      "100%|█| 498637/498637 [00:00<00:00, 4959062.84\n"
     ]
    },
    {
     "name": "stdout",
     "output_type": "stream",
     "text": [
      "File: results/daily/Modis/sst/A20160418_SST_NW_day.nc "
     ]
    },
    {
     "name": "stderr",
     "output_type": "stream",
     "text": [
      "100%|█| 1057474/1057474 [00:00<00:00, 5218895.\n"
     ]
    },
    {
     "name": "stdout",
     "output_type": "stream",
     "text": [
      "File: results/daily/Modis/sst/A20160419_SST_NW_day.nc "
     ]
    },
    {
     "name": "stderr",
     "output_type": "stream",
     "text": [
      "100%|█| 1264126/1264126 [00:00<00:00, 6234791.\n"
     ]
    },
    {
     "name": "stdout",
     "output_type": "stream",
     "text": [
      "File: results/daily/Modis/sst/A20160420_SST_NW_day.nc "
     ]
    },
    {
     "name": "stderr",
     "output_type": "stream",
     "text": [
      "100%|█| 308411/308411 [00:00<00:00, 3062877.34\n"
     ]
    },
    {
     "name": "stdout",
     "output_type": "stream",
     "text": [
      "File: results/daily/Modis/sst/A20160421_SST_NW_day.nc "
     ]
    },
    {
     "name": "stderr",
     "output_type": "stream",
     "text": [
      "100%|█| 237717/237717 [00:00<00:00, 2341840.59\n"
     ]
    },
    {
     "name": "stdout",
     "output_type": "stream",
     "text": [
      "File: results/daily/Modis/sst/A20160422_SST_NW_day.nc "
     ]
    },
    {
     "name": "stderr",
     "output_type": "stream",
     "text": [
      "100%|█| 418324/418324 [00:00<00:00, 4123102.51\n"
     ]
    },
    {
     "name": "stdout",
     "output_type": "stream",
     "text": [
      "File: results/daily/Modis/sst/A20160423_SST_NW_day.nc "
     ]
    },
    {
     "name": "stderr",
     "output_type": "stream",
     "text": [
      "100%|█| 577906/577906 [00:00<00:00, 5686507.08\n"
     ]
    },
    {
     "name": "stdout",
     "output_type": "stream",
     "text": [
      "File: results/daily/Modis/sst/A20160424_SST_NW_day.nc "
     ]
    },
    {
     "name": "stderr",
     "output_type": "stream",
     "text": [
      "100%|█| 736804/736804 [00:00<00:00, 7294911.81\n"
     ]
    },
    {
     "name": "stdout",
     "output_type": "stream",
     "text": [
      "File: results/daily/Modis/sst/A20160425_SST_NW_day.nc "
     ]
    },
    {
     "name": "stderr",
     "output_type": "stream",
     "text": [
      "100%|█| 698795/698795 [00:00<00:00, 6884176.19\n"
     ]
    },
    {
     "name": "stdout",
     "output_type": "stream",
     "text": [
      "File: results/daily/Modis/sst/A20160426_SST_NW_day.nc "
     ]
    },
    {
     "name": "stderr",
     "output_type": "stream",
     "text": [
      "100%|█| 434869/434869 [00:00<00:00, 4284090.11\n"
     ]
    },
    {
     "name": "stdout",
     "output_type": "stream",
     "text": [
      "File: results/daily/Modis/sst/A20160427_SST_NW_day.nc "
     ]
    },
    {
     "name": "stderr",
     "output_type": "stream",
     "text": [
      "100%|█| 252327/252327 [00:00<00:00, 2470473.78\n"
     ]
    },
    {
     "name": "stdout",
     "output_type": "stream",
     "text": [
      "File: results/daily/Modis/sst/A20160428_SST_NW_day.nc "
     ]
    },
    {
     "name": "stderr",
     "output_type": "stream",
     "text": [
      "100%|█| 1162318/1162318 [00:00<00:00, 5750733.\n"
     ]
    },
    {
     "name": "stdout",
     "output_type": "stream",
     "text": [
      "File: results/daily/Modis/sst/A20160429_SST_NW_day.nc "
     ]
    },
    {
     "name": "stderr",
     "output_type": "stream",
     "text": [
      "100%|█| 1271830/1271830 [00:00<00:00, 6295002.\n"
     ]
    },
    {
     "name": "stdout",
     "output_type": "stream",
     "text": [
      "File: results/daily/Modis/sst/A20160501_SST_NW_day.nc "
     ]
    },
    {
     "name": "stderr",
     "output_type": "stream",
     "text": [
      "100%|█| 930060/930060 [00:00<00:00, 9205878.94\n"
     ]
    },
    {
     "name": "stdout",
     "output_type": "stream",
     "text": [
      "File: results/daily/Modis/sst/A20160502_SST_NW_day.nc "
     ]
    },
    {
     "name": "stderr",
     "output_type": "stream",
     "text": [
      "100%|█| 340226/340226 [00:00<00:00, 3331733.10\n"
     ]
    },
    {
     "name": "stdout",
     "output_type": "stream",
     "text": [
      "File: results/daily/Modis/sst/A20160503_SST_NW_day.nc "
     ]
    },
    {
     "name": "stderr",
     "output_type": "stream",
     "text": [
      "100%|█| 1050330/1050330 [00:00<00:00, 5184889.\n"
     ]
    },
    {
     "name": "stdout",
     "output_type": "stream",
     "text": [
      "File: results/daily/Modis/sst/A20160504_SST_NW_day.nc "
     ]
    },
    {
     "name": "stderr",
     "output_type": "stream",
     "text": [
      "100%|█| 1090386/1090386 [00:00<00:00, 5364093.\n"
     ]
    },
    {
     "name": "stdout",
     "output_type": "stream",
     "text": [
      "File: results/daily/Modis/sst/A20160505_SST_NW_day.nc "
     ]
    },
    {
     "name": "stderr",
     "output_type": "stream",
     "text": [
      "100%|█| 458656/458656 [00:00<00:00, 4540202.20\n"
     ]
    },
    {
     "name": "stdout",
     "output_type": "stream",
     "text": [
      "File: results/daily/Modis/sst/A20160506_SST_NW_day.nc "
     ]
    },
    {
     "name": "stderr",
     "output_type": "stream",
     "text": [
      "100%|█| 326761/326761 [00:00<00:00, 3210398.03\n"
     ]
    },
    {
     "name": "stdout",
     "output_type": "stream",
     "text": [
      "File: results/daily/Modis/sst/A20160507_SST_NW_day.nc "
     ]
    },
    {
     "name": "stderr",
     "output_type": "stream",
     "text": [
      "100%|█| 809656/809656 [00:00<00:00, 7972764.90\n"
     ]
    },
    {
     "name": "stdout",
     "output_type": "stream",
     "text": [
      "File: results/daily/Modis/sst/A20160508_SST_NW_day.nc "
     ]
    },
    {
     "name": "stderr",
     "output_type": "stream",
     "text": [
      "100%|█| 463951/463951 [00:00<00:00, 4570547.04\n"
     ]
    },
    {
     "name": "stdout",
     "output_type": "stream",
     "text": [
      "File: results/daily/Modis/sst/A20160509_SST_NW_day.nc "
     ]
    },
    {
     "name": "stderr",
     "output_type": "stream",
     "text": [
      "100%|█| 253075/253075 [00:00<00:00, 2504987.65\n"
     ]
    },
    {
     "name": "stdout",
     "output_type": "stream",
     "text": [
      "File: results/daily/Modis/sst/A20160510_SST_NW_day.nc "
     ]
    },
    {
     "name": "stderr",
     "output_type": "stream",
     "text": [
      "100%|█| 404333/404333 [00:00<00:00, 3983256.89\n"
     ]
    },
    {
     "name": "stdout",
     "output_type": "stream",
     "text": [
      "File: results/daily/Modis/sst/A20160511_SST_NW_day.nc "
     ]
    },
    {
     "name": "stderr",
     "output_type": "stream",
     "text": [
      "100%|█| 846918/846918 [00:00<00:00, 8343448.53\n"
     ]
    },
    {
     "name": "stdout",
     "output_type": "stream",
     "text": [
      "File: results/daily/Modis/sst/A20160512_SST_NW_day.nc "
     ]
    },
    {
     "name": "stderr",
     "output_type": "stream",
     "text": [
      "100%|█| 1073264/1073264 [00:00<00:00, 5286292.\n"
     ]
    },
    {
     "name": "stdout",
     "output_type": "stream",
     "text": [
      "File: results/daily/Modis/sst/A20160513_SST_NW_day.nc "
     ]
    },
    {
     "name": "stderr",
     "output_type": "stream",
     "text": [
      "100%|█| 1126825/1126825 [00:00<00:00, 5555009.\n"
     ]
    },
    {
     "name": "stdout",
     "output_type": "stream",
     "text": [
      "File: results/daily/Modis/sst/A20160514_SST_NW_day.nc "
     ]
    },
    {
     "name": "stderr",
     "output_type": "stream",
     "text": [
      "100%|█| 362732/362732 [00:00<00:00, 3571699.54\n"
     ]
    },
    {
     "name": "stdout",
     "output_type": "stream",
     "text": [
      "File: results/daily/Modis/sst/A20160515_SST_NW_day.nc "
     ]
    },
    {
     "name": "stderr",
     "output_type": "stream",
     "text": [
      "100%|█| 435459/435459 [00:00<00:00, 4290043.54\n"
     ]
    },
    {
     "name": "stdout",
     "output_type": "stream",
     "text": [
      "File: results/daily/Modis/sst/A20160516_SST_NW_day.nc "
     ]
    },
    {
     "name": "stderr",
     "output_type": "stream",
     "text": [
      "100%|█| 1127737/1127737 [00:00<00:00, 5540633.\n"
     ]
    },
    {
     "name": "stdout",
     "output_type": "stream",
     "text": [
      "File: results/daily/Modis/sst/A20160517_SST_NW_day.nc "
     ]
    },
    {
     "name": "stderr",
     "output_type": "stream",
     "text": [
      "100%|█| 1018037/1018037 [00:00<00:00, 10028716\n"
     ]
    },
    {
     "name": "stdout",
     "output_type": "stream",
     "text": [
      "File: results/daily/Modis/sst/A20160518_SST_NW_day.nc "
     ]
    },
    {
     "name": "stderr",
     "output_type": "stream",
     "text": [
      "100%|█| 806807/806807 [00:00<00:00, 7948087.96\n"
     ]
    },
    {
     "name": "stdout",
     "output_type": "stream",
     "text": [
      "File: results/daily/Modis/sst/A20160519_SST_NW_day.nc "
     ]
    },
    {
     "name": "stderr",
     "output_type": "stream",
     "text": [
      "100%|█| 726138/726138 [00:00<00:00, 7153411.23\n"
     ]
    },
    {
     "name": "stdout",
     "output_type": "stream",
     "text": [
      "File: results/daily/Modis/sst/A20160520_SST_NW_day.nc "
     ]
    },
    {
     "name": "stderr",
     "output_type": "stream",
     "text": [
      "100%|█| 494995/494995 [00:00<00:00, 4900185.30\n"
     ]
    },
    {
     "name": "stdout",
     "output_type": "stream",
     "text": [
      "File: results/daily/Modis/sst/A20160521_SST_NW_day.nc "
     ]
    },
    {
     "name": "stderr",
     "output_type": "stream",
     "text": [
      "100%|█| 683804/683804 [00:00<00:00, 6702707.54\n"
     ]
    },
    {
     "name": "stdout",
     "output_type": "stream",
     "text": [
      "File: results/daily/Modis/sst/A20160522_SST_NW_day.nc "
     ]
    },
    {
     "name": "stderr",
     "output_type": "stream",
     "text": [
      "100%|█| 513359/513359 [00:00<00:00, 5069773.98\n"
     ]
    },
    {
     "name": "stdout",
     "output_type": "stream",
     "text": [
      "File: results/daily/Modis/sst/A20160523_SST_NW_day.nc "
     ]
    },
    {
     "name": "stderr",
     "output_type": "stream",
     "text": [
      "100%|█| 730054/730054 [00:00<00:00, 7155702.96\n"
     ]
    },
    {
     "name": "stdout",
     "output_type": "stream",
     "text": [
      "File: results/daily/Modis/sst/A20160524_SST_NW_day.nc "
     ]
    },
    {
     "name": "stderr",
     "output_type": "stream",
     "text": [
      "100%|█| 326917/326917 [00:00<00:00, 3204342.16\n"
     ]
    },
    {
     "name": "stdout",
     "output_type": "stream",
     "text": [
      "File: results/daily/Modis/sst/A20160525_SST_NW_day.nc "
     ]
    },
    {
     "name": "stderr",
     "output_type": "stream",
     "text": [
      "100%|█| 377043/377043 [00:00<00:00, 3729988.26\n"
     ]
    },
    {
     "name": "stdout",
     "output_type": "stream",
     "text": [
      "File: results/daily/Modis/sst/A20160526_SST_NW_day.nc "
     ]
    },
    {
     "name": "stderr",
     "output_type": "stream",
     "text": [
      "100%|█| 450374/450374 [00:00<00:00, 4412729.06\n"
     ]
    },
    {
     "name": "stdout",
     "output_type": "stream",
     "text": [
      "File: results/daily/Modis/sst/A20160527_SST_NW_day.nc "
     ]
    },
    {
     "name": "stderr",
     "output_type": "stream",
     "text": [
      "100%|█| 412736/412736 [00:00<00:00, 4085701.34\n"
     ]
    },
    {
     "name": "stdout",
     "output_type": "stream",
     "text": [
      "File: results/daily/Modis/sst/A20160528_SST_NW_day.nc "
     ]
    },
    {
     "name": "stderr",
     "output_type": "stream",
     "text": [
      "100%|█| 795845/795845 [00:00<00:00, 7831489.73\n"
     ]
    },
    {
     "name": "stdout",
     "output_type": "stream",
     "text": [
      "File: results/daily/Modis/sst/A20160529_SST_NW_day.nc "
     ]
    },
    {
     "name": "stderr",
     "output_type": "stream",
     "text": [
      "100%|█| 614021/614021 [00:00<00:00, 5989099.72\n"
     ]
    },
    {
     "name": "stdout",
     "output_type": "stream",
     "text": [
      "File: results/daily/Modis/sst/A20160601_SST_NW_day.nc "
     ]
    },
    {
     "name": "stderr",
     "output_type": "stream",
     "text": [
      "100%|█| 1151041/1151041 [00:00<00:00, 5669112.\n"
     ]
    },
    {
     "name": "stdout",
     "output_type": "stream",
     "text": [
      "File: results/daily/Modis/sst/A20160602_SST_NW_day.nc "
     ]
    },
    {
     "name": "stderr",
     "output_type": "stream",
     "text": [
      "100%|█| 1204521/1204521 [00:00<00:00, 5929149.\n"
     ]
    },
    {
     "name": "stdout",
     "output_type": "stream",
     "text": [
      "File: results/daily/Modis/sst/A20160603_SST_NW_day.nc "
     ]
    },
    {
     "name": "stderr",
     "output_type": "stream",
     "text": [
      "100%|█| 584503/584503 [00:00<00:00, 5758242.52\n"
     ]
    },
    {
     "name": "stdout",
     "output_type": "stream",
     "text": [
      "File: results/daily/Modis/sst/A20160604_SST_NW_day.nc "
     ]
    },
    {
     "name": "stderr",
     "output_type": "stream",
     "text": [
      "100%|█| 467385/467385 [00:00<00:00, 4650272.15\n"
     ]
    },
    {
     "name": "stdout",
     "output_type": "stream",
     "text": [
      "File: results/daily/Modis/sst/A20160605_SST_NW_day.nc "
     ]
    },
    {
     "name": "stderr",
     "output_type": "stream",
     "text": [
      "100%|█| 656892/656892 [00:00<00:00, 6439064.20\n"
     ]
    },
    {
     "name": "stdout",
     "output_type": "stream",
     "text": [
      "File: results/daily/Modis/sst/A20160606_SST_NW_day.nc "
     ]
    },
    {
     "name": "stderr",
     "output_type": "stream",
     "text": [
      "100%|█| 303081/303081 [00:00<00:00, 2982012.06\n"
     ]
    },
    {
     "name": "stdout",
     "output_type": "stream",
     "text": [
      "File: results/daily/Modis/sst/A20160607_SST_NW_day.nc "
     ]
    },
    {
     "name": "stderr",
     "output_type": "stream",
     "text": [
      "100%|█| 394914/394914 [00:00<00:00, 3890511.99\n"
     ]
    },
    {
     "name": "stdout",
     "output_type": "stream",
     "text": [
      "File: results/daily/Modis/sst/A20160608_SST_NW_day.nc "
     ]
    },
    {
     "name": "stderr",
     "output_type": "stream",
     "text": [
      "100%|█| 297287/297287 [00:00<00:00, 2925869.74\n"
     ]
    },
    {
     "name": "stdout",
     "output_type": "stream",
     "text": [
      "File: results/daily/Modis/sst/A20160609_SST_NW_day.nc "
     ]
    },
    {
     "name": "stderr",
     "output_type": "stream",
     "text": [
      "100%|█| 827408/827408 [00:00<00:00, 8148029.75\n"
     ]
    },
    {
     "name": "stdout",
     "output_type": "stream",
     "text": [
      "File: results/daily/Modis/sst/A20160610_SST_NW_day.nc "
     ]
    },
    {
     "name": "stderr",
     "output_type": "stream",
     "text": [
      "100%|█| 676665/676665 [00:00<00:00, 6632172.45\n"
     ]
    },
    {
     "name": "stdout",
     "output_type": "stream",
     "text": [
      "File: results/daily/Modis/sst/A20160611_SST_NW_day.nc "
     ]
    },
    {
     "name": "stderr",
     "output_type": "stream",
     "text": [
      "100%|█| 285252/285252 [00:00<00:00, 2819170.97\n"
     ]
    },
    {
     "name": "stdout",
     "output_type": "stream",
     "text": [
      "File: results/daily/Modis/sst/A20160612_SST_NW_day.nc "
     ]
    },
    {
     "name": "stderr",
     "output_type": "stream",
     "text": [
      "100%|█| 235474/235474 [00:00<00:00, 2324526.67\n"
     ]
    },
    {
     "name": "stdout",
     "output_type": "stream",
     "text": [
      "File: results/daily/Modis/sst/A20160613_SST_NW_day.nc "
     ]
    },
    {
     "name": "stderr",
     "output_type": "stream",
     "text": [
      "100%|█| 302159/302159 [00:00<00:00, 2976662.26\n"
     ]
    },
    {
     "name": "stdout",
     "output_type": "stream",
     "text": [
      "File: results/daily/Modis/sst/A20160614_SST_NW_day.nc "
     ]
    },
    {
     "name": "stderr",
     "output_type": "stream",
     "text": [
      "100%|█| 392005/392005 [00:00<00:00, 3880557.05\n"
     ]
    },
    {
     "name": "stdout",
     "output_type": "stream",
     "text": [
      "File: results/daily/Modis/sst/A20160615_SST_NW_day.nc "
     ]
    },
    {
     "name": "stderr",
     "output_type": "stream",
     "text": [
      "100%|█| 275636/275636 [00:00<00:00, 2737435.60\n"
     ]
    },
    {
     "name": "stdout",
     "output_type": "stream",
     "text": [
      "File: results/daily/Modis/sst/A20160616_SST_NW_day.nc "
     ]
    },
    {
     "name": "stderr",
     "output_type": "stream",
     "text": [
      "100%|█| 758412/758412 [00:00<00:00, 7434369.26\n"
     ]
    },
    {
     "name": "stdout",
     "output_type": "stream",
     "text": [
      "File: results/daily/Modis/sst/A20160617_SST_NW_day.nc "
     ]
    },
    {
     "name": "stderr",
     "output_type": "stream",
     "text": [
      "100%|█| 931373/931373 [00:00<00:00, 9129827.59\n"
     ]
    },
    {
     "name": "stdout",
     "output_type": "stream",
     "text": [
      "File: results/daily/Modis/sst/A20160618_SST_NW_day.nc "
     ]
    },
    {
     "name": "stderr",
     "output_type": "stream",
     "text": [
      "100%|█| 735945/735945 [00:00<00:00, 7247775.98\n"
     ]
    },
    {
     "name": "stdout",
     "output_type": "stream",
     "text": [
      "File: results/daily/Modis/sst/A20160619_SST_NW_day.nc "
     ]
    },
    {
     "name": "stderr",
     "output_type": "stream",
     "text": [
      "100%|█| 301929/301929 [00:00<00:00, 2959721.63\n"
     ]
    },
    {
     "name": "stdout",
     "output_type": "stream",
     "text": [
      "File: results/daily/Modis/sst/A20160620_SST_NW_day.nc "
     ]
    },
    {
     "name": "stderr",
     "output_type": "stream",
     "text": [
      "100%|█| 398438/398438 [00:00<00:00, 3944844.13\n"
     ]
    },
    {
     "name": "stdout",
     "output_type": "stream",
     "text": [
      "File: results/daily/Modis/sst/A20160621_SST_NW_day.nc "
     ]
    },
    {
     "name": "stderr",
     "output_type": "stream",
     "text": [
      "100%|█| 364561/364561 [00:00<00:00, 3587982.32\n"
     ]
    },
    {
     "name": "stdout",
     "output_type": "stream",
     "text": [
      "File: results/daily/Modis/sst/A20160622_SST_NW_day.nc "
     ]
    },
    {
     "name": "stderr",
     "output_type": "stream",
     "text": [
      "100%|█| 401155/401155 [00:00<00:00, 3951986.18\n"
     ]
    },
    {
     "name": "stdout",
     "output_type": "stream",
     "text": [
      "File: results/daily/Modis/sst/A20160623_SST_NW_day.nc "
     ]
    },
    {
     "name": "stderr",
     "output_type": "stream",
     "text": [
      "100%|█| 234670/234670 [00:00<00:00, 2311866.87\n"
     ]
    },
    {
     "name": "stdout",
     "output_type": "stream",
     "text": [
      "File: results/daily/Modis/sst/A20160624_SST_NW_day.nc "
     ]
    },
    {
     "name": "stderr",
     "output_type": "stream",
     "text": [
      "100%|█| 451140/451140 [00:00<00:00, 4444560.52\n"
     ]
    },
    {
     "name": "stdout",
     "output_type": "stream",
     "text": [
      "File: results/daily/Modis/sst/A20160625_SST_NW_day.nc "
     ]
    },
    {
     "name": "stderr",
     "output_type": "stream",
     "text": [
      "100%|█| 743395/743395 [00:00<00:00, 7286636.49\n"
     ]
    },
    {
     "name": "stdout",
     "output_type": "stream",
     "text": [
      "File: results/daily/Modis/sst/A20160626_SST_NW_day.nc "
     ]
    },
    {
     "name": "stderr",
     "output_type": "stream",
     "text": [
      "100%|█| 673363/673363 [00:00<00:00, 6633523.87\n"
     ]
    },
    {
     "name": "stdout",
     "output_type": "stream",
     "text": [
      "File: results/daily/Modis/sst/A20160627_SST_NW_day.nc "
     ]
    },
    {
     "name": "stderr",
     "output_type": "stream",
     "text": [
      "100%|█| 290704/290704 [00:00<00:00, 2892292.72\n"
     ]
    },
    {
     "name": "stdout",
     "output_type": "stream",
     "text": [
      "File: results/daily/Modis/sst/A20160628_SST_NW_day.nc "
     ]
    },
    {
     "name": "stderr",
     "output_type": "stream",
     "text": [
      "100%|█| 484719/484719 [00:00<00:00, 4775218.53\n"
     ]
    },
    {
     "name": "stdout",
     "output_type": "stream",
     "text": [
      "File: results/daily/Modis/sst/A20160629_SST_NW_day.nc "
     ]
    },
    {
     "name": "stderr",
     "output_type": "stream",
     "text": [
      "100%|█| 860929/860929 [00:00<00:00, 8481478.49\n"
     ]
    },
    {
     "name": "stdout",
     "output_type": "stream",
     "text": [
      "File: results/daily/Modis/sst/A20160701_SST_NW_day.nc "
     ]
    },
    {
     "name": "stderr",
     "output_type": "stream",
     "text": [
      "100%|█| 637173/637173 [00:00<00:00, 6245290.64\n"
     ]
    },
    {
     "name": "stdout",
     "output_type": "stream",
     "text": [
      "File: results/daily/Modis/sst/A20160702_SST_NW_day.nc "
     ]
    },
    {
     "name": "stderr",
     "output_type": "stream",
     "text": [
      "100%|█| 632426/632426 [00:00<00:00, 6242085.93\n"
     ]
    },
    {
     "name": "stdout",
     "output_type": "stream",
     "text": [
      "File: results/daily/Modis/sst/A20160703_SST_NW_day.nc "
     ]
    },
    {
     "name": "stderr",
     "output_type": "stream",
     "text": [
      "100%|█| 986123/986123 [00:00<00:00, 9714809.66\n"
     ]
    },
    {
     "name": "stdout",
     "output_type": "stream",
     "text": [
      "File: results/daily/Modis/sst/A20160704_SST_NW_day.nc "
     ]
    },
    {
     "name": "stderr",
     "output_type": "stream",
     "text": [
      "100%|█| 904715/904715 [00:00<00:00, 8868034.60\n"
     ]
    },
    {
     "name": "stdout",
     "output_type": "stream",
     "text": [
      "File: results/daily/Modis/sst/A20160705_SST_NW_day.nc "
     ]
    },
    {
     "name": "stderr",
     "output_type": "stream",
     "text": [
      "100%|█| 683509/683509 [00:00<00:00, 6766261.11\n"
     ]
    },
    {
     "name": "stdout",
     "output_type": "stream",
     "text": [
      "File: results/daily/Modis/sst/A20160706_SST_NW_day.nc "
     ]
    },
    {
     "name": "stderr",
     "output_type": "stream",
     "text": [
      "100%|█| 1013197/1013197 [00:00<00:00, 9930797.\n"
     ]
    },
    {
     "name": "stdout",
     "output_type": "stream",
     "text": [
      "File: results/daily/Modis/sst/A20160707_SST_NW_day.nc "
     ]
    },
    {
     "name": "stderr",
     "output_type": "stream",
     "text": [
      "100%|█| 507394/507394 [00:00<00:00, 5005832.67\n"
     ]
    },
    {
     "name": "stdout",
     "output_type": "stream",
     "text": [
      "File: results/daily/Modis/sst/A20160708_SST_NW_day.nc "
     ]
    },
    {
     "name": "stderr",
     "output_type": "stream",
     "text": [
      "100%|█| 428399/428399 [00:00<00:00, 4231094.06\n"
     ]
    },
    {
     "name": "stdout",
     "output_type": "stream",
     "text": [
      "File: results/daily/Modis/sst/A20160709_SST_NW_day.nc "
     ]
    },
    {
     "name": "stderr",
     "output_type": "stream",
     "text": [
      "100%|█| 323511/323511 [00:00<00:00, 3186251.61\n"
     ]
    },
    {
     "name": "stdout",
     "output_type": "stream",
     "text": [
      "File: results/daily/Modis/sst/A20160710_SST_NW_day.nc "
     ]
    },
    {
     "name": "stderr",
     "output_type": "stream",
     "text": [
      "100%|█| 376596/376596 [00:00<00:00, 3703735.74\n"
     ]
    },
    {
     "name": "stdout",
     "output_type": "stream",
     "text": [
      "File: results/daily/Modis/sst/A20160711_SST_NW_day.nc "
     ]
    },
    {
     "name": "stderr",
     "output_type": "stream",
     "text": [
      "100%|█| 481536/481536 [00:00<00:00, 4767601.06\n"
     ]
    },
    {
     "name": "stdout",
     "output_type": "stream",
     "text": [
      "File: results/daily/Modis/sst/A20160712_SST_NW_day.nc "
     ]
    },
    {
     "name": "stderr",
     "output_type": "stream",
     "text": [
      "100%|█| 292725/292725 [00:00<00:00, 2883826.60\n"
     ]
    },
    {
     "name": "stdout",
     "output_type": "stream",
     "text": [
      "File: results/daily/Modis/sst/A20160713_SST_NW_day.nc "
     ]
    },
    {
     "name": "stderr",
     "output_type": "stream",
     "text": [
      "100%|█| 399823/399823 [00:00<00:00, 3915787.82\n"
     ]
    },
    {
     "name": "stdout",
     "output_type": "stream",
     "text": [
      "File: results/daily/Modis/sst/A20160714_SST_NW_day.nc "
     ]
    },
    {
     "name": "stderr",
     "output_type": "stream",
     "text": [
      "100%|█| 298356/298356 [00:00<00:00, 2964388.29\n"
     ]
    },
    {
     "name": "stdout",
     "output_type": "stream",
     "text": [
      "File: results/daily/Modis/sst/A20160715_SST_NW_day.nc "
     ]
    },
    {
     "name": "stderr",
     "output_type": "stream",
     "text": [
      "100%|█| 347508/347508 [00:00<00:00, 3423385.24\n"
     ]
    },
    {
     "name": "stdout",
     "output_type": "stream",
     "text": [
      "File: results/daily/Modis/sst/A20160716_SST_NW_day.nc "
     ]
    },
    {
     "name": "stderr",
     "output_type": "stream",
     "text": [
      "100%|█| 403545/403545 [00:00<00:00, 3990593.80\n"
     ]
    },
    {
     "name": "stdout",
     "output_type": "stream",
     "text": [
      "File: results/daily/Modis/sst/A20160717_SST_NW_day.nc "
     ]
    },
    {
     "name": "stderr",
     "output_type": "stream",
     "text": [
      "100%|█| 649595/649595 [00:00<00:00, 6399362.33\n"
     ]
    },
    {
     "name": "stdout",
     "output_type": "stream",
     "text": [
      "File: results/daily/Modis/sst/A20160718_SST_NW_day.nc "
     ]
    },
    {
     "name": "stderr",
     "output_type": "stream",
     "text": [
      "100%|█| 995507/995507 [00:00<00:00, 9757455.14\n"
     ]
    },
    {
     "name": "stdout",
     "output_type": "stream",
     "text": [
      "File: results/daily/Modis/sst/A20160719_SST_NW_day.nc "
     ]
    },
    {
     "name": "stderr",
     "output_type": "stream",
     "text": [
      "100%|█| 988575/988575 [00:00<00:00, 9741619.78\n"
     ]
    },
    {
     "name": "stdout",
     "output_type": "stream",
     "text": [
      "File: results/daily/Modis/sst/A20160720_SST_NW_day.nc "
     ]
    },
    {
     "name": "stderr",
     "output_type": "stream",
     "text": [
      "100%|█| 567902/567902 [00:00<00:00, 5594539.77\n"
     ]
    },
    {
     "name": "stdout",
     "output_type": "stream",
     "text": [
      "File: results/daily/Modis/sst/A20160721_SST_NW_day.nc "
     ]
    },
    {
     "name": "stderr",
     "output_type": "stream",
     "text": [
      "100%|█| 709920/709920 [00:00<00:00, 6993642.67\n"
     ]
    },
    {
     "name": "stdout",
     "output_type": "stream",
     "text": [
      "File: results/daily/Modis/sst/A20160722_SST_NW_day.nc "
     ]
    },
    {
     "name": "stderr",
     "output_type": "stream",
     "text": [
      "100%|█| 788089/788089 [00:00<00:00, 7802616.49\n"
     ]
    },
    {
     "name": "stdout",
     "output_type": "stream",
     "text": [
      "File: results/daily/Modis/sst/A20160723_SST_NW_day.nc "
     ]
    },
    {
     "name": "stderr",
     "output_type": "stream",
     "text": [
      "100%|█| 904828/904828 [00:00<00:00, 8908929.30\n"
     ]
    },
    {
     "name": "stdout",
     "output_type": "stream",
     "text": [
      "File: results/daily/Modis/sst/A20160724_SST_NW_day.nc "
     ]
    },
    {
     "name": "stderr",
     "output_type": "stream",
     "text": [
      "100%|█| 831867/831867 [00:00<00:00, 8195076.72\n"
     ]
    },
    {
     "name": "stdout",
     "output_type": "stream",
     "text": [
      "File: results/daily/Modis/sst/A20160725_SST_NW_day.nc "
     ]
    },
    {
     "name": "stderr",
     "output_type": "stream",
     "text": [
      "100%|█| 682088/682088 [00:00<00:00, 6718640.40\n"
     ]
    },
    {
     "name": "stdout",
     "output_type": "stream",
     "text": [
      "File: results/daily/Modis/sst/A20160726_SST_NW_day.nc "
     ]
    },
    {
     "name": "stderr",
     "output_type": "stream",
     "text": [
      "100%|█| 278951/278951 [00:00<00:00, 2734276.92\n"
     ]
    },
    {
     "name": "stdout",
     "output_type": "stream",
     "text": [
      "File: results/daily/Modis/sst/A20160727_SST_NW_day.nc "
     ]
    },
    {
     "name": "stderr",
     "output_type": "stream",
     "text": [
      "100%|█| 669551/669551 [00:00<00:00, 6627476.63\n"
     ]
    },
    {
     "name": "stdout",
     "output_type": "stream",
     "text": [
      "File: results/daily/Modis/sst/A20160728_SST_NW_day.nc "
     ]
    },
    {
     "name": "stderr",
     "output_type": "stream",
     "text": [
      "100%|█| 1115658/1115658 [00:00<00:00, 5392415.\n"
     ]
    },
    {
     "name": "stdout",
     "output_type": "stream",
     "text": [
      "File: results/daily/Modis/sst/A20160729_SST_NW_day.nc "
     ]
    },
    {
     "name": "stderr",
     "output_type": "stream",
     "text": [
      "100%|█| 1311402/1311402 [00:00<00:00, 6402990.\n"
     ]
    },
    {
     "name": "stdout",
     "output_type": "stream",
     "text": [
      "File: results/daily/Modis/sst/A20160801_SST_NW_day.nc "
     ]
    },
    {
     "name": "stderr",
     "output_type": "stream",
     "text": [
      "100%|█| 508600/508600 [00:00<00:00, 4822564.93\n"
     ]
    },
    {
     "name": "stdout",
     "output_type": "stream",
     "text": [
      "File: results/daily/Modis/sst/A20160802_SST_NW_day.nc "
     ]
    },
    {
     "name": "stderr",
     "output_type": "stream",
     "text": [
      "100%|█| 788581/788581 [00:00<00:00, 7606147.48\n"
     ]
    },
    {
     "name": "stdout",
     "output_type": "stream",
     "text": [
      "File: results/daily/Modis/sst/A20160803_SST_NW_day.nc "
     ]
    },
    {
     "name": "stderr",
     "output_type": "stream",
     "text": [
      "100%|█| 781234/781234 [00:00<00:00, 7194590.09\n"
     ]
    },
    {
     "name": "stdout",
     "output_type": "stream",
     "text": [
      "File: results/daily/Modis/sst/A20160804_SST_NW_day.nc "
     ]
    },
    {
     "name": "stderr",
     "output_type": "stream",
     "text": [
      "100%|█| 1416804/1416804 [00:00<00:00, 6892092.\n"
     ]
    },
    {
     "name": "stdout",
     "output_type": "stream",
     "text": [
      "File: results/daily/Modis/sst/A20160805_SST_NW_day.nc "
     ]
    },
    {
     "name": "stderr",
     "output_type": "stream",
     "text": [
      "100%|█| 1752098/1752098 [00:00<00:00, 8332528.\n"
     ]
    },
    {
     "name": "stdout",
     "output_type": "stream",
     "text": [
      "File: results/daily/Modis/sst/A20160806_SST_NW_day.nc "
     ]
    },
    {
     "name": "stderr",
     "output_type": "stream",
     "text": [
      "100%|█| 1639616/1639616 [00:00<00:00, 7971272.\n"
     ]
    },
    {
     "name": "stdout",
     "output_type": "stream",
     "text": [
      "File: results/daily/Modis/sst/A20160807_SST_NW_day.nc "
     ]
    },
    {
     "name": "stderr",
     "output_type": "stream",
     "text": [
      "100%|█| 1341047/1341047 [00:00<00:00, 6562362.\n"
     ]
    },
    {
     "name": "stdout",
     "output_type": "stream",
     "text": [
      "File: results/daily/Modis/sst/A20160808_SST_NW_day.nc "
     ]
    },
    {
     "name": "stderr",
     "output_type": "stream",
     "text": [
      "100%|█| 1428789/1428789 [00:00<00:00, 6912752.\n"
     ]
    },
    {
     "name": "stdout",
     "output_type": "stream",
     "text": [
      "File: results/daily/Modis/sst/A20160809_SST_NW_day.nc "
     ]
    },
    {
     "name": "stderr",
     "output_type": "stream",
     "text": [
      "100%|█| 1545540/1545540 [00:00<00:00, 7510745.\n"
     ]
    },
    {
     "name": "stdout",
     "output_type": "stream",
     "text": [
      "File: results/daily/Modis/sst/A20160810_SST_NW_day.nc "
     ]
    },
    {
     "name": "stderr",
     "output_type": "stream",
     "text": [
      "100%|█| 1606665/1606665 [00:00<00:00, 7311230.\n"
     ]
    },
    {
     "name": "stdout",
     "output_type": "stream",
     "text": [
      "File: results/daily/Modis/sst/A20160811_SST_NW_day.nc "
     ]
    },
    {
     "name": "stderr",
     "output_type": "stream",
     "text": [
      "100%|█| 1775131/1775131 [00:00<00:00, 8502475.\n"
     ]
    },
    {
     "name": "stdout",
     "output_type": "stream",
     "text": [
      "File: results/daily/Modis/sst/A20160812_SST_NW_day.nc "
     ]
    },
    {
     "name": "stderr",
     "output_type": "stream",
     "text": [
      "100%|█| 1857722/1857722 [00:00<00:00, 8862200.\n"
     ]
    },
    {
     "name": "stdout",
     "output_type": "stream",
     "text": [
      "File: results/daily/Modis/sst/A20160813_SST_NW_day.nc "
     ]
    },
    {
     "name": "stderr",
     "output_type": "stream",
     "text": [
      "100%|█| 1388416/1388416 [00:00<00:00, 6724960.\n"
     ]
    },
    {
     "name": "stdout",
     "output_type": "stream",
     "text": [
      "File: results/daily/Modis/sst/A20160814_SST_NW_day.nc "
     ]
    },
    {
     "name": "stderr",
     "output_type": "stream",
     "text": [
      "100%|█| 1043616/1043616 [00:00<00:00, 10188804\n"
     ]
    },
    {
     "name": "stdout",
     "output_type": "stream",
     "text": [
      "File: results/daily/Modis/sst/A20160815_SST_NW_day.nc "
     ]
    },
    {
     "name": "stderr",
     "output_type": "stream",
     "text": [
      "100%|█| 678527/678527 [00:00<00:00, 6104971.61\n"
     ]
    },
    {
     "name": "stdout",
     "output_type": "stream",
     "text": [
      "File: results/daily/Modis/sst/A20160816_SST_NW_day.nc "
     ]
    },
    {
     "name": "stderr",
     "output_type": "stream",
     "text": [
      "100%|█| 1217574/1217574 [00:00<00:00, 5771902.\n"
     ]
    },
    {
     "name": "stdout",
     "output_type": "stream",
     "text": [
      "File: results/daily/Modis/sst/A20160817_SST_NW_day.nc "
     ]
    },
    {
     "name": "stderr",
     "output_type": "stream",
     "text": [
      "100%|█| 1256862/1256862 [00:00<00:00, 5916281.\n"
     ]
    },
    {
     "name": "stdout",
     "output_type": "stream",
     "text": [
      "File: results/daily/Modis/sst/A20160818_SST_NW_day.nc "
     ]
    },
    {
     "name": "stderr",
     "output_type": "stream",
     "text": [
      "100%|█| 993497/993497 [00:00<00:00, 8793258.42\n"
     ]
    },
    {
     "name": "stdout",
     "output_type": "stream",
     "text": [
      "File: results/daily/Modis/sst/A20160819_SST_NW_day.nc "
     ]
    },
    {
     "name": "stderr",
     "output_type": "stream",
     "text": [
      "100%|█| 898230/898230 [00:00<00:00, 8526979.30\n"
     ]
    },
    {
     "name": "stdout",
     "output_type": "stream",
     "text": [
      "File: results/daily/Modis/sst/A20160820_SST_NW_day.nc "
     ]
    },
    {
     "name": "stderr",
     "output_type": "stream",
     "text": [
      "100%|█| 829897/829897 [00:00<00:00, 7786505.10\n"
     ]
    },
    {
     "name": "stdout",
     "output_type": "stream",
     "text": [
      "File: results/daily/Modis/sst/A20160821_SST_NW_day.nc "
     ]
    },
    {
     "name": "stderr",
     "output_type": "stream",
     "text": [
      "100%|█| 930114/930114 [00:00<00:00, 8457349.64\n"
     ]
    },
    {
     "name": "stdout",
     "output_type": "stream",
     "text": [
      "File: results/daily/Modis/sst/A20160822_SST_NW_day.nc "
     ]
    },
    {
     "name": "stderr",
     "output_type": "stream",
     "text": [
      "100%|█| 1293745/1293745 [00:00<00:00, 6277907.\n"
     ]
    },
    {
     "name": "stdout",
     "output_type": "stream",
     "text": [
      "File: results/daily/Modis/sst/A20160823_SST_NW_day.nc "
     ]
    },
    {
     "name": "stderr",
     "output_type": "stream",
     "text": [
      "100%|█| 1293912/1293912 [00:00<00:00, 6355355.\n"
     ]
    },
    {
     "name": "stdout",
     "output_type": "stream",
     "text": [
      "File: results/daily/Modis/sst/A20160824_SST_NW_day.nc "
     ]
    },
    {
     "name": "stderr",
     "output_type": "stream",
     "text": [
      "100%|█| 1518298/1518298 [00:00<00:00, 7352148.\n"
     ]
    },
    {
     "name": "stdout",
     "output_type": "stream",
     "text": [
      "File: results/daily/Modis/sst/A20160825_SST_NW_day.nc "
     ]
    },
    {
     "name": "stderr",
     "output_type": "stream",
     "text": [
      "100%|█| 1079165/1079165 [00:00<00:00, 5186956.\n"
     ]
    },
    {
     "name": "stdout",
     "output_type": "stream",
     "text": [
      "File: results/daily/Modis/sst/A20160826_SST_NW_day.nc "
     ]
    },
    {
     "name": "stderr",
     "output_type": "stream",
     "text": [
      "100%|█| 1451033/1451033 [00:00<00:00, 6948635.\n"
     ]
    },
    {
     "name": "stdout",
     "output_type": "stream",
     "text": [
      "File: results/daily/Modis/sst/A20160827_SST_NW_day.nc "
     ]
    },
    {
     "name": "stderr",
     "output_type": "stream",
     "text": [
      "100%|█| 1017179/1017179 [00:00<00:00, 9983778.\n"
     ]
    },
    {
     "name": "stdout",
     "output_type": "stream",
     "text": [
      "File: results/daily/Modis/sst/A20160828_SST_NW_day.nc "
     ]
    },
    {
     "name": "stderr",
     "output_type": "stream",
     "text": [
      "100%|█| 627019/627019 [00:00<00:00, 6136530.43\n"
     ]
    },
    {
     "name": "stdout",
     "output_type": "stream",
     "text": [
      "File: results/daily/Modis/sst/A20160829_SST_NW_day.nc "
     ]
    },
    {
     "name": "stderr",
     "output_type": "stream",
     "text": [
      "100%|█| 755236/755236 [00:00<00:00, 6895680.36\n"
     ]
    },
    {
     "name": "stdout",
     "output_type": "stream",
     "text": [
      "File: results/daily/Modis/sst/A20160901_SST_NW_day.nc "
     ]
    },
    {
     "name": "stderr",
     "output_type": "stream",
     "text": [
      "100%|█| 983366/983366 [00:00<00:00, 9613316.93\n"
     ]
    },
    {
     "name": "stdout",
     "output_type": "stream",
     "text": [
      "File: results/daily/Modis/sst/A20160902_SST_NW_day.nc "
     ]
    },
    {
     "name": "stderr",
     "output_type": "stream",
     "text": [
      "100%|█| 671307/671307 [00:00<00:00, 6588093.78\n"
     ]
    },
    {
     "name": "stdout",
     "output_type": "stream",
     "text": [
      "File: results/daily/Modis/sst/A20160903_SST_NW_day.nc "
     ]
    },
    {
     "name": "stderr",
     "output_type": "stream",
     "text": [
      "100%|█| 641434/641434 [00:00<00:00, 6162769.14\n"
     ]
    },
    {
     "name": "stdout",
     "output_type": "stream",
     "text": [
      "File: results/daily/Modis/sst/A20160904_SST_NW_day.nc "
     ]
    },
    {
     "name": "stderr",
     "output_type": "stream",
     "text": [
      "100%|█| 426720/426720 [00:00<00:00, 4165342.22\n"
     ]
    },
    {
     "name": "stdout",
     "output_type": "stream",
     "text": [
      "File: results/daily/Modis/sst/A20160905_SST_NW_day.nc "
     ]
    },
    {
     "name": "stderr",
     "output_type": "stream",
     "text": [
      "100%|█| 455698/455698 [00:00<00:00, 4479721.62\n"
     ]
    },
    {
     "name": "stdout",
     "output_type": "stream",
     "text": [
      "File: results/daily/Modis/sst/A20160906_SST_NW_day.nc "
     ]
    },
    {
     "name": "stderr",
     "output_type": "stream",
     "text": [
      "100%|█| 319294/319294 [00:00<00:00, 2818114.89\n"
     ]
    },
    {
     "name": "stdout",
     "output_type": "stream",
     "text": [
      "File: results/daily/Modis/sst/A20160907_SST_NW_day.nc "
     ]
    },
    {
     "name": "stderr",
     "output_type": "stream",
     "text": [
      "100%|█| 501766/501766 [00:00<00:00, 4727774.00\n"
     ]
    },
    {
     "name": "stdout",
     "output_type": "stream",
     "text": [
      "File: results/daily/Modis/sst/A20160908_SST_NW_day.nc "
     ]
    },
    {
     "name": "stderr",
     "output_type": "stream",
     "text": [
      "100%|█| 1054767/1054767 [00:00<00:00, 4914369.\n"
     ]
    },
    {
     "name": "stdout",
     "output_type": "stream",
     "text": [
      "File: results/daily/Modis/sst/A20160909_SST_NW_day.nc "
     ]
    },
    {
     "name": "stderr",
     "output_type": "stream",
     "text": [
      "100%|█| 531366/531366 [00:00<00:00, 5284071.85\n"
     ]
    },
    {
     "name": "stdout",
     "output_type": "stream",
     "text": [
      "File: results/daily/Modis/sst/A20160910_SST_NW_day.nc "
     ]
    },
    {
     "name": "stderr",
     "output_type": "stream",
     "text": [
      "100%|█| 678031/678031 [00:00<00:00, 5808435.56\n"
     ]
    },
    {
     "name": "stdout",
     "output_type": "stream",
     "text": [
      "File: results/daily/Modis/sst/A20160911_SST_NW_day.nc "
     ]
    },
    {
     "name": "stderr",
     "output_type": "stream",
     "text": [
      "100%|█| 351548/351548 [00:00<00:00, 3207950.55\n"
     ]
    },
    {
     "name": "stdout",
     "output_type": "stream",
     "text": [
      "File: results/daily/Modis/sst/A20160912_SST_NW_day.nc "
     ]
    },
    {
     "name": "stderr",
     "output_type": "stream",
     "text": [
      "100%|█| 853251/853251 [00:00<00:00, 8141635.02\n"
     ]
    },
    {
     "name": "stdout",
     "output_type": "stream",
     "text": [
      "File: results/daily/Modis/sst/A20160913_SST_NW_day.nc "
     ]
    },
    {
     "name": "stderr",
     "output_type": "stream",
     "text": [
      "100%|█| 675047/675047 [00:00<00:00, 6093831.02\n"
     ]
    },
    {
     "name": "stdout",
     "output_type": "stream",
     "text": [
      "File: results/daily/Modis/sst/A20160914_SST_NW_day.nc "
     ]
    },
    {
     "name": "stderr",
     "output_type": "stream",
     "text": [
      "100%|█| 905928/905928 [00:00<00:00, 8729870.94\n"
     ]
    },
    {
     "name": "stdout",
     "output_type": "stream",
     "text": [
      "File: results/daily/Modis/sst/A20160915_SST_NW_day.nc "
     ]
    },
    {
     "name": "stderr",
     "output_type": "stream",
     "text": [
      "100%|█| 562290/562290 [00:00<00:00, 4795193.44\n"
     ]
    },
    {
     "name": "stdout",
     "output_type": "stream",
     "text": [
      "File: results/daily/Modis/sst/A20160916_SST_NW_day.nc "
     ]
    },
    {
     "name": "stderr",
     "output_type": "stream",
     "text": [
      "100%|█| 307763/307763 [00:00<00:00, 2716604.30\n"
     ]
    },
    {
     "name": "stdout",
     "output_type": "stream",
     "text": [
      "File: results/daily/Modis/sst/A20160917_SST_NW_day.nc "
     ]
    },
    {
     "name": "stderr",
     "output_type": "stream",
     "text": [
      "100%|█| 739134/739134 [00:00<00:00, 7142057.02\n"
     ]
    },
    {
     "name": "stdout",
     "output_type": "stream",
     "text": [
      "File: results/daily/Modis/sst/A20160918_SST_NW_day.nc "
     ]
    },
    {
     "name": "stderr",
     "output_type": "stream",
     "text": [
      "100%|█| 674193/674193 [00:00<00:00, 6607048.24\n"
     ]
    },
    {
     "name": "stdout",
     "output_type": "stream",
     "text": [
      "File: results/daily/Modis/sst/A20160919_SST_NW_day.nc "
     ]
    },
    {
     "name": "stderr",
     "output_type": "stream",
     "text": [
      "100%|█| 878505/878505 [00:00<00:00, 7796214.44\n"
     ]
    },
    {
     "name": "stdout",
     "output_type": "stream",
     "text": [
      "File: results/daily/Modis/sst/A20160920_SST_NW_day.nc "
     ]
    },
    {
     "name": "stderr",
     "output_type": "stream",
     "text": [
      "100%|█| 1365783/1365783 [00:00<00:00, 6520494.\n"
     ]
    },
    {
     "name": "stdout",
     "output_type": "stream",
     "text": [
      "File: results/daily/Modis/sst/A20160921_SST_NW_day.nc "
     ]
    },
    {
     "name": "stderr",
     "output_type": "stream",
     "text": [
      "100%|█| 673555/673555 [00:00<00:00, 5876248.13\n"
     ]
    },
    {
     "name": "stdout",
     "output_type": "stream",
     "text": [
      "File: results/daily/Modis/sst/A20160922_SST_NW_day.nc "
     ]
    },
    {
     "name": "stderr",
     "output_type": "stream",
     "text": [
      "100%|█| 1199325/1199325 [00:00<00:00, 5850551.\n"
     ]
    },
    {
     "name": "stdout",
     "output_type": "stream",
     "text": [
      "File: results/daily/Modis/sst/A20160923_SST_NW_day.nc "
     ]
    },
    {
     "name": "stderr",
     "output_type": "stream",
     "text": [
      "100%|█| 1011854/1011854 [00:00<00:00, 9407497.\n"
     ]
    },
    {
     "name": "stdout",
     "output_type": "stream",
     "text": [
      "File: results/daily/Modis/sst/A20160924_SST_NW_day.nc "
     ]
    },
    {
     "name": "stderr",
     "output_type": "stream",
     "text": [
      "100%|█| 1022977/1022977 [00:00<00:00, 9504485.\n"
     ]
    },
    {
     "name": "stdout",
     "output_type": "stream",
     "text": [
      "File: results/daily/Modis/sst/A20160925_SST_NW_day.nc "
     ]
    },
    {
     "name": "stderr",
     "output_type": "stream",
     "text": [
      "100%|█| 864831/864831 [00:00<00:00, 8380884.45\n"
     ]
    },
    {
     "name": "stdout",
     "output_type": "stream",
     "text": [
      "File: results/daily/Modis/sst/A20160926_SST_NW_day.nc "
     ]
    },
    {
     "name": "stderr",
     "output_type": "stream",
     "text": [
      "100%|█| 403285/403285 [00:00<00:00, 3483168.74\n"
     ]
    },
    {
     "name": "stdout",
     "output_type": "stream",
     "text": [
      "File: results/daily/Modis/sst/A20160927_SST_NW_day.nc "
     ]
    },
    {
     "name": "stderr",
     "output_type": "stream",
     "text": [
      "100%|█| 193014/193014 [00:00<00:00, 1724499.50\n"
     ]
    },
    {
     "name": "stdout",
     "output_type": "stream",
     "text": [
      "File: results/daily/Modis/sst/A20160928_SST_NW_day.nc "
     ]
    },
    {
     "name": "stderr",
     "output_type": "stream",
     "text": [
      "100%|█| 812357/812357 [00:00<00:00, 7531065.02\n"
     ]
    },
    {
     "name": "stdout",
     "output_type": "stream",
     "text": [
      "File: results/daily/Modis/sst/A20160929_SST_NW_day.nc "
     ]
    },
    {
     "name": "stderr",
     "output_type": "stream",
     "text": [
      "100%|█| 779127/779127 [00:00<00:00, 7452203.33\n"
     ]
    },
    {
     "name": "stdout",
     "output_type": "stream",
     "text": [
      "File: results/daily/Modis/sst/A20161001_SST_NW_day.nc "
     ]
    },
    {
     "name": "stderr",
     "output_type": "stream",
     "text": [
      "100%|█| 1087151/1087151 [00:00<00:00, 5298284.\n"
     ]
    },
    {
     "name": "stdout",
     "output_type": "stream",
     "text": [
      "File: results/daily/Modis/sst/A20161002_SST_NW_day.nc "
     ]
    },
    {
     "name": "stderr",
     "output_type": "stream",
     "text": [
      "100%|█| 587173/587173 [00:00<00:00, 5788475.29\n"
     ]
    },
    {
     "name": "stdout",
     "output_type": "stream",
     "text": [
      "File: results/daily/Modis/sst/A20161003_SST_NW_day.nc "
     ]
    },
    {
     "name": "stderr",
     "output_type": "stream",
     "text": [
      "100%|█| 854975/854975 [00:00<00:00, 8471312.22\n"
     ]
    },
    {
     "name": "stdout",
     "output_type": "stream",
     "text": [
      "File: results/daily/Modis/sst/A20161004_SST_NW_day.nc "
     ]
    },
    {
     "name": "stderr",
     "output_type": "stream",
     "text": [
      "100%|█| 519638/519638 [00:00<00:00, 5140970.87\n"
     ]
    },
    {
     "name": "stdout",
     "output_type": "stream",
     "text": [
      "File: results/daily/Modis/sst/A20161005_SST_NW_day.nc "
     ]
    },
    {
     "name": "stderr",
     "output_type": "stream",
     "text": [
      "100%|█| 748609/748609 [00:00<00:00, 6691060.15\n"
     ]
    },
    {
     "name": "stdout",
     "output_type": "stream",
     "text": [
      "File: results/daily/Modis/sst/A20161006_SST_NW_day.nc "
     ]
    },
    {
     "name": "stderr",
     "output_type": "stream",
     "text": [
      "100%|█| 992188/992188 [00:00<00:00, 9378367.63\n"
     ]
    },
    {
     "name": "stdout",
     "output_type": "stream",
     "text": [
      "File: results/daily/Modis/sst/A20161007_SST_NW_day.nc "
     ]
    },
    {
     "name": "stderr",
     "output_type": "stream",
     "text": [
      "100%|█| 396031/396031 [00:00<00:00, 3416035.12\n"
     ]
    },
    {
     "name": "stdout",
     "output_type": "stream",
     "text": [
      "File: results/daily/Modis/sst/A20161008_SST_NW_day.nc "
     ]
    },
    {
     "name": "stderr",
     "output_type": "stream",
     "text": [
      "100%|█| 627370/627370 [00:00<00:00, 5624554.87\n"
     ]
    },
    {
     "name": "stdout",
     "output_type": "stream",
     "text": [
      "File: results/daily/Modis/sst/A20161009_SST_NW_day.nc "
     ]
    },
    {
     "name": "stderr",
     "output_type": "stream",
     "text": [
      "100%|█| 596607/596607 [00:00<00:00, 5782921.58\n"
     ]
    },
    {
     "name": "stdout",
     "output_type": "stream",
     "text": [
      "File: results/daily/Modis/sst/A20161010_SST_NW_day.nc "
     ]
    },
    {
     "name": "stderr",
     "output_type": "stream",
     "text": [
      "100%|█| 676723/676723 [00:00<00:00, 6336579.30\n"
     ]
    },
    {
     "name": "stdout",
     "output_type": "stream",
     "text": [
      "File: results/daily/Modis/sst/A20161011_SST_NW_day.nc "
     ]
    },
    {
     "name": "stderr",
     "output_type": "stream",
     "text": [
      "100%|█| 423306/423306 [00:00<00:00, 4118722.19\n"
     ]
    },
    {
     "name": "stdout",
     "output_type": "stream",
     "text": [
      "File: results/daily/Modis/sst/A20161012_SST_NW_day.nc "
     ]
    },
    {
     "name": "stderr",
     "output_type": "stream",
     "text": [
      "100%|█| 730233/730233 [00:00<00:00, 6969918.56\n"
     ]
    },
    {
     "name": "stdout",
     "output_type": "stream",
     "text": [
      "File: results/daily/Modis/sst/A20161013_SST_NW_day.nc "
     ]
    },
    {
     "name": "stderr",
     "output_type": "stream",
     "text": [
      "100%|█| 898198/898198 [00:00<00:00, 7835775.45\n"
     ]
    },
    {
     "name": "stdout",
     "output_type": "stream",
     "text": [
      "File: results/daily/Modis/sst/A20161014_SST_NW_day.nc "
     ]
    },
    {
     "name": "stderr",
     "output_type": "stream",
     "text": [
      "100%|█| 1164476/1164476 [00:00<00:00, 5537697.\n"
     ]
    },
    {
     "name": "stdout",
     "output_type": "stream",
     "text": [
      "File: results/daily/Modis/sst/A20161015_SST_NW_day.nc "
     ]
    },
    {
     "name": "stderr",
     "output_type": "stream",
     "text": [
      "100%|█| 676434/676434 [00:00<00:00, 6504241.91\n"
     ]
    },
    {
     "name": "stdout",
     "output_type": "stream",
     "text": [
      "File: results/daily/Modis/sst/A20161016_SST_NW_day.nc "
     ]
    },
    {
     "name": "stderr",
     "output_type": "stream",
     "text": [
      "100%|█| 477896/477896 [00:00<00:00, 4675288.48\n"
     ]
    },
    {
     "name": "stdout",
     "output_type": "stream",
     "text": [
      "File: results/daily/Modis/sst/A20161017_SST_NW_day.nc "
     ]
    },
    {
     "name": "stderr",
     "output_type": "stream",
     "text": [
      "100%|█| 1356434/1356434 [00:00<00:00, 6315174.\n"
     ]
    },
    {
     "name": "stdout",
     "output_type": "stream",
     "text": [
      "File: results/daily/Modis/sst/A20161018_SST_NW_day.nc "
     ]
    },
    {
     "name": "stderr",
     "output_type": "stream",
     "text": [
      "100%|█| 1289261/1289261 [00:00<00:00, 6349314.\n"
     ]
    },
    {
     "name": "stdout",
     "output_type": "stream",
     "text": [
      "File: results/daily/Modis/sst/A20161019_SST_NW_day.nc "
     ]
    },
    {
     "name": "stderr",
     "output_type": "stream",
     "text": [
      "100%|█| 876077/876077 [00:00<00:00, 7559850.28\n"
     ]
    },
    {
     "name": "stdout",
     "output_type": "stream",
     "text": [
      "File: results/daily/Modis/sst/A20161020_SST_NW_day.nc "
     ]
    },
    {
     "name": "stderr",
     "output_type": "stream",
     "text": [
      "100%|█| 506235/506235 [00:00<00:00, 4318580.43\n"
     ]
    },
    {
     "name": "stdout",
     "output_type": "stream",
     "text": [
      "File: results/daily/Modis/sst/A20161021_SST_NW_day.nc "
     ]
    },
    {
     "name": "stderr",
     "output_type": "stream",
     "text": [
      "100%|█| 429000/429000 [00:00<00:00, 4231808.28\n"
     ]
    },
    {
     "name": "stdout",
     "output_type": "stream",
     "text": [
      "File: results/daily/Modis/sst/A20161022_SST_NW_day.nc "
     ]
    },
    {
     "name": "stderr",
     "output_type": "stream",
     "text": [
      "100%|█| 239478/239478 [00:00<00:00, 2073784.07\n"
     ]
    },
    {
     "name": "stdout",
     "output_type": "stream",
     "text": [
      "File: results/daily/Modis/sst/A20161023_SST_NW_day.nc "
     ]
    },
    {
     "name": "stderr",
     "output_type": "stream",
     "text": [
      "100%|█| 640620/640620 [00:00<00:00, 5598791.10\n"
     ]
    },
    {
     "name": "stdout",
     "output_type": "stream",
     "text": [
      "File: results/daily/Modis/sst/A20161024_SST_NW_day.nc "
     ]
    },
    {
     "name": "stderr",
     "output_type": "stream",
     "text": [
      "100%|█| 960239/960239 [00:00<00:00, 9253423.98\n"
     ]
    },
    {
     "name": "stdout",
     "output_type": "stream",
     "text": [
      "File: results/daily/Modis/sst/A20161025_SST_NW_day.nc "
     ]
    },
    {
     "name": "stderr",
     "output_type": "stream",
     "text": [
      "100%|█| 952640/952640 [00:00<00:00, 9296387.60\n"
     ]
    },
    {
     "name": "stdout",
     "output_type": "stream",
     "text": [
      "File: results/daily/Modis/sst/A20161026_SST_NW_day.nc "
     ]
    },
    {
     "name": "stderr",
     "output_type": "stream",
     "text": [
      "100%|█| 880051/880051 [00:00<00:00, 8649361.30\n"
     ]
    },
    {
     "name": "stdout",
     "output_type": "stream",
     "text": [
      "File: results/daily/Modis/sst/A20161027_SST_NW_day.nc "
     ]
    },
    {
     "name": "stderr",
     "output_type": "stream",
     "text": [
      "100%|█| 527718/527718 [00:00<00:00, 5209898.43\n"
     ]
    },
    {
     "name": "stdout",
     "output_type": "stream",
     "text": [
      "File: results/daily/Modis/sst/A20161028_SST_NW_day.nc "
     ]
    },
    {
     "name": "stderr",
     "output_type": "stream",
     "text": [
      "100%|█| 625645/625645 [00:00<00:00, 6081251.89\n"
     ]
    },
    {
     "name": "stdout",
     "output_type": "stream",
     "text": [
      "File: results/daily/Modis/sst/A20161029_SST_NW_day.nc "
     ]
    },
    {
     "name": "stderr",
     "output_type": "stream",
     "text": [
      "100%|█| 670733/670733 [00:00<00:00, 6471395.75\n"
     ]
    },
    {
     "name": "stdout",
     "output_type": "stream",
     "text": [
      "File: results/daily/Modis/sst/A20161101_SST_NW_day.nc "
     ]
    },
    {
     "name": "stderr",
     "output_type": "stream",
     "text": [
      "100%|█| 589865/589865 [00:00<00:00, 5787034.83\n"
     ]
    },
    {
     "name": "stdout",
     "output_type": "stream",
     "text": [
      "File: results/daily/Modis/sst/A20161102_SST_NW_day.nc "
     ]
    },
    {
     "name": "stderr",
     "output_type": "stream",
     "text": [
      "100%|█| 699201/699201 [00:00<00:00, 6786777.45\n"
     ]
    },
    {
     "name": "stdout",
     "output_type": "stream",
     "text": [
      "File: results/daily/Modis/sst/A20161103_SST_NW_day.nc "
     ]
    },
    {
     "name": "stderr",
     "output_type": "stream",
     "text": [
      "100%|█| 1010228/1010228 [00:00<00:00, 9737362.\n"
     ]
    },
    {
     "name": "stdout",
     "output_type": "stream",
     "text": [
      "File: results/daily/Modis/sst/A20161104_SST_NW_day.nc "
     ]
    },
    {
     "name": "stderr",
     "output_type": "stream",
     "text": [
      "100%|█| 1160877/1160877 [00:00<00:00, 5721090.\n"
     ]
    },
    {
     "name": "stdout",
     "output_type": "stream",
     "text": [
      "File: results/daily/Modis/sst/A20161105_SST_NW_day.nc "
     ]
    },
    {
     "name": "stderr",
     "output_type": "stream",
     "text": [
      "100%|█| 1150323/1150323 [00:00<00:00, 5672856.\n"
     ]
    },
    {
     "name": "stdout",
     "output_type": "stream",
     "text": [
      "File: results/daily/Modis/sst/A20161106_SST_NW_day.nc "
     ]
    },
    {
     "name": "stderr",
     "output_type": "stream",
     "text": [
      "100%|█| 746146/746146 [00:00<00:00, 7254300.23\n"
     ]
    },
    {
     "name": "stdout",
     "output_type": "stream",
     "text": [
      "File: results/daily/Modis/sst/A20161107_SST_NW_day.nc "
     ]
    },
    {
     "name": "stderr",
     "output_type": "stream",
     "text": [
      "100%|█| 305807/305807 [00:00<00:00, 2958326.47\n"
     ]
    },
    {
     "name": "stdout",
     "output_type": "stream",
     "text": [
      "File: results/daily/Modis/sst/A20161108_SST_NW_day.nc "
     ]
    },
    {
     "name": "stderr",
     "output_type": "stream",
     "text": [
      "100%|█| 385664/385664 [00:00<00:00, 3779862.27\n"
     ]
    },
    {
     "name": "stdout",
     "output_type": "stream",
     "text": [
      "File: results/daily/Modis/sst/A20161109_SST_NW_day.nc "
     ]
    },
    {
     "name": "stderr",
     "output_type": "stream",
     "text": [
      "100%|█| 301742/301742 [00:00<00:00, 2965512.45\n"
     ]
    },
    {
     "name": "stdout",
     "output_type": "stream",
     "text": [
      "File: results/daily/Modis/sst/A20161110_SST_NW_day.nc "
     ]
    },
    {
     "name": "stderr",
     "output_type": "stream",
     "text": [
      "100%|█| 481995/481995 [00:00<00:00, 4601597.32\n"
     ]
    },
    {
     "name": "stdout",
     "output_type": "stream",
     "text": [
      "File: results/daily/Modis/sst/A20161111_SST_NW_day.nc "
     ]
    },
    {
     "name": "stderr",
     "output_type": "stream",
     "text": [
      "100%|█| 1104909/1104909 [00:00<00:00, 5399139.\n"
     ]
    },
    {
     "name": "stdout",
     "output_type": "stream",
     "text": [
      "File: results/daily/Modis/sst/A20161112_SST_NW_day.nc "
     ]
    },
    {
     "name": "stderr",
     "output_type": "stream",
     "text": [
      "100%|█| 632606/632606 [00:00<00:00, 6151364.52\n"
     ]
    },
    {
     "name": "stdout",
     "output_type": "stream",
     "text": [
      "File: results/daily/Modis/sst/A20161113_SST_NW_day.nc "
     ]
    },
    {
     "name": "stderr",
     "output_type": "stream",
     "text": [
      "100%|█| 925476/925476 [00:00<00:00, 9044647.83\n"
     ]
    },
    {
     "name": "stdout",
     "output_type": "stream",
     "text": [
      "File: results/daily/Modis/sst/A20161114_SST_NW_day.nc "
     ]
    },
    {
     "name": "stderr",
     "output_type": "stream",
     "text": [
      "100%|█| 562863/562863 [00:00<00:00, 5513007.20\n"
     ]
    },
    {
     "name": "stdout",
     "output_type": "stream",
     "text": [
      "File: results/daily/Modis/sst/A20161115_SST_NW_day.nc "
     ]
    },
    {
     "name": "stderr",
     "output_type": "stream",
     "text": [
      "100%|█| 1068867/1068867 [00:00<00:00, 5204369.\n"
     ]
    },
    {
     "name": "stdout",
     "output_type": "stream",
     "text": [
      "File: results/daily/Modis/sst/A20161116_SST_NW_day.nc "
     ]
    },
    {
     "name": "stderr",
     "output_type": "stream",
     "text": [
      "100%|█| 887291/887291 [00:00<00:00, 8634909.29\n"
     ]
    },
    {
     "name": "stdout",
     "output_type": "stream",
     "text": [
      "File: results/daily/Modis/sst/A20161117_SST_NW_day.nc "
     ]
    },
    {
     "name": "stderr",
     "output_type": "stream",
     "text": [
      "100%|█| 760201/760201 [00:00<00:00, 7269936.31\n"
     ]
    },
    {
     "name": "stdout",
     "output_type": "stream",
     "text": [
      "File: results/daily/Modis/sst/A20161118_SST_NW_day.nc "
     ]
    },
    {
     "name": "stderr",
     "output_type": "stream",
     "text": [
      "100%|█| 562223/562223 [00:00<00:00, 5388801.57\n"
     ]
    },
    {
     "name": "stdout",
     "output_type": "stream",
     "text": [
      "File: results/daily/Modis/sst/A20161119_SST_NW_day.nc "
     ]
    },
    {
     "name": "stderr",
     "output_type": "stream",
     "text": [
      "100%|█| 596192/596192 [00:00<00:00, 5803927.35\n"
     ]
    },
    {
     "name": "stdout",
     "output_type": "stream",
     "text": [
      "File: results/daily/Modis/sst/A20161120_SST_NW_day.nc "
     ]
    },
    {
     "name": "stderr",
     "output_type": "stream",
     "text": [
      "100%|█| 300066/300066 [00:00<00:00, 2897936.50\n"
     ]
    },
    {
     "name": "stdout",
     "output_type": "stream",
     "text": [
      "File: results/daily/Modis/sst/A20161121_SST_NW_day.nc "
     ]
    },
    {
     "name": "stderr",
     "output_type": "stream",
     "text": [
      "100%|█| 325755/325755 [00:00<00:00, 3079104.11\n"
     ]
    },
    {
     "name": "stdout",
     "output_type": "stream",
     "text": [
      "File: results/daily/Modis/sst/A20161122_SST_NW_day.nc "
     ]
    },
    {
     "name": "stderr",
     "output_type": "stream",
     "text": [
      "100%|█| 526570/526570 [00:00<00:00, 5146859.60\n"
     ]
    },
    {
     "name": "stdout",
     "output_type": "stream",
     "text": [
      "File: results/daily/Modis/sst/A20161123_SST_NW_day.nc "
     ]
    },
    {
     "name": "stderr",
     "output_type": "stream",
     "text": [
      "100%|█| 305583/305583 [00:00<00:00, 2928359.93\n"
     ]
    },
    {
     "name": "stdout",
     "output_type": "stream",
     "text": [
      "File: results/daily/Modis/sst/A20161124_SST_NW_day.nc "
     ]
    },
    {
     "name": "stderr",
     "output_type": "stream",
     "text": [
      "100%|█| 407960/407960 [00:00<00:00, 3980645.33\n"
     ]
    },
    {
     "name": "stdout",
     "output_type": "stream",
     "text": [
      "File: results/daily/Modis/sst/A20161125_SST_NW_day.nc "
     ]
    },
    {
     "name": "stderr",
     "output_type": "stream",
     "text": [
      "100%|█| 792271/792271 [00:00<00:00, 7636312.59\n"
     ]
    },
    {
     "name": "stdout",
     "output_type": "stream",
     "text": [
      "File: results/daily/Modis/sst/A20161126_SST_NW_day.nc "
     ]
    },
    {
     "name": "stderr",
     "output_type": "stream",
     "text": [
      "100%|█| 414984/414984 [00:00<00:00, 4033894.61\n"
     ]
    },
    {
     "name": "stdout",
     "output_type": "stream",
     "text": [
      "File: results/daily/Modis/sst/A20161127_SST_NW_day.nc "
     ]
    },
    {
     "name": "stderr",
     "output_type": "stream",
     "text": [
      "100%|█| 503148/503148 [00:00<00:00, 4907199.04\n"
     ]
    },
    {
     "name": "stdout",
     "output_type": "stream",
     "text": [
      "File: results/daily/Modis/sst/A20161128_SST_NW_day.nc "
     ]
    },
    {
     "name": "stderr",
     "output_type": "stream",
     "text": [
      "100%|█| 638319/638319 [00:00<00:00, 6051471.07\n"
     ]
    },
    {
     "name": "stdout",
     "output_type": "stream",
     "text": [
      "File: results/daily/Modis/sst/A20161129_SST_NW_day.nc "
     ]
    },
    {
     "name": "stderr",
     "output_type": "stream",
     "text": [
      "100%|█████| 255/255 [00:00<00:00, 2479.02it/s]\n"
     ]
    },
    {
     "name": "stdout",
     "output_type": "stream",
     "text": [
      "File: results/daily/Modis/sst/A20161201_SST_NW_day.nc "
     ]
    },
    {
     "name": "stderr",
     "output_type": "stream",
     "text": [
      "100%|█| 888782/888782 [00:00<00:00, 8722724.15\n"
     ]
    },
    {
     "name": "stdout",
     "output_type": "stream",
     "text": [
      "File: results/daily/Modis/sst/A20161202_SST_NW_day.nc "
     ]
    },
    {
     "name": "stderr",
     "output_type": "stream",
     "text": [
      "100%|█| 1556132/1556132 [00:00<00:00, 7617432.\n"
     ]
    },
    {
     "name": "stdout",
     "output_type": "stream",
     "text": [
      "File: results/daily/Modis/sst/A20161203_SST_NW_day.nc "
     ]
    },
    {
     "name": "stderr",
     "output_type": "stream",
     "text": [
      "100%|█| 775926/775926 [00:00<00:00, 7648199.56\n"
     ]
    },
    {
     "name": "stdout",
     "output_type": "stream",
     "text": [
      "File: results/daily/Modis/sst/A20161204_SST_NW_day.nc "
     ]
    },
    {
     "name": "stderr",
     "output_type": "stream",
     "text": [
      "100%|█| 664570/664570 [00:00<00:00, 6467815.58\n"
     ]
    },
    {
     "name": "stdout",
     "output_type": "stream",
     "text": [
      "File: results/daily/Modis/sst/A20161205_SST_NW_day.nc "
     ]
    },
    {
     "name": "stderr",
     "output_type": "stream",
     "text": [
      "100%|█| 402334/402334 [00:00<00:00, 3999410.12\n"
     ]
    },
    {
     "name": "stdout",
     "output_type": "stream",
     "text": [
      "File: results/daily/Modis/sst/A20161206_SST_NW_day.nc "
     ]
    },
    {
     "name": "stderr",
     "output_type": "stream",
     "text": [
      "100%|█| 702635/702635 [00:00<00:00, 6924884.84\n"
     ]
    },
    {
     "name": "stdout",
     "output_type": "stream",
     "text": [
      "File: results/daily/Modis/sst/A20161207_SST_NW_day.nc "
     ]
    },
    {
     "name": "stderr",
     "output_type": "stream",
     "text": [
      "100%|█| 759099/759099 [00:00<00:00, 7431793.87\n"
     ]
    },
    {
     "name": "stdout",
     "output_type": "stream",
     "text": [
      "File: results/daily/Modis/sst/A20161208_SST_NW_day.nc "
     ]
    },
    {
     "name": "stderr",
     "output_type": "stream",
     "text": [
      "100%|█| 579064/579064 [00:00<00:00, 5675002.28\n"
     ]
    },
    {
     "name": "stdout",
     "output_type": "stream",
     "text": [
      "File: results/daily/Modis/sst/A20161209_SST_NW_day.nc "
     ]
    },
    {
     "name": "stderr",
     "output_type": "stream",
     "text": [
      "100%|█| 759454/759454 [00:00<00:00, 7507874.55\n"
     ]
    },
    {
     "name": "stdout",
     "output_type": "stream",
     "text": [
      "File: results/daily/Modis/sst/A20161210_SST_NW_day.nc "
     ]
    },
    {
     "name": "stderr",
     "output_type": "stream",
     "text": [
      "100%|█| 606356/606356 [00:00<00:00, 5992275.10\n"
     ]
    },
    {
     "name": "stdout",
     "output_type": "stream",
     "text": [
      "File: results/daily/Modis/sst/A20161211_SST_NW_day.nc "
     ]
    },
    {
     "name": "stderr",
     "output_type": "stream",
     "text": [
      "100%|█| 465414/465414 [00:00<00:00, 4621671.64\n"
     ]
    },
    {
     "name": "stdout",
     "output_type": "stream",
     "text": [
      "File: results/daily/Modis/sst/A20161212_SST_NW_day.nc "
     ]
    },
    {
     "name": "stderr",
     "output_type": "stream",
     "text": [
      "100%|█| 261724/261724 [00:00<00:00, 2573307.97\n"
     ]
    },
    {
     "name": "stdout",
     "output_type": "stream",
     "text": [
      "File: results/daily/Modis/sst/A20161213_SST_NW_day.nc "
     ]
    },
    {
     "name": "stderr",
     "output_type": "stream",
     "text": [
      "100%|█| 280886/280886 [00:00<00:00, 2769417.48\n"
     ]
    },
    {
     "name": "stdout",
     "output_type": "stream",
     "text": [
      "File: results/daily/Modis/sst/A20161214_SST_NW_day.nc "
     ]
    },
    {
     "name": "stderr",
     "output_type": "stream",
     "text": [
      "100%|█| 307485/307485 [00:00<00:00, 3027047.19\n"
     ]
    },
    {
     "name": "stdout",
     "output_type": "stream",
     "text": [
      "File: results/daily/Modis/sst/A20161215_SST_NW_day.nc "
     ]
    },
    {
     "name": "stderr",
     "output_type": "stream",
     "text": [
      "100%|█| 444961/444961 [00:00<00:00, 4386323.52\n"
     ]
    },
    {
     "name": "stdout",
     "output_type": "stream",
     "text": [
      "File: results/daily/Modis/sst/A20161216_SST_NW_day.nc "
     ]
    },
    {
     "name": "stderr",
     "output_type": "stream",
     "text": [
      "100%|█| 735562/735562 [00:00<00:00, 7180593.31\n"
     ]
    },
    {
     "name": "stdout",
     "output_type": "stream",
     "text": [
      "File: results/daily/Modis/sst/A20161217_SST_NW_day.nc "
     ]
    },
    {
     "name": "stderr",
     "output_type": "stream",
     "text": [
      "100%|█| 1142046/1142046 [00:00<00:00, 5611065.\n"
     ]
    },
    {
     "name": "stdout",
     "output_type": "stream",
     "text": [
      "File: results/daily/Modis/sst/A20161218_SST_NW_day.nc "
     ]
    },
    {
     "name": "stderr",
     "output_type": "stream",
     "text": [
      "100%|█| 1018514/1018514 [00:00<00:00, 9728007.\n"
     ]
    },
    {
     "name": "stdout",
     "output_type": "stream",
     "text": [
      "File: results/daily/Modis/sst/A20161219_SST_NW_day.nc "
     ]
    },
    {
     "name": "stderr",
     "output_type": "stream",
     "text": [
      "100%|█| 676534/676534 [00:00<00:00, 6591211.98\n"
     ]
    },
    {
     "name": "stdout",
     "output_type": "stream",
     "text": [
      "File: results/daily/Modis/sst/A20161220_SST_NW_day.nc "
     ]
    },
    {
     "name": "stderr",
     "output_type": "stream",
     "text": [
      "100%|█| 983701/983701 [00:00<00:00, 9710998.44\n"
     ]
    },
    {
     "name": "stdout",
     "output_type": "stream",
     "text": [
      "File: results/daily/Modis/sst/A20161221_SST_NW_day.nc "
     ]
    },
    {
     "name": "stderr",
     "output_type": "stream",
     "text": [
      "100%|█| 255746/255746 [00:00<00:00, 2511664.08\n"
     ]
    },
    {
     "name": "stdout",
     "output_type": "stream",
     "text": [
      "File: results/daily/Modis/sst/A20161222_SST_NW_day.nc "
     ]
    },
    {
     "name": "stderr",
     "output_type": "stream",
     "text": [
      "100%|█| 178324/178324 [00:00<00:00, 1749718.26\n"
     ]
    },
    {
     "name": "stdout",
     "output_type": "stream",
     "text": [
      "File: results/daily/Modis/sst/A20161223_SST_NW_day.nc "
     ]
    },
    {
     "name": "stderr",
     "output_type": "stream",
     "text": [
      "100%|█| 361794/361794 [00:00<00:00, 3573200.70\n"
     ]
    },
    {
     "name": "stdout",
     "output_type": "stream",
     "text": [
      "File: results/daily/Modis/sst/A20161224_SST_NW_day.nc "
     ]
    },
    {
     "name": "stderr",
     "output_type": "stream",
     "text": [
      "100%|█| 661246/661246 [00:00<00:00, 6544343.84\n"
     ]
    },
    {
     "name": "stdout",
     "output_type": "stream",
     "text": [
      "File: results/daily/Modis/sst/A20161225_SST_NW_day.nc "
     ]
    },
    {
     "name": "stderr",
     "output_type": "stream",
     "text": [
      "100%|█| 264703/264703 [00:00<00:00, 2607671.56\n"
     ]
    },
    {
     "name": "stdout",
     "output_type": "stream",
     "text": [
      "File: results/daily/Modis/sst/A20161226_SST_NW_day.nc "
     ]
    },
    {
     "name": "stderr",
     "output_type": "stream",
     "text": [
      "100%|█| 450493/450493 [00:00<00:00, 4437957.05\n"
     ]
    },
    {
     "name": "stdout",
     "output_type": "stream",
     "text": [
      "File: results/daily/Modis/sst/A20161227_SST_NW_day.nc "
     ]
    },
    {
     "name": "stderr",
     "output_type": "stream",
     "text": [
      "100%|█| 474175/474175 [00:00<00:00, 4693690.72\n"
     ]
    },
    {
     "name": "stdout",
     "output_type": "stream",
     "text": [
      "File: results/daily/Modis/sst/A20161228_SST_NW_day.nc "
     ]
    },
    {
     "name": "stderr",
     "output_type": "stream",
     "text": [
      "100%|█| 310854/310854 [00:00<00:00, 3043298.84\n"
     ]
    },
    {
     "name": "stdout",
     "output_type": "stream",
     "text": [
      "File: results/daily/Modis/sst/A20161229_SST_NW_day.nc "
     ]
    },
    {
     "name": "stderr",
     "output_type": "stream",
     "text": [
      "100%|█| 603077/603077 [00:00<00:00, 5941071.14"
     ]
    },
    {
     "name": "stdout",
     "output_type": "stream",
     "text": [
      "2017...\n"
     ]
    },
    {
     "name": "stderr",
     "output_type": "stream",
     "text": [
      "\n"
     ]
    },
    {
     "name": "stdout",
     "output_type": "stream",
     "text": [
      "File: results/daily/Modis/sst/A20170101_SST_NW_day.nc "
     ]
    },
    {
     "name": "stderr",
     "output_type": "stream",
     "text": [
      "100%|█| 479109/479109 [00:00<00:00, 4738314.83\n"
     ]
    },
    {
     "name": "stdout",
     "output_type": "stream",
     "text": [
      "File: results/daily/Modis/sst/A20170102_SST_NW_day.nc "
     ]
    },
    {
     "name": "stderr",
     "output_type": "stream",
     "text": [
      "100%|█| 1042982/1042982 [00:00<00:00, 10291466\n"
     ]
    },
    {
     "name": "stdout",
     "output_type": "stream",
     "text": [
      "File: results/daily/Modis/sst/A20170103_SST_NW_day.nc "
     ]
    },
    {
     "name": "stderr",
     "output_type": "stream",
     "text": [
      "100%|█| 1161598/1161598 [00:00<00:00, 5731863.\n"
     ]
    },
    {
     "name": "stdout",
     "output_type": "stream",
     "text": [
      "File: results/daily/Modis/sst/A20170104_SST_NW_day.nc "
     ]
    },
    {
     "name": "stderr",
     "output_type": "stream",
     "text": [
      "100%|█| 405893/405893 [00:00<00:00, 4018113.75\n"
     ]
    },
    {
     "name": "stdout",
     "output_type": "stream",
     "text": [
      "File: results/daily/Modis/sst/A20170105_SST_NW_day.nc "
     ]
    },
    {
     "name": "stderr",
     "output_type": "stream",
     "text": [
      "100%|█| 544445/544445 [00:00<00:00, 5390451.72\n"
     ]
    },
    {
     "name": "stdout",
     "output_type": "stream",
     "text": [
      "File: results/daily/Modis/sst/A20170106_SST_NW_day.nc "
     ]
    },
    {
     "name": "stderr",
     "output_type": "stream",
     "text": [
      "100%|█| 544108/544108 [00:00<00:00, 5360290.41\n"
     ]
    },
    {
     "name": "stdout",
     "output_type": "stream",
     "text": [
      "File: results/daily/Modis/sst/A20170107_SST_NW_day.nc "
     ]
    },
    {
     "name": "stderr",
     "output_type": "stream",
     "text": [
      "100%|█| 556357/556357 [00:00<00:00, 5507636.22\n"
     ]
    },
    {
     "name": "stdout",
     "output_type": "stream",
     "text": [
      "File: results/daily/Modis/sst/A20170108_SST_NW_day.nc "
     ]
    },
    {
     "name": "stderr",
     "output_type": "stream",
     "text": [
      "100%|█| 289774/289774 [00:00<00:00, 2868600.58\n"
     ]
    },
    {
     "name": "stdout",
     "output_type": "stream",
     "text": [
      "File: results/daily/Modis/sst/A20170109_SST_NW_day.nc "
     ]
    },
    {
     "name": "stderr",
     "output_type": "stream",
     "text": [
      "100%|█| 639243/639243 [00:00<00:00, 6329149.13\n"
     ]
    },
    {
     "name": "stdout",
     "output_type": "stream",
     "text": [
      "File: results/daily/Modis/sst/A20170110_SST_NW_day.nc "
     ]
    },
    {
     "name": "stderr",
     "output_type": "stream",
     "text": [
      "100%|█| 435666/435666 [00:00<00:00, 4314815.29\n"
     ]
    },
    {
     "name": "stdout",
     "output_type": "stream",
     "text": [
      "File: results/daily/Modis/sst/A20170111_SST_NW_day.nc "
     ]
    },
    {
     "name": "stderr",
     "output_type": "stream",
     "text": [
      "100%|█| 360991/360991 [00:00<00:00, 3573086.20\n"
     ]
    },
    {
     "name": "stdout",
     "output_type": "stream",
     "text": [
      "File: results/daily/Modis/sst/A20170112_SST_NW_day.nc "
     ]
    },
    {
     "name": "stderr",
     "output_type": "stream",
     "text": [
      "100%|█| 463965/463965 [00:00<00:00, 4570620.54\n"
     ]
    },
    {
     "name": "stdout",
     "output_type": "stream",
     "text": [
      "File: results/daily/Modis/sst/A20170113_SST_NW_day.nc "
     ]
    },
    {
     "name": "stderr",
     "output_type": "stream",
     "text": [
      "100%|█| 418068/418068 [00:00<00:00, 4118604.93\n"
     ]
    },
    {
     "name": "stdout",
     "output_type": "stream",
     "text": [
      "File: results/daily/Modis/sst/A20170114_SST_NW_day.nc "
     ]
    },
    {
     "name": "stderr",
     "output_type": "stream",
     "text": [
      "100%|█| 316085/316085 [00:00<00:00, 3144285.60\n"
     ]
    },
    {
     "name": "stdout",
     "output_type": "stream",
     "text": [
      "File: results/daily/Modis/sst/A20170115_SST_NW_day.nc "
     ]
    },
    {
     "name": "stderr",
     "output_type": "stream",
     "text": [
      "100%|█| 348105/348105 [00:00<00:00, 3429427.53\n"
     ]
    },
    {
     "name": "stdout",
     "output_type": "stream",
     "text": [
      "File: results/daily/Modis/sst/A20170116_SST_NW_day.nc "
     ]
    },
    {
     "name": "stderr",
     "output_type": "stream",
     "text": [
      "100%|█| 415888/415888 [00:00<00:00, 4097176.73\n"
     ]
    },
    {
     "name": "stdout",
     "output_type": "stream",
     "text": [
      "File: results/daily/Modis/sst/A20170117_SST_NW_day.nc "
     ]
    },
    {
     "name": "stderr",
     "output_type": "stream",
     "text": [
      "100%|█| 533453/533453 [00:00<00:00, 5203900.96\n"
     ]
    },
    {
     "name": "stdout",
     "output_type": "stream",
     "text": [
      "File: results/daily/Modis/sst/A20170118_SST_NW_day.nc "
     ]
    },
    {
     "name": "stderr",
     "output_type": "stream",
     "text": [
      "100%|█| 251527/251527 [00:00<00:00, 2477981.27\n"
     ]
    },
    {
     "name": "stdout",
     "output_type": "stream",
     "text": [
      "File: results/daily/Modis/sst/A20170119_SST_NW_day.nc "
     ]
    },
    {
     "name": "stderr",
     "output_type": "stream",
     "text": [
      "100%|█| 285738/285738 [00:00<00:00, 2836855.21\n"
     ]
    },
    {
     "name": "stdout",
     "output_type": "stream",
     "text": [
      "File: results/daily/Modis/sst/A20170120_SST_NW_day.nc "
     ]
    },
    {
     "name": "stderr",
     "output_type": "stream",
     "text": [
      "100%|█| 269276/269276 [00:00<00:00, 2666002.75\n"
     ]
    },
    {
     "name": "stdout",
     "output_type": "stream",
     "text": [
      "File: results/daily/Modis/sst/A20170121_SST_NW_day.nc "
     ]
    },
    {
     "name": "stderr",
     "output_type": "stream",
     "text": [
      "100%|█| 305655/305655 [00:00<00:00, 3020502.48\n"
     ]
    },
    {
     "name": "stdout",
     "output_type": "stream",
     "text": [
      "File: results/daily/Modis/sst/A20170122_SST_NW_day.nc "
     ]
    },
    {
     "name": "stderr",
     "output_type": "stream",
     "text": [
      "100%|█| 398531/398531 [00:00<00:00, 3926246.46\n"
     ]
    },
    {
     "name": "stdout",
     "output_type": "stream",
     "text": [
      "File: results/daily/Modis/sst/A20170123_SST_NW_day.nc "
     ]
    },
    {
     "name": "stderr",
     "output_type": "stream",
     "text": [
      "100%|█| 446752/446752 [00:00<00:00, 4401113.54\n"
     ]
    },
    {
     "name": "stdout",
     "output_type": "stream",
     "text": [
      "File: results/daily/Modis/sst/A20170124_SST_NW_day.nc "
     ]
    },
    {
     "name": "stderr",
     "output_type": "stream",
     "text": [
      "100%|█| 584751/584751 [00:00<00:00, 5781857.45\n"
     ]
    },
    {
     "name": "stdout",
     "output_type": "stream",
     "text": [
      "File: results/daily/Modis/sst/A20170125_SST_NW_day.nc "
     ]
    },
    {
     "name": "stderr",
     "output_type": "stream",
     "text": [
      "100%|█| 1039976/1039976 [00:00<00:00, 10224618\n"
     ]
    },
    {
     "name": "stdout",
     "output_type": "stream",
     "text": [
      "File: results/daily/Modis/sst/A20170126_SST_NW_day.nc "
     ]
    },
    {
     "name": "stderr",
     "output_type": "stream",
     "text": [
      "100%|█| 601521/601521 [00:00<00:00, 5925853.92\n"
     ]
    },
    {
     "name": "stdout",
     "output_type": "stream",
     "text": [
      "File: results/daily/Modis/sst/A20170127_SST_NW_day.nc "
     ]
    },
    {
     "name": "stderr",
     "output_type": "stream",
     "text": [
      "100%|█| 1028260/1028260 [00:00<00:00, 10085105\n"
     ]
    },
    {
     "name": "stdout",
     "output_type": "stream",
     "text": [
      "File: results/daily/Modis/sst/A20170128_SST_NW_day.nc "
     ]
    },
    {
     "name": "stderr",
     "output_type": "stream",
     "text": [
      "100%|█| 394395/394395 [00:00<00:00, 3865641.86\n"
     ]
    },
    {
     "name": "stdout",
     "output_type": "stream",
     "text": [
      "File: results/daily/Modis/sst/A20170129_SST_NW_day.nc "
     ]
    },
    {
     "name": "stderr",
     "output_type": "stream",
     "text": [
      "100%|█| 275776/275776 [00:00<00:00, 2740811.85\n"
     ]
    },
    {
     "name": "stdout",
     "output_type": "stream",
     "text": [
      "File: results/daily/Modis/sst/A20170201_SST_NW_day.nc "
     ]
    },
    {
     "name": "stderr",
     "output_type": "stream",
     "text": [
      "100%|█| 664117/664117 [00:00<00:00, 6573812.89\n"
     ]
    },
    {
     "name": "stdout",
     "output_type": "stream",
     "text": [
      "File: results/daily/Modis/sst/A20170202_SST_NW_day.nc "
     ]
    },
    {
     "name": "stderr",
     "output_type": "stream",
     "text": [
      "100%|█| 1148115/1148115 [00:00<00:00, 5654163.\n"
     ]
    },
    {
     "name": "stdout",
     "output_type": "stream",
     "text": [
      "File: results/daily/Modis/sst/A20170203_SST_NW_day.nc "
     ]
    },
    {
     "name": "stderr",
     "output_type": "stream",
     "text": [
      "100%|█| 807730/807730 [00:00<00:00, 7827856.93\n"
     ]
    },
    {
     "name": "stdout",
     "output_type": "stream",
     "text": [
      "File: results/daily/Modis/sst/A20170204_SST_NW_day.nc "
     ]
    },
    {
     "name": "stderr",
     "output_type": "stream",
     "text": [
      "100%|█| 461938/461938 [00:00<00:00, 4549519.46\n"
     ]
    },
    {
     "name": "stdout",
     "output_type": "stream",
     "text": [
      "File: results/daily/Modis/sst/A20170205_SST_NW_day.nc "
     ]
    },
    {
     "name": "stderr",
     "output_type": "stream",
     "text": [
      "100%|█| 569271/569271 [00:00<00:00, 5608012.95\n"
     ]
    },
    {
     "name": "stdout",
     "output_type": "stream",
     "text": [
      "File: results/daily/Modis/sst/A20170206_SST_NW_day.nc "
     ]
    },
    {
     "name": "stderr",
     "output_type": "stream",
     "text": [
      "100%|█| 402557/402557 [00:00<00:00, 3965779.38\n"
     ]
    },
    {
     "name": "stdout",
     "output_type": "stream",
     "text": [
      "File: results/daily/Modis/sst/A20170207_SST_NW_day.nc "
     ]
    },
    {
     "name": "stderr",
     "output_type": "stream",
     "text": [
      "100%|█| 320484/320484 [00:00<00:00, 3157105.97\n"
     ]
    },
    {
     "name": "stdout",
     "output_type": "stream",
     "text": [
      "File: results/daily/Modis/sst/A20170208_SST_NW_day.nc "
     ]
    },
    {
     "name": "stderr",
     "output_type": "stream",
     "text": [
      "100%|█| 289032/289032 [00:00<00:00, 2861005.35\n"
     ]
    },
    {
     "name": "stdout",
     "output_type": "stream",
     "text": [
      "File: results/daily/Modis/sst/A20170209_SST_NW_day.nc "
     ]
    },
    {
     "name": "stderr",
     "output_type": "stream",
     "text": [
      "100%|█| 267853/267853 [00:00<00:00, 2638734.18\n"
     ]
    },
    {
     "name": "stdout",
     "output_type": "stream",
     "text": [
      "File: results/daily/Modis/sst/A20170210_SST_NW_day.nc "
     ]
    },
    {
     "name": "stderr",
     "output_type": "stream",
     "text": [
      "100%|█| 400060/400060 [00:00<00:00, 3941115.46\n"
     ]
    },
    {
     "name": "stdout",
     "output_type": "stream",
     "text": [
      "File: results/daily/Modis/sst/A20170211_SST_NW_day.nc "
     ]
    },
    {
     "name": "stderr",
     "output_type": "stream",
     "text": [
      "100%|█| 689544/689544 [00:00<00:00, 6786536.44\n"
     ]
    },
    {
     "name": "stdout",
     "output_type": "stream",
     "text": [
      "File: results/daily/Modis/sst/A20170212_SST_NW_day.nc "
     ]
    },
    {
     "name": "stderr",
     "output_type": "stream",
     "text": [
      "100%|█| 952415/952415 [00:00<00:00, 9382337.99\n"
     ]
    },
    {
     "name": "stdout",
     "output_type": "stream",
     "text": [
      "File: results/daily/Modis/sst/A20170213_SST_NW_day.nc "
     ]
    },
    {
     "name": "stderr",
     "output_type": "stream",
     "text": [
      "100%|█| 964714/964714 [00:00<00:00, 9502983.35\n"
     ]
    },
    {
     "name": "stdout",
     "output_type": "stream",
     "text": [
      "File: results/daily/Modis/sst/A20170214_SST_NW_day.nc "
     ]
    },
    {
     "name": "stderr",
     "output_type": "stream",
     "text": [
      "100%|█| 862438/862438 [00:00<00:00, 8496304.55\n"
     ]
    },
    {
     "name": "stdout",
     "output_type": "stream",
     "text": [
      "File: results/daily/Modis/sst/A20170215_SST_NW_day.nc "
     ]
    },
    {
     "name": "stderr",
     "output_type": "stream",
     "text": [
      "100%|█| 1359129/1359129 [00:00<00:00, 6688529.\n"
     ]
    },
    {
     "name": "stdout",
     "output_type": "stream",
     "text": [
      "File: results/daily/Modis/sst/A20170216_SST_NW_day.nc "
     ]
    },
    {
     "name": "stderr",
     "output_type": "stream",
     "text": [
      "100%|█| 354663/354663 [00:00<00:00, 3510807.96\n"
     ]
    },
    {
     "name": "stdout",
     "output_type": "stream",
     "text": [
      "File: results/daily/Modis/sst/A20170217_SST_NW_day.nc "
     ]
    },
    {
     "name": "stderr",
     "output_type": "stream",
     "text": [
      "100%|█| 656901/656901 [00:00<00:00, 6502921.91\n"
     ]
    },
    {
     "name": "stdout",
     "output_type": "stream",
     "text": [
      "File: results/daily/Modis/sst/A20170218_SST_NW_day.nc "
     ]
    },
    {
     "name": "stderr",
     "output_type": "stream",
     "text": [
      "100%|█| 930681/930681 [00:00<00:00, 9168126.45\n"
     ]
    },
    {
     "name": "stdout",
     "output_type": "stream",
     "text": [
      "File: results/daily/Modis/sst/A20170219_SST_NW_day.nc "
     ]
    },
    {
     "name": "stderr",
     "output_type": "stream",
     "text": [
      "100%|█| 478204/478204 [00:00<00:00, 4729409.12\n"
     ]
    },
    {
     "name": "stdout",
     "output_type": "stream",
     "text": [
      "File: results/daily/Modis/sst/A20170220_SST_NW_day.nc "
     ]
    },
    {
     "name": "stderr",
     "output_type": "stream",
     "text": [
      "100%|█| 648797/648797 [00:00<00:00, 6454750.60\n"
     ]
    },
    {
     "name": "stdout",
     "output_type": "stream",
     "text": [
      "File: results/daily/Modis/sst/A20170221_SST_NW_day.nc "
     ]
    },
    {
     "name": "stderr",
     "output_type": "stream",
     "text": [
      "100%|█| 392546/392546 [00:00<00:00, 3875020.02\n"
     ]
    },
    {
     "name": "stdout",
     "output_type": "stream",
     "text": [
      "File: results/daily/Modis/sst/A20170222_SST_NW_day.nc "
     ]
    },
    {
     "name": "stderr",
     "output_type": "stream",
     "text": [
      "100%|█| 105343/105343 [00:00<00:00, 1040849.39\n"
     ]
    },
    {
     "name": "stdout",
     "output_type": "stream",
     "text": [
      "File: results/daily/Modis/sst/A20170223_SST_NW_day.nc "
     ]
    },
    {
     "name": "stderr",
     "output_type": "stream",
     "text": [
      "100%|█| 439355/439355 [00:00<00:00, 4328232.89\n"
     ]
    },
    {
     "name": "stdout",
     "output_type": "stream",
     "text": [
      "File: results/daily/Modis/sst/A20170224_SST_NW_day.nc "
     ]
    },
    {
     "name": "stderr",
     "output_type": "stream",
     "text": [
      "100%|█| 866465/866465 [00:00<00:00, 8536217.13\n"
     ]
    },
    {
     "name": "stdout",
     "output_type": "stream",
     "text": [
      "File: results/daily/Modis/sst/A20170225_SST_NW_day.nc "
     ]
    },
    {
     "name": "stderr",
     "output_type": "stream",
     "text": [
      "100%|█| 653880/653880 [00:00<00:00, 6467962.90\n"
     ]
    },
    {
     "name": "stdout",
     "output_type": "stream",
     "text": [
      "File: results/daily/Modis/sst/A20170226_SST_NW_day.nc "
     ]
    },
    {
     "name": "stderr",
     "output_type": "stream",
     "text": [
      "100%|█| 910519/910519 [00:00<00:00, 8990838.43\n"
     ]
    },
    {
     "name": "stdout",
     "output_type": "stream",
     "text": [
      "File: results/daily/Modis/sst/A20170227_SST_NW_day.nc "
     ]
    },
    {
     "name": "stderr",
     "output_type": "stream",
     "text": [
      "100%|█| 1070816/1070816 [00:00<00:00, 5282603.\n"
     ]
    },
    {
     "name": "stdout",
     "output_type": "stream",
     "text": [
      "File: results/daily/Modis/sst/A20170228_SST_NW_day.nc "
     ]
    },
    {
     "name": "stderr",
     "output_type": "stream",
     "text": [
      "100%|█| 496434/496434 [00:00<00:00, 4890560.16\n"
     ]
    },
    {
     "name": "stdout",
     "output_type": "stream",
     "text": [
      "A20170229_SST_NW_day.nc: FileNotFound\n",
      "File: results/daily/Modis/sst/A20170301_SST_NW_day.nc "
     ]
    },
    {
     "name": "stderr",
     "output_type": "stream",
     "text": [
      "100%|█| 398223/398223 [00:00<00:00, 3942734.08\n"
     ]
    },
    {
     "name": "stdout",
     "output_type": "stream",
     "text": [
      "File: results/daily/Modis/sst/A20170302_SST_NW_day.nc "
     ]
    },
    {
     "name": "stderr",
     "output_type": "stream",
     "text": [
      "100%|█| 825011/825011 [00:00<00:00, 8155482.92\n"
     ]
    },
    {
     "name": "stdout",
     "output_type": "stream",
     "text": [
      "File: results/daily/Modis/sst/A20170303_SST_NW_day.nc "
     ]
    },
    {
     "name": "stderr",
     "output_type": "stream",
     "text": [
      "100%|█| 950437/950437 [00:00<00:00, 9280438.67\n"
     ]
    },
    {
     "name": "stdout",
     "output_type": "stream",
     "text": [
      "File: results/daily/Modis/sst/A20170304_SST_NW_day.nc "
     ]
    },
    {
     "name": "stderr",
     "output_type": "stream",
     "text": [
      "100%|█| 641105/641105 [00:00<00:00, 6307620.94\n"
     ]
    },
    {
     "name": "stdout",
     "output_type": "stream",
     "text": [
      "File: results/daily/Modis/sst/A20170305_SST_NW_day.nc "
     ]
    },
    {
     "name": "stderr",
     "output_type": "stream",
     "text": [
      "100%|█| 545887/545887 [00:00<00:00, 5377980.47\n"
     ]
    },
    {
     "name": "stdout",
     "output_type": "stream",
     "text": [
      "File: results/daily/Modis/sst/A20170306_SST_NW_day.nc "
     ]
    },
    {
     "name": "stderr",
     "output_type": "stream",
     "text": [
      "100%|█| 593644/593644 [00:00<00:00, 5867230.17\n"
     ]
    },
    {
     "name": "stdout",
     "output_type": "stream",
     "text": [
      "File: results/daily/Modis/sst/A20170307_SST_NW_day.nc "
     ]
    },
    {
     "name": "stderr",
     "output_type": "stream",
     "text": [
      "100%|█| 624943/624943 [00:00<00:00, 6155437.96\n"
     ]
    },
    {
     "name": "stdout",
     "output_type": "stream",
     "text": [
      "File: results/daily/Modis/sst/A20170308_SST_NW_day.nc "
     ]
    },
    {
     "name": "stderr",
     "output_type": "stream",
     "text": [
      "100%|█| 1099515/1099515 [00:00<00:00, 5436267.\n"
     ]
    },
    {
     "name": "stdout",
     "output_type": "stream",
     "text": [
      "File: results/daily/Modis/sst/A20170309_SST_NW_day.nc "
     ]
    },
    {
     "name": "stderr",
     "output_type": "stream",
     "text": [
      "100%|█| 894730/894730 [00:00<00:00, 8812173.00\n"
     ]
    },
    {
     "name": "stdout",
     "output_type": "stream",
     "text": [
      "File: results/daily/Modis/sst/A20170310_SST_NW_day.nc "
     ]
    },
    {
     "name": "stderr",
     "output_type": "stream",
     "text": [
      "100%|█| 1350340/1350340 [00:00<00:00, 6659059.\n"
     ]
    },
    {
     "name": "stdout",
     "output_type": "stream",
     "text": [
      "File: results/daily/Modis/sst/A20170311_SST_NW_day.nc "
     ]
    },
    {
     "name": "stderr",
     "output_type": "stream",
     "text": [
      "100%|█| 565572/565572 [00:00<00:00, 5544072.02\n"
     ]
    },
    {
     "name": "stdout",
     "output_type": "stream",
     "text": [
      "File: results/daily/Modis/sst/A20170312_SST_NW_day.nc "
     ]
    },
    {
     "name": "stderr",
     "output_type": "stream",
     "text": [
      "100%|█| 507642/507642 [00:00<00:00, 5025039.88\n"
     ]
    },
    {
     "name": "stdout",
     "output_type": "stream",
     "text": [
      "File: results/daily/Modis/sst/A20170313_SST_NW_day.nc "
     ]
    },
    {
     "name": "stderr",
     "output_type": "stream",
     "text": [
      "100%|█| 470243/470243 [00:00<00:00, 4634687.14\n"
     ]
    },
    {
     "name": "stdout",
     "output_type": "stream",
     "text": [
      "File: results/daily/Modis/sst/A20170314_SST_NW_day.nc "
     ]
    },
    {
     "name": "stderr",
     "output_type": "stream",
     "text": [
      "100%|█| 888623/888623 [00:00<00:00, 8827142.52\n"
     ]
    },
    {
     "name": "stdout",
     "output_type": "stream",
     "text": [
      "File: results/daily/Modis/sst/A20170315_SST_NW_day.nc "
     ]
    },
    {
     "name": "stderr",
     "output_type": "stream",
     "text": [
      "100%|█| 795902/795902 [00:00<00:00, 7878371.16\n"
     ]
    },
    {
     "name": "stdout",
     "output_type": "stream",
     "text": [
      "File: results/daily/Modis/sst/A20170316_SST_NW_day.nc "
     ]
    },
    {
     "name": "stderr",
     "output_type": "stream",
     "text": [
      "100%|█| 1212832/1212832 [00:00<00:00, 6002308.\n"
     ]
    },
    {
     "name": "stdout",
     "output_type": "stream",
     "text": [
      "File: results/daily/Modis/sst/A20170317_SST_NW_day.nc "
     ]
    },
    {
     "name": "stderr",
     "output_type": "stream",
     "text": [
      "100%|█| 1009294/1009294 [00:00<00:00, 9942915.\n"
     ]
    },
    {
     "name": "stdout",
     "output_type": "stream",
     "text": [
      "File: results/daily/Modis/sst/A20170318_SST_NW_day.nc "
     ]
    },
    {
     "name": "stderr",
     "output_type": "stream",
     "text": [
      "100%|█| 960728/960728 [00:00<00:00, 9464674.79\n"
     ]
    },
    {
     "name": "stdout",
     "output_type": "stream",
     "text": [
      "File: results/daily/Modis/sst/A20170319_SST_NW_day.nc "
     ]
    },
    {
     "name": "stderr",
     "output_type": "stream",
     "text": [
      "100%|█| 1080005/1080005 [00:00<00:00, 5323352.\n"
     ]
    },
    {
     "name": "stdout",
     "output_type": "stream",
     "text": [
      "File: results/daily/Modis/sst/A20170320_SST_NW_day.nc "
     ]
    },
    {
     "name": "stderr",
     "output_type": "stream",
     "text": [
      "100%|█| 376234/376234 [00:00<00:00, 3725007.37\n"
     ]
    },
    {
     "name": "stdout",
     "output_type": "stream",
     "text": [
      "File: results/daily/Modis/sst/A20170321_SST_NW_day.nc "
     ]
    },
    {
     "name": "stderr",
     "output_type": "stream",
     "text": [
      "100%|█| 847332/847332 [00:00<00:00, 8347370.22\n"
     ]
    },
    {
     "name": "stdout",
     "output_type": "stream",
     "text": [
      "File: results/daily/Modis/sst/A20170322_SST_NW_day.nc "
     ]
    },
    {
     "name": "stderr",
     "output_type": "stream",
     "text": [
      "100%|█| 366801/366801 [00:00<00:00, 3600515.11\n"
     ]
    },
    {
     "name": "stdout",
     "output_type": "stream",
     "text": [
      "File: results/daily/Modis/sst/A20170323_SST_NW_day.nc "
     ]
    },
    {
     "name": "stderr",
     "output_type": "stream",
     "text": [
      "100%|█| 431700/431700 [00:00<00:00, 4250015.93\n"
     ]
    },
    {
     "name": "stdout",
     "output_type": "stream",
     "text": [
      "File: results/daily/Modis/sst/A20170324_SST_NW_day.nc "
     ]
    },
    {
     "name": "stderr",
     "output_type": "stream",
     "text": [
      "100%|█| 587627/587627 [00:00<00:00, 5754727.01\n"
     ]
    },
    {
     "name": "stdout",
     "output_type": "stream",
     "text": [
      "File: results/daily/Modis/sst/A20170325_SST_NW_day.nc "
     ]
    },
    {
     "name": "stderr",
     "output_type": "stream",
     "text": [
      "100%|█| 566020/566020 [00:00<00:00, 5550383.42\n"
     ]
    },
    {
     "name": "stdout",
     "output_type": "stream",
     "text": [
      "File: results/daily/Modis/sst/A20170326_SST_NW_day.nc "
     ]
    },
    {
     "name": "stderr",
     "output_type": "stream",
     "text": [
      "100%|█| 1074550/1074550 [00:00<00:00, 5315040.\n"
     ]
    },
    {
     "name": "stdout",
     "output_type": "stream",
     "text": [
      "File: results/daily/Modis/sst/A20170327_SST_NW_day.nc "
     ]
    },
    {
     "name": "stderr",
     "output_type": "stream",
     "text": [
      "100%|█| 1031028/1031028 [00:00<00:00, 10175308\n"
     ]
    },
    {
     "name": "stdout",
     "output_type": "stream",
     "text": [
      "File: results/daily/Modis/sst/A20170328_SST_NW_day.nc "
     ]
    },
    {
     "name": "stderr",
     "output_type": "stream",
     "text": [
      "100%|█| 1095610/1095610 [00:00<00:00, 5419413.\n"
     ]
    },
    {
     "name": "stdout",
     "output_type": "stream",
     "text": [
      "File: results/daily/Modis/sst/A20170329_SST_NW_day.nc "
     ]
    },
    {
     "name": "stderr",
     "output_type": "stream",
     "text": [
      "100%|█| 513502/513502 [00:00<00:00, 5108836.98\n"
     ]
    },
    {
     "name": "stdout",
     "output_type": "stream",
     "text": [
      "File: results/daily/Modis/sst/A20170401_SST_NW_day.nc "
     ]
    },
    {
     "name": "stderr",
     "output_type": "stream",
     "text": [
      "100%|█| 1120144/1120144 [00:00<00:00, 5512232.\n"
     ]
    },
    {
     "name": "stdout",
     "output_type": "stream",
     "text": [
      "File: results/daily/Modis/sst/A20170402_SST_NW_day.nc "
     ]
    },
    {
     "name": "stderr",
     "output_type": "stream",
     "text": [
      "100%|█| 1431962/1431962 [00:00<00:00, 7059693.\n"
     ]
    },
    {
     "name": "stdout",
     "output_type": "stream",
     "text": [
      "File: results/daily/Modis/sst/A20170403_SST_NW_day.nc "
     ]
    },
    {
     "name": "stderr",
     "output_type": "stream",
     "text": [
      "100%|█| 1420442/1420442 [00:00<00:00, 6975358.\n"
     ]
    },
    {
     "name": "stdout",
     "output_type": "stream",
     "text": [
      "File: results/daily/Modis/sst/A20170404_SST_NW_day.nc "
     ]
    },
    {
     "name": "stderr",
     "output_type": "stream",
     "text": [
      "100%|█| 794200/794200 [00:00<00:00, 7823966.28\n"
     ]
    },
    {
     "name": "stdout",
     "output_type": "stream",
     "text": [
      "File: results/daily/Modis/sst/A20170405_SST_NW_day.nc "
     ]
    },
    {
     "name": "stderr",
     "output_type": "stream",
     "text": [
      "100%|█| 115132/115132 [00:00<00:00, 1139691.32\n"
     ]
    },
    {
     "name": "stdout",
     "output_type": "stream",
     "text": [
      "File: results/daily/Modis/sst/A20170406_SST_NW_day.nc "
     ]
    },
    {
     "name": "stderr",
     "output_type": "stream",
     "text": [
      "100%|█| 216125/216125 [00:00<00:00, 2149944.39\n"
     ]
    },
    {
     "name": "stdout",
     "output_type": "stream",
     "text": [
      "File: results/daily/Modis/sst/A20170407_SST_NW_day.nc "
     ]
    },
    {
     "name": "stderr",
     "output_type": "stream",
     "text": [
      "100%|█| 84763/84763 [00:00<00:00, 842750.28it/\n"
     ]
    },
    {
     "name": "stdout",
     "output_type": "stream",
     "text": [
      "File: results/daily/Modis/sst/A20170408_SST_NW_day.nc "
     ]
    },
    {
     "name": "stderr",
     "output_type": "stream",
     "text": [
      "100%|█| 345450/345450 [00:00<00:00, 3413984.46\n"
     ]
    },
    {
     "name": "stdout",
     "output_type": "stream",
     "text": [
      "File: results/daily/Modis/sst/A20170409_SST_NW_day.nc "
     ]
    },
    {
     "name": "stderr",
     "output_type": "stream",
     "text": [
      "100%|█| 690657/690657 [00:00<00:00, 6803765.00\n"
     ]
    },
    {
     "name": "stdout",
     "output_type": "stream",
     "text": [
      "File: results/daily/Modis/sst/A20170410_SST_NW_day.nc "
     ]
    },
    {
     "name": "stderr",
     "output_type": "stream",
     "text": [
      "100%|█| 399512/399512 [00:00<00:00, 3887687.10\n"
     ]
    },
    {
     "name": "stdout",
     "output_type": "stream",
     "text": [
      "File: results/daily/Modis/sst/A20170411_SST_NW_day.nc "
     ]
    },
    {
     "name": "stderr",
     "output_type": "stream",
     "text": [
      "100%|█| 468471/468471 [00:00<00:00, 4651852.16\n"
     ]
    },
    {
     "name": "stdout",
     "output_type": "stream",
     "text": [
      "File: results/daily/Modis/sst/A20170412_SST_NW_day.nc "
     ]
    },
    {
     "name": "stderr",
     "output_type": "stream",
     "text": [
      "100%|█| 1515554/1515554 [00:00<00:00, 7478226.\n"
     ]
    },
    {
     "name": "stdout",
     "output_type": "stream",
     "text": [
      "File: results/daily/Modis/sst/A20170413_SST_NW_day.nc "
     ]
    },
    {
     "name": "stderr",
     "output_type": "stream",
     "text": [
      "100%|█| 1961713/1961713 [00:00<00:00, 9662699.\n"
     ]
    },
    {
     "name": "stdout",
     "output_type": "stream",
     "text": [
      "File: results/daily/Modis/sst/A20170414_SST_NW_day.nc "
     ]
    },
    {
     "name": "stderr",
     "output_type": "stream",
     "text": [
      "100%|█| 745757/745757 [00:00<00:00, 7346977.45\n"
     ]
    },
    {
     "name": "stdout",
     "output_type": "stream",
     "text": [
      "File: results/daily/Modis/sst/A20170415_SST_NW_day.nc "
     ]
    },
    {
     "name": "stderr",
     "output_type": "stream",
     "text": [
      "100%|█| 615986/615986 [00:00<00:00, 6032859.81\n"
     ]
    },
    {
     "name": "stdout",
     "output_type": "stream",
     "text": [
      "File: results/daily/Modis/sst/A20170416_SST_NW_day.nc "
     ]
    },
    {
     "name": "stderr",
     "output_type": "stream",
     "text": [
      "100%|█| 420342/420342 [00:00<00:00, 4120162.21\n"
     ]
    },
    {
     "name": "stdout",
     "output_type": "stream",
     "text": [
      "File: results/daily/Modis/sst/A20170417_SST_NW_day.nc "
     ]
    },
    {
     "name": "stderr",
     "output_type": "stream",
     "text": [
      "100%|█| 151790/151790 [00:00<00:00, 1508364.26\n"
     ]
    },
    {
     "name": "stdout",
     "output_type": "stream",
     "text": [
      "File: results/daily/Modis/sst/A20170418_SST_NW_day.nc "
     ]
    },
    {
     "name": "stderr",
     "output_type": "stream",
     "text": [
      "100%|█| 1218063/1218063 [00:00<00:00, 6014782.\n"
     ]
    },
    {
     "name": "stdout",
     "output_type": "stream",
     "text": [
      "File: results/daily/Modis/sst/A20170419_SST_NW_day.nc "
     ]
    },
    {
     "name": "stderr",
     "output_type": "stream",
     "text": [
      "100%|█| 579043/579043 [00:00<00:00, 5698136.12\n"
     ]
    },
    {
     "name": "stdout",
     "output_type": "stream",
     "text": [
      "File: results/daily/Modis/sst/A20170420_SST_NW_day.nc "
     ]
    },
    {
     "name": "stderr",
     "output_type": "stream",
     "text": [
      "100%|█| 318739/318739 [00:00<00:00, 3138485.85\n"
     ]
    },
    {
     "name": "stdout",
     "output_type": "stream",
     "text": [
      "File: results/daily/Modis/sst/A20170421_SST_NW_day.nc "
     ]
    },
    {
     "name": "stderr",
     "output_type": "stream",
     "text": [
      "100%|█| 667116/667116 [00:00<00:00, 6604854.84\n"
     ]
    },
    {
     "name": "stdout",
     "output_type": "stream",
     "text": [
      "File: results/daily/Modis/sst/A20170422_SST_NW_day.nc "
     ]
    },
    {
     "name": "stderr",
     "output_type": "stream",
     "text": [
      "100%|█| 1360500/1360500 [00:00<00:00, 6680790.\n"
     ]
    },
    {
     "name": "stdout",
     "output_type": "stream",
     "text": [
      "File: results/daily/Modis/sst/A20170423_SST_NW_day.nc "
     ]
    },
    {
     "name": "stderr",
     "output_type": "stream",
     "text": [
      "100%|█| 1517356/1517356 [00:00<00:00, 7467562.\n"
     ]
    },
    {
     "name": "stdout",
     "output_type": "stream",
     "text": [
      "File: results/daily/Modis/sst/A20170424_SST_NW_day.nc "
     ]
    },
    {
     "name": "stderr",
     "output_type": "stream",
     "text": [
      "100%|█| 402058/402058 [00:00<00:00, 3975139.32\n"
     ]
    },
    {
     "name": "stdout",
     "output_type": "stream",
     "text": [
      "File: results/daily/Modis/sst/A20170425_SST_NW_day.nc "
     ]
    },
    {
     "name": "stderr",
     "output_type": "stream",
     "text": [
      "100%|█| 424250/424250 [00:00<00:00, 4158283.51\n"
     ]
    },
    {
     "name": "stdout",
     "output_type": "stream",
     "text": [
      "File: results/daily/Modis/sst/A20170426_SST_NW_day.nc "
     ]
    },
    {
     "name": "stderr",
     "output_type": "stream",
     "text": [
      "100%|█| 828292/828292 [00:00<00:00, 8214168.05\n"
     ]
    },
    {
     "name": "stdout",
     "output_type": "stream",
     "text": [
      "File: results/daily/Modis/sst/A20170427_SST_NW_day.nc "
     ]
    },
    {
     "name": "stderr",
     "output_type": "stream",
     "text": [
      "100%|█| 1216864/1216864 [00:00<00:00, 6007893.\n"
     ]
    },
    {
     "name": "stdout",
     "output_type": "stream",
     "text": [
      "File: results/daily/Modis/sst/A20170428_SST_NW_day.nc "
     ]
    },
    {
     "name": "stderr",
     "output_type": "stream",
     "text": [
      "100%|█| 1522404/1522404 [00:00<00:00, 7535767.\n"
     ]
    },
    {
     "name": "stdout",
     "output_type": "stream",
     "text": [
      "File: results/daily/Modis/sst/A20170429_SST_NW_day.nc "
     ]
    },
    {
     "name": "stderr",
     "output_type": "stream",
     "text": [
      "100%|█| 1662390/1662390 [00:00<00:00, 8185630.\n"
     ]
    },
    {
     "name": "stdout",
     "output_type": "stream",
     "text": [
      "File: results/daily/Modis/sst/A20170501_SST_NW_day.nc "
     ]
    },
    {
     "name": "stderr",
     "output_type": "stream",
     "text": [
      "100%|█| 1193140/1193140 [00:00<00:00, 5905110.\n"
     ]
    },
    {
     "name": "stdout",
     "output_type": "stream",
     "text": [
      "File: results/daily/Modis/sst/A20170502_SST_NW_day.nc "
     ]
    },
    {
     "name": "stderr",
     "output_type": "stream",
     "text": [
      "100%|█| 722691/722691 [00:00<00:00, 7083616.49\n"
     ]
    },
    {
     "name": "stdout",
     "output_type": "stream",
     "text": [
      "File: results/daily/Modis/sst/A20170503_SST_NW_day.nc "
     ]
    },
    {
     "name": "stderr",
     "output_type": "stream",
     "text": [
      "100%|█| 736619/736619 [00:00<00:00, 7211321.17\n"
     ]
    },
    {
     "name": "stdout",
     "output_type": "stream",
     "text": [
      "File: results/daily/Modis/sst/A20170504_SST_NW_day.nc "
     ]
    },
    {
     "name": "stderr",
     "output_type": "stream",
     "text": [
      "100%|█| 269968/269968 [00:00<00:00, 2672872.91\n"
     ]
    },
    {
     "name": "stdout",
     "output_type": "stream",
     "text": [
      "File: results/daily/Modis/sst/A20170505_SST_NW_day.nc "
     ]
    },
    {
     "name": "stderr",
     "output_type": "stream",
     "text": [
      "100%|█| 543357/543357 [00:00<00:00, 5325199.76\n"
     ]
    },
    {
     "name": "stdout",
     "output_type": "stream",
     "text": [
      "File: results/daily/Modis/sst/A20170506_SST_NW_day.nc "
     ]
    },
    {
     "name": "stderr",
     "output_type": "stream",
     "text": [
      "100%|█| 1059483/1059483 [00:00<00:00, 5231507.\n"
     ]
    },
    {
     "name": "stdout",
     "output_type": "stream",
     "text": [
      "File: results/daily/Modis/sst/A20170507_SST_NW_day.nc "
     ]
    },
    {
     "name": "stderr",
     "output_type": "stream",
     "text": [
      "100%|█| 1406662/1406662 [00:00<00:00, 6924739.\n"
     ]
    },
    {
     "name": "stdout",
     "output_type": "stream",
     "text": [
      "File: results/daily/Modis/sst/A20170508_SST_NW_day.nc "
     ]
    },
    {
     "name": "stderr",
     "output_type": "stream",
     "text": [
      "100%|█| 764304/764304 [00:00<00:00, 7529201.84\n"
     ]
    },
    {
     "name": "stdout",
     "output_type": "stream",
     "text": [
      "File: results/daily/Modis/sst/A20170509_SST_NW_day.nc "
     ]
    },
    {
     "name": "stderr",
     "output_type": "stream",
     "text": [
      "100%|█| 432097/432097 [00:00<00:00, 4278033.65\n"
     ]
    },
    {
     "name": "stdout",
     "output_type": "stream",
     "text": [
      "File: results/daily/Modis/sst/A20170510_SST_NW_day.nc "
     ]
    },
    {
     "name": "stderr",
     "output_type": "stream",
     "text": [
      "100%|█| 672471/672471 [00:00<00:00, 6624440.86\n"
     ]
    },
    {
     "name": "stdout",
     "output_type": "stream",
     "text": [
      "File: results/daily/Modis/sst/A20170511_SST_NW_day.nc "
     ]
    },
    {
     "name": "stderr",
     "output_type": "stream",
     "text": [
      "100%|█| 690826/690826 [00:00<00:00, 6838516.75\n"
     ]
    },
    {
     "name": "stdout",
     "output_type": "stream",
     "text": [
      "File: results/daily/Modis/sst/A20170512_SST_NW_day.nc "
     ]
    },
    {
     "name": "stderr",
     "output_type": "stream",
     "text": [
      "100%|█| 395031/395031 [00:00<00:00, 3899853.61\n"
     ]
    },
    {
     "name": "stdout",
     "output_type": "stream",
     "text": [
      "File: results/daily/Modis/sst/A20170513_SST_NW_day.nc "
     ]
    },
    {
     "name": "stderr",
     "output_type": "stream",
     "text": [
      "100%|█| 831629/831629 [00:00<00:00, 8233808.69\n"
     ]
    },
    {
     "name": "stdout",
     "output_type": "stream",
     "text": [
      "File: results/daily/Modis/sst/A20170514_SST_NW_day.nc "
     ]
    },
    {
     "name": "stderr",
     "output_type": "stream",
     "text": [
      "100%|█| 683816/683816 [00:00<00:00, 6770258.93\n"
     ]
    },
    {
     "name": "stdout",
     "output_type": "stream",
     "text": [
      "File: results/daily/Modis/sst/A20170515_SST_NW_day.nc "
     ]
    },
    {
     "name": "stderr",
     "output_type": "stream",
     "text": [
      "100%|█| 511474/511474 [00:00<00:00, 5065709.80\n"
     ]
    },
    {
     "name": "stdout",
     "output_type": "stream",
     "text": [
      "File: results/daily/Modis/sst/A20170516_SST_NW_day.nc "
     ]
    },
    {
     "name": "stderr",
     "output_type": "stream",
     "text": [
      "100%|█| 862317/862317 [00:00<00:00, 8537262.14\n"
     ]
    },
    {
     "name": "stdout",
     "output_type": "stream",
     "text": [
      "File: results/daily/Modis/sst/A20170517_SST_NW_day.nc "
     ]
    },
    {
     "name": "stderr",
     "output_type": "stream",
     "text": [
      "100%|█| 1486792/1486792 [00:00<00:00, 7339914.\n"
     ]
    },
    {
     "name": "stdout",
     "output_type": "stream",
     "text": [
      "File: results/daily/Modis/sst/A20170518_SST_NW_day.nc "
     ]
    },
    {
     "name": "stderr",
     "output_type": "stream",
     "text": [
      "100%|█| 1550531/1550531 [00:00<00:00, 7614043.\n"
     ]
    },
    {
     "name": "stdout",
     "output_type": "stream",
     "text": [
      "File: results/daily/Modis/sst/A20170519_SST_NW_day.nc "
     ]
    },
    {
     "name": "stderr",
     "output_type": "stream",
     "text": [
      "100%|█| 931613/931613 [00:00<00:00, 9248729.86\n"
     ]
    },
    {
     "name": "stdout",
     "output_type": "stream",
     "text": [
      "File: results/daily/Modis/sst/A20170520_SST_NW_day.nc "
     ]
    },
    {
     "name": "stderr",
     "output_type": "stream",
     "text": [
      "100%|█| 753165/753165 [00:00<00:00, 7433997.68\n"
     ]
    },
    {
     "name": "stdout",
     "output_type": "stream",
     "text": [
      "File: results/daily/Modis/sst/A20170521_SST_NW_day.nc "
     ]
    },
    {
     "name": "stderr",
     "output_type": "stream",
     "text": [
      "100%|█| 808286/808286 [00:00<00:00, 7963050.78\n"
     ]
    },
    {
     "name": "stdout",
     "output_type": "stream",
     "text": [
      "File: results/daily/Modis/sst/A20170522_SST_NW_day.nc "
     ]
    },
    {
     "name": "stderr",
     "output_type": "stream",
     "text": [
      "100%|█| 810296/810296 [00:00<00:00, 7980341.07\n"
     ]
    },
    {
     "name": "stdout",
     "output_type": "stream",
     "text": [
      "File: results/daily/Modis/sst/A20170523_SST_NW_day.nc "
     ]
    },
    {
     "name": "stderr",
     "output_type": "stream",
     "text": [
      "100%|█| 496884/496884 [00:00<00:00, 4889951.24\n"
     ]
    },
    {
     "name": "stdout",
     "output_type": "stream",
     "text": [
      "File: results/daily/Modis/sst/A20170524_SST_NW_day.nc "
     ]
    },
    {
     "name": "stderr",
     "output_type": "stream",
     "text": [
      "100%|█| 507175/507175 [00:00<00:00, 5021412.61\n"
     ]
    },
    {
     "name": "stdout",
     "output_type": "stream",
     "text": [
      "File: results/daily/Modis/sst/A20170525_SST_NW_day.nc "
     ]
    },
    {
     "name": "stderr",
     "output_type": "stream",
     "text": [
      "100%|█| 922763/922763 [00:00<00:00, 9090510.65\n"
     ]
    },
    {
     "name": "stdout",
     "output_type": "stream",
     "text": [
      "File: results/daily/Modis/sst/A20170526_SST_NW_day.nc "
     ]
    },
    {
     "name": "stderr",
     "output_type": "stream",
     "text": [
      "100%|█| 929929/929929 [00:00<00:00, 9152571.43\n"
     ]
    },
    {
     "name": "stdout",
     "output_type": "stream",
     "text": [
      "File: results/daily/Modis/sst/A20170527_SST_NW_day.nc "
     ]
    },
    {
     "name": "stderr",
     "output_type": "stream",
     "text": [
      "100%|█| 1054520/1054520 [00:00<00:00, 5203557.\n"
     ]
    },
    {
     "name": "stdout",
     "output_type": "stream",
     "text": [
      "File: results/daily/Modis/sst/A20170528_SST_NW_day.nc "
     ]
    },
    {
     "name": "stderr",
     "output_type": "stream",
     "text": [
      "100%|█| 1090944/1090944 [00:00<00:00, 5382634.\n"
     ]
    },
    {
     "name": "stdout",
     "output_type": "stream",
     "text": [
      "File: results/daily/Modis/sst/A20170529_SST_NW_day.nc "
     ]
    },
    {
     "name": "stderr",
     "output_type": "stream",
     "text": [
      "100%|█| 1039669/1039669 [00:00<00:00, 10242102\n"
     ]
    },
    {
     "name": "stdout",
     "output_type": "stream",
     "text": [
      "File: results/daily/Modis/sst/A20170601_SST_NW_day.nc "
     ]
    },
    {
     "name": "stderr",
     "output_type": "stream",
     "text": [
      "100%|█| 587265/587265 [00:00<00:00, 5829265.84\n"
     ]
    },
    {
     "name": "stdout",
     "output_type": "stream",
     "text": [
      "File: results/daily/Modis/sst/A20170602_SST_NW_day.nc "
     ]
    },
    {
     "name": "stderr",
     "output_type": "stream",
     "text": [
      "100%|█| 1079197/1079197 [00:00<00:00, 5303259.\n"
     ]
    },
    {
     "name": "stdout",
     "output_type": "stream",
     "text": [
      "File: results/daily/Modis/sst/A20170603_SST_NW_day.nc "
     ]
    },
    {
     "name": "stderr",
     "output_type": "stream",
     "text": [
      "100%|█| 1180426/1180426 [00:00<00:00, 5577879.\n"
     ]
    },
    {
     "name": "stdout",
     "output_type": "stream",
     "text": [
      "File: results/daily/Modis/sst/A20170604_SST_NW_day.nc "
     ]
    },
    {
     "name": "stderr",
     "output_type": "stream",
     "text": [
      "100%|█| 1015061/1015061 [00:00<00:00, 9606431.\n"
     ]
    },
    {
     "name": "stdout",
     "output_type": "stream",
     "text": [
      "File: results/daily/Modis/sst/A20170605_SST_NW_day.nc "
     ]
    },
    {
     "name": "stderr",
     "output_type": "stream",
     "text": [
      "100%|█| 538293/538293 [00:00<00:00, 5118637.55\n"
     ]
    },
    {
     "name": "stdout",
     "output_type": "stream",
     "text": [
      "File: results/daily/Modis/sst/A20170606_SST_NW_day.nc "
     ]
    },
    {
     "name": "stderr",
     "output_type": "stream",
     "text": [
      "100%|█| 134126/134126 [00:00<00:00, 1167445.67\n"
     ]
    },
    {
     "name": "stdout",
     "output_type": "stream",
     "text": [
      "File: results/daily/Modis/sst/A20170607_SST_NW_day.nc "
     ]
    },
    {
     "name": "stderr",
     "output_type": "stream",
     "text": [
      "100%|█| 534063/534063 [00:00<00:00, 5240468.59\n"
     ]
    },
    {
     "name": "stdout",
     "output_type": "stream",
     "text": [
      "File: results/daily/Modis/sst/A20170608_SST_NW_day.nc "
     ]
    },
    {
     "name": "stderr",
     "output_type": "stream",
     "text": [
      "100%|█| 712027/712027 [00:00<00:00, 6149137.37\n"
     ]
    },
    {
     "name": "stdout",
     "output_type": "stream",
     "text": [
      "File: results/daily/Modis/sst/A20170609_SST_NW_day.nc "
     ]
    },
    {
     "name": "stderr",
     "output_type": "stream",
     "text": [
      "100%|█| 515541/515541 [00:00<00:00, 5105905.54\n"
     ]
    },
    {
     "name": "stdout",
     "output_type": "stream",
     "text": [
      "File: results/daily/Modis/sst/A20170610_SST_NW_day.nc "
     ]
    },
    {
     "name": "stderr",
     "output_type": "stream",
     "text": [
      "100%|█| 757450/757450 [00:00<00:00, 7342942.71\n"
     ]
    },
    {
     "name": "stdout",
     "output_type": "stream",
     "text": [
      "File: results/daily/Modis/sst/A20170611_SST_NW_day.nc "
     ]
    },
    {
     "name": "stderr",
     "output_type": "stream",
     "text": [
      "100%|█| 483056/483056 [00:00<00:00, 4645169.80\n"
     ]
    },
    {
     "name": "stdout",
     "output_type": "stream",
     "text": [
      "File: results/daily/Modis/sst/A20170612_SST_NW_day.nc "
     ]
    },
    {
     "name": "stderr",
     "output_type": "stream",
     "text": [
      "100%|█| 711835/711835 [00:00<00:00, 6982087.64\n"
     ]
    },
    {
     "name": "stdout",
     "output_type": "stream",
     "text": [
      "File: results/daily/Modis/sst/A20170613_SST_NW_day.nc "
     ]
    },
    {
     "name": "stderr",
     "output_type": "stream",
     "text": [
      "100%|█| 1009657/1009657 [00:00<00:00, 9854212.\n"
     ]
    },
    {
     "name": "stdout",
     "output_type": "stream",
     "text": [
      "File: results/daily/Modis/sst/A20170614_SST_NW_day.nc "
     ]
    },
    {
     "name": "stderr",
     "output_type": "stream",
     "text": [
      "100%|█| 926298/926298 [00:00<00:00, 9101286.55\n"
     ]
    },
    {
     "name": "stdout",
     "output_type": "stream",
     "text": [
      "File: results/daily/Modis/sst/A20170615_SST_NW_day.nc "
     ]
    },
    {
     "name": "stderr",
     "output_type": "stream",
     "text": [
      "100%|█| 632456/632456 [00:00<00:00, 5789749.59\n"
     ]
    },
    {
     "name": "stdout",
     "output_type": "stream",
     "text": [
      "File: results/daily/Modis/sst/A20170616_SST_NW_day.nc "
     ]
    },
    {
     "name": "stderr",
     "output_type": "stream",
     "text": [
      "100%|█| 763128/763128 [00:00<00:00, 7181233.84\n"
     ]
    },
    {
     "name": "stdout",
     "output_type": "stream",
     "text": [
      "File: results/daily/Modis/sst/A20170617_SST_NW_day.nc "
     ]
    },
    {
     "name": "stderr",
     "output_type": "stream",
     "text": [
      "100%|█| 846881/846881 [00:00<00:00, 7338788.48\n"
     ]
    },
    {
     "name": "stdout",
     "output_type": "stream",
     "text": [
      "File: results/daily/Modis/sst/A20170618_SST_NW_day.nc "
     ]
    },
    {
     "name": "stderr",
     "output_type": "stream",
     "text": [
      "100%|█| 553286/553286 [00:00<00:00, 4945033.19\n"
     ]
    },
    {
     "name": "stdout",
     "output_type": "stream",
     "text": [
      "File: results/daily/Modis/sst/A20170619_SST_NW_day.nc "
     ]
    },
    {
     "name": "stderr",
     "output_type": "stream",
     "text": [
      "100%|█| 467970/467970 [00:00<00:00, 4627126.24\n"
     ]
    },
    {
     "name": "stdout",
     "output_type": "stream",
     "text": [
      "File: results/daily/Modis/sst/A20170620_SST_NW_day.nc "
     ]
    },
    {
     "name": "stderr",
     "output_type": "stream",
     "text": [
      "100%|█| 272437/272437 [00:00<00:00, 2609265.80\n"
     ]
    },
    {
     "name": "stdout",
     "output_type": "stream",
     "text": [
      "File: results/daily/Modis/sst/A20170621_SST_NW_day.nc "
     ]
    },
    {
     "name": "stderr",
     "output_type": "stream",
     "text": [
      "100%|█| 343401/343401 [00:00<00:00, 2991304.74\n"
     ]
    },
    {
     "name": "stdout",
     "output_type": "stream",
     "text": [
      "File: results/daily/Modis/sst/A20170622_SST_NW_day.nc "
     ]
    },
    {
     "name": "stderr",
     "output_type": "stream",
     "text": [
      "100%|█| 584604/584604 [00:00<00:00, 5667611.02\n"
     ]
    },
    {
     "name": "stdout",
     "output_type": "stream",
     "text": [
      "File: results/daily/Modis/sst/A20170623_SST_NW_day.nc "
     ]
    },
    {
     "name": "stderr",
     "output_type": "stream",
     "text": [
      "100%|█| 339224/339224 [00:00<00:00, 3192036.07\n"
     ]
    },
    {
     "name": "stdout",
     "output_type": "stream",
     "text": [
      "File: results/daily/Modis/sst/A20170624_SST_NW_day.nc "
     ]
    },
    {
     "name": "stderr",
     "output_type": "stream",
     "text": [
      "100%|█| 165992/165992 [00:00<00:00, 1557555.12\n"
     ]
    },
    {
     "name": "stdout",
     "output_type": "stream",
     "text": [
      "File: results/daily/Modis/sst/A20170625_SST_NW_day.nc "
     ]
    },
    {
     "name": "stderr",
     "output_type": "stream",
     "text": [
      "100%|█| 347891/347891 [00:00<00:00, 3289316.67\n"
     ]
    },
    {
     "name": "stdout",
     "output_type": "stream",
     "text": [
      "File: results/daily/Modis/sst/A20170626_SST_NW_day.nc "
     ]
    },
    {
     "name": "stderr",
     "output_type": "stream",
     "text": [
      "100%|█| 549996/549996 [00:00<00:00, 5235963.72\n"
     ]
    },
    {
     "name": "stdout",
     "output_type": "stream",
     "text": [
      "File: results/daily/Modis/sst/A20170627_SST_NW_day.nc "
     ]
    },
    {
     "name": "stderr",
     "output_type": "stream",
     "text": [
      "100%|█| 670624/670624 [00:00<00:00, 6027297.09\n"
     ]
    },
    {
     "name": "stdout",
     "output_type": "stream",
     "text": [
      "File: results/daily/Modis/sst/A20170628_SST_NW_day.nc "
     ]
    },
    {
     "name": "stderr",
     "output_type": "stream",
     "text": [
      "100%|█| 750518/750518 [00:00<00:00, 7179742.47\n"
     ]
    },
    {
     "name": "stdout",
     "output_type": "stream",
     "text": [
      "File: results/daily/Modis/sst/A20170629_SST_NW_day.nc "
     ]
    },
    {
     "name": "stderr",
     "output_type": "stream",
     "text": [
      "100%|█| 829818/829818 [00:00<00:00, 7196263.78\n"
     ]
    },
    {
     "name": "stdout",
     "output_type": "stream",
     "text": [
      "File: results/daily/Modis/sst/A20170701_SST_NW_day.nc "
     ]
    },
    {
     "name": "stderr",
     "output_type": "stream",
     "text": [
      "100%|█| 357688/357688 [00:00<00:00, 3185113.60\n"
     ]
    },
    {
     "name": "stdout",
     "output_type": "stream",
     "text": [
      "File: results/daily/Modis/sst/A20170702_SST_NW_day.nc "
     ]
    },
    {
     "name": "stderr",
     "output_type": "stream",
     "text": [
      "100%|█| 724493/724493 [00:00<00:00, 7158845.74\n"
     ]
    },
    {
     "name": "stdout",
     "output_type": "stream",
     "text": [
      "File: results/daily/Modis/sst/A20170703_SST_NW_day.nc "
     ]
    },
    {
     "name": "stderr",
     "output_type": "stream",
     "text": [
      "100%|█| 360927/360927 [00:00<00:00, 3420305.69\n"
     ]
    },
    {
     "name": "stdout",
     "output_type": "stream",
     "text": [
      "File: results/daily/Modis/sst/A20170704_SST_NW_day.nc "
     ]
    },
    {
     "name": "stderr",
     "output_type": "stream",
     "text": [
      "100%|█| 605889/605889 [00:00<00:00, 5708156.42\n"
     ]
    },
    {
     "name": "stdout",
     "output_type": "stream",
     "text": [
      "File: results/daily/Modis/sst/A20170705_SST_NW_day.nc "
     ]
    },
    {
     "name": "stderr",
     "output_type": "stream",
     "text": [
      "100%|█| 695255/695255 [00:00<00:00, 5999326.91\n"
     ]
    },
    {
     "name": "stdout",
     "output_type": "stream",
     "text": [
      "File: results/daily/Modis/sst/A20170706_SST_NW_day.nc "
     ]
    },
    {
     "name": "stderr",
     "output_type": "stream",
     "text": [
      "100%|█| 540894/540894 [00:00<00:00, 4780009.71\n"
     ]
    },
    {
     "name": "stdout",
     "output_type": "stream",
     "text": [
      "File: results/daily/Modis/sst/A20170707_SST_NW_day.nc "
     ]
    },
    {
     "name": "stderr",
     "output_type": "stream",
     "text": [
      "100%|█| 646885/646885 [00:00<00:00, 5607868.00\n"
     ]
    },
    {
     "name": "stdout",
     "output_type": "stream",
     "text": [
      "File: results/daily/Modis/sst/A20170708_SST_NW_day.nc "
     ]
    },
    {
     "name": "stderr",
     "output_type": "stream",
     "text": [
      "100%|█| 487428/487428 [00:00<00:00, 4694207.41\n"
     ]
    },
    {
     "name": "stdout",
     "output_type": "stream",
     "text": [
      "File: results/daily/Modis/sst/A20170709_SST_NW_day.nc "
     ]
    },
    {
     "name": "stderr",
     "output_type": "stream",
     "text": [
      "100%|█| 473655/473655 [00:00<00:00, 4441323.96\n"
     ]
    },
    {
     "name": "stdout",
     "output_type": "stream",
     "text": [
      "File: results/daily/Modis/sst/A20170710_SST_NW_day.nc "
     ]
    },
    {
     "name": "stderr",
     "output_type": "stream",
     "text": [
      "100%|█| 627911/627911 [00:00<00:00, 5993358.68\n"
     ]
    },
    {
     "name": "stdout",
     "output_type": "stream",
     "text": [
      "File: results/daily/Modis/sst/A20170711_SST_NW_day.nc "
     ]
    },
    {
     "name": "stderr",
     "output_type": "stream",
     "text": [
      "100%|█| 959112/959112 [00:00<00:00, 8532495.88\n"
     ]
    },
    {
     "name": "stdout",
     "output_type": "stream",
     "text": [
      "File: results/daily/Modis/sst/A20170712_SST_NW_day.nc "
     ]
    },
    {
     "name": "stderr",
     "output_type": "stream",
     "text": [
      "100%|█| 1132588/1132588 [00:00<00:00, 5353893.\n"
     ]
    },
    {
     "name": "stdout",
     "output_type": "stream",
     "text": [
      "File: results/daily/Modis/sst/A20170713_SST_NW_day.nc "
     ]
    },
    {
     "name": "stderr",
     "output_type": "stream",
     "text": [
      "100%|█| 1037917/1037917 [00:00<00:00, 9456093.\n"
     ]
    },
    {
     "name": "stdout",
     "output_type": "stream",
     "text": [
      "File: results/daily/Modis/sst/A20170714_SST_NW_day.nc "
     ]
    },
    {
     "name": "stderr",
     "output_type": "stream",
     "text": [
      "100%|█| 1205486/1205486 [00:00<00:00, 5768201.\n"
     ]
    },
    {
     "name": "stdout",
     "output_type": "stream",
     "text": [
      "File: results/daily/Modis/sst/A20170715_SST_NW_day.nc "
     ]
    },
    {
     "name": "stderr",
     "output_type": "stream",
     "text": [
      "100%|█| 829163/829163 [00:00<00:00, 7952732.40\n"
     ]
    },
    {
     "name": "stdout",
     "output_type": "stream",
     "text": [
      "File: results/daily/Modis/sst/A20170716_SST_NW_day.nc "
     ]
    },
    {
     "name": "stderr",
     "output_type": "stream",
     "text": [
      "100%|█| 796002/796002 [00:00<00:00, 7325477.71\n"
     ]
    },
    {
     "name": "stdout",
     "output_type": "stream",
     "text": [
      "File: results/daily/Modis/sst/A20170717_SST_NW_day.nc "
     ]
    },
    {
     "name": "stderr",
     "output_type": "stream",
     "text": [
      "100%|█| 717684/717684 [00:00<00:00, 6219184.64\n"
     ]
    },
    {
     "name": "stdout",
     "output_type": "stream",
     "text": [
      "File: results/daily/Modis/sst/A20170718_SST_NW_day.nc "
     ]
    },
    {
     "name": "stderr",
     "output_type": "stream",
     "text": [
      "100%|█| 688465/688465 [00:00<00:00, 6078290.08\n"
     ]
    },
    {
     "name": "stdout",
     "output_type": "stream",
     "text": [
      "File: results/daily/Modis/sst/A20170719_SST_NW_day.nc "
     ]
    },
    {
     "name": "stderr",
     "output_type": "stream",
     "text": [
      "100%|█| 797604/797604 [00:00<00:00, 7885987.57\n"
     ]
    },
    {
     "name": "stdout",
     "output_type": "stream",
     "text": [
      "File: results/daily/Modis/sst/A20170720_SST_NW_day.nc "
     ]
    },
    {
     "name": "stderr",
     "output_type": "stream",
     "text": [
      "100%|█| 1280682/1280682 [00:00<00:00, 6259505.\n"
     ]
    },
    {
     "name": "stdout",
     "output_type": "stream",
     "text": [
      "File: results/daily/Modis/sst/A20170721_SST_NW_day.nc "
     ]
    },
    {
     "name": "stderr",
     "output_type": "stream",
     "text": [
      "100%|█| 938544/938544 [00:00<00:00, 8901524.21\n"
     ]
    },
    {
     "name": "stdout",
     "output_type": "stream",
     "text": [
      "File: results/daily/Modis/sst/A20170722_SST_NW_day.nc "
     ]
    },
    {
     "name": "stderr",
     "output_type": "stream",
     "text": [
      "100%|█| 938787/938787 [00:00<00:00, 8325597.57\n"
     ]
    },
    {
     "name": "stdout",
     "output_type": "stream",
     "text": [
      "File: results/daily/Modis/sst/A20170723_SST_NW_day.nc "
     ]
    },
    {
     "name": "stderr",
     "output_type": "stream",
     "text": [
      "100%|█| 642404/642404 [00:00<00:00, 5780244.10\n"
     ]
    },
    {
     "name": "stdout",
     "output_type": "stream",
     "text": [
      "File: results/daily/Modis/sst/A20170724_SST_NW_day.nc "
     ]
    },
    {
     "name": "stderr",
     "output_type": "stream",
     "text": [
      "100%|█| 797209/797209 [00:00<00:00, 7397762.57\n"
     ]
    },
    {
     "name": "stdout",
     "output_type": "stream",
     "text": [
      "File: results/daily/Modis/sst/A20170725_SST_NW_day.nc "
     ]
    },
    {
     "name": "stderr",
     "output_type": "stream",
     "text": [
      "100%|█| 1566757/1566757 [00:00<00:00, 7432595.\n"
     ]
    },
    {
     "name": "stdout",
     "output_type": "stream",
     "text": [
      "File: results/daily/Modis/sst/A20170726_SST_NW_day.nc "
     ]
    },
    {
     "name": "stderr",
     "output_type": "stream",
     "text": [
      "100%|█| 908816/908816 [00:00<00:00, 7980292.56\n"
     ]
    },
    {
     "name": "stdout",
     "output_type": "stream",
     "text": [
      "File: results/daily/Modis/sst/A20170727_SST_NW_day.nc "
     ]
    },
    {
     "name": "stderr",
     "output_type": "stream",
     "text": [
      "100%|█| 611429/611429 [00:00<00:00, 5544750.31\n"
     ]
    },
    {
     "name": "stdout",
     "output_type": "stream",
     "text": [
      "File: results/daily/Modis/sst/A20170728_SST_NW_day.nc "
     ]
    },
    {
     "name": "stderr",
     "output_type": "stream",
     "text": [
      "100%|█| 780344/780344 [00:00<00:00, 7343899.96\n"
     ]
    },
    {
     "name": "stdout",
     "output_type": "stream",
     "text": [
      "File: results/daily/Modis/sst/A20170729_SST_NW_day.nc "
     ]
    },
    {
     "name": "stderr",
     "output_type": "stream",
     "text": [
      "100%|█| 1094591/1094591 [00:00<00:00, 5286527.\n"
     ]
    },
    {
     "name": "stdout",
     "output_type": "stream",
     "text": [
      "File: results/daily/Modis/sst/A20170801_SST_NW_day.nc "
     ]
    },
    {
     "name": "stderr",
     "output_type": "stream",
     "text": [
      "100%|█| 1157133/1157133 [00:00<00:00, 5609130.\n"
     ]
    },
    {
     "name": "stdout",
     "output_type": "stream",
     "text": [
      "File: results/daily/Modis/sst/A20170802_SST_NW_day.nc "
     ]
    },
    {
     "name": "stderr",
     "output_type": "stream",
     "text": [
      "100%|█| 854805/854805 [00:00<00:00, 8061029.23\n"
     ]
    },
    {
     "name": "stdout",
     "output_type": "stream",
     "text": [
      "File: results/daily/Modis/sst/A20170803_SST_NW_day.nc "
     ]
    },
    {
     "name": "stderr",
     "output_type": "stream",
     "text": [
      "100%|█| 897101/897101 [00:00<00:00, 8172050.28\n"
     ]
    },
    {
     "name": "stdout",
     "output_type": "stream",
     "text": [
      "File: results/daily/Modis/sst/A20170804_SST_NW_day.nc "
     ]
    },
    {
     "name": "stderr",
     "output_type": "stream",
     "text": [
      "100%|█| 611923/611923 [00:00<00:00, 5813159.01\n"
     ]
    },
    {
     "name": "stdout",
     "output_type": "stream",
     "text": [
      "File: results/daily/Modis/sst/A20170805_SST_NW_day.nc "
     ]
    },
    {
     "name": "stderr",
     "output_type": "stream",
     "text": [
      "100%|█| 1150249/1150249 [00:00<00:00, 5349107.\n"
     ]
    },
    {
     "name": "stdout",
     "output_type": "stream",
     "text": [
      "File: results/daily/Modis/sst/A20170806_SST_NW_day.nc "
     ]
    },
    {
     "name": "stderr",
     "output_type": "stream",
     "text": [
      "100%|█| 1266691/1266691 [00:00<00:00, 6034944.\n"
     ]
    },
    {
     "name": "stdout",
     "output_type": "stream",
     "text": [
      "File: results/daily/Modis/sst/A20170807_SST_NW_day.nc "
     ]
    },
    {
     "name": "stderr",
     "output_type": "stream",
     "text": [
      "100%|█| 619913/619913 [00:00<00:00, 5396566.62\n"
     ]
    },
    {
     "name": "stdout",
     "output_type": "stream",
     "text": [
      "File: results/daily/Modis/sst/A20170808_SST_NW_day.nc "
     ]
    },
    {
     "name": "stderr",
     "output_type": "stream",
     "text": [
      "100%|█| 574767/574767 [00:00<00:00, 5436713.56\n"
     ]
    },
    {
     "name": "stdout",
     "output_type": "stream",
     "text": [
      "File: results/daily/Modis/sst/A20170809_SST_NW_day.nc "
     ]
    },
    {
     "name": "stderr",
     "output_type": "stream",
     "text": [
      "100%|█| 620424/620424 [00:00<00:00, 5654612.17\n"
     ]
    },
    {
     "name": "stdout",
     "output_type": "stream",
     "text": [
      "File: results/daily/Modis/sst/A20170810_SST_NW_day.nc "
     ]
    },
    {
     "name": "stderr",
     "output_type": "stream",
     "text": [
      "100%|█| 874166/874166 [00:00<00:00, 8576710.36\n"
     ]
    },
    {
     "name": "stdout",
     "output_type": "stream",
     "text": [
      "File: results/daily/Modis/sst/A20170811_SST_NW_day.nc "
     ]
    },
    {
     "name": "stderr",
     "output_type": "stream",
     "text": [
      "100%|█| 738434/738434 [00:00<00:00, 7182051.65\n"
     ]
    },
    {
     "name": "stdout",
     "output_type": "stream",
     "text": [
      "File: results/daily/Modis/sst/A20170812_SST_NW_day.nc "
     ]
    },
    {
     "name": "stderr",
     "output_type": "stream",
     "text": [
      "100%|█| 666947/666947 [00:00<00:00, 5811249.22\n"
     ]
    },
    {
     "name": "stdout",
     "output_type": "stream",
     "text": [
      "File: results/daily/Modis/sst/A20170813_SST_NW_day.nc "
     ]
    },
    {
     "name": "stderr",
     "output_type": "stream",
     "text": [
      "100%|█| 407622/407622 [00:00<00:00, 3683138.05\n"
     ]
    },
    {
     "name": "stdout",
     "output_type": "stream",
     "text": [
      "File: results/daily/Modis/sst/A20170814_SST_NW_day.nc "
     ]
    },
    {
     "name": "stderr",
     "output_type": "stream",
     "text": [
      "100%|█| 481303/481303 [00:00<00:00, 4774965.11\n"
     ]
    },
    {
     "name": "stdout",
     "output_type": "stream",
     "text": [
      "File: results/daily/Modis/sst/A20170815_SST_NW_day.nc "
     ]
    },
    {
     "name": "stderr",
     "output_type": "stream",
     "text": [
      "100%|█| 668801/668801 [00:00<00:00, 6085488.72\n"
     ]
    },
    {
     "name": "stdout",
     "output_type": "stream",
     "text": [
      "File: results/daily/Modis/sst/A20170816_SST_NW_day.nc "
     ]
    },
    {
     "name": "stderr",
     "output_type": "stream",
     "text": [
      "100%|█| 691621/691621 [00:00<00:00, 6632891.87\n"
     ]
    },
    {
     "name": "stdout",
     "output_type": "stream",
     "text": [
      "File: results/daily/Modis/sst/A20170817_SST_NW_day.nc "
     ]
    },
    {
     "name": "stderr",
     "output_type": "stream",
     "text": [
      "100%|█| 1002567/1002567 [00:00<00:00, 9384559.\n"
     ]
    },
    {
     "name": "stdout",
     "output_type": "stream",
     "text": [
      "File: results/daily/Modis/sst/A20170818_SST_NW_day.nc "
     ]
    },
    {
     "name": "stderr",
     "output_type": "stream",
     "text": [
      "100%|█| 1104996/1104996 [00:00<00:00, 5407357.\n"
     ]
    },
    {
     "name": "stdout",
     "output_type": "stream",
     "text": [
      "File: results/daily/Modis/sst/A20170819_SST_NW_day.nc "
     ]
    },
    {
     "name": "stderr",
     "output_type": "stream",
     "text": [
      "100%|█| 1277059/1277059 [00:00<00:00, 6302038.\n"
     ]
    },
    {
     "name": "stdout",
     "output_type": "stream",
     "text": [
      "File: results/daily/Modis/sst/A20170820_SST_NW_day.nc "
     ]
    },
    {
     "name": "stderr",
     "output_type": "stream",
     "text": [
      "100%|█| 720036/720036 [00:00<00:00, 6435921.81\n"
     ]
    },
    {
     "name": "stdout",
     "output_type": "stream",
     "text": [
      "File: results/daily/Modis/sst/A20170821_SST_NW_day.nc "
     ]
    },
    {
     "name": "stderr",
     "output_type": "stream",
     "text": [
      "100%|█| 700947/700947 [00:00<00:00, 6898328.45\n"
     ]
    },
    {
     "name": "stdout",
     "output_type": "stream",
     "text": [
      "File: results/daily/Modis/sst/A20170822_SST_NW_day.nc "
     ]
    },
    {
     "name": "stderr",
     "output_type": "stream",
     "text": [
      "100%|█| 905379/905379 [00:00<00:00, 8798810.80\n"
     ]
    },
    {
     "name": "stdout",
     "output_type": "stream",
     "text": [
      "File: results/daily/Modis/sst/A20170823_SST_NW_day.nc "
     ]
    },
    {
     "name": "stderr",
     "output_type": "stream",
     "text": [
      "100%|█| 967038/967038 [00:00<00:00, 9331656.95\n"
     ]
    },
    {
     "name": "stdout",
     "output_type": "stream",
     "text": [
      "File: results/daily/Modis/sst/A20170824_SST_NW_day.nc "
     ]
    },
    {
     "name": "stderr",
     "output_type": "stream",
     "text": [
      "100%|█| 1097222/1097222 [00:00<00:00, 5037156.\n"
     ]
    },
    {
     "name": "stdout",
     "output_type": "stream",
     "text": [
      "File: results/daily/Modis/sst/A20170825_SST_NW_day.nc "
     ]
    },
    {
     "name": "stderr",
     "output_type": "stream",
     "text": [
      "100%|█| 1288754/1288754 [00:00<00:00, 5993190.\n"
     ]
    },
    {
     "name": "stdout",
     "output_type": "stream",
     "text": [
      "File: results/daily/Modis/sst/A20170826_SST_NW_day.nc "
     ]
    },
    {
     "name": "stderr",
     "output_type": "stream",
     "text": [
      "100%|█| 1586744/1586744 [00:00<00:00, 7774613.\n"
     ]
    },
    {
     "name": "stdout",
     "output_type": "stream",
     "text": [
      "File: results/daily/Modis/sst/A20170827_SST_NW_day.nc "
     ]
    },
    {
     "name": "stderr",
     "output_type": "stream",
     "text": [
      "100%|█| 754118/754118 [00:00<00:00, 7263733.79\n"
     ]
    },
    {
     "name": "stdout",
     "output_type": "stream",
     "text": [
      "File: results/daily/Modis/sst/A20170828_SST_NW_day.nc "
     ]
    },
    {
     "name": "stderr",
     "output_type": "stream",
     "text": [
      "100%|█| 678082/678082 [00:00<00:00, 6457130.89\n"
     ]
    },
    {
     "name": "stdout",
     "output_type": "stream",
     "text": [
      "File: results/daily/Modis/sst/A20170829_SST_NW_day.nc "
     ]
    },
    {
     "name": "stderr",
     "output_type": "stream",
     "text": [
      "100%|█| 1226070/1226070 [00:00<00:00, 5934512.\n"
     ]
    },
    {
     "name": "stdout",
     "output_type": "stream",
     "text": [
      "File: results/daily/Modis/sst/A20170901_SST_NW_day.nc "
     ]
    },
    {
     "name": "stderr",
     "output_type": "stream",
     "text": [
      "100%|█| 1032939/1032939 [00:00<00:00, 9887962.\n"
     ]
    },
    {
     "name": "stdout",
     "output_type": "stream",
     "text": [
      "File: results/daily/Modis/sst/A20170902_SST_NW_day.nc "
     ]
    },
    {
     "name": "stderr",
     "output_type": "stream",
     "text": [
      "100%|█| 1273361/1273361 [00:00<00:00, 6190453.\n"
     ]
    },
    {
     "name": "stdout",
     "output_type": "stream",
     "text": [
      "File: results/daily/Modis/sst/A20170903_SST_NW_day.nc "
     ]
    },
    {
     "name": "stderr",
     "output_type": "stream",
     "text": [
      "100%|█| 1032646/1032646 [00:00<00:00, 10170337\n"
     ]
    },
    {
     "name": "stdout",
     "output_type": "stream",
     "text": [
      "File: results/daily/Modis/sst/A20170904_SST_NW_day.nc "
     ]
    },
    {
     "name": "stderr",
     "output_type": "stream",
     "text": [
      "100%|█| 858759/858759 [00:00<00:00, 8273754.56\n"
     ]
    },
    {
     "name": "stdout",
     "output_type": "stream",
     "text": [
      "File: results/daily/Modis/sst/A20170905_SST_NW_day.nc "
     ]
    },
    {
     "name": "stderr",
     "output_type": "stream",
     "text": [
      "100%|█| 484913/484913 [00:00<00:00, 4621607.79\n"
     ]
    },
    {
     "name": "stdout",
     "output_type": "stream",
     "text": [
      "File: results/daily/Modis/sst/A20170906_SST_NW_day.nc "
     ]
    },
    {
     "name": "stderr",
     "output_type": "stream",
     "text": [
      "100%|█| 715635/715635 [00:00<00:00, 7054565.75\n"
     ]
    },
    {
     "name": "stdout",
     "output_type": "stream",
     "text": [
      "File: results/daily/Modis/sst/A20170907_SST_NW_day.nc "
     ]
    },
    {
     "name": "stderr",
     "output_type": "stream",
     "text": [
      "100%|█| 1486193/1486193 [00:00<00:00, 7191180.\n"
     ]
    },
    {
     "name": "stdout",
     "output_type": "stream",
     "text": [
      "File: results/daily/Modis/sst/A20170908_SST_NW_day.nc "
     ]
    },
    {
     "name": "stderr",
     "output_type": "stream",
     "text": [
      "100%|█| 1292826/1292826 [00:00<00:00, 6285162.\n"
     ]
    },
    {
     "name": "stdout",
     "output_type": "stream",
     "text": [
      "File: results/daily/Modis/sst/A20170909_SST_NW_day.nc "
     ]
    },
    {
     "name": "stderr",
     "output_type": "stream",
     "text": [
      "100%|█| 1043822/1043822 [00:00<00:00, 10059849\n"
     ]
    },
    {
     "name": "stdout",
     "output_type": "stream",
     "text": [
      "File: results/daily/Modis/sst/A20170910_SST_NW_day.nc "
     ]
    },
    {
     "name": "stderr",
     "output_type": "stream",
     "text": [
      "100%|█| 613923/613923 [00:00<00:00, 5817966.69\n"
     ]
    },
    {
     "name": "stdout",
     "output_type": "stream",
     "text": [
      "File: results/daily/Modis/sst/A20170911_SST_NW_day.nc "
     ]
    },
    {
     "name": "stderr",
     "output_type": "stream",
     "text": [
      "100%|█| 600791/600791 [00:00<00:00, 5794898.66\n"
     ]
    },
    {
     "name": "stdout",
     "output_type": "stream",
     "text": [
      "File: results/daily/Modis/sst/A20170912_SST_NW_day.nc "
     ]
    },
    {
     "name": "stderr",
     "output_type": "stream",
     "text": [
      "100%|█| 1232841/1232841 [00:00<00:00, 5963624.\n"
     ]
    },
    {
     "name": "stdout",
     "output_type": "stream",
     "text": [
      "File: results/daily/Modis/sst/A20170913_SST_NW_day.nc "
     ]
    },
    {
     "name": "stderr",
     "output_type": "stream",
     "text": [
      "100%|█| 1294140/1294140 [00:00<00:00, 6305693.\n"
     ]
    },
    {
     "name": "stdout",
     "output_type": "stream",
     "text": [
      "File: results/daily/Modis/sst/A20170914_SST_NW_day.nc "
     ]
    },
    {
     "name": "stderr",
     "output_type": "stream",
     "text": [
      "100%|█| 770534/770534 [00:00<00:00, 7410299.31\n"
     ]
    },
    {
     "name": "stdout",
     "output_type": "stream",
     "text": [
      "File: results/daily/Modis/sst/A20170915_SST_NW_day.nc "
     ]
    },
    {
     "name": "stderr",
     "output_type": "stream",
     "text": [
      "100%|█| 597979/597979 [00:00<00:00, 5718383.12\n"
     ]
    },
    {
     "name": "stdout",
     "output_type": "stream",
     "text": [
      "File: results/daily/Modis/sst/A20170916_SST_NW_day.nc "
     ]
    },
    {
     "name": "stderr",
     "output_type": "stream",
     "text": [
      "100%|█| 522368/522368 [00:00<00:00, 5042810.83\n"
     ]
    },
    {
     "name": "stdout",
     "output_type": "stream",
     "text": [
      "File: results/daily/Modis/sst/A20170917_SST_NW_day.nc "
     ]
    },
    {
     "name": "stderr",
     "output_type": "stream",
     "text": [
      "100%|█| 945030/945030 [00:00<00:00, 9138607.61\n"
     ]
    },
    {
     "name": "stdout",
     "output_type": "stream",
     "text": [
      "File: results/daily/Modis/sst/A20170918_SST_NW_day.nc "
     ]
    },
    {
     "name": "stderr",
     "output_type": "stream",
     "text": [
      "100%|█| 1739497/1739497 [00:00<00:00, 8429707.\n"
     ]
    },
    {
     "name": "stdout",
     "output_type": "stream",
     "text": [
      "File: results/daily/Modis/sst/A20170919_SST_NW_day.nc "
     ]
    },
    {
     "name": "stderr",
     "output_type": "stream",
     "text": [
      "100%|█| 993269/993269 [00:00<00:00, 9551815.62\n"
     ]
    },
    {
     "name": "stdout",
     "output_type": "stream",
     "text": [
      "File: results/daily/Modis/sst/A20170920_SST_NW_day.nc "
     ]
    },
    {
     "name": "stderr",
     "output_type": "stream",
     "text": [
      "100%|█| 1234734/1234734 [00:00<00:00, 5979167.\n"
     ]
    },
    {
     "name": "stdout",
     "output_type": "stream",
     "text": [
      "File: results/daily/Modis/sst/A20170921_SST_NW_day.nc "
     ]
    },
    {
     "name": "stderr",
     "output_type": "stream",
     "text": [
      "100%|█| 1117884/1117884 [00:00<00:00, 5449577.\n"
     ]
    },
    {
     "name": "stdout",
     "output_type": "stream",
     "text": [
      "File: results/daily/Modis/sst/A20170922_SST_NW_day.nc "
     ]
    },
    {
     "name": "stderr",
     "output_type": "stream",
     "text": [
      "100%|█| 759772/759772 [00:00<00:00, 7526878.44\n"
     ]
    },
    {
     "name": "stdout",
     "output_type": "stream",
     "text": [
      "File: results/daily/Modis/sst/A20170923_SST_NW_day.nc "
     ]
    },
    {
     "name": "stderr",
     "output_type": "stream",
     "text": [
      "100%|█| 984545/984545 [00:00<00:00, 9469831.54\n"
     ]
    },
    {
     "name": "stdout",
     "output_type": "stream",
     "text": [
      "File: results/daily/Modis/sst/A20170924_SST_NW_day.nc "
     ]
    },
    {
     "name": "stderr",
     "output_type": "stream",
     "text": [
      "100%|█| 907493/907493 [00:00<00:00, 8750923.12\n"
     ]
    },
    {
     "name": "stdout",
     "output_type": "stream",
     "text": [
      "File: results/daily/Modis/sst/A20170925_SST_NW_day.nc "
     ]
    },
    {
     "name": "stderr",
     "output_type": "stream",
     "text": [
      "100%|█| 1400145/1400145 [00:00<00:00, 6792218.\n"
     ]
    },
    {
     "name": "stdout",
     "output_type": "stream",
     "text": [
      "File: results/daily/Modis/sst/A20170926_SST_NW_day.nc "
     ]
    },
    {
     "name": "stderr",
     "output_type": "stream",
     "text": [
      "100%|█| 359602/359602 [00:00<00:00, 3466673.04\n"
     ]
    },
    {
     "name": "stdout",
     "output_type": "stream",
     "text": [
      "File: results/daily/Modis/sst/A20170927_SST_NW_day.nc "
     ]
    },
    {
     "name": "stderr",
     "output_type": "stream",
     "text": [
      "100%|█| 611177/611177 [00:00<00:00, 5969911.61\n"
     ]
    },
    {
     "name": "stdout",
     "output_type": "stream",
     "text": [
      "File: results/daily/Modis/sst/A20170928_SST_NW_day.nc "
     ]
    },
    {
     "name": "stderr",
     "output_type": "stream",
     "text": [
      "100%|█| 1430688/1430688 [00:00<00:00, 6926094.\n"
     ]
    },
    {
     "name": "stdout",
     "output_type": "stream",
     "text": [
      "File: results/daily/Modis/sst/A20170929_SST_NW_day.nc "
     ]
    },
    {
     "name": "stderr",
     "output_type": "stream",
     "text": [
      "100%|█| 1347669/1347669 [00:00<00:00, 6557166.\n"
     ]
    },
    {
     "name": "stdout",
     "output_type": "stream",
     "text": [
      "File: results/daily/Modis/sst/A20171001_SST_NW_day.nc "
     ]
    },
    {
     "name": "stderr",
     "output_type": "stream",
     "text": [
      "100%|█| 586165/586165 [00:00<00:00, 5677967.40\n"
     ]
    },
    {
     "name": "stdout",
     "output_type": "stream",
     "text": [
      "File: results/daily/Modis/sst/A20171002_SST_NW_day.nc "
     ]
    },
    {
     "name": "stderr",
     "output_type": "stream",
     "text": [
      "100%|█| 385069/385069 [00:00<00:00, 3669948.09\n"
     ]
    },
    {
     "name": "stdout",
     "output_type": "stream",
     "text": [
      "File: results/daily/Modis/sst/A20171003_SST_NW_day.nc "
     ]
    },
    {
     "name": "stderr",
     "output_type": "stream",
     "text": [
      "100%|█| 445212/445212 [00:00<00:00, 4318641.04\n"
     ]
    },
    {
     "name": "stdout",
     "output_type": "stream",
     "text": [
      "File: results/daily/Modis/sst/A20171004_SST_NW_day.nc "
     ]
    },
    {
     "name": "stderr",
     "output_type": "stream",
     "text": [
      "100%|█| 746423/746423 [00:00<00:00, 7097604.55\n"
     ]
    },
    {
     "name": "stdout",
     "output_type": "stream",
     "text": [
      "File: results/daily/Modis/sst/A20171005_SST_NW_day.nc "
     ]
    },
    {
     "name": "stderr",
     "output_type": "stream",
     "text": [
      "100%|█| 422326/422326 [00:00<00:00, 4067985.56\n"
     ]
    },
    {
     "name": "stdout",
     "output_type": "stream",
     "text": [
      "File: results/daily/Modis/sst/A20171006_SST_NW_day.nc "
     ]
    },
    {
     "name": "stderr",
     "output_type": "stream",
     "text": [
      "100%|█| 788592/788592 [00:00<00:00, 7762757.62\n"
     ]
    },
    {
     "name": "stdout",
     "output_type": "stream",
     "text": [
      "File: results/daily/Modis/sst/A20171007_SST_NW_day.nc "
     ]
    },
    {
     "name": "stderr",
     "output_type": "stream",
     "text": [
      "100%|█| 992818/992818 [00:00<00:00, 9468371.94\n"
     ]
    },
    {
     "name": "stdout",
     "output_type": "stream",
     "text": [
      "File: results/daily/Modis/sst/A20171008_SST_NW_day.nc "
     ]
    },
    {
     "name": "stderr",
     "output_type": "stream",
     "text": [
      "100%|█| 1007143/1007143 [00:00<00:00, 9639134.\n"
     ]
    },
    {
     "name": "stdout",
     "output_type": "stream",
     "text": [
      "File: results/daily/Modis/sst/A20171009_SST_NW_day.nc "
     ]
    },
    {
     "name": "stderr",
     "output_type": "stream",
     "text": [
      "100%|█| 1025344/1025344 [00:00<00:00, 10008155\n"
     ]
    },
    {
     "name": "stdout",
     "output_type": "stream",
     "text": [
      "File: results/daily/Modis/sst/A20171010_SST_NW_day.nc "
     ]
    },
    {
     "name": "stderr",
     "output_type": "stream",
     "text": [
      "100%|█| 954709/954709 [00:00<00:00, 9023091.61\n"
     ]
    },
    {
     "name": "stdout",
     "output_type": "stream",
     "text": [
      "File: results/daily/Modis/sst/A20171011_SST_NW_day.nc "
     ]
    },
    {
     "name": "stderr",
     "output_type": "stream",
     "text": [
      "100%|█| 610962/610962 [00:00<00:00, 5956298.33\n"
     ]
    },
    {
     "name": "stdout",
     "output_type": "stream",
     "text": [
      "File: results/daily/Modis/sst/A20171012_SST_NW_day.nc "
     ]
    },
    {
     "name": "stderr",
     "output_type": "stream",
     "text": [
      "100%|█| 852019/852019 [00:00<00:00, 8232114.36\n"
     ]
    },
    {
     "name": "stdout",
     "output_type": "stream",
     "text": [
      "File: results/daily/Modis/sst/A20171013_SST_NW_day.nc "
     ]
    },
    {
     "name": "stderr",
     "output_type": "stream",
     "text": [
      "100%|█| 654976/654976 [00:00<00:00, 6344719.69\n"
     ]
    },
    {
     "name": "stdout",
     "output_type": "stream",
     "text": [
      "File: results/daily/Modis/sst/A20171014_SST_NW_day.nc "
     ]
    },
    {
     "name": "stderr",
     "output_type": "stream",
     "text": [
      "100%|█| 497421/497421 [00:00<00:00, 4863466.89\n"
     ]
    },
    {
     "name": "stdout",
     "output_type": "stream",
     "text": [
      "File: results/daily/Modis/sst/A20171015_SST_NW_day.nc "
     ]
    },
    {
     "name": "stderr",
     "output_type": "stream",
     "text": [
      "100%|█| 330920/330920 [00:00<00:00, 3245057.13\n"
     ]
    },
    {
     "name": "stdout",
     "output_type": "stream",
     "text": [
      "File: results/daily/Modis/sst/A20171016_SST_NW_day.nc "
     ]
    },
    {
     "name": "stderr",
     "output_type": "stream",
     "text": [
      "100%|█| 786408/786408 [00:00<00:00, 7562267.51\n"
     ]
    },
    {
     "name": "stdout",
     "output_type": "stream",
     "text": [
      "File: results/daily/Modis/sst/A20171017_SST_NW_day.nc "
     ]
    },
    {
     "name": "stderr",
     "output_type": "stream",
     "text": [
      "100%|█| 495602/495602 [00:00<00:00, 4793996.05\n"
     ]
    },
    {
     "name": "stdout",
     "output_type": "stream",
     "text": [
      "File: results/daily/Modis/sst/A20171018_SST_NW_day.nc "
     ]
    },
    {
     "name": "stderr",
     "output_type": "stream",
     "text": [
      "100%|█| 399414/399414 [00:00<00:00, 3857352.77\n"
     ]
    },
    {
     "name": "stdout",
     "output_type": "stream",
     "text": [
      "File: results/daily/Modis/sst/A20171019_SST_NW_day.nc "
     ]
    },
    {
     "name": "stderr",
     "output_type": "stream",
     "text": [
      "100%|█| 932595/932595 [00:00<00:00, 8967190.05\n"
     ]
    },
    {
     "name": "stdout",
     "output_type": "stream",
     "text": [
      "File: results/daily/Modis/sst/A20171020_SST_NW_day.nc "
     ]
    },
    {
     "name": "stderr",
     "output_type": "stream",
     "text": [
      "100%|█| 1030951/1030951 [00:00<00:00, 9897325.\n"
     ]
    },
    {
     "name": "stdout",
     "output_type": "stream",
     "text": [
      "File: results/daily/Modis/sst/A20171021_SST_NW_day.nc "
     ]
    },
    {
     "name": "stderr",
     "output_type": "stream",
     "text": [
      "100%|█| 484982/484982 [00:00<00:00, 4688543.12\n"
     ]
    },
    {
     "name": "stdout",
     "output_type": "stream",
     "text": [
      "File: results/daily/Modis/sst/A20171022_SST_NW_day.nc "
     ]
    },
    {
     "name": "stderr",
     "output_type": "stream",
     "text": [
      "100%|█| 491100/491100 [00:00<00:00, 4873797.29\n"
     ]
    },
    {
     "name": "stdout",
     "output_type": "stream",
     "text": [
      "File: results/daily/Modis/sst/A20171023_SST_NW_day.nc "
     ]
    },
    {
     "name": "stderr",
     "output_type": "stream",
     "text": [
      "100%|█| 1176106/1176106 [00:00<00:00, 5776574.\n"
     ]
    },
    {
     "name": "stdout",
     "output_type": "stream",
     "text": [
      "File: results/daily/Modis/sst/A20171024_SST_NW_day.nc "
     ]
    },
    {
     "name": "stderr",
     "output_type": "stream",
     "text": [
      "100%|█| 1328346/1328346 [00:00<00:00, 6476071.\n"
     ]
    },
    {
     "name": "stdout",
     "output_type": "stream",
     "text": [
      "File: results/daily/Modis/sst/A20171025_SST_NW_day.nc "
     ]
    },
    {
     "name": "stderr",
     "output_type": "stream",
     "text": [
      "100%|█| 1176083/1176083 [00:00<00:00, 5729149.\n"
     ]
    },
    {
     "name": "stdout",
     "output_type": "stream",
     "text": [
      "File: results/daily/Modis/sst/A20171026_SST_NW_day.nc "
     ]
    },
    {
     "name": "stderr",
     "output_type": "stream",
     "text": [
      "100%|█| 791070/791070 [00:00<00:00, 7717561.51\n"
     ]
    },
    {
     "name": "stdout",
     "output_type": "stream",
     "text": [
      "File: results/daily/Modis/sst/A20171027_SST_NW_day.nc "
     ]
    },
    {
     "name": "stderr",
     "output_type": "stream",
     "text": [
      "100%|█| 1099205/1099205 [00:00<00:00, 5313179.\n"
     ]
    },
    {
     "name": "stdout",
     "output_type": "stream",
     "text": [
      "File: results/daily/Modis/sst/A20171028_SST_NW_day.nc "
     ]
    },
    {
     "name": "stderr",
     "output_type": "stream",
     "text": [
      "100%|█| 673543/673543 [00:00<00:00, 6462990.18\n"
     ]
    },
    {
     "name": "stdout",
     "output_type": "stream",
     "text": [
      "File: results/daily/Modis/sst/A20171029_SST_NW_day.nc "
     ]
    },
    {
     "name": "stderr",
     "output_type": "stream",
     "text": [
      "100%|█| 916806/916806 [00:00<00:00, 8806127.92\n"
     ]
    },
    {
     "name": "stdout",
     "output_type": "stream",
     "text": [
      "File: results/daily/Modis/sst/A20171101_SST_NW_day.nc "
     ]
    },
    {
     "name": "stderr",
     "output_type": "stream",
     "text": [
      "100%|█| 872659/872659 [00:00<00:00, 8358083.81\n"
     ]
    },
    {
     "name": "stdout",
     "output_type": "stream",
     "text": [
      "File: results/daily/Modis/sst/A20171102_SST_NW_day.nc "
     ]
    },
    {
     "name": "stderr",
     "output_type": "stream",
     "text": [
      "100%|█| 901926/901926 [00:00<00:00, 8832543.37\n"
     ]
    },
    {
     "name": "stdout",
     "output_type": "stream",
     "text": [
      "File: results/daily/Modis/sst/A20171103_SST_NW_day.nc "
     ]
    },
    {
     "name": "stderr",
     "output_type": "stream",
     "text": [
      "100%|█| 642443/642443 [00:00<00:00, 6306819.50\n"
     ]
    },
    {
     "name": "stdout",
     "output_type": "stream",
     "text": [
      "File: results/daily/Modis/sst/A20171104_SST_NW_day.nc "
     ]
    },
    {
     "name": "stderr",
     "output_type": "stream",
     "text": [
      "100%|█| 903542/903542 [00:00<00:00, 8635100.71\n"
     ]
    },
    {
     "name": "stdout",
     "output_type": "stream",
     "text": [
      "File: results/daily/Modis/sst/A20171105_SST_NW_day.nc "
     ]
    },
    {
     "name": "stderr",
     "output_type": "stream",
     "text": [
      "100%|█| 1213602/1213602 [00:00<00:00, 5992465.\n"
     ]
    },
    {
     "name": "stdout",
     "output_type": "stream",
     "text": [
      "File: results/daily/Modis/sst/A20171106_SST_NW_day.nc "
     ]
    },
    {
     "name": "stderr",
     "output_type": "stream",
     "text": [
      "100%|█| 1000280/1000280 [00:00<00:00, 9579898.\n"
     ]
    },
    {
     "name": "stdout",
     "output_type": "stream",
     "text": [
      "File: results/daily/Modis/sst/A20171107_SST_NW_day.nc "
     ]
    },
    {
     "name": "stderr",
     "output_type": "stream",
     "text": [
      "100%|█| 377176/377176 [00:00<00:00, 3613047.25\n"
     ]
    },
    {
     "name": "stdout",
     "output_type": "stream",
     "text": [
      "File: results/daily/Modis/sst/A20171108_SST_NW_day.nc "
     ]
    },
    {
     "name": "stderr",
     "output_type": "stream",
     "text": [
      "100%|█| 1072469/1072469 [00:00<00:00, 5239675.\n"
     ]
    },
    {
     "name": "stdout",
     "output_type": "stream",
     "text": [
      "File: results/daily/Modis/sst/A20171109_SST_NW_day.nc "
     ]
    },
    {
     "name": "stderr",
     "output_type": "stream",
     "text": [
      "100%|█| 1061686/1061686 [00:00<00:00, 5133227.\n"
     ]
    },
    {
     "name": "stdout",
     "output_type": "stream",
     "text": [
      "File: results/daily/Modis/sst/A20171110_SST_NW_day.nc "
     ]
    },
    {
     "name": "stderr",
     "output_type": "stream",
     "text": [
      "100%|█| 488476/488476 [00:00<00:00, 4689344.56\n"
     ]
    },
    {
     "name": "stdout",
     "output_type": "stream",
     "text": [
      "File: results/daily/Modis/sst/A20171111_SST_NW_day.nc "
     ]
    },
    {
     "name": "stderr",
     "output_type": "stream",
     "text": [
      "100%|█| 739075/739075 [00:00<00:00, 7127578.89\n"
     ]
    },
    {
     "name": "stdout",
     "output_type": "stream",
     "text": [
      "File: results/daily/Modis/sst/A20171112_SST_NW_day.nc "
     ]
    },
    {
     "name": "stderr",
     "output_type": "stream",
     "text": [
      "100%|█| 1020596/1020596 [00:00<00:00, 9789983.\n"
     ]
    },
    {
     "name": "stdout",
     "output_type": "stream",
     "text": [
      "File: results/daily/Modis/sst/A20171113_SST_NW_day.nc "
     ]
    },
    {
     "name": "stderr",
     "output_type": "stream",
     "text": [
      "100%|█| 589838/589838 [00:00<00:00, 5676719.75\n"
     ]
    },
    {
     "name": "stdout",
     "output_type": "stream",
     "text": [
      "File: results/daily/Modis/sst/A20171114_SST_NW_day.nc "
     ]
    },
    {
     "name": "stderr",
     "output_type": "stream",
     "text": [
      "100%|█| 721961/721961 [00:00<00:00, 6976070.64\n"
     ]
    },
    {
     "name": "stdout",
     "output_type": "stream",
     "text": [
      "File: results/daily/Modis/sst/A20171115_SST_NW_day.nc "
     ]
    },
    {
     "name": "stderr",
     "output_type": "stream",
     "text": [
      "100%|█| 686563/686563 [00:00<00:00, 6731419.02\n"
     ]
    },
    {
     "name": "stdout",
     "output_type": "stream",
     "text": [
      "File: results/daily/Modis/sst/A20171116_SST_NW_day.nc "
     ]
    },
    {
     "name": "stderr",
     "output_type": "stream",
     "text": [
      "100%|█| 614342/614342 [00:00<00:00, 5485979.43\n"
     ]
    },
    {
     "name": "stdout",
     "output_type": "stream",
     "text": [
      "File: results/daily/Modis/sst/A20171117_SST_NW_day.nc "
     ]
    },
    {
     "name": "stderr",
     "output_type": "stream",
     "text": [
      "100%|█| 159666/159666 [00:00<00:00, 1461517.42\n"
     ]
    },
    {
     "name": "stdout",
     "output_type": "stream",
     "text": [
      "File: results/daily/Modis/sst/A20171118_SST_NW_day.nc "
     ]
    },
    {
     "name": "stderr",
     "output_type": "stream",
     "text": [
      "100%|█| 447006/447006 [00:00<00:00, 4322039.34\n"
     ]
    },
    {
     "name": "stdout",
     "output_type": "stream",
     "text": [
      "File: results/daily/Modis/sst/A20171119_SST_NW_day.nc "
     ]
    },
    {
     "name": "stderr",
     "output_type": "stream",
     "text": [
      "100%|█| 334534/334534 [00:00<00:00, 2974796.83\n"
     ]
    },
    {
     "name": "stdout",
     "output_type": "stream",
     "text": [
      "File: results/daily/Modis/sst/A20171120_SST_NW_day.nc "
     ]
    },
    {
     "name": "stderr",
     "output_type": "stream",
     "text": [
      "100%|█| 651680/651680 [00:00<00:00, 6084725.83\n"
     ]
    },
    {
     "name": "stdout",
     "output_type": "stream",
     "text": [
      "File: results/daily/Modis/sst/A20171121_SST_NW_day.nc "
     ]
    },
    {
     "name": "stderr",
     "output_type": "stream",
     "text": [
      "100%|█| 407059/407059 [00:00<00:00, 4034055.30\n"
     ]
    },
    {
     "name": "stdout",
     "output_type": "stream",
     "text": [
      "File: results/daily/Modis/sst/A20171122_SST_NW_day.nc "
     ]
    },
    {
     "name": "stderr",
     "output_type": "stream",
     "text": [
      "100%|█| 403168/403168 [00:00<00:00, 3812107.95\n"
     ]
    },
    {
     "name": "stdout",
     "output_type": "stream",
     "text": [
      "File: results/daily/Modis/sst/A20171123_SST_NW_day.nc "
     ]
    },
    {
     "name": "stderr",
     "output_type": "stream",
     "text": [
      "100%|█| 550552/550552 [00:00<00:00, 5210178.69\n"
     ]
    },
    {
     "name": "stdout",
     "output_type": "stream",
     "text": [
      "File: results/daily/Modis/sst/A20171124_SST_NW_day.nc "
     ]
    },
    {
     "name": "stderr",
     "output_type": "stream",
     "text": [
      "100%|█| 411777/411777 [00:00<00:00, 4032279.19\n"
     ]
    },
    {
     "name": "stdout",
     "output_type": "stream",
     "text": [
      "File: results/daily/Modis/sst/A20171125_SST_NW_day.nc "
     ]
    },
    {
     "name": "stderr",
     "output_type": "stream",
     "text": [
      "100%|█| 497472/497472 [00:00<00:00, 4652137.50\n"
     ]
    },
    {
     "name": "stdout",
     "output_type": "stream",
     "text": [
      "File: results/daily/Modis/sst/A20171126_SST_NW_day.nc "
     ]
    },
    {
     "name": "stderr",
     "output_type": "stream",
     "text": [
      "100%|█| 823443/823443 [00:00<00:00, 7578145.82\n"
     ]
    },
    {
     "name": "stdout",
     "output_type": "stream",
     "text": [
      "File: results/daily/Modis/sst/A20171127_SST_NW_day.nc "
     ]
    },
    {
     "name": "stderr",
     "output_type": "stream",
     "text": [
      "100%|█| 796214/796214 [00:00<00:00, 7718518.23\n"
     ]
    },
    {
     "name": "stdout",
     "output_type": "stream",
     "text": [
      "File: results/daily/Modis/sst/A20171128_SST_NW_day.nc "
     ]
    },
    {
     "name": "stderr",
     "output_type": "stream",
     "text": [
      "100%|█| 1148316/1148316 [00:00<00:00, 5233319.\n"
     ]
    },
    {
     "name": "stdout",
     "output_type": "stream",
     "text": [
      "File: results/daily/Modis/sst/A20171129_SST_NW_day.nc "
     ]
    },
    {
     "name": "stderr",
     "output_type": "stream",
     "text": [
      "100%|█| 330469/330469 [00:00<00:00, 3006149.53\n"
     ]
    },
    {
     "name": "stdout",
     "output_type": "stream",
     "text": [
      "File: results/daily/Modis/sst/A20171201_SST_NW_day.nc "
     ]
    },
    {
     "name": "stderr",
     "output_type": "stream",
     "text": [
      "100%|█| 640493/640493 [00:00<00:00, 6116334.04\n"
     ]
    },
    {
     "name": "stdout",
     "output_type": "stream",
     "text": [
      "File: results/daily/Modis/sst/A20171202_SST_NW_day.nc "
     ]
    },
    {
     "name": "stderr",
     "output_type": "stream",
     "text": [
      "100%|█| 679382/679382 [00:00<00:00, 6131341.09\n"
     ]
    },
    {
     "name": "stdout",
     "output_type": "stream",
     "text": [
      "File: results/daily/Modis/sst/A20171203_SST_NW_day.nc "
     ]
    },
    {
     "name": "stderr",
     "output_type": "stream",
     "text": [
      "100%|█| 471445/471445 [00:00<00:00, 4139383.82\n"
     ]
    },
    {
     "name": "stdout",
     "output_type": "stream",
     "text": [
      "File: results/daily/Modis/sst/A20171204_SST_NW_day.nc "
     ]
    },
    {
     "name": "stderr",
     "output_type": "stream",
     "text": [
      "100%|█| 294636/294636 [00:00<00:00, 2612725.33\n"
     ]
    },
    {
     "name": "stdout",
     "output_type": "stream",
     "text": [
      "File: results/daily/Modis/sst/A20171205_SST_NW_day.nc "
     ]
    },
    {
     "name": "stderr",
     "output_type": "stream",
     "text": [
      "100%|█| 513765/513765 [00:00<00:00, 5078638.42\n"
     ]
    },
    {
     "name": "stdout",
     "output_type": "stream",
     "text": [
      "File: results/daily/Modis/sst/A20171206_SST_NW_day.nc "
     ]
    },
    {
     "name": "stderr",
     "output_type": "stream",
     "text": [
      "100%|█| 475715/475715 [00:00<00:00, 4329462.33\n"
     ]
    },
    {
     "name": "stdout",
     "output_type": "stream",
     "text": [
      "File: results/daily/Modis/sst/A20171207_SST_NW_day.nc "
     ]
    },
    {
     "name": "stderr",
     "output_type": "stream",
     "text": [
      "100%|█| 373584/373584 [00:00<00:00, 3344713.87\n"
     ]
    },
    {
     "name": "stdout",
     "output_type": "stream",
     "text": [
      "File: results/daily/Modis/sst/A20171208_SST_NW_day.nc "
     ]
    },
    {
     "name": "stderr",
     "output_type": "stream",
     "text": [
      "100%|█| 515207/515207 [00:00<00:00, 5100213.08\n"
     ]
    },
    {
     "name": "stdout",
     "output_type": "stream",
     "text": [
      "File: results/daily/Modis/sst/A20171209_SST_NW_day.nc "
     ]
    },
    {
     "name": "stderr",
     "output_type": "stream",
     "text": [
      "100%|█| 396531/396531 [00:00<00:00, 3439460.08\n"
     ]
    },
    {
     "name": "stdout",
     "output_type": "stream",
     "text": [
      "File: results/daily/Modis/sst/A20171210_SST_NW_day.nc "
     ]
    },
    {
     "name": "stderr",
     "output_type": "stream",
     "text": [
      "100%|█| 521421/521421 [00:00<00:00, 5141958.10\n"
     ]
    },
    {
     "name": "stdout",
     "output_type": "stream",
     "text": [
      "File: results/daily/Modis/sst/A20171211_SST_NW_day.nc "
     ]
    },
    {
     "name": "stderr",
     "output_type": "stream",
     "text": [
      "100%|█| 304282/304282 [00:00<00:00, 2989802.96\n"
     ]
    },
    {
     "name": "stdout",
     "output_type": "stream",
     "text": [
      "File: results/daily/Modis/sst/A20171212_SST_NW_day.nc "
     ]
    },
    {
     "name": "stderr",
     "output_type": "stream",
     "text": [
      "100%|█| 359553/359553 [00:00<00:00, 3465228.99\n"
     ]
    },
    {
     "name": "stdout",
     "output_type": "stream",
     "text": [
      "File: results/daily/Modis/sst/A20171213_SST_NW_day.nc "
     ]
    },
    {
     "name": "stderr",
     "output_type": "stream",
     "text": [
      "100%|█| 309329/309329 [00:00<00:00, 2952909.53\n"
     ]
    },
    {
     "name": "stdout",
     "output_type": "stream",
     "text": [
      "File: results/daily/Modis/sst/A20171214_SST_NW_day.nc "
     ]
    },
    {
     "name": "stderr",
     "output_type": "stream",
     "text": [
      "100%|█| 275228/275228 [00:00<00:00, 2384930.64\n"
     ]
    },
    {
     "name": "stdout",
     "output_type": "stream",
     "text": [
      "File: results/daily/Modis/sst/A20171215_SST_NW_day.nc "
     ]
    },
    {
     "name": "stderr",
     "output_type": "stream",
     "text": [
      "100%|█| 389550/389550 [00:00<00:00, 3545093.65\n"
     ]
    },
    {
     "name": "stdout",
     "output_type": "stream",
     "text": [
      "File: results/daily/Modis/sst/A20171216_SST_NW_day.nc "
     ]
    },
    {
     "name": "stderr",
     "output_type": "stream",
     "text": [
      "100%|█| 298143/298143 [00:00<00:00, 2608794.94\n"
     ]
    },
    {
     "name": "stdout",
     "output_type": "stream",
     "text": [
      "File: results/daily/Modis/sst/A20171217_SST_NW_day.nc "
     ]
    },
    {
     "name": "stderr",
     "output_type": "stream",
     "text": [
      "100%|█| 499551/499551 [00:00<00:00, 4969519.66\n"
     ]
    },
    {
     "name": "stdout",
     "output_type": "stream",
     "text": [
      "File: results/daily/Modis/sst/A20171218_SST_NW_day.nc "
     ]
    },
    {
     "name": "stderr",
     "output_type": "stream",
     "text": [
      "100%|█| 503845/503845 [00:00<00:00, 4407053.48\n"
     ]
    },
    {
     "name": "stdout",
     "output_type": "stream",
     "text": [
      "File: results/daily/Modis/sst/A20171219_SST_NW_day.nc "
     ]
    },
    {
     "name": "stderr",
     "output_type": "stream",
     "text": [
      "100%|█| 609397/609397 [00:00<00:00, 5894403.94\n"
     ]
    },
    {
     "name": "stdout",
     "output_type": "stream",
     "text": [
      "File: results/daily/Modis/sst/A20171220_SST_NW_day.nc "
     ]
    },
    {
     "name": "stderr",
     "output_type": "stream",
     "text": [
      "100%|█| 762247/762247 [00:00<00:00, 7370961.63\n"
     ]
    },
    {
     "name": "stdout",
     "output_type": "stream",
     "text": [
      "File: results/daily/Modis/sst/A20171221_SST_NW_day.nc "
     ]
    },
    {
     "name": "stderr",
     "output_type": "stream",
     "text": [
      "100%|█| 1159019/1159019 [00:00<00:00, 5662611.\n"
     ]
    },
    {
     "name": "stdout",
     "output_type": "stream",
     "text": [
      "File: results/daily/Modis/sst/A20171222_SST_NW_day.nc "
     ]
    },
    {
     "name": "stderr",
     "output_type": "stream",
     "text": [
      "100%|█| 787128/787128 [00:00<00:00, 7753678.13\n"
     ]
    },
    {
     "name": "stdout",
     "output_type": "stream",
     "text": [
      "File: results/daily/Modis/sst/A20171223_SST_NW_day.nc "
     ]
    },
    {
     "name": "stderr",
     "output_type": "stream",
     "text": [
      "100%|█| 362323/362323 [00:00<00:00, 3502613.22\n"
     ]
    },
    {
     "name": "stdout",
     "output_type": "stream",
     "text": [
      "File: results/daily/Modis/sst/A20171224_SST_NW_day.nc "
     ]
    },
    {
     "name": "stderr",
     "output_type": "stream",
     "text": [
      "100%|█| 452292/452292 [00:00<00:00, 3888178.66\n"
     ]
    },
    {
     "name": "stdout",
     "output_type": "stream",
     "text": [
      "File: results/daily/Modis/sst/A20171225_SST_NW_day.nc "
     ]
    },
    {
     "name": "stderr",
     "output_type": "stream",
     "text": [
      "100%|█| 640546/640546 [00:00<00:00, 5719514.38\n"
     ]
    },
    {
     "name": "stdout",
     "output_type": "stream",
     "text": [
      "File: results/daily/Modis/sst/A20171226_SST_NW_day.nc "
     ]
    },
    {
     "name": "stderr",
     "output_type": "stream",
     "text": [
      "100%|█| 519953/519953 [00:00<00:00, 4429767.42\n"
     ]
    },
    {
     "name": "stdout",
     "output_type": "stream",
     "text": [
      "File: results/daily/Modis/sst/A20171227_SST_NW_day.nc "
     ]
    },
    {
     "name": "stderr",
     "output_type": "stream",
     "text": [
      "100%|█| 480599/480599 [00:00<00:00, 4685274.18\n"
     ]
    },
    {
     "name": "stdout",
     "output_type": "stream",
     "text": [
      "File: results/daily/Modis/sst/A20171228_SST_NW_day.nc "
     ]
    },
    {
     "name": "stderr",
     "output_type": "stream",
     "text": [
      "100%|█| 351504/351504 [00:00<00:00, 3231055.86\n"
     ]
    },
    {
     "name": "stdout",
     "output_type": "stream",
     "text": [
      "File: results/daily/Modis/sst/A20171229_SST_NW_day.nc "
     ]
    },
    {
     "name": "stderr",
     "output_type": "stream",
     "text": [
      "100%|█| 350042/350042 [00:00<00:00, 3234117.37"
     ]
    },
    {
     "name": "stdout",
     "output_type": "stream",
     "text": [
      "done!\n"
     ]
    },
    {
     "name": "stderr",
     "output_type": "stream",
     "text": [
      "\n"
     ]
    }
   ],
   "source": [
    "# Now retrieve the data from NMEW\n",
    "for year in range(ys, ye):\n",
    "    print(f'{year}...')\n",
    "    if comp in ('day', 'month'):\n",
    "        for query in daymonth_filegen():\n",
    "            # ----------------------\n",
    "            get_file(query_url=query)\n",
    "            # ----------------------\n",
    "            \n",
    "    if comp == 'year':\n",
    "        ncfile = f'{init}{year}_{var}_{sba}_{comp}.nc'\n",
    "        query = url.format(filetype='netcdf', subarea=sba, year=year, filename=ncfile)\n",
    "        # ----------------------\n",
    "        get_file(query_url=query)\n",
    "        # ----------------------\n",
    "\n",
    "        pngfile = f'{init}{year}_{var}_{sba}_{comp}.png'\n",
    "        query = url.format(filetype='images', subarea=sba, year=year, filename=pngfile)\n",
    "        # ----------------------\n",
    "        get_file(query_url=query)\n",
    "        # ----------------------\n",
    "\n",
    "print('done!')"
   ]
  },
  {
   "cell_type": "code",
   "execution_count": null,
   "metadata": {},
   "outputs": [],
   "source": []
  }
 ],
 "metadata": {
  "celltoolbar": "Slideshow",
  "kernelspec": {
   "display_name": "Python 3 (ipykernel)",
   "language": "python",
   "name": "python3"
  },
  "language_info": {
   "codemirror_mode": {
    "name": "ipython",
    "version": 3
   },
   "file_extension": ".py",
   "mimetype": "text/x-python",
   "name": "python",
   "nbconvert_exporter": "python",
   "pygments_lexer": "ipython3",
   "version": "3.11.4"
  }
 },
 "nbformat": 4,
 "nbformat_minor": 4
}
