{
 "cells": [
  {
   "cell_type": "code",
   "execution_count": 16,
   "metadata": {
    "slideshow": {
     "slide_type": "slide"
    }
   },
   "outputs": [],
   "source": [
    "import os\n",
    "import requests\n",
    "import time \n",
    "\n",
    "from tqdm import tqdm"
   ]
  },
  {
   "cell_type": "code",
   "execution_count": 65,
   "metadata": {
    "slideshow": {
     "slide_type": "slide"
    }
   },
   "outputs": [],
   "source": [
    "# setting download parameters\n",
    "sba = 'NW' # Other subareas (Table 3)\n",
    "var = 'CHL' # variable name \n",
    "comp = 'month' # monthly composite | here can be 'day', 'month' or 'year' \n",
    "init = 'GS' # Initial character of the sensor name, MODIS-Aqua (A) and SGLI-GCOMC (GS) \n",
    "ys = 2017 # start year\n",
    "ms = 1 # start month\n",
    "ds = 1 # start day of month\n",
    "ye = 2022 # end year + 1, if end is 1997 then use yend = 1997 + 1 \n",
    "me = 13 # end month + 1, if end is 12 (Dec) then use 13, if 1 then use 2\n",
    "de = 30 # end day\n",
    "file_ext = ('nc', 'png') # file extension (type) to download, ('nc', 'png') or ('nc',) or ('png',) \n",
    "url = 'https://ocean.nowpap3.go.jp/image_search/{filetype}/{subarea}/{year}/{filename}'"
   ]
  },
  {
   "cell_type": "code",
   "execution_count": 66,
   "metadata": {
    "slideshow": {
     "slide_type": "slide"
    }
   },
   "outputs": [],
   "source": [
    "# Day month fetching file generator\n",
    "def daymonth_filegen(filetype:tuple=file_ext):\n",
    "    # Define the netCDF (PNG) file name\n",
    "    for month in range(ms, me):\n",
    "        if comp == 'day':\n",
    "            for day in range(ds, de):\n",
    "                files = [f'{init}{year}{month:02}{day:02}_{var}_{sba}_{comp}.{ext}' \n",
    "                         for ext in filetype]\n",
    "                \n",
    "                yield from [url.format(filetype='netcdf', subarea=sba, year=year, filename=f) \n",
    "                            if f.endswith('.nc') else \n",
    "                            url.format(filetype='images', subarea=sba, year=year, filename=f)\n",
    "                            for f in files]\n",
    "                            \n",
    "        if comp == 'month':\n",
    "            files = [f'{init}{year}{month:02}_{var}_{sba}_{comp}.{ext}'\n",
    "                     for ext in filetype]\n",
    "            \n",
    "            yield from [url.format(filetype='netcdf', subarea=sba, year=year, filename=f) \n",
    "                        if f.endswith('.nc') else \n",
    "                        url.format(filetype='images', subarea=sba, year=year, filename=f)\n",
    "                        for f in files]"
   ]
  },
  {
   "cell_type": "code",
   "execution_count": 67,
   "metadata": {
    "slideshow": {
     "slide_type": "slide"
    }
   },
   "outputs": [],
   "source": [
    "# Function to download the data\n",
    "def get_file(query_url:str):\n",
    "    getfile =  \"results/\"+os.path.basename(query_url)\n",
    "    with requests.get(query) as r:\n",
    "        if r.status_code != 200:\n",
    "            print(f'{os.path.basename(query_url)}: FileNotFound')\n",
    "            return\n",
    "        total = int(r.headers.get('content-length'))                \n",
    "        print('File: {} '.format(getfile), end='')\n",
    "        with tqdm(total=total) as bar, open(getfile, \"wb\") as handle:\n",
    "            for chunk in r.iter_content(chunk_size=max(int(total / 1000), 1024 * 1024)):\n",
    "                # download progress check tqdm\n",
    "                if chunk: \n",
    "                    handle.write(chunk)\n",
    "                    time.sleep(0.1)\n",
    "                    bar.update(len(chunk))"
   ]
  },
  {
   "cell_type": "code",
   "execution_count": null,
   "metadata": {
    "slideshow": {
     "slide_type": "slide"
    }
   },
   "outputs": [
    {
     "name": "stdout",
     "output_type": "stream",
     "text": [
      "2017...\n",
      "GS201701_CHL_NW_month.nc: FileNotFound\n",
      "GS201701_CHL_NW_month.png: FileNotFound\n",
      "GS201702_CHL_NW_month.nc: FileNotFound\n",
      "GS201702_CHL_NW_month.png: FileNotFound\n",
      "GS201703_CHL_NW_month.nc: FileNotFound\n",
      "GS201703_CHL_NW_month.png: FileNotFound\n",
      "GS201704_CHL_NW_month.nc: FileNotFound\n",
      "GS201704_CHL_NW_month.png: FileNotFound\n",
      "GS201705_CHL_NW_month.nc: FileNotFound\n",
      "GS201705_CHL_NW_month.png: FileNotFound\n",
      "GS201706_CHL_NW_month.nc: FileNotFound\n",
      "GS201706_CHL_NW_month.png: FileNotFound\n",
      "GS201707_CHL_NW_month.nc: FileNotFound\n",
      "GS201707_CHL_NW_month.png: FileNotFound\n",
      "GS201708_CHL_NW_month.nc: FileNotFound\n",
      "GS201708_CHL_NW_month.png: FileNotFound\n",
      "GS201709_CHL_NW_month.nc: FileNotFound\n",
      "GS201709_CHL_NW_month.png: FileNotFound\n",
      "GS201710_CHL_NW_month.nc: FileNotFound\n",
      "GS201710_CHL_NW_month.png: FileNotFound\n",
      "GS201711_CHL_NW_month.nc: FileNotFound\n",
      "GS201711_CHL_NW_month.png: FileNotFound\n",
      "GS201712_CHL_NW_month.nc: FileNotFound\n",
      "GS201712_CHL_NW_month.png: FileNotFound\n",
      "2018...\n",
      "File: results/GS201801_CHL_NW_month.nc "
     ]
    },
    {
     "name": "stderr",
     "output_type": "stream",
     "text": [
      "100%|█████████████████████████████████████| 114211522/114211522 [00:11<00:00, 10129281.79it/s]\n"
     ]
    },
    {
     "name": "stdout",
     "output_type": "stream",
     "text": [
      "File: results/GS201801_CHL_NW_month.png "
     ]
    },
    {
     "name": "stderr",
     "output_type": "stream",
     "text": [
      "100%|██████████████████████████████████████████| 8992797/8992797 [00:00<00:00, 9797670.81it/s]\n"
     ]
    },
    {
     "name": "stdout",
     "output_type": "stream",
     "text": [
      "File: results/GS201802_CHL_NW_month.nc "
     ]
    },
    {
     "name": "stderr",
     "output_type": "stream",
     "text": [
      "100%|█████████████████████████████████████| 119987578/119987578 [00:11<00:00, 10093989.22it/s]\n"
     ]
    },
    {
     "name": "stdout",
     "output_type": "stream",
     "text": [
      "File: results/GS201802_CHL_NW_month.png "
     ]
    },
    {
     "name": "stderr",
     "output_type": "stream",
     "text": [
      "100%|██████████████████████████████████████████| 8389817/8389817 [00:00<00:00, 8898960.18it/s]\n"
     ]
    },
    {
     "name": "stdout",
     "output_type": "stream",
     "text": [
      "File: results/GS201803_CHL_NW_month.nc "
     ]
    },
    {
     "name": "stderr",
     "output_type": "stream",
     "text": [
      "100%|█████████████████████████████████████| 126412334/126412334 [00:12<00:00, 10196103.89it/s]\n"
     ]
    },
    {
     "name": "stdout",
     "output_type": "stream",
     "text": [
      "File: results/GS201803_CHL_NW_month.png "
     ]
    },
    {
     "name": "stderr",
     "output_type": "stream",
     "text": [
      "100%|██████████████████████████████████████████| 7471895/7471895 [00:00<00:00, 8933210.31it/s]\n"
     ]
    },
    {
     "name": "stdout",
     "output_type": "stream",
     "text": [
      "File: results/GS201804_CHL_NW_month.nc "
     ]
    },
    {
     "name": "stderr",
     "output_type": "stream",
     "text": [
      "100%|█████████████████████████████████████| 127033195/127033195 [00:12<00:00, 10119078.10it/s]\n"
     ]
    },
    {
     "name": "stdout",
     "output_type": "stream",
     "text": [
      "File: results/GS201804_CHL_NW_month.png "
     ]
    },
    {
     "name": "stderr",
     "output_type": "stream",
     "text": [
      "100%|██████████████████████████████████████████| 7665805/7665805 [00:00<00:00, 9345434.94it/s]\n"
     ]
    },
    {
     "name": "stdout",
     "output_type": "stream",
     "text": [
      "File: results/GS201805_CHL_NW_month.nc "
     ]
    },
    {
     "name": "stderr",
     "output_type": "stream",
     "text": [
      "100%|█████████████████████████████████████| 116223718/116223718 [00:11<00:00, 10191397.92it/s]\n"
     ]
    },
    {
     "name": "stdout",
     "output_type": "stream",
     "text": [
      "File: results/GS201805_CHL_NW_month.png "
     ]
    },
    {
     "name": "stderr",
     "output_type": "stream",
     "text": [
      "100%|██████████████████████████████████████████| 6551689/6551689 [00:00<00:00, 8959670.52it/s]\n"
     ]
    },
    {
     "name": "stdout",
     "output_type": "stream",
     "text": [
      "File: results/GS201806_CHL_NW_month.nc "
     ]
    },
    {
     "name": "stderr",
     "output_type": "stream",
     "text": [
      "100%|█████████████████████████████████████| 114697704/114697704 [00:11<00:00, 10032813.49it/s]\n"
     ]
    },
    {
     "name": "stdout",
     "output_type": "stream",
     "text": [
      "File: results/GS201806_CHL_NW_month.png "
     ]
    },
    {
     "name": "stderr",
     "output_type": "stream",
     "text": [
      "100%|██████████████████████████████████████████| 8240002/8240002 [00:00<00:00, 9740213.62it/s]\n"
     ]
    },
    {
     "name": "stdout",
     "output_type": "stream",
     "text": [
      "File: results/GS201807_CHL_NW_month.nc "
     ]
    },
    {
     "name": "stderr",
     "output_type": "stream",
     "text": [
      "100%|█████████████████████████████████████| 125504202/125504202 [00:12<00:00, 10198203.81it/s]\n"
     ]
    },
    {
     "name": "stdout",
     "output_type": "stream",
     "text": [
      "File: results/GS201807_CHL_NW_month.png "
     ]
    },
    {
     "name": "stderr",
     "output_type": "stream",
     "text": [
      "100%|█████████████████████████████████████████| 8331923/8331923 [00:00<00:00, 10119502.17it/s]\n"
     ]
    },
    {
     "name": "stdout",
     "output_type": "stream",
     "text": [
      "File: results/GS201808_CHL_NW_month.nc "
     ]
    },
    {
     "name": "stderr",
     "output_type": "stream",
     "text": [
      "100%|█████████████████████████████████████| 125066666/125066666 [00:12<00:00, 10083351.71it/s]\n"
     ]
    },
    {
     "name": "stdout",
     "output_type": "stream",
     "text": [
      "File: results/GS201808_CHL_NW_month.png "
     ]
    },
    {
     "name": "stderr",
     "output_type": "stream",
     "text": [
      "100%|██████████████████████████████████████████| 6924430/6924430 [00:00<00:00, 9511076.04it/s]\n"
     ]
    },
    {
     "name": "stdout",
     "output_type": "stream",
     "text": [
      "File: results/GS201809_CHL_NW_month.nc "
     ]
    },
    {
     "name": "stderr",
     "output_type": "stream",
     "text": [
      "100%|█████████████████████████████████████| 126578835/126578835 [00:12<00:00, 10155152.90it/s]\n"
     ]
    },
    {
     "name": "stdout",
     "output_type": "stream",
     "text": [
      "File: results/GS201809_CHL_NW_month.png "
     ]
    },
    {
     "name": "stderr",
     "output_type": "stream",
     "text": [
      "100%|██████████████████████████████████████████| 7026368/7026368 [00:00<00:00, 9866130.38it/s]\n"
     ]
    },
    {
     "name": "stdout",
     "output_type": "stream",
     "text": [
      "File: results/GS201810_CHL_NW_month.nc "
     ]
    },
    {
     "name": "stderr",
     "output_type": "stream",
     "text": [
      "100%|█████████████████████████████████████| 129462088/129462088 [00:12<00:00, 10146982.21it/s]\n"
     ]
    },
    {
     "name": "stdout",
     "output_type": "stream",
     "text": [
      "File: results/GS201810_CHL_NW_month.png "
     ]
    },
    {
     "name": "stderr",
     "output_type": "stream",
     "text": [
      "100%|██████████████████████████████████████████| 6744465/6744465 [00:00<00:00, 9419874.92it/s]\n"
     ]
    },
    {
     "name": "stdout",
     "output_type": "stream",
     "text": [
      "File: results/GS201811_CHL_NW_month.nc "
     ]
    },
    {
     "name": "stderr",
     "output_type": "stream",
     "text": [
      "100%|█████████████████████████████████████| 130475159/130475159 [00:12<00:00, 10153133.07it/s]\n"
     ]
    },
    {
     "name": "stdout",
     "output_type": "stream",
     "text": [
      "File: results/GS201811_CHL_NW_month.png "
     ]
    },
    {
     "name": "stderr",
     "output_type": "stream",
     "text": [
      "100%|██████████████████████████████████████████| 8513614/8513614 [00:00<00:00, 9158017.46it/s]\n"
     ]
    },
    {
     "name": "stdout",
     "output_type": "stream",
     "text": [
      "File: results/GS201812_CHL_NW_month.nc "
     ]
    },
    {
     "name": "stderr",
     "output_type": "stream",
     "text": [
      "100%|█████████████████████████████████████| 109443643/109443643 [00:10<00:00, 10159344.42it/s]\n"
     ]
    },
    {
     "name": "stdout",
     "output_type": "stream",
     "text": [
      "File: results/GS201812_CHL_NW_month.png "
     ]
    },
    {
     "name": "stderr",
     "output_type": "stream",
     "text": [
      "100%|██████████████████████████████████████████| 9468614/9468614 [00:01<00:00, 9254369.04it/s]\n"
     ]
    },
    {
     "name": "stdout",
     "output_type": "stream",
     "text": [
      "2019...\n",
      "File: results/GS201901_CHL_NW_month.nc "
     ]
    },
    {
     "name": "stderr",
     "output_type": "stream",
     "text": [
      "100%|█████████████████████████████████████| 122748152/122748152 [00:12<00:00, 10195906.53it/s]\n"
     ]
    },
    {
     "name": "stdout",
     "output_type": "stream",
     "text": [
      "File: results/GS201901_CHL_NW_month.png "
     ]
    },
    {
     "name": "stderr",
     "output_type": "stream",
     "text": [
      "100%|██████████████████████████████████████████| 9655654/9655654 [00:01<00:00, 9467810.37it/s]\n"
     ]
    },
    {
     "name": "stdout",
     "output_type": "stream",
     "text": [
      "File: results/GS201902_CHL_NW_month.nc "
     ]
    },
    {
     "name": "stderr",
     "output_type": "stream",
     "text": [
      "100%|█████████████████████████████████████| 119921701/119921701 [00:11<00:00, 10060987.23it/s]\n"
     ]
    },
    {
     "name": "stdout",
     "output_type": "stream",
     "text": [
      "File: results/GS201902_CHL_NW_month.png "
     ]
    },
    {
     "name": "stderr",
     "output_type": "stream",
     "text": [
      "100%|██████████████████████████████████████████| 7859694/7859694 [00:00<00:00, 9519525.65it/s]\n"
     ]
    },
    {
     "name": "stdout",
     "output_type": "stream",
     "text": [
      "File: results/GS201903_CHL_NW_month.nc "
     ]
    },
    {
     "name": "stderr",
     "output_type": "stream",
     "text": [
      "100%|█████████████████████████████████████| 127869083/127869083 [00:12<00:00, 10167512.51it/s]\n"
     ]
    },
    {
     "name": "stdout",
     "output_type": "stream",
     "text": [
      "File: results/GS201903_CHL_NW_month.png "
     ]
    },
    {
     "name": "stderr",
     "output_type": "stream",
     "text": [
      "100%|█████████████████████████████████████████| 7339330/7339330 [00:00<00:00, 10118979.01it/s]\n"
     ]
    },
    {
     "name": "stdout",
     "output_type": "stream",
     "text": [
      "File: results/GS201904_CHL_NW_month.nc "
     ]
    },
    {
     "name": "stderr",
     "output_type": "stream",
     "text": [
      "100%|█████████████████████████████████████| 128764660/128764660 [00:12<00:00, 10164858.21it/s]\n"
     ]
    },
    {
     "name": "stdout",
     "output_type": "stream",
     "text": [
      "File: results/GS201904_CHL_NW_month.png "
     ]
    },
    {
     "name": "stderr",
     "output_type": "stream",
     "text": [
      "100%|██████████████████████████████████████████| 7814800/7814800 [00:00<00:00, 9408757.75it/s]\n"
     ]
    },
    {
     "name": "stdout",
     "output_type": "stream",
     "text": [
      "File: results/GS201905_CHL_NW_month.nc "
     ]
    },
    {
     "name": "stderr",
     "output_type": "stream",
     "text": [
      "100%|█████████████████████████████████████| 128561837/128561837 [00:12<00:00, 10153459.84it/s]\n"
     ]
    },
    {
     "name": "stdout",
     "output_type": "stream",
     "text": [
      "File: results/GS201905_CHL_NW_month.png "
     ]
    },
    {
     "name": "stderr",
     "output_type": "stream",
     "text": [
      "100%|█████████████████████████████████████████| 7272640/7272640 [00:00<00:00, 10185301.15it/s]\n"
     ]
    },
    {
     "name": "stdout",
     "output_type": "stream",
     "text": [
      "File: results/GS201906_CHL_NW_month.nc "
     ]
    },
    {
     "name": "stderr",
     "output_type": "stream",
     "text": [
      "100%|█████████████████████████████████████| 114242233/114242233 [00:11<00:00, 10189554.31it/s]\n"
     ]
    },
    {
     "name": "stdout",
     "output_type": "stream",
     "text": [
      "File: results/GS201906_CHL_NW_month.png "
     ]
    },
    {
     "name": "stderr",
     "output_type": "stream",
     "text": [
      "100%|███████████████████████████████████████████████████| 8129329/8129329 [00:00<00:00, 9973509.90it/s]\n"
     ]
    },
    {
     "name": "stdout",
     "output_type": "stream",
     "text": [
      "File: results/GS201907_CHL_NW_month.nc "
     ]
    },
    {
     "name": "stderr",
     "output_type": "stream",
     "text": [
      "100%|██████████████████████████████████████████████| 105708215/105708215 [00:10<00:00, 10237969.78it/s]\n"
     ]
    },
    {
     "name": "stdout",
     "output_type": "stream",
     "text": [
      "File: results/GS201907_CHL_NW_month.png "
     ]
    },
    {
     "name": "stderr",
     "output_type": "stream",
     "text": [
      "100%|███████████████████████████████████████████████████| 6814212/6814212 [00:00<00:00, 9598457.79it/s]\n"
     ]
    },
    {
     "name": "stdout",
     "output_type": "stream",
     "text": [
      "File: results/GS201908_CHL_NW_month.nc "
     ]
    },
    {
     "name": "stderr",
     "output_type": "stream",
     "text": [
      "100%|██████████████████████████████████████████████| 124303634/124303634 [00:12<00:00, 10294407.55it/s]\n"
     ]
    },
    {
     "name": "stdout",
     "output_type": "stream",
     "text": [
      "File: results/GS201908_CHL_NW_month.png "
     ]
    },
    {
     "name": "stderr",
     "output_type": "stream",
     "text": [
      "100%|███████████████████████████████████████████████████| 7464434/7464434 [00:00<00:00, 9139598.34it/s]\n"
     ]
    },
    {
     "name": "stdout",
     "output_type": "stream",
     "text": [
      "File: results/GS201909_CHL_NW_month.nc "
     ]
    },
    {
     "name": "stderr",
     "output_type": "stream",
     "text": [
      "100%|██████████████████████████████████████████████| 128017277/128017277 [00:12<00:00, 10085279.69it/s]\n"
     ]
    },
    {
     "name": "stdout",
     "output_type": "stream",
     "text": [
      "File: results/GS201909_CHL_NW_month.png "
     ]
    },
    {
     "name": "stderr",
     "output_type": "stream",
     "text": [
      "100%|███████████████████████████████████████████████████| 7815650/7815650 [00:00<00:00, 9495503.29it/s]\n"
     ]
    },
    {
     "name": "stdout",
     "output_type": "stream",
     "text": [
      "File: results/GS201910_CHL_NW_month.nc "
     ]
    },
    {
     "name": "stderr",
     "output_type": "stream",
     "text": [
      "100%|██████████████████████████████████████████████| 131344253/131344253 [00:12<00:00, 10127694.14it/s]\n"
     ]
    },
    {
     "name": "stdout",
     "output_type": "stream",
     "text": [
      "File: results/GS201910_CHL_NW_month.png "
     ]
    },
    {
     "name": "stderr",
     "output_type": "stream",
     "text": [
      "100%|███████████████████████████████████████████████████| 8942190/8942190 [00:00<00:00, 9675614.89it/s]\n"
     ]
    },
    {
     "name": "stdout",
     "output_type": "stream",
     "text": [
      "File: results/GS201911_CHL_NW_month.nc "
     ]
    },
    {
     "name": "stderr",
     "output_type": "stream",
     "text": [
      "100%|██████████████████████████████████████████████| 132854531/132854531 [00:13<00:00, 10186335.35it/s]\n"
     ]
    },
    {
     "name": "stdout",
     "output_type": "stream",
     "text": [
      "File: results/GS201911_CHL_NW_month.png "
     ]
    },
    {
     "name": "stderr",
     "output_type": "stream",
     "text": [
      "100%|█████████████████████████████████████████████████| 10499433/10499433 [00:01<00:00, 9249958.69it/s]\n"
     ]
    },
    {
     "name": "stdout",
     "output_type": "stream",
     "text": [
      "File: results/GS201912_CHL_NW_month.nc "
     ]
    },
    {
     "name": "stderr",
     "output_type": "stream",
     "text": [
      "100%|██████████████████████████████████████████████| 126199566/126199566 [00:12<00:00, 10113320.74it/s]\n"
     ]
    },
    {
     "name": "stdout",
     "output_type": "stream",
     "text": [
      "File: results/GS201912_CHL_NW_month.png "
     ]
    },
    {
     "name": "stderr",
     "output_type": "stream",
     "text": [
      "100%|████████████████████████████████████████████████| 11445542/11445542 [00:01<00:00, 10171127.15it/s]\n"
     ]
    },
    {
     "name": "stdout",
     "output_type": "stream",
     "text": [
      "2020...\n",
      "File: results/GS202001_CHL_NW_month.nc "
     ]
    },
    {
     "name": "stderr",
     "output_type": "stream",
     "text": [
      "100%|██████████████████████████████████████████████| 116317030/116317030 [00:11<00:00, 10106473.03it/s]\n"
     ]
    },
    {
     "name": "stdout",
     "output_type": "stream",
     "text": [
      "File: results/GS202001_CHL_NW_month.png "
     ]
    },
    {
     "name": "stderr",
     "output_type": "stream",
     "text": [
      "100%|█████████████████████████████████████████████████| 11239327/11239327 [00:01<00:00, 9888440.85it/s]\n"
     ]
    },
    {
     "name": "stdout",
     "output_type": "stream",
     "text": [
      "File: results/GS202002_CHL_NW_month.nc "
     ]
    },
    {
     "name": "stderr",
     "output_type": "stream",
     "text": [
      "100%|██████████████████████████████████████████████| 125979641/125979641 [00:12<00:00, 10144291.14it/s]\n"
     ]
    },
    {
     "name": "stdout",
     "output_type": "stream",
     "text": [
      "File: results/GS202002_CHL_NW_month.png "
     ]
    },
    {
     "name": "stderr",
     "output_type": "stream",
     "text": [
      "100%|█████████████████████████████████████████████████| 10592197/10592197 [00:01<00:00, 9326460.75it/s]\n"
     ]
    },
    {
     "name": "stdout",
     "output_type": "stream",
     "text": [
      "File: results/GS202003_CHL_NW_month.nc "
     ]
    },
    {
     "name": "stderr",
     "output_type": "stream",
     "text": [
      "100%|██████████████████████████████████████████████| 127605484/127605484 [00:12<00:00, 10094707.29it/s]\n"
     ]
    },
    {
     "name": "stdout",
     "output_type": "stream",
     "text": [
      "File: results/GS202003_CHL_NW_month.png "
     ]
    },
    {
     "name": "stderr",
     "output_type": "stream",
     "text": [
      "100%|███████████████████████████████████████████████████| 6793737/6793737 [00:00<00:00, 9505940.68it/s]\n"
     ]
    },
    {
     "name": "stdout",
     "output_type": "stream",
     "text": [
      "File: results/GS202004_CHL_NW_month.nc "
     ]
    },
    {
     "name": "stderr",
     "output_type": "stream",
     "text": [
      "100%|██████████████████████████████████████████████| 126391807/126391807 [00:12<00:00, 10094506.01it/s]\n"
     ]
    },
    {
     "name": "stdout",
     "output_type": "stream",
     "text": [
      "File: results/GS202004_CHL_NW_month.png "
     ]
    },
    {
     "name": "stderr",
     "output_type": "stream",
     "text": [
      "100%|███████████████████████████████████████████████████| 9981909/9981909 [00:01<00:00, 9795605.14it/s]\n"
     ]
    },
    {
     "name": "stdout",
     "output_type": "stream",
     "text": [
      "File: results/GS202005_CHL_NW_month.nc "
     ]
    },
    {
     "name": "stderr",
     "output_type": "stream",
     "text": [
      "100%|██████████████████████████████████████████████| 115630884/115630884 [00:11<00:00, 10265162.69it/s]\n"
     ]
    },
    {
     "name": "stdout",
     "output_type": "stream",
     "text": [
      "File: results/GS202005_CHL_NW_month.png "
     ]
    },
    {
     "name": "stderr",
     "output_type": "stream",
     "text": [
      "100%|██████████████████████████████████████████████████| 8143710/8143710 [00:00<00:00, 10027706.29it/s]\n"
     ]
    },
    {
     "name": "stdout",
     "output_type": "stream",
     "text": [
      "File: results/GS202006_CHL_NW_month.nc "
     ]
    },
    {
     "name": "stderr",
     "output_type": "stream",
     "text": [
      "100%|████████████████████████████████████████████████| 97283780/97283780 [00:09<00:00, 10302754.22it/s]\n"
     ]
    },
    {
     "name": "stdout",
     "output_type": "stream",
     "text": [
      "File: results/GS202006_CHL_NW_month.png "
     ]
    },
    {
     "name": "stderr",
     "output_type": "stream",
     "text": [
      "100%|███████████████████████████████████████████████████| 6629896/6629896 [00:00<00:00, 9322722.93it/s]\n"
     ]
    },
    {
     "name": "stdout",
     "output_type": "stream",
     "text": [
      "File: results/GS202007_CHL_NW_month.nc "
     ]
    },
    {
     "name": "stderr",
     "output_type": "stream",
     "text": [
      "100%|██████████████████████████████████████████████| 117769853/117769853 [00:11<00:00, 10233095.16it/s]\n"
     ]
    },
    {
     "name": "stdout",
     "output_type": "stream",
     "text": [
      "File: results/GS202007_CHL_NW_month.png "
     ]
    },
    {
     "name": "stderr",
     "output_type": "stream",
     "text": [
      "100%|███████████████████████████████████████████████████| 7529729/7529729 [00:00<00:00, 9272866.10it/s]\n"
     ]
    },
    {
     "name": "stdout",
     "output_type": "stream",
     "text": [
      "File: results/GS202008_CHL_NW_month.nc "
     ]
    },
    {
     "name": "stderr",
     "output_type": "stream",
     "text": [
      "100%|██████████████████████████████████████████████| 130363763/130363763 [00:12<00:00, 10268688.62it/s]\n"
     ]
    },
    {
     "name": "stdout",
     "output_type": "stream",
     "text": [
      "File: results/GS202008_CHL_NW_month.png "
     ]
    },
    {
     "name": "stderr",
     "output_type": "stream",
     "text": [
      "100%|██████████████████████████████████████████████████| 7193275/7193275 [00:00<00:00, 10125704.53it/s]\n"
     ]
    },
    {
     "name": "stdout",
     "output_type": "stream",
     "text": [
      "File: results/GS202009_CHL_NW_month.nc "
     ]
    },
    {
     "name": "stderr",
     "output_type": "stream",
     "text": [
      "100%|██████████████████████████████████████████████| 132056309/132056309 [00:12<00:00, 10325787.07it/s]\n"
     ]
    },
    {
     "name": "stdout",
     "output_type": "stream",
     "text": [
      "File: results/GS202009_CHL_NW_month.png "
     ]
    },
    {
     "name": "stderr",
     "output_type": "stream",
     "text": [
      "100%|███████████████████████████████████████████████████| 7868434/7868434 [00:00<00:00, 9695746.28it/s]\n"
     ]
    },
    {
     "name": "stdout",
     "output_type": "stream",
     "text": [
      "File: results/GS202010_CHL_NW_month.nc "
     ]
    },
    {
     "name": "stderr",
     "output_type": "stream",
     "text": [
      "100%|██████████████████████████████████████████████| 132075633/132075633 [00:13<00:00, 10138696.45it/s]\n"
     ]
    },
    {
     "name": "stdout",
     "output_type": "stream",
     "text": [
      "File: results/GS202010_CHL_NW_month.png "
     ]
    },
    {
     "name": "stderr",
     "output_type": "stream",
     "text": [
      "100%|██████████████████████████████████████████████████| 7332770/7332770 [00:00<00:00, 10175136.62it/s]\n"
     ]
    },
    {
     "name": "stdout",
     "output_type": "stream",
     "text": [
      "File: results/GS202011_CHL_NW_month.nc "
     ]
    },
    {
     "name": "stderr",
     "output_type": "stream",
     "text": [
      "100%|██████████████████████████████████████████████| 131595824/131595824 [00:13<00:00, 10110154.05it/s]\n"
     ]
    },
    {
     "name": "stdout",
     "output_type": "stream",
     "text": [
      "File: results/GS202011_CHL_NW_month.png "
     ]
    },
    {
     "name": "stderr",
     "output_type": "stream",
     "text": [
      "100%|███████████████████████████████████████████████████| 7911011/7911011 [00:00<00:00, 9672785.57it/s]\n"
     ]
    },
    {
     "name": "stdout",
     "output_type": "stream",
     "text": [
      "File: results/GS202012_CHL_NW_month.nc "
     ]
    },
    {
     "name": "stderr",
     "output_type": "stream",
     "text": [
      "100%|██████████████████████████████████████████████| 122922758/122922758 [00:12<00:00, 10140743.86it/s]\n"
     ]
    },
    {
     "name": "stdout",
     "output_type": "stream",
     "text": [
      "File: results/GS202012_CHL_NW_month.png "
     ]
    },
    {
     "name": "stderr",
     "output_type": "stream",
     "text": [
      "100%|███████████████████████████████████████████████████| 9111075/9111075 [00:00<00:00, 9789362.86it/s]\n"
     ]
    },
    {
     "name": "stdout",
     "output_type": "stream",
     "text": [
      "2021...\n",
      "File: results/GS202101_CHL_NW_month.nc "
     ]
    },
    {
     "name": "stderr",
     "output_type": "stream",
     "text": [
      "100%|██████████████████████████████████████████████| 121880224/121880224 [00:12<00:00, 10100009.14it/s]\n"
     ]
    },
    {
     "name": "stdout",
     "output_type": "stream",
     "text": [
      "File: results/GS202101_CHL_NW_month.png "
     ]
    },
    {
     "name": "stderr",
     "output_type": "stream",
     "text": [
      "100%|██████████████████████████████████████████████████| 8341244/8341244 [00:00<00:00, 10069474.09it/s]\n"
     ]
    },
    {
     "name": "stdout",
     "output_type": "stream",
     "text": [
      "File: results/GS202102_CHL_NW_month.nc "
     ]
    },
    {
     "name": "stderr",
     "output_type": "stream",
     "text": [
      "100%|██████████████████████████████████████████████| 125077720/125077720 [00:12<00:00, 10131868.40it/s]\n"
     ]
    },
    {
     "name": "stdout",
     "output_type": "stream",
     "text": [
      "File: results/GS202102_CHL_NW_month.png "
     ]
    },
    {
     "name": "stderr",
     "output_type": "stream",
     "text": [
      "100%|███████████████████████████████████████████████████| 7844871/7844871 [00:00<00:00, 9514601.02it/s]\n"
     ]
    },
    {
     "name": "stdout",
     "output_type": "stream",
     "text": [
      "File: results/GS202103_CHL_NW_month.nc "
     ]
    },
    {
     "name": "stderr",
     "output_type": "stream",
     "text": [
      " 96%|███████████████████████████████████████████▉  | 120586240/126140168 [00:11<00:00, 10202640.11it/s]"
     ]
    }
   ],
   "source": [
    "# Now retrieve the data from NMEW\n",
    "for year in range(ys, ye):\n",
    "    print(f'{year}...')\n",
    "    if comp in ('day', 'month'):\n",
    "        for query in daymonth_filegen():\n",
    "            # ----------------------\n",
    "            get_file(query_url=query)\n",
    "            # ----------------------\n",
    "            \n",
    "    if comp == 'year':\n",
    "        ncfile = f'{init}{year}_{var}_{sba}_{comp}.nc'\n",
    "        query = url.format(filetype='netcdf', subarea=sba, year=year, filename=ncfile)\n",
    "        # ----------------------\n",
    "        get_file(query_url=query)\n",
    "        # ----------------------\n",
    "\n",
    "        pngfile = f'{init}{year}_{var}_{sba}_{comp}.png'\n",
    "        query = url.format(filetype='images', subarea=sba, year=year, filename=pngfile)\n",
    "        # ----------------------\n",
    "        get_file(query_url=query)\n",
    "        # ----------------------\n",
    "\n",
    "print('done!')"
   ]
  },
  {
   "cell_type": "code",
   "execution_count": null,
   "metadata": {},
   "outputs": [],
   "source": []
  }
 ],
 "metadata": {
  "celltoolbar": "Slideshow",
  "kernelspec": {
   "display_name": "Python 3 (ipykernel)",
   "language": "python",
   "name": "python3"
  },
  "language_info": {
   "codemirror_mode": {
    "name": "ipython",
    "version": 3
   },
   "file_extension": ".py",
   "mimetype": "text/x-python",
   "name": "python",
   "nbconvert_exporter": "python",
   "pygments_lexer": "ipython3",
   "version": "3.11.4"
  }
 },
 "nbformat": 4,
 "nbformat_minor": 4
}
