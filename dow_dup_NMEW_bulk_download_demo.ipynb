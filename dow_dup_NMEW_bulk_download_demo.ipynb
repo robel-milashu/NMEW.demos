{
 "cells": [
  {
   "cell_type": "code",
   "execution_count": 10,
   "metadata": {
    "slideshow": {
     "slide_type": "slide"
    }
   },
   "outputs": [],
   "source": [
    "import os\n",
    "import requests\n",
    "import time \n",
    "\n",
    "from tqdm import tqdm"
   ]
  },
  {
   "cell_type": "code",
   "execution_count": 11,
   "metadata": {
    "slideshow": {
     "slide_type": "slide"
    }
   },
   "outputs": [],
   "source": [
    "# setting download parameters\n",
    "sba = 'NW' # Other subareas (Table 3)\n",
    "var = 'TSM' # variable name \n",
    "comp = 'month' # monthly composite | here can be 'day', 'month' or 'year' \n",
    "init = 'GS' # Initial character of the sensor name, MODIS-Aqua (A) and SGLI-GCOMC (GS) \n",
    "ys = 2018 # start year\n",
    "ms = 1 # start month\n",
    "ds = 1 # start day of month\n",
    "ye = 2025 # end year + 1, if end is 1997 then use yend = 1997 + 1 \n",
    "me = 13 # end month + 1, if end is 12 (Dec) then use 13, if 1 then use 2\n",
    "de = 30 # end day\n",
    "file_ext = ('nc', 'png') # file extension (type) to download, ('nc', 'png') or ('nc',) or ('png',) \n",
    "url = 'https://ocean.nowpap3.go.jp/image_search/{filetype}/{subarea}/{year}/{filename}'"
   ]
  },
  {
   "cell_type": "code",
   "execution_count": 12,
   "metadata": {
    "slideshow": {
     "slide_type": "slide"
    }
   },
   "outputs": [],
   "source": [
    "# Day month fetching file generator\n",
    "def daymonth_filegen(filetype:tuple=file_ext):\n",
    "    # Define the netCDF (PNG) file name\n",
    "    for month in range(ms, me):\n",
    "        if comp == 'day':\n",
    "            for day in range(ds, de):\n",
    "                files = [f'{init}{year}{month:02}{day:02}_{var}_{sba}_{comp}.{ext}' \n",
    "                         for ext in filetype]\n",
    "                \n",
    "                yield from [url.format(filetype='netcdf', subarea=sba, year=year, filename=f) \n",
    "                            if f.endswith('.nc') else \n",
    "                            url.format(filetype='images', subarea=sba, year=year, filename=f)\n",
    "                            for f in files]\n",
    "                            \n",
    "        if comp == 'month':\n",
    "            files = [f'{init}{year}{month:02}_{var}_{sba}_{comp}.{ext}'\n",
    "                     for ext in filetype]\n",
    "            \n",
    "            yield from [url.format(filetype='netcdf', subarea=sba, year=year, filename=f) \n",
    "                        if f.endswith('.nc') else \n",
    "                        url.format(filetype='images', subarea=sba, year=year, filename=f)\n",
    "                        for f in files]"
   ]
  },
  {
   "cell_type": "code",
   "execution_count": 15,
   "metadata": {
    "slideshow": {
     "slide_type": "slide"
    }
   },
   "outputs": [],
   "source": [
    "# Function to download the data\n",
    "def get_file(query_url:str):\n",
    "    getfile =  \"results/gcomc/tsm/\"+os.path.basename(query_url)\n",
    "    with requests.get(query) as r:\n",
    "        if r.status_code != 200:\n",
    "            print(f'{os.path.basename(query_url)}: FileNotFound')\n",
    "            return\n",
    "        total = int(r.headers.get('content-length'))                \n",
    "        print('File: {} '.format(getfile), end='')\n",
    "        with tqdm(total=total) as bar, open(getfile, \"wb\") as handle:\n",
    "            for chunk in r.iter_content(chunk_size=max(int(total / 1000), 1024 * 1024)):\n",
    "                # download progress check tqdm\n",
    "                if chunk: \n",
    "                    handle.write(chunk)\n",
    "                    time.sleep(0.1)\n",
    "                    bar.update(len(chunk))"
   ]
  },
  {
   "cell_type": "code",
   "execution_count": 16,
   "metadata": {
    "slideshow": {
     "slide_type": "slide"
    }
   },
   "outputs": [
    {
     "name": "stdout",
     "output_type": "stream",
     "text": [
      "2018...\n",
      "File: results/gcomc/tsm/GS201801_TSM_NW_month.nc "
     ]
    },
    {
     "name": "stderr",
     "output_type": "stream",
     "text": [
      "100%|█| 113616397/113616397 [00:11<00:00, 1023\n"
     ]
    },
    {
     "name": "stdout",
     "output_type": "stream",
     "text": [
      "File: results/gcomc/tsm/GS201801_TSM_NW_month.png "
     ]
    },
    {
     "name": "stderr",
     "output_type": "stream",
     "text": [
      "100%|█| 4169737/4169737 [00:00<00:00, 10257057\n"
     ]
    },
    {
     "name": "stdout",
     "output_type": "stream",
     "text": [
      "File: results/gcomc/tsm/GS201802_TSM_NW_month.nc "
     ]
    },
    {
     "name": "stderr",
     "output_type": "stream",
     "text": [
      "100%|█| 114763682/114763682 [00:11<00:00, 1027\n"
     ]
    },
    {
     "name": "stdout",
     "output_type": "stream",
     "text": [
      "File: results/gcomc/tsm/GS201802_TSM_NW_month.png "
     ]
    },
    {
     "name": "stderr",
     "output_type": "stream",
     "text": [
      "100%|█| 3391732/3391732 [00:00<00:00, 8333419.\n"
     ]
    },
    {
     "name": "stdout",
     "output_type": "stream",
     "text": [
      "File: results/gcomc/tsm/GS201803_TSM_NW_month.nc "
     ]
    },
    {
     "name": "stderr",
     "output_type": "stream",
     "text": [
      "100%|█| 120387581/120387581 [00:11<00:00, 1031\n"
     ]
    },
    {
     "name": "stdout",
     "output_type": "stream",
     "text": [
      "File: results/gcomc/tsm/GS201803_TSM_NW_month.png "
     ]
    },
    {
     "name": "stderr",
     "output_type": "stream",
     "text": [
      "100%|█| 3216973/3216973 [00:00<00:00, 7927197.\n"
     ]
    },
    {
     "name": "stdout",
     "output_type": "stream",
     "text": [
      "File: results/gcomc/tsm/GS201804_TSM_NW_month.nc "
     ]
    },
    {
     "name": "stderr",
     "output_type": "stream",
     "text": [
      "100%|█| 119181685/119181685 [00:11<00:00, 1030\n"
     ]
    },
    {
     "name": "stdout",
     "output_type": "stream",
     "text": [
      "File: results/gcomc/tsm/GS201804_TSM_NW_month.png "
     ]
    },
    {
     "name": "stderr",
     "output_type": "stream",
     "text": [
      "100%|█| 2469476/2469476 [00:00<00:00, 8130701.\n"
     ]
    },
    {
     "name": "stdout",
     "output_type": "stream",
     "text": [
      "File: results/gcomc/tsm/GS201805_TSM_NW_month.nc "
     ]
    },
    {
     "name": "stderr",
     "output_type": "stream",
     "text": [
      "100%|█| 107574580/107574580 [00:10<00:00, 1029\n"
     ]
    },
    {
     "name": "stdout",
     "output_type": "stream",
     "text": [
      "File: results/gcomc/tsm/GS201805_TSM_NW_month.png "
     ]
    },
    {
     "name": "stderr",
     "output_type": "stream",
     "text": [
      "100%|█| 2287207/2287207 [00:00<00:00, 7522948.\n"
     ]
    },
    {
     "name": "stdout",
     "output_type": "stream",
     "text": [
      "File: results/gcomc/tsm/GS201806_TSM_NW_month.nc "
     ]
    },
    {
     "name": "stderr",
     "output_type": "stream",
     "text": [
      "100%|█| 108747079/108747079 [00:10<00:00, 1031\n"
     ]
    },
    {
     "name": "stdout",
     "output_type": "stream",
     "text": [
      "File: results/gcomc/tsm/GS201806_TSM_NW_month.png "
     ]
    },
    {
     "name": "stderr",
     "output_type": "stream",
     "text": [
      "100%|█| 2724256/2724256 [00:00<00:00, 8945704.\n"
     ]
    },
    {
     "name": "stdout",
     "output_type": "stream",
     "text": [
      "File: results/gcomc/tsm/GS201807_TSM_NW_month.nc "
     ]
    },
    {
     "name": "stderr",
     "output_type": "stream",
     "text": [
      "100%|█| 120688394/120688394 [00:11<00:00, 1026\n"
     ]
    },
    {
     "name": "stdout",
     "output_type": "stream",
     "text": [
      "File: results/gcomc/tsm/GS201807_TSM_NW_month.png "
     ]
    },
    {
     "name": "stderr",
     "output_type": "stream",
     "text": [
      "100%|█| 2783163/2783163 [00:00<00:00, 9167978.\n"
     ]
    },
    {
     "name": "stdout",
     "output_type": "stream",
     "text": [
      "File: results/gcomc/tsm/GS201808_TSM_NW_month.nc "
     ]
    },
    {
     "name": "stderr",
     "output_type": "stream",
     "text": [
      "100%|█| 121193745/121193745 [00:11<00:00, 1029\n"
     ]
    },
    {
     "name": "stdout",
     "output_type": "stream",
     "text": [
      "File: results/gcomc/tsm/GS201808_TSM_NW_month.png "
     ]
    },
    {
     "name": "stderr",
     "output_type": "stream",
     "text": [
      "100%|█| 2534192/2534192 [00:00<00:00, 8318422.\n"
     ]
    },
    {
     "name": "stdout",
     "output_type": "stream",
     "text": [
      "File: results/gcomc/tsm/GS201809_TSM_NW_month.nc "
     ]
    },
    {
     "name": "stderr",
     "output_type": "stream",
     "text": [
      "100%|█| 123009694/123009694 [00:12<00:00, 1019\n"
     ]
    },
    {
     "name": "stdout",
     "output_type": "stream",
     "text": [
      "File: results/gcomc/tsm/GS201809_TSM_NW_month.png "
     ]
    },
    {
     "name": "stderr",
     "output_type": "stream",
     "text": [
      "100%|█| 2864088/2864088 [00:00<00:00, 9383416.\n"
     ]
    },
    {
     "name": "stdout",
     "output_type": "stream",
     "text": [
      "File: results/gcomc/tsm/GS201810_TSM_NW_month.nc "
     ]
    },
    {
     "name": "stderr",
     "output_type": "stream",
     "text": [
      "100%|█| 125842613/125842613 [00:12<00:00, 1025\n"
     ]
    },
    {
     "name": "stdout",
     "output_type": "stream",
     "text": [
      "File: results/gcomc/tsm/GS201810_TSM_NW_month.png "
     ]
    },
    {
     "name": "stderr",
     "output_type": "stream",
     "text": [
      "100%|█| 2666531/2666531 [00:00<00:00, 8747522.\n"
     ]
    },
    {
     "name": "stdout",
     "output_type": "stream",
     "text": [
      "File: results/gcomc/tsm/GS201811_TSM_NW_month.nc "
     ]
    },
    {
     "name": "stderr",
     "output_type": "stream",
     "text": [
      "100%|█| 126915086/126915086 [00:12<00:00, 1025\n"
     ]
    },
    {
     "name": "stdout",
     "output_type": "stream",
     "text": [
      "File: results/gcomc/tsm/GS201811_TSM_NW_month.png "
     ]
    },
    {
     "name": "stderr",
     "output_type": "stream",
     "text": [
      "100%|█| 3021933/3021933 [00:00<00:00, 9929763.\n"
     ]
    },
    {
     "name": "stdout",
     "output_type": "stream",
     "text": [
      "File: results/gcomc/tsm/GS201812_TSM_NW_month.nc "
     ]
    },
    {
     "name": "stderr",
     "output_type": "stream",
     "text": [
      "100%|█| 106259205/106259205 [00:10<00:00, 1026\n"
     ]
    },
    {
     "name": "stdout",
     "output_type": "stream",
     "text": [
      "File: results/gcomc/tsm/GS201812_TSM_NW_month.png "
     ]
    },
    {
     "name": "stderr",
     "output_type": "stream",
     "text": [
      "100%|█| 3891690/3891690 [00:00<00:00, 9596350.\n"
     ]
    },
    {
     "name": "stdout",
     "output_type": "stream",
     "text": [
      "2019...\n",
      "File: results/gcomc/tsm/GS201901_TSM_NW_month.nc "
     ]
    },
    {
     "name": "stderr",
     "output_type": "stream",
     "text": [
      "100%|█| 119389385/119389385 [00:11<00:00, 1032\n"
     ]
    },
    {
     "name": "stdout",
     "output_type": "stream",
     "text": [
      "File: results/gcomc/tsm/GS201901_TSM_NW_month.png "
     ]
    },
    {
     "name": "stderr",
     "output_type": "stream",
     "text": [
      "100%|█| 3955610/3955610 [00:00<00:00, 9726902.\n"
     ]
    },
    {
     "name": "stdout",
     "output_type": "stream",
     "text": [
      "File: results/gcomc/tsm/GS201902_TSM_NW_month.nc "
     ]
    },
    {
     "name": "stderr",
     "output_type": "stream",
     "text": [
      "100%|█| 121019410/121019410 [00:11<00:00, 1028\n"
     ]
    },
    {
     "name": "stdout",
     "output_type": "stream",
     "text": [
      "File: results/gcomc/tsm/GS201902_TSM_NW_month.png "
     ]
    },
    {
     "name": "stderr",
     "output_type": "stream",
     "text": [
      "100%|█| 2403203/2403203 [00:00<00:00, 7904451.\n"
     ]
    },
    {
     "name": "stdout",
     "output_type": "stream",
     "text": [
      "File: results/gcomc/tsm/GS201903_TSM_NW_month.nc "
     ]
    },
    {
     "name": "stderr",
     "output_type": "stream",
     "text": [
      "100%|█| 128904824/128904824 [00:12<00:00, 1032\n"
     ]
    },
    {
     "name": "stdout",
     "output_type": "stream",
     "text": [
      "File: results/gcomc/tsm/GS201903_TSM_NW_month.png "
     ]
    },
    {
     "name": "stderr",
     "output_type": "stream",
     "text": [
      "100%|█| 2412594/2412594 [00:00<00:00, 7922311.\n"
     ]
    },
    {
     "name": "stdout",
     "output_type": "stream",
     "text": [
      "File: results/gcomc/tsm/GS201904_TSM_NW_month.nc "
     ]
    },
    {
     "name": "stderr",
     "output_type": "stream",
     "text": [
      "100%|█| 128882358/128882358 [00:12<00:00, 1032\n"
     ]
    },
    {
     "name": "stdout",
     "output_type": "stream",
     "text": [
      "File: results/gcomc/tsm/GS201904_TSM_NW_month.png "
     ]
    },
    {
     "name": "stderr",
     "output_type": "stream",
     "text": [
      "100%|█| 2338451/2338451 [00:00<00:00, 7664151.\n"
     ]
    },
    {
     "name": "stdout",
     "output_type": "stream",
     "text": [
      "File: results/gcomc/tsm/GS201905_TSM_NW_month.nc "
     ]
    },
    {
     "name": "stderr",
     "output_type": "stream",
     "text": [
      "100%|█| 129034858/129034858 [00:12<00:00, 1012\n"
     ]
    },
    {
     "name": "stdout",
     "output_type": "stream",
     "text": [
      "File: results/gcomc/tsm/GS201905_TSM_NW_month.png "
     ]
    },
    {
     "name": "stderr",
     "output_type": "stream",
     "text": [
      "100%|█| 2055748/2055748 [00:00<00:00, 9911183.\n"
     ]
    },
    {
     "name": "stdout",
     "output_type": "stream",
     "text": [
      "File: results/gcomc/tsm/GS201906_TSM_NW_month.nc "
     ]
    },
    {
     "name": "stderr",
     "output_type": "stream",
     "text": [
      "100%|█| 115940048/115940048 [00:11<00:00, 1014\n"
     ]
    },
    {
     "name": "stdout",
     "output_type": "stream",
     "text": [
      "File: results/gcomc/tsm/GS201906_TSM_NW_month.png "
     ]
    },
    {
     "name": "stderr",
     "output_type": "stream",
     "text": [
      "100%|█| 2240438/2240438 [00:00<00:00, 7125541.\n"
     ]
    },
    {
     "name": "stdout",
     "output_type": "stream",
     "text": [
      "File: results/gcomc/tsm/GS201907_TSM_NW_month.nc "
     ]
    },
    {
     "name": "stderr",
     "output_type": "stream",
     "text": [
      "100%|█| 101038204/101038204 [00:09<00:00, 1013\n"
     ]
    },
    {
     "name": "stdout",
     "output_type": "stream",
     "text": [
      "File: results/gcomc/tsm/GS201907_TSM_NW_month.png "
     ]
    },
    {
     "name": "stderr",
     "output_type": "stream",
     "text": [
      "100%|█| 2662831/2662831 [00:00<00:00, 8592052.\n"
     ]
    },
    {
     "name": "stdout",
     "output_type": "stream",
     "text": [
      "File: results/gcomc/tsm/GS201908_TSM_NW_month.nc "
     ]
    },
    {
     "name": "stderr",
     "output_type": "stream",
     "text": [
      "100%|█| 120655275/120655275 [00:11<00:00, 1011\n"
     ]
    },
    {
     "name": "stdout",
     "output_type": "stream",
     "text": [
      "File: results/gcomc/tsm/GS201908_TSM_NW_month.png "
     ]
    },
    {
     "name": "stderr",
     "output_type": "stream",
     "text": [
      "100%|█| 2917493/2917493 [00:00<00:00, 9591558.\n"
     ]
    },
    {
     "name": "stdout",
     "output_type": "stream",
     "text": [
      "File: results/gcomc/tsm/GS201909_TSM_NW_month.nc "
     ]
    },
    {
     "name": "stderr",
     "output_type": "stream",
     "text": [
      "100%|█| 126010886/126010886 [00:12<00:00, 1012\n"
     ]
    },
    {
     "name": "stdout",
     "output_type": "stream",
     "text": [
      "File: results/gcomc/tsm/GS201909_TSM_NW_month.png "
     ]
    },
    {
     "name": "stderr",
     "output_type": "stream",
     "text": [
      "100%|█| 3065008/3065008 [00:00<00:00, 9714029.\n"
     ]
    },
    {
     "name": "stdout",
     "output_type": "stream",
     "text": [
      "File: results/gcomc/tsm/GS201910_TSM_NW_month.nc "
     ]
    },
    {
     "name": "stderr",
     "output_type": "stream",
     "text": [
      "100%|█| 126547953/126547953 [00:12<00:00, 1018\n"
     ]
    },
    {
     "name": "stdout",
     "output_type": "stream",
     "text": [
      "File: results/gcomc/tsm/GS201910_TSM_NW_month.png "
     ]
    },
    {
     "name": "stderr",
     "output_type": "stream",
     "text": [
      "100%|█| 2775123/2775123 [00:00<00:00, 9110020.\n"
     ]
    },
    {
     "name": "stdout",
     "output_type": "stream",
     "text": [
      "File: results/gcomc/tsm/GS201911_TSM_NW_month.nc "
     ]
    },
    {
     "name": "stderr",
     "output_type": "stream",
     "text": [
      "100%|█| 127558466/127558466 [00:12<00:00, 1019\n"
     ]
    },
    {
     "name": "stdout",
     "output_type": "stream",
     "text": [
      "File: results/gcomc/tsm/GS201911_TSM_NW_month.png "
     ]
    },
    {
     "name": "stderr",
     "output_type": "stream",
     "text": [
      "100%|█| 3060514/3060514 [00:00<00:00, 9996632.\n"
     ]
    },
    {
     "name": "stdout",
     "output_type": "stream",
     "text": [
      "File: results/gcomc/tsm/GS201912_TSM_NW_month.nc "
     ]
    },
    {
     "name": "stderr",
     "output_type": "stream",
     "text": [
      "100%|█| 121914291/121914291 [00:11<00:00, 1019\n"
     ]
    },
    {
     "name": "stdout",
     "output_type": "stream",
     "text": [
      "File: results/gcomc/tsm/GS201912_TSM_NW_month.png "
     ]
    },
    {
     "name": "stderr",
     "output_type": "stream",
     "text": [
      "100%|█| 4079753/4079753 [00:00<00:00, 10015899\n"
     ]
    },
    {
     "name": "stdout",
     "output_type": "stream",
     "text": [
      "2020...\n",
      "File: results/gcomc/tsm/GS202001_TSM_NW_month.nc "
     ]
    },
    {
     "name": "stderr",
     "output_type": "stream",
     "text": [
      "100%|█| 112188224/112188224 [00:10<00:00, 1033\n"
     ]
    },
    {
     "name": "stdout",
     "output_type": "stream",
     "text": [
      "File: results/gcomc/tsm/GS202001_TSM_NW_month.png "
     ]
    },
    {
     "name": "stderr",
     "output_type": "stream",
     "text": [
      "100%|█| 4237178/4237178 [00:00<00:00, 8370989.\n"
     ]
    },
    {
     "name": "stdout",
     "output_type": "stream",
     "text": [
      "File: results/gcomc/tsm/GS202002_TSM_NW_month.nc "
     ]
    },
    {
     "name": "stderr",
     "output_type": "stream",
     "text": [
      "100%|█| 121377559/121377559 [00:11<00:00, 1031\n"
     ]
    },
    {
     "name": "stdout",
     "output_type": "stream",
     "text": [
      "File: results/gcomc/tsm/GS202002_TSM_NW_month.png "
     ]
    },
    {
     "name": "stderr",
     "output_type": "stream",
     "text": [
      "100%|█| 4116262/4116262 [00:00<00:00, 10149545\n"
     ]
    },
    {
     "name": "stdout",
     "output_type": "stream",
     "text": [
      "File: results/gcomc/tsm/GS202003_TSM_NW_month.nc "
     ]
    },
    {
     "name": "stderr",
     "output_type": "stream",
     "text": [
      "100%|█| 130007935/130007935 [00:12<00:00, 1033\n"
     ]
    },
    {
     "name": "stdout",
     "output_type": "stream",
     "text": [
      "File: results/gcomc/tsm/GS202003_TSM_NW_month.png "
     ]
    },
    {
     "name": "stderr",
     "output_type": "stream",
     "text": [
      "100%|█| 2048629/2048629 [00:00<00:00, 10091065\n"
     ]
    },
    {
     "name": "stdout",
     "output_type": "stream",
     "text": [
      "File: results/gcomc/tsm/GS202004_TSM_NW_month.nc "
     ]
    },
    {
     "name": "stderr",
     "output_type": "stream",
     "text": [
      "100%|█| 121407237/121407237 [00:11<00:00, 1032\n"
     ]
    },
    {
     "name": "stdout",
     "output_type": "stream",
     "text": [
      "File: results/gcomc/tsm/GS202004_TSM_NW_month.png "
     ]
    },
    {
     "name": "stderr",
     "output_type": "stream",
     "text": [
      "100%|█| 3670951/3670951 [00:00<00:00, 9048868.\n"
     ]
    },
    {
     "name": "stdout",
     "output_type": "stream",
     "text": [
      "File: results/gcomc/tsm/GS202005_TSM_NW_month.nc "
     ]
    },
    {
     "name": "stderr",
     "output_type": "stream",
     "text": [
      "100%|█| 111455501/111455501 [00:10<00:00, 1026\n"
     ]
    },
    {
     "name": "stdout",
     "output_type": "stream",
     "text": [
      "File: results/gcomc/tsm/GS202005_TSM_NW_month.png "
     ]
    },
    {
     "name": "stderr",
     "output_type": "stream",
     "text": [
      "100%|█| 3099218/3099218 [00:00<00:00, 10172102\n"
     ]
    },
    {
     "name": "stdout",
     "output_type": "stream",
     "text": [
      "File: results/gcomc/tsm/GS202006_TSM_NW_month.nc "
     ]
    },
    {
     "name": "stderr",
     "output_type": "stream",
     "text": [
      "100%|█| 93805772/93805772 [00:09<00:00, 102777\n"
     ]
    },
    {
     "name": "stdout",
     "output_type": "stream",
     "text": [
      "File: results/gcomc/tsm/GS202006_TSM_NW_month.png "
     ]
    },
    {
     "name": "stderr",
     "output_type": "stream",
     "text": [
      "100%|█| 2651195/2651195 [00:00<00:00, 8716212.\n"
     ]
    },
    {
     "name": "stdout",
     "output_type": "stream",
     "text": [
      "File: results/gcomc/tsm/GS202007_TSM_NW_month.nc "
     ]
    },
    {
     "name": "stderr",
     "output_type": "stream",
     "text": [
      "100%|█| 120418687/120418687 [00:11<00:00, 1032\n"
     ]
    },
    {
     "name": "stdout",
     "output_type": "stream",
     "text": [
      "File: results/gcomc/tsm/GS202007_TSM_NW_month.png "
     ]
    },
    {
     "name": "stderr",
     "output_type": "stream",
     "text": [
      "100%|█| 2143807/2143807 [00:00<00:00, 6995913.\n"
     ]
    },
    {
     "name": "stdout",
     "output_type": "stream",
     "text": [
      "File: results/gcomc/tsm/GS202008_TSM_NW_month.nc "
     ]
    },
    {
     "name": "stderr",
     "output_type": "stream",
     "text": [
      "100%|█| 132785939/132785939 [00:12<00:00, 1030\n"
     ]
    },
    {
     "name": "stdout",
     "output_type": "stream",
     "text": [
      "File: results/gcomc/tsm/GS202008_TSM_NW_month.png "
     ]
    },
    {
     "name": "stderr",
     "output_type": "stream",
     "text": [
      "100%|█| 2013140/2013140 [00:00<00:00, 9891257.\n"
     ]
    },
    {
     "name": "stdout",
     "output_type": "stream",
     "text": [
      "File: results/gcomc/tsm/GS202009_TSM_NW_month.nc "
     ]
    },
    {
     "name": "stderr",
     "output_type": "stream",
     "text": [
      "100%|█| 133661141/133661141 [00:13<00:00, 1020\n"
     ]
    },
    {
     "name": "stdout",
     "output_type": "stream",
     "text": [
      "File: results/gcomc/tsm/GS202009_TSM_NW_month.png "
     ]
    },
    {
     "name": "stderr",
     "output_type": "stream",
     "text": [
      "100%|█| 2041179/2041179 [00:00<00:00, 9284947.\n"
     ]
    },
    {
     "name": "stdout",
     "output_type": "stream",
     "text": [
      "File: results/gcomc/tsm/GS202010_TSM_NW_month.nc "
     ]
    },
    {
     "name": "stderr",
     "output_type": "stream",
     "text": [
      "100%|█| 134141816/134141816 [00:13<00:00, 1023\n"
     ]
    },
    {
     "name": "stdout",
     "output_type": "stream",
     "text": [
      "File: results/gcomc/tsm/GS202010_TSM_NW_month.png "
     ]
    },
    {
     "name": "stderr",
     "output_type": "stream",
     "text": [
      "100%|█| 2051617/2051617 [00:00<00:00, 9949248.\n"
     ]
    },
    {
     "name": "stdout",
     "output_type": "stream",
     "text": [
      "File: results/gcomc/tsm/GS202011_TSM_NW_month.nc "
     ]
    },
    {
     "name": "stderr",
     "output_type": "stream",
     "text": [
      "100%|█| 133281291/133281291 [00:13<00:00, 1015\n"
     ]
    },
    {
     "name": "stdout",
     "output_type": "stream",
     "text": [
      "File: results/gcomc/tsm/GS202011_TSM_NW_month.png "
     ]
    },
    {
     "name": "stderr",
     "output_type": "stream",
     "text": [
      "100%|█| 2286991/2286991 [00:00<00:00, 7153137.\n"
     ]
    },
    {
     "name": "stdout",
     "output_type": "stream",
     "text": [
      "File: results/gcomc/tsm/GS202012_TSM_NW_month.nc "
     ]
    },
    {
     "name": "stderr",
     "output_type": "stream",
     "text": [
      "100%|█| 123195822/123195822 [00:12<00:00, 1012\n"
     ]
    },
    {
     "name": "stdout",
     "output_type": "stream",
     "text": [
      "File: results/gcomc/tsm/GS202012_TSM_NW_month.png "
     ]
    },
    {
     "name": "stderr",
     "output_type": "stream",
     "text": [
      "100%|█| 2840803/2840803 [00:00<00:00, 9290851.\n"
     ]
    },
    {
     "name": "stdout",
     "output_type": "stream",
     "text": [
      "2021...\n",
      "File: results/gcomc/tsm/GS202101_TSM_NW_month.nc "
     ]
    },
    {
     "name": "stderr",
     "output_type": "stream",
     "text": [
      "100%|█| 122226243/122226243 [00:12<00:00, 1012\n"
     ]
    },
    {
     "name": "stdout",
     "output_type": "stream",
     "text": [
      "File: results/gcomc/tsm/GS202101_TSM_NW_month.png "
     ]
    },
    {
     "name": "stderr",
     "output_type": "stream",
     "text": [
      "100%|█| 2441848/2441848 [00:00<00:00, 7994421.\n"
     ]
    },
    {
     "name": "stdout",
     "output_type": "stream",
     "text": [
      "File: results/gcomc/tsm/GS202102_TSM_NW_month.nc "
     ]
    },
    {
     "name": "stderr",
     "output_type": "stream",
     "text": [
      "100%|█| 126090707/126090707 [00:12<00:00, 1009\n"
     ]
    },
    {
     "name": "stdout",
     "output_type": "stream",
     "text": [
      "File: results/gcomc/tsm/GS202102_TSM_NW_month.png "
     ]
    },
    {
     "name": "stderr",
     "output_type": "stream",
     "text": [
      "100%|█| 2223864/2223864 [00:00<00:00, 7176123.\n"
     ]
    },
    {
     "name": "stdout",
     "output_type": "stream",
     "text": [
      "File: results/gcomc/tsm/GS202103_TSM_NW_month.nc "
     ]
    },
    {
     "name": "stderr",
     "output_type": "stream",
     "text": [
      "100%|█| 126861570/126861570 [00:12<00:00, 1017\n"
     ]
    },
    {
     "name": "stdout",
     "output_type": "stream",
     "text": [
      "File: results/gcomc/tsm/GS202103_TSM_NW_month.png "
     ]
    },
    {
     "name": "stderr",
     "output_type": "stream",
     "text": [
      "100%|█| 2188816/2188816 [00:00<00:00, 7027044.\n"
     ]
    },
    {
     "name": "stdout",
     "output_type": "stream",
     "text": [
      "File: results/gcomc/tsm/GS202104_TSM_NW_month.nc "
     ]
    },
    {
     "name": "stderr",
     "output_type": "stream",
     "text": [
      "100%|█| 128640126/128640126 [00:12<00:00, 1015\n"
     ]
    },
    {
     "name": "stdout",
     "output_type": "stream",
     "text": [
      "File: results/gcomc/tsm/GS202104_TSM_NW_month.png "
     ]
    },
    {
     "name": "stderr",
     "output_type": "stream",
     "text": [
      "100%|█| 2397257/2397257 [00:00<00:00, 7680815.\n"
     ]
    },
    {
     "name": "stdout",
     "output_type": "stream",
     "text": [
      "File: results/gcomc/tsm/GS202105_TSM_NW_month.nc "
     ]
    },
    {
     "name": "stderr",
     "output_type": "stream",
     "text": [
      "100%|█| 123437468/123437468 [00:12<00:00, 1020\n"
     ]
    },
    {
     "name": "stdout",
     "output_type": "stream",
     "text": [
      "File: results/gcomc/tsm/GS202105_TSM_NW_month.png "
     ]
    },
    {
     "name": "stderr",
     "output_type": "stream",
     "text": [
      "100%|█| 2354595/2354595 [00:00<00:00, 7728808.\n"
     ]
    },
    {
     "name": "stdout",
     "output_type": "stream",
     "text": [
      "File: results/gcomc/tsm/GS202106_TSM_NW_month.nc "
     ]
    },
    {
     "name": "stderr",
     "output_type": "stream",
     "text": [
      "100%|█| 120486248/120486248 [00:11<00:00, 1016\n"
     ]
    },
    {
     "name": "stdout",
     "output_type": "stream",
     "text": [
      "File: results/gcomc/tsm/GS202106_TSM_NW_month.png "
     ]
    },
    {
     "name": "stderr",
     "output_type": "stream",
     "text": [
      "100%|█| 2052601/2052601 [00:00<00:00, 9566908.\n"
     ]
    },
    {
     "name": "stdout",
     "output_type": "stream",
     "text": [
      "File: results/gcomc/tsm/GS202107_TSM_NW_month.nc "
     ]
    },
    {
     "name": "stderr",
     "output_type": "stream",
     "text": [
      "100%|█| 131319493/131319493 [00:13<00:00, 1004\n"
     ]
    },
    {
     "name": "stdout",
     "output_type": "stream",
     "text": [
      "File: results/gcomc/tsm/GS202107_TSM_NW_month.png "
     ]
    },
    {
     "name": "stderr",
     "output_type": "stream",
     "text": [
      "100%|█| 2001896/2001896 [00:00<00:00, 9147038.\n"
     ]
    },
    {
     "name": "stdout",
     "output_type": "stream",
     "text": [
      "File: results/gcomc/tsm/GS202108_TSM_NW_month.nc "
     ]
    },
    {
     "name": "stderr",
     "output_type": "stream",
     "text": [
      "100%|█| 133905183/133905183 [00:13<00:00, 1002\n"
     ]
    },
    {
     "name": "stdout",
     "output_type": "stream",
     "text": [
      "File: results/gcomc/tsm/GS202108_TSM_NW_month.png "
     ]
    },
    {
     "name": "stderr",
     "output_type": "stream",
     "text": [
      "100%|█| 2089044/2089044 [00:00<00:00, 9615362.\n"
     ]
    },
    {
     "name": "stdout",
     "output_type": "stream",
     "text": [
      "File: results/gcomc/tsm/GS202109_TSM_NW_month.nc "
     ]
    },
    {
     "name": "stderr",
     "output_type": "stream",
     "text": [
      "100%|█| 132965177/132965177 [00:13<00:00, 1012\n"
     ]
    },
    {
     "name": "stdout",
     "output_type": "stream",
     "text": [
      "File: results/gcomc/tsm/GS202109_TSM_NW_month.png "
     ]
    },
    {
     "name": "stderr",
     "output_type": "stream",
     "text": [
      "100%|█| 1944683/1944683 [00:00<00:00, 8830605.\n"
     ]
    },
    {
     "name": "stdout",
     "output_type": "stream",
     "text": [
      "File: results/gcomc/tsm/GS202110_TSM_NW_month.nc "
     ]
    },
    {
     "name": "stderr",
     "output_type": "stream",
     "text": [
      "100%|█| 133085570/133085570 [00:13<00:00, 1011\n"
     ]
    },
    {
     "name": "stdout",
     "output_type": "stream",
     "text": [
      "File: results/gcomc/tsm/GS202110_TSM_NW_month.png "
     ]
    },
    {
     "name": "stderr",
     "output_type": "stream",
     "text": [
      "100%|█| 2025156/2025156 [00:00<00:00, 9374828.\n"
     ]
    },
    {
     "name": "stdout",
     "output_type": "stream",
     "text": [
      "File: results/gcomc/tsm/GS202111_TSM_NW_month.nc "
     ]
    },
    {
     "name": "stderr",
     "output_type": "stream",
     "text": [
      "100%|█| 133339734/133339734 [00:13<00:00, 1018\n"
     ]
    },
    {
     "name": "stdout",
     "output_type": "stream",
     "text": [
      "File: results/gcomc/tsm/GS202111_TSM_NW_month.png "
     ]
    },
    {
     "name": "stderr",
     "output_type": "stream",
     "text": [
      "100%|█| 2444517/2444517 [00:00<00:00, 7910459.\n"
     ]
    },
    {
     "name": "stdout",
     "output_type": "stream",
     "text": [
      "File: results/gcomc/tsm/GS202112_TSM_NW_month.nc "
     ]
    },
    {
     "name": "stderr",
     "output_type": "stream",
     "text": [
      "100%|█| 124884274/124884274 [00:12<00:00, 1026\n"
     ]
    },
    {
     "name": "stdout",
     "output_type": "stream",
     "text": [
      "File: results/gcomc/tsm/GS202112_TSM_NW_month.png "
     ]
    },
    {
     "name": "stderr",
     "output_type": "stream",
     "text": [
      "100%|█| 2215863/2215863 [00:00<00:00, 7028441.\n"
     ]
    },
    {
     "name": "stdout",
     "output_type": "stream",
     "text": [
      "2022...\n",
      "File: results/gcomc/tsm/GS202201_TSM_NW_month.nc "
     ]
    },
    {
     "name": "stderr",
     "output_type": "stream",
     "text": [
      "100%|█| 120436332/120436332 [00:11<00:00, 1012\n"
     ]
    },
    {
     "name": "stdout",
     "output_type": "stream",
     "text": [
      "File: results/gcomc/tsm/GS202201_TSM_NW_month.png "
     ]
    },
    {
     "name": "stderr",
     "output_type": "stream",
     "text": [
      "100%|█| 2601512/2601512 [00:00<00:00, 8323612.\n"
     ]
    },
    {
     "name": "stdout",
     "output_type": "stream",
     "text": [
      "File: results/gcomc/tsm/GS202202_TSM_NW_month.nc "
     ]
    },
    {
     "name": "stderr",
     "output_type": "stream",
     "text": [
      "100%|█| 124059092/124059092 [00:12<00:00, 1028\n"
     ]
    },
    {
     "name": "stdout",
     "output_type": "stream",
     "text": [
      "File: results/gcomc/tsm/GS202202_TSM_NW_month.png "
     ]
    },
    {
     "name": "stderr",
     "output_type": "stream",
     "text": [
      "100%|█| 2104088/2104088 [00:00<00:00, 6921686.\n"
     ]
    },
    {
     "name": "stdout",
     "output_type": "stream",
     "text": [
      "File: results/gcomc/tsm/GS202203_TSM_NW_month.nc "
     ]
    },
    {
     "name": "stderr",
     "output_type": "stream",
     "text": [
      "100%|█| 123099709/123099709 [00:11<00:00, 1028\n"
     ]
    },
    {
     "name": "stdout",
     "output_type": "stream",
     "text": [
      "File: results/gcomc/tsm/GS202203_TSM_NW_month.png "
     ]
    },
    {
     "name": "stderr",
     "output_type": "stream",
     "text": [
      "100%|█| 2100143/2100143 [00:00<00:00, 6816486.\n"
     ]
    },
    {
     "name": "stdout",
     "output_type": "stream",
     "text": [
      "File: results/gcomc/tsm/GS202204_TSM_NW_month.nc "
     ]
    },
    {
     "name": "stderr",
     "output_type": "stream",
     "text": [
      "100%|█| 124369449/124369449 [00:12<00:00, 1029\n"
     ]
    },
    {
     "name": "stdout",
     "output_type": "stream",
     "text": [
      "File: results/gcomc/tsm/GS202204_TSM_NW_month.png "
     ]
    },
    {
     "name": "stderr",
     "output_type": "stream",
     "text": [
      "100%|█| 1937355/1937355 [00:00<00:00, 8960647.\n"
     ]
    },
    {
     "name": "stdout",
     "output_type": "stream",
     "text": [
      "File: results/gcomc/tsm/GS202205_TSM_NW_month.nc "
     ]
    },
    {
     "name": "stderr",
     "output_type": "stream",
     "text": [
      "100%|█| 128473659/128473659 [00:12<00:00, 1030\n"
     ]
    },
    {
     "name": "stdout",
     "output_type": "stream",
     "text": [
      "File: results/gcomc/tsm/GS202205_TSM_NW_month.png "
     ]
    },
    {
     "name": "stderr",
     "output_type": "stream",
     "text": [
      "100%|█| 1892944/1892944 [00:00<00:00, 8737951.\n"
     ]
    },
    {
     "name": "stdout",
     "output_type": "stream",
     "text": [
      "File: results/gcomc/tsm/GS202206_TSM_NW_month.nc "
     ]
    },
    {
     "name": "stderr",
     "output_type": "stream",
     "text": [
      "100%|█| 125255917/125255917 [00:12<00:00, 1030\n"
     ]
    },
    {
     "name": "stdout",
     "output_type": "stream",
     "text": [
      "File: results/gcomc/tsm/GS202206_TSM_NW_month.png "
     ]
    },
    {
     "name": "stderr",
     "output_type": "stream",
     "text": [
      "100%|█| 1982749/1982749 [00:00<00:00, 9182329.\n"
     ]
    },
    {
     "name": "stdout",
     "output_type": "stream",
     "text": [
      "File: results/gcomc/tsm/GS202207_TSM_NW_month.nc "
     ]
    },
    {
     "name": "stderr",
     "output_type": "stream",
     "text": [
      "100%|█| 128692319/128692319 [00:12<00:00, 1032\n"
     ]
    },
    {
     "name": "stdout",
     "output_type": "stream",
     "text": [
      "File: results/gcomc/tsm/GS202207_TSM_NW_month.png "
     ]
    },
    {
     "name": "stderr",
     "output_type": "stream",
     "text": [
      "100%|█| 2108344/2108344 [00:00<00:00, 6843114.\n"
     ]
    },
    {
     "name": "stdout",
     "output_type": "stream",
     "text": [
      "File: results/gcomc/tsm/GS202208_TSM_NW_month.nc "
     ]
    },
    {
     "name": "stderr",
     "output_type": "stream",
     "text": [
      "100%|█| 132024661/132024661 [00:13<00:00, 1014\n"
     ]
    },
    {
     "name": "stdout",
     "output_type": "stream",
     "text": [
      "File: results/gcomc/tsm/GS202208_TSM_NW_month.png "
     ]
    },
    {
     "name": "stderr",
     "output_type": "stream",
     "text": [
      "100%|█| 1977898/1977898 [00:00<00:00, 9352230.\n"
     ]
    },
    {
     "name": "stdout",
     "output_type": "stream",
     "text": [
      "File: results/gcomc/tsm/GS202209_TSM_NW_month.nc "
     ]
    },
    {
     "name": "stderr",
     "output_type": "stream",
     "text": [
      "100%|█| 130631368/130631368 [00:12<00:00, 1030\n"
     ]
    },
    {
     "name": "stdout",
     "output_type": "stream",
     "text": [
      "File: results/gcomc/tsm/GS202209_TSM_NW_month.png "
     ]
    },
    {
     "name": "stderr",
     "output_type": "stream",
     "text": [
      "100%|█| 2009174/2009174 [00:00<00:00, 9751010.\n"
     ]
    },
    {
     "name": "stdout",
     "output_type": "stream",
     "text": [
      "File: results/gcomc/tsm/GS202210_TSM_NW_month.nc "
     ]
    },
    {
     "name": "stderr",
     "output_type": "stream",
     "text": [
      "100%|█| 130519810/130519810 [00:12<00:00, 1029\n"
     ]
    },
    {
     "name": "stdout",
     "output_type": "stream",
     "text": [
      "File: results/gcomc/tsm/GS202210_TSM_NW_month.png "
     ]
    },
    {
     "name": "stderr",
     "output_type": "stream",
     "text": [
      "100%|█| 2080238/2080238 [00:00<00:00, 10171876\n"
     ]
    },
    {
     "name": "stdout",
     "output_type": "stream",
     "text": [
      "File: results/gcomc/tsm/GS202211_TSM_NW_month.nc "
     ]
    },
    {
     "name": "stderr",
     "output_type": "stream",
     "text": [
      "100%|█| 128162590/128162590 [00:12<00:00, 1027\n"
     ]
    },
    {
     "name": "stdout",
     "output_type": "stream",
     "text": [
      "File: results/gcomc/tsm/GS202211_TSM_NW_month.png "
     ]
    },
    {
     "name": "stderr",
     "output_type": "stream",
     "text": [
      "100%|█| 2196343/2196343 [00:00<00:00, 6922021.\n"
     ]
    },
    {
     "name": "stdout",
     "output_type": "stream",
     "text": [
      "File: results/gcomc/tsm/GS202212_TSM_NW_month.nc "
     ]
    },
    {
     "name": "stderr",
     "output_type": "stream",
     "text": [
      "100%|█| 98253540/98253540 [00:09<00:00, 103063\n"
     ]
    },
    {
     "name": "stdout",
     "output_type": "stream",
     "text": [
      "File: results/gcomc/tsm/GS202212_TSM_NW_month.png "
     ]
    },
    {
     "name": "stderr",
     "output_type": "stream",
     "text": [
      "100%|█| 2740838/2740838 [00:00<00:00, 8829808.\n"
     ]
    },
    {
     "name": "stdout",
     "output_type": "stream",
     "text": [
      "2023...\n",
      "File: results/gcomc/tsm/GS202301_TSM_NW_month.nc "
     ]
    },
    {
     "name": "stderr",
     "output_type": "stream",
     "text": [
      "100%|█| 104880518/104880518 [00:10<00:00, 1024\n"
     ]
    },
    {
     "name": "stdout",
     "output_type": "stream",
     "text": [
      "File: results/gcomc/tsm/GS202301_TSM_NW_month.png "
     ]
    },
    {
     "name": "stderr",
     "output_type": "stream",
     "text": [
      "100%|█| 2575062/2575062 [00:00<00:00, 8228295.\n"
     ]
    },
    {
     "name": "stdout",
     "output_type": "stream",
     "text": [
      "File: results/gcomc/tsm/GS202302_TSM_NW_month.nc "
     ]
    },
    {
     "name": "stderr",
     "output_type": "stream",
     "text": [
      "100%|█| 113157019/113157019 [00:10<00:00, 1032\n"
     ]
    },
    {
     "name": "stdout",
     "output_type": "stream",
     "text": [
      "File: results/gcomc/tsm/GS202302_TSM_NW_month.png "
     ]
    },
    {
     "name": "stderr",
     "output_type": "stream",
     "text": [
      "100%|█| 2358328/2358328 [00:00<00:00, 7632553.\n"
     ]
    },
    {
     "name": "stdout",
     "output_type": "stream",
     "text": [
      "File: results/gcomc/tsm/GS202303_TSM_NW_month.nc "
     ]
    },
    {
     "name": "stderr",
     "output_type": "stream",
     "text": [
      "100%|█| 124923733/124923733 [00:12<00:00, 1026\n"
     ]
    },
    {
     "name": "stdout",
     "output_type": "stream",
     "text": [
      "File: results/gcomc/tsm/GS202303_TSM_NW_month.png "
     ]
    },
    {
     "name": "stderr",
     "output_type": "stream",
     "text": [
      "100%|█| 2021647/2021647 [00:00<00:00, 9328244.\n"
     ]
    },
    {
     "name": "stdout",
     "output_type": "stream",
     "text": [
      "File: results/gcomc/tsm/GS202304_TSM_NW_month.nc "
     ]
    },
    {
     "name": "stderr",
     "output_type": "stream",
     "text": [
      "100%|█| 126643606/126643606 [00:12<00:00, 1032\n"
     ]
    },
    {
     "name": "stdout",
     "output_type": "stream",
     "text": [
      "File: results/gcomc/tsm/GS202304_TSM_NW_month.png "
     ]
    },
    {
     "name": "stderr",
     "output_type": "stream",
     "text": [
      "100%|█| 1998778/1998778 [00:00<00:00, 9694498.\n"
     ]
    },
    {
     "name": "stdout",
     "output_type": "stream",
     "text": [
      "File: results/gcomc/tsm/GS202305_TSM_NW_month.nc "
     ]
    },
    {
     "name": "stderr",
     "output_type": "stream",
     "text": [
      "100%|█| 128469583/128469583 [00:12<00:00, 1030\n"
     ]
    },
    {
     "name": "stdout",
     "output_type": "stream",
     "text": [
      "File: results/gcomc/tsm/GS202305_TSM_NW_month.png "
     ]
    },
    {
     "name": "stderr",
     "output_type": "stream",
     "text": [
      "100%|█| 1900245/1900245 [00:00<00:00, 9324876.\n"
     ]
    },
    {
     "name": "stdout",
     "output_type": "stream",
     "text": [
      "File: results/gcomc/tsm/GS202306_TSM_NW_month.nc "
     ]
    },
    {
     "name": "stderr",
     "output_type": "stream",
     "text": [
      "100%|█| 130465941/130465941 [00:12<00:00, 1027\n"
     ]
    },
    {
     "name": "stdout",
     "output_type": "stream",
     "text": [
      "File: results/gcomc/tsm/GS202306_TSM_NW_month.png "
     ]
    },
    {
     "name": "stderr",
     "output_type": "stream",
     "text": [
      "100%|█| 1850006/1850006 [00:00<00:00, 8613221.\n"
     ]
    },
    {
     "name": "stdout",
     "output_type": "stream",
     "text": [
      "File: results/gcomc/tsm/GS202307_TSM_NW_month.nc "
     ]
    },
    {
     "name": "stderr",
     "output_type": "stream",
     "text": [
      "100%|█| 130709334/130709334 [00:12<00:00, 1032\n"
     ]
    },
    {
     "name": "stdout",
     "output_type": "stream",
     "text": [
      "File: results/gcomc/tsm/GS202307_TSM_NW_month.png "
     ]
    },
    {
     "name": "stderr",
     "output_type": "stream",
     "text": [
      "100%|█| 1986250/1986250 [00:00<00:00, 9404200.\n"
     ]
    },
    {
     "name": "stdout",
     "output_type": "stream",
     "text": [
      "File: results/gcomc/tsm/GS202308_TSM_NW_month.nc "
     ]
    },
    {
     "name": "stderr",
     "output_type": "stream",
     "text": [
      "100%|█| 133484274/133484274 [00:12<00:00, 1028\n"
     ]
    },
    {
     "name": "stdout",
     "output_type": "stream",
     "text": [
      "File: results/gcomc/tsm/GS202308_TSM_NW_month.png "
     ]
    },
    {
     "name": "stderr",
     "output_type": "stream",
     "text": [
      "100%|█| 1816199/1816199 [00:00<00:00, 8852725.\n"
     ]
    },
    {
     "name": "stdout",
     "output_type": "stream",
     "text": [
      "File: results/gcomc/tsm/GS202309_TSM_NW_month.nc "
     ]
    },
    {
     "name": "stderr",
     "output_type": "stream",
     "text": [
      "100%|█| 131435940/131435940 [00:12<00:00, 1029\n"
     ]
    },
    {
     "name": "stdout",
     "output_type": "stream",
     "text": [
      "File: results/gcomc/tsm/GS202309_TSM_NW_month.png "
     ]
    },
    {
     "name": "stderr",
     "output_type": "stream",
     "text": [
      "100%|█| 1889099/1889099 [00:00<00:00, 8920339.\n"
     ]
    },
    {
     "name": "stdout",
     "output_type": "stream",
     "text": [
      "GS202310_TSM_NW_month.nc: FileNotFound\n",
      "GS202310_TSM_NW_month.png: FileNotFound\n",
      "GS202311_TSM_NW_month.nc: FileNotFound\n",
      "GS202311_TSM_NW_month.png: FileNotFound\n",
      "GS202312_TSM_NW_month.nc: FileNotFound\n",
      "GS202312_TSM_NW_month.png: FileNotFound\n",
      "2024...\n",
      "GS202401_TSM_NW_month.nc: FileNotFound\n",
      "GS202401_TSM_NW_month.png: FileNotFound\n",
      "GS202402_TSM_NW_month.nc: FileNotFound\n",
      "GS202402_TSM_NW_month.png: FileNotFound\n",
      "GS202403_TSM_NW_month.nc: FileNotFound\n",
      "GS202403_TSM_NW_month.png: FileNotFound\n",
      "GS202404_TSM_NW_month.nc: FileNotFound\n",
      "GS202404_TSM_NW_month.png: FileNotFound\n",
      "GS202405_TSM_NW_month.nc: FileNotFound\n",
      "GS202405_TSM_NW_month.png: FileNotFound\n",
      "GS202406_TSM_NW_month.nc: FileNotFound\n",
      "GS202406_TSM_NW_month.png: FileNotFound\n",
      "GS202407_TSM_NW_month.nc: FileNotFound\n",
      "GS202407_TSM_NW_month.png: FileNotFound\n",
      "GS202408_TSM_NW_month.nc: FileNotFound\n",
      "GS202408_TSM_NW_month.png: FileNotFound\n",
      "GS202409_TSM_NW_month.nc: FileNotFound\n",
      "GS202409_TSM_NW_month.png: FileNotFound\n",
      "GS202410_TSM_NW_month.nc: FileNotFound\n",
      "GS202410_TSM_NW_month.png: FileNotFound\n",
      "GS202411_TSM_NW_month.nc: FileNotFound\n",
      "GS202411_TSM_NW_month.png: FileNotFound\n",
      "GS202412_TSM_NW_month.nc: FileNotFound\n",
      "GS202412_TSM_NW_month.png: FileNotFound\n",
      "done!\n"
     ]
    }
   ],
   "source": [
    "# Now retrieve the data from NMEW\n",
    "for year in range(ys, ye):\n",
    "    print(f'{year}...')\n",
    "    if comp in ('day', 'month'):\n",
    "        for query in daymonth_filegen():\n",
    "            # ----------------------\n",
    "            get_file(query_url=query)\n",
    "            # ----------------------\n",
    "            \n",
    "    if comp == 'year':\n",
    "        ncfile = f'{init}{year}_{var}_{sba}_{comp}.nc'\n",
    "        query = url.format(filetype='netcdf', subarea=sba, year=year, filename=ncfile)\n",
    "        # ----------------------\n",
    "        get_file(query_url=query)\n",
    "        # ----------------------\n",
    "\n",
    "        pngfile = f'{init}{year}_{var}_{sba}_{comp}.png'\n",
    "        query = url.format(filetype='images', subarea=sba, year=year, filename=pngfile)\n",
    "        # ----------------------\n",
    "        get_file(query_url=query)\n",
    "        # ----------------------\n",
    "\n",
    "print('done!')"
   ]
  },
  {
   "cell_type": "code",
   "execution_count": null,
   "metadata": {},
   "outputs": [],
   "source": []
  }
 ],
 "metadata": {
  "celltoolbar": "Slideshow",
  "kernelspec": {
   "display_name": "Python 3 (ipykernel)",
   "language": "python",
   "name": "python3"
  },
  "language_info": {
   "codemirror_mode": {
    "name": "ipython",
    "version": 3
   },
   "file_extension": ".py",
   "mimetype": "text/x-python",
   "name": "python",
   "nbconvert_exporter": "python",
   "pygments_lexer": "ipython3",
   "version": "3.11.4"
  }
 },
 "nbformat": 4,
 "nbformat_minor": 4
}
