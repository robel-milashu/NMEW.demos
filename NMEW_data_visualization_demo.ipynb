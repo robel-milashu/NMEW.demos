{
 "cells": [
  {
   "cell_type": "code",
   "execution_count": 11,
   "metadata": {
    "slideshow": {
     "slide_type": "slide"
    }
   },
   "outputs": [],
   "source": [
    "import numpy as np\n",
    "\n",
    "from matplotlib import pyplot as plot, colors\n",
    "%matplotlib inline\n",
    "\n",
    "from mpl_toolkits import basemap\n",
    "from netCDF4 import Dataset, num2date"
   ]
  },
  {
   "cell_type": "code",
   "execution_count": 18,
   "metadata": {
    "slideshow": {
     "slide_type": "slide"
    }
   },
   "outputs": [],
   "source": [
    "# Input file and data visualization settings\n",
    "file = 'A202209_CHL_NW_month.nc'\n",
    "varname = 'chlor_a'\n",
    "font_size = 20\n",
    "cmin, cmax = 0.01, 100\n",
    "# for CHL we use lognorm\n",
    "norm = colors.LogNorm(cmin, cmax)\n",
    "# update the size of figure labels\n",
    "plot.rcParams.update({'font.size': font_size})"
   ]
  },
  {
   "cell_type": "code",
   "execution_count": 19,
   "metadata": {
    "slideshow": {
     "slide_type": "slide"
    }
   },
   "outputs": [
    {
     "ename": "FileNotFoundError",
     "evalue": "[Errno 2] No such file or directory: 'A202209_CHL_NW_month.nc'",
     "output_type": "error",
     "traceback": [
      "\u001b[1;31m---------------------------------------------------------------------------\u001b[0m",
      "\u001b[1;31mFileNotFoundError\u001b[0m                         Traceback (most recent call last)",
      "Cell \u001b[1;32mIn[19], line 2\u001b[0m\n\u001b[0;32m      1\u001b[0m \u001b[38;5;66;03m# Read the dataset and geo-ref data\u001b[39;00m\n\u001b[1;32m----> 2\u001b[0m \u001b[38;5;28;01mwith\u001b[39;00m \u001b[43mDataset\u001b[49m\u001b[43m(\u001b[49m\u001b[43mfile\u001b[49m\u001b[43m,\u001b[49m\u001b[43m \u001b[49m\u001b[38;5;124;43m'\u001b[39;49m\u001b[38;5;124;43mr\u001b[39;49m\u001b[38;5;124;43m'\u001b[39;49m\u001b[43m)\u001b[49m \u001b[38;5;28;01mas\u001b[39;00m nc:\n\u001b[0;32m      3\u001b[0m     sds \u001b[38;5;241m=\u001b[39m nc[varname][:] \u001b[38;5;66;03m# the output is a numpy masked array\u001b[39;00m\n\u001b[0;32m      4\u001b[0m     sds \u001b[38;5;241m=\u001b[39m np\u001b[38;5;241m.\u001b[39mma\u001b[38;5;241m.\u001b[39msqueeze(sds) \u001b[38;5;66;03m# remove singleton dimensions\u001b[39;00m\n",
      "File \u001b[1;32msrc\\\\netCDF4\\\\_netCDF4.pyx:2469\u001b[0m, in \u001b[0;36mnetCDF4._netCDF4.Dataset.__init__\u001b[1;34m()\u001b[0m\n",
      "File \u001b[1;32msrc\\\\netCDF4\\\\_netCDF4.pyx:2028\u001b[0m, in \u001b[0;36mnetCDF4._netCDF4._ensure_nc_success\u001b[1;34m()\u001b[0m\n",
      "\u001b[1;31mFileNotFoundError\u001b[0m: [Errno 2] No such file or directory: 'A202209_CHL_NW_month.nc'"
     ]
    }
   ],
   "source": [
    "# Read the dataset and geo-ref data\n",
    "with Dataset(file, 'r') as nc:\n",
    "    sds = nc[varname][:] # the output is a numpy masked array\n",
    "    sds = np.ma.squeeze(sds) # remove singleton dimensions\n",
    "    label = nc[varname].units.replace('^-3', '$^{-3}$')\n",
    "    lat = nc['lat'][:]\n",
    "    lon = nc['lon'][:]\n",
    "    time = num2date(nc['time'][:], \n",
    "                    units=nc['time'].units,\n",
    "                    calendar=nc['time'].calendar)\n",
    "    label = nc[varname].long_name.split(',')[0] + f' [{label}]'"
   ]
  },
  {
   "cell_type": "code",
   "execution_count": null,
   "metadata": {
    "slideshow": {
     "slide_type": "slide"
    }
   },
   "outputs": [],
   "source": [
    "# Visualisation with out basemap\n",
    "plot.figure(figsize=(10, 10))\n",
    "# figure bounds\n",
    "extent = [lon.min(), lon.max(), lat.min(), lat.max()]\n",
    "\n",
    "# Land mask\n",
    "mask = np.where(~sds.mask, np.nan, 0)\n",
    "plot.imshow(mask, cmap='gray', vmin=-1, vmax=1, extent=extent)\n",
    "\n",
    "# Data \n",
    "ims = plot.imshow(sds, cmap='jet', vmin=cmin, vmax=cmax, extent=extent, norm=norm)\n",
    "\n",
    "# Figure labels\n",
    "plot.xlabel('Longitude [$^\\mathregular{o}$E]')\n",
    "plot.ylabel('Latitude [$^\\mathregular{o}$N]')\n",
    "plot.yticks(range(30, 50, 5))\n",
    "plot.title(time[0].strftime('%b %Y'))\n",
    "\n",
    "# Colourbar\n",
    "plot.colorbar(ims, orientation='horizontal', aspect=20, label=label, format='%g')\n",
    "\n",
    "# save to file\n",
    "svf = f'{file[:-3]}.png'\n",
    "plot.savefig(svf, dpi=300)\n",
    "\n",
    "# close\n",
    "# plot.close()"
   ]
  },
  {
   "cell_type": "code",
   "execution_count": null,
   "metadata": {
    "slideshow": {
     "slide_type": "slide"
    }
   },
   "outputs": [],
   "source": [
    "# Visualisation with basemap\n",
    "if len(lon.shape) == 1:\n",
    "    lon, lat = np.meshgrid(lon, lat)\n",
    "lon_0, lat_0 = (lon.min() + lon.max()) / 2, (lat.min() + lat.max()) / 2\n",
    "m = basemap.Basemap(llcrnrlon=lon.min(), llcrnrlat=lat.min(), \n",
    "                    urcrnrlon=lon.max(), urcrnrlat=lat.max(), resolution='i', \n",
    "                    lon_0=lon_0, lat_0=lat_0, projection='merc')\n",
    "# optional, to change the figure size\n",
    "fig = plot.figure(figsize=(10, 10 * m.aspect))\n",
    "ax = fig.add_axes([0.08, 0.1, 0.7, 0.7], facecolor='white') \n",
    "\n",
    "mx, my = m(lon, lat)\n",
    "pm = m.pcolormesh(mx, my, sds, norm=norm, cmap=plot.cm.jet)\n",
    "plot.title(time[0].strftime('%b %Y'))\n",
    "\n",
    "# colourbar with axes set to match figure size\n",
    "cax = plot.axes([0.8, 0.1, 0.03, 0.7]) # setup colorbar axes\n",
    "cb = plot.colorbar(pm, label=label, cax=cax, format='%g') # draw colorbar\n",
    "cb.ax.tick_params(width=2, length=4)\n",
    "\n",
    "plot.sca(ax)  # make the original axes current again\n",
    "plot.clim(cmin, cmax)\n",
    "\n",
    "m.drawparallels(range(30, 50, 5), labels=[True, False, False, False])\n",
    "m.drawmeridians(range(120, 150, 10), labels=[0, 0, 0, 1])\n",
    "m.fillcontinents(lake_color='black')  # Fill the continents ',\n",
    "m.drawmapboundary(fill_color='black')  # Fill the globe with a blue color\n",
    "m.drawcoastlines()\n",
    "            \n",
    "# to visualise\n",
    "plot.show()"
   ]
  },
  {
   "cell_type": "code",
   "execution_count": null,
   "metadata": {},
   "outputs": [],
   "source": []
  }
 ],
 "metadata": {
  "celltoolbar": "Slideshow",
  "kernelspec": {
   "display_name": "Python 3 (ipykernel)",
   "language": "python",
   "name": "python3"
  },
  "language_info": {
   "codemirror_mode": {
    "name": "ipython",
    "version": 3
   },
   "file_extension": ".py",
   "mimetype": "text/x-python",
   "name": "python",
   "nbconvert_exporter": "python",
   "pygments_lexer": "ipython3",
   "version": "3.11.4"
  }
 },
 "nbformat": 4,
 "nbformat_minor": 4
}
